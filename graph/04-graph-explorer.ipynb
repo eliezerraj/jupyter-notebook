{
 "cells": [
  {
   "cell_type": "code",
   "execution_count": 245,
   "id": "77dcf916-3cac-427e-9270-413e48fe478c",
   "metadata": {
    "tags": []
   },
   "outputs": [
    {
     "name": "stdout",
     "output_type": "stream",
     "text": [
      "4.4.2\n"
     ]
    }
   ],
   "source": [
    "graph_notebook_version"
   ]
  },
  {
   "cell_type": "code",
   "execution_count": 246,
   "id": "29a82470-2fcb-47e7-bdd8-2c7d3f3a932e",
   "metadata": {
    "tags": []
   },
   "outputs": [
    {
     "name": "stdout",
     "output_type": "stream",
     "text": [
      "set notebook config to:\n",
      "{\n",
      "    \"host\": \"127.0.0.1\",\n",
      "    \"port\": 8182,\n",
      "    \"proxy_host\": \"\",\n",
      "    \"proxy_port\": 8182,\n",
      "    \"ssl\": false,\n",
      "    \"ssl_verify\": true,\n",
      "    \"sparql\": {\n",
      "        \"path\": \"\"\n",
      "    },\n",
      "    \"gremlin\": {\n",
      "        \"traversal_source\": \"g\",\n",
      "        \"username\": \"\",\n",
      "        \"password\": \"\",\n",
      "        \"message_serializer\": \"graphsonv3\"\n",
      "    },\n",
      "    \"neo4j\": {\n",
      "        \"username\": \"neo4j\",\n",
      "        \"password\": \"password\",\n",
      "        \"auth\": true,\n",
      "        \"database\": null\n",
      "    }\n",
      "}\n"
     ]
    },
    {
     "data": {
      "text/plain": [
       "<graph_notebook.configuration.generate_config.Configuration at 0x7f2141b0b2e0>"
      ]
     },
     "execution_count": 246,
     "metadata": {},
     "output_type": "execute_result"
    }
   ],
   "source": [
    "%%graph_notebook_config\n",
    "{\n",
    "  \"host\": \"127.0.0.1\",\n",
    "  \"port\": 8182,\n",
    "  \"ssl\": false,\n",
    "  \"gremlin\": {\n",
    "    \"traversal_source\": \"g\",\n",
    "    \"username\": \"\",\n",
    "    \"password\": \"\",\n",
    "    \"message_serializer\": \"graphsonv3\"\n",
    "  }\n",
    "}"
   ]
  },
  {
   "cell_type": "markdown",
   "id": "606b6167-dacc-4b87-badc-57355511ccba",
   "metadata": {},
   "source": [
    "# Delete data"
   ]
  },
  {
   "cell_type": "code",
   "execution_count": 247,
   "id": "b9b688a7-4323-48c0-9340-fda8a4f5f4fc",
   "metadata": {
    "tags": []
   },
   "outputs": [
    {
     "data": {
      "application/vnd.jupyter.widget-view+json": {
       "model_id": "e679566d481b42be90ee5b9926e23d4f",
       "version_major": 2,
       "version_minor": 0
      },
      "text/plain": [
       "Tab(children=(Output(layout=Layout(max_height='600px', max_width='940px', overflow='scroll')), Output(layout=L…"
      ]
     },
     "metadata": {},
     "output_type": "display_data"
    }
   ],
   "source": [
    "%%gremlin\n",
    "\n",
    "g.V().hasLabel('terminal').drop().iterate();\n",
    "g.V().hasLabel('merchant').drop().iterate();\n",
    "g.V().hasLabel('payment').drop().iterate();\n",
    "g.V().hasLabel('card').drop().iterate();\n",
    "g.V().hasLabel('account').drop().iterate();\n",
    "g.V().hasLabel('person').drop().iterate();"
   ]
  },
  {
   "cell_type": "markdown",
   "id": "06c112ea-9990-4038-b3cb-5974bb8ab5ce",
   "metadata": {},
   "source": [
    "# Check all Vertex"
   ]
  },
  {
   "cell_type": "code",
   "execution_count": 248,
   "id": "19c79548-c013-4ed5-8507-a50c138ef29a",
   "metadata": {
    "tags": []
   },
   "outputs": [
    {
     "data": {
      "application/vnd.jupyter.widget-view+json": {
       "model_id": "7fcc92f9e7334be68d0626816647b4ba",
       "version_major": 2,
       "version_minor": 0
      },
      "text/plain": [
       "Tab(children=(Output(layout=Layout(max_height='600px', max_width='940px', overflow='scroll')), Output(layout=L…"
      ]
     },
     "metadata": {},
     "output_type": "display_data"
    }
   ],
   "source": [
    "%%gremlin\n",
    "\n",
    "g.V().groupCount().by(label).unfold()"
   ]
  },
  {
   "cell_type": "markdown",
   "id": "c1a0988e-c327-4c2e-8610-51a9d6b8d5bc",
   "metadata": {},
   "source": [
    "# Show all data"
   ]
  },
  {
   "cell_type": "code",
   "execution_count": 249,
   "id": "9b634574-1cd1-43a4-ba4b-25d91cebd9bb",
   "metadata": {
    "tags": []
   },
   "outputs": [
    {
     "data": {
      "application/vnd.jupyter.widget-view+json": {
       "model_id": "a26801cd8a34406e9a334d1b88bae8c0",
       "version_major": 2,
       "version_minor": 0
      },
      "text/plain": [
       "Tab(children=(Output(layout=Layout(max_height='600px', max_width='940px', overflow='scroll')), Force(network=<…"
      ]
     },
     "metadata": {},
     "output_type": "display_data"
    }
   ],
   "source": [
    "%%gremlin\n",
    "\n",
    "g.V().hasLabel('terminal').valueMap(true);"
   ]
  },
  {
   "cell_type": "code",
   "execution_count": 220,
   "id": "e732b8db-7480-4d15-bff8-f2bf91af7175",
   "metadata": {
    "tags": []
   },
   "outputs": [
    {
     "data": {
      "application/vnd.jupyter.widget-view+json": {
       "model_id": "5bc46b08e9d8495eaeec3b361c164f55",
       "version_major": 2,
       "version_minor": 0
      },
      "text/plain": [
       "Tab(children=(Output(layout=Layout(max_height='600px', max_width='940px', overflow='scroll')), Force(network=<…"
      ]
     },
     "metadata": {},
     "output_type": "display_data"
    }
   ],
   "source": [
    "%%gremlin\n",
    "\n",
    "g.V().hasLabel('merchant').valueMap(true);"
   ]
  },
  {
   "cell_type": "code",
   "execution_count": 221,
   "id": "0591829d-7957-4ff4-ac1b-421ec1a8c624",
   "metadata": {
    "tags": []
   },
   "outputs": [
    {
     "data": {
      "application/vnd.jupyter.widget-view+json": {
       "model_id": "46fb22132efb43afb14ebef8d5b61abb",
       "version_major": 2,
       "version_minor": 0
      },
      "text/plain": [
       "Tab(children=(Output(layout=Layout(max_height='600px', max_width='940px', overflow='scroll')), Force(network=<…"
      ]
     },
     "metadata": {},
     "output_type": "display_data"
    }
   ],
   "source": [
    "%%gremlin\n",
    "\n",
    "g.V().hasLabel('person').valueMap(true);"
   ]
  },
  {
   "cell_type": "code",
   "execution_count": 222,
   "id": "73026cbf-f2c5-4d2a-b6d2-090695619f31",
   "metadata": {
    "tags": []
   },
   "outputs": [
    {
     "data": {
      "application/vnd.jupyter.widget-view+json": {
       "model_id": "79d3137d62fe4b8abdfcf4137c337e3e",
       "version_major": 2,
       "version_minor": 0
      },
      "text/plain": [
       "Tab(children=(Output(layout=Layout(max_height='600px', max_width='940px', overflow='scroll')), Force(network=<…"
      ]
     },
     "metadata": {},
     "output_type": "display_data"
    }
   ],
   "source": [
    "%%gremlin\n",
    "\n",
    "g.V().hasLabel('card').valueMap(true);"
   ]
  },
  {
   "cell_type": "code",
   "execution_count": 333,
   "id": "571aeebd-01b0-4b67-a623-62752be92f62",
   "metadata": {
    "tags": []
   },
   "outputs": [
    {
     "data": {
      "application/vnd.jupyter.widget-view+json": {
       "model_id": "83cac8a0b507410c89e4454616767378",
       "version_major": 2,
       "version_minor": 0
      },
      "text/plain": [
       "Tab(children=(Output(layout=Layout(max_height='600px', max_width='940px', overflow='scroll')), Force(network=<…"
      ]
     },
     "metadata": {},
     "output_type": "display_data"
    }
   ],
   "source": [
    "%%gremlin\n",
    "\n",
    "g.V().hasLabel('payment').valueMap(true);"
   ]
  },
  {
   "cell_type": "code",
   "execution_count": 396,
   "id": "9dc5e6ae-0f8e-408e-9a18-571377f098e2",
   "metadata": {
    "tags": []
   },
   "outputs": [
    {
     "data": {
      "application/vnd.jupyter.widget-view+json": {
       "model_id": "97c55e0fc989496e80a6ceedca24cf2b",
       "version_major": 2,
       "version_minor": 0
      },
      "text/plain": [
       "Tab(children=(Output(layout=Layout(max_height='600px', max_width='940px', overflow='scroll')), Output(layout=L…"
      ]
     },
     "metadata": {},
     "output_type": "display_data"
    }
   ],
   "source": [
    "%%gremlin\n",
    "\n",
    "// Sum \n",
    "g.V().hasLabel('payment').\n",
    "    values('amount').\n",
    "    sum()"
   ]
  },
  {
   "cell_type": "code",
   "execution_count": 398,
   "id": "52fc86dd-33f8-4bc7-88ad-171d5f21243c",
   "metadata": {
    "tags": []
   },
   "outputs": [
    {
     "data": {
      "application/vnd.jupyter.widget-view+json": {
       "model_id": "bf03826f0bf24e8789eb3a9873ef42e1",
       "version_major": 2,
       "version_minor": 0
      },
      "text/plain": [
       "Tab(children=(Output(layout=Layout(max_height='600px', max_width='940px', overflow='scroll')), Force(network=<…"
      ]
     },
     "metadata": {},
     "output_type": "display_data"
    }
   ],
   "source": [
    "%%gremlin\n",
    "\n",
    "g.V(1064980).valueMap(true);"
   ]
  },
  {
   "cell_type": "markdown",
   "id": "4437d495-dd21-4c32-aabb-e89d1608915a",
   "metadata": {
    "tags": []
   },
   "source": [
    "# Payment"
   ]
  },
  {
   "cell_type": "code",
   "execution_count": 399,
   "id": "d2d9f7d2-756f-4521-94d3-a33df273485e",
   "metadata": {
    "tags": []
   },
   "outputs": [
    {
     "data": {
      "application/vnd.jupyter.widget-view+json": {
       "model_id": "c6457ecfc2f14ac5b46ad0af4f10097b",
       "version_major": 2,
       "version_minor": 0
      },
      "text/plain": [
       "Tab(children=(Output(layout=Layout(max_height='600px', max_width='940px', overflow='scroll')), Force(network=<…"
      ]
     },
     "metadata": {},
     "output_type": "display_data"
    }
   ],
   "source": [
    "%%gremlin -p v,oute,inv\n",
    "// show terminal and merchant\n",
    "\n",
    "g.V(1064980).outE()\n",
    "            .inV()\n",
    "            .path()\n",
    "            .by(valueMap(true))"
   ]
  },
  {
   "cell_type": "code",
   "execution_count": 400,
   "id": "3d8cb90c-572d-42c3-b049-7ffcf0729ea1",
   "metadata": {
    "tags": []
   },
   "outputs": [
    {
     "data": {
      "application/vnd.jupyter.widget-view+json": {
       "model_id": "0666e48fd18e49b7bf06f1e681825000",
       "version_major": 2,
       "version_minor": 0
      },
      "text/plain": [
       "Tab(children=(Output(layout=Layout(max_height='600px', max_width='940px', overflow='scroll')), Force(network=<…"
      ]
     },
     "metadata": {},
     "output_type": "display_data"
    }
   ],
   "source": [
    "%%gremlin -p v,oute,inv\n",
    "// get the terminal used_at from payment\n",
    "\n",
    "g.V(1064980).outE('used_at')\n",
    "            .inV()\n",
    "            .path()"
   ]
  },
  {
   "cell_type": "code",
   "execution_count": 232,
   "id": "b5527fed-be29-41ae-85f2-2f59f56f2360",
   "metadata": {
    "tags": []
   },
   "outputs": [
    {
     "data": {
      "application/vnd.jupyter.widget-view+json": {
       "model_id": "ff8136226b534905932b53d382635d89",
       "version_major": 2,
       "version_minor": 0
      },
      "text/plain": [
       "Tab(children=(Output(layout=Layout(max_height='600px', max_width='940px', overflow='scroll')), Force(network=<…"
      ]
     },
     "metadata": {},
     "output_type": "display_data"
    }
   ],
   "source": [
    "%%gremlin -p v\n",
    "// get the card did the payment\n",
    "\n",
    "g.V(21672).both('payed')\n",
    "            .path().by(elementMap())"
   ]
  },
  {
   "cell_type": "code",
   "execution_count": 248,
   "id": "af5817ba-0a4d-4c44-8c6a-8359625f22c5",
   "metadata": {
    "tags": []
   },
   "outputs": [
    {
     "data": {
      "application/vnd.jupyter.widget-view+json": {
       "model_id": "ba020d79a430444fa3c5f452d11d5211",
       "version_major": 2,
       "version_minor": 0
      },
      "text/plain": [
       "Tab(children=(Output(layout=Layout(max_height='600px', max_width='940px', overflow='scroll')), Force(network=<…"
      ]
     },
     "metadata": {},
     "output_type": "display_data"
    }
   ],
   "source": [
    "%%gremlin -p v,ine,outv\n",
    "// get the card did the payment and the edge\n",
    "\n",
    "g.V(21672).inE('payed').outV()\n",
    "            .path().by(valueMap(true))"
   ]
  },
  {
   "cell_type": "code",
   "execution_count": 256,
   "id": "85809076-9209-4b36-b300-37453169cd01",
   "metadata": {
    "tags": []
   },
   "outputs": [
    {
     "data": {
      "application/vnd.jupyter.widget-view+json": {
       "model_id": "3e8f43860ddd42c0b16d8211601c8b04",
       "version_major": 2,
       "version_minor": 0
      },
      "text/plain": [
       "Tab(children=(Output(layout=Layout(max_height='600px', max_width='940px', overflow='scroll')), Force(network=<…"
      ]
     },
     "metadata": {},
     "output_type": "display_data"
    }
   ],
   "source": [
    "%%gremlin -p v,ine,outv,ine,outv,ine,outv\n",
    "// get all data reward\n",
    "\n",
    "g.V(21672).inE('payed').outV().inE('issued').outV().inE('has').outV()\n",
    "            .path().by(valueMap(true))"
   ]
  },
  {
   "cell_type": "markdown",
   "id": "b2757126-bc17-4cd9-9da5-4f3c4e46c18b",
   "metadata": {},
   "source": [
    "# Card"
   ]
  },
  {
   "cell_type": "code",
   "execution_count": 387,
   "id": "74e30f4a-989c-4249-8930-ab597beb6f70",
   "metadata": {
    "tags": []
   },
   "outputs": [
    {
     "data": {
      "application/vnd.jupyter.widget-view+json": {
       "model_id": "7157e6476ef242daa634b720be60f968",
       "version_major": 2,
       "version_minor": 0
      },
      "text/plain": [
       "Tab(children=(Output(layout=Layout(max_height='600px', max_width='940px', overflow='scroll')), Force(network=<…"
      ]
     },
     "metadata": {},
     "output_type": "display_data"
    }
   ],
   "source": [
    "%%gremlin -p v,inv,inv,oute,inv\n",
    "// get the all cards (related) and all payment data\n",
    "\n",
    "g.V().has('card_number','111.000.002.213').\n",
    "                        out().\n",
    "                        path().\n",
    "                        by(elementMap())"
   ]
  },
  {
   "cell_type": "code",
   "execution_count": 376,
   "id": "66f3b3db-fadf-4d6f-a7f6-2a4c803277cf",
   "metadata": {
    "tags": []
   },
   "outputs": [
    {
     "data": {
      "application/vnd.jupyter.widget-view+json": {
       "model_id": "df0befc9b9c648cb848a81bc8a491a94",
       "version_major": 2,
       "version_minor": 0
      },
      "text/plain": [
       "Tab(children=(Output(layout=Layout(max_height='600px', max_width='940px', overflow='scroll')), Force(network=<…"
      ]
     },
     "metadata": {},
     "output_type": "display_data"
    }
   ],
   "source": [
    "%%gremlin -p v,inv,oute,inv\n",
    "// get the all payment data\n",
    "\n",
    "g.V().has('card_number','111.000.002.213').\n",
    "                        out().\n",
    "                        path()"
   ]
  },
  {
   "cell_type": "code",
   "execution_count": 343,
   "id": "1ffad587-d2fe-4404-9c4e-841174a5e056",
   "metadata": {
    "tags": []
   },
   "outputs": [
    {
     "data": {
      "application/vnd.jupyter.widget-view+json": {
       "model_id": "01f00ac71ec44ff787358b7d362d1111",
       "version_major": 2,
       "version_minor": 0
      },
      "text/plain": [
       "Tab(children=(Output(layout=Layout(max_height='600px', max_width='940px', overflow='scroll')), Force(network=<…"
      ]
     },
     "metadata": {},
     "output_type": "display_data"
    }
   ],
   "source": [
    "%%gremlin -p v,oute,inv,oute,inv\n",
    "// Show all payment data from a card number\n",
    "\n",
    "g.V().has('card_number','111.000.002.213').\n",
    "                        outE().\n",
    "                        inV().\n",
    "                        path().\n",
    "                        by(valueMap())"
   ]
  },
  {
   "cell_type": "code",
   "execution_count": 344,
   "id": "30feec47-ee71-45e7-a171-69d1f2b12815",
   "metadata": {
    "tags": []
   },
   "outputs": [
    {
     "data": {
      "application/vnd.jupyter.widget-view+json": {
       "model_id": "5e6eaeff58174694a265d76299bf8936",
       "version_major": 2,
       "version_minor": 0
      },
      "text/plain": [
       "Tab(children=(Output(layout=Layout(max_height='600px', max_width='940px', overflow='scroll')), Force(network=<…"
      ]
     },
     "metadata": {},
     "output_type": "display_data"
    }
   ],
   "source": [
    "%%gremlin -p v,oute,inv,oute,inv\n",
    "// Show all payment from a card number\n",
    "\n",
    "g.V().has('card_number','111.000.002.213').\n",
    "                        outE().\n",
    "                        inV().\n",
    "                        path()"
   ]
  },
  {
   "cell_type": "code",
   "execution_count": 346,
   "id": "3f643cd0-3e90-4e03-8ca2-d59eafbef1fb",
   "metadata": {
    "tags": []
   },
   "outputs": [
    {
     "data": {
      "application/vnd.jupyter.widget-view+json": {
       "model_id": "12562ed71cc04a4b875b1bd213d86e63",
       "version_major": 2,
       "version_minor": 0
      },
      "text/plain": [
       "Tab(children=(Output(layout=Layout(max_height='600px', max_width='940px', overflow='scroll')), Force(network=<…"
      ]
     },
     "metadata": {},
     "output_type": "display_data"
    }
   ],
   "source": [
    "%%gremlin -p v,oute,inv,oute,inv\n",
    "// Show all payment/terminal/mcc from a card number\n",
    "\n",
    "g.V().has('card_number','111.000.002.213').\n",
    "                        outE().\n",
    "                        inV().                        \n",
    "                        outE().\n",
    "                        inV().\n",
    "                        path()"
   ]
  },
  {
   "cell_type": "code",
   "execution_count": 373,
   "id": "072d5192-7146-46dd-a1f7-f816c72ae0c0",
   "metadata": {
    "tags": []
   },
   "outputs": [
    {
     "data": {
      "application/vnd.jupyter.widget-view+json": {
       "model_id": "fc2089c95f7d4f28a3450727e8981ec0",
       "version_major": 2,
       "version_minor": 0
      },
      "text/plain": [
       "Tab(children=(Output(layout=Layout(max_height='600px', max_width='940px', overflow='scroll')), Force(network=<…"
      ]
     },
     "metadata": {},
     "output_type": "display_data"
    }
   ],
   "source": [
    "%%gremlin -p v,oute,inv,oute,inv\n",
    "// Rewind CARD to Account to Person\n",
    "\n",
    "g.V().has('card_number','111.000.002.213').\n",
    "                        inE('issued').\n",
    "                        outV().\n",
    "                        inE('has').\n",
    "                        outV().\n",
    "                        path()"
   ]
  },
  {
   "cell_type": "code",
   "execution_count": 379,
   "id": "41e5f450-54a8-4e16-9768-0f763e7a0fdd",
   "metadata": {
    "tags": []
   },
   "outputs": [
    {
     "data": {
      "application/vnd.jupyter.widget-view+json": {
       "model_id": "ad4c353de10248b4887023b164763023",
       "version_major": 2,
       "version_minor": 0
      },
      "text/plain": [
       "Tab(children=(Output(layout=Layout(max_height='600px', max_width='940px', overflow='scroll')), Force(network=<…"
      ]
     },
     "metadata": {},
     "output_type": "display_data"
    }
   ],
   "source": [
    "%%gremlin -p v,oute,inv,oute,inv\n",
    "// Rewind o Account and Forward to Cards again\n",
    "\n",
    "g.V().has('card_number','111.000.002.213').\n",
    "                        inE().outV().\n",
    "                        outE().inV().\n",
    "                        path().\n",
    "                        by(valueMap())"
   ]
  },
  {
   "cell_type": "markdown",
   "id": "09a6676d-bdd2-4e64-93d0-47eb83971051",
   "metadata": {
    "tags": []
   },
   "source": [
    "# Person"
   ]
  },
  {
   "cell_type": "code",
   "execution_count": 328,
   "id": "8da2ea78-a1b7-4e81-af84-615bd6757a59",
   "metadata": {
    "tags": []
   },
   "outputs": [
    {
     "data": {
      "application/vnd.jupyter.widget-view+json": {
       "model_id": "5c7c9171aa20476aaa33abf6db89f51a",
       "version_major": 2,
       "version_minor": 0
      },
      "text/plain": [
       "Tab(children=(Output(layout=Layout(max_height='600px', max_width='940px', overflow='scroll')), Output(layout=L…"
      ]
     },
     "metadata": {},
     "output_type": "display_data"
    }
   ],
   "source": [
    "%%gremlin -p v,oute,inv,oute,inv\n",
    "\n",
    "g.V().has('person_id','P-1927').\n",
    "            valueMap(true)"
   ]
  },
  {
   "cell_type": "code",
   "execution_count": 369,
   "id": "c4ff781f-8a38-4c74-bb9b-4ce6beb349ab",
   "metadata": {
    "tags": []
   },
   "outputs": [
    {
     "data": {
      "application/vnd.jupyter.widget-view+json": {
       "model_id": "be6d2c4f393646668a692979a1a55226",
       "version_major": 2,
       "version_minor": 0
      },
      "text/plain": [
       "Tab(children=(Output(layout=Layout(max_height='600px', max_width='940px', overflow='scroll')), Force(network=<…"
      ]
     },
     "metadata": {},
     "output_type": "display_data"
    }
   ],
   "source": [
    "%%gremlin -p v,oute,inv\n",
    "g.V().hasLabel('person').\n",
    "        outE().\n",
    "        inV().\n",
    "        path().\n",
    "        limit(1)"
   ]
  },
  {
   "cell_type": "code",
   "execution_count": 330,
   "id": "213ffc9d-b455-4637-b331-f2e181f56153",
   "metadata": {
    "tags": []
   },
   "outputs": [
    {
     "data": {
      "application/vnd.jupyter.widget-view+json": {
       "model_id": "e4b05f1750d3456da508a369eefb7bfc",
       "version_major": 2,
       "version_minor": 0
      },
      "text/plain": [
       "Tab(children=(Output(layout=Layout(max_height='600px', max_width='940px', overflow='scroll')), Force(network=<…"
      ]
     },
     "metadata": {},
     "output_type": "display_data"
    }
   ],
   "source": [
    "%%gremlin -p v,oute,inv\n",
    "g.V().hasLabel('person').\n",
    "        outE().\n",
    "        inV().\n",
    "        path().\n",
    "        by(valueMap()).\n",
    "        limit(1)"
   ]
  },
  {
   "cell_type": "code",
   "execution_count": 331,
   "id": "b900c06e-5be0-440f-aee0-a88bba5a80f8",
   "metadata": {
    "tags": []
   },
   "outputs": [
    {
     "data": {
      "application/vnd.jupyter.widget-view+json": {
       "model_id": "5f44109be99c4e8d9ff098a07e55397e",
       "version_major": 2,
       "version_minor": 0
      },
      "text/plain": [
       "Tab(children=(Output(layout=Layout(max_height='600px', max_width='940px', overflow='scroll')), Force(network=<…"
      ]
     },
     "metadata": {},
     "output_type": "display_data"
    }
   ],
   "source": [
    "%%gremlin -p v,oute,inv,oute,inv\n",
    "// Person HAS account and ALL CARDS\n",
    "\n",
    "g.V().has('person_id','P-1927').\n",
    "                outE().inV().\n",
    "                outE().inV().\n",
    "                path().\n",
    "                by(valueMap())"
   ]
  },
  {
   "cell_type": "code",
   "execution_count": 332,
   "id": "0650923e-0bc5-425b-b9a3-0749c1bf9b16",
   "metadata": {
    "tags": []
   },
   "outputs": [
    {
     "data": {
      "application/vnd.jupyter.widget-view+json": {
       "model_id": "a206b35435874bff9626e7525d1b125a",
       "version_major": 2,
       "version_minor": 0
      },
      "text/plain": [
       "Tab(children=(Output(layout=Layout(max_height='600px', max_width='940px', overflow='scroll')), Force(network=<…"
      ]
     },
     "metadata": {},
     "output_type": "display_data"
    }
   ],
   "source": [
    "%%gremlin -p v,oute,inv,oute,inv\n",
    "// Person HAS account and ALL CARDS\n",
    "\n",
    "g.V().has('person_id','P-1927').\n",
    "                outE().inV().\n",
    "                outE().inV().\n",
    "                path()"
   ]
  },
  {
   "cell_type": "code",
   "execution_count": 402,
   "id": "bf13b511-4dcb-4238-ba87-560cc16ee62a",
   "metadata": {
    "tags": []
   },
   "outputs": [
    {
     "data": {
      "application/vnd.jupyter.widget-view+json": {
       "model_id": "1d76928a60ee4887b171b221d84deabb",
       "version_major": 2,
       "version_minor": 0
      },
      "text/plain": [
       "Tab(children=(Output(layout=Layout(max_height='600px', max_width='940px', overflow='scroll')), Force(network=<…"
      ]
     },
     "metadata": {},
     "output_type": "display_data"
    }
   ],
   "source": [
    "%%gremlin -p v,oute,inv,oute,inv,oute,inv,oute,inv\n",
    "\n",
    "g.V().has('person_id','P-1927').\n",
    "                outE().inV().\n",
    "                outE().inV().\n",
    "                outE().inV().\n",
    "                outE().inV().\n",
    "                path()"
   ]
  },
  {
   "cell_type": "code",
   "execution_count": 392,
   "id": "0d351e10-543f-455a-8be8-8b023092cb48",
   "metadata": {
    "tags": []
   },
   "outputs": [
    {
     "data": {
      "application/vnd.jupyter.widget-view+json": {
       "model_id": "49388e60723540b9aca4b5219aa48e5b",
       "version_major": 2,
       "version_minor": 0
      },
      "text/plain": [
       "Tab(children=(Output(layout=Layout(max_height='600px', max_width='940px', overflow='scroll')), Force(network=<…"
      ]
     },
     "metadata": {},
     "output_type": "display_data"
    }
   ],
   "source": [
    "%%gremlin -p v,oute,inv,oute,inv,oute,inv,oute,inv\n",
    "\n",
    "g.V().has('person_id','P-1927').\n",
    "                outE().inV().\n",
    "                outE().inV().\n",
    "                outE('payed').inV().\n",
    "                outE().inV().\n",
    "                path()"
   ]
  },
  {
   "cell_type": "code",
   "execution_count": 393,
   "id": "a919b42a-de71-4032-9780-45ae06fca928",
   "metadata": {
    "tags": []
   },
   "outputs": [
    {
     "data": {
      "application/vnd.jupyter.widget-view+json": {
       "model_id": "c31e2793ce0a489f98c107476222b27a",
       "version_major": 2,
       "version_minor": 0
      },
      "text/plain": [
       "Tab(children=(Output(layout=Layout(max_height='600px', max_width='940px', overflow='scroll')), Force(network=<…"
      ]
     },
     "metadata": {},
     "output_type": "display_data"
    }
   ],
   "source": [
    "%%gremlin -p v,oute,inv,oute,inv,oute,inv,oute,inv\n",
    "\n",
    "g.V().has('person_id','P-1927').\n",
    "                outE().inV().\n",
    "                outE().inV().\n",
    "                outE('payed').inV().\n",
    "                outE().inV().\n",
    "                path().\n",
    "                by(valueMap())"
   ]
  },
  {
   "cell_type": "code",
   "execution_count": 395,
   "id": "959ab845-f8e1-45f4-a6a0-820c1295bb9e",
   "metadata": {
    "tags": []
   },
   "outputs": [
    {
     "data": {
      "application/vnd.jupyter.widget-view+json": {
       "model_id": "34bedb01cf444a9c8f8d955a9933810a",
       "version_major": 2,
       "version_minor": 0
      },
      "text/plain": [
       "Tab(children=(Output(layout=Layout(max_height='600px', max_width='940px', overflow='scroll')), Output(layout=L…"
      ]
     },
     "metadata": {},
     "output_type": "display_data"
    }
   ],
   "source": [
    "%%gremlin -p v,oute,inv,oute,inv\n",
    "\n",
    "g.V(945784).hasLabel('person').\n",
    "                outE().inV().\n",
    "                outE().inV().\n",
    "                //out()\n",
    "                //inV().\n",
    "                //both().\n",
    "                path()\n",
    "                .by(elementMap())"
   ]
  },
  {
   "cell_type": "code",
   "execution_count": 177,
   "id": "d7711281-e81a-440f-b423-898f0c92daa1",
   "metadata": {
    "tags": []
   },
   "outputs": [
    {
     "data": {
      "application/vnd.jupyter.widget-view+json": {
       "model_id": "ab9b0a92e3d3444da3d699f20afc2d4e",
       "version_major": 2,
       "version_minor": 0
      },
      "text/plain": [
       "Tab(children=(Output(layout=Layout(max_height='600px', max_width='940px', overflow='scroll')), Force(network=<…"
      ]
     },
     "metadata": {},
     "output_type": "display_data"
    }
   ],
   "source": [
    "%%gremlin -p v,oute,inv,oute,inv\n",
    "\n",
    "g.V().both().both().both().both().\n",
    "                path().by(elementMap())"
   ]
  },
  {
   "cell_type": "markdown",
   "id": "b673c25d-4e6e-4b8b-a340-18ecaa9d7160",
   "metadata": {},
   "source": [
    "# Terminal"
   ]
  },
  {
   "cell_type": "code",
   "execution_count": 178,
   "id": "d019e349-9e9f-422c-8e65-d1845dc9eb5b",
   "metadata": {
    "tags": []
   },
   "outputs": [
    {
     "data": {
      "application/vnd.jupyter.widget-view+json": {
       "model_id": "7861c223ebc54d76b5b1fa51e0c6d13a",
       "version_major": 2,
       "version_minor": 0
      },
      "text/plain": [
       "Tab(children=(Output(layout=Layout(max_height='600px', max_width='940px', overflow='scroll')), Force(network=<…"
      ]
     },
     "metadata": {},
     "output_type": "display_data"
    }
   ],
   "source": [
    "%%gremlin\n",
    "\n",
    "g.V().hasLabel('terminal').valueMap(true);"
   ]
  },
  {
   "cell_type": "code",
   "execution_count": 179,
   "id": "358dd20d-8fa9-4d2a-a97f-3d3d55860509",
   "metadata": {
    "tags": []
   },
   "outputs": [
    {
     "data": {
      "application/vnd.jupyter.widget-view+json": {
       "model_id": "1fb5bed238c045e3bffde7cc64e18c8e",
       "version_major": 2,
       "version_minor": 0
      },
      "text/plain": [
       "Tab(children=(Output(layout=Layout(max_height='600px', max_width='940px', overflow='scroll')), Output(layout=L…"
      ]
     },
     "metadata": {},
     "output_type": "display_data"
    }
   ],
   "source": [
    "%%gremlin -p v,oute,inv,oute,inv\n",
    "\n",
    "g.V().has('terminal','name','TERM-87').valueMap(true);"
   ]
  },
  {
   "cell_type": "code",
   "execution_count": 182,
   "id": "2ce30f06-3a15-425f-b90d-127f4d943c36",
   "metadata": {
    "tags": []
   },
   "outputs": [
    {
     "data": {
      "application/vnd.jupyter.widget-view+json": {
       "model_id": "cf84777d90fb4875a6bef72a08dc704c",
       "version_major": 2,
       "version_minor": 0
      },
      "text/plain": [
       "Tab(children=(Output(layout=Layout(max_height='600px', max_width='940px', overflow='scroll')), Output(layout=L…"
      ]
     },
     "metadata": {},
     "output_type": "display_data"
    }
   ],
   "source": [
    "%%gremlin -p v,ine,outv,ine,outv,ine,outv,ine,outv\n",
    "\n",
    "g.V().has('terminal','name', eq('TERM-34')).\n",
    "                inE('used_at').\n",
    "                outV().\n",
    "                inE('payed').\n",
    "                outV().\n",
    "                inE('issued').\n",
    "                outV().\n",
    "                inE('has').\n",
    "                outV().\n",
    "                path().by(elementMap())"
   ]
  },
  {
   "cell_type": "code",
   "execution_count": 298,
   "id": "53412908-031a-4fdd-a5ce-94432a734031",
   "metadata": {},
   "outputs": [
    {
     "data": {
      "application/vnd.jupyter.widget-view+json": {
       "model_id": "f0fa543933884a7bb906c26d67cc8e47",
       "version_major": 2,
       "version_minor": 0
      },
      "text/plain": [
       "Tab(children=(Output(layout=Layout(max_height='600px', max_width='940px', overflow='scroll')), Force(network=<…"
      ]
     },
     "metadata": {},
     "output_type": "display_data"
    }
   ],
   "source": [
    "%%gremlin -p v,ine,outv,ine,outv,ine,outv,ine,outv\n",
    "\n",
    "g.V().has('terminal','name', within('TERM-24','TERM-25')).\n",
    "                inE('used_at').\n",
    "                outV().\n",
    "                inE('payed').\n",
    "                outV().\n",
    "                inE('issued').\n",
    "                outV().\n",
    "                inE('has').\n",
    "                outV().\n",
    "                path().by(elementMap())"
   ]
  },
  {
   "cell_type": "code",
   "execution_count": 299,
   "id": "7899c71d-74b8-4627-bfba-917a3c838613",
   "metadata": {
    "tags": []
   },
   "outputs": [
    {
     "data": {
      "application/vnd.jupyter.widget-view+json": {
       "model_id": "c75781137cc842d5846e6564300963f1",
       "version_major": 2,
       "version_minor": 0
      },
      "text/plain": [
       "Tab(children=(Output(layout=Layout(max_height='600px', max_width='940px', overflow='scroll')), Output(layout=L…"
      ]
     },
     "metadata": {},
     "output_type": "display_data"
    }
   ],
   "source": [
    "%%gremlin -p v,ine,outv,ine,outv,ine,outv,ine,outv\n",
    "\n",
    "g.V().has('terminal','name', 'TERM-24').both()"
   ]
  },
  {
   "cell_type": "markdown",
   "id": "cce5b2fe-ba01-476a-8fb0-07df8d46ef63",
   "metadata": {},
   "source": [
    "# Calc"
   ]
  },
  {
   "cell_type": "code",
   "execution_count": 297,
   "id": "cd2a9d7d-fb66-4b38-b22d-13dc85939541",
   "metadata": {
    "tags": []
   },
   "outputs": [
    {
     "data": {
      "application/vnd.jupyter.widget-view+json": {
       "model_id": "4e357dbb6eb04fe790abab89588b4dc6",
       "version_major": 2,
       "version_minor": 0
      },
      "text/plain": [
       "Tab(children=(Output(layout=Layout(max_height='600px', max_width='940px', overflow='scroll')), Output(layout=L…"
      ]
     },
     "metadata": {},
     "output_type": "display_data"
    }
   ],
   "source": [
    "%%gremlin -p v,ine,outv,ine,outv,ine,outv,ine,outv\n",
    "\n",
    "g.V().has('terminal','name', within('TERM-24')).both().toList()"
   ]
  },
  {
   "cell_type": "code",
   "execution_count": 293,
   "id": "f9247b03-220b-4b7a-8eeb-4ef1c225bef4",
   "metadata": {
    "tags": []
   },
   "outputs": [
    {
     "data": {
      "application/vnd.jupyter.widget-view+json": {
       "model_id": "4fb2abf77fe34a3a8a5fb8f169e3fdff",
       "version_major": 2,
       "version_minor": 0
      },
      "text/plain": [
       "Tab(children=(Output(layout=Layout(max_height='600px', max_width='940px', overflow='scroll')), Output(layout=L…"
      ]
     },
     "metadata": {},
     "output_type": "display_data"
    }
   ],
   "source": [
    "%%gremlin -p v,ine,outv,ine,outv,ine,outv,ine,outv\n",
    "\n",
    "g.V().has('terminal','name', within('TERM-24')).both().aggregate('neighbors').both().where(within('neighbors')).dedup().count().next() / 2"
   ]
  },
  {
   "cell_type": "code",
   "execution_count": null,
   "id": "3d1e22a3-63d2-4a12-aaa5-cc9c65439c6d",
   "metadata": {},
   "outputs": [],
   "source": []
  },
  {
   "cell_type": "code",
   "execution_count": null,
   "id": "85c87827-8ff7-4ff8-bcb1-896a9a122d35",
   "metadata": {},
   "outputs": [],
   "source": []
  },
  {
   "cell_type": "markdown",
   "id": "93019005-592c-4716-b77a-ba616bf0b1ae",
   "metadata": {},
   "source": [
    "# trash"
   ]
  },
  {
   "cell_type": "code",
   "execution_count": 161,
   "id": "6df73557-7974-4638-b8d6-44efd8171481",
   "metadata": {
    "tags": []
   },
   "outputs": [
    {
     "data": {
      "application/vnd.jupyter.widget-view+json": {
       "model_id": "ad3eb2f9d63e49b6b6ffc1b04eb3b2d8",
       "version_major": 2,
       "version_minor": 0
      },
      "text/plain": [
       "Tab(children=(Output(layout=Layout(max_height='600px', max_width='940px', overflow='scroll')), Force(network=<…"
      ]
     },
     "metadata": {},
     "output_type": "display_data"
    }
   ],
   "source": [
    "%%gremlin -p v,oute,inv,oute,inv\n",
    "\n",
    "g.V().hasLabel('payment').\n",
    "                outE().\n",
    "                inV().\n",
    "                path().by(elementMap())"
   ]
  },
  {
   "cell_type": "code",
   "execution_count": 19,
   "id": "310f33b3-b58f-4972-bd37-c0980d4001b3",
   "metadata": {
    "tags": []
   },
   "outputs": [
    {
     "data": {
      "application/vnd.jupyter.widget-view+json": {
       "model_id": "642a250d9506471eb7105c0d662135d2",
       "version_major": 2,
       "version_minor": 0
      },
      "text/plain": [
       "Tab(children=(Output(layout=Layout(max_height='600px', max_width='940px', overflow='scroll')), Force(network=<…"
      ]
     },
     "metadata": {},
     "output_type": "display_data"
    }
   ],
   "source": [
    "%%gremlin -p v,oute,inv,oute,inv,oute,inv\n",
    "\n",
    "g.V().hasLabel('person').\n",
    "                outE().\n",
    "                inV().\n",
    "                outE().\n",
    "                inV().\n",
    "                both().\n",
    "                path().by(elementMap())"
   ]
  },
  {
   "cell_type": "code",
   "execution_count": 20,
   "id": "69dde01d-a58c-446a-8249-53af8404a2bb",
   "metadata": {
    "tags": []
   },
   "outputs": [
    {
     "data": {
      "application/vnd.jupyter.widget-view+json": {
       "model_id": "94e4aaa6dfe248da90c71053736f7d0d",
       "version_major": 2,
       "version_minor": 0
      },
      "text/plain": [
       "Tab(children=(Output(layout=Layout(max_height='600px', max_width='940px', overflow='scroll')), Force(network=<…"
      ]
     },
     "metadata": {},
     "output_type": "display_data"
    }
   ],
   "source": [
    "%%gremlin -p v,oute,inv,oute,inv,oute,inv\n",
    "\n",
    "g.V('P-2').hasLabel('person').\n",
    "                outE().\n",
    "                inV().\n",
    "                outE().\n",
    "                inV().\n",
    "                in().\n",
    "                path().by(elementMap())"
   ]
  },
  {
   "cell_type": "code",
   "execution_count": 51,
   "id": "fbda98e3-4460-4a3b-becd-66cb865f8af9",
   "metadata": {
    "tags": []
   },
   "outputs": [
    {
     "data": {
      "application/vnd.jupyter.widget-view+json": {
       "model_id": "b8cb0d153daf468f8d2428ce3f937088",
       "version_major": 2,
       "version_minor": 0
      },
      "text/plain": [
       "Tab(children=(Output(layout=Layout(max_height='600px', max_width='940px', overflow='scroll')), Force(network=<…"
      ]
     },
     "metadata": {},
     "output_type": "display_data"
    }
   ],
   "source": [
    "%%gremlin -p v\n",
    "\n",
    "g.V('111.000.000.051').hasLabel('card').\n",
    "                both().\n",
    "                both().\n",
    "                outE().\n",
    "                inV().\n",
    "                //outE().\n",
    "                //both().\n",
    "                path().by(valueMap(true))"
   ]
  },
  {
   "cell_type": "code",
   "execution_count": null,
   "id": "9385c816-7d3c-4604-9d57-83296344e8cd",
   "metadata": {},
   "outputs": [],
   "source": []
  },
  {
   "cell_type": "code",
   "execution_count": 52,
   "id": "233ca5ba-9f8f-4646-b8e5-c06cf741e250",
   "metadata": {
    "tags": []
   },
   "outputs": [
    {
     "data": {
      "application/vnd.jupyter.widget-view+json": {
       "model_id": "d2a68462f55040209e7a682381eb4f17",
       "version_major": 2,
       "version_minor": 0
      },
      "text/plain": [
       "Tab(children=(Output(layout=Layout(max_height='600px', max_width='940px', overflow='scroll')), Force(network=<…"
      ]
     },
     "metadata": {},
     "output_type": "display_data"
    }
   ],
   "source": [
    "%%gremlin -p v,oute,inv,oute,inv\n",
    "\n",
    "g.V(21672).outE()\n",
    "            .inV()\n",
    "            .path().by(elementMap())"
   ]
  },
  {
   "cell_type": "code",
   "execution_count": 53,
   "id": "ef9dfd2f-6a2b-40ff-8c9d-bc3cbe9538f4",
   "metadata": {
    "tags": []
   },
   "outputs": [
    {
     "data": {
      "application/vnd.jupyter.widget-view+json": {
       "model_id": "3bafdb2b428944dcb020aa56945424cf",
       "version_major": 2,
       "version_minor": 0
      },
      "text/plain": [
       "Tab(children=(Output(layout=Layout(max_height='600px', max_width='940px', overflow='scroll')), Output(layout=L…"
      ]
     },
     "metadata": {},
     "output_type": "display_data"
    }
   ],
   "source": [
    "%%gremlin -p v,oute,inv,oute,inv\n",
    "\n",
    "g.V('111.000.000.051')\n",
    "                .outE()\n",
    "                .inV()\n",
    "                .path().by(elementMap())"
   ]
  },
  {
   "cell_type": "code",
   "execution_count": 54,
   "id": "6e5d0c97-ae9e-41dd-94ad-e4547c6c61b6",
   "metadata": {
    "tags": []
   },
   "outputs": [
    {
     "data": {
      "application/vnd.jupyter.widget-view+json": {
       "model_id": "1802db16859e4af596900ca26afa9da0",
       "version_major": 2,
       "version_minor": 0
      },
      "text/plain": [
       "Tab(children=(Output(layout=Layout(max_height='600px', max_width='940px', overflow='scroll')), Output(layout=L…"
      ]
     },
     "metadata": {},
     "output_type": "display_data"
    }
   ],
   "source": [
    "%%gremlin -p v,oute,inv,oute,inv\n",
    "\n",
    "g.V('111.000.000.051').valueMap(true)"
   ]
  },
  {
   "cell_type": "code",
   "execution_count": 172,
   "id": "ced17e99-9d89-4b9a-84c7-04f0fc03b0dd",
   "metadata": {
    "tags": []
   },
   "outputs": [
    {
     "data": {
      "application/vnd.jupyter.widget-view+json": {
       "model_id": "f0aee20ac8874530b0be2a92b88b16ed",
       "version_major": 2,
       "version_minor": 0
      },
      "text/plain": [
       "Tab(children=(Output(layout=Layout(max_height='600px', max_width='940px', overflow='scroll')), Output(layout=L…"
      ]
     },
     "metadata": {},
     "output_type": "display_data"
    }
   ],
   "source": [
    "%%gremlin -p v,oute,inv,oute,inv\n",
    "\n",
    "g.V('111.000.000.051').in().path()"
   ]
  },
  {
   "cell_type": "code",
   "execution_count": 171,
   "id": "03ea08a3-2c21-412e-ba93-849963142ea3",
   "metadata": {
    "tags": []
   },
   "outputs": [
    {
     "data": {
      "application/vnd.jupyter.widget-view+json": {
       "model_id": "11b39224e73e4df7bc6483fa5eff23b1",
       "version_major": 2,
       "version_minor": 0
      },
      "text/plain": [
       "Tab(children=(Output(layout=Layout(max_height='600px', max_width='940px', overflow='scroll')), Output(layout=L…"
      ]
     },
     "metadata": {},
     "output_type": "display_data"
    }
   ],
   "source": [
    "%%gremlin -p v,oute,inv,oute,inv\n",
    "\n",
    "g.V('111.111.000.051').both()"
   ]
  },
  {
   "cell_type": "code",
   "execution_count": null,
   "id": "98c66264-8950-4156-91e6-64686bd73749",
   "metadata": {},
   "outputs": [],
   "source": []
  },
  {
   "cell_type": "code",
   "execution_count": 155,
   "id": "3664d1b0-7cab-4c32-b661-5239e3eb7def",
   "metadata": {},
   "outputs": [
    {
     "data": {
      "application/vnd.jupyter.widget-view+json": {
       "model_id": "d02e41cfc5784da8b16cdf6eae931da1",
       "version_major": 2,
       "version_minor": 0
      },
      "text/plain": [
       "Tab(children=(Output(layout=Layout(max_height='600px', max_width='940px', overflow='scroll')), Force(network=<…"
      ]
     },
     "metadata": {},
     "output_type": "display_data"
    }
   ],
   "source": [
    "%%gremlin -p v\n",
    "\n",
    "g.V('P-3').outE('has').path().by(elementMap())"
   ]
  },
  {
   "cell_type": "code",
   "execution_count": 166,
   "id": "d66f5e94-2c0d-491b-9bae-4242977a1119",
   "metadata": {
    "tags": []
   },
   "outputs": [
    {
     "data": {
      "application/vnd.jupyter.widget-view+json": {
       "model_id": "b9aa957c2d3d4dbd843aa97a909dc83d",
       "version_major": 2,
       "version_minor": 0
      },
      "text/plain": [
       "Tab(children=(Output(layout=Layout(max_height='600px', max_width='940px', overflow='scroll')), Output(layout=L…"
      ]
     },
     "metadata": {},
     "output_type": "display_data"
    }
   ],
   "source": [
    "%%gremlin -p v\n",
    "\n",
    "g.V('P-3').outE().inV().values('account_id')"
   ]
  },
  {
   "cell_type": "code",
   "execution_count": 4,
   "id": "554a6c7b-bb53-444f-a95e-a0ba01fc0090",
   "metadata": {
    "tags": []
   },
   "outputs": [
    {
     "data": {
      "application/vnd.jupyter.widget-view+json": {
       "model_id": "cc6dbad020094fa89b7632b24d3d9e78",
       "version_major": 2,
       "version_minor": 0
      },
      "text/plain": [
       "Tab(children=(Output(layout=Layout(max_height='600px', max_width='940px', overflow='scroll')), Output(layout=L…"
      ]
     },
     "metadata": {},
     "output_type": "display_data"
    }
   ],
   "source": [
    "%%gremlin -p v\n",
    "\n",
    "g.V('P-59').out().values('account_id')"
   ]
  },
  {
   "cell_type": "code",
   "execution_count": 144,
   "id": "f66b4c37-70e2-4d81-a7c0-95d6d5d69e5c",
   "metadata": {
    "tags": []
   },
   "outputs": [
    {
     "data": {
      "application/vnd.jupyter.widget-view+json": {
       "model_id": "6bb4fce45b114b4e846fdfb445957816",
       "version_major": 2,
       "version_minor": 0
      },
      "text/plain": [
       "Tab(children=(Output(layout=Layout(max_height='600px', max_width='940px', overflow='scroll')), Output(layout=L…"
      ]
     },
     "metadata": {},
     "output_type": "display_data"
    }
   ],
   "source": [
    "%%gremlin -p v\n",
    "\n",
    "g.V('P-509').out()"
   ]
  },
  {
   "cell_type": "code",
   "execution_count": 198,
   "id": "c8f092a3-7e0d-4d0a-b279-ee2d5ddbae0d",
   "metadata": {
    "tags": []
   },
   "outputs": [
    {
     "data": {
      "application/vnd.jupyter.widget-view+json": {
       "model_id": "97ed0af2d80540be875fd3e7c4ddcca3",
       "version_major": 2,
       "version_minor": 0
      },
      "text/plain": [
       "Tab(children=(Output(layout=Layout(max_height='600px', max_width='940px', overflow='scroll')), Output(layout=L…"
      ]
     },
     "metadata": {},
     "output_type": "display_data"
    }
   ],
   "source": [
    "%%gremlin -p v\n",
    "\n",
    "g.V('ACC-1307').out()"
   ]
  },
  {
   "cell_type": "code",
   "execution_count": 237,
   "id": "d9285b53-796e-4cbf-8979-95d54d9ef7d0",
   "metadata": {
    "tags": []
   },
   "outputs": [
    {
     "data": {
      "application/vnd.jupyter.widget-view+json": {
       "model_id": "2efd3819947f450197bc23be2f40a19e",
       "version_major": 2,
       "version_minor": 0
      },
      "text/plain": [
       "Tab(children=(Output(layout=Layout(max_height='600px', max_width='940px', overflow='scroll')), Output(layout=L…"
      ]
     },
     "metadata": {},
     "output_type": "display_data"
    }
   ],
   "source": [
    "%%gremlin -p v\n",
    "\n",
    "g.V('111.000.000.266').inE()"
   ]
  },
  {
   "cell_type": "code",
   "execution_count": 55,
   "id": "3b004896-a932-4314-a5e7-af7871011c49",
   "metadata": {
    "tags": []
   },
   "outputs": [
    {
     "data": {
      "application/vnd.jupyter.widget-view+json": {
       "model_id": "6b9c7d552ea04ef082f00d2638e77862",
       "version_major": 2,
       "version_minor": 0
      },
      "text/plain": [
       "Tab(children=(Output(layout=Layout(max_height='600px', max_width='940px', overflow='scroll')), Force(network=<…"
      ]
     },
     "metadata": {},
     "output_type": "display_data"
    }
   ],
   "source": [
    "%%gremlin -p v,oute,inv,oute,inv\n",
    "\n",
    "g.V().hasLabel('payment').\n",
    "                outE('payed').\n",
    "                inV().\n",
    "                path().by(valueMap(true))"
   ]
  },
  {
   "cell_type": "code",
   "execution_count": null,
   "id": "ad335eb6-0ae8-49f4-9545-418ccf7a07dc",
   "metadata": {},
   "outputs": [],
   "source": []
  }
 ],
 "metadata": {
  "kernelspec": {
   "display_name": "Python 3",
   "language": "python",
   "name": "python3"
  },
  "language_info": {
   "codemirror_mode": {
    "name": "ipython",
    "version": 3
   },
   "file_extension": ".py",
   "mimetype": "text/x-python",
   "name": "python",
   "nbconvert_exporter": "python",
   "pygments_lexer": "ipython3",
   "version": "3.8.10"
  }
 },
 "nbformat": 4,
 "nbformat_minor": 5
}
