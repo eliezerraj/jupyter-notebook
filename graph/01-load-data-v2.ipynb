{
 "cells": [
  {
   "cell_type": "code",
   "execution_count": 2,
   "id": "bbc6b38d-69e7-4ea5-8573-36a3ddb502a6",
   "metadata": {
    "tags": []
   },
   "outputs": [
    {
     "name": "stdout",
     "output_type": "stream",
     "text": [
      "4.2.0\n"
     ]
    }
   ],
   "source": [
    "%graph_notebook_version"
   ]
  },
  {
   "cell_type": "code",
   "execution_count": 3,
   "id": "e67612be-9ebf-4141-8e33-6ebbfa720208",
   "metadata": {
    "tags": []
   },
   "outputs": [
    {
     "name": "stdout",
     "output_type": "stream",
     "text": [
      "set notebook config to:\n",
      "{\n",
      "  \"host\": \"127.0.0.1\",\n",
      "  \"port\": 8182,\n",
      "  \"proxy_host\": \"\",\n",
      "  \"proxy_port\": 8182,\n",
      "  \"ssl\": false,\n",
      "  \"ssl_verify\": true,\n",
      "  \"sparql\": {\n",
      "    \"path\": \"\"\n",
      "  },\n",
      "  \"gremlin\": {\n",
      "    \"traversal_source\": \"g\",\n",
      "    \"username\": \"\",\n",
      "    \"password\": \"\",\n",
      "    \"message_serializer\": \"graphsonv3\"\n",
      "  },\n",
      "  \"neo4j\": {\n",
      "    \"username\": \"neo4j\",\n",
      "    \"password\": \"password\",\n",
      "    \"auth\": true,\n",
      "    \"database\": null\n",
      "  }\n",
      "}\n"
     ]
    },
    {
     "data": {
      "text/plain": [
       "<graph_notebook.configuration.generate_config.Configuration at 0x7ff179de2850>"
      ]
     },
     "execution_count": 3,
     "metadata": {},
     "output_type": "execute_result"
    }
   ],
   "source": [
    "%%graph_notebook_config\n",
    "{\n",
    "  \"host\": \"127.0.0.1\",\n",
    "  \"port\": 8182,\n",
    "  \"ssl\": false,\n",
    "  \"gremlin\": {\n",
    "    \"traversal_source\": \"g\",\n",
    "    \"username\": \"\",\n",
    "    \"password\": \"\",\n",
    "    \"message_serializer\": \"graphsonv3\"\n",
    "  }\n",
    "}"
   ]
  },
  {
   "cell_type": "markdown",
   "id": "c0decff4-0cd7-4530-a898-a20383babad7",
   "metadata": {
    "tags": []
   },
   "source": [
    "# Check Total"
   ]
  },
  {
   "cell_type": "code",
   "execution_count": 14,
   "id": "d247c7f8-de15-4856-a3c0-604b00e392bd",
   "metadata": {
    "tags": []
   },
   "outputs": [
    {
     "data": {
      "application/vnd.jupyter.widget-view+json": {
       "model_id": "0b475a5ccad5462aa4cdaed564e0a770",
       "version_major": 2,
       "version_minor": 0
      },
      "text/plain": [
       "Tab(children=(Output(layout=Layout(max_height='600px', max_width='940px', overflow='scroll')), Output(layout=L…"
      ]
     },
     "metadata": {},
     "output_type": "display_data"
    }
   ],
   "source": [
    "%%gremlin\n",
    "\n",
    "g.V().groupCount().by(label).unfold()"
   ]
  },
  {
   "cell_type": "code",
   "execution_count": 15,
   "id": "9222a667-d146-4f65-a3c9-ad772472f479",
   "metadata": {
    "tags": []
   },
   "outputs": [
    {
     "data": {
      "application/vnd.jupyter.widget-view+json": {
       "model_id": "0ccf1b2f45384ca9947ecc55eefecaa9",
       "version_major": 2,
       "version_minor": 0
      },
      "text/plain": [
       "Tab(children=(Output(layout=Layout(max_height='600px', max_width='940px', overflow='scroll')), Output(layout=L…"
      ]
     },
     "metadata": {},
     "output_type": "display_data"
    }
   ],
   "source": [
    "%%gremlin\n",
    "\n",
    "g.V().hasLabel('terminal')"
   ]
  },
  {
   "cell_type": "markdown",
   "id": "272906f1-eec0-4195-84b8-47847a7b83e2",
   "metadata": {},
   "source": [
    "# Person"
   ]
  },
  {
   "cell_type": "code",
   "execution_count": 13,
   "id": "8526ba1f-7ade-42bd-a62e-06549f694390",
   "metadata": {
    "tags": []
   },
   "outputs": [
    {
     "data": {
      "application/vnd.jupyter.widget-view+json": {
       "model_id": "d34c1798956a4a0c94d043677183e69f",
       "version_major": 2,
       "version_minor": 0
      },
      "text/plain": [
       "Tab(children=(Output(layout=Layout(max_height='600px', max_width='940px', overflow='scroll')), Output(layout=L…"
      ]
     },
     "metadata": {},
     "output_type": "display_data"
    }
   ],
   "source": [
    "%%gremlin\n",
    "\n",
    "g.V().hasLabel('Person').drop().iterate();"
   ]
  },
  {
   "cell_type": "code",
   "execution_count": 7,
   "id": "b1db69cd-c12a-40d8-b3ab-8780c958a32b",
   "metadata": {
    "tags": []
   },
   "outputs": [
    {
     "data": {
      "application/vnd.jupyter.widget-view+json": {
       "model_id": "3763234315fc4a3084f63c459850050e",
       "version_major": 2,
       "version_minor": 0
      },
      "text/plain": [
       "Tab(children=(Output(layout=Layout(max_height='600px', max_width='940px', overflow='scroll')), Output(layout=L…"
      ]
     },
     "metadata": {},
     "output_type": "display_data"
    }
   ],
   "source": [
    "%%gremlin\n",
    "\n",
    "g.addV(\"Person\").property(id,\"P-682\").property(\"person_id\",\"P-682\").property(\"person_name\",\"Person-682\").property(\"age\",\"19\").property(\"salary_level\",\"2\").property(\"education_level\",\"1\").as(\"P-682\").\n",
    "addV(\"Person\").property(id,\"P-1169\").property(\"person_id\",\"P-1169\").property(\"person_name\",\"Person-1169\").property(\"age\",\"26\").property(\"salary_level\",\"1\").property(\"education_level\",\"3\").as(\"P-1169\").\n",
    "addV(\"Person\").property(id,\"P-1525\").property(\"person_id\",\"P-1525\").property(\"person_name\",\"Person-1525\").property(\"age\",\"33\").property(\"salary_level\",\"1\").property(\"education_level\",\"2\").as(\"P-1525\").\n",
    "addV(\"Person\").property(id,\"P-1845\").property(\"person_id\",\"P-1845\").property(\"person_name\",\"Person-1845\").property(\"age\",\"61\").property(\"salary_level\",\"1\").property(\"education_level\",\"2\").as(\"P-1845\").\n",
    "addV(\"Person\").property(id,\"P-1249\").property(\"person_id\",\"P-1249\").property(\"person_name\",\"Person-1249\").property(\"age\",\"39\").property(\"salary_level\",\"2\").property(\"education_level\",\"2\").as(\"P-1249\").\n",
    "addV(\"Person\").property(id,\"P-1991\").property(\"person_id\",\"P-1991\").property(\"person_name\",\"Person-1991\").property(\"age\",\"64\").property(\"salary_level\",\"2\").property(\"education_level\",\"2\").as(\"P-1991\").\n",
    "addV(\"Person\").property(id,\"P-2140\").property(\"person_id\",\"P-2140\").property(\"person_name\",\"Person-2140\").property(\"age\",\"47\").property(\"salary_level\",\"2\").property(\"education_level\",\"2\").as(\"P-2140\").\n",
    "addV(\"Person\").property(id,\"P-1135\").property(\"person_id\",\"P-1135\").property(\"person_name\",\"Person-1135\").property(\"age\",\"34\").property(\"salary_level\",\"1\").property(\"education_level\",\"2\").as(\"P-1135\").\n",
    "addV(\"Person\").property(id,\"P-758\").property(\"person_id\",\"P-758\").property(\"person_name\",\"Person-758\").property(\"age\",\"25\").property(\"salary_level\",\"2\").property(\"education_level\",\"1\").as(\"P-758\").\n",
    "addV(\"Person\").property(id,\"P-974\").property(\"person_id\",\"P-974\").property(\"person_name\",\"Person-974\").property(\"age\",\"22\").property(\"salary_level\",\"2\").property(\"education_level\",\"1\").as(\"P-974\").\n",
    "addV(\"Person\").property(id,\"P-1472\").property(\"person_id\",\"P-1472\").property(\"person_name\",\"Person-1472\").property(\"age\",\"29\").property(\"salary_level\",\"2\").property(\"education_level\",\"2\").as(\"P-1472\").\n",
    "addV(\"Person\").property(id,\"P-402\").property(\"person_id\",\"P-402\").property(\"person_name\",\"Person-402\").property(\"age\",\"18\").property(\"salary_level\",\"2\").property(\"education_level\",\"1\").as(\"P-402\").\n",
    "addV(\"Person\").property(id,\"P-1743\").property(\"person_id\",\"P-1743\").property(\"person_name\",\"Person-1743\").property(\"age\",\"61\").property(\"salary_level\",\"1\").property(\"education_level\",\"4\").as(\"P-1743\").\n",
    "addV(\"Person\").property(id,\"P-543\").property(\"person_id\",\"P-543\").property(\"person_name\",\"Person-543\").property(\"age\",\"23\").property(\"salary_level\",\"2\").property(\"education_level\",\"1\").as(\"P-543\").\n",
    "addV(\"Person\").property(id,\"P-1349\").property(\"person_id\",\"P-1349\").property(\"person_name\",\"Person-1349\").property(\"age\",\"35\").property(\"salary_level\",\"1\").property(\"education_level\",\"4\").as(\"P-1349\").\n",
    "addV(\"Person\").property(id,\"P-1633\").property(\"person_id\",\"P-1633\").property(\"person_name\",\"Person-1633\").property(\"age\",\"28\").property(\"salary_level\",\"2\").property(\"education_level\",\"4\").as(\"P-1633\").\n",
    "addV(\"Person\").property(id,\"P-1891\").property(\"person_id\",\"P-1891\").property(\"person_name\",\"Person-1891\").property(\"age\",\"47\").property(\"salary_level\",\"1\").property(\"education_level\",\"5\").as(\"P-1891\").\n",
    "addV(\"Person\").property(id,\"P-140\").property(\"person_id\",\"P-140\").property(\"person_name\",\"Person-140\").property(\"age\",\"23\").property(\"salary_level\",\"2\").property(\"education_level\",\"1\").as(\"P-140\").\n",
    "addV(\"Person\").property(id,\"P-1487\").property(\"person_id\",\"P-1487\").property(\"person_name\",\"Person-1487\").property(\"age\",\"39\").property(\"salary_level\",\"2\").property(\"education_level\",\"3\").as(\"P-1487\").\n",
    "addV(\"Person\").property(id,\"P-2003\").property(\"person_id\",\"P-2003\").property(\"person_name\",\"Person-2003\").property(\"age\",\"46\").property(\"salary_level\",\"1\").property(\"education_level\",\"2\").as(\"P-2003\").\n",
    "addV(\"Person\").property(id,\"P-1325\").property(\"person_id\",\"P-1325\").property(\"person_name\",\"Person-1325\").property(\"age\",\"32\").property(\"salary_level\",\"1\").property(\"education_level\",\"2\").as(\"P-1325\").\n",
    "addV(\"Person\").property(id,\"P-1434\").property(\"person_id\",\"P-1434\").property(\"person_name\",\"Person-1434\").property(\"age\",\"42\").property(\"salary_level\",\"2\").property(\"education_level\",\"2\").as(\"P-1434\").\n",
    "addV(\"Person\").property(id,\"P-1724\").property(\"person_id\",\"P-1724\").property(\"person_name\",\"Person-1724\").property(\"age\",\"58\").property(\"salary_level\",\"2\").property(\"education_level\",\"5\").as(\"P-1724\").\n",
    "addV(\"Person\").property(id,\"P-49\").property(\"person_id\",\"P-49\").property(\"person_name\",\"Person-49\").property(\"age\",\"24\").property(\"salary_level\",\"2\").property(\"education_level\",\"2\").as(\"P-49\").\n",
    "addV(\"Person\").property(id,\"P-1689\").property(\"person_id\",\"P-1689\").property(\"person_name\",\"Person-1689\").property(\"age\",\"28\").property(\"salary_level\",\"1\").property(\"education_level\",\"2\").as(\"P-1689\").\n",
    "addV(\"Person\").property(id,\"P-1902\").property(\"person_id\",\"P-1902\").property(\"person_name\",\"Person-1902\").property(\"age\",\"62\").property(\"salary_level\",\"1\").property(\"education_level\",\"2\").as(\"P-1902\").\n",
    "addV(\"Person\").property(id,\"P-663\").property(\"person_id\",\"P-663\").property(\"person_name\",\"Person-663\").property(\"age\",\"20\").property(\"salary_level\",\"2\").property(\"education_level\",\"1\").as(\"P-663\").\n",
    "addV(\"Person\").property(id,\"P-238\").property(\"person_id\",\"P-238\").property(\"person_name\",\"Person-238\").property(\"age\",\"19\").property(\"salary_level\",\"2\").property(\"education_level\",\"1\").as(\"P-238\").\n",
    "addV(\"Person\").property(id,\"P-901\").property(\"person_id\",\"P-901\").property(\"person_name\",\"Person-901\").property(\"age\",\"25\").property(\"salary_level\",\"2\").property(\"education_level\",\"1\").as(\"P-901\").\n",
    "addV(\"Person\").property(id,\"P-518\").property(\"person_id\",\"P-518\").property(\"person_name\",\"Person-518\").property(\"age\",\"21\").property(\"salary_level\",\"2\").property(\"education_level\",\"2\").as(\"P-518\").\n",
    "addV(\"Person\").property(id,\"P-754\").property(\"person_id\",\"P-754\").property(\"person_name\",\"Person-754\").property(\"age\",\"22\").property(\"salary_level\",\"1\").property(\"education_level\",\"1\").as(\"P-754\").\n",
    "addV(\"Person\").property(id,\"P-2078\").property(\"person_id\",\"P-2078\").property(\"person_name\",\"Person-2078\").property(\"age\",\"62\").property(\"salary_level\",\"2\").property(\"education_level\",\"2\").as(\"P-2078\").\n",
    "addV(\"Person\").property(id,\"P-769\").property(\"person_id\",\"P-769\").property(\"person_name\",\"Person-769\").property(\"age\",\"24\").property(\"salary_level\",\"1\").property(\"education_level\",\"1\").as(\"P-769\").\n",
    "addV(\"Person\").property(id,\"P-64\").property(\"person_id\",\"P-64\").property(\"person_name\",\"Person-64\").property(\"age\",\"18\").property(\"salary_level\",\"1\").property(\"education_level\",\"2\").as(\"P-64\").\n",
    "addV(\"Person\").property(id,\"P-128\").property(\"person_id\",\"P-128\").property(\"person_name\",\"Person-128\").property(\"age\",\"24\").property(\"salary_level\",\"1\").property(\"education_level\",\"1\").as(\"P-128\").\n",
    "addV(\"Person\").property(id,\"P-1830\").property(\"person_id\",\"P-1830\").property(\"person_name\",\"Person-1830\").property(\"age\",\"46\").property(\"salary_level\",\"1\").property(\"education_level\",\"4\").as(\"P-1830\")"
   ]
  },
  {
   "cell_type": "markdown",
   "id": "8e02db7c-0b1b-4f60-8980-f8a720883c17",
   "metadata": {},
   "source": [
    "# Account"
   ]
  },
  {
   "cell_type": "code",
   "execution_count": 8,
   "id": "d942dd75-1557-4861-81ff-f47e4dccf6dd",
   "metadata": {
    "tags": []
   },
   "outputs": [
    {
     "data": {
      "application/vnd.jupyter.widget-view+json": {
       "model_id": "40f0a7dd4af14273b9cdba900c841026",
       "version_major": 2,
       "version_minor": 0
      },
      "text/plain": [
       "Tab(children=(Output(layout=Layout(max_height='600px', max_width='940px', overflow='scroll')), Output(layout=L…"
      ]
     },
     "metadata": {},
     "output_type": "display_data"
    }
   ],
   "source": [
    "%%gremlin\n",
    "\n",
    "g.V().hasLabel('Account').drop().iterate();"
   ]
  },
  {
   "cell_type": "code",
   "execution_count": 9,
   "id": "0ed62346-4e47-4dbe-a1d0-def159afd776",
   "metadata": {
    "tags": []
   },
   "outputs": [
    {
     "data": {
      "application/vnd.jupyter.widget-view+json": {
       "model_id": "7b8943d9a73c4b61aadfab80e1dbde13",
       "version_major": 2,
       "version_minor": 0
      },
      "text/plain": [
       "Tab(children=(Output(layout=Layout(max_height='600px', max_width='940px', overflow='scroll')), Output(layout=L…"
      ]
     },
     "metadata": {},
     "output_type": "display_data"
    }
   ],
   "source": [
    "%%gremlin\n",
    "\n",
    "g.addV(\"Account\").property(id,\"ACC-3\").property(\"account_id\",\"ACC-3\").property(\"person_id\",\"P-1689\").as(\"ACC-3\").\n",
    "addV(\"Account\").property(id,\"ACC-90\").property(\"account_id\",\"ACC-90\").property(\"person_id\",\"P-1169\").as(\"ACC-90\").\n",
    "addV(\"Account\").property(id,\"ACC-102\").property(\"account_id\",\"ACC-102\").property(\"person_id\",\"P-682\").as(\"ACC-102\").\n",
    "addV(\"Account\").property(id,\"ACC-131\").property(\"account_id\",\"ACC-131\").property(\"person_id\",\"P-901\").as(\"ACC-131\").\n",
    "addV(\"Account\").property(id,\"ACC-154\").property(\"account_id\",\"ACC-154\").property(\"person_id\",\"P-1135\").as(\"ACC-154\").\n",
    "addV(\"Account\").property(id,\"ACC-163\").property(\"account_id\",\"ACC-163\").property(\"person_id\",\"P-1434\").as(\"ACC-163\").\n",
    "addV(\"Account\").property(id,\"ACC-215\").property(\"account_id\",\"ACC-215\").property(\"person_id\",\"P-543\").as(\"ACC-215\").\n",
    "addV(\"Account\").property(id,\"ACC-308\").property(\"account_id\",\"ACC-308\").property(\"person_id\",\"P-663\").as(\"ACC-308\").\n",
    "addV(\"Account\").property(id,\"ACC-370\").property(\"account_id\",\"ACC-370\").property(\"person_id\",\"P-758\").as(\"ACC-370\").\n",
    "addV(\"Account\").property(id,\"ACC-396\").property(\"account_id\",\"ACC-396\").property(\"person_id\",\"P-663\").as(\"ACC-396\").\n",
    "addV(\"Account\").property(id,\"ACC-423\").property(\"account_id\",\"ACC-423\").property(\"person_id\",\"P-2140\").as(\"ACC-423\").\n",
    "addV(\"Account\").property(id,\"ACC-446\").property(\"account_id\",\"ACC-446\").property(\"person_id\",\"P-1724\").as(\"ACC-446\").\n",
    "addV(\"Account\").property(id,\"ACC-457\").property(\"account_id\",\"ACC-457\").property(\"person_id\",\"P-1991\").as(\"ACC-457\").\n",
    "addV(\"Account\").property(id,\"ACC-472\").property(\"account_id\",\"ACC-472\").property(\"person_id\",\"P-682\").as(\"ACC-472\").\n",
    "addV(\"Account\").property(id,\"ACC-480\").property(\"account_id\",\"ACC-480\").property(\"person_id\",\"P-1689\").as(\"ACC-480\").\n",
    "addV(\"Account\").property(id,\"ACC-488\").property(\"account_id\",\"ACC-488\").property(\"person_id\",\"P-1845\").as(\"ACC-488\").\n",
    "addV(\"Account\").property(id,\"ACC-517\").property(\"account_id\",\"ACC-517\").property(\"person_id\",\"P-64\").as(\"ACC-517\").\n",
    "addV(\"Account\").property(id,\"ACC-518\").property(\"account_id\",\"ACC-518\").property(\"person_id\",\"P-128\").as(\"ACC-518\").\n",
    "addV(\"Account\").property(id,\"ACC-520\").property(\"account_id\",\"ACC-520\").property(\"person_id\",\"P-754\").as(\"ACC-520\").\n",
    "addV(\"Account\").property(id,\"ACC-541\").property(\"account_id\",\"ACC-541\").property(\"person_id\",\"P-1135\").as(\"ACC-541\").\n",
    "addV(\"Account\").property(id,\"ACC-593\").property(\"account_id\",\"ACC-593\").property(\"person_id\",\"P-769\").as(\"ACC-593\").\n",
    "addV(\"Account\").property(id,\"ACC-640\").property(\"account_id\",\"ACC-640\").property(\"person_id\",\"P-901\").as(\"ACC-640\").\n",
    "addV(\"Account\").property(id,\"ACC-687\").property(\"account_id\",\"ACC-687\").property(\"person_id\",\"P-1743\").as(\"ACC-687\").\n",
    "addV(\"Account\").property(id,\"ACC-690\").property(\"account_id\",\"ACC-690\").property(\"person_id\",\"P-2140\").as(\"ACC-690\").\n",
    "addV(\"Account\").property(id,\"ACC-697\").property(\"account_id\",\"ACC-697\").property(\"person_id\",\"P-1830\").as(\"ACC-697\").\n",
    "addV(\"Account\").property(id,\"ACC-829\").property(\"account_id\",\"ACC-829\").property(\"person_id\",\"P-2003\").as(\"ACC-829\").\n",
    "addV(\"Account\").property(id,\"ACC-840\").property(\"account_id\",\"ACC-840\").property(\"person_id\",\"P-1349\").as(\"ACC-840\").\n",
    "addV(\"Account\").property(id,\"ACC-863\").property(\"account_id\",\"ACC-863\").property(\"person_id\",\"P-1472\").as(\"ACC-863\").\n",
    "addV(\"Account\").property(id,\"ACC-879\").property(\"account_id\",\"ACC-879\").property(\"person_id\",\"P-1991\").as(\"ACC-879\").\n",
    "addV(\"Account\").property(id,\"ACC-895\").property(\"account_id\",\"ACC-895\").property(\"person_id\",\"P-1743\").as(\"ACC-895\").\n",
    "addV(\"Account\").property(id,\"ACC-900\").property(\"account_id\",\"ACC-900\").property(\"person_id\",\"P-1991\").as(\"ACC-900\").\n",
    "addV(\"Account\").property(id,\"ACC-931\").property(\"account_id\",\"ACC-931\").property(\"person_id\",\"P-518\").as(\"ACC-931\").\n",
    "addV(\"Account\").property(id,\"ACC-933\").property(\"account_id\",\"ACC-933\").property(\"person_id\",\"P-2140\").as(\"ACC-933\").\n",
    "addV(\"Account\").property(id,\"ACC-936\").property(\"account_id\",\"ACC-936\").property(\"person_id\",\"P-1434\").as(\"ACC-936\").\n",
    "addV(\"Account\").property(id,\"ACC-982\").property(\"account_id\",\"ACC-982\").property(\"person_id\",\"P-1891\").as(\"ACC-982\").\n",
    "addV(\"Account\").property(id,\"ACC-1062\").property(\"account_id\",\"ACC-1062\").property(\"person_id\",\"P-2003\").as(\"ACC-1062\").\n",
    "addV(\"Account\").property(id,\"ACC-1091\").property(\"account_id\",\"ACC-1091\").property(\"person_id\",\"P-402\").as(\"ACC-1091\").\n",
    "addV(\"Account\").property(id,\"ACC-1149\").property(\"account_id\",\"ACC-1149\").property(\"person_id\",\"P-769\").as(\"ACC-1149\").\n",
    "addV(\"Account\").property(id,\"ACC-1152\").property(\"account_id\",\"ACC-1152\").property(\"person_id\",\"P-1902\").as(\"ACC-1152\").\n",
    "addV(\"Account\").property(id,\"ACC-1185\").property(\"account_id\",\"ACC-1185\").property(\"person_id\",\"P-682\").as(\"ACC-1185\").\n",
    "addV(\"Account\").property(id,\"ACC-1190\").property(\"account_id\",\"ACC-1190\").property(\"person_id\",\"P-238\").as(\"ACC-1190\").\n",
    "addV(\"Account\").property(id,\"ACC-1204\").property(\"account_id\",\"ACC-1204\").property(\"person_id\",\"P-1891\").as(\"ACC-1204\").\n",
    "addV(\"Account\").property(id,\"ACC-1249\").property(\"account_id\",\"ACC-1249\").property(\"person_id\",\"P-128\").as(\"ACC-1249\").\n",
    "addV(\"Account\").property(id,\"ACC-1252\").property(\"account_id\",\"ACC-1252\").property(\"person_id\",\"P-49\").as(\"ACC-1252\").\n",
    "addV(\"Account\").property(id,\"ACC-1263\").property(\"account_id\",\"ACC-1263\").property(\"person_id\",\"P-1135\").as(\"ACC-1263\").\n",
    "addV(\"Account\").property(id,\"ACC-1332\").property(\"account_id\",\"ACC-1332\").property(\"person_id\",\"P-402\").as(\"ACC-1332\").\n",
    "addV(\"Account\").property(id,\"ACC-1346\").property(\"account_id\",\"ACC-1346\").property(\"person_id\",\"P-1349\").as(\"ACC-1346\").\n",
    "addV(\"Account\").property(id,\"ACC-1361\").property(\"account_id\",\"ACC-1361\").property(\"person_id\",\"P-1525\").as(\"ACC-1361\").\n",
    "addV(\"Account\").property(id,\"ACC-1375\").property(\"account_id\",\"ACC-1375\").property(\"person_id\",\"P-663\").as(\"ACC-1375\").\n",
    "addV(\"Account\").property(id,\"ACC-1395\").property(\"account_id\",\"ACC-1395\").property(\"person_id\",\"P-518\").as(\"ACC-1395\").\n",
    "addV(\"Account\").property(id,\"ACC-1490\").property(\"account_id\",\"ACC-1490\").property(\"person_id\",\"P-2308\").as(\"ACC-1490\").\n",
    "addV(\"Account\").property(id,\"ACC-1510\").property(\"account_id\",\"ACC-1510\").property(\"person_id\",\"P-1472\").as(\"ACC-1510\").\n",
    "addV(\"Account\").property(id,\"ACC-1609\").property(\"account_id\",\"ACC-1609\").property(\"person_id\",\"P-1902\").as(\"ACC-1609\").\n",
    "addV(\"Account\").property(id,\"ACC-1629\").property(\"account_id\",\"ACC-1629\").property(\"person_id\",\"P-2140\").as(\"ACC-1629\").\n",
    "addV(\"Account\").property(id,\"ACC-1703\").property(\"account_id\",\"ACC-1703\").property(\"person_id\",\"P-1135\").as(\"ACC-1703\").\n",
    "addV(\"Account\").property(id,\"ACC-1731\").property(\"account_id\",\"ACC-1731\").property(\"person_id\",\"P-2277\").as(\"ACC-1731\").\n",
    "addV(\"Account\").property(id,\"ACC-1740\").property(\"account_id\",\"ACC-1740\").property(\"person_id\",\"P-1845\").as(\"ACC-1740\").\n",
    "addV(\"Account\").property(id,\"ACC-1796\").property(\"account_id\",\"ACC-1796\").property(\"person_id\",\"P-140\").as(\"ACC-1796\").\n",
    "addV(\"Account\").property(id,\"ACC-1801\").property(\"account_id\",\"ACC-1801\").property(\"person_id\",\"P-140\").as(\"ACC-1801\").\n",
    "addV(\"Account\").property(id,\"ACC-1829\").property(\"account_id\",\"ACC-1829\").property(\"person_id\",\"P-238\").as(\"ACC-1829\").\n",
    "addV(\"Account\").property(id,\"ACC-1876\").property(\"account_id\",\"ACC-1876\").property(\"person_id\",\"P-1487\").as(\"ACC-1876\").\n",
    "addV(\"Account\").property(id,\"ACC-1954\").property(\"account_id\",\"ACC-1954\").property(\"person_id\",\"P-1325\").as(\"ACC-1954\").\n",
    "addV(\"Account\").property(id,\"ACC-1983\").property(\"account_id\",\"ACC-1983\").property(\"person_id\",\"P-1991\").as(\"ACC-1983\").\n",
    "addV(\"Account\").property(id,\"ACC-1996\").property(\"account_id\",\"ACC-1996\").property(\"person_id\",\"P-1325\").as(\"ACC-1996\").\n",
    "addV(\"Account\").property(id,\"ACC-2039\").property(\"account_id\",\"ACC-2039\").property(\"person_id\",\"P-1902\").as(\"ACC-2039\").\n",
    "addV(\"Account\").property(id,\"ACC-2069\").property(\"account_id\",\"ACC-2069\").property(\"person_id\",\"P-1249\").as(\"ACC-2069\").\n",
    "addV(\"Account\").property(id,\"ACC-2077\").property(\"account_id\",\"ACC-2077\").property(\"person_id\",\"P-2308\").as(\"ACC-2077\").\n",
    "addV(\"Account\").property(id,\"ACC-2103\").property(\"account_id\",\"ACC-2103\").property(\"person_id\",\"P-1349\").as(\"ACC-2103\").\n",
    "addV(\"Account\").property(id,\"ACC-2107\").property(\"account_id\",\"ACC-2107\").property(\"person_id\",\"P-769\").as(\"ACC-2107\").\n",
    "addV(\"Account\").property(id,\"ACC-2110\").property(\"account_id\",\"ACC-2110\").property(\"person_id\",\"P-2078\").as(\"ACC-2110\").\n",
    "addV(\"Account\").property(id,\"ACC-2232\").property(\"account_id\",\"ACC-2232\").property(\"person_id\",\"P-974\").as(\"ACC-2232\").\n",
    "addV(\"Account\").property(id,\"ACC-2234\").property(\"account_id\",\"ACC-2234\").property(\"person_id\",\"P-64\").as(\"ACC-2234\").\n",
    "addV(\"Account\").property(id,\"ACC-2235\").property(\"account_id\",\"ACC-2235\").property(\"person_id\",\"P-1830\").as(\"ACC-2235\").\n",
    "addV(\"Account\").property(id,\"ACC-2342\").property(\"account_id\",\"ACC-2342\").property(\"person_id\",\"P-682\").as(\"ACC-2342\").\n",
    "addV(\"Account\").property(id,\"ACC-2424\").property(\"account_id\",\"ACC-2424\").property(\"person_id\",\"P-1169\").as(\"ACC-2424\").\n",
    "addV(\"Account\").property(id,\"ACC-2448\").property(\"account_id\",\"ACC-2448\").property(\"person_id\",\"P-901\").as(\"ACC-2448\").\n",
    "addV(\"Account\").property(id,\"ACC-2459\").property(\"account_id\",\"ACC-2459\").property(\"person_id\",\"P-1633\").as(\"ACC-2459\")"
   ]
  },
  {
   "cell_type": "markdown",
   "id": "5c365558-72e0-455d-908d-71efef07899a",
   "metadata": {},
   "source": [
    "# Edges"
   ]
  },
  {
   "cell_type": "code",
   "execution_count": 10,
   "id": "6132697b-bf12-4db4-8e38-7ac294b9eaeb",
   "metadata": {
    "tags": []
   },
   "outputs": [
    {
     "data": {
      "application/vnd.jupyter.widget-view+json": {
       "model_id": "c1a456121fc64e3c9e697b9c2f423094",
       "version_major": 2,
       "version_minor": 0
      },
      "text/plain": [
       "Tab(children=(Output(layout=Layout(max_height='600px', max_width='940px', overflow='scroll')), Output(layout=L…"
      ]
     },
     "metadata": {},
     "output_type": "display_data"
    }
   ],
   "source": [
    "%%gremlin\n",
    "\n",
    "g.V(\"P-1689\").addE(\"has\").to(__.V(\"ACC-3\")).property(id,\"P-1689-ACC-3-ACC-PER\").\n",
    "V(\"P-1169\").addE(\"has\").to(__.V(\"ACC-90\")).property(id,\"P-1169-ACC-90-ACC-PER\").\n",
    "V(\"P-682\").addE(\"has\").to(__.V(\"ACC-102\")).property(id,\"P-682-ACC-102-ACC-PER\").\n",
    "V(\"P-901\").addE(\"has\").to(__.V(\"ACC-131\")).property(id,\"P-901-ACC-131-ACC-PER\").\n",
    "V(\"P-1135\").addE(\"has\").to(__.V(\"ACC-154\")).property(id,\"P-1135-ACC-154-ACC-PER\").\n",
    "V(\"P-1434\").addE(\"has\").to(__.V(\"ACC-163\")).property(id,\"P-1434-ACC-163-ACC-PER\").\n",
    "V(\"P-543\").addE(\"has\").to(__.V(\"ACC-215\")).property(id,\"P-543-ACC-215-ACC-PER\").\n",
    "V(\"P-663\").addE(\"has\").to(__.V(\"ACC-308\")).property(id,\"P-663-ACC-308-ACC-PER\").\n",
    "V(\"P-758\").addE(\"has\").to(__.V(\"ACC-370\")).property(id,\"P-758-ACC-370-ACC-PER\").\n",
    "V(\"P-663\").addE(\"has\").to(__.V(\"ACC-396\")).property(id,\"P-663-ACC-396-ACC-PER\").\n",
    "V(\"P-2140\").addE(\"has\").to(__.V(\"ACC-423\")).property(id,\"P-2140-ACC-423-ACC-PER\").\n",
    "V(\"P-1724\").addE(\"has\").to(__.V(\"ACC-446\")).property(id,\"P-1724-ACC-446-ACC-PER\").\n",
    "V(\"P-1991\").addE(\"has\").to(__.V(\"ACC-457\")).property(id,\"P-1991-ACC-457-ACC-PER\").\n",
    "V(\"P-682\").addE(\"has\").to(__.V(\"ACC-472\")).property(id,\"P-682-ACC-472-ACC-PER\").\n",
    "V(\"P-1689\").addE(\"has\").to(__.V(\"ACC-480\")).property(id,\"P-1689-ACC-480-ACC-PER\").\n",
    "V(\"P-1845\").addE(\"has\").to(__.V(\"ACC-488\")).property(id,\"P-1845-ACC-488-ACC-PER\").\n",
    "V(\"P-64\").addE(\"has\").to(__.V(\"ACC-517\")).property(id,\"P-64-ACC-517-ACC-PER\").\n",
    "V(\"P-128\").addE(\"has\").to(__.V(\"ACC-518\")).property(id,\"P-128-ACC-518-ACC-PER\").\n",
    "V(\"P-754\").addE(\"has\").to(__.V(\"ACC-520\")).property(id,\"P-754-ACC-520-ACC-PER\").\n",
    "V(\"P-1135\").addE(\"has\").to(__.V(\"ACC-541\")).property(id,\"P-1135-ACC-541-ACC-PER\").\n",
    "V(\"P-769\").addE(\"has\").to(__.V(\"ACC-593\")).property(id,\"P-769-ACC-593-ACC-PER\").\n",
    "V(\"P-901\").addE(\"has\").to(__.V(\"ACC-640\")).property(id,\"P-901-ACC-640-ACC-PER\").\n",
    "V(\"P-1743\").addE(\"has\").to(__.V(\"ACC-687\")).property(id,\"P-1743-ACC-687-ACC-PER\").\n",
    "V(\"P-2140\").addE(\"has\").to(__.V(\"ACC-690\")).property(id,\"P-2140-ACC-690-ACC-PER\").\n",
    "V(\"P-1830\").addE(\"has\").to(__.V(\"ACC-697\")).property(id,\"P-1830-ACC-697-ACC-PER\").\n",
    "V(\"P-2003\").addE(\"has\").to(__.V(\"ACC-829\")).property(id,\"P-2003-ACC-829-ACC-PER\").\n",
    "V(\"P-1349\").addE(\"has\").to(__.V(\"ACC-840\")).property(id,\"P-1349-ACC-840-ACC-PER\").\n",
    "V(\"P-1472\").addE(\"has\").to(__.V(\"ACC-863\")).property(id,\"P-1472-ACC-863-ACC-PER\").\n",
    "V(\"P-1991\").addE(\"has\").to(__.V(\"ACC-879\")).property(id,\"P-1991-ACC-879-ACC-PER\").\n",
    "V(\"P-1743\").addE(\"has\").to(__.V(\"ACC-895\")).property(id,\"P-1743-ACC-895-ACC-PER\").\n",
    "V(\"P-1991\").addE(\"has\").to(__.V(\"ACC-900\")).property(id,\"P-1991-ACC-900-ACC-PER\").\n",
    "V(\"P-518\").addE(\"has\").to(__.V(\"ACC-931\")).property(id,\"P-518-ACC-931-ACC-PER\").\n",
    "V(\"P-2140\").addE(\"has\").to(__.V(\"ACC-933\")).property(id,\"P-2140-ACC-933-ACC-PER\").\n",
    "V(\"P-1434\").addE(\"has\").to(__.V(\"ACC-936\")).property(id,\"P-1434-ACC-936-ACC-PER\").\n",
    "V(\"P-1891\").addE(\"has\").to(__.V(\"ACC-982\")).property(id,\"P-1891-ACC-982-ACC-PER\").\n",
    "V(\"P-2003\").addE(\"has\").to(__.V(\"ACC-1062\")).property(id,\"P-2003-ACC-1062-ACC-PER\").\n",
    "V(\"P-402\").addE(\"has\").to(__.V(\"ACC-1091\")).property(id,\"P-402-ACC-1091-ACC-PER\").\n",
    "V(\"P-769\").addE(\"has\").to(__.V(\"ACC-1149\")).property(id,\"P-769-ACC-1149-ACC-PER\").\n",
    "V(\"P-1902\").addE(\"has\").to(__.V(\"ACC-1152\")).property(id,\"P-1902-ACC-1152-ACC-PER\").\n",
    "V(\"P-682\").addE(\"has\").to(__.V(\"ACC-1185\")).property(id,\"P-682-ACC-1185-ACC-PER\").\n",
    "V(\"P-238\").addE(\"has\").to(__.V(\"ACC-1190\")).property(id,\"P-238-ACC-1190-ACC-PER\").\n",
    "V(\"P-1891\").addE(\"has\").to(__.V(\"ACC-1204\")).property(id,\"P-1891-ACC-1204-ACC-PER\").\n",
    "V(\"P-128\").addE(\"has\").to(__.V(\"ACC-1249\")).property(id,\"P-128-ACC-1249-ACC-PER\").\n",
    "V(\"P-49\").addE(\"has\").to(__.V(\"ACC-1252\")).property(id,\"P-49-ACC-1252-ACC-PER\").\n",
    "V(\"P-1135\").addE(\"has\").to(__.V(\"ACC-1263\")).property(id,\"P-1135-ACC-1263-ACC-PER\").\n",
    "V(\"P-402\").addE(\"has\").to(__.V(\"ACC-1332\")).property(id,\"P-402-ACC-1332-ACC-PER\").\n",
    "V(\"P-1349\").addE(\"has\").to(__.V(\"ACC-1346\")).property(id,\"P-1349-ACC-1346-ACC-PER\").\n",
    "V(\"P-1525\").addE(\"has\").to(__.V(\"ACC-1361\")).property(id,\"P-1525-ACC-1361-ACC-PER\").\n",
    "V(\"P-663\").addE(\"has\").to(__.V(\"ACC-1375\")).property(id,\"P-663-ACC-1375-ACC-PER\").\n",
    "V(\"P-518\").addE(\"has\").to(__.V(\"ACC-1395\")).property(id,\"P-518-ACC-1395-ACC-PER\").\n",
    "V(\"P-1472\").addE(\"has\").to(__.V(\"ACC-1510\")).property(id,\"P-1472-ACC-1510-ACC-PER\").\n",
    "V(\"P-1902\").addE(\"has\").to(__.V(\"ACC-1609\")).property(id,\"P-1902-ACC-1609-ACC-PER\").\n",
    "V(\"P-2140\").addE(\"has\").to(__.V(\"ACC-1629\")).property(id,\"P-2140-ACC-1629-ACC-PER\").\n",
    "V(\"P-1135\").addE(\"has\").to(__.V(\"ACC-1703\")).property(id,\"P-1135-ACC-1703-ACC-PER\").\n",
    "V(\"P-1845\").addE(\"has\").to(__.V(\"ACC-1740\")).property(id,\"P-1845-ACC-1740-ACC-PER\").\n",
    "V(\"P-140\").addE(\"has\").to(__.V(\"ACC-1796\")).property(id,\"P-140-ACC-1796-ACC-PER\").\n",
    "V(\"P-140\").addE(\"has\").to(__.V(\"ACC-1801\")).property(id,\"P-140-ACC-1801-ACC-PER\").\n",
    "V(\"P-238\").addE(\"has\").to(__.V(\"ACC-1829\")).property(id,\"P-238-ACC-1829-ACC-PER\").\n",
    "V(\"P-1487\").addE(\"has\").to(__.V(\"ACC-1876\")).property(id,\"P-1487-ACC-1876-ACC-PER\").\n",
    "V(\"P-1325\").addE(\"has\").to(__.V(\"ACC-1954\")).property(id,\"P-1325-ACC-1954-ACC-PER\").\n",
    "V(\"P-1991\").addE(\"has\").to(__.V(\"ACC-1983\")).property(id,\"P-1991-ACC-1983-ACC-PER\").\n",
    "V(\"P-1325\").addE(\"has\").to(__.V(\"ACC-1996\")).property(id,\"P-1325-ACC-1996-ACC-PER\").\n",
    "V(\"P-1902\").addE(\"has\").to(__.V(\"ACC-2039\")).property(id,\"P-1902-ACC-2039-ACC-PER\").\n",
    "V(\"P-1249\").addE(\"has\").to(__.V(\"ACC-2069\")).property(id,\"P-1249-ACC-2069-ACC-PER\").\n",
    "V(\"P-1349\").addE(\"has\").to(__.V(\"ACC-2103\")).property(id,\"P-1349-ACC-2103-ACC-PER\").\n",
    "V(\"P-769\").addE(\"has\").to(__.V(\"ACC-2107\")).property(id,\"P-769-ACC-2107-ACC-PER\").\n",
    "V(\"P-2078\").addE(\"has\").to(__.V(\"ACC-2110\")).property(id,\"P-2078-ACC-2110-ACC-PER\").\n",
    "V(\"P-974\").addE(\"has\").to(__.V(\"ACC-2232\")).property(id,\"P-974-ACC-2232-ACC-PER\").\n",
    "V(\"P-64\").addE(\"has\").to(__.V(\"ACC-2234\")).property(id,\"P-64-ACC-2234-ACC-PER\").\n",
    "V(\"P-1830\").addE(\"has\").to(__.V(\"ACC-2235\")).property(id,\"P-1830-ACC-2235-ACC-PER\").\n",
    "V(\"P-682\").addE(\"has\").to(__.V(\"ACC-2342\")).property(id,\"P-682-ACC-2342-ACC-PER\").\n",
    "V(\"P-1169\").addE(\"has\").to(__.V(\"ACC-2424\")).property(id,\"P-1169-ACC-2424-ACC-PER\").\n",
    "V(\"P-901\").addE(\"has\").to(__.V(\"ACC-2448\")).property(id,\"P-901-ACC-2448-ACC-PER\").\n",
    "V(\"P-1633\").addE(\"has\").to(__.V(\"ACC-2459\")).property(id,\"P-1633-ACC-2459-ACC-PER\")"
   ]
  },
  {
   "cell_type": "markdown",
   "id": "ea3fd53c-cd5a-48b8-9421-d19ec2ca8da6",
   "metadata": {
    "tags": []
   },
   "source": [
    "# MCC"
   ]
  },
  {
   "cell_type": "code",
   "execution_count": 11,
   "id": "26faa344-442c-4a44-be4e-4d5eb37bc043",
   "metadata": {
    "tags": []
   },
   "outputs": [
    {
     "data": {
      "application/vnd.jupyter.widget-view+json": {
       "model_id": "021337e22da54db8bb9f33366c97ad92",
       "version_major": 2,
       "version_minor": 0
      },
      "text/plain": [
       "Tab(children=(Output(layout=Layout(max_height='600px', max_width='940px', overflow='scroll')), Output(layout=L…"
      ]
     },
     "metadata": {},
     "output_type": "display_data"
    }
   ],
   "source": [
    "%%gremlin\n",
    "\n",
    "g.V().hasLabel('Merchant').drop().iterate();"
   ]
  },
  {
   "cell_type": "code",
   "execution_count": 12,
   "id": "0522d1bd-4c78-4ab6-8382-8887d06c6d47",
   "metadata": {
    "tags": []
   },
   "outputs": [
    {
     "data": {
      "application/vnd.jupyter.widget-view+json": {
       "model_id": "60aeecb5f02140159826ad1764409c27",
       "version_major": 2,
       "version_minor": 0
      },
      "text/plain": [
       "Tab(children=(Output(layout=Layout(max_height='600px', max_width='940px', overflow='scroll')), Output(layout=L…"
      ]
     },
     "metadata": {},
     "output_type": "display_data"
    }
   ],
   "source": [
    "%%gremlin\n",
    "\n",
    "g.addV(\"Merchant\").property(id,\"CINEMA\").property(\"name\",\"CINEMA\").as(\"CINEMA\").\n",
    "addV(\"Merchant\").property(id,\"PET\").property(\"name\",\"PET\").as(\"PET\").\n",
    "addV(\"Merchant\").property(id,\"COMPUTER\").property(\"name\",\"COMPUTER\").as(\"COMPUTER\").\n",
    "addV(\"Merchant\").property(id,\"STORE\").property(\"name\",\"STORE\").as(\"STORE\").\n",
    "addV(\"Merchant\").property(id,\"BEVERAGE\").property(\"name\",\"BEVERAGE\").as(\"BEVERAGE\").\n",
    "addV(\"Merchant\").property(id,\"FOOD\").property(\"name\",\"FOOD\").as(\"FOOD\").\n",
    "addV(\"Merchant\").property(id,\"BOOK\").property(\"name\",\"BOOK\").as(\"BOOK\").\n",
    "addV(\"Merchant\").property(id,\"SPORTING\").property(\"name\",\"SPORTING\").as(\"SPORTING\").\n",
    "addV(\"Merchant\").property(id,\"LAUNDRY\").property(\"name\",\"LAUNDRY\").as(\"LAUNDRY\").\n",
    "addV(\"Merchant\").property(id,\"CASH\").property(\"name\",\"CASH\").as(\"CASH\").\n",
    "addV(\"Merchant\").property(id,\"DRUG_STORE\").property(\"name\",\"DRUG_STORE\").as(\"DRUG_STORE\").\n",
    "addV(\"Merchant\").property(id,\"MOTOR\").property(\"name\",\"MOTOR\").as(\"MOTOR\").\n",
    "addV(\"Merchant\").property(id,\"GIFT\").property(\"name\",\"GIFT\").as(\"GIFT\").\n",
    "addV(\"Merchant\").property(id,\"GYM\").property(\"name\",\"GYM\").as(\"GYM\").\n",
    "addV(\"Merchant\").property(id,\"PARKING\").property(\"name\",\"PARKING\").as(\"PARKING\").\n",
    "addV(\"Merchant\").property(id,\"GAS\").property(\"name\",\"GAS\").as(\"GAS\").\n",
    "addV(\"Merchant\").property(id,\"COSMETIC\").property(\"name\",\"COSMETIC\").as(\"COSMETIC\")"
   ]
  },
  {
   "cell_type": "code",
   "execution_count": 13,
   "id": "92279967-55a7-422e-87ee-6cb61a5107ae",
   "metadata": {
    "tags": []
   },
   "outputs": [
    {
     "data": {
      "application/vnd.jupyter.widget-view+json": {
       "model_id": "69a3cba6bc824817a6bb085b0d4d71e2",
       "version_major": 2,
       "version_minor": 0
      },
      "text/plain": [
       "Tab(children=(Output(layout=Layout(max_height='600px', max_width='940px', overflow='scroll')), Output(layout=L…"
      ]
     },
     "metadata": {},
     "output_type": "display_data"
    }
   ],
   "source": [
    "%%gremlin\n",
    "\n",
    "g.V().hasLabel('Merchant').count()"
   ]
  },
  {
   "cell_type": "markdown",
   "id": "3e37e6b6-15bd-49f9-9d3d-abda12d5ca88",
   "metadata": {
    "tags": []
   },
   "source": [
    "# Terminal"
   ]
  },
  {
   "cell_type": "code",
   "execution_count": 14,
   "id": "54882740-20ac-42e4-8873-aa5032591880",
   "metadata": {
    "tags": []
   },
   "outputs": [
    {
     "data": {
      "application/vnd.jupyter.widget-view+json": {
       "model_id": "2870582a1388445180d1ccd073feaf05",
       "version_major": 2,
       "version_minor": 0
      },
      "text/plain": [
       "Tab(children=(Output(layout=Layout(max_height='600px', max_width='940px', overflow='scroll')), Output(layout=L…"
      ]
     },
     "metadata": {},
     "output_type": "display_data"
    }
   ],
   "source": [
    "%%gremlin\n",
    "\n",
    "g.V().hasLabel('Terminal').drop().iterate();"
   ]
  },
  {
   "cell_type": "code",
   "execution_count": 15,
   "id": "43fcaa23-9193-46be-8a49-69515af65610",
   "metadata": {
    "tags": []
   },
   "outputs": [
    {
     "data": {
      "application/vnd.jupyter.widget-view+json": {
       "model_id": "3c32bbc2a93646f8a185aae4578eb85c",
       "version_major": 2,
       "version_minor": 0
      },
      "text/plain": [
       "Tab(children=(Output(layout=Layout(max_height='600px', max_width='940px', overflow='scroll')), Output(layout=L…"
      ]
     },
     "metadata": {},
     "output_type": "display_data"
    }
   ],
   "source": [
    "%%gremlin\n",
    "\n",
    "g.addV(\"Terminal\").property(id,\"TERM-1\").property(\"name\",\"TERM-1\").property(\"coord_x\",42).property(\"coord_y\",35).as(\"TERM-1\").\n",
    "addV(\"Terminal\").property(id,\"TERM-2\").property(\"name\",\"TERM-2\").property(\"coord_x\",32).property(\"coord_y\",95).as(\"TERM-2\").\n",
    "addV(\"Terminal\").property(id,\"TERM-3\").property(\"name\",\"TERM-3\").property(\"coord_x\",52).property(\"coord_y\",89).as(\"TERM-3\").\n",
    "addV(\"Terminal\").property(id,\"TERM-4\").property(\"name\",\"TERM-4\").property(\"coord_x\",88).property(\"coord_y\",19).as(\"TERM-4\").\n",
    "addV(\"Terminal\").property(id,\"TERM-5\").property(\"name\",\"TERM-5\").property(\"coord_x\",88).property(\"coord_y\",83).as(\"TERM-5\").\n",
    "addV(\"Terminal\").property(id,\"TERM-6\").property(\"name\",\"TERM-6\").property(\"coord_x\",13).property(\"coord_y\",79).as(\"TERM-6\").\n",
    "addV(\"Terminal\").property(id,\"TERM-7\").property(\"name\",\"TERM-7\").property(\"coord_x\",41).property(\"coord_y\",59).as(\"TERM-7\").\n",
    "addV(\"Terminal\").property(id,\"TERM-8\").property(\"name\",\"TERM-8\").property(\"coord_x\",30).property(\"coord_y\",98).as(\"TERM-8\").\n",
    "addV(\"Terminal\").property(id,\"TERM-9\").property(\"name\",\"TERM-9\").property(\"coord_x\",7).property(\"coord_y\",24).as(\"TERM-9\").\n",
    "addV(\"Terminal\").property(id,\"TERM-10\").property(\"name\",\"TERM-10\").property(\"coord_x\",40).property(\"coord_y\",81).as(\"TERM-10\").\n",
    "addV(\"Terminal\").property(id,\"TERM-11\").property(\"name\",\"TERM-11\").property(\"coord_x\",61).property(\"coord_y\",82).as(\"TERM-11\").\n",
    "addV(\"Terminal\").property(id,\"TERM-12\").property(\"name\",\"TERM-12\").property(\"coord_x\",94).property(\"coord_y\",29).as(\"TERM-12\").\n",
    "addV(\"Terminal\").property(id,\"TERM-13\").property(\"name\",\"TERM-13\").property(\"coord_x\",66).property(\"coord_y\",14).as(\"TERM-13\").\n",
    "addV(\"Terminal\").property(id,\"TERM-14\").property(\"name\",\"TERM-14\").property(\"coord_x\",14).property(\"coord_y\",88).as(\"TERM-14\").\n",
    "addV(\"Terminal\").property(id,\"TERM-15\").property(\"name\",\"TERM-15\").property(\"coord_x\",98).property(\"coord_y\",7).as(\"TERM-15\").\n",
    "addV(\"Terminal\").property(id,\"TERM-16\").property(\"name\",\"TERM-16\").property(\"coord_x\",100).property(\"coord_y\",69).as(\"TERM-16\").\n",
    "addV(\"Terminal\").property(id,\"TERM-17\").property(\"name\",\"TERM-17\").property(\"coord_x\",34).property(\"coord_y\",2).as(\"TERM-17\").\n",
    "addV(\"Terminal\").property(id,\"TERM-18\").property(\"name\",\"TERM-18\").property(\"coord_x\",14).property(\"coord_y\",96).as(\"TERM-18\").\n",
    "addV(\"Terminal\").property(id,\"TERM-19\").property(\"name\",\"TERM-19\").property(\"coord_x\",44).property(\"coord_y\",22).as(\"TERM-19\").\n",
    "addV(\"Terminal\").property(id,\"TERM-20\").property(\"name\",\"TERM-20\").property(\"coord_x\",12).property(\"coord_y\",54).as(\"TERM-20\").\n",
    "addV(\"Terminal\").property(id,\"TERM-21\").property(\"name\",\"TERM-21\").property(\"coord_x\",55).property(\"coord_y\",6).as(\"TERM-21\").\n",
    "addV(\"Terminal\").property(id,\"TERM-22\").property(\"name\",\"TERM-22\").property(\"coord_x\",53).property(\"coord_y\",85).as(\"TERM-22\").\n",
    "addV(\"Terminal\").property(id,\"TERM-23\").property(\"name\",\"TERM-23\").property(\"coord_x\",24).property(\"coord_y\",50).as(\"TERM-23\").\n",
    "addV(\"Terminal\").property(id,\"TERM-24\").property(\"name\",\"TERM-24\").property(\"coord_x\",77).property(\"coord_y\",45).as(\"TERM-24\").\n",
    "addV(\"Terminal\").property(id,\"TERM-25\").property(\"name\",\"TERM-25\").property(\"coord_x\",65).property(\"coord_y\",81).as(\"TERM-25\").\n",
    "addV(\"Terminal\").property(id,\"TERM-26\").property(\"name\",\"TERM-26\").property(\"coord_x\",33).property(\"coord_y\",59).as(\"TERM-26\").\n",
    "addV(\"Terminal\").property(id,\"TERM-27\").property(\"name\",\"TERM-27\").property(\"coord_x\",92).property(\"coord_y\",29).as(\"TERM-27\").\n",
    "addV(\"Terminal\").property(id,\"TERM-28\").property(\"name\",\"TERM-28\").property(\"coord_x\",10).property(\"coord_y\",62).as(\"TERM-28\").\n",
    "addV(\"Terminal\").property(id,\"TERM-29\").property(\"name\",\"TERM-29\").property(\"coord_x\",42).property(\"coord_y\",39).as(\"TERM-29\").\n",
    "addV(\"Terminal\").property(id,\"TERM-30\").property(\"name\",\"TERM-30\").property(\"coord_x\",32).property(\"coord_y\",41).as(\"TERM-30\").\n",
    "addV(\"Terminal\").property(id,\"TERM-31\").property(\"name\",\"TERM-31\").property(\"coord_x\",61).property(\"coord_y\",90).as(\"TERM-31\").\n",
    "addV(\"Terminal\").property(id,\"TERM-32\").property(\"name\",\"TERM-32\").property(\"coord_x\",63).property(\"coord_y\",58).as(\"TERM-32\").\n",
    "addV(\"Terminal\").property(id,\"TERM-33\").property(\"name\",\"TERM-33\").property(\"coord_x\",73).property(\"coord_y\",78).as(\"TERM-33\").\n",
    "addV(\"Terminal\").property(id,\"TERM-34\").property(\"name\",\"TERM-34\").property(\"coord_x\",22).property(\"coord_y\",36).as(\"TERM-34\").\n",
    "addV(\"Terminal\").property(id,\"TERM-35\").property(\"name\",\"TERM-35\").property(\"coord_x\",21).property(\"coord_y\",64).as(\"TERM-35\").\n",
    "addV(\"Terminal\").property(id,\"TERM-36\").property(\"name\",\"TERM-36\").property(\"coord_x\",83).property(\"coord_y\",50).as(\"TERM-36\").\n",
    "addV(\"Terminal\").property(id,\"TERM-37\").property(\"name\",\"TERM-37\").property(\"coord_x\",61).property(\"coord_y\",21).as(\"TERM-37\").\n",
    "addV(\"Terminal\").property(id,\"TERM-38\").property(\"name\",\"TERM-38\").property(\"coord_x\",82).property(\"coord_y\",17).as(\"TERM-38\").\n",
    "addV(\"Terminal\").property(id,\"TERM-39\").property(\"name\",\"TERM-39\").property(\"coord_x\",47).property(\"coord_y\",13).as(\"TERM-39\").\n",
    "addV(\"Terminal\").property(id,\"TERM-40\").property(\"name\",\"TERM-40\").property(\"coord_x\",34).property(\"coord_y\",48).as(\"TERM-40\").\n",
    "addV(\"Terminal\").property(id,\"TERM-41\").property(\"name\",\"TERM-41\").property(\"coord_x\",54).property(\"coord_y\",66).as(\"TERM-41\").\n",
    "addV(\"Terminal\").property(id,\"TERM-42\").property(\"name\",\"TERM-42\").property(\"coord_x\",8).property(\"coord_y\",20).as(\"TERM-42\").\n",
    "addV(\"Terminal\").property(id,\"TERM-43\").property(\"name\",\"TERM-43\").property(\"coord_x\",38).property(\"coord_y\",48).as(\"TERM-43\").\n",
    "addV(\"Terminal\").property(id,\"TERM-44\").property(\"name\",\"TERM-44\").property(\"coord_x\",11).property(\"coord_y\",47).as(\"TERM-44\").\n",
    "addV(\"Terminal\").property(id,\"TERM-45\").property(\"name\",\"TERM-45\").property(\"coord_x\",84).property(\"coord_y\",16).as(\"TERM-45\").\n",
    "addV(\"Terminal\").property(id,\"TERM-46\").property(\"name\",\"TERM-46\").property(\"coord_x\",6).property(\"coord_y\",2).as(\"TERM-46\").\n",
    "addV(\"Terminal\").property(id,\"TERM-47\").property(\"name\",\"TERM-47\").property(\"coord_x\",3).property(\"coord_y\",65).as(\"TERM-47\").\n",
    "addV(\"Terminal\").property(id,\"TERM-48\").property(\"name\",\"TERM-48\").property(\"coord_x\",94).property(\"coord_y\",54).as(\"TERM-48\").\n",
    "addV(\"Terminal\").property(id,\"TERM-49\").property(\"name\",\"TERM-49\").property(\"coord_x\",17).property(\"coord_y\",56).as(\"TERM-49\").\n",
    "addV(\"Terminal\").property(id,\"TERM-50\").property(\"name\",\"TERM-50\").property(\"coord_x\",36).property(\"coord_y\",88).as(\"TERM-50\").\n",
    "addV(\"Terminal\").property(id,\"TERM-51\").property(\"name\",\"TERM-51\").property(\"coord_x\",34).property(\"coord_y\",95).as(\"TERM-51\").\n",
    "addV(\"Terminal\").property(id,\"TERM-52\").property(\"name\",\"TERM-52\").property(\"coord_x\",75).property(\"coord_y\",64).as(\"TERM-52\").\n",
    "addV(\"Terminal\").property(id,\"TERM-53\").property(\"name\",\"TERM-53\").property(\"coord_x\",79).property(\"coord_y\",63).as(\"TERM-53\").\n",
    "addV(\"Terminal\").property(id,\"TERM-54\").property(\"name\",\"TERM-54\").property(\"coord_x\",18).property(\"coord_y\",36).as(\"TERM-54\").\n",
    "addV(\"Terminal\").property(id,\"TERM-55\").property(\"name\",\"TERM-55\").property(\"coord_x\",43).property(\"coord_y\",59).as(\"TERM-55\").\n",
    "addV(\"Terminal\").property(id,\"TERM-56\").property(\"name\",\"TERM-56\").property(\"coord_x\",20).property(\"coord_y\",13).as(\"TERM-56\").\n",
    "addV(\"Terminal\").property(id,\"TERM-57\").property(\"name\",\"TERM-57\").property(\"coord_x\",44).property(\"coord_y\",60).as(\"TERM-57\").\n",
    "addV(\"Terminal\").property(id,\"TERM-58\").property(\"name\",\"TERM-58\").property(\"coord_x\",5).property(\"coord_y\",14).as(\"TERM-58\").\n",
    "addV(\"Terminal\").property(id,\"TERM-59\").property(\"name\",\"TERM-59\").property(\"coord_x\",38).property(\"coord_y\",34).as(\"TERM-59\").\n",
    "addV(\"Terminal\").property(id,\"TERM-60\").property(\"name\",\"TERM-60\").property(\"coord_x\",5).property(\"coord_y\",72).as(\"TERM-60\").\n",
    "addV(\"Terminal\").property(id,\"TERM-61\").property(\"name\",\"TERM-61\").property(\"coord_x\",83).property(\"coord_y\",76).as(\"TERM-61\").\n",
    "addV(\"Terminal\").property(id,\"TERM-62\").property(\"name\",\"TERM-62\").property(\"coord_x\",19).property(\"coord_y\",77).as(\"TERM-62\").\n",
    "addV(\"Terminal\").property(id,\"TERM-63\").property(\"name\",\"TERM-63\").property(\"coord_x\",97).property(\"coord_y\",85).as(\"TERM-63\").\n",
    "addV(\"Terminal\").property(id,\"TERM-64\").property(\"name\",\"TERM-64\").property(\"coord_x\",22).property(\"coord_y\",43).as(\"TERM-64\").\n",
    "addV(\"Terminal\").property(id,\"TERM-65\").property(\"name\",\"TERM-65\").property(\"coord_x\",34).property(\"coord_y\",30).as(\"TERM-65\").\n",
    "addV(\"Terminal\").property(id,\"TERM-66\").property(\"name\",\"TERM-66\").property(\"coord_x\",74).property(\"coord_y\",20).as(\"TERM-66\").\n",
    "addV(\"Terminal\").property(id,\"TERM-67\").property(\"name\",\"TERM-67\").property(\"coord_x\",22).property(\"coord_y\",68).as(\"TERM-67\").\n",
    "addV(\"Terminal\").property(id,\"TERM-68\").property(\"name\",\"TERM-68\").property(\"coord_x\",97).property(\"coord_y\",16).as(\"TERM-68\").\n",
    "addV(\"Terminal\").property(id,\"TERM-69\").property(\"name\",\"TERM-69\").property(\"coord_x\",17).property(\"coord_y\",4).as(\"TERM-69\").\n",
    "addV(\"Terminal\").property(id,\"TERM-70\").property(\"name\",\"TERM-70\").property(\"coord_x\",33).property(\"coord_y\",61).as(\"TERM-70\").\n",
    "addV(\"Terminal\").property(id,\"TERM-71\").property(\"name\",\"TERM-71\").property(\"coord_x\",3).property(\"coord_y\",62).as(\"TERM-71\").\n",
    "addV(\"Terminal\").property(id,\"TERM-72\").property(\"name\",\"TERM-72\").property(\"coord_x\",92).property(\"coord_y\",18).as(\"TERM-72\").\n",
    "addV(\"Terminal\").property(id,\"TERM-73\").property(\"name\",\"TERM-73\").property(\"coord_x\",58).property(\"coord_y\",74).as(\"TERM-73\").\n",
    "addV(\"Terminal\").property(id,\"TERM-74\").property(\"name\",\"TERM-74\").property(\"coord_x\",99).property(\"coord_y\",97).as(\"TERM-74\").\n",
    "addV(\"Terminal\").property(id,\"TERM-75\").property(\"name\",\"TERM-75\").property(\"coord_x\",64).property(\"coord_y\",98).as(\"TERM-75\").\n",
    "addV(\"Terminal\").property(id,\"TERM-76\").property(\"name\",\"TERM-76\").property(\"coord_x\",3).property(\"coord_y\",81).as(\"TERM-76\").\n",
    "addV(\"Terminal\").property(id,\"TERM-77\").property(\"name\",\"TERM-77\").property(\"coord_x\",70).property(\"coord_y\",39).as(\"TERM-77\").\n",
    "addV(\"Terminal\").property(id,\"TERM-78\").property(\"name\",\"TERM-78\").property(\"coord_x\",11).property(\"coord_y\",83).as(\"TERM-78\").\n",
    "addV(\"Terminal\").property(id,\"TERM-79\").property(\"name\",\"TERM-79\").property(\"coord_x\",65).property(\"coord_y\",62).as(\"TERM-79\").\n",
    "addV(\"Terminal\").property(id,\"TERM-80\").property(\"name\",\"TERM-80\").property(\"coord_x\",60).property(\"coord_y\",33).as(\"TERM-80\")"
   ]
  },
  {
   "cell_type": "code",
   "execution_count": 16,
   "id": "27813bab-7e8c-402c-aff7-bf6356ba2aa8",
   "metadata": {
    "tags": []
   },
   "outputs": [
    {
     "data": {
      "application/vnd.jupyter.widget-view+json": {
       "model_id": "cfc0919cc9744fbf998f14badde4f42c",
       "version_major": 2,
       "version_minor": 0
      },
      "text/plain": [
       "Tab(children=(Output(layout=Layout(max_height='600px', max_width='940px', overflow='scroll')), Output(layout=L…"
      ]
     },
     "metadata": {},
     "output_type": "display_data"
    }
   ],
   "source": [
    "%%gremlin\n",
    "\n",
    "g.addV(\"Terminal\").property(id,\"TERM-81\").property(\"name\",\"TERM-81\").property(\"coord_x\",81).property(\"coord_y\",21).as(\"TERM-81\").\n",
    "addV(\"Terminal\").property(id,\"TERM-82\").property(\"name\",\"TERM-82\").property(\"coord_x\",47).property(\"coord_y\",75).as(\"TERM-82\").\n",
    "addV(\"Terminal\").property(id,\"TERM-83\").property(\"name\",\"TERM-83\").property(\"coord_x\",84).property(\"coord_y\",91).as(\"TERM-83\").\n",
    "addV(\"Terminal\").property(id,\"TERM-84\").property(\"name\",\"TERM-84\").property(\"coord_x\",42).property(\"coord_y\",44).as(\"TERM-84\").\n",
    "addV(\"Terminal\").property(id,\"TERM-85\").property(\"name\",\"TERM-85\").property(\"coord_x\",37).property(\"coord_y\",31).as(\"TERM-85\").\n",
    "addV(\"Terminal\").property(id,\"TERM-86\").property(\"name\",\"TERM-86\").property(\"coord_x\",25).property(\"coord_y\",73).as(\"TERM-86\").\n",
    "addV(\"Terminal\").property(id,\"TERM-87\").property(\"name\",\"TERM-87\").property(\"coord_x\",67).property(\"coord_y\",40).as(\"TERM-87\").\n",
    "addV(\"Terminal\").property(id,\"TERM-88\").property(\"name\",\"TERM-88\").property(\"coord_x\",18).property(\"coord_y\",16).as(\"TERM-88\").\n",
    "addV(\"Terminal\").property(id,\"TERM-89\").property(\"name\",\"TERM-89\").property(\"coord_x\",38).property(\"coord_y\",21).as(\"TERM-89\").\n",
    "addV(\"Terminal\").property(id,\"TERM-90\").property(\"name\",\"TERM-90\").property(\"coord_x\",97).property(\"coord_y\",77).as(\"TERM-90\").\n",
    "addV(\"Terminal\").property(id,\"TERM-91\").property(\"name\",\"TERM-91\").property(\"coord_x\",46).property(\"coord_y\",33).as(\"TERM-91\").\n",
    "addV(\"Terminal\").property(id,\"TERM-92\").property(\"name\",\"TERM-92\").property(\"coord_x\",69).property(\"coord_y\",36).as(\"TERM-92\").\n",
    "addV(\"Terminal\").property(id,\"TERM-93\").property(\"name\",\"TERM-93\").property(\"coord_x\",100).property(\"coord_y\",71).as(\"TERM-93\").\n",
    "addV(\"Terminal\").property(id,\"TERM-94\").property(\"name\",\"TERM-94\").property(\"coord_x\",8).property(\"coord_y\",99).as(\"TERM-94\").\n",
    "addV(\"Terminal\").property(id,\"TERM-95\").property(\"name\",\"TERM-95\").property(\"coord_x\",87).property(\"coord_y\",62).as(\"TERM-95\").\n",
    "addV(\"Terminal\").property(id,\"TERM-96\").property(\"name\",\"TERM-96\").property(\"coord_x\",28).property(\"coord_y\",86).as(\"TERM-96\").\n",
    "addV(\"Terminal\").property(id,\"TERM-97\").property(\"name\",\"TERM-97\").property(\"coord_x\",8).property(\"coord_y\",85).as(\"TERM-97\").\n",
    "addV(\"Terminal\").property(id,\"TERM-98\").property(\"name\",\"TERM-98\").property(\"coord_x\",33).property(\"coord_y\",59).as(\"TERM-98\").\n",
    "addV(\"Terminal\").property(id,\"TERM-99\").property(\"name\",\"TERM-99\").property(\"coord_x\",97).property(\"coord_y\",54).as(\"TERM-99\").\n",
    "addV(\"Terminal\").property(id,\"TERM-100\").property(\"name\",\"TERM-100\").property(\"coord_x\",147).property(\"coord_y\",148).as(\"TERM-100\").\n",
    "addV(\"Terminal\").property(id,\"TERM-101\").property(\"name\",\"TERM-101\").property(\"coord_x\",153).property(\"coord_y\",102).as(\"TERM-101\").\n",
    "addV(\"Terminal\").property(id,\"TERM-102\").property(\"name\",\"TERM-102\").property(\"coord_x\",196).property(\"coord_y\",180).as(\"TERM-102\").\n",
    "addV(\"Terminal\").property(id,\"TERM-103\").property(\"name\",\"TERM-103\").property(\"coord_x\",134).property(\"coord_y\",135).as(\"TERM-103\").\n",
    "addV(\"Terminal\").property(id,\"TERM-104\").property(\"name\",\"TERM-104\").property(\"coord_x\",152).property(\"coord_y\",184).as(\"TERM-104\").\n",
    "addV(\"Terminal\").property(id,\"TERM-105\").property(\"name\",\"TERM-105\").property(\"coord_x\",124).property(\"coord_y\",178).as(\"TERM-105\").\n",
    "addV(\"Terminal\").property(id,\"TERM-106\").property(\"name\",\"TERM-106\").property(\"coord_x\",151).property(\"coord_y\",196).as(\"TERM-106\").\n",
    "addV(\"Terminal\").property(id,\"TERM-107\").property(\"name\",\"TERM-107\").property(\"coord_x\",128).property(\"coord_y\",109).as(\"TERM-107\").\n",
    "addV(\"Terminal\").property(id,\"TERM-108\").property(\"name\",\"TERM-108\").property(\"coord_x\",132).property(\"coord_y\",175).as(\"TERM-108\").\n",
    "addV(\"Terminal\").property(id,\"TERM-109\").property(\"name\",\"TERM-109\").property(\"coord_x\",199).property(\"coord_y\",128).as(\"TERM-109\").\n",
    "addV(\"Terminal\").property(id,\"TERM-110\").property(\"name\",\"TERM-110\").property(\"coord_x\",100).property(\"coord_y\",197).as(\"TERM-110\").\n",
    "addV(\"Terminal\").property(id,\"TERM-111\").property(\"name\",\"TERM-111\").property(\"coord_x\",184).property(\"coord_y\",115).as(\"TERM-111\").\n",
    "addV(\"Terminal\").property(id,\"TERM-112\").property(\"name\",\"TERM-112\").property(\"coord_x\",151).property(\"coord_y\",199).as(\"TERM-112\").\n",
    "addV(\"Terminal\").property(id,\"TERM-113\").property(\"name\",\"TERM-113\").property(\"coord_x\",129).property(\"coord_y\",146).as(\"TERM-113\").\n",
    "addV(\"Terminal\").property(id,\"TERM-114\").property(\"name\",\"TERM-114\").property(\"coord_x\",157).property(\"coord_y\",122).as(\"TERM-114\").\n",
    "addV(\"Terminal\").property(id,\"TERM-115\").property(\"name\",\"TERM-115\").property(\"coord_x\",174).property(\"coord_y\",178).as(\"TERM-115\").\n",
    "addV(\"Terminal\").property(id,\"TERM-116\").property(\"name\",\"TERM-116\").property(\"coord_x\",149).property(\"coord_y\",156).as(\"TERM-116\").\n",
    "addV(\"Terminal\").property(id,\"TERM-117\").property(\"name\",\"TERM-117\").property(\"coord_x\",106).property(\"coord_y\",106).as(\"TERM-117\").\n",
    "addV(\"Terminal\").property(id,\"TERM-118\").property(\"name\",\"TERM-118\").property(\"coord_x\",103).property(\"coord_y\",157).as(\"TERM-118\").\n",
    "addV(\"Terminal\").property(id,\"TERM-119\").property(\"name\",\"TERM-119\").property(\"coord_x\",164).property(\"coord_y\",181).as(\"TERM-119\").\n",
    "addV(\"Terminal\").property(id,\"TERM-120\").property(\"name\",\"TERM-120\").property(\"coord_x\",133).property(\"coord_y\",127).as(\"TERM-120\").\n",
    "addV(\"Terminal\").property(id,\"TERM-121\").property(\"name\",\"TERM-121\").property(\"coord_x\",175).property(\"coord_y\",176).as(\"TERM-121\").\n",
    "addV(\"Terminal\").property(id,\"TERM-122\").property(\"name\",\"TERM-122\").property(\"coord_x\",101).property(\"coord_y\",197).as(\"TERM-122\").\n",
    "addV(\"Terminal\").property(id,\"TERM-123\").property(\"name\",\"TERM-123\").property(\"coord_x\",139).property(\"coord_y\",144).as(\"TERM-123\").\n",
    "addV(\"Terminal\").property(id,\"TERM-124\").property(\"name\",\"TERM-124\").property(\"coord_x\",103).property(\"coord_y\",104).as(\"TERM-124\").\n",
    "addV(\"Terminal\").property(id,\"TERM-125\").property(\"name\",\"TERM-125\").property(\"coord_x\",119).property(\"coord_y\",164).as(\"TERM-125\").\n",
    "addV(\"Terminal\").property(id,\"TERM-126\").property(\"name\",\"TERM-126\").property(\"coord_x\",113).property(\"coord_y\",195).as(\"TERM-126\").\n",
    "addV(\"Terminal\").property(id,\"TERM-127\").property(\"name\",\"TERM-127\").property(\"coord_x\",113).property(\"coord_y\",188).as(\"TERM-127\").\n",
    "addV(\"Terminal\").property(id,\"TERM-128\").property(\"name\",\"TERM-128\").property(\"coord_x\",169).property(\"coord_y\",176).as(\"TERM-128\").\n",
    "addV(\"Terminal\").property(id,\"TERM-129\").property(\"name\",\"TERM-129\").property(\"coord_x\",184).property(\"coord_y\",138).as(\"TERM-129\").\n",
    "addV(\"Terminal\").property(id,\"TERM-130\").property(\"name\",\"TERM-130\").property(\"coord_x\",125).property(\"coord_y\",144).as(\"TERM-130\").\n",
    "addV(\"Terminal\").property(id,\"TERM-131\").property(\"name\",\"TERM-131\").property(\"coord_x\",161).property(\"coord_y\",164).as(\"TERM-131\").\n",
    "addV(\"Terminal\").property(id,\"TERM-132\").property(\"name\",\"TERM-132\").property(\"coord_x\",124).property(\"coord_y\",162).as(\"TERM-132\").\n",
    "addV(\"Terminal\").property(id,\"TERM-133\").property(\"name\",\"TERM-133\").property(\"coord_x\",137).property(\"coord_y\",117).as(\"TERM-133\").\n",
    "addV(\"Terminal\").property(id,\"TERM-134\").property(\"name\",\"TERM-134\").property(\"coord_x\",112).property(\"coord_y\",101).as(\"TERM-134\").\n",
    "addV(\"Terminal\").property(id,\"TERM-135\").property(\"name\",\"TERM-135\").property(\"coord_x\",156).property(\"coord_y\",174).as(\"TERM-135\").\n",
    "addV(\"Terminal\").property(id,\"TERM-136\").property(\"name\",\"TERM-136\").property(\"coord_x\",191).property(\"coord_y\",173).as(\"TERM-136\").\n",
    "addV(\"Terminal\").property(id,\"TERM-137\").property(\"name\",\"TERM-137\").property(\"coord_x\",134).property(\"coord_y\",116).as(\"TERM-137\").\n",
    "addV(\"Terminal\").property(id,\"TERM-138\").property(\"name\",\"TERM-138\").property(\"coord_x\",148).property(\"coord_y\",152).as(\"TERM-138\").\n",
    "addV(\"Terminal\").property(id,\"TERM-139\").property(\"name\",\"TERM-139\").property(\"coord_x\",132).property(\"coord_y\",118).as(\"TERM-139\").\n",
    "addV(\"Terminal\").property(id,\"TERM-140\").property(\"name\",\"TERM-140\").property(\"coord_x\",144).property(\"coord_y\",110).as(\"TERM-140\").\n",
    "addV(\"Terminal\").property(id,\"TERM-141\").property(\"name\",\"TERM-141\").property(\"coord_x\",113).property(\"coord_y\",125).as(\"TERM-141\").\n",
    "addV(\"Terminal\").property(id,\"TERM-142\").property(\"name\",\"TERM-142\").property(\"coord_x\",117).property(\"coord_y\",137).as(\"TERM-142\").\n",
    "addV(\"Terminal\").property(id,\"TERM-143\").property(\"name\",\"TERM-143\").property(\"coord_x\",173).property(\"coord_y\",103).as(\"TERM-143\").\n",
    "addV(\"Terminal\").property(id,\"TERM-144\").property(\"name\",\"TERM-144\").property(\"coord_x\",117).property(\"coord_y\",100).as(\"TERM-144\").\n",
    "addV(\"Terminal\").property(id,\"TERM-145\").property(\"name\",\"TERM-145\").property(\"coord_x\",186).property(\"coord_y\",108).as(\"TERM-145\").\n",
    "addV(\"Terminal\").property(id,\"TERM-146\").property(\"name\",\"TERM-146\").property(\"coord_x\",111).property(\"coord_y\",159).as(\"TERM-146\").\n",
    "addV(\"Terminal\").property(id,\"TERM-147\").property(\"name\",\"TERM-147\").property(\"coord_x\",120).property(\"coord_y\",182).as(\"TERM-147\").\n",
    "addV(\"Terminal\").property(id,\"TERM-148\").property(\"name\",\"TERM-148\").property(\"coord_x\",121).property(\"coord_y\",179).as(\"TERM-148\").\n",
    "addV(\"Terminal\").property(id,\"TERM-149\").property(\"name\",\"TERM-149\").property(\"coord_x\",197).property(\"coord_y\",178).as(\"TERM-149\").\n",
    "addV(\"Terminal\").property(id,\"TERM-150\").property(\"name\",\"TERM-150\").property(\"coord_x\",120).property(\"coord_y\",142).as(\"TERM-150\").\n",
    "addV(\"Terminal\").property(id,\"TERM-151\").property(\"name\",\"TERM-151\").property(\"coord_x\",104).property(\"coord_y\",166).as(\"TERM-151\").\n",
    "addV(\"Terminal\").property(id,\"TERM-152\").property(\"name\",\"TERM-152\").property(\"coord_x\",135).property(\"coord_y\",193).as(\"TERM-152\").\n",
    "addV(\"Terminal\").property(id,\"TERM-153\").property(\"name\",\"TERM-153\").property(\"coord_x\",173).property(\"coord_y\",196).as(\"TERM-153\").\n",
    "addV(\"Terminal\").property(id,\"TERM-154\").property(\"name\",\"TERM-154\").property(\"coord_x\",198).property(\"coord_y\",188).as(\"TERM-154\").\n",
    "addV(\"Terminal\").property(id,\"TERM-155\").property(\"name\",\"TERM-155\").property(\"coord_x\",160).property(\"coord_y\",159).as(\"TERM-155\").\n",
    "addV(\"Terminal\").property(id,\"TERM-156\").property(\"name\",\"TERM-156\").property(\"coord_x\",102).property(\"coord_y\",156).as(\"TERM-156\").\n",
    "addV(\"Terminal\").property(id,\"TERM-157\").property(\"name\",\"TERM-157\").property(\"coord_x\",156).property(\"coord_y\",141).as(\"TERM-157\").\n",
    "addV(\"Terminal\").property(id,\"TERM-158\").property(\"name\",\"TERM-158\").property(\"coord_x\",181).property(\"coord_y\",188).as(\"TERM-158\").\n",
    "addV(\"Terminal\").property(id,\"TERM-159\").property(\"name\",\"TERM-159\").property(\"coord_x\",135).property(\"coord_y\",122).as(\"TERM-159\").\n",
    "addV(\"Terminal\").property(id,\"TERM-160\").property(\"name\",\"TERM-160\").property(\"coord_x\",172).property(\"coord_y\",131).as(\"TERM-160\")"
   ]
  },
  {
   "cell_type": "code",
   "execution_count": 17,
   "id": "b3390e1d-fcb8-4221-83c3-3958e9365db7",
   "metadata": {
    "tags": []
   },
   "outputs": [
    {
     "data": {
      "application/vnd.jupyter.widget-view+json": {
       "model_id": "0dcfb69a6aa64c64a04ff1aa09c9fbd3",
       "version_major": 2,
       "version_minor": 0
      },
      "text/plain": [
       "Tab(children=(Output(layout=Layout(max_height='600px', max_width='940px', overflow='scroll')), Output(layout=L…"
      ]
     },
     "metadata": {},
     "output_type": "display_data"
    }
   ],
   "source": [
    "%%gremlin\n",
    "\n",
    "g.addV(\"Terminal\").property(id,\"TERM-161\").property(\"name\",\"TERM-161\").property(\"coord_x\",121).property(\"coord_y\",116).as(\"TERM-161\").\n",
    "addV(\"Terminal\").property(id,\"TERM-162\").property(\"name\",\"TERM-162\").property(\"coord_x\",196).property(\"coord_y\",190).as(\"TERM-162\").\n",
    "addV(\"Terminal\").property(id,\"TERM-163\").property(\"name\",\"TERM-163\").property(\"coord_x\",185).property(\"coord_y\",190).as(\"TERM-163\").\n",
    "addV(\"Terminal\").property(id,\"TERM-164\").property(\"name\",\"TERM-164\").property(\"coord_x\",197).property(\"coord_y\",104).as(\"TERM-164\").\n",
    "addV(\"Terminal\").property(id,\"TERM-165\").property(\"name\",\"TERM-165\").property(\"coord_x\",131).property(\"coord_y\",166).as(\"TERM-165\").\n",
    "addV(\"Terminal\").property(id,\"TERM-166\").property(\"name\",\"TERM-166\").property(\"coord_x\",199).property(\"coord_y\",149).as(\"TERM-166\").\n",
    "addV(\"Terminal\").property(id,\"TERM-167\").property(\"name\",\"TERM-167\").property(\"coord_x\",167).property(\"coord_y\",157).as(\"TERM-167\").\n",
    "addV(\"Terminal\").property(id,\"TERM-168\").property(\"name\",\"TERM-168\").property(\"coord_x\",184).property(\"coord_y\",116).as(\"TERM-168\").\n",
    "addV(\"Terminal\").property(id,\"TERM-169\").property(\"name\",\"TERM-169\").property(\"coord_x\",109).property(\"coord_y\",171).as(\"TERM-169\").\n",
    "addV(\"Terminal\").property(id,\"TERM-170\").property(\"name\",\"TERM-170\").property(\"coord_x\",192).property(\"coord_y\",176).as(\"TERM-170\").\n",
    "addV(\"Terminal\").property(id,\"TERM-171\").property(\"name\",\"TERM-171\").property(\"coord_x\",122).property(\"coord_y\",115).as(\"TERM-171\").\n",
    "addV(\"Terminal\").property(id,\"TERM-172\").property(\"name\",\"TERM-172\").property(\"coord_x\",145).property(\"coord_y\",194).as(\"TERM-172\").\n",
    "addV(\"Terminal\").property(id,\"TERM-173\").property(\"name\",\"TERM-173\").property(\"coord_x\",176).property(\"coord_y\",115).as(\"TERM-173\").\n",
    "addV(\"Terminal\").property(id,\"TERM-174\").property(\"name\",\"TERM-174\").property(\"coord_x\",106).property(\"coord_y\",156).as(\"TERM-174\").\n",
    "addV(\"Terminal\").property(id,\"TERM-175\").property(\"name\",\"TERM-175\").property(\"coord_x\",129).property(\"coord_y\",115).as(\"TERM-175\").\n",
    "addV(\"Terminal\").property(id,\"TERM-176\").property(\"name\",\"TERM-176\").property(\"coord_x\",198).property(\"coord_y\",179).as(\"TERM-176\").\n",
    "addV(\"Terminal\").property(id,\"TERM-177\").property(\"name\",\"TERM-177\").property(\"coord_x\",158).property(\"coord_y\",173).as(\"TERM-177\").\n",
    "addV(\"Terminal\").property(id,\"TERM-178\").property(\"name\",\"TERM-178\").property(\"coord_x\",192).property(\"coord_y\",161).as(\"TERM-178\").\n",
    "addV(\"Terminal\").property(id,\"TERM-179\").property(\"name\",\"TERM-179\").property(\"coord_x\",193).property(\"coord_y\",134).as(\"TERM-179\").\n",
    "addV(\"Terminal\").property(id,\"TERM-180\").property(\"name\",\"TERM-180\").property(\"coord_x\",126).property(\"coord_y\",135).as(\"TERM-180\").\n",
    "addV(\"Terminal\").property(id,\"TERM-181\").property(\"name\",\"TERM-181\").property(\"coord_x\",192).property(\"coord_y\",195).as(\"TERM-181\").\n",
    "addV(\"Terminal\").property(id,\"TERM-182\").property(\"name\",\"TERM-182\").property(\"coord_x\",104).property(\"coord_y\",129).as(\"TERM-182\").\n",
    "addV(\"Terminal\").property(id,\"TERM-183\").property(\"name\",\"TERM-183\").property(\"coord_x\",166).property(\"coord_y\",143).as(\"TERM-183\").\n",
    "addV(\"Terminal\").property(id,\"TERM-184\").property(\"name\",\"TERM-184\").property(\"coord_x\",157).property(\"coord_y\",197).as(\"TERM-184\").\n",
    "addV(\"Terminal\").property(id,\"TERM-185\").property(\"name\",\"TERM-185\").property(\"coord_x\",103).property(\"coord_y\",151).as(\"TERM-185\").\n",
    "addV(\"Terminal\").property(id,\"TERM-186\").property(\"name\",\"TERM-186\").property(\"coord_x\",151).property(\"coord_y\",115).as(\"TERM-186\").\n",
    "addV(\"Terminal\").property(id,\"TERM-187\").property(\"name\",\"TERM-187\").property(\"coord_x\",195).property(\"coord_y\",142).as(\"TERM-187\").\n",
    "addV(\"Terminal\").property(id,\"TERM-188\").property(\"name\",\"TERM-188\").property(\"coord_x\",116).property(\"coord_y\",177).as(\"TERM-188\").\n",
    "addV(\"Terminal\").property(id,\"TERM-189\").property(\"name\",\"TERM-189\").property(\"coord_x\",168).property(\"coord_y\",103).as(\"TERM-189\").\n",
    "addV(\"Terminal\").property(id,\"TERM-190\").property(\"name\",\"TERM-190\").property(\"coord_x\",152).property(\"coord_y\",164).as(\"TERM-190\").\n",
    "addV(\"Terminal\").property(id,\"TERM-191\").property(\"name\",\"TERM-191\").property(\"coord_x\",176).property(\"coord_y\",103).as(\"TERM-191\").\n",
    "addV(\"Terminal\").property(id,\"TERM-192\").property(\"name\",\"TERM-192\").property(\"coord_x\",104).property(\"coord_y\",142).as(\"TERM-192\").\n",
    "addV(\"Terminal\").property(id,\"TERM-193\").property(\"name\",\"TERM-193\").property(\"coord_x\",106).property(\"coord_y\",116).as(\"TERM-193\").\n",
    "addV(\"Terminal\").property(id,\"TERM-194\").property(\"name\",\"TERM-194\").property(\"coord_x\",139).property(\"coord_y\",199).as(\"TERM-194\").\n",
    "addV(\"Terminal\").property(id,\"TERM-195\").property(\"name\",\"TERM-195\").property(\"coord_x\",128).property(\"coord_y\",164).as(\"TERM-195\").\n",
    "addV(\"Terminal\").property(id,\"TERM-196\").property(\"name\",\"TERM-196\").property(\"coord_x\",132).property(\"coord_y\",126).as(\"TERM-196\").\n",
    "addV(\"Terminal\").property(id,\"TERM-197\").property(\"name\",\"TERM-197\").property(\"coord_x\",169).property(\"coord_y\",138).as(\"TERM-197\").\n",
    "addV(\"Terminal\").property(id,\"TERM-198\").property(\"name\",\"TERM-198\").property(\"coord_x\",127).property(\"coord_y\",177).as(\"TERM-198\").\n",
    "addV(\"Terminal\").property(id,\"TERM-199\").property(\"name\",\"TERM-199\").property(\"coord_x\",116).property(\"coord_y\",139).as(\"TERM-199\").\n",
    "addV(\"Terminal\").property(id,\"TERM-200\").property(\"name\",\"TERM-200\").property(\"coord_x\",253).property(\"coord_y\",255).as(\"TERM-200\").\n",
    "addV(\"Terminal\").property(id,\"TERM-201\").property(\"name\",\"TERM-201\").property(\"coord_x\",201).property(\"coord_y\",300).as(\"TERM-201\").\n",
    "addV(\"Terminal\").property(id,\"TERM-202\").property(\"name\",\"TERM-202\").property(\"coord_x\",238).property(\"coord_y\",216).as(\"TERM-202\").\n",
    "addV(\"Terminal\").property(id,\"TERM-203\").property(\"name\",\"TERM-203\").property(\"coord_x\",223).property(\"coord_y\",271).as(\"TERM-203\").\n",
    "addV(\"Terminal\").property(id,\"TERM-204\").property(\"name\",\"TERM-204\").property(\"coord_x\",244).property(\"coord_y\",267).as(\"TERM-204\").\n",
    "addV(\"Terminal\").property(id,\"TERM-205\").property(\"name\",\"TERM-205\").property(\"coord_x\",290).property(\"coord_y\",247).as(\"TERM-205\").\n",
    "addV(\"Terminal\").property(id,\"TERM-206\").property(\"name\",\"TERM-206\").property(\"coord_x\",295).property(\"coord_y\",222).as(\"TERM-206\").\n",
    "addV(\"Terminal\").property(id,\"TERM-207\").property(\"name\",\"TERM-207\").property(\"coord_x\",264).property(\"coord_y\",284).as(\"TERM-207\").\n",
    "addV(\"Terminal\").property(id,\"TERM-208\").property(\"name\",\"TERM-208\").property(\"coord_x\",252).property(\"coord_y\",223).as(\"TERM-208\").\n",
    "addV(\"Terminal\").property(id,\"TERM-209\").property(\"name\",\"TERM-209\").property(\"coord_x\",253).property(\"coord_y\",219).as(\"TERM-209\").\n",
    "addV(\"Terminal\").property(id,\"TERM-210\").property(\"name\",\"TERM-210\").property(\"coord_x\",215).property(\"coord_y\",296).as(\"TERM-210\").\n",
    "addV(\"Terminal\").property(id,\"TERM-211\").property(\"name\",\"TERM-211\").property(\"coord_x\",220).property(\"coord_y\",228).as(\"TERM-211\").\n",
    "addV(\"Terminal\").property(id,\"TERM-212\").property(\"name\",\"TERM-212\").property(\"coord_x\",245).property(\"coord_y\",237).as(\"TERM-212\").\n",
    "addV(\"Terminal\").property(id,\"TERM-213\").property(\"name\",\"TERM-213\").property(\"coord_x\",237).property(\"coord_y\",223).as(\"TERM-213\").\n",
    "addV(\"Terminal\").property(id,\"TERM-214\").property(\"name\",\"TERM-214\").property(\"coord_x\",290).property(\"coord_y\",276).as(\"TERM-214\").\n",
    "addV(\"Terminal\").property(id,\"TERM-215\").property(\"name\",\"TERM-215\").property(\"coord_x\",232).property(\"coord_y\",299).as(\"TERM-215\").\n",
    "addV(\"Terminal\").property(id,\"TERM-216\").property(\"name\",\"TERM-216\").property(\"coord_x\",219).property(\"coord_y\",251).as(\"TERM-216\").\n",
    "addV(\"Terminal\").property(id,\"TERM-217\").property(\"name\",\"TERM-217\").property(\"coord_x\",268).property(\"coord_y\",277).as(\"TERM-217\").\n",
    "addV(\"Terminal\").property(id,\"TERM-218\").property(\"name\",\"TERM-218\").property(\"coord_x\",261).property(\"coord_y\",211).as(\"TERM-218\").\n",
    "addV(\"Terminal\").property(id,\"TERM-219\").property(\"name\",\"TERM-219\").property(\"coord_x\",287).property(\"coord_y\",296).as(\"TERM-219\").\n",
    "addV(\"Terminal\").property(id,\"TERM-220\").property(\"name\",\"TERM-220\").property(\"coord_x\",254).property(\"coord_y\",286).as(\"TERM-220\").\n",
    "addV(\"Terminal\").property(id,\"TERM-221\").property(\"name\",\"TERM-221\").property(\"coord_x\",222).property(\"coord_y\",261).as(\"TERM-221\").\n",
    "addV(\"Terminal\").property(id,\"TERM-222\").property(\"name\",\"TERM-222\").property(\"coord_x\",206).property(\"coord_y\",233).as(\"TERM-222\").\n",
    "addV(\"Terminal\").property(id,\"TERM-223\").property(\"name\",\"TERM-223\").property(\"coord_x\",235).property(\"coord_y\",236).as(\"TERM-223\").\n",
    "addV(\"Terminal\").property(id,\"TERM-224\").property(\"name\",\"TERM-224\").property(\"coord_x\",240).property(\"coord_y\",266).as(\"TERM-224\").\n",
    "addV(\"Terminal\").property(id,\"TERM-225\").property(\"name\",\"TERM-225\").property(\"coord_x\",219).property(\"coord_y\",213).as(\"TERM-225\").\n",
    "addV(\"Terminal\").property(id,\"TERM-226\").property(\"name\",\"TERM-226\").property(\"coord_x\",238).property(\"coord_y\",268).as(\"TERM-226\").\n",
    "addV(\"Terminal\").property(id,\"TERM-227\").property(\"name\",\"TERM-227\").property(\"coord_x\",292).property(\"coord_y\",200).as(\"TERM-227\").\n",
    "addV(\"Terminal\").property(id,\"TERM-228\").property(\"name\",\"TERM-228\").property(\"coord_x\",264).property(\"coord_y\",231).as(\"TERM-228\").\n",
    "addV(\"Terminal\").property(id,\"TERM-229\").property(\"name\",\"TERM-229\").property(\"coord_x\",292).property(\"coord_y\",230).as(\"TERM-229\").\n",
    "addV(\"Terminal\").property(id,\"TERM-230\").property(\"name\",\"TERM-230\").property(\"coord_x\",224).property(\"coord_y\",257).as(\"TERM-230\").\n",
    "addV(\"Terminal\").property(id,\"TERM-231\").property(\"name\",\"TERM-231\").property(\"coord_x\",236).property(\"coord_y\",206).as(\"TERM-231\").\n",
    "addV(\"Terminal\").property(id,\"TERM-232\").property(\"name\",\"TERM-232\").property(\"coord_x\",252).property(\"coord_y\",285).as(\"TERM-232\").\n",
    "addV(\"Terminal\").property(id,\"TERM-233\").property(\"name\",\"TERM-233\").property(\"coord_x\",273).property(\"coord_y\",211).as(\"TERM-233\").\n",
    "addV(\"Terminal\").property(id,\"TERM-234\").property(\"name\",\"TERM-234\").property(\"coord_x\",200).property(\"coord_y\",205).as(\"TERM-234\").\n",
    "addV(\"Terminal\").property(id,\"TERM-235\").property(\"name\",\"TERM-235\").property(\"coord_x\",293).property(\"coord_y\",238).as(\"TERM-235\").\n",
    "addV(\"Terminal\").property(id,\"TERM-236\").property(\"name\",\"TERM-236\").property(\"coord_x\",213).property(\"coord_y\",212).as(\"TERM-236\").\n",
    "addV(\"Terminal\").property(id,\"TERM-237\").property(\"name\",\"TERM-237\").property(\"coord_x\",226).property(\"coord_y\",298).as(\"TERM-237\").\n",
    "addV(\"Terminal\").property(id,\"TERM-238\").property(\"name\",\"TERM-238\").property(\"coord_x\",216).property(\"coord_y\",218).as(\"TERM-238\").\n",
    "addV(\"Terminal\").property(id,\"TERM-239\").property(\"name\",\"TERM-239\").property(\"coord_x\",282).property(\"coord_y\",264).as(\"TERM-239\").\n",
    "addV(\"Terminal\").property(id,\"TERM-240\").property(\"name\",\"TERM-240\").property(\"coord_x\",298).property(\"coord_y\",290).as(\"TERM-240\")"
   ]
  },
  {
   "cell_type": "code",
   "execution_count": 18,
   "id": "0a43275e-dadc-4f88-abbb-470e75c27ee0",
   "metadata": {
    "tags": []
   },
   "outputs": [
    {
     "data": {
      "application/vnd.jupyter.widget-view+json": {
       "model_id": "2417d5e51bf5467ab4a889170240aa55",
       "version_major": 2,
       "version_minor": 0
      },
      "text/plain": [
       "Tab(children=(Output(layout=Layout(max_height='600px', max_width='940px', overflow='scroll')), Output(layout=L…"
      ]
     },
     "metadata": {},
     "output_type": "display_data"
    }
   ],
   "source": [
    "%%gremlin\n",
    "\n",
    "g.addV(\"Terminal\").property(id,\"TERM-241\").property(\"name\",\"TERM-241\").property(\"coord_x\",241).property(\"coord_y\",225).as(\"TERM-241\").\n",
    "addV(\"Terminal\").property(id,\"TERM-242\").property(\"name\",\"TERM-242\").property(\"coord_x\",247).property(\"coord_y\",239).as(\"TERM-242\").\n",
    "addV(\"Terminal\").property(id,\"TERM-243\").property(\"name\",\"TERM-243\").property(\"coord_x\",227).property(\"coord_y\",274).as(\"TERM-243\").\n",
    "addV(\"Terminal\").property(id,\"TERM-244\").property(\"name\",\"TERM-244\").property(\"coord_x\",215).property(\"coord_y\",259).as(\"TERM-244\").\n",
    "addV(\"Terminal\").property(id,\"TERM-245\").property(\"name\",\"TERM-245\").property(\"coord_x\",225).property(\"coord_y\",227).as(\"TERM-245\").\n",
    "addV(\"Terminal\").property(id,\"TERM-246\").property(\"name\",\"TERM-246\").property(\"coord_x\",270).property(\"coord_y\",233).as(\"TERM-246\").\n",
    "addV(\"Terminal\").property(id,\"TERM-247\").property(\"name\",\"TERM-247\").property(\"coord_x\",263).property(\"coord_y\",263).as(\"TERM-247\").\n",
    "addV(\"Terminal\").property(id,\"TERM-248\").property(\"name\",\"TERM-248\").property(\"coord_x\",271).property(\"coord_y\",262).as(\"TERM-248\").\n",
    "addV(\"Terminal\").property(id,\"TERM-249\").property(\"name\",\"TERM-249\").property(\"coord_x\",232).property(\"coord_y\",220).as(\"TERM-249\").\n",
    "addV(\"Terminal\").property(id,\"TERM-250\").property(\"name\",\"TERM-250\").property(\"coord_x\",255).property(\"coord_y\",265).as(\"TERM-250\").\n",
    "addV(\"Terminal\").property(id,\"TERM-251\").property(\"name\",\"TERM-251\").property(\"coord_x\",300).property(\"coord_y\",261).as(\"TERM-251\").\n",
    "addV(\"Terminal\").property(id,\"TERM-252\").property(\"name\",\"TERM-252\").property(\"coord_x\",228).property(\"coord_y\",282).as(\"TERM-252\").\n",
    "addV(\"Terminal\").property(id,\"TERM-253\").property(\"name\",\"TERM-253\").property(\"coord_x\",256).property(\"coord_y\",232).as(\"TERM-253\").\n",
    "addV(\"Terminal\").property(id,\"TERM-254\").property(\"name\",\"TERM-254\").property(\"coord_x\",288).property(\"coord_y\",210).as(\"TERM-254\").\n",
    "addV(\"Terminal\").property(id,\"TERM-255\").property(\"name\",\"TERM-255\").property(\"coord_x\",216).property(\"coord_y\",223).as(\"TERM-255\").\n",
    "addV(\"Terminal\").property(id,\"TERM-256\").property(\"name\",\"TERM-256\").property(\"coord_x\",244).property(\"coord_y\",211).as(\"TERM-256\").\n",
    "addV(\"Terminal\").property(id,\"TERM-257\").property(\"name\",\"TERM-257\").property(\"coord_x\",209).property(\"coord_y\",248).as(\"TERM-257\").\n",
    "addV(\"Terminal\").property(id,\"TERM-258\").property(\"name\",\"TERM-258\").property(\"coord_x\",234).property(\"coord_y\",233).as(\"TERM-258\").\n",
    "addV(\"Terminal\").property(id,\"TERM-259\").property(\"name\",\"TERM-259\").property(\"coord_x\",299).property(\"coord_y\",235).as(\"TERM-259\").\n",
    "addV(\"Terminal\").property(id,\"TERM-260\").property(\"name\",\"TERM-260\").property(\"coord_x\",265).property(\"coord_y\",207).as(\"TERM-260\").\n",
    "addV(\"Terminal\").property(id,\"TERM-261\").property(\"name\",\"TERM-261\").property(\"coord_x\",300).property(\"coord_y\",298).as(\"TERM-261\").\n",
    "addV(\"Terminal\").property(id,\"TERM-262\").property(\"name\",\"TERM-262\").property(\"coord_x\",200).property(\"coord_y\",230).as(\"TERM-262\").\n",
    "addV(\"Terminal\").property(id,\"TERM-263\").property(\"name\",\"TERM-263\").property(\"coord_x\",256).property(\"coord_y\",200).as(\"TERM-263\").\n",
    "addV(\"Terminal\").property(id,\"TERM-264\").property(\"name\",\"TERM-264\").property(\"coord_x\",233).property(\"coord_y\",206).as(\"TERM-264\").\n",
    "addV(\"Terminal\").property(id,\"TERM-265\").property(\"name\",\"TERM-265\").property(\"coord_x\",233).property(\"coord_y\",277).as(\"TERM-265\").\n",
    "addV(\"Terminal\").property(id,\"TERM-266\").property(\"name\",\"TERM-266\").property(\"coord_x\",288).property(\"coord_y\",297).as(\"TERM-266\").\n",
    "addV(\"Terminal\").property(id,\"TERM-267\").property(\"name\",\"TERM-267\").property(\"coord_x\",208).property(\"coord_y\",261).as(\"TERM-267\").\n",
    "addV(\"Terminal\").property(id,\"TERM-268\").property(\"name\",\"TERM-268\").property(\"coord_x\",242).property(\"coord_y\",284).as(\"TERM-268\").\n",
    "addV(\"Terminal\").property(id,\"TERM-269\").property(\"name\",\"TERM-269\").property(\"coord_x\",219).property(\"coord_y\",299).as(\"TERM-269\").\n",
    "addV(\"Terminal\").property(id,\"TERM-270\").property(\"name\",\"TERM-270\").property(\"coord_x\",293).property(\"coord_y\",261).as(\"TERM-270\").\n",
    "addV(\"Terminal\").property(id,\"TERM-271\").property(\"name\",\"TERM-271\").property(\"coord_x\",281).property(\"coord_y\",211).as(\"TERM-271\").\n",
    "addV(\"Terminal\").property(id,\"TERM-272\").property(\"name\",\"TERM-272\").property(\"coord_x\",287).property(\"coord_y\",265).as(\"TERM-272\").\n",
    "addV(\"Terminal\").property(id,\"TERM-273\").property(\"name\",\"TERM-273\").property(\"coord_x\",245).property(\"coord_y\",255).as(\"TERM-273\").\n",
    "addV(\"Terminal\").property(id,\"TERM-274\").property(\"name\",\"TERM-274\").property(\"coord_x\",285).property(\"coord_y\",222).as(\"TERM-274\").\n",
    "addV(\"Terminal\").property(id,\"TERM-275\").property(\"name\",\"TERM-275\").property(\"coord_x\",242).property(\"coord_y\",285).as(\"TERM-275\").\n",
    "addV(\"Terminal\").property(id,\"TERM-276\").property(\"name\",\"TERM-276\").property(\"coord_x\",234).property(\"coord_y\",220).as(\"TERM-276\").\n",
    "addV(\"Terminal\").property(id,\"TERM-277\").property(\"name\",\"TERM-277\").property(\"coord_x\",228).property(\"coord_y\",207).as(\"TERM-277\").\n",
    "addV(\"Terminal\").property(id,\"TERM-278\").property(\"name\",\"TERM-278\").property(\"coord_x\",296).property(\"coord_y\",250).as(\"TERM-278\").\n",
    "addV(\"Terminal\").property(id,\"TERM-279\").property(\"name\",\"TERM-279\").property(\"coord_x\",216).property(\"coord_y\",236).as(\"TERM-279\").\n",
    "addV(\"Terminal\").property(id,\"TERM-280\").property(\"name\",\"TERM-280\").property(\"coord_x\",264).property(\"coord_y\",270).as(\"TERM-280\").\n",
    "addV(\"Terminal\").property(id,\"TERM-281\").property(\"name\",\"TERM-281\").property(\"coord_x\",285).property(\"coord_y\",261).as(\"TERM-281\").\n",
    "addV(\"Terminal\").property(id,\"TERM-282\").property(\"name\",\"TERM-282\").property(\"coord_x\",276).property(\"coord_y\",234).as(\"TERM-282\").\n",
    "addV(\"Terminal\").property(id,\"TERM-283\").property(\"name\",\"TERM-283\").property(\"coord_x\",271).property(\"coord_y\",223).as(\"TERM-283\").\n",
    "addV(\"Terminal\").property(id,\"TERM-284\").property(\"name\",\"TERM-284\").property(\"coord_x\",265).property(\"coord_y\",277).as(\"TERM-284\").\n",
    "addV(\"Terminal\").property(id,\"TERM-285\").property(\"name\",\"TERM-285\").property(\"coord_x\",271).property(\"coord_y\",237).as(\"TERM-285\").\n",
    "addV(\"Terminal\").property(id,\"TERM-286\").property(\"name\",\"TERM-286\").property(\"coord_x\",216).property(\"coord_y\",277).as(\"TERM-286\").\n",
    "addV(\"Terminal\").property(id,\"TERM-287\").property(\"name\",\"TERM-287\").property(\"coord_x\",249).property(\"coord_y\",244).as(\"TERM-287\").\n",
    "addV(\"Terminal\").property(id,\"TERM-288\").property(\"name\",\"TERM-288\").property(\"coord_x\",236).property(\"coord_y\",244).as(\"TERM-288\").\n",
    "addV(\"Terminal\").property(id,\"TERM-289\").property(\"name\",\"TERM-289\").property(\"coord_x\",250).property(\"coord_y\",273).as(\"TERM-289\").\n",
    "addV(\"Terminal\").property(id,\"TERM-290\").property(\"name\",\"TERM-290\").property(\"coord_x\",210).property(\"coord_y\",221).as(\"TERM-290\").\n",
    "addV(\"Terminal\").property(id,\"TERM-291\").property(\"name\",\"TERM-291\").property(\"coord_x\",263).property(\"coord_y\",294).as(\"TERM-291\").\n",
    "addV(\"Terminal\").property(id,\"TERM-292\").property(\"name\",\"TERM-292\").property(\"coord_x\",200).property(\"coord_y\",209).as(\"TERM-292\").\n",
    "addV(\"Terminal\").property(id,\"TERM-293\").property(\"name\",\"TERM-293\").property(\"coord_x\",227).property(\"coord_y\",264).as(\"TERM-293\").\n",
    "addV(\"Terminal\").property(id,\"TERM-294\").property(\"name\",\"TERM-294\").property(\"coord_x\",259).property(\"coord_y\",223).as(\"TERM-294\").\n",
    "addV(\"Terminal\").property(id,\"TERM-295\").property(\"name\",\"TERM-295\").property(\"coord_x\",236).property(\"coord_y\",267).as(\"TERM-295\").\n",
    "addV(\"Terminal\").property(id,\"TERM-296\").property(\"name\",\"TERM-296\").property(\"coord_x\",300).property(\"coord_y\",276).as(\"TERM-296\").\n",
    "addV(\"Terminal\").property(id,\"TERM-297\").property(\"name\",\"TERM-297\").property(\"coord_x\",238).property(\"coord_y\",260).as(\"TERM-297\").\n",
    "addV(\"Terminal\").property(id,\"TERM-298\").property(\"name\",\"TERM-298\").property(\"coord_x\",243).property(\"coord_y\",225).as(\"TERM-298\").\n",
    "addV(\"Terminal\").property(id,\"TERM-299\").property(\"name\",\"TERM-299\").property(\"coord_x\",218).property(\"coord_y\",261).as(\"TERM-299\").\n",
    "addV(\"Terminal\").property(id,\"TERM-300\").property(\"name\",\"TERM-300\").property(\"coord_x\",389).property(\"coord_y\",389).as(\"TERM-300\").\n",
    "addV(\"Terminal\").property(id,\"TERM-301\").property(\"name\",\"TERM-301\").property(\"coord_x\",344).property(\"coord_y\",333).as(\"TERM-301\").\n",
    "addV(\"Terminal\").property(id,\"TERM-302\").property(\"name\",\"TERM-302\").property(\"coord_x\",323).property(\"coord_y\",379).as(\"TERM-302\").\n",
    "addV(\"Terminal\").property(id,\"TERM-303\").property(\"name\",\"TERM-303\").property(\"coord_x\",319).property(\"coord_y\",384).as(\"TERM-303\").\n",
    "addV(\"Terminal\").property(id,\"TERM-304\").property(\"name\",\"TERM-304\").property(\"coord_x\",306).property(\"coord_y\",311).as(\"TERM-304\").\n",
    "addV(\"Terminal\").property(id,\"TERM-305\").property(\"name\",\"TERM-305\").property(\"coord_x\",300).property(\"coord_y\",362).as(\"TERM-305\").\n",
    "addV(\"Terminal\").property(id,\"TERM-306\").property(\"name\",\"TERM-306\").property(\"coord_x\",319).property(\"coord_y\",330).as(\"TERM-306\").\n",
    "addV(\"Terminal\").property(id,\"TERM-307\").property(\"name\",\"TERM-307\").property(\"coord_x\",300).property(\"coord_y\",314).as(\"TERM-307\").\n",
    "addV(\"Terminal\").property(id,\"TERM-308\").property(\"name\",\"TERM-308\").property(\"coord_x\",351).property(\"coord_y\",397).as(\"TERM-308\").\n",
    "addV(\"Terminal\").property(id,\"TERM-309\").property(\"name\",\"TERM-309\").property(\"coord_x\",378).property(\"coord_y\",392).as(\"TERM-309\").\n",
    "addV(\"Terminal\").property(id,\"TERM-310\").property(\"name\",\"TERM-310\").property(\"coord_x\",302).property(\"coord_y\",391).as(\"TERM-310\").\n",
    "addV(\"Terminal\").property(id,\"TERM-311\").property(\"name\",\"TERM-311\").property(\"coord_x\",370).property(\"coord_y\",396).as(\"TERM-311\").\n",
    "addV(\"Terminal\").property(id,\"TERM-312\").property(\"name\",\"TERM-312\").property(\"coord_x\",320).property(\"coord_y\",325).as(\"TERM-312\").\n",
    "addV(\"Terminal\").property(id,\"TERM-313\").property(\"name\",\"TERM-313\").property(\"coord_x\",362).property(\"coord_y\",323).as(\"TERM-313\").\n",
    "addV(\"Terminal\").property(id,\"TERM-314\").property(\"name\",\"TERM-314\").property(\"coord_x\",373).property(\"coord_y\",366).as(\"TERM-314\").\n",
    "addV(\"Terminal\").property(id,\"TERM-315\").property(\"name\",\"TERM-315\").property(\"coord_x\",376).property(\"coord_y\",355).as(\"TERM-315\").\n",
    "addV(\"Terminal\").property(id,\"TERM-316\").property(\"name\",\"TERM-316\").property(\"coord_x\",353).property(\"coord_y\",396).as(\"TERM-316\").\n",
    "addV(\"Terminal\").property(id,\"TERM-317\").property(\"name\",\"TERM-317\").property(\"coord_x\",349).property(\"coord_y\",388).as(\"TERM-317\").\n",
    "addV(\"Terminal\").property(id,\"TERM-318\").property(\"name\",\"TERM-318\").property(\"coord_x\",321).property(\"coord_y\",315).as(\"TERM-318\").\n",
    "addV(\"Terminal\").property(id,\"TERM-319\").property(\"name\",\"TERM-319\").property(\"coord_x\",321).property(\"coord_y\",317).as(\"TERM-319\").\n",
    "addV(\"Terminal\").property(id,\"TERM-320\").property(\"name\",\"TERM-320\").property(\"coord_x\",329).property(\"coord_y\",373).as(\"TERM-320\")"
   ]
  },
  {
   "cell_type": "markdown",
   "id": "90837794-0f2a-4c5d-b810-94322deef25c",
   "metadata": {
    "tags": []
   },
   "source": [
    "# Card"
   ]
  },
  {
   "cell_type": "code",
   "execution_count": 19,
   "id": "c3520b97-0d8b-40bd-8f1c-cc7d4762ccb6",
   "metadata": {
    "tags": []
   },
   "outputs": [
    {
     "data": {
      "application/vnd.jupyter.widget-view+json": {
       "model_id": "30b927a7c5074bbf8fe287e85e3b6d0a",
       "version_major": 2,
       "version_minor": 0
      },
      "text/plain": [
       "Tab(children=(Output(layout=Layout(max_height='600px', max_width='940px', overflow='scroll')), Output(layout=L…"
      ]
     },
     "metadata": {},
     "output_type": "display_data"
    }
   ],
   "source": [
    "%%gremlin\n",
    "\n",
    "g.V().hasLabel('Card').drop().iterate();"
   ]
  },
  {
   "cell_type": "code",
   "execution_count": 20,
   "id": "5047310d-c7a3-4f51-9a17-ea489243a19f",
   "metadata": {
    "tags": []
   },
   "outputs": [
    {
     "data": {
      "application/vnd.jupyter.widget-view+json": {
       "model_id": "58400b56ccb94ad78970e946f7a46b79",
       "version_major": 2,
       "version_minor": 0
      },
      "text/plain": [
       "Tab(children=(Output(layout=Layout(max_height='600px', max_width='940px', overflow='scroll')), Output(layout=L…"
      ]
     },
     "metadata": {},
     "output_type": "display_data"
    }
   ],
   "source": [
    "%%gremlin\n",
    "\n",
    "g.addV(\"Card\").property(id,\"111.000.000.010\").property(\"card_number\",\"111.000.000.010\").as(\"111.000.000.010\").\n",
    "addV(\"Card\").property(id,\"111.000.000.017\").property(\"card_number\",\"111.000.000.017\").as(\"111.000.000.017\").\n",
    "addV(\"Card\").property(id,\"111.000.000.024\").property(\"card_number\",\"111.000.000.024\").as(\"111.000.000.024\").\n",
    "addV(\"Card\").property(id,\"111.000.000.037\").property(\"card_number\",\"111.000.000.037\").as(\"111.000.000.037\").\n",
    "addV(\"Card\").property(id,\"111.000.000.046\").property(\"card_number\",\"111.000.000.046\").as(\"111.000.000.046\").\n",
    "addV(\"Card\").property(id,\"111.000.000.070\").property(\"card_number\",\"111.000.000.070\").as(\"111.000.000.070\").\n",
    "addV(\"Card\").property(id,\"111.000.000.076\").property(\"card_number\",\"111.000.000.076\").as(\"111.000.000.076\").\n",
    "addV(\"Card\").property(id,\"111.000.000.078\").property(\"card_number\",\"111.000.000.078\").as(\"111.000.000.078\").\n",
    "addV(\"Card\").property(id,\"111.000.000.314\").property(\"card_number\",\"111.000.000.314\").as(\"111.000.000.314\").\n",
    "addV(\"Card\").property(id,\"111.000.000.319\").property(\"card_number\",\"111.000.000.319\").as(\"111.000.000.319\").\n",
    "addV(\"Card\").property(id,\"111.000.000.324\").property(\"card_number\",\"111.000.000.324\").as(\"111.000.000.324\").\n",
    "addV(\"Card\").property(id,\"111.000.000.361\").property(\"card_number\",\"111.000.000.361\").as(\"111.000.000.361\").\n",
    "addV(\"Card\").property(id,\"111.000.000.400\").property(\"card_number\",\"111.000.000.400\").as(\"111.000.000.400\").\n",
    "addV(\"Card\").property(id,\"111.000.000.427\").property(\"card_number\",\"111.000.000.427\").as(\"111.000.000.427\").\n",
    "addV(\"Card\").property(id,\"111.000.000.486\").property(\"card_number\",\"111.000.000.486\").as(\"111.000.000.486\").\n",
    "addV(\"Card\").property(id,\"111.000.000.552\").property(\"card_number\",\"111.000.000.552\").as(\"111.000.000.552\").\n",
    "addV(\"Card\").property(id,\"111.000.000.582\").property(\"card_number\",\"111.000.000.582\").as(\"111.000.000.582\").\n",
    "addV(\"Card\").property(id,\"111.000.000.583\").property(\"card_number\",\"111.000.000.583\").as(\"111.000.000.583\").\n",
    "addV(\"Card\").property(id,\"111.000.000.599\").property(\"card_number\",\"111.000.000.599\").as(\"111.000.000.599\").\n",
    "addV(\"Card\").property(id,\"111.000.000.616\").property(\"card_number\",\"111.000.000.616\").as(\"111.000.000.616\").\n",
    "addV(\"Card\").property(id,\"111.000.000.646\").property(\"card_number\",\"111.000.000.646\").as(\"111.000.000.646\").\n",
    "addV(\"Card\").property(id,\"111.000.000.662\").property(\"card_number\",\"111.000.000.662\").as(\"111.000.000.662\").\n",
    "addV(\"Card\").property(id,\"111.000.000.666\").property(\"card_number\",\"111.000.000.666\").as(\"111.000.000.666\").\n",
    "addV(\"Card\").property(id,\"111.000.000.713\").property(\"card_number\",\"111.000.000.713\").as(\"111.000.000.713\").\n",
    "addV(\"Card\").property(id,\"111.000.000.723\").property(\"card_number\",\"111.000.000.723\").as(\"111.000.000.723\").\n",
    "addV(\"Card\").property(id,\"111.000.000.759\").property(\"card_number\",\"111.000.000.759\").as(\"111.000.000.759\").\n",
    "addV(\"Card\").property(id,\"111.000.000.798\").property(\"card_number\",\"111.000.000.798\").as(\"111.000.000.798\").\n",
    "addV(\"Card\").property(id,\"111.000.000.824\").property(\"card_number\",\"111.000.000.824\").as(\"111.000.000.824\").\n",
    "addV(\"Card\").property(id,\"111.000.000.873\").property(\"card_number\",\"111.000.000.873\").as(\"111.000.000.873\").\n",
    "addV(\"Card\").property(id,\"111.000.000.874\").property(\"card_number\",\"111.000.000.874\").as(\"111.000.000.874\").\n",
    "addV(\"Card\").property(id,\"111.000.000.888\").property(\"card_number\",\"111.000.000.888\").as(\"111.000.000.888\").\n",
    "addV(\"Card\").property(id,\"111.000.000.911\").property(\"card_number\",\"111.000.000.911\").as(\"111.000.000.911\").\n",
    "addV(\"Card\").property(id,\"111.000.000.946\").property(\"card_number\",\"111.000.000.946\").as(\"111.000.000.946\").\n",
    "addV(\"Card\").property(id,\"111.000.000.959\").property(\"card_number\",\"111.000.000.959\").as(\"111.000.000.959\").\n",
    "addV(\"Card\").property(id,\"111.000.000.998\").property(\"card_number\",\"111.000.000.998\").as(\"111.000.000.998\").\n",
    "addV(\"Card\").property(id,\"111.000.001.011\").property(\"card_number\",\"111.000.001.011\").as(\"111.000.001.011\").\n",
    "addV(\"Card\").property(id,\"111.000.001.047\").property(\"card_number\",\"111.000.001.047\").as(\"111.000.001.047\").\n",
    "addV(\"Card\").property(id,\"111.000.001.071\").property(\"card_number\",\"111.000.001.071\").as(\"111.000.001.071\").\n",
    "addV(\"Card\").property(id,\"111.000.001.107\").property(\"card_number\",\"111.000.001.107\").as(\"111.000.001.107\").\n",
    "addV(\"Card\").property(id,\"111.000.001.125\").property(\"card_number\",\"111.000.001.125\").as(\"111.000.001.125\").\n",
    "addV(\"Card\").property(id,\"111.000.001.161\").property(\"card_number\",\"111.000.001.161\").as(\"111.000.001.161\").\n",
    "addV(\"Card\").property(id,\"111.000.001.265\").property(\"card_number\",\"111.000.001.265\").as(\"111.000.001.265\").\n",
    "addV(\"Card\").property(id,\"111.000.001.274\").property(\"card_number\",\"111.000.001.274\").as(\"111.000.001.274\").\n",
    "addV(\"Card\").property(id,\"111.000.001.359\").property(\"card_number\",\"111.000.001.359\").as(\"111.000.001.359\").\n",
    "addV(\"Card\").property(id,\"111.000.001.360\").property(\"card_number\",\"111.000.001.360\").as(\"111.000.001.360\").\n",
    "addV(\"Card\").property(id,\"111.000.001.372\").property(\"card_number\",\"111.000.001.372\").as(\"111.000.001.372\").\n",
    "addV(\"Card\").property(id,\"111.000.001.413\").property(\"card_number\",\"111.000.001.413\").as(\"111.000.001.413\").\n",
    "addV(\"Card\").property(id,\"111.000.001.415\").property(\"card_number\",\"111.000.001.415\").as(\"111.000.001.415\").\n",
    "addV(\"Card\").property(id,\"111.000.001.416\").property(\"card_number\",\"111.000.001.416\").as(\"111.000.001.416\").\n",
    "addV(\"Card\").property(id,\"111.000.001.421\").property(\"card_number\",\"111.000.001.421\").as(\"111.000.001.421\").\n",
    "addV(\"Card\").property(id,\"111.000.001.495\").property(\"card_number\",\"111.000.001.495\").as(\"111.000.001.495\").\n",
    "addV(\"Card\").property(id,\"111.000.001.524\").property(\"card_number\",\"111.000.001.524\").as(\"111.000.001.524\").\n",
    "addV(\"Card\").property(id,\"111.000.001.525\").property(\"card_number\",\"111.000.001.525\").as(\"111.000.001.525\").\n",
    "addV(\"Card\").property(id,\"111.000.001.574\").property(\"card_number\",\"111.000.001.574\").as(\"111.000.001.574\").\n",
    "addV(\"Card\").property(id,\"111.000.001.585\").property(\"card_number\",\"111.000.001.585\").as(\"111.000.001.585\").\n",
    "addV(\"Card\").property(id,\"111.000.001.660\").property(\"card_number\",\"111.000.001.660\").as(\"111.000.001.660\").\n",
    "addV(\"Card\").property(id,\"111.000.001.671\").property(\"card_number\",\"111.000.001.671\").as(\"111.000.001.671\").\n",
    "addV(\"Card\").property(id,\"111.000.001.738\").property(\"card_number\",\"111.000.001.738\").as(\"111.000.001.738\").\n",
    "addV(\"Card\").property(id,\"111.000.001.755\").property(\"card_number\",\"111.000.001.755\").as(\"111.000.001.755\").\n",
    "addV(\"Card\").property(id,\"111.000.001.763\").property(\"card_number\",\"111.000.001.763\").as(\"111.000.001.763\").\n",
    "addV(\"Card\").property(id,\"111.000.001.774\").property(\"card_number\",\"111.000.001.774\").as(\"111.000.001.774\").\n",
    "addV(\"Card\").property(id,\"111.000.001.819\").property(\"card_number\",\"111.000.001.819\").as(\"111.000.001.819\").\n",
    "addV(\"Card\").property(id,\"111.000.001.837\").property(\"card_number\",\"111.000.001.837\").as(\"111.000.001.837\").\n",
    "addV(\"Card\").property(id,\"111.000.001.846\").property(\"card_number\",\"111.000.001.846\").as(\"111.000.001.846\").\n",
    "addV(\"Card\").property(id,\"111.000.001.896\").property(\"card_number\",\"111.000.001.896\").as(\"111.000.001.896\").\n",
    "addV(\"Card\").property(id,\"111.000.001.972\").property(\"card_number\",\"111.000.001.972\").as(\"111.000.001.972\").\n",
    "addV(\"Card\").property(id,\"111.000.001.987\").property(\"card_number\",\"111.000.001.987\").as(\"111.000.001.987\").\n",
    "addV(\"Card\").property(id,\"111.000.002.057\").property(\"card_number\",\"111.000.002.057\").as(\"111.000.002.057\").\n",
    "addV(\"Card\").property(id,\"111.000.002.104\").property(\"card_number\",\"111.000.002.104\").as(\"111.000.002.104\").\n",
    "addV(\"Card\").property(id,\"111.000.002.107\").property(\"card_number\",\"111.000.002.107\").as(\"111.000.002.107\").\n",
    "addV(\"Card\").property(id,\"111.000.002.108\").property(\"card_number\",\"111.000.002.108\").as(\"111.000.002.108\").\n",
    "addV(\"Card\").property(id,\"111.000.002.153\").property(\"card_number\",\"111.000.002.153\").as(\"111.000.002.153\").\n",
    "addV(\"Card\").property(id,\"111.000.002.176\").property(\"card_number\",\"111.000.002.176\").as(\"111.000.002.176\").\n",
    "addV(\"Card\").property(id,\"111.000.002.192\").property(\"card_number\",\"111.000.002.192\").as(\"111.000.002.192\").\n",
    "addV(\"Card\").property(id,\"111.000.002.207\").property(\"card_number\",\"111.000.002.207\").as(\"111.000.002.207\").\n",
    "addV(\"Card\").property(id,\"111.000.002.243\").property(\"card_number\",\"111.000.002.243\").as(\"111.000.002.243\").\n",
    "addV(\"Card\").property(id,\"111.000.002.247\").property(\"card_number\",\"111.000.002.247\").as(\"111.000.002.247\").\n",
    "addV(\"Card\").property(id,\"111.000.002.251\").property(\"card_number\",\"111.000.002.251\").as(\"111.000.002.251\").\n",
    "addV(\"Card\").property(id,\"111.000.002.273\").property(\"card_number\",\"111.000.002.273\").as(\"111.000.002.273\").\n",
    "addV(\"Card\").property(id,\"111.000.002.292\").property(\"card_number\",\"111.000.002.292\").as(\"111.000.002.292\").\n",
    "addV(\"Card\").property(id,\"111.000.002.298\").property(\"card_number\",\"111.000.002.298\").as(\"111.000.002.298\").\n",
    "addV(\"Card\").property(id,\"111.000.002.301\").property(\"card_number\",\"111.000.002.301\").as(\"111.000.002.301\").\n",
    "addV(\"Card\").property(id,\"111.000.002.322\").property(\"card_number\",\"111.000.002.322\").as(\"111.000.002.322\").\n",
    "addV(\"Card\").property(id,\"111.000.002.409\").property(\"card_number\",\"111.000.002.409\").as(\"111.000.002.409\").\n",
    "addV(\"Card\").property(id,\"111.000.002.430\").property(\"card_number\",\"111.000.002.430\").as(\"111.000.002.430\").\n",
    "addV(\"Card\").property(id,\"111.000.002.437\").property(\"card_number\",\"111.000.002.437\").as(\"111.000.002.437\")"
   ]
  },
  {
   "cell_type": "code",
   "execution_count": 21,
   "id": "3a2e82e8-7e2d-4552-b03a-954df69ce7ce",
   "metadata": {
    "tags": []
   },
   "outputs": [
    {
     "data": {
      "application/vnd.jupyter.widget-view+json": {
       "model_id": "54324253c0154d6b833e200d5ecab0ba",
       "version_major": 2,
       "version_minor": 0
      },
      "text/plain": [
       "Tab(children=(Output(layout=Layout(max_height='600px', max_width='940px', overflow='scroll')), Output(layout=L…"
      ]
     },
     "metadata": {},
     "output_type": "display_data"
    }
   ],
   "source": [
    "%%gremlin\n",
    "\n",
    "g.V(\"ACC-2424\").addE(\"issue\").to(__.V(\"111.000.000.010\")).property(id,\"ACC-2424-111.000.000.010-ACC-CARD\").\n",
    "V(\"ACC-687\").addE(\"issue\").to(__.V(\"111.000.000.017\")).property(id,\"ACC-687-111.000.000.017-ACC-CARD\").\n",
    "V(\"ACC-520\").addE(\"issue\").to(__.V(\"111.000.000.024\")).property(id,\"ACC-520-111.000.000.024-ACC-CARD\").\n",
    "V(\"ACC-1876\").addE(\"issue\").to(__.V(\"111.000.000.037\")).property(id,\"ACC-1876-111.000.000.037-ACC-CARD\").\n",
    "V(\"ACC-2103\").addE(\"issue\").to(__.V(\"111.000.000.046\")).property(id,\"ACC-2103-111.000.000.046-ACC-CARD\").\n",
    "V(\"ACC-1332\").addE(\"issue\").to(__.V(\"111.000.000.070\")).property(id,\"ACC-1332-111.000.000.070-ACC-CARD\").\n",
    "V(\"ACC-517\").addE(\"issue\").to(__.V(\"111.000.000.076\")).property(id,\"ACC-517-111.000.000.076-ACC-CARD\").\n",
    "V(\"ACC-1252\").addE(\"issue\").to(__.V(\"111.000.000.078\")).property(id,\"ACC-1252-111.000.000.078-ACC-CARD\").\n",
    "V(\"ACC-2077\").addE(\"issue\").to(__.V(\"111.000.000.314\")).property(id,\"ACC-2077-111.000.000.314-ACC-CARD\").\n",
    "V(\"ACC-1395\").addE(\"issue\").to(__.V(\"111.000.000.319\")).property(id,\"ACC-1395-111.000.000.319-ACC-CARD\").\n",
    "V(\"ACC-488\").addE(\"issue\").to(__.V(\"111.000.000.324\")).property(id,\"ACC-488-111.000.000.324-ACC-CARD\").\n",
    "V(\"ACC-1332\").addE(\"issue\").to(__.V(\"111.000.000.361\")).property(id,\"ACC-1332-111.000.000.361-ACC-CARD\").\n",
    "V(\"ACC-517\").addE(\"issue\").to(__.V(\"111.000.000.400\")).property(id,\"ACC-517-111.000.000.400-ACC-CARD\").\n",
    "V(\"ACC-1996\").addE(\"issue\").to(__.V(\"111.000.000.427\")).property(id,\"ACC-1996-111.000.000.427-ACC-CARD\").\n",
    "V(\"ACC-308\").addE(\"issue\").to(__.V(\"111.000.000.486\")).property(id,\"ACC-308-111.000.000.486-ACC-CARD\").\n",
    "V(\"ACC-1996\").addE(\"issue\").to(__.V(\"111.000.000.552\")).property(id,\"ACC-1996-111.000.000.552-ACC-CARD\").\n",
    "V(\"ACC-1190\").addE(\"issue\").to(__.V(\"111.000.000.582\")).property(id,\"ACC-1190-111.000.000.582-ACC-CARD\").\n",
    "V(\"ACC-2232\").addE(\"issue\").to(__.V(\"111.000.000.583\")).property(id,\"ACC-2232-111.000.000.583-ACC-CARD\").\n",
    "V(\"ACC-131\").addE(\"issue\").to(__.V(\"111.000.000.599\")).property(id,\"ACC-131-111.000.000.599-ACC-CARD\").\n",
    "V(\"ACC-2232\").addE(\"issue\").to(__.V(\"111.000.000.616\")).property(id,\"ACC-2232-111.000.000.616-ACC-CARD\").\n",
    "V(\"ACC-2424\").addE(\"issue\").to(__.V(\"111.000.000.646\")).property(id,\"ACC-2424-111.000.000.646-ACC-CARD\").\n",
    "V(\"ACC-1731\").addE(\"issue\").to(__.V(\"111.000.000.662\")).property(id,\"ACC-1731-111.000.000.662-ACC-CARD\").\n",
    "V(\"ACC-2448\").addE(\"issue\").to(__.V(\"111.000.000.666\")).property(id,\"ACC-2448-111.000.000.666-ACC-CARD\").\n",
    "V(\"ACC-102\").addE(\"issue\").to(__.V(\"111.000.000.713\")).property(id,\"ACC-102-111.000.000.713-ACC-CARD\").\n",
    "V(\"ACC-863\").addE(\"issue\").to(__.V(\"111.000.000.723\")).property(id,\"ACC-863-111.000.000.723-ACC-CARD\").\n",
    "V(\"ACC-1801\").addE(\"issue\").to(__.V(\"111.000.000.759\")).property(id,\"ACC-1801-111.000.000.759-ACC-CARD\").\n",
    "V(\"ACC-2103\").addE(\"issue\").to(__.V(\"111.000.000.798\")).property(id,\"ACC-2103-111.000.000.798-ACC-CARD\").\n",
    "V(\"ACC-697\").addE(\"issue\").to(__.V(\"111.000.000.824\")).property(id,\"ACC-697-111.000.000.824-ACC-CARD\").\n",
    "V(\"ACC-1996\").addE(\"issue\").to(__.V(\"111.000.000.873\")).property(id,\"ACC-1996-111.000.000.873-ACC-CARD\").\n",
    "V(\"ACC-480\").addE(\"issue\").to(__.V(\"111.000.000.874\")).property(id,\"ACC-480-111.000.000.874-ACC-CARD\").\n",
    "V(\"ACC-215\").addE(\"issue\").to(__.V(\"111.000.000.888\")).property(id,\"ACC-215-111.000.000.888-ACC-CARD\").\n",
    "V(\"ACC-1395\").addE(\"issue\").to(__.V(\"111.000.000.911\")).property(id,\"ACC-1395-111.000.000.911-ACC-CARD\").\n",
    "V(\"ACC-1204\").addE(\"issue\").to(__.V(\"111.000.000.946\")).property(id,\"ACC-1204-111.000.000.946-ACC-CARD\").\n",
    "V(\"ACC-518\").addE(\"issue\").to(__.V(\"111.000.000.959\")).property(id,\"ACC-518-111.000.000.959-ACC-CARD\").\n",
    "V(\"ACC-2232\").addE(\"issue\").to(__.V(\"111.000.000.998\")).property(id,\"ACC-2232-111.000.000.998-ACC-CARD\").\n",
    "V(\"ACC-2107\").addE(\"issue\").to(__.V(\"111.000.001.011\")).property(id,\"ACC-2107-111.000.001.011-ACC-CARD\").\n",
    "V(\"ACC-697\").addE(\"issue\").to(__.V(\"111.000.001.047\")).property(id,\"ACC-697-111.000.001.047-ACC-CARD\").\n",
    "V(\"ACC-2107\").addE(\"issue\").to(__.V(\"111.000.001.071\")).property(id,\"ACC-2107-111.000.001.071-ACC-CARD\").\n",
    "V(\"ACC-879\").addE(\"issue\").to(__.V(\"111.000.001.107\")).property(id,\"ACC-879-111.000.001.107-ACC-CARD\").\n",
    "V(\"ACC-863\").addE(\"issue\").to(__.V(\"111.000.001.125\")).property(id,\"ACC-863-111.000.001.125-ACC-CARD\").\n",
    "V(\"ACC-1876\").addE(\"issue\").to(__.V(\"111.000.001.161\")).property(id,\"ACC-1876-111.000.001.161-ACC-CARD\").\n",
    "V(\"ACC-1876\").addE(\"issue\").to(__.V(\"111.000.001.265\")).property(id,\"ACC-1876-111.000.001.265-ACC-CARD\").\n",
    "V(\"ACC-2110\").addE(\"issue\").to(__.V(\"111.000.001.274\")).property(id,\"ACC-2110-111.000.001.274-ACC-CARD\").\n",
    "V(\"ACC-370\").addE(\"issue\").to(__.V(\"111.000.001.359\")).property(id,\"ACC-370-111.000.001.359-ACC-CARD\").\n",
    "V(\"ACC-829\").addE(\"issue\").to(__.V(\"111.000.001.360\")).property(id,\"ACC-829-111.000.001.360-ACC-CARD\").\n",
    "V(\"ACC-518\").addE(\"issue\").to(__.V(\"111.000.001.372\")).property(id,\"ACC-518-111.000.001.372-ACC-CARD\").\n",
    "V(\"ACC-2107\").addE(\"issue\").to(__.V(\"111.000.001.413\")).property(id,\"ACC-2107-111.000.001.413-ACC-CARD\").\n",
    "V(\"ACC-2069\").addE(\"issue\").to(__.V(\"111.000.001.415\")).property(id,\"ACC-2069-111.000.001.415-ACC-CARD\").\n",
    "V(\"ACC-2110\").addE(\"issue\").to(__.V(\"111.000.001.416\")).property(id,\"ACC-2110-111.000.001.416-ACC-CARD\").\n",
    "V(\"ACC-2077\").addE(\"issue\").to(__.V(\"111.000.001.421\")).property(id,\"ACC-2077-111.000.001.421-ACC-CARD\").\n",
    "V(\"ACC-1996\").addE(\"issue\").to(__.V(\"111.000.001.495\")).property(id,\"ACC-1996-111.000.001.495-ACC-CARD\").\n",
    "V(\"ACC-1263\").addE(\"issue\").to(__.V(\"111.000.001.524\")).property(id,\"ACC-1263-111.000.001.524-ACC-CARD\").\n",
    "V(\"ACC-1332\").addE(\"issue\").to(__.V(\"111.000.001.525\")).property(id,\"ACC-1332-111.000.001.525-ACC-CARD\").\n",
    "V(\"ACC-446\").addE(\"issue\").to(__.V(\"111.000.001.574\")).property(id,\"ACC-446-111.000.001.574-ACC-CARD\").\n",
    "V(\"ACC-520\").addE(\"issue\").to(__.V(\"111.000.001.585\")).property(id,\"ACC-520-111.000.001.585-ACC-CARD\").\n",
    "V(\"ACC-2103\").addE(\"issue\").to(__.V(\"111.000.001.660\")).property(id,\"ACC-2103-111.000.001.660-ACC-CARD\").\n",
    "V(\"ACC-215\").addE(\"issue\").to(__.V(\"111.000.001.671\")).property(id,\"ACC-215-111.000.001.671-ACC-CARD\").\n",
    "V(\"ACC-1801\").addE(\"issue\").to(__.V(\"111.000.001.738\")).property(id,\"ACC-1801-111.000.001.738-ACC-CARD\").\n",
    "V(\"ACC-863\").addE(\"issue\").to(__.V(\"111.000.001.755\")).property(id,\"ACC-863-111.000.001.755-ACC-CARD\").\n",
    "V(\"ACC-308\").addE(\"issue\").to(__.V(\"111.000.001.763\")).property(id,\"ACC-308-111.000.001.763-ACC-CARD\").\n",
    "V(\"ACC-131\").addE(\"issue\").to(__.V(\"111.000.001.774\")).property(id,\"ACC-131-111.000.001.774-ACC-CARD\").\n",
    "V(\"ACC-1252\").addE(\"issue\").to(__.V(\"111.000.001.819\")).property(id,\"ACC-1252-111.000.001.819-ACC-CARD\").\n",
    "V(\"ACC-488\").addE(\"issue\").to(__.V(\"111.000.001.837\")).property(id,\"ACC-488-111.000.001.837-ACC-CARD\").\n",
    "V(\"ACC-1996\").addE(\"issue\").to(__.V(\"111.000.001.846\")).property(id,\"ACC-1996-111.000.001.846-ACC-CARD\").\n",
    "V(\"ACC-697\").addE(\"issue\").to(__.V(\"111.000.001.896\")).property(id,\"ACC-697-111.000.001.896-ACC-CARD\").\n",
    "V(\"ACC-2424\").addE(\"issue\").to(__.V(\"111.000.001.972\")).property(id,\"ACC-2424-111.000.001.972-ACC-CARD\").\n",
    "V(\"ACC-697\").addE(\"issue\").to(__.V(\"111.000.001.987\")).property(id,\"ACC-697-111.000.001.987-ACC-CARD\").\n",
    "V(\"ACC-1252\").addE(\"issue\").to(__.V(\"111.000.002.057\")).property(id,\"ACC-1252-111.000.002.057-ACC-CARD\").\n",
    "V(\"ACC-2103\").addE(\"issue\").to(__.V(\"111.000.002.104\")).property(id,\"ACC-2103-111.000.002.104-ACC-CARD\").\n",
    "V(\"ACC-308\").addE(\"issue\").to(__.V(\"111.000.002.107\")).property(id,\"ACC-308-111.000.002.107-ACC-CARD\").\n",
    "V(\"ACC-1629\").addE(\"issue\").to(__.V(\"111.000.002.108\")).property(id,\"ACC-1629-111.000.002.108-ACC-CARD\").\n",
    "V(\"ACC-2069\").addE(\"issue\").to(__.V(\"111.000.002.153\")).property(id,\"ACC-2069-111.000.002.153-ACC-CARD\").\n",
    "V(\"ACC-2110\").addE(\"issue\").to(__.V(\"111.000.002.176\")).property(id,\"ACC-2110-111.000.002.176-ACC-CARD\").\n",
    "V(\"ACC-1801\").addE(\"issue\").to(__.V(\"111.000.002.192\")).property(id,\"ACC-1801-111.000.002.192-ACC-CARD\").\n",
    "V(\"ACC-1629\").addE(\"issue\").to(__.V(\"111.000.002.207\")).property(id,\"ACC-1629-111.000.002.207-ACC-CARD\").\n",
    "V(\"ACC-2459\").addE(\"issue\").to(__.V(\"111.000.002.243\")).property(id,\"ACC-2459-111.000.002.243-ACC-CARD\").\n",
    "V(\"ACC-163\").addE(\"issue\").to(__.V(\"111.000.002.247\")).property(id,\"ACC-163-111.000.002.247-ACC-CARD\").\n",
    "V(\"ACC-1332\").addE(\"issue\").to(__.V(\"111.000.002.251\")).property(id,\"ACC-1332-111.000.002.251-ACC-CARD\").\n",
    "V(\"ACC-2039\").addE(\"issue\").to(__.V(\"111.000.002.273\")).property(id,\"ACC-2039-111.000.002.273-ACC-CARD\").\n",
    "V(\"ACC-1263\").addE(\"issue\").to(__.V(\"111.000.002.292\")).property(id,\"ACC-1263-111.000.002.292-ACC-CARD\").\n",
    "V(\"ACC-1395\").addE(\"issue\").to(__.V(\"111.000.002.298\")).property(id,\"ACC-1395-111.000.002.298-ACC-CARD\").\n",
    "V(\"ACC-520\").addE(\"issue\").to(__.V(\"111.000.002.301\")).property(id,\"ACC-520-111.000.002.301-ACC-CARD\").\n",
    "V(\"ACC-1361\").addE(\"issue\").to(__.V(\"111.000.002.322\")).property(id,\"ACC-1361-111.000.002.322-ACC-CARD\").\n",
    "V(\"ACC-102\").addE(\"issue\").to(__.V(\"111.000.002.409\")).property(id,\"ACC-102-111.000.002.409-ACC-CARD\").\n",
    "V(\"ACC-829\").addE(\"issue\").to(__.V(\"111.000.002.430\")).property(id,\"ACC-829-111.000.002.430-ACC-CARD\").\n",
    "V(\"ACC-308\").addE(\"issue\").to(__.V(\"111.000.002.437\")).property(id,\"ACC-308-111.000.002.437-ACC-CARD\")"
   ]
  },
  {
   "cell_type": "markdown",
   "id": "87022268-5560-4793-9730-7765c1eda2ac",
   "metadata": {},
   "source": [
    "# Payment"
   ]
  },
  {
   "cell_type": "code",
   "execution_count": 30,
   "id": "6a71be07-98bc-4194-aff2-43bce35cb989",
   "metadata": {
    "tags": []
   },
   "outputs": [
    {
     "data": {
      "application/vnd.jupyter.widget-view+json": {
       "model_id": "f4f1806556c94ab48485c84bc35d1bc9",
       "version_major": 2,
       "version_minor": 0
      },
      "text/plain": [
       "Tab(children=(Output(layout=Layout(max_height='600px', max_width='940px', overflow='scroll')), Output(layout=L…"
      ]
     },
     "metadata": {},
     "output_type": "display_data"
    }
   ],
   "source": [
    "%%gremlin\n",
    "\n",
    "g.V().hasLabel('Payment').drop().iterate();"
   ]
  },
  {
   "cell_type": "code",
   "execution_count": 31,
   "id": "0c7f133e-7862-4865-a15c-c60ab0948bda",
   "metadata": {
    "tags": []
   },
   "outputs": [
    {
     "data": {
      "application/vnd.jupyter.widget-view+json": {
       "model_id": "69a4a8248a744a9b9bb6714e7521a2fe",
       "version_major": 2,
       "version_minor": 0
      },
      "text/plain": [
       "Tab(children=(Output(layout=Layout(max_height='600px', max_width='940px', overflow='scroll')), Output(layout=L…"
      ]
     },
     "metadata": {},
     "output_type": "display_data"
    }
   ],
   "source": [
    "%%gremlin\n",
    "\n",
    "g.addV(\"Payment\").property(id,23262).property(\"card_number\",\"111.000.001.359\").property(\"amount\",147).property(\"payment_at\",\"2024-03-01 09:01:04-03\").as(\"23262\").\n",
    "addV(\"Payment\").property(id,23216).property(\"card_number\",\"111.000.002.273\").property(\"amount\",147).property(\"payment_at\",\"2024-03-01 09:01:28-03\").as(\"23216\").\n",
    "addV(\"Payment\").property(id,23286).property(\"card_number\",\"111.000.001.671\").property(\"amount\",798).property(\"payment_at\",\"2024-03-01 09:01:31-03\").as(\"23286\").\n",
    "addV(\"Payment\").property(id,23186).property(\"card_number\",\"111.000.000.046\").property(\"amount\",564).property(\"payment_at\",\"2024-03-01 09:01:44-03\").as(\"23186\").\n",
    "addV(\"Payment\").property(id,23285).property(\"card_number\",\"111.000.001.671\").property(\"amount\",825).property(\"payment_at\",\"2024-03-01 09:02:08-03\").as(\"23285\").\n",
    "addV(\"Payment\").property(id,23236).property(\"card_number\",\"111.000.000.017\").property(\"amount\",912).property(\"payment_at\",\"2024-03-01 09:02:18-03\").as(\"23236\").\n",
    "addV(\"Payment\").property(id,23202).property(\"card_number\",\"111.000.000.599\").property(\"amount\",486).property(\"payment_at\",\"2024-03-01 09:02:44-03\").as(\"23202\").\n",
    "addV(\"Payment\").property(id,23187).property(\"card_number\",\"111.000.000.046\").property(\"amount\",336).property(\"payment_at\",\"2024-03-01 09:03:01-03\").as(\"23187\").\n",
    "addV(\"Payment\").property(id,23165).property(\"card_number\",\"111.000.000.662\").property(\"amount\",612).property(\"payment_at\",\"2024-03-01 09:03:20-03\").as(\"23165\").\n",
    "addV(\"Payment\").property(id,23263).property(\"card_number\",\"111.000.001.359\").property(\"amount\",819).property(\"payment_at\",\"2024-03-01 09:03:33-03\").as(\"23263\").\n",
    "addV(\"Payment\").property(id,23217).property(\"card_number\",\"111.000.002.273\").property(\"amount\",1386).property(\"payment_at\",\"2024-03-01 09:03:44-03\").as(\"23217\").\n",
    "addV(\"Payment\").property(id,23203).property(\"card_number\",\"111.000.000.599\").property(\"amount\",327).property(\"payment_at\",\"2024-03-01 09:04:00-03\").as(\"23203\").\n",
    "addV(\"Payment\").property(id,23218).property(\"card_number\",\"111.000.002.273\").property(\"amount\",648).property(\"payment_at\",\"2024-03-01 09:04:08-03\").as(\"23218\").\n",
    "addV(\"Payment\").property(id,23261).property(\"card_number\",\"111.000.001.359\").property(\"amount\",693).property(\"payment_at\",\"2024-03-01 09:04:11-03\").as(\"23261\").\n",
    "addV(\"Payment\").property(id,23164).property(\"card_number\",\"111.000.000.662\").property(\"amount\",1254).property(\"payment_at\",\"2024-03-01 09:04:26-03\").as(\"23164\").\n",
    "addV(\"Payment\").property(id,23235).property(\"card_number\",\"111.000.000.017\").property(\"amount\",168).property(\"payment_at\",\"2024-03-01 09:04:27-03\").as(\"23235\").\n",
    "addV(\"Payment\").property(id,23166).property(\"card_number\",\"111.000.000.662\").property(\"amount\",1233).property(\"payment_at\",\"2024-03-01 09:04:27-03\").as(\"23166\").\n",
    "addV(\"Payment\").property(id,23185).property(\"card_number\",\"111.000.000.046\").property(\"amount\",1221).property(\"payment_at\",\"2024-03-01 09:04:30-03\").as(\"23185\").\n",
    "addV(\"Payment\").property(id,23234).property(\"card_number\",\"111.000.000.017\").property(\"amount\",1395).property(\"payment_at\",\"2024-03-01 09:04:32-03\").as(\"23234\").\n",
    "addV(\"Payment\").property(id,23219).property(\"card_number\",\"111.000.002.273\").property(\"amount\",399).property(\"payment_at\",\"2024-03-01 09:04:52-03\").as(\"23219\").\n",
    "addV(\"Payment\").property(id,23301).property(\"card_number\",\"111.000.000.759\").property(\"amount\",309).property(\"payment_at\",\"2024-03-01 09:04:55-03\").as(\"23301\").\n",
    "addV(\"Payment\").property(id,23287).property(\"card_number\",\"111.000.001.671\").property(\"amount\",1308).property(\"payment_at\",\"2024-03-01 09:04:58-03\").as(\"23287\").\n",
    "addV(\"Payment\").property(id,22082).property(\"card_number\",\"111.000.000.646\").property(\"amount\",464).property(\"payment_at\",\"2024-03-01 09:17:40-03\").as(\"22082\").\n",
    "addV(\"Payment\").property(id,23118).property(\"card_number\",\"111.000.000.324\").property(\"amount\",97).property(\"payment_at\",\"2024-03-01 09:17:52-03\").as(\"23118\").\n",
    "addV(\"Payment\").property(id,22688).property(\"card_number\",\"111.000.001.987\").property(\"amount\",100).property(\"payment_at\",\"2024-03-01 09:19:17-03\").as(\"22688\").\n",
    "addV(\"Payment\").property(id,22952).property(\"card_number\",\"111.000.000.911\").property(\"amount\",270).property(\"payment_at\",\"2024-03-01 09:20:02-03\").as(\"22952\").\n",
    "addV(\"Payment\").property(id,22056).property(\"card_number\",\"111.000.000.427\").property(\"amount\",91).property(\"payment_at\",\"2024-03-01 09:20:04-03\").as(\"22056\").\n",
    "addV(\"Payment\").property(id,21673).property(\"card_number\",\"111.000.001.416\").property(\"amount\",232).property(\"payment_at\",\"2024-03-01 09:20:06-03\").as(\"21673\").\n",
    "addV(\"Payment\").property(id,21912).property(\"card_number\",\"111.000.000.874\").property(\"amount\",497).property(\"payment_at\",\"2024-03-01 09:20:41-03\").as(\"21912\").\n",
    "addV(\"Payment\").property(id,22522).property(\"card_number\",\"111.000.000.583\").property(\"amount\",481).property(\"payment_at\",\"2024-03-01 09:22:08-03\").as(\"22522\").\n",
    "addV(\"Payment\").property(id,22399).property(\"card_number\",\"111.000.002.409\").property(\"amount\",233).property(\"payment_at\",\"2024-03-01 09:23:49-03\").as(\"22399\").\n",
    "addV(\"Payment\").property(id,22911).property(\"card_number\",\"111.000.000.666\").property(\"amount\",76).property(\"payment_at\",\"2024-03-01 09:24:12-03\").as(\"22911\").\n",
    "addV(\"Payment\").property(id,22400).property(\"card_number\",\"111.000.002.409\").property(\"amount\",50).property(\"payment_at\",\"2024-03-01 09:24:47-03\").as(\"22400\").\n",
    "addV(\"Payment\").property(id,22055).property(\"card_number\",\"111.000.000.427\").property(\"amount\",64).property(\"payment_at\",\"2024-03-01 09:27:46-03\").as(\"22055\").\n",
    "addV(\"Payment\").property(id,22604).property(\"card_number\",\"111.000.000.400\").property(\"amount\",318).property(\"payment_at\",\"2024-03-01 09:30:00-03\").as(\"22604\").\n",
    "addV(\"Payment\").property(id,21672).property(\"card_number\",\"111.000.001.416\").property(\"amount\",139).property(\"payment_at\",\"2024-03-01 09:30:33-03\").as(\"21672\").\n",
    "addV(\"Payment\").property(id,22264).property(\"card_number\",\"111.000.001.574\").property(\"amount\",109).property(\"payment_at\",\"2024-03-01 09:30:50-03\").as(\"22264\").\n",
    "addV(\"Payment\").property(id,22521).property(\"card_number\",\"111.000.000.583\").property(\"amount\",50).property(\"payment_at\",\"2024-03-01 09:32:16-03\").as(\"22521\").\n",
    "addV(\"Payment\").property(id,21721).property(\"card_number\",\"111.000.002.153\").property(\"amount\",701).property(\"payment_at\",\"2024-03-01 09:38:37-03\").as(\"21721\").\n",
    "addV(\"Payment\").property(id,21754).property(\"card_number\",\"111.000.002.243\").property(\"amount\",257).property(\"payment_at\",\"2024-03-01 09:42:08-03\").as(\"21754\").\n",
    "addV(\"Payment\").property(id,22980).property(\"card_number\",\"111.000.001.421\").property(\"amount\",136).property(\"payment_at\",\"2024-03-01 09:44:29-03\").as(\"22980\").\n",
    "addV(\"Payment\").property(id,23119).property(\"card_number\",\"111.000.000.324\").property(\"amount\",110).property(\"payment_at\",\"2024-03-01 09:48:00-03\").as(\"23119\").\n",
    "addV(\"Payment\").property(id,22373).property(\"card_number\",\"111.000.000.024\").property(\"amount\",225).property(\"payment_at\",\"2024-03-01 09:48:04-03\").as(\"22373\").\n",
    "addV(\"Payment\").property(id,22935).property(\"card_number\",\"111.000.000.361\").property(\"amount\",278).property(\"payment_at\",\"2024-03-01 09:48:19-03\").as(\"22935\").\n",
    "addV(\"Payment\").property(id,22374).property(\"card_number\",\"111.000.000.024\").property(\"amount\",413).property(\"payment_at\",\"2024-03-01 09:50:23-03\").as(\"22374\").\n",
    "addV(\"Payment\").property(id,22603).property(\"card_number\",\"111.000.000.400\").property(\"amount\",417).property(\"payment_at\",\"2024-03-01 09:51:02-03\").as(\"22603\").\n",
    "addV(\"Payment\").property(id,21974).property(\"card_number\",\"111.000.001.107\").property(\"amount\",116).property(\"payment_at\",\"2024-03-01 09:52:18-03\").as(\"21974\").\n",
    "addV(\"Payment\").property(id,22936).property(\"card_number\",\"111.000.000.361\").property(\"amount\",463).property(\"payment_at\",\"2024-03-01 09:53:49-03\").as(\"22936\").\n",
    "addV(\"Payment\").property(id,22081).property(\"card_number\",\"111.000.000.646\").property(\"amount\",106).property(\"payment_at\",\"2024-03-01 09:57:31-03\").as(\"22081\").\n",
    "addV(\"Payment\").property(id,21753).property(\"card_number\",\"111.000.002.243\").property(\"amount\",129).property(\"payment_at\",\"2024-03-01 09:58:01-03\").as(\"21753\").\n",
    "addV(\"Payment\").property(id,21722).property(\"card_number\",\"111.000.002.153\").property(\"amount\",249).property(\"payment_at\",\"2024-03-01 09:58:54-03\").as(\"21722\").\n",
    "addV(\"Payment\").property(id,23222).property(\"card_number\",\"111.000.002.273\").property(\"amount\",756).property(\"payment_at\",\"2024-03-01 15:01:03-03\").as(\"23222\").\n",
    "addV(\"Payment\").property(id,23264).property(\"card_number\",\"111.000.001.359\").property(\"amount\",660).property(\"payment_at\",\"2024-03-01 15:01:34-03\").as(\"23264\").\n",
    "addV(\"Payment\").property(id,23220).property(\"card_number\",\"111.000.002.273\").property(\"amount\",720).property(\"payment_at\",\"2024-03-01 15:02:18-03\").as(\"23220\").\n",
    "addV(\"Payment\").property(id,23221).property(\"card_number\",\"111.000.002.273\").property(\"amount\",390).property(\"payment_at\",\"2024-03-01 15:03:40-03\").as(\"23221\").\n",
    "addV(\"Payment\").property(id,23188).property(\"card_number\",\"111.000.000.046\").property(\"amount\",759).property(\"payment_at\",\"2024-03-01 15:03:57-03\").as(\"23188\").\n",
    "addV(\"Payment\").property(id,22912).property(\"card_number\",\"111.000.000.666\").property(\"amount\",135).property(\"payment_at\",\"2024-03-01 15:15:58-03\").as(\"22912\").\n",
    "addV(\"Payment\").property(id,22057).property(\"card_number\",\"111.000.000.427\").property(\"amount\",106).property(\"payment_at\",\"2024-03-01 15:24:47-03\").as(\"22057\").\n",
    "addV(\"Payment\").property(id,21675).property(\"card_number\",\"111.000.001.416\").property(\"amount\",463).property(\"payment_at\",\"2024-03-01 15:30:49-03\").as(\"21675\").\n",
    "addV(\"Payment\").property(id,21674).property(\"card_number\",\"111.000.001.416\").property(\"amount\",147).property(\"payment_at\",\"2024-03-01 15:36:13-03\").as(\"21674\").\n",
    "addV(\"Payment\").property(id,23303).property(\"card_number\",\"111.000.000.759\").property(\"amount\",2010).property(\"payment_at\",\"2024-03-01 16:01:14-03\").as(\"23303\").\n",
    "addV(\"Payment\").property(id,23237).property(\"card_number\",\"111.000.000.017\").property(\"amount\",900).property(\"payment_at\",\"2024-03-01 16:01:15-03\").as(\"23237\").\n",
    "addV(\"Payment\").property(id,23302).property(\"card_number\",\"111.000.000.759\").property(\"amount\",216).property(\"payment_at\",\"2024-03-01 16:01:51-03\").as(\"23302\").\n",
    "addV(\"Payment\").property(id,23204).property(\"card_number\",\"111.000.000.599\").property(\"amount\",168).property(\"payment_at\",\"2024-03-01 16:02:16-03\").as(\"23204\").\n",
    "addV(\"Payment\").property(id,23238).property(\"card_number\",\"111.000.000.017\").property(\"amount\",771).property(\"payment_at\",\"2024-03-01 16:02:27-03\").as(\"23238\").\n",
    "addV(\"Payment\").property(id,21913).property(\"card_number\",\"111.000.000.874\").property(\"amount\",246).property(\"payment_at\",\"2024-03-01 17:51:04-03\").as(\"21913\").\n",
    "addV(\"Payment\").property(id,22937).property(\"card_number\",\"111.000.000.361\").property(\"amount\",433).property(\"payment_at\",\"2024-03-01 17:53:19-03\").as(\"22937\").\n",
    "addV(\"Payment\").property(id,22375).property(\"card_number\",\"111.000.000.024\").property(\"amount\",460).property(\"payment_at\",\"2024-03-01 18:51:55-03\").as(\"22375\").\n",
    "addV(\"Payment\").property(id,22295).property(\"card_number\",\"111.000.001.125\").property(\"amount\",268).property(\"payment_at\",\"2024-03-01 19:22:59-03\").as(\"22295\").\n",
    "addV(\"Payment\").property(id,21976).property(\"card_number\",\"111.000.001.107\").property(\"amount\",30).property(\"payment_at\",\"2024-03-01 19:27:01-03\").as(\"21976\").\n",
    "addV(\"Payment\").property(id,21975).property(\"card_number\",\"111.000.001.107\").property(\"amount\",481).property(\"payment_at\",\"2024-03-01 19:27:20-03\").as(\"21975\").\n",
    "addV(\"Payment\").property(id,21956).property(\"card_number\",\"111.000.002.292\").property(\"amount\",99).property(\"payment_at\",\"2024-03-01 19:33:15-03\").as(\"21956\").\n",
    "addV(\"Payment\").property(id,22296).property(\"card_number\",\"111.000.001.125\").property(\"amount\",135).property(\"payment_at\",\"2024-03-01 19:50:03-03\").as(\"22296\").\n",
    "addV(\"Payment\").property(id,21755).property(\"card_number\",\"111.000.002.243\").property(\"amount\",111).property(\"payment_at\",\"2024-03-01 19:56:58-03\").as(\"21755\").\n",
    "addV(\"Payment\").property(id,22999).property(\"card_number\",\"111.000.002.247\").property(\"amount\",441).property(\"payment_at\",\"2024-03-01 20:51:06-03\").as(\"22999\").\n",
    "addV(\"Payment\").property(id,23266).property(\"card_number\",\"111.000.001.359\").property(\"amount\",765).property(\"payment_at\",\"2024-03-01 21:01:17-03\").as(\"23266\").\n",
    "addV(\"Payment\").property(id,23225).property(\"card_number\",\"111.000.002.273\").property(\"amount\",759).property(\"payment_at\",\"2024-03-01 21:01:39-03\").as(\"23225\").\n",
    "addV(\"Payment\").property(id,23189).property(\"card_number\",\"111.000.000.046\").property(\"amount\",180).property(\"payment_at\",\"2024-03-01 21:02:10-03\").as(\"23189\").\n",
    "addV(\"Payment\").property(id,23190).property(\"card_number\",\"111.000.000.046\").property(\"amount\",384).property(\"payment_at\",\"2024-03-01 21:02:15-03\").as(\"23190\").\n",
    "addV(\"Payment\").property(id,23268).property(\"card_number\",\"111.000.001.359\").property(\"amount\",1221).property(\"payment_at\",\"2024-03-01 21:02:41-03\").as(\"23268\").\n",
    "addV(\"Payment\").property(id,23265).property(\"card_number\",\"111.000.001.359\").property(\"amount\",2340).property(\"payment_at\",\"2024-03-01 21:03:13-03\").as(\"23265\").\n",
    "addV(\"Payment\").property(id,23224).property(\"card_number\",\"111.000.002.273\").property(\"amount\",1440).property(\"payment_at\",\"2024-03-01 21:03:15-03\").as(\"23224\").\n",
    "addV(\"Payment\").property(id,23267).property(\"card_number\",\"111.000.001.359\").property(\"amount\",384).property(\"payment_at\",\"2024-03-01 21:03:24-03\").as(\"23267\").\n",
    "addV(\"Payment\").property(id,23223).property(\"card_number\",\"111.000.002.273\").property(\"amount\",1341).property(\"payment_at\",\"2024-03-01 21:04:47-03\").as(\"23223\").\n",
    "addV(\"Payment\").property(id,22058).property(\"card_number\",\"111.000.000.427\").property(\"amount\",221).property(\"payment_at\",\"2024-03-01 21:25:24-03\").as(\"22058\").\n",
    "addV(\"Payment\").property(id,22181).property(\"card_number\",\"111.000.002.437\").property(\"amount\",280).property(\"payment_at\",\"2024-03-01 21:28:47-03\").as(\"22181\").\n",
    "addV(\"Payment\").property(id,22180).property(\"card_number\",\"111.000.002.437\").property(\"amount\",133).property(\"payment_at\",\"2024-03-01 21:34:12-03\").as(\"22180\").\n",
    "addV(\"Payment\").property(id,22913).property(\"card_number\",\"111.000.000.666\").property(\"amount\",37).property(\"payment_at\",\"2024-03-01 21:37:34-03\").as(\"22913\").\n",
    "addV(\"Payment\").property(id,22880).property(\"card_number\",\"111.000.001.360\").property(\"amount\",108).property(\"payment_at\",\"2024-03-01 21:39:43-03\").as(\"22880\").\n",
    "addV(\"Payment\").property(id,22523).property(\"card_number\",\"111.000.000.583\").property(\"amount\",228).property(\"payment_at\",\"2024-03-01 21:53:56-03\").as(\"22523\").\n",
    "addV(\"Payment\").property(id,23240).property(\"card_number\",\"111.000.000.017\").property(\"amount\",723).property(\"payment_at\",\"2024-03-01 23:01:20-03\").as(\"23240\").\n",
    "addV(\"Payment\").property(id,23305).property(\"card_number\",\"111.000.000.759\").property(\"amount\",273).property(\"payment_at\",\"2024-03-01 23:01:38-03\").as(\"23305\").\n",
    "addV(\"Payment\").property(id,23304).property(\"card_number\",\"111.000.000.759\").property(\"amount\",699).property(\"payment_at\",\"2024-03-01 23:02:04-03\").as(\"23304\").\n",
    "addV(\"Payment\").property(id,23241).property(\"card_number\",\"111.000.000.017\").property(\"amount\",660).property(\"payment_at\",\"2024-03-01 23:02:05-03\").as(\"23241\").\n",
    "addV(\"Payment\").property(id,23205).property(\"card_number\",\"111.000.000.599\").property(\"amount\",894).property(\"payment_at\",\"2024-03-01 23:02:09-03\").as(\"23205\").\n",
    "addV(\"Payment\").property(id,23306).property(\"card_number\",\"111.000.000.759\").property(\"amount\",693).property(\"payment_at\",\"2024-03-01 23:03:35-03\").as(\"23306\").\n",
    "addV(\"Payment\").property(id,23239).property(\"card_number\",\"111.000.000.017\").property(\"amount\",876).property(\"payment_at\",\"2024-03-01 23:04:12-03\").as(\"23239\").\n",
    "addV(\"Payment\").property(id,23120).property(\"card_number\",\"111.000.000.324\").property(\"amount\",36).property(\"payment_at\",\"2024-03-01 23:15:38-03\").as(\"23120\").\n",
    "addV(\"Payment\").property(id,22430).property(\"card_number\",\"111.000.002.322\").property(\"amount\",135).property(\"payment_at\",\"2024-03-01 23:23:33-03\").as(\"22430\").\n",
    "addV(\"Payment\").property(id,23028).property(\"card_number\",\"111.000.001.161\").property(\"amount\",131).property(\"payment_at\",\"2024-03-01 23:26:33-03\").as(\"23028\").\n",
    "addV(\"Payment\").property(id,22981).property(\"card_number\",\"111.000.001.421\").property(\"amount\",469).property(\"payment_at\",\"2024-03-01 23:47:50-03\").as(\"22981\").\n",
    "addV(\"Payment\").property(id,23029).property(\"card_number\",\"111.000.001.161\").property(\"amount\",217).property(\"payment_at\",\"2024-03-01 23:48:07-03\").as(\"23029\").\n",
    "addV(\"Payment\").property(id,21692).property(\"card_number\",\"111.000.000.946\").property(\"amount\",103).property(\"payment_at\",\"2024-03-02 00:30:35-03\").as(\"21692\").\n",
    "addV(\"Payment\").property(id,21691).property(\"card_number\",\"111.000.000.946\").property(\"amount\",118).property(\"payment_at\",\"2024-03-02 00:36:39-03\").as(\"21691\").\n",
    "addV(\"Payment\").property(id,22266).property(\"card_number\",\"111.000.001.574\").property(\"amount\",447).property(\"payment_at\",\"2024-03-02 01:20:37-03\").as(\"22266\").\n",
    "addV(\"Payment\").property(id,22689).property(\"card_number\",\"111.000.001.987\").property(\"amount\",378).property(\"payment_at\",\"2024-03-02 01:21:59-03\").as(\"22689\").\n",
    "addV(\"Payment\").property(id,21914).property(\"card_number\",\"111.000.000.874\").property(\"amount\",477).property(\"payment_at\",\"2024-03-02 01:35:44-03\").as(\"21914\").\n",
    "addV(\"Payment\").property(id,22265).property(\"card_number\",\"111.000.001.574\").property(\"amount\",131).property(\"payment_at\",\"2024-03-02 01:38:33-03\").as(\"22265\").\n",
    "addV(\"Payment\").property(id,22939).property(\"card_number\",\"111.000.000.361\").property(\"amount\",65).property(\"payment_at\",\"2024-03-02 01:42:17-03\").as(\"22939\").\n",
    "addV(\"Payment\").property(id,22103).property(\"card_number\",\"111.000.002.207\").property(\"amount\",155).property(\"payment_at\",\"2024-03-02 01:42:48-03\").as(\"22103\").\n",
    "addV(\"Payment\").property(id,22938).property(\"card_number\",\"111.000.000.361\").property(\"amount\",563).property(\"payment_at\",\"2024-03-02 01:44:19-03\").as(\"22938\").\n",
    "addV(\"Payment\").property(id,22690).property(\"card_number\",\"111.000.001.987\").property(\"amount\",364).property(\"payment_at\",\"2024-03-02 01:50:59-03\").as(\"22690\").\n",
    "addV(\"Payment\").property(id,21915).property(\"card_number\",\"111.000.000.874\").property(\"amount\",670).property(\"payment_at\",\"2024-03-02 01:58:25-03\").as(\"21915\").\n",
    "addV(\"Payment\").property(id,23271).property(\"card_number\",\"111.000.001.359\").property(\"amount\",1398).property(\"payment_at\",\"2024-03-02 03:01:17-03\").as(\"23271\").\n",
    "addV(\"Payment\").property(id,23227).property(\"card_number\",\"111.000.002.273\").property(\"amount\",2139).property(\"payment_at\",\"2024-03-02 03:01:29-03\").as(\"23227\").\n",
    "addV(\"Payment\").property(id,23191).property(\"card_number\",\"111.000.000.046\").property(\"amount\",351).property(\"payment_at\",\"2024-03-02 03:01:57-03\").as(\"23191\").\n",
    "addV(\"Payment\").property(id,23228).property(\"card_number\",\"111.000.002.273\").property(\"amount\",1965).property(\"payment_at\",\"2024-03-02 03:02:32-03\").as(\"23228\").\n",
    "addV(\"Payment\").property(id,23269).property(\"card_number\",\"111.000.001.359\").property(\"amount\",1398).property(\"payment_at\",\"2024-03-02 03:02:57-03\").as(\"23269\").\n",
    "addV(\"Payment\").property(id,23226).property(\"card_number\",\"111.000.002.273\").property(\"amount\",348).property(\"payment_at\",\"2024-03-02 03:03:17-03\").as(\"23226\").\n",
    "addV(\"Payment\").property(id,23270).property(\"card_number\",\"111.000.001.359\").property(\"amount\",357).property(\"payment_at\",\"2024-03-02 03:03:52-03\").as(\"23270\").\n",
    "addV(\"Payment\").property(id,23192).property(\"card_number\",\"111.000.000.046\").property(\"amount\",1377).property(\"payment_at\",\"2024-03-02 03:04:11-03\").as(\"23192\").\n",
    "addV(\"Payment\").property(id,22914).property(\"card_number\",\"111.000.000.666\").property(\"amount\",124).property(\"payment_at\",\"2024-03-02 03:19:45-03\").as(\"22914\").\n",
    "addV(\"Payment\").property(id,22605).property(\"card_number\",\"111.000.000.400\").property(\"amount\",289).property(\"payment_at\",\"2024-03-02 03:19:50-03\").as(\"22605\").\n",
    "addV(\"Payment\").property(id,22953).property(\"card_number\",\"111.000.000.911\").property(\"amount\",425).property(\"payment_at\",\"2024-03-02 03:21:06-03\").as(\"22953\").\n",
    "addV(\"Payment\").property(id,22401).property(\"card_number\",\"111.000.002.409\").property(\"amount\",289).property(\"payment_at\",\"2024-03-02 03:21:48-03\").as(\"22401\").\n",
    "addV(\"Payment\").property(id,22915).property(\"card_number\",\"111.000.000.666\").property(\"amount\",441).property(\"payment_at\",\"2024-03-02 03:23:30-03\").as(\"22915\").\n",
    "addV(\"Payment\").property(id,22059).property(\"card_number\",\"111.000.000.427\").property(\"amount\",432).property(\"payment_at\",\"2024-03-02 03:40:40-03\").as(\"22059\").\n",
    "addV(\"Payment\").property(id,22402).property(\"card_number\",\"111.000.002.409\").property(\"amount\",483).property(\"payment_at\",\"2024-03-02 03:41:05-03\").as(\"22402\").\n",
    "addV(\"Payment\").property(id,21677).property(\"card_number\",\"111.000.001.416\").property(\"amount\",374).property(\"payment_at\",\"2024-03-02 03:54:47-03\").as(\"21677\").\n",
    "addV(\"Payment\").property(id,21676).property(\"card_number\",\"111.000.001.416\").property(\"amount\",286).property(\"payment_at\",\"2024-03-02 03:57:49-03\").as(\"21676\").\n",
    "addV(\"Payment\").property(id,22376).property(\"card_number\",\"111.000.000.024\").property(\"amount\",137).property(\"payment_at\",\"2024-03-02 03:59:53-03\").as(\"22376\").\n",
    "addV(\"Payment\").property(id,23289).property(\"card_number\",\"111.000.001.671\").property(\"amount\",792).property(\"payment_at\",\"2024-03-02 04:01:03-03\").as(\"23289\").\n",
    "addV(\"Payment\").property(id,23288).property(\"card_number\",\"111.000.001.671\").property(\"amount\",1407).property(\"payment_at\",\"2024-03-02 04:01:47-03\").as(\"23288\").\n",
    "addV(\"Payment\").property(id,23290).property(\"card_number\",\"111.000.001.671\").property(\"amount\",690).property(\"payment_at\",\"2024-03-02 04:03:13-03\").as(\"23290\").\n",
    "addV(\"Payment\").property(id,23168).property(\"card_number\",\"111.000.000.662\").property(\"amount\",2193).property(\"payment_at\",\"2024-03-02 05:01:26-03\").as(\"23168\").\n",
    "addV(\"Payment\").property(id,23169).property(\"card_number\",\"111.000.000.662\").property(\"amount\",705).property(\"payment_at\",\"2024-03-02 05:01:34-03\").as(\"23169\").\n",
    "addV(\"Payment\").property(id,23167).property(\"card_number\",\"111.000.000.662\").property(\"amount\",783).property(\"payment_at\",\"2024-03-02 05:03:59-03\").as(\"23167\").\n",
    "addV(\"Payment\").property(id,21977).property(\"card_number\",\"111.000.001.107\").property(\"amount\",53).property(\"payment_at\",\"2024-03-02 05:15:08-03\").as(\"21977\").\n",
    "addV(\"Payment\").property(id,22297).property(\"card_number\",\"111.000.001.125\").property(\"amount\",299).property(\"payment_at\",\"2024-03-02 05:21:35-03\").as(\"22297\").\n",
    "addV(\"Payment\").property(id,21757).property(\"card_number\",\"111.000.002.243\").property(\"amount\",97).property(\"payment_at\",\"2024-03-02 05:22:29-03\").as(\"21757\").\n",
    "addV(\"Payment\").property(id,21978).property(\"card_number\",\"111.000.001.107\").property(\"amount\",126).property(\"payment_at\",\"2024-03-02 05:34:15-03\").as(\"21978\").\n",
    "addV(\"Payment\").property(id,21957).property(\"card_number\",\"111.000.002.292\").property(\"amount\",285).property(\"payment_at\",\"2024-03-02 05:36:45-03\").as(\"21957\").\n",
    "addV(\"Payment\").property(id,21756).property(\"card_number\",\"111.000.002.243\").property(\"amount\",44).property(\"payment_at\",\"2024-03-02 05:42:08-03\").as(\"21756\").\n",
    "addV(\"Payment\").property(id,23207).property(\"card_number\",\"111.000.000.599\").property(\"amount\",381).property(\"payment_at\",\"2024-03-02 06:01:11-03\").as(\"23207\").\n",
    "addV(\"Payment\").property(id,23309).property(\"card_number\",\"111.000.000.759\").property(\"amount\",462).property(\"payment_at\",\"2024-03-02 06:01:23-03\").as(\"23309\").\n",
    "addV(\"Payment\").property(id,23242).property(\"card_number\",\"111.000.000.017\").property(\"amount\",162).property(\"payment_at\",\"2024-03-02 06:01:35-03\").as(\"23242\").\n",
    "addV(\"Payment\").property(id,23243).property(\"card_number\",\"111.000.000.017\").property(\"amount\",444).property(\"payment_at\",\"2024-03-02 06:01:57-03\").as(\"23243\").\n",
    "addV(\"Payment\").property(id,23307).property(\"card_number\",\"111.000.000.759\").property(\"amount\",897).property(\"payment_at\",\"2024-03-02 06:02:08-03\").as(\"23307\").\n",
    "addV(\"Payment\").property(id,23206).property(\"card_number\",\"111.000.000.599\").property(\"amount\",201).property(\"payment_at\",\"2024-03-02 06:02:35-03\").as(\"23206\").\n",
    "addV(\"Payment\").property(id,23244).property(\"card_number\",\"111.000.000.017\").property(\"amount\",2097).property(\"payment_at\",\"2024-03-02 06:04:24-03\").as(\"23244\")"
   ]
  },
  {
   "cell_type": "code",
   "execution_count": 32,
   "id": "78658e11-a571-43d7-9924-62061ab3b879",
   "metadata": {
    "tags": []
   },
   "outputs": [
    {
     "data": {
      "application/vnd.jupyter.widget-view+json": {
       "model_id": "0011044a24b04894a9648fdb52bf88d6",
       "version_major": 2,
       "version_minor": 0
      },
      "text/plain": [
       "Tab(children=(Output(layout=Layout(max_height='600px', max_width='940px', overflow='scroll')), Output(layout=L…"
      ]
     },
     "metadata": {},
     "output_type": "display_data"
    }
   ],
   "source": [
    "%%gremlin\n",
    "\n",
    "g.addV(\"Payment\").property(id,23308).property(\"card_number\",\"111.000.000.759\").property(\"amount\",1338).property(\"payment_at\",\"2024-03-02 06:04:59-03\").as(\"23308\").\n",
    "addV(\"Payment\").property(id,22432).property(\"card_number\",\"111.000.002.322\").property(\"amount\",222).property(\"payment_at\",\"2024-03-02 06:15:33-03\").as(\"22432\").\n",
    "addV(\"Payment\").property(id,22431).property(\"card_number\",\"111.000.002.322\").property(\"amount\",608).property(\"payment_at\",\"2024-03-02 06:52:04-03\").as(\"22431\").\n",
    "addV(\"Payment\").property(id,23000).property(\"card_number\",\"111.000.002.247\").property(\"amount\",159).property(\"payment_at\",\"2024-03-02 07:29:46-03\").as(\"23000\").\n",
    "addV(\"Payment\").property(id,21723).property(\"card_number\",\"111.000.002.153\").property(\"amount\",469).property(\"payment_at\",\"2024-03-02 07:46:00-03\").as(\"21723\").\n",
    "addV(\"Payment\").property(id,21724).property(\"card_number\",\"111.000.002.153\").property(\"amount\",106).property(\"payment_at\",\"2024-03-02 07:52:00-03\").as(\"21724\").\n",
    "addV(\"Payment\").property(id,21980).property(\"card_number\",\"111.000.001.107\").property(\"amount\",105).property(\"payment_at\",\"2024-03-02 09:16:54-03\").as(\"21980\").\n",
    "addV(\"Payment\").property(id,21979).property(\"card_number\",\"111.000.001.107\").property(\"amount\",277).property(\"payment_at\",\"2024-03-02 09:18:47-03\").as(\"21979\").\n",
    "addV(\"Payment\").property(id,22434).property(\"card_number\",\"111.000.002.322\").property(\"amount\",618).property(\"payment_at\",\"2024-03-02 09:26:07-03\").as(\"22434\").\n",
    "addV(\"Payment\").property(id,22433).property(\"card_number\",\"111.000.002.322\").property(\"amount\",55).property(\"payment_at\",\"2024-03-02 09:28:04-03\").as(\"22433\").\n",
    "addV(\"Payment\").property(id,22524).property(\"card_number\",\"111.000.000.583\").property(\"amount\",722).property(\"payment_at\",\"2024-03-02 09:29:39-03\").as(\"22524\").\n",
    "addV(\"Payment\").property(id,22182).property(\"card_number\",\"111.000.002.437\").property(\"amount\",257).property(\"payment_at\",\"2024-03-02 09:32:34-03\").as(\"22182\").\n",
    "addV(\"Payment\").property(id,22525).property(\"card_number\",\"111.000.000.583\").property(\"amount\",400).property(\"payment_at\",\"2024-03-02 09:33:12-03\").as(\"22525\").\n",
    "addV(\"Payment\").property(id,22183).property(\"card_number\",\"111.000.002.437\").property(\"amount\",738).property(\"payment_at\",\"2024-03-02 09:33:58-03\").as(\"22183\").\n",
    "addV(\"Payment\").property(id,22104).property(\"card_number\",\"111.000.002.207\").property(\"amount\",281).property(\"payment_at\",\"2024-03-02 09:36:12-03\").as(\"22104\").\n",
    "addV(\"Payment\").property(id,22691).property(\"card_number\",\"111.000.001.987\").property(\"amount\",410).property(\"payment_at\",\"2024-03-02 09:40:28-03\").as(\"22691\").\n",
    "addV(\"Payment\").property(id,22800).property(\"card_number\",\"111.000.001.071\").property(\"amount\",280).property(\"payment_at\",\"2024-03-02 09:41:56-03\").as(\"22800\").\n",
    "addV(\"Payment\").property(id,21758).property(\"card_number\",\"111.000.002.243\").property(\"amount\",126).property(\"payment_at\",\"2024-03-02 09:47:18-03\").as(\"21758\").\n",
    "addV(\"Payment\").property(id,22692).property(\"card_number\",\"111.000.001.987\").property(\"amount\",189).property(\"payment_at\",\"2024-03-02 09:57:41-03\").as(\"22692\").\n",
    "addV(\"Payment\").property(id,21759).property(\"card_number\",\"111.000.002.243\").property(\"amount\",115).property(\"payment_at\",\"2024-03-02 09:58:56-03\").as(\"21759\").\n",
    "addV(\"Payment\").property(id,22298).property(\"card_number\",\"111.000.001.125\").property(\"amount\",280).property(\"payment_at\",\"2024-03-02 15:56:28-03\").as(\"22298\").\n",
    "addV(\"Payment\").property(id,22299).property(\"card_number\",\"111.000.001.125\").property(\"amount\",443).property(\"payment_at\",\"2024-03-02 15:57:26-03\").as(\"22299\").\n",
    "addV(\"Payment\").property(id,22526).property(\"card_number\",\"111.000.000.583\").property(\"amount\",121).property(\"payment_at\",\"2024-03-02 17:39:53-03\").as(\"22526\").\n",
    "addV(\"Payment\").property(id,22105).property(\"card_number\",\"111.000.002.207\").property(\"amount\",128).property(\"payment_at\",\"2024-03-02 20:51:45-03\").as(\"22105\").\n",
    "addV(\"Payment\").property(id,22185).property(\"card_number\",\"111.000.002.437\").property(\"amount\",259).property(\"payment_at\",\"2024-03-02 21:33:34-03\").as(\"22185\").\n",
    "addV(\"Payment\").property(id,22435).property(\"card_number\",\"111.000.002.322\").property(\"amount\",286).property(\"payment_at\",\"2024-03-02 21:38:37-03\").as(\"22435\").\n",
    "addV(\"Payment\").property(id,22184).property(\"card_number\",\"111.000.002.437\").property(\"amount\",142).property(\"payment_at\",\"2024-03-02 21:41:00-03\").as(\"22184\").\n",
    "addV(\"Payment\").property(id,22300).property(\"card_number\",\"111.000.001.125\").property(\"amount\",755).property(\"payment_at\",\"2024-03-02 21:42:33-03\").as(\"22300\").\n",
    "addV(\"Payment\").property(id,21981).property(\"card_number\",\"111.000.001.107\").property(\"amount\",249).property(\"payment_at\",\"2024-03-03 01:19:28-03\").as(\"21981\").\n",
    "addV(\"Payment\").property(id,22527).property(\"card_number\",\"111.000.000.583\").property(\"amount\",734).property(\"payment_at\",\"2024-03-03 01:43:05-03\").as(\"22527\").\n",
    "addV(\"Payment\").property(id,21982).property(\"card_number\",\"111.000.001.107\").property(\"amount\",244).property(\"payment_at\",\"2024-03-03 01:54:41-03\").as(\"21982\").\n",
    "addV(\"Payment\").property(id,22528).property(\"card_number\",\"111.000.000.583\").property(\"amount\",246).property(\"payment_at\",\"2024-03-03 01:55:54-03\").as(\"22528\").\n",
    "addV(\"Payment\").property(id,22607).property(\"card_number\",\"111.000.000.400\").property(\"amount\",265).property(\"payment_at\",\"2024-03-03 02:47:35-03\").as(\"22607\").\n",
    "addV(\"Payment\").property(id,22606).property(\"card_number\",\"111.000.000.400\").property(\"amount\",738).property(\"payment_at\",\"2024-03-03 02:55:03-03\").as(\"22606\").\n",
    "addV(\"Payment\").property(id,22186).property(\"card_number\",\"111.000.002.437\").property(\"amount\",61).property(\"payment_at\",\"2024-03-03 03:25:23-03\").as(\"22186\").\n",
    "addV(\"Payment\").property(id,22301).property(\"card_number\",\"111.000.001.125\").property(\"amount\",51).property(\"payment_at\",\"2024-03-03 03:32:53-03\").as(\"22301\").\n",
    "addV(\"Payment\").property(id,22187).property(\"card_number\",\"111.000.002.437\").property(\"amount\",60).property(\"payment_at\",\"2024-03-03 03:33:23-03\").as(\"22187\").\n",
    "addV(\"Payment\").property(id,22302).property(\"card_number\",\"111.000.001.125\").property(\"amount\",247).property(\"payment_at\",\"2024-03-03 03:44:48-03\").as(\"22302\").\n",
    "addV(\"Payment\").property(id,21760).property(\"card_number\",\"111.000.002.243\").property(\"amount\",50).property(\"payment_at\",\"2024-03-03 03:53:55-03\").as(\"21760\").\n",
    "addV(\"Payment\").property(id,22106).property(\"card_number\",\"111.000.002.207\").property(\"amount\",287).property(\"payment_at\",\"2024-03-03 07:58:16-03\").as(\"22106\").\n",
    "addV(\"Payment\").property(id,22801).property(\"card_number\",\"111.000.001.071\").property(\"amount\",98).property(\"payment_at\",\"2024-03-03 09:20:30-03\").as(\"22801\").\n",
    "addV(\"Payment\").property(id,22609).property(\"card_number\",\"111.000.000.400\").property(\"amount\",130).property(\"payment_at\",\"2024-03-03 09:21:09-03\").as(\"22609\").\n",
    "addV(\"Payment\").property(id,22107).property(\"card_number\",\"111.000.002.207\").property(\"amount\",54).property(\"payment_at\",\"2024-03-03 09:30:56-03\").as(\"22107\").\n",
    "addV(\"Payment\").property(id,21762).property(\"card_number\",\"111.000.002.243\").property(\"amount\",107).property(\"payment_at\",\"2024-03-03 09:32:12-03\").as(\"21762\").\n",
    "addV(\"Payment\").property(id,22693).property(\"card_number\",\"111.000.001.987\").property(\"amount\",716).property(\"payment_at\",\"2024-03-03 09:33:59-03\").as(\"22693\").\n",
    "addV(\"Payment\").property(id,22694).property(\"card_number\",\"111.000.001.987\").property(\"amount\",449).property(\"payment_at\",\"2024-03-03 09:37:45-03\").as(\"22694\").\n",
    "addV(\"Payment\").property(id,21761).property(\"card_number\",\"111.000.002.243\").property(\"amount\",287).property(\"payment_at\",\"2024-03-03 09:40:13-03\").as(\"21761\").\n",
    "addV(\"Payment\").property(id,22108).property(\"card_number\",\"111.000.002.207\").property(\"amount\",488).property(\"payment_at\",\"2024-03-03 09:43:14-03\").as(\"22108\").\n",
    "addV(\"Payment\").property(id,21983).property(\"card_number\",\"111.000.001.107\").property(\"amount\",244).property(\"payment_at\",\"2024-03-03 09:46:43-03\").as(\"21983\").\n",
    "addV(\"Payment\").property(id,22802).property(\"card_number\",\"111.000.001.071\").property(\"amount\",42).property(\"payment_at\",\"2024-03-03 09:47:49-03\").as(\"22802\").\n",
    "addV(\"Payment\").property(id,21984).property(\"card_number\",\"111.000.001.107\").property(\"amount\",147).property(\"payment_at\",\"2024-03-03 09:50:43-03\").as(\"21984\").\n",
    "addV(\"Payment\").property(id,22436).property(\"card_number\",\"111.000.002.322\").property(\"amount\",407).property(\"payment_at\",\"2024-03-03 09:50:47-03\").as(\"22436\").\n",
    "addV(\"Payment\").property(id,22437).property(\"card_number\",\"111.000.002.322\").property(\"amount\",722).property(\"payment_at\",\"2024-03-03 09:53:24-03\").as(\"22437\").\n",
    "addV(\"Payment\").property(id,23031).property(\"card_number\",\"111.000.001.161\").property(\"amount\",125).property(\"payment_at\",\"2024-03-03 09:59:03-03\").as(\"23031\").\n",
    "addV(\"Payment\").property(id,23030).property(\"card_number\",\"111.000.001.161\").property(\"amount\",39).property(\"payment_at\",\"2024-03-03 09:59:51-03\").as(\"23030\").\n",
    "addV(\"Payment\").property(id,22608).property(\"card_number\",\"111.000.000.400\").property(\"amount\",283).property(\"payment_at\",\"2024-03-03 09:59:59-03\").as(\"22608\").\n",
    "addV(\"Payment\").property(id,22188).property(\"card_number\",\"111.000.002.437\").property(\"amount\",145).property(\"payment_at\",\"2024-03-03 15:43:16-03\").as(\"22188\").\n",
    "addV(\"Payment\").property(id,23033).property(\"card_number\",\"111.000.001.161\").property(\"amount\",421).property(\"payment_at\",\"2024-03-03 17:19:29-03\").as(\"23033\").\n",
    "addV(\"Payment\").property(id,23032).property(\"card_number\",\"111.000.001.161\").property(\"amount\",667).property(\"payment_at\",\"2024-03-03 17:52:38-03\").as(\"23032\").\n",
    "addV(\"Payment\").property(id,21835).property(\"card_number\",\"111.000.001.372\").property(\"amount\",190).property(\"payment_at\",\"2024-03-03 20:29:56-03\").as(\"21835\").\n",
    "addV(\"Payment\").property(id,22438).property(\"card_number\",\"111.000.002.322\").property(\"amount\",263).property(\"payment_at\",\"2024-03-03 21:28:07-03\").as(\"22438\").\n",
    "addV(\"Payment\").property(id,22304).property(\"card_number\",\"111.000.001.125\").property(\"amount\",42).property(\"payment_at\",\"2024-03-03 22:19:56-03\").as(\"22304\").\n",
    "addV(\"Payment\").property(id,22303).property(\"card_number\",\"111.000.001.125\").property(\"amount\",267).property(\"payment_at\",\"2024-03-03 22:36:26-03\").as(\"22303\").\n",
    "addV(\"Payment\").property(id,22610).property(\"card_number\",\"111.000.000.400\").property(\"amount\",265).property(\"payment_at\",\"2024-03-03 23:16:26-03\").as(\"22610\").\n",
    "addV(\"Payment\").property(id,22695).property(\"card_number\",\"111.000.001.987\").property(\"amount\",54).property(\"payment_at\",\"2024-03-04 00:15:34-03\").as(\"22695\").\n",
    "addV(\"Payment\").property(id,22110).property(\"card_number\",\"111.000.002.207\").property(\"amount\",773).property(\"payment_at\",\"2024-03-04 00:28:29-03\").as(\"22110\").\n",
    "addV(\"Payment\").property(id,21763).property(\"card_number\",\"111.000.002.243\").property(\"amount\",285).property(\"payment_at\",\"2024-03-04 00:42:55-03\").as(\"21763\").\n",
    "addV(\"Payment\").property(id,22109).property(\"card_number\",\"111.000.002.207\").property(\"amount\",122).property(\"payment_at\",\"2024-03-04 00:49:29-03\").as(\"22109\").\n",
    "addV(\"Payment\").property(id,21764).property(\"card_number\",\"111.000.002.243\").property(\"amount\",665).property(\"payment_at\",\"2024-03-04 00:51:55-03\").as(\"21764\").\n",
    "addV(\"Payment\").property(id,23034).property(\"card_number\",\"111.000.001.161\").property(\"amount\",324).property(\"payment_at\",\"2024-03-04 01:23:47-03\").as(\"23034\").\n",
    "addV(\"Payment\").property(id,23035).property(\"card_number\",\"111.000.001.161\").property(\"amount\",39).property(\"payment_at\",\"2024-03-04 01:49:13-03\").as(\"23035\").\n",
    "addV(\"Payment\").property(id,21916).property(\"card_number\",\"111.000.000.874\").property(\"amount\",42).property(\"payment_at\",\"2024-03-04 05:39:21-03\").as(\"21916\").\n",
    "addV(\"Payment\").property(id,22803).property(\"card_number\",\"111.000.001.071\").property(\"amount\",454).property(\"payment_at\",\"2024-03-04 07:18:48-03\").as(\"22803\").\n",
    "addV(\"Payment\").property(id,22804).property(\"card_number\",\"111.000.001.071\").property(\"amount\",134).property(\"payment_at\",\"2024-03-04 07:56:45-03\").as(\"22804\").\n",
    "addV(\"Payment\").property(id,22111).property(\"card_number\",\"111.000.002.207\").property(\"amount\",46).property(\"payment_at\",\"2024-03-04 09:15:30-03\").as(\"22111\").\n",
    "addV(\"Payment\").property(id,22404).property(\"card_number\",\"111.000.002.409\").property(\"amount\",105).property(\"payment_at\",\"2024-03-04 09:17:34-03\").as(\"22404\").\n",
    "addV(\"Payment\").property(id,22440).property(\"card_number\",\"111.000.002.322\").property(\"amount\",48).property(\"payment_at\",\"2024-03-04 09:23:34-03\").as(\"22440\").\n",
    "addV(\"Payment\").property(id,22777).property(\"card_number\",\"111.000.001.819\").property(\"amount\",268).property(\"payment_at\",\"2024-03-04 09:26:54-03\").as(\"22777\").\n",
    "addV(\"Payment\").property(id,21985).property(\"card_number\",\"111.000.001.107\").property(\"amount\",120).property(\"payment_at\",\"2024-03-04 09:28:54-03\").as(\"21985\").\n",
    "addV(\"Payment\").property(id,22189).property(\"card_number\",\"111.000.002.437\").property(\"amount\",39).property(\"payment_at\",\"2024-03-04 09:29:05-03\").as(\"22189\").\n",
    "addV(\"Payment\").property(id,21726).property(\"card_number\",\"111.000.002.153\").property(\"amount\",262).property(\"payment_at\",\"2024-03-04 09:29:09-03\").as(\"21726\").\n",
    "addV(\"Payment\").property(id,23036).property(\"card_number\",\"111.000.001.161\").property(\"amount\",254).property(\"payment_at\",\"2024-03-04 09:33:30-03\").as(\"23036\").\n",
    "addV(\"Payment\").property(id,22529).property(\"card_number\",\"111.000.000.583\").property(\"amount\",271).property(\"payment_at\",\"2024-03-04 09:35:52-03\").as(\"22529\").\n",
    "addV(\"Payment\").property(id,21693).property(\"card_number\",\"111.000.000.946\").property(\"amount\",52).property(\"payment_at\",\"2024-03-04 09:43:20-03\").as(\"21693\").\n",
    "addV(\"Payment\").property(id,21766).property(\"card_number\",\"111.000.002.243\").property(\"amount\",463).property(\"payment_at\",\"2024-03-04 09:44:58-03\").as(\"21766\").\n",
    "addV(\"Payment\").property(id,22112).property(\"card_number\",\"111.000.002.207\").property(\"amount\",633).property(\"payment_at\",\"2024-03-04 09:45:57-03\").as(\"22112\").\n",
    "addV(\"Payment\").property(id,21765).property(\"card_number\",\"111.000.002.243\").property(\"amount\",58).property(\"payment_at\",\"2024-03-04 09:46:17-03\").as(\"21765\").\n",
    "addV(\"Payment\").property(id,22881).property(\"card_number\",\"111.000.001.360\").property(\"amount\",135).property(\"payment_at\",\"2024-03-04 09:48:22-03\").as(\"22881\").\n",
    "addV(\"Payment\").property(id,21725).property(\"card_number\",\"111.000.002.153\").property(\"amount\",125).property(\"payment_at\",\"2024-03-04 09:54:14-03\").as(\"21725\").\n",
    "addV(\"Payment\").property(id,22305).property(\"card_number\",\"111.000.001.125\").property(\"amount\",66).property(\"payment_at\",\"2024-03-04 09:55:31-03\").as(\"22305\").\n",
    "addV(\"Payment\").property(id,22403).property(\"card_number\",\"111.000.002.409\").property(\"amount\",208).property(\"payment_at\",\"2024-03-04 09:56:22-03\").as(\"22403\").\n",
    "addV(\"Payment\").property(id,22439).property(\"card_number\",\"111.000.002.322\").property(\"amount\",141).property(\"payment_at\",\"2024-03-04 09:56:54-03\").as(\"22439\").\n",
    "addV(\"Payment\").property(id,22611).property(\"card_number\",\"111.000.000.400\").property(\"amount\",153).property(\"payment_at\",\"2024-03-04 16:28:17-03\").as(\"22611\").\n",
    "addV(\"Payment\").property(id,22612).property(\"card_number\",\"111.000.000.400\").property(\"amount\",150).property(\"payment_at\",\"2024-03-04 16:39:31-03\").as(\"22612\").\n",
    "addV(\"Payment\").property(id,22805).property(\"card_number\",\"111.000.001.071\").property(\"amount\",283).property(\"payment_at\",\"2024-03-04 17:22:31-03\").as(\"22805\").\n",
    "addV(\"Payment\").property(id,22267).property(\"card_number\",\"111.000.001.574\").property(\"amount\",262).property(\"payment_at\",\"2024-03-04 18:25:38-03\").as(\"22267\").\n",
    "addV(\"Payment\").property(id,22307).property(\"card_number\",\"111.000.001.125\").property(\"amount\",270).property(\"payment_at\",\"2024-03-04 18:31:23-03\").as(\"22307\").\n",
    "addV(\"Payment\").property(id,22306).property(\"card_number\",\"111.000.001.125\").property(\"amount\",62).property(\"payment_at\",\"2024-03-04 18:53:12-03\").as(\"22306\").\n",
    "addV(\"Payment\").property(id,22441).property(\"card_number\",\"111.000.002.322\").property(\"amount\",736).property(\"payment_at\",\"2024-03-04 19:23:11-03\").as(\"22441\").\n",
    "addV(\"Payment\").property(id,22442).property(\"card_number\",\"111.000.002.322\").property(\"amount\",249).property(\"payment_at\",\"2024-03-04 19:44:27-03\").as(\"22442\").\n",
    "addV(\"Payment\").property(id,23037).property(\"card_number\",\"111.000.001.161\").property(\"amount\",77).property(\"payment_at\",\"2024-03-04 19:54:08-03\").as(\"23037\").\n",
    "addV(\"Payment\").property(id,21767).property(\"card_number\",\"111.000.002.243\").property(\"amount\",126).property(\"payment_at\",\"2024-03-04 20:23:33-03\").as(\"21767\").\n",
    "addV(\"Payment\").property(id,21768).property(\"card_number\",\"111.000.002.243\").property(\"amount\",62).property(\"payment_at\",\"2024-03-04 20:23:48-03\").as(\"21768\").\n",
    "addV(\"Payment\").property(id,21986).property(\"card_number\",\"111.000.001.107\").property(\"amount\",104).property(\"payment_at\",\"2024-03-04 21:41:00-03\").as(\"21986\").\n",
    "addV(\"Payment\").property(id,21727).property(\"card_number\",\"111.000.002.153\").property(\"amount\",141).property(\"payment_at\",\"2024-03-04 22:25:54-03\").as(\"21727\").\n",
    "addV(\"Payment\").property(id,22954).property(\"card_number\",\"111.000.000.911\").property(\"amount\",113).property(\"payment_at\",\"2024-03-04 22:32:20-03\").as(\"22954\").\n",
    "addV(\"Payment\").property(id,22613).property(\"card_number\",\"111.000.000.400\").property(\"amount\",313).property(\"payment_at\",\"2024-03-04 23:19:04-03\").as(\"22613\").\n",
    "addV(\"Payment\").property(id,22882).property(\"card_number\",\"111.000.001.360\").property(\"amount\",223).property(\"payment_at\",\"2024-03-04 23:26:39-03\").as(\"22882\").\n",
    "addV(\"Payment\").property(id,22883).property(\"card_number\",\"111.000.001.360\").property(\"amount\",347).property(\"payment_at\",\"2024-03-04 23:47:15-03\").as(\"22883\").\n",
    "addV(\"Payment\").property(id,22779).property(\"card_number\",\"111.000.001.819\").property(\"amount\",660).property(\"payment_at\",\"2024-03-05 00:19:47-03\").as(\"22779\").\n",
    "addV(\"Payment\").property(id,22778).property(\"card_number\",\"111.000.001.819\").property(\"amount\",292).property(\"payment_at\",\"2024-03-05 00:54:15-03\").as(\"22778\").\n",
    "addV(\"Payment\").property(id,22807).property(\"card_number\",\"111.000.001.071\").property(\"amount\",61).property(\"payment_at\",\"2024-03-05 01:17:57-03\").as(\"22807\").\n",
    "addV(\"Payment\").property(id,22530).property(\"card_number\",\"111.000.000.583\").property(\"amount\",221).property(\"payment_at\",\"2024-03-05 01:20:50-03\").as(\"22530\").\n",
    "addV(\"Payment\").property(id,22806).property(\"card_number\",\"111.000.001.071\").property(\"amount\",392).property(\"payment_at\",\"2024-03-05 01:32:45-03\").as(\"22806\").\n",
    "addV(\"Payment\").property(id,22531).property(\"card_number\",\"111.000.000.583\").property(\"amount\",236).property(\"payment_at\",\"2024-03-05 01:37:40-03\").as(\"22531\").\n",
    "addV(\"Payment\").property(id,22190).property(\"card_number\",\"111.000.002.437\").property(\"amount\",111).property(\"payment_at\",\"2024-03-05 02:51:56-03\").as(\"22190\").\n",
    "addV(\"Payment\").property(id,22191).property(\"card_number\",\"111.000.002.437\").property(\"amount\",270).property(\"payment_at\",\"2024-03-05 02:57:30-03\").as(\"22191\").\n",
    "addV(\"Payment\").property(id,22309).property(\"card_number\",\"111.000.001.125\").property(\"amount\",714).property(\"payment_at\",\"2024-03-05 03:16:34-03\").as(\"22309\").\n",
    "addV(\"Payment\").property(id,22308).property(\"card_number\",\"111.000.001.125\").property(\"amount\",243).property(\"payment_at\",\"2024-03-05 03:35:50-03\").as(\"22308\").\n",
    "addV(\"Payment\").property(id,22268).property(\"card_number\",\"111.000.001.574\").property(\"amount\",50).property(\"payment_at\",\"2024-03-05 03:41:04-03\").as(\"22268\").\n",
    "addV(\"Payment\").property(id,22269).property(\"card_number\",\"111.000.001.574\").property(\"amount\",51).property(\"payment_at\",\"2024-03-05 03:45:21-03\").as(\"22269\").\n",
    "addV(\"Payment\").property(id,22443).property(\"card_number\",\"111.000.002.322\").property(\"amount\",189).property(\"payment_at\",\"2024-03-05 05:19:57-03\").as(\"22443\").\n",
    "addV(\"Payment\").property(id,22444).property(\"card_number\",\"111.000.002.322\").property(\"amount\",441).property(\"payment_at\",\"2024-03-05 05:20:25-03\").as(\"22444\").\n",
    "addV(\"Payment\").property(id,21836).property(\"card_number\",\"111.000.001.372\").property(\"amount\",109).property(\"payment_at\",\"2024-03-05 05:36:38-03\").as(\"21836\").\n",
    "addV(\"Payment\").property(id,23039).property(\"card_number\",\"111.000.001.161\").property(\"amount\",90).property(\"payment_at\",\"2024-03-05 05:42:41-03\").as(\"23039\").\n",
    "addV(\"Payment\").property(id,23038).property(\"card_number\",\"111.000.001.161\").property(\"amount\",114).property(\"payment_at\",\"2024-03-05 05:56:04-03\").as(\"23038\").\n",
    "addV(\"Payment\").property(id,22405).property(\"card_number\",\"111.000.002.409\").property(\"amount\",221).property(\"payment_at\",\"2024-03-05 07:46:02-03\").as(\"22405\").\n",
    "addV(\"Payment\").property(id,22114).property(\"card_number\",\"111.000.002.207\").property(\"amount\",707).property(\"payment_at\",\"2024-03-05 09:15:34-03\").as(\"22114\").\n",
    "addV(\"Payment\").property(id,22696).property(\"card_number\",\"111.000.001.987\").property(\"amount\",674).property(\"payment_at\",\"2024-03-05 09:17:15-03\").as(\"22696\").\n",
    "addV(\"Payment\").property(id,21988).property(\"card_number\",\"111.000.001.107\").property(\"amount\",141).property(\"payment_at\",\"2024-03-05 09:18:43-03\").as(\"21988\").\n",
    "addV(\"Payment\").property(id,22192).property(\"card_number\",\"111.000.002.437\").property(\"amount\",122).property(\"payment_at\",\"2024-03-05 09:25:59-03\").as(\"22192\").\n",
    "addV(\"Payment\").property(id,21987).property(\"card_number\",\"111.000.001.107\").property(\"amount\",796).property(\"payment_at\",\"2024-03-05 09:27:47-03\").as(\"21987\").\n",
    "addV(\"Payment\").property(id,22697).property(\"card_number\",\"111.000.001.987\").property(\"amount\",702).property(\"payment_at\",\"2024-03-05 09:30:42-03\").as(\"22697\").\n",
    "addV(\"Payment\").property(id,22533).property(\"card_number\",\"111.000.000.583\").property(\"amount\",443).property(\"payment_at\",\"2024-03-05 09:30:51-03\").as(\"22533\").\n",
    "addV(\"Payment\").property(id,22808).property(\"card_number\",\"111.000.001.071\").property(\"amount\",130).property(\"payment_at\",\"2024-03-05 09:35:14-03\").as(\"22808\").\n",
    "addV(\"Payment\").property(id,21917).property(\"card_number\",\"111.000.000.874\").property(\"amount\",120).property(\"payment_at\",\"2024-03-05 09:45:23-03\").as(\"21917\").\n",
    "addV(\"Payment\").property(id,22614).property(\"card_number\",\"111.000.000.400\").property(\"amount\",433).property(\"payment_at\",\"2024-03-05 09:45:49-03\").as(\"22614\").\n",
    "addV(\"Payment\").property(id,22532).property(\"card_number\",\"111.000.000.583\").property(\"amount\",66).property(\"payment_at\",\"2024-03-05 09:52:39-03\").as(\"22532\").\n",
    "addV(\"Payment\").property(id,22113).property(\"card_number\",\"111.000.002.207\").property(\"amount\",243).property(\"payment_at\",\"2024-03-05 09:54:36-03\").as(\"22113\").\n",
    "addV(\"Payment\").property(id,22445).property(\"card_number\",\"111.000.002.322\").property(\"amount\",410).property(\"payment_at\",\"2024-03-05 15:21:39-03\").as(\"22445\").\n",
    "addV(\"Payment\").property(id,22446).property(\"card_number\",\"111.000.002.322\").property(\"amount\",225).property(\"payment_at\",\"2024-03-05 15:31:39-03\").as(\"22446\").\n",
    "addV(\"Payment\").property(id,23040).property(\"card_number\",\"111.000.001.161\").property(\"amount\",25).property(\"payment_at\",\"2024-03-05 16:19:35-03\").as(\"23040\").\n",
    "addV(\"Payment\").property(id,21958).property(\"card_number\",\"111.000.002.292\").property(\"amount\",47).property(\"payment_at\",\"2024-03-05 18:29:59-03\").as(\"21958\").\n",
    "addV(\"Payment\").property(id,22534).property(\"card_number\",\"111.000.000.583\").property(\"amount\",129).property(\"payment_at\",\"2024-03-05 18:56:43-03\").as(\"22534\").\n",
    "addV(\"Payment\").property(id,23122).property(\"card_number\",\"111.000.000.324\").property(\"amount\",264).property(\"payment_at\",\"2024-03-05 19:31:30-03\").as(\"23122\").\n",
    "addV(\"Payment\").property(id,23121).property(\"card_number\",\"111.000.000.324\").property(\"amount\",36).property(\"payment_at\",\"2024-03-05 19:56:40-03\").as(\"23121\").\n",
    "addV(\"Payment\").property(id,21770).property(\"card_number\",\"111.000.002.243\").property(\"amount\",394).property(\"payment_at\",\"2024-03-05 23:16:07-03\").as(\"21770\").\n",
    "addV(\"Payment\").property(id,21837).property(\"card_number\",\"111.000.001.372\").property(\"amount\",197).property(\"payment_at\",\"2024-03-05 23:17:47-03\").as(\"21837\").\n",
    "addV(\"Payment\").property(id,21838).property(\"card_number\",\"111.000.001.372\").property(\"amount\",54).property(\"payment_at\",\"2024-03-05 23:25:08-03\").as(\"21838\").\n",
    "addV(\"Payment\").property(id,23041).property(\"card_number\",\"111.000.001.161\").property(\"amount\",54).property(\"payment_at\",\"2024-03-05 23:39:26-03\").as(\"23041\")"
   ]
  },
  {
   "cell_type": "code",
   "execution_count": 34,
   "id": "e2e03e9e-bad2-4279-959f-b397cdea5d7a",
   "metadata": {
    "tags": []
   },
   "outputs": [
    {
     "data": {
      "application/vnd.jupyter.widget-view+json": {
       "model_id": "c5c1ebaaa69543d889abb7f9a642f47f",
       "version_major": 2,
       "version_minor": 0
      },
      "text/plain": [
       "Tab(children=(Output(layout=Layout(max_height='600px', max_width='940px', overflow='scroll')), Output(layout=L…"
      ]
     },
     "metadata": {},
     "output_type": "display_data"
    }
   ],
   "source": [
    "%%gremlin\n",
    "\n",
    "g.addV(\"Payment\").property(id,21769).property(\"card_number\",\"111.000.002.243\").property(\"amount\",114).property(\"payment_at\",\"2024-03-05 23:58:38-03\").as(\"21769\").\n",
    "addV(\"Payment\").property(id,22809).property(\"card_number\",\"111.000.001.071\").property(\"amount\",255).property(\"payment_at\",\"2024-03-06 00:30:16-03\").as(\"22809\").\n",
    "addV(\"Payment\").property(id,22115).property(\"card_number\",\"111.000.002.207\").property(\"amount\",675).property(\"payment_at\",\"2024-03-06 01:20:55-03\").as(\"22115\").\n",
    "addV(\"Payment\").property(id,22377).property(\"card_number\",\"111.000.000.024\").property(\"amount\",414).property(\"payment_at\",\"2024-03-06 01:22:58-03\").as(\"22377\").\n",
    "addV(\"Payment\").property(id,22698).property(\"card_number\",\"111.000.001.987\").property(\"amount\",58).property(\"payment_at\",\"2024-03-06 01:25:38-03\").as(\"22698\").\n",
    "addV(\"Payment\").property(id,22699).property(\"card_number\",\"111.000.001.987\").property(\"amount\",284).property(\"payment_at\",\"2024-03-06 01:27:12-03\").as(\"22699\").\n",
    "addV(\"Payment\").property(id,21989).property(\"card_number\",\"111.000.001.107\").property(\"amount\",141).property(\"payment_at\",\"2024-03-06 01:57:56-03\").as(\"21989\").\n",
    "addV(\"Payment\").property(id,21919).property(\"card_number\",\"111.000.000.874\").property(\"amount\",117).property(\"payment_at\",\"2024-03-06 02:35:25-03\").as(\"21919\").\n",
    "addV(\"Payment\").property(id,21918).property(\"card_number\",\"111.000.000.874\").property(\"amount\",267).property(\"payment_at\",\"2024-03-06 02:40:53-03\").as(\"21918\").\n",
    "addV(\"Payment\").property(id,22535).property(\"card_number\",\"111.000.000.583\").property(\"amount\",54).property(\"payment_at\",\"2024-03-06 03:57:24-03\").as(\"22535\").\n",
    "addV(\"Payment\").property(id,22810).property(\"card_number\",\"111.000.001.071\").property(\"amount\",227).property(\"payment_at\",\"2024-03-06 09:20:06-03\").as(\"22810\").\n",
    "addV(\"Payment\").property(id,22060).property(\"card_number\",\"111.000.000.427\").property(\"amount\",246).property(\"payment_at\",\"2024-03-06 09:29:04-03\").as(\"22060\").\n",
    "addV(\"Payment\").property(id,22061).property(\"card_number\",\"111.000.000.427\").property(\"amount\",42).property(\"payment_at\",\"2024-03-06 09:30:21-03\").as(\"22061\").\n",
    "addV(\"Payment\").property(id,22811).property(\"card_number\",\"111.000.001.071\").property(\"amount\",237).property(\"payment_at\",\"2024-03-06 09:30:22-03\").as(\"22811\").\n",
    "addV(\"Payment\").property(id,21771).property(\"card_number\",\"111.000.002.243\").property(\"amount\",152).property(\"payment_at\",\"2024-03-06 09:35:03-03\").as(\"21771\").\n",
    "addV(\"Payment\").property(id,22447).property(\"card_number\",\"111.000.002.322\").property(\"amount\",280).property(\"payment_at\",\"2024-03-06 09:42:43-03\").as(\"22447\").\n",
    "addV(\"Payment\").property(id,22700).property(\"card_number\",\"111.000.001.987\").property(\"amount\",710).property(\"payment_at\",\"2024-03-06 09:44:46-03\").as(\"22700\").\n",
    "addV(\"Payment\").property(id,22116).property(\"card_number\",\"111.000.002.207\").property(\"amount\",244).property(\"payment_at\",\"2024-03-06 09:46:27-03\").as(\"22116\").\n",
    "addV(\"Payment\").property(id,22982).property(\"card_number\",\"111.000.001.421\").property(\"amount\",115).property(\"payment_at\",\"2024-03-06 09:48:08-03\").as(\"22982\").\n",
    "addV(\"Payment\").property(id,22193).property(\"card_number\",\"111.000.002.437\").property(\"amount\",379).property(\"payment_at\",\"2024-03-06 09:55:09-03\").as(\"22193\").\n",
    "addV(\"Payment\").property(id,22117).property(\"card_number\",\"111.000.002.207\").property(\"amount\",407).property(\"payment_at\",\"2024-03-06 09:55:12-03\").as(\"22117\").\n",
    "addV(\"Payment\").property(id,21990).property(\"card_number\",\"111.000.001.107\").property(\"amount\",120).property(\"payment_at\",\"2024-03-06 09:59:41-03\").as(\"21990\").\n",
    "addV(\"Payment\").property(id,21992).property(\"card_number\",\"111.000.001.107\").property(\"amount\",109).property(\"payment_at\",\"2024-03-06 15:15:50-03\").as(\"21992\").\n",
    "addV(\"Payment\").property(id,21991).property(\"card_number\",\"111.000.001.107\").property(\"amount\",636).property(\"payment_at\",\"2024-03-06 15:51:36-03\").as(\"21991\").\n",
    "addV(\"Payment\").property(id,22701).property(\"card_number\",\"111.000.001.987\").property(\"amount\",540).property(\"payment_at\",\"2024-03-06 15:56:54-03\").as(\"22701\").\n",
    "addV(\"Payment\").property(id,22983).property(\"card_number\",\"111.000.001.421\").property(\"amount\",230).property(\"payment_at\",\"2024-03-06 16:26:57-03\").as(\"22983\").\n",
    "addV(\"Payment\").property(id,22063).property(\"card_number\",\"111.000.000.427\").property(\"amount\",616).property(\"payment_at\",\"2024-03-06 16:28:27-03\").as(\"22063\").\n",
    "addV(\"Payment\").property(id,22062).property(\"card_number\",\"111.000.000.427\").property(\"amount\",119).property(\"payment_at\",\"2024-03-06 16:43:43-03\").as(\"22062\").\n",
    "addV(\"Payment\").property(id,22194).property(\"card_number\",\"111.000.002.437\").property(\"amount\",565).property(\"payment_at\",\"2024-03-06 17:26:56-03\").as(\"22194\").\n",
    "addV(\"Payment\").property(id,22195).property(\"card_number\",\"111.000.002.437\").property(\"amount\",437).property(\"payment_at\",\"2024-03-06 17:49:39-03\").as(\"22195\").\n",
    "addV(\"Payment\").property(id,22118).property(\"card_number\",\"111.000.002.207\").property(\"amount\",221).property(\"payment_at\",\"2024-03-06 18:50:35-03\").as(\"22118\").\n",
    "addV(\"Payment\").property(id,22813).property(\"card_number\",\"111.000.001.071\").property(\"amount\",793).property(\"payment_at\",\"2024-03-06 19:15:19-03\").as(\"22813\").\n",
    "addV(\"Payment\").property(id,22812).property(\"card_number\",\"111.000.001.071\").property(\"amount\",215).property(\"payment_at\",\"2024-03-06 19:55:03-03\").as(\"22812\").\n",
    "addV(\"Payment\").property(id,21839).property(\"card_number\",\"111.000.001.372\").property(\"amount\",123).property(\"payment_at\",\"2024-03-06 20:43:46-03\").as(\"21839\").\n",
    "addV(\"Payment\").property(id,22702).property(\"card_number\",\"111.000.001.987\").property(\"amount\",263).property(\"payment_at\",\"2024-03-06 21:25:20-03\").as(\"22702\").\n",
    "addV(\"Payment\").property(id,22065).property(\"card_number\",\"111.000.000.427\").property(\"amount\",440).property(\"payment_at\",\"2024-03-06 23:20:45-03\").as(\"22065\").\n",
    "addV(\"Payment\").property(id,22984).property(\"card_number\",\"111.000.001.421\").property(\"amount\",649).property(\"payment_at\",\"2024-03-06 23:33:35-03\").as(\"22984\").\n",
    "addV(\"Payment\").property(id,22064).property(\"card_number\",\"111.000.000.427\").property(\"amount\",704).property(\"payment_at\",\"2024-03-06 23:34:33-03\").as(\"22064\").\n",
    "addV(\"Payment\").property(id,21772).property(\"card_number\",\"111.000.002.243\").property(\"amount\",453).property(\"payment_at\",\"2024-03-07 00:21:13-03\").as(\"21772\").\n",
    "addV(\"Payment\").property(id,21773).property(\"card_number\",\"111.000.002.243\").property(\"amount\",605).property(\"payment_at\",\"2024-03-07 00:25:01-03\").as(\"21773\").\n",
    "addV(\"Payment\").property(id,22615).property(\"card_number\",\"111.000.000.400\").property(\"amount\",302).property(\"payment_at\",\"2024-03-07 00:30:47-03\").as(\"22615\").\n",
    "addV(\"Payment\").property(id,22310).property(\"card_number\",\"111.000.001.125\").property(\"amount\",94).property(\"payment_at\",\"2024-03-07 01:20:34-03\").as(\"22310\").\n",
    "addV(\"Payment\").property(id,22196).property(\"card_number\",\"111.000.002.437\").property(\"amount\",271).property(\"payment_at\",\"2024-03-07 01:28:41-03\").as(\"22196\").\n",
    "addV(\"Payment\").property(id,22311).property(\"card_number\",\"111.000.001.125\").property(\"amount\",232).property(\"payment_at\",\"2024-03-07 01:59:37-03\").as(\"22311\").\n",
    "addV(\"Payment\").property(id,22704).property(\"card_number\",\"111.000.001.987\").property(\"amount\",133).property(\"payment_at\",\"2024-03-07 03:16:47-03\").as(\"22704\").\n",
    "addV(\"Payment\").property(id,22703).property(\"card_number\",\"111.000.001.987\").property(\"amount\",142).property(\"payment_at\",\"2024-03-07 03:19:48-03\").as(\"22703\").\n",
    "addV(\"Payment\").property(id,22120).property(\"card_number\",\"111.000.002.207\").property(\"amount\",408).property(\"payment_at\",\"2024-03-07 03:20:39-03\").as(\"22120\").\n",
    "addV(\"Payment\").property(id,22119).property(\"card_number\",\"111.000.002.207\").property(\"amount\",137).property(\"payment_at\",\"2024-03-07 03:59:34-03\").as(\"22119\").\n",
    "addV(\"Payment\").property(id,22814).property(\"card_number\",\"111.000.001.071\").property(\"amount\",58).property(\"payment_at\",\"2024-03-07 05:16:11-03\").as(\"22814\").\n",
    "addV(\"Payment\").property(id,23043).property(\"card_number\",\"111.000.001.161\").property(\"amount\",128).property(\"payment_at\",\"2024-03-07 05:17:09-03\").as(\"23043\").\n",
    "addV(\"Payment\").property(id,23042).property(\"card_number\",\"111.000.001.161\").property(\"amount\",663).property(\"payment_at\",\"2024-03-07 05:29:08-03\").as(\"23042\").\n",
    "addV(\"Payment\").property(id,22985).property(\"card_number\",\"111.000.001.421\").property(\"amount\",92).property(\"payment_at\",\"2024-03-07 06:36:04-03\").as(\"22985\").\n",
    "addV(\"Payment\").property(id,22066).property(\"card_number\",\"111.000.000.427\").property(\"amount\",262).property(\"payment_at\",\"2024-03-07 06:55:00-03\").as(\"22066\").\n",
    "addV(\"Payment\").property(id,23123).property(\"card_number\",\"111.000.000.324\").property(\"amount\",267).property(\"payment_at\",\"2024-03-07 09:18:39-03\").as(\"23123\").\n",
    "addV(\"Payment\").property(id,22449).property(\"card_number\",\"111.000.002.322\").property(\"amount\",119).property(\"payment_at\",\"2024-03-07 09:21:46-03\").as(\"22449\").\n",
    "addV(\"Payment\").property(id,22536).property(\"card_number\",\"111.000.000.583\").property(\"amount\",636).property(\"payment_at\",\"2024-03-07 09:24:47-03\").as(\"22536\").\n",
    "addV(\"Payment\").property(id,22197).property(\"card_number\",\"111.000.002.437\").property(\"amount\",281).property(\"payment_at\",\"2024-03-07 09:27:32-03\").as(\"22197\").\n",
    "addV(\"Payment\").property(id,22780).property(\"card_number\",\"111.000.001.819\").property(\"amount\",787).property(\"payment_at\",\"2024-03-07 09:28:09-03\").as(\"22780\").\n",
    "addV(\"Payment\").property(id,22617).property(\"card_number\",\"111.000.000.400\").property(\"amount\",239).property(\"payment_at\",\"2024-03-07 09:32:22-03\").as(\"22617\").\n",
    "addV(\"Payment\").property(id,22121).property(\"card_number\",\"111.000.002.207\").property(\"amount\",441).property(\"payment_at\",\"2024-03-07 09:34:34-03\").as(\"22121\").\n",
    "addV(\"Payment\").property(id,22270).property(\"card_number\",\"111.000.001.574\").property(\"amount\",250).property(\"payment_at\",\"2024-03-07 09:36:32-03\").as(\"22270\").\n",
    "addV(\"Payment\").property(id,22122).property(\"card_number\",\"111.000.002.207\").property(\"amount\",685).property(\"payment_at\",\"2024-03-07 09:36:54-03\").as(\"22122\").\n",
    "addV(\"Payment\").property(id,22616).property(\"card_number\",\"111.000.000.400\").property(\"amount\",58).property(\"payment_at\",\"2024-03-07 09:38:26-03\").as(\"22616\").\n",
    "addV(\"Payment\").property(id,21921).property(\"card_number\",\"111.000.000.874\").property(\"amount\",58).property(\"payment_at\",\"2024-03-07 09:39:13-03\").as(\"21921\").\n",
    "addV(\"Payment\").property(id,21694).property(\"card_number\",\"111.000.000.946\").property(\"amount\",126).property(\"payment_at\",\"2024-03-07 09:40:21-03\").as(\"21694\").\n",
    "addV(\"Payment\").property(id,22916).property(\"card_number\",\"111.000.000.666\").property(\"amount\",408).property(\"payment_at\",\"2024-03-07 09:43:11-03\").as(\"22916\").\n",
    "addV(\"Payment\").property(id,22312).property(\"card_number\",\"111.000.001.125\").property(\"amount\",138).property(\"payment_at\",\"2024-03-07 09:47:56-03\").as(\"22312\").\n",
    "addV(\"Payment\").property(id,22448).property(\"card_number\",\"111.000.002.322\").property(\"amount\",60).property(\"payment_at\",\"2024-03-07 09:49:54-03\").as(\"22448\").\n",
    "addV(\"Payment\").property(id,23045).property(\"card_number\",\"111.000.001.161\").property(\"amount\",813).property(\"payment_at\",\"2024-03-07 09:52:38-03\").as(\"23045\").\n",
    "addV(\"Payment\").property(id,23124).property(\"card_number\",\"111.000.000.324\").property(\"amount\",143).property(\"payment_at\",\"2024-03-07 09:53:48-03\").as(\"23124\").\n",
    "addV(\"Payment\").property(id,23044).property(\"card_number\",\"111.000.001.161\").property(\"amount\",267).property(\"payment_at\",\"2024-03-07 09:54:23-03\").as(\"23044\").\n",
    "addV(\"Payment\").property(id,21920).property(\"card_number\",\"111.000.000.874\").property(\"amount\",90).property(\"payment_at\",\"2024-03-07 09:54:26-03\").as(\"21920\").\n",
    "addV(\"Payment\").property(id,22884).property(\"card_number\",\"111.000.001.360\").property(\"amount\",438).property(\"payment_at\",\"2024-03-07 09:56:30-03\").as(\"22884\").\n",
    "addV(\"Payment\").property(id,22537).property(\"card_number\",\"111.000.000.583\").property(\"amount\",248).property(\"payment_at\",\"2024-03-07 09:58:02-03\").as(\"22537\").\n",
    "addV(\"Payment\").property(id,22406).property(\"card_number\",\"111.000.002.409\").property(\"amount\",109).property(\"payment_at\",\"2024-03-07 09:58:51-03\").as(\"22406\").\n",
    "addV(\"Payment\").property(id,22918).property(\"card_number\",\"111.000.000.666\").property(\"amount\",545).property(\"payment_at\",\"2024-03-07 15:16:09-03\").as(\"22918\").\n",
    "addV(\"Payment\").property(id,22917).property(\"card_number\",\"111.000.000.666\").property(\"amount\",141).property(\"payment_at\",\"2024-03-07 15:20:18-03\").as(\"22917\").\n",
    "addV(\"Payment\").property(id,22886).property(\"card_number\",\"111.000.001.360\").property(\"amount\",215).property(\"payment_at\",\"2024-03-07 15:31:50-03\").as(\"22886\").\n",
    "addV(\"Payment\").property(id,22450).property(\"card_number\",\"111.000.002.322\").property(\"amount\",214).property(\"payment_at\",\"2024-03-07 15:35:19-03\").as(\"22450\").\n",
    "addV(\"Payment\").property(id,22885).property(\"card_number\",\"111.000.001.360\").property(\"amount\",69).property(\"payment_at\",\"2024-03-07 15:58:10-03\").as(\"22885\").\n",
    "addV(\"Payment\").property(id,23047).property(\"card_number\",\"111.000.001.161\").property(\"amount\",53).property(\"payment_at\",\"2024-03-07 17:21:47-03\").as(\"23047\").\n",
    "addV(\"Payment\").property(id,21775).property(\"card_number\",\"111.000.002.243\").property(\"amount\",445).property(\"payment_at\",\"2024-03-07 17:49:11-03\").as(\"21775\").\n",
    "addV(\"Payment\").property(id,23046).property(\"card_number\",\"111.000.001.161\").property(\"amount\",769).property(\"payment_at\",\"2024-03-07 17:56:50-03\").as(\"23046\").\n",
    "addV(\"Payment\").property(id,21774).property(\"card_number\",\"111.000.002.243\").property(\"amount\",764).property(\"payment_at\",\"2024-03-07 17:59:57-03\").as(\"21774\").\n",
    "addV(\"Payment\").property(id,22816).property(\"card_number\",\"111.000.001.071\").property(\"amount\",114).property(\"payment_at\",\"2024-03-07 18:17:42-03\").as(\"22816\").\n",
    "addV(\"Payment\").property(id,22198).property(\"card_number\",\"111.000.002.437\").property(\"amount\",97).property(\"payment_at\",\"2024-03-07 18:32:46-03\").as(\"22198\").\n",
    "addV(\"Payment\").property(id,22815).property(\"card_number\",\"111.000.001.071\").property(\"amount\",143).property(\"payment_at\",\"2024-03-07 18:35:31-03\").as(\"22815\").\n",
    "addV(\"Payment\").property(id,21993).property(\"card_number\",\"111.000.001.107\").property(\"amount\",149).property(\"payment_at\",\"2024-03-07 19:26:31-03\").as(\"21993\").\n",
    "addV(\"Payment\").property(id,22538).property(\"card_number\",\"111.000.000.583\").property(\"amount\",132).property(\"payment_at\",\"2024-03-07 20:58:28-03\").as(\"22538\").\n",
    "addV(\"Payment\").property(id,22888).property(\"card_number\",\"111.000.001.360\").property(\"amount\",720).property(\"payment_at\",\"2024-03-07 21:26:46-03\").as(\"22888\").\n",
    "addV(\"Payment\").property(id,21728).property(\"card_number\",\"111.000.002.153\").property(\"amount\",110).property(\"payment_at\",\"2024-03-07 21:27:10-03\").as(\"21728\").\n",
    "addV(\"Payment\").property(id,22919).property(\"card_number\",\"111.000.000.666\").property(\"amount\",50).property(\"payment_at\",\"2024-03-07 21:37:47-03\").as(\"22919\").\n",
    "addV(\"Payment\").property(id,22408).property(\"card_number\",\"111.000.002.409\").property(\"amount\",272).property(\"payment_at\",\"2024-03-07 21:41:20-03\").as(\"22408\").\n",
    "addV(\"Payment\").property(id,22451).property(\"card_number\",\"111.000.002.322\").property(\"amount\",292).property(\"payment_at\",\"2024-03-07 21:47:30-03\").as(\"22451\").\n",
    "addV(\"Payment\").property(id,22887).property(\"card_number\",\"111.000.001.360\").property(\"amount\",396).property(\"payment_at\",\"2024-03-07 21:51:14-03\").as(\"22887\").\n",
    "addV(\"Payment\").property(id,22407).property(\"card_number\",\"111.000.002.409\").property(\"amount\",278).property(\"payment_at\",\"2024-03-07 21:56:17-03\").as(\"22407\").\n",
    "addV(\"Payment\").property(id,22920).property(\"card_number\",\"111.000.000.666\").property(\"amount\",128).property(\"payment_at\",\"2024-03-07 21:57:42-03\").as(\"22920\").\n",
    "addV(\"Payment\").property(id,21840).property(\"card_number\",\"111.000.001.372\").property(\"amount\",42).property(\"payment_at\",\"2024-03-07 23:15:24-03\").as(\"21840\").\n",
    "addV(\"Payment\").property(id,22123).property(\"card_number\",\"111.000.002.207\").property(\"amount\",106).property(\"payment_at\",\"2024-03-07 23:15:43-03\").as(\"22123\").\n",
    "addV(\"Payment\").property(id,21841).property(\"card_number\",\"111.000.001.372\").property(\"amount\",103).property(\"payment_at\",\"2024-03-07 23:18:55-03\").as(\"21841\").\n",
    "addV(\"Payment\").property(id,21923).property(\"card_number\",\"111.000.000.874\").property(\"amount\",109).property(\"payment_at\",\"2024-03-07 23:23:00-03\").as(\"21923\").\n",
    "addV(\"Payment\").property(id,22782).property(\"card_number\",\"111.000.001.819\").property(\"amount\",141).property(\"payment_at\",\"2024-03-07 23:25:21-03\").as(\"22782\").\n",
    "addV(\"Payment\").property(id,22619).property(\"card_number\",\"111.000.000.400\").property(\"amount\",414).property(\"payment_at\",\"2024-03-07 23:28:29-03\").as(\"22619\").\n",
    "addV(\"Payment\").property(id,22781).property(\"card_number\",\"111.000.001.819\").property(\"amount\",463).property(\"payment_at\",\"2024-03-07 23:43:59-03\").as(\"22781\").\n",
    "addV(\"Payment\").property(id,22618).property(\"card_number\",\"111.000.000.400\").property(\"amount\",271).property(\"payment_at\",\"2024-03-07 23:57:19-03\").as(\"22618\").\n",
    "addV(\"Payment\").property(id,21922).property(\"card_number\",\"111.000.000.874\").property(\"amount\",125).property(\"payment_at\",\"2024-03-07 23:59:32-03\").as(\"21922\").\n",
    "addV(\"Payment\").property(id,23015).property(\"card_number\",\"111.000.000.582\").property(\"amount\",269).property(\"payment_at\",\"2024-03-08 01:16:36-03\").as(\"23015\").\n",
    "addV(\"Payment\").property(id,21695).property(\"card_number\",\"111.000.000.946\").property(\"amount\",92).property(\"payment_at\",\"2024-03-08 01:17:09-03\").as(\"21695\").\n",
    "addV(\"Payment\").property(id,22955).property(\"card_number\",\"111.000.000.911\").property(\"amount\",431).property(\"payment_at\",\"2024-03-08 01:20:39-03\").as(\"22955\").\n",
    "addV(\"Payment\").property(id,23125).property(\"card_number\",\"111.000.000.324\").property(\"amount\",261).property(\"payment_at\",\"2024-03-08 01:25:35-03\").as(\"23125\").\n",
    "addV(\"Payment\").property(id,21696).property(\"card_number\",\"111.000.000.946\").property(\"amount\",124).property(\"payment_at\",\"2024-03-08 01:28:10-03\").as(\"21696\").\n",
    "addV(\"Payment\").property(id,23014).property(\"card_number\",\"111.000.000.582\").property(\"amount\",69).property(\"payment_at\",\"2024-03-08 01:28:56-03\").as(\"23014\").\n",
    "addV(\"Payment\").property(id,21776).property(\"card_number\",\"111.000.002.243\").property(\"amount\",140).property(\"payment_at\",\"2024-03-08 01:43:53-03\").as(\"21776\").\n",
    "addV(\"Payment\").property(id,21777).property(\"card_number\",\"111.000.002.243\").property(\"amount\",116).property(\"payment_at\",\"2024-03-08 01:48:11-03\").as(\"21777\").\n",
    "addV(\"Payment\").property(id,22313).property(\"card_number\",\"111.000.001.125\").property(\"amount\",43).property(\"payment_at\",\"2024-03-08 01:52:13-03\").as(\"22313\").\n",
    "addV(\"Payment\").property(id,22083).property(\"card_number\",\"111.000.000.646\").property(\"amount\",104).property(\"payment_at\",\"2024-03-08 02:51:24-03\").as(\"22083\").\n",
    "addV(\"Payment\").property(id,22084).property(\"card_number\",\"111.000.000.646\").property(\"amount\",621).property(\"payment_at\",\"2024-03-08 02:59:22-03\").as(\"22084\").\n",
    "addV(\"Payment\").property(id,22199).property(\"card_number\",\"111.000.002.437\").property(\"amount\",213).property(\"payment_at\",\"2024-03-08 03:16:12-03\").as(\"22199\").\n",
    "addV(\"Payment\").property(id,22921).property(\"card_number\",\"111.000.000.666\").property(\"amount\",400).property(\"payment_at\",\"2024-03-08 03:39:06-03\").as(\"22921\").\n",
    "addV(\"Payment\").property(id,22271).property(\"card_number\",\"111.000.001.574\").property(\"amount\",435).property(\"payment_at\",\"2024-03-08 03:42:09-03\").as(\"22271\").\n",
    "addV(\"Payment\").property(id,22889).property(\"card_number\",\"111.000.001.360\").property(\"amount\",264).property(\"payment_at\",\"2024-03-08 03:43:13-03\").as(\"22889\").\n",
    "addV(\"Payment\").property(id,22922).property(\"card_number\",\"111.000.000.666\").property(\"amount\",133).property(\"payment_at\",\"2024-03-08 03:45:50-03\").as(\"22922\").\n",
    "addV(\"Payment\").property(id,21995).property(\"card_number\",\"111.000.001.107\").property(\"amount\",424).property(\"payment_at\",\"2024-03-08 05:26:09-03\").as(\"21995\").\n",
    "addV(\"Payment\").property(id,21994).property(\"card_number\",\"111.000.001.107\").property(\"amount\",472).property(\"payment_at\",\"2024-03-08 05:42:30-03\").as(\"21994\").\n",
    "addV(\"Payment\").property(id,22539).property(\"card_number\",\"111.000.000.583\").property(\"amount\",105).property(\"payment_at\",\"2024-03-08 07:50:05-03\").as(\"22539\").\n",
    "addV(\"Payment\").property(id,23048).property(\"card_number\",\"111.000.001.161\").property(\"amount\",299).property(\"payment_at\",\"2024-03-08 09:21:26-03\").as(\"23048\").\n",
    "addV(\"Payment\").property(id,21778).property(\"card_number\",\"111.000.002.243\").property(\"amount\",504).property(\"payment_at\",\"2024-03-08 09:21:36-03\").as(\"21778\").\n",
    "addV(\"Payment\").property(id,21842).property(\"card_number\",\"111.000.001.372\").property(\"amount\",52).property(\"payment_at\",\"2024-03-08 09:29:20-03\").as(\"21842\").\n",
    "addV(\"Payment\").property(id,22452).property(\"card_number\",\"111.000.002.322\").property(\"amount\",125).property(\"payment_at\",\"2024-03-08 09:30:09-03\").as(\"22452\").\n",
    "addV(\"Payment\").property(id,22817).property(\"card_number\",\"111.000.001.071\").property(\"amount\",226).property(\"payment_at\",\"2024-03-08 09:32:58-03\").as(\"22817\").\n",
    "addV(\"Payment\").property(id,22620).property(\"card_number\",\"111.000.000.400\").property(\"amount\",305).property(\"payment_at\",\"2024-03-08 09:35:16-03\").as(\"22620\").\n",
    "addV(\"Payment\").property(id,23001).property(\"card_number\",\"111.000.002.247\").property(\"amount\",147).property(\"payment_at\",\"2024-03-08 09:35:31-03\").as(\"23001\").\n",
    "addV(\"Payment\").property(id,22314).property(\"card_number\",\"111.000.001.125\").property(\"amount\",296).property(\"payment_at\",\"2024-03-08 09:43:33-03\").as(\"22314\").\n",
    "addV(\"Payment\").property(id,22453).property(\"card_number\",\"111.000.002.322\").property(\"amount\",229).property(\"payment_at\",\"2024-03-08 09:45:10-03\").as(\"22453\").\n",
    "addV(\"Payment\").property(id,22540).property(\"card_number\",\"111.000.000.583\").property(\"amount\",137).property(\"payment_at\",\"2024-03-08 09:46:46-03\").as(\"22540\").\n",
    "addV(\"Payment\").property(id,22200).property(\"card_number\",\"111.000.002.437\").property(\"amount\",265).property(\"payment_at\",\"2024-03-08 09:48:26-03\").as(\"22200\").\n",
    "addV(\"Payment\").property(id,22818).property(\"card_number\",\"111.000.001.071\").property(\"amount\",52).property(\"payment_at\",\"2024-03-08 09:52:23-03\").as(\"22818\").\n",
    "addV(\"Payment\").property(id,22201).property(\"card_number\",\"111.000.002.437\").property(\"amount\",110).property(\"payment_at\",\"2024-03-08 09:54:21-03\").as(\"22201\").\n",
    "addV(\"Payment\").property(id,22705).property(\"card_number\",\"111.000.001.987\").property(\"amount\",265).property(\"payment_at\",\"2024-03-08 09:57:22-03\").as(\"22705\").\n",
    "addV(\"Payment\").property(id,23049).property(\"card_number\",\"111.000.001.161\").property(\"amount\",157).property(\"payment_at\",\"2024-03-08 16:45:53-03\").as(\"23049\").\n",
    "addV(\"Payment\").property(id,23050).property(\"card_number\",\"111.000.001.161\").property(\"amount\",113).property(\"payment_at\",\"2024-03-08 16:51:26-03\").as(\"23050\").\n",
    "addV(\"Payment\").property(id,22203).property(\"card_number\",\"111.000.002.437\").property(\"amount\",408).property(\"payment_at\",\"2024-03-08 18:15:17-03\").as(\"22203\").\n",
    "addV(\"Payment\").property(id,22202).property(\"card_number\",\"111.000.002.437\").property(\"amount\",140).property(\"payment_at\",\"2024-03-08 18:24:25-03\").as(\"22202\").\n",
    "addV(\"Payment\").property(id,22820).property(\"card_number\",\"111.000.001.071\").property(\"amount\",51).property(\"payment_at\",\"2024-03-08 19:20:02-03\").as(\"22820\").\n",
    "addV(\"Payment\").property(id,22819).property(\"card_number\",\"111.000.001.071\").property(\"amount\",128).property(\"payment_at\",\"2024-03-08 19:22:50-03\").as(\"22819\").\n",
    "addV(\"Payment\").property(id,23003).property(\"card_number\",\"111.000.002.247\").property(\"amount\",95).property(\"payment_at\",\"2024-03-08 19:33:33-03\").as(\"23003\").\n",
    "addV(\"Payment\").property(id,22707).property(\"card_number\",\"111.000.001.987\").property(\"amount\",687).property(\"payment_at\",\"2024-03-08 19:40:09-03\").as(\"22707\").\n",
    "addV(\"Payment\").property(id,22706).property(\"card_number\",\"111.000.001.987\").property(\"amount\",460).property(\"payment_at\",\"2024-03-08 19:50:54-03\").as(\"22706\").\n",
    "addV(\"Payment\").property(id,23002).property(\"card_number\",\"111.000.002.247\").property(\"amount\",216).property(\"payment_at\",\"2024-03-08 19:51:43-03\").as(\"23002\").\n",
    "addV(\"Payment\").property(id,21679).property(\"card_number\",\"111.000.001.416\").property(\"amount\",664).property(\"payment_at\",\"2024-03-08 23:23:49-03\").as(\"21679\")"
   ]
  },
  {
   "cell_type": "code",
   "execution_count": 36,
   "id": "45dd29a0-ee8f-4980-94bc-137b0365da32",
   "metadata": {
    "tags": []
   },
   "outputs": [
    {
     "data": {
      "application/vnd.jupyter.widget-view+json": {
       "model_id": "f781345b12af47d78a8fa19764b544be",
       "version_major": 2,
       "version_minor": 0
      },
      "text/plain": [
       "Tab(children=(Output(layout=Layout(max_height='600px', max_width='940px', overflow='scroll')), Output(layout=L…"
      ]
     },
     "metadata": {},
     "output_type": "display_data"
    }
   ],
   "source": [
    "%%gremlin\n",
    "g.addV(\"Payment\").property(id,21678).property(\"card_number\",\"111.000.001.416\").property(\"amount\",105).property(\"payment_at\",\"2024-03-08 23:35:52-03\").as(\"21678\").\n",
    "addV(\"Payment\").property(id,23051).property(\"card_number\",\"111.000.001.161\").property(\"amount\",703).property(\"payment_at\",\"2024-03-08 23:56:08-03\").as(\"23051\").\n",
    "addV(\"Payment\").property(id,22621).property(\"card_number\",\"111.000.000.400\").property(\"amount\",235).property(\"payment_at\",\"2024-03-08 23:59:53-03\").as(\"22621\").\n",
    "addV(\"Payment\").property(id,21779).property(\"card_number\",\"111.000.002.243\").property(\"amount\",216).property(\"payment_at\",\"2024-03-09 00:44:03-03\").as(\"21779\").\n",
    "addV(\"Payment\").property(id,21780).property(\"card_number\",\"111.000.002.243\").property(\"amount\",183).property(\"payment_at\",\"2024-03-09 00:51:34-03\").as(\"21780\").\n",
    "addV(\"Payment\").property(id,21844).property(\"card_number\",\"111.000.001.372\").property(\"amount\",118).property(\"payment_at\",\"2024-03-09 02:35:56-03\").as(\"21844\").\n",
    "addV(\"Payment\").property(id,22454).property(\"card_number\",\"111.000.002.322\").property(\"amount\",120).property(\"payment_at\",\"2024-03-09 02:38:07-03\").as(\"22454\").\n",
    "addV(\"Payment\").property(id,21843).property(\"card_number\",\"111.000.001.372\").property(\"amount\",117).property(\"payment_at\",\"2024-03-09 02:57:12-03\").as(\"21843\").\n",
    "addV(\"Payment\").property(id,22204).property(\"card_number\",\"111.000.002.437\").property(\"amount\",721).property(\"payment_at\",\"2024-03-09 03:27:41-03\").as(\"22204\").\n",
    "addV(\"Payment\").property(id,21996).property(\"card_number\",\"111.000.001.107\").property(\"amount\",279).property(\"payment_at\",\"2024-03-09 05:18:43-03\").as(\"21996\").\n",
    "addV(\"Payment\").property(id,22941).property(\"card_number\",\"111.000.000.361\").property(\"amount\",127).property(\"payment_at\",\"2024-03-09 05:18:57-03\").as(\"22941\").\n",
    "addV(\"Payment\").property(id,22708).property(\"card_number\",\"111.000.001.987\").property(\"amount\",440).property(\"payment_at\",\"2024-03-09 05:27:10-03\").as(\"22708\").\n",
    "addV(\"Payment\").property(id,22940).property(\"card_number\",\"111.000.000.361\").property(\"amount\",426).property(\"payment_at\",\"2024-03-09 05:35:28-03\").as(\"22940\").\n",
    "addV(\"Payment\").property(id,23004).property(\"card_number\",\"111.000.002.247\").property(\"amount\",231).property(\"payment_at\",\"2024-03-09 05:50:28-03\").as(\"23004\").\n",
    "addV(\"Payment\").property(id,21997).property(\"card_number\",\"111.000.001.107\").property(\"amount\",783).property(\"payment_at\",\"2024-03-09 05:52:59-03\").as(\"21997\").\n",
    "addV(\"Payment\").property(id,23245).property(\"card_number\",\"111.000.000.017\").property(\"amount\",405).property(\"payment_at\",\"2024-03-09 09:02:05-03\").as(\"23245\").\n",
    "addV(\"Payment\").property(id,23272).property(\"card_number\",\"111.000.001.359\").property(\"amount\",144).property(\"payment_at\",\"2024-03-09 09:02:31-03\").as(\"23272\").\n",
    "addV(\"Payment\").property(id,23273).property(\"card_number\",\"111.000.001.359\").property(\"amount\",780).property(\"payment_at\",\"2024-03-09 09:03:56-03\").as(\"23273\").\n",
    "addV(\"Payment\").property(id,22315).property(\"card_number\",\"111.000.001.125\").property(\"amount\",465).property(\"payment_at\",\"2024-03-09 09:15:11-03\").as(\"22315\").\n",
    "addV(\"Payment\").property(id,23127).property(\"card_number\",\"111.000.000.324\").property(\"amount\",35).property(\"payment_at\",\"2024-03-09 09:17:43-03\").as(\"23127\").\n",
    "addV(\"Payment\").property(id,22316).property(\"card_number\",\"111.000.001.125\").property(\"amount\",270).property(\"payment_at\",\"2024-03-09 09:18:07-03\").as(\"22316\").\n",
    "addV(\"Payment\").property(id,21781).property(\"card_number\",\"111.000.002.243\").property(\"amount\",100).property(\"payment_at\",\"2024-03-09 09:18:52-03\").as(\"21781\").\n",
    "addV(\"Payment\").property(id,22124).property(\"card_number\",\"111.000.002.207\").property(\"amount\",228).property(\"payment_at\",\"2024-03-09 09:18:54-03\").as(\"22124\").\n",
    "addV(\"Payment\").property(id,22542).property(\"card_number\",\"111.000.000.583\").property(\"amount\",256).property(\"payment_at\",\"2024-03-09 09:19:45-03\").as(\"22542\").\n",
    "addV(\"Payment\").property(id,22125).property(\"card_number\",\"111.000.002.207\").property(\"amount\",249).property(\"payment_at\",\"2024-03-09 09:20:56-03\").as(\"22125\").\n",
    "addV(\"Payment\").property(id,21999).property(\"card_number\",\"111.000.001.107\").property(\"amount\",398).property(\"payment_at\",\"2024-03-09 09:22:58-03\").as(\"21999\").\n",
    "addV(\"Payment\").property(id,22378).property(\"card_number\",\"111.000.000.024\").property(\"amount\",442).property(\"payment_at\",\"2024-03-09 09:24:35-03\").as(\"22378\").\n",
    "addV(\"Payment\").property(id,23053).property(\"card_number\",\"111.000.001.161\").property(\"amount\",243).property(\"payment_at\",\"2024-03-09 09:28:41-03\").as(\"23053\").\n",
    "addV(\"Payment\").property(id,21959).property(\"card_number\",\"111.000.002.292\").property(\"amount\",253).property(\"payment_at\",\"2024-03-09 09:30:05-03\").as(\"21959\").\n",
    "addV(\"Payment\").property(id,21960).property(\"card_number\",\"111.000.002.292\").property(\"amount\",121).property(\"payment_at\",\"2024-03-09 09:31:43-03\").as(\"21960\").\n",
    "addV(\"Payment\").property(id,22710).property(\"card_number\",\"111.000.001.987\").property(\"amount\",752).property(\"payment_at\",\"2024-03-09 09:35:51-03\").as(\"22710\").\n",
    "addV(\"Payment\").property(id,22622).property(\"card_number\",\"111.000.000.400\").property(\"amount\",247).property(\"payment_at\",\"2024-03-09 09:36:09-03\").as(\"22622\").\n",
    "addV(\"Payment\").property(id,22623).property(\"card_number\",\"111.000.000.400\").property(\"amount\",106).property(\"payment_at\",\"2024-03-09 09:36:40-03\").as(\"22623\").\n",
    "addV(\"Payment\").property(id,21998).property(\"card_number\",\"111.000.001.107\").property(\"amount\",422).property(\"payment_at\",\"2024-03-09 09:40:30-03\").as(\"21998\").\n",
    "addV(\"Payment\").property(id,22205).property(\"card_number\",\"111.000.002.437\").property(\"amount\",272).property(\"payment_at\",\"2024-03-09 09:42:37-03\").as(\"22205\").\n",
    "addV(\"Payment\").property(id,23126).property(\"card_number\",\"111.000.000.324\").property(\"amount\",696).property(\"payment_at\",\"2024-03-09 09:46:26-03\").as(\"23126\").\n",
    "addV(\"Payment\").property(id,22541).property(\"card_number\",\"111.000.000.583\").property(\"amount\",47).property(\"payment_at\",\"2024-03-09 09:47:06-03\").as(\"22541\").\n",
    "addV(\"Payment\").property(id,21782).property(\"card_number\",\"111.000.002.243\").property(\"amount\",61).property(\"payment_at\",\"2024-03-09 09:50:29-03\").as(\"21782\").\n",
    "addV(\"Payment\").property(id,22709).property(\"card_number\",\"111.000.001.987\").property(\"amount\",227).property(\"payment_at\",\"2024-03-09 09:53:07-03\").as(\"22709\").\n",
    "addV(\"Payment\").property(id,23052).property(\"card_number\",\"111.000.001.161\").property(\"amount\",49).property(\"payment_at\",\"2024-03-09 09:55:48-03\").as(\"23052\").\n",
    "addV(\"Payment\").property(id,22711).property(\"card_number\",\"111.000.001.987\").property(\"amount\",132).property(\"payment_at\",\"2024-03-09 15:15:51-03\").as(\"22711\").\n",
    "addV(\"Payment\").property(id,22821).property(\"card_number\",\"111.000.001.071\").property(\"amount\",413).property(\"payment_at\",\"2024-03-09 15:16:50-03\").as(\"22821\").\n",
    "addV(\"Payment\").property(id,22001).property(\"card_number\",\"111.000.001.107\").property(\"amount\",246).property(\"payment_at\",\"2024-03-09 15:20:11-03\").as(\"22001\").\n",
    "addV(\"Payment\").property(id,21845).property(\"card_number\",\"111.000.001.372\").property(\"amount\",387).property(\"payment_at\",\"2024-03-09 15:39:40-03\").as(\"21845\").\n",
    "addV(\"Payment\").property(id,22000).property(\"card_number\",\"111.000.001.107\").property(\"amount\",133).property(\"payment_at\",\"2024-03-09 15:47:05-03\").as(\"22000\").\n",
    "addV(\"Payment\").property(id,22712).property(\"card_number\",\"111.000.001.987\").property(\"amount\",723).property(\"payment_at\",\"2024-03-09 15:50:47-03\").as(\"22712\").\n",
    "addV(\"Payment\").property(id,22624).property(\"card_number\",\"111.000.000.400\").property(\"amount\",130).property(\"payment_at\",\"2024-03-09 17:22:27-03\").as(\"22624\").\n",
    "addV(\"Payment\").property(id,23054).property(\"card_number\",\"111.000.001.161\").property(\"amount\",141).property(\"payment_at\",\"2024-03-09 19:43:47-03\").as(\"23054\").\n",
    "addV(\"Payment\").property(id,22714).property(\"card_number\",\"111.000.001.987\").property(\"amount\",276).property(\"payment_at\",\"2024-03-09 21:17:52-03\").as(\"22714\").\n",
    "addV(\"Payment\").property(id,21924).property(\"card_number\",\"111.000.000.874\").property(\"amount\",429).property(\"payment_at\",\"2024-03-09 21:18:42-03\").as(\"21924\").\n",
    "addV(\"Payment\").property(id,22822).property(\"card_number\",\"111.000.001.071\").property(\"amount\",59).property(\"payment_at\",\"2024-03-09 21:19:29-03\").as(\"22822\").\n",
    "addV(\"Payment\").property(id,21925).property(\"card_number\",\"111.000.000.874\").property(\"amount\",238).property(\"payment_at\",\"2024-03-09 21:31:58-03\").as(\"21925\").\n",
    "addV(\"Payment\").property(id,21783).property(\"card_number\",\"111.000.002.243\").property(\"amount\",269).property(\"payment_at\",\"2024-03-09 21:41:51-03\").as(\"21783\").\n",
    "addV(\"Payment\").property(id,22002).property(\"card_number\",\"111.000.001.107\").property(\"amount\",266).property(\"payment_at\",\"2024-03-09 21:46:18-03\").as(\"22002\").\n",
    "addV(\"Payment\").property(id,22713).property(\"card_number\",\"111.000.001.987\").property(\"amount\",286).property(\"payment_at\",\"2024-03-09 21:46:41-03\").as(\"22713\").\n",
    "addV(\"Payment\").property(id,21846).property(\"card_number\",\"111.000.001.372\").property(\"amount\",114).property(\"payment_at\",\"2024-03-09 21:51:59-03\").as(\"21846\").\n",
    "addV(\"Payment\").property(id,23249).property(\"card_number\",\"111.000.000.017\").property(\"amount\",1287).property(\"payment_at\",\"2024-03-09 22:01:23-03\").as(\"23249\").\n",
    "addV(\"Payment\").property(id,23248).property(\"card_number\",\"111.000.000.017\").property(\"amount\",1401).property(\"payment_at\",\"2024-03-09 22:01:53-03\").as(\"23248\").\n",
    "addV(\"Payment\").property(id,23246).property(\"card_number\",\"111.000.000.017\").property(\"amount\",1413).property(\"payment_at\",\"2024-03-09 22:04:05-03\").as(\"23246\").\n",
    "addV(\"Payment\").property(id,23247).property(\"card_number\",\"111.000.000.017\").property(\"amount\",765).property(\"payment_at\",\"2024-03-09 22:04:38-03\").as(\"23247\").\n",
    "addV(\"Payment\").property(id,23128).property(\"card_number\",\"111.000.000.324\").property(\"amount\",132).property(\"payment_at\",\"2024-03-09 22:29:23-03\").as(\"23128\").\n",
    "addV(\"Payment\").property(id,23129).property(\"card_number\",\"111.000.000.324\").property(\"amount\",706).property(\"payment_at\",\"2024-03-09 22:31:37-03\").as(\"23129\").\n",
    "addV(\"Payment\").property(id,22455).property(\"card_number\",\"111.000.002.322\").property(\"amount\",475).property(\"payment_at\",\"2024-03-09 23:20:31-03\").as(\"22455\").\n",
    "addV(\"Payment\").property(id,22126).property(\"card_number\",\"111.000.002.207\").property(\"amount\",127).property(\"payment_at\",\"2024-03-10 00:53:46-03\").as(\"22126\").\n",
    "addV(\"Payment\").property(id,22625).property(\"card_number\",\"111.000.000.400\").property(\"amount\",292).property(\"payment_at\",\"2024-03-10 01:45:06-03\").as(\"22625\").\n",
    "addV(\"Payment\").property(id,22317).property(\"card_number\",\"111.000.001.125\").property(\"amount\",107).property(\"payment_at\",\"2024-03-10 01:45:21-03\").as(\"22317\").\n",
    "addV(\"Payment\").property(id,22626).property(\"card_number\",\"111.000.000.400\").property(\"amount\",112).property(\"payment_at\",\"2024-03-10 01:45:50-03\").as(\"22626\").\n",
    "addV(\"Payment\").property(id,23276).property(\"card_number\",\"111.000.001.359\").property(\"amount\",663).property(\"payment_at\",\"2024-03-10 03:02:27-03\").as(\"23276\").\n",
    "addV(\"Payment\").property(id,23274).property(\"card_number\",\"111.000.001.359\").property(\"amount\",1305).property(\"payment_at\",\"2024-03-10 03:03:20-03\").as(\"23274\").\n",
    "addV(\"Payment\").property(id,23275).property(\"card_number\",\"111.000.001.359\").property(\"amount\",153).property(\"payment_at\",\"2024-03-10 03:04:17-03\").as(\"23275\").\n",
    "addV(\"Payment\").property(id,21926).property(\"card_number\",\"111.000.000.874\").property(\"amount\",262).property(\"payment_at\",\"2024-03-10 03:23:51-03\").as(\"21926\").\n",
    "addV(\"Payment\").property(id,22716).property(\"card_number\",\"111.000.001.987\").property(\"amount\",55).property(\"payment_at\",\"2024-03-10 03:35:26-03\").as(\"22716\").\n",
    "addV(\"Payment\").property(id,22715).property(\"card_number\",\"111.000.001.987\").property(\"amount\",206).property(\"payment_at\",\"2024-03-10 03:42:38-03\").as(\"22715\").\n",
    "addV(\"Payment\").property(id,21847).property(\"card_number\",\"111.000.001.372\").property(\"amount\",50).property(\"payment_at\",\"2024-03-10 03:56:42-03\").as(\"21847\").\n",
    "addV(\"Payment\").property(id,21927).property(\"card_number\",\"111.000.000.874\").property(\"amount\",113).property(\"payment_at\",\"2024-03-10 03:59:18-03\").as(\"21927\").\n",
    "addV(\"Payment\").property(id,22318).property(\"card_number\",\"111.000.001.125\").property(\"amount\",575).property(\"payment_at\",\"2024-03-10 09:15:35-03\").as(\"22318\").\n",
    "addV(\"Payment\").property(id,22085).property(\"card_number\",\"111.000.000.646\").property(\"amount\",69).property(\"payment_at\",\"2024-03-10 09:16:03-03\").as(\"22085\").\n",
    "addV(\"Payment\").property(id,22628).property(\"card_number\",\"111.000.000.400\").property(\"amount\",236).property(\"payment_at\",\"2024-03-10 09:17:20-03\").as(\"22628\").\n",
    "addV(\"Payment\").property(id,22627).property(\"card_number\",\"111.000.000.400\").property(\"amount\",659).property(\"payment_at\",\"2024-03-10 09:19:50-03\").as(\"22627\").\n",
    "addV(\"Payment\").property(id,22956).property(\"card_number\",\"111.000.000.911\").property(\"amount\",125).property(\"payment_at\",\"2024-03-10 09:25:04-03\").as(\"22956\").\n",
    "addV(\"Payment\").property(id,22319).property(\"card_number\",\"111.000.001.125\").property(\"amount\",106).property(\"payment_at\",\"2024-03-10 09:25:16-03\").as(\"22319\").\n",
    "addV(\"Payment\").property(id,22717).property(\"card_number\",\"111.000.001.987\").property(\"amount\",120).property(\"payment_at\",\"2024-03-10 09:25:36-03\").as(\"22717\").\n",
    "addV(\"Payment\").property(id,21784).property(\"card_number\",\"111.000.002.243\").property(\"amount\",249).property(\"payment_at\",\"2024-03-10 09:26:37-03\").as(\"21784\").\n",
    "addV(\"Payment\").property(id,22128).property(\"card_number\",\"111.000.002.207\").property(\"amount\",197).property(\"payment_at\",\"2024-03-10 09:27:21-03\").as(\"22128\").\n",
    "addV(\"Payment\").property(id,21785).property(\"card_number\",\"111.000.002.243\").property(\"amount\",419).property(\"payment_at\",\"2024-03-10 09:28:18-03\").as(\"21785\").\n",
    "addV(\"Payment\").property(id,22784).property(\"card_number\",\"111.000.001.819\").property(\"amount\",492).property(\"payment_at\",\"2024-03-10 09:30:35-03\").as(\"22784\").\n",
    "addV(\"Payment\").property(id,22783).property(\"card_number\",\"111.000.001.819\").property(\"amount\",425).property(\"payment_at\",\"2024-03-10 09:36:11-03\").as(\"22783\").\n",
    "addV(\"Payment\").property(id,21848).property(\"card_number\",\"111.000.001.372\").property(\"amount\",223).property(\"payment_at\",\"2024-03-10 09:37:29-03\").as(\"21848\").\n",
    "addV(\"Payment\").property(id,22543).property(\"card_number\",\"111.000.000.583\").property(\"amount\",56).property(\"payment_at\",\"2024-03-10 09:39:35-03\").as(\"22543\").\n",
    "addV(\"Payment\").property(id,22206).property(\"card_number\",\"111.000.002.437\").property(\"amount\",451).property(\"payment_at\",\"2024-03-10 09:39:36-03\").as(\"22206\").\n",
    "addV(\"Payment\").property(id,22207).property(\"card_number\",\"111.000.002.437\").property(\"amount\",267).property(\"payment_at\",\"2024-03-10 09:43:21-03\").as(\"22207\").\n",
    "addV(\"Payment\").property(id,22086).property(\"card_number\",\"111.000.000.646\").property(\"amount\",321).property(\"payment_at\",\"2024-03-10 09:45:18-03\").as(\"22086\").\n",
    "addV(\"Payment\").property(id,21697).property(\"card_number\",\"111.000.000.946\").property(\"amount\",116).property(\"payment_at\",\"2024-03-10 09:46:44-03\").as(\"21697\").\n",
    "addV(\"Payment\").property(id,22957).property(\"card_number\",\"111.000.000.911\").property(\"amount\",266).property(\"payment_at\",\"2024-03-10 09:47:23-03\").as(\"22957\").\n",
    "addV(\"Payment\").property(id,22718).property(\"card_number\",\"111.000.001.987\").property(\"amount\",56).property(\"payment_at\",\"2024-03-10 09:48:16-03\").as(\"22718\").\n",
    "addV(\"Payment\").property(id,22003).property(\"card_number\",\"111.000.001.107\").property(\"amount\",126).property(\"payment_at\",\"2024-03-10 09:54:35-03\").as(\"22003\").\n",
    "addV(\"Payment\").property(id,22127).property(\"card_number\",\"111.000.002.207\").property(\"amount\",287).property(\"payment_at\",\"2024-03-10 09:57:52-03\").as(\"22127\").\n",
    "addV(\"Payment\").property(id,22456).property(\"card_number\",\"111.000.002.322\").property(\"amount\",153).property(\"payment_at\",\"2024-03-10 09:58:06-03\").as(\"22456\").\n",
    "addV(\"Payment\").property(id,22272).property(\"card_number\",\"111.000.001.574\").property(\"amount\",104).property(\"payment_at\",\"2024-03-10 15:41:17-03\").as(\"22272\").\n",
    "addV(\"Payment\").property(id,22129).property(\"card_number\",\"111.000.002.207\").property(\"amount\",420).property(\"payment_at\",\"2024-03-10 15:57:04-03\").as(\"22129\").\n",
    "addV(\"Payment\").property(id,21730).property(\"card_number\",\"111.000.002.153\").property(\"amount\",280).property(\"payment_at\",\"2024-03-10 16:39:17-03\").as(\"21730\").\n",
    "addV(\"Payment\").property(id,21729).property(\"card_number\",\"111.000.002.153\").property(\"amount\",463).property(\"payment_at\",\"2024-03-10 16:59:42-03\").as(\"21729\").\n",
    "addV(\"Payment\").property(id,21698).property(\"card_number\",\"111.000.000.946\").property(\"amount\",217).property(\"payment_at\",\"2024-03-10 17:27:01-03\").as(\"21698\").\n",
    "addV(\"Payment\").property(id,23055).property(\"card_number\",\"111.000.001.161\").property(\"amount\",483).property(\"payment_at\",\"2024-03-10 18:23:55-03\").as(\"23055\").\n",
    "addV(\"Payment\").property(id,22824).property(\"card_number\",\"111.000.001.071\").property(\"amount\",435).property(\"payment_at\",\"2024-03-10 18:39:12-03\").as(\"22824\").\n",
    "addV(\"Payment\").property(id,22823).property(\"card_number\",\"111.000.001.071\").property(\"amount\",249).property(\"payment_at\",\"2024-03-10 18:42:32-03\").as(\"22823\").\n",
    "addV(\"Payment\").property(id,23056).property(\"card_number\",\"111.000.001.161\").property(\"amount\",190).property(\"payment_at\",\"2024-03-10 18:46:05-03\").as(\"23056\").\n",
    "addV(\"Payment\").property(id,22409).property(\"card_number\",\"111.000.002.409\").property(\"amount\",124).property(\"payment_at\",\"2024-03-10 19:18:53-03\").as(\"22409\").\n",
    "addV(\"Payment\").property(id,22410).property(\"card_number\",\"111.000.002.409\").property(\"amount\",384).property(\"payment_at\",\"2024-03-10 19:33:38-03\").as(\"22410\").\n",
    "addV(\"Payment\").property(id,22321).property(\"card_number\",\"111.000.001.125\").property(\"amount\",53).property(\"payment_at\",\"2024-03-10 21:33:53-03\").as(\"22321\").\n",
    "addV(\"Payment\").property(id,22273).property(\"card_number\",\"111.000.001.574\").property(\"amount\",117).property(\"payment_at\",\"2024-03-10 21:36:16-03\").as(\"22273\").\n",
    "addV(\"Payment\").property(id,22320).property(\"card_number\",\"111.000.001.125\").property(\"amount\",211).property(\"payment_at\",\"2024-03-10 21:36:24-03\").as(\"22320\").\n",
    "addV(\"Payment\").property(id,22130).property(\"card_number\",\"111.000.002.207\").property(\"amount\",56).property(\"payment_at\",\"2024-03-10 21:47:40-03\").as(\"22130\").\n",
    "addV(\"Payment\").property(id,21732).property(\"card_number\",\"111.000.002.153\").property(\"amount\",108).property(\"payment_at\",\"2024-03-10 23:15:14-03\").as(\"21732\").\n",
    "addV(\"Payment\").property(id,22629).property(\"card_number\",\"111.000.000.400\").property(\"amount\",135).property(\"payment_at\",\"2024-03-10 23:22:07-03\").as(\"22629\").\n",
    "addV(\"Payment\").property(id,22630).property(\"card_number\",\"111.000.000.400\").property(\"amount\",226).property(\"payment_at\",\"2024-03-10 23:26:36-03\").as(\"22630\").\n",
    "addV(\"Payment\").property(id,21731).property(\"card_number\",\"111.000.002.153\").property(\"amount\",56).property(\"payment_at\",\"2024-03-10 23:31:47-03\").as(\"21731\").\n",
    "addV(\"Payment\").property(id,22890).property(\"card_number\",\"111.000.001.360\").property(\"amount\",221).property(\"payment_at\",\"2024-03-10 23:36:00-03\").as(\"22890\").\n",
    "addV(\"Payment\").property(id,21787).property(\"card_number\",\"111.000.002.243\").property(\"amount\",714).property(\"payment_at\",\"2024-03-11 00:23:54-03\").as(\"21787\").\n",
    "addV(\"Payment\").property(id,21786).property(\"card_number\",\"111.000.002.243\").property(\"amount\",482).property(\"payment_at\",\"2024-03-11 00:38:51-03\").as(\"21786\").\n",
    "addV(\"Payment\").property(id,21699).property(\"card_number\",\"111.000.000.946\").property(\"amount\",408).property(\"payment_at\",\"2024-03-11 01:25:11-03\").as(\"21699\").\n",
    "addV(\"Payment\").property(id,22087).property(\"card_number\",\"111.000.000.646\").property(\"amount\",279).property(\"payment_at\",\"2024-03-11 01:30:10-03\").as(\"22087\").\n",
    "addV(\"Payment\").property(id,22088).property(\"card_number\",\"111.000.000.646\").property(\"amount\",136).property(\"payment_at\",\"2024-03-11 01:57:58-03\").as(\"22088\").\n",
    "addV(\"Payment\").property(id,22004).property(\"card_number\",\"111.000.001.107\").property(\"amount\",229).property(\"payment_at\",\"2024-03-11 02:53:10-03\").as(\"22004\").\n",
    "addV(\"Payment\").property(id,22005).property(\"card_number\",\"111.000.001.107\").property(\"amount\",117).property(\"payment_at\",\"2024-03-11 02:58:37-03\").as(\"22005\").\n",
    "addV(\"Payment\").property(id,23057).property(\"card_number\",\"111.000.001.161\").property(\"amount\",109).property(\"payment_at\",\"2024-03-11 03:19:08-03\").as(\"23057\").\n",
    "addV(\"Payment\").property(id,23058).property(\"card_number\",\"111.000.001.161\").property(\"amount\",402).property(\"payment_at\",\"2024-03-11 03:27:08-03\").as(\"23058\").\n",
    "addV(\"Payment\").property(id,22274).property(\"card_number\",\"111.000.001.574\").property(\"amount\",459).property(\"payment_at\",\"2024-03-11 03:48:47-03\").as(\"22274\").\n",
    "addV(\"Payment\").property(id,22825).property(\"card_number\",\"111.000.001.071\").property(\"amount\",39).property(\"payment_at\",\"2024-03-11 03:56:14-03\").as(\"22825\").\n",
    "addV(\"Payment\").property(id,22411).property(\"card_number\",\"111.000.002.409\").property(\"amount\",222).property(\"payment_at\",\"2024-03-11 05:17:45-03\").as(\"22411\").\n",
    "addV(\"Payment\").property(id,22632).property(\"card_number\",\"111.000.000.400\").property(\"amount\",51).property(\"payment_at\",\"2024-03-11 06:45:15-03\").as(\"22632\").\n",
    "addV(\"Payment\").property(id,22631).property(\"card_number\",\"111.000.000.400\").property(\"amount\",45).property(\"payment_at\",\"2024-03-11 06:53:58-03\").as(\"22631\").\n",
    "addV(\"Payment\").property(id,22457).property(\"card_number\",\"111.000.002.322\").property(\"amount\",423).property(\"payment_at\",\"2024-03-11 07:25:57-03\").as(\"22457\").\n",
    "addV(\"Payment\").property(id,21849).property(\"card_number\",\"111.000.001.372\").property(\"amount\",122).property(\"payment_at\",\"2024-03-11 09:18:03-03\").as(\"21849\").\n",
    "addV(\"Payment\").property(id,22006).property(\"card_number\",\"111.000.001.107\").property(\"amount\",263).property(\"payment_at\",\"2024-03-11 09:20:47-03\").as(\"22006\").\n",
    "addV(\"Payment\").property(id,22208).property(\"card_number\",\"111.000.002.437\").property(\"amount\",648).property(\"payment_at\",\"2024-03-11 09:20:51-03\").as(\"22208\").\n",
    "addV(\"Payment\").property(id,22459).property(\"card_number\",\"111.000.002.322\").property(\"amount\",444).property(\"payment_at\",\"2024-03-11 09:25:49-03\").as(\"22459\").\n",
    "addV(\"Payment\").property(id,22986).property(\"card_number\",\"111.000.001.421\").property(\"amount\",205).property(\"payment_at\",\"2024-03-11 09:29:20-03\").as(\"22986\").\n",
    "addV(\"Payment\").property(id,22209).property(\"card_number\",\"111.000.002.437\").property(\"amount\",612).property(\"payment_at\",\"2024-03-11 09:39:34-03\").as(\"22209\").\n",
    "addV(\"Payment\").property(id,22544).property(\"card_number\",\"111.000.000.583\").property(\"amount\",60).property(\"payment_at\",\"2024-03-11 09:39:37-03\").as(\"22544\").\n",
    "addV(\"Payment\").property(id,22322).property(\"card_number\",\"111.000.001.125\").property(\"amount\",37).property(\"payment_at\",\"2024-03-11 09:45:33-03\").as(\"22322\").\n",
    "addV(\"Payment\").property(id,22458).property(\"card_number\",\"111.000.002.322\").property(\"amount\",263).property(\"payment_at\",\"2024-03-11 09:47:50-03\").as(\"22458\").\n",
    "addV(\"Payment\").property(id,22826).property(\"card_number\",\"111.000.001.071\").property(\"amount\",129).property(\"payment_at\",\"2024-03-11 09:48:24-03\").as(\"22826\").\n",
    "addV(\"Payment\").property(id,22545).property(\"card_number\",\"111.000.000.583\").property(\"amount\",39).property(\"payment_at\",\"2024-03-11 09:48:57-03\").as(\"22545\").\n",
    "addV(\"Payment\").property(id,22323).property(\"card_number\",\"111.000.001.125\").property(\"amount\",438).property(\"payment_at\",\"2024-03-11 09:59:16-03\").as(\"22323\").\n",
    "addV(\"Payment\").property(id,22633).property(\"card_number\",\"111.000.000.400\").property(\"amount\",46).property(\"payment_at\",\"2024-03-11 15:46:29-03\").as(\"22633\").\n",
    "addV(\"Payment\").property(id,21850).property(\"card_number\",\"111.000.001.372\").property(\"amount\",297).property(\"payment_at\",\"2024-03-11 17:17:47-03\").as(\"21850\").\n",
    "addV(\"Payment\").property(id,22131).property(\"card_number\",\"111.000.002.207\").property(\"amount\",656).property(\"payment_at\",\"2024-03-11 17:34:04-03\").as(\"22131\").\n",
    "addV(\"Payment\").property(id,21851).property(\"card_number\",\"111.000.001.372\").property(\"amount\",103).property(\"payment_at\",\"2024-03-11 17:35:04-03\").as(\"21851\").\n",
    "addV(\"Payment\").property(id,22007).property(\"card_number\",\"111.000.001.107\").property(\"amount\",714).property(\"payment_at\",\"2024-03-11 19:40:25-03\").as(\"22007\")"
   ]
  },
  {
   "cell_type": "code",
   "execution_count": 39,
   "id": "75edb7b7-f44c-4c01-bad5-8b31f7d14f55",
   "metadata": {
    "tags": []
   },
   "outputs": [
    {
     "data": {
      "application/vnd.jupyter.widget-view+json": {
       "model_id": "87980f6743964d48816146ee82b048f4",
       "version_major": 2,
       "version_minor": 0
      },
      "text/plain": [
       "Tab(children=(Output(layout=Layout(max_height='600px', max_width='940px', overflow='scroll')), Output(layout=L…"
      ]
     },
     "metadata": {},
     "output_type": "display_data"
    }
   ],
   "source": [
    "%%gremlin\n",
    "g.addV(\"Payment\").property(id,22008).property(\"card_number\",\"111.000.001.107\").property(\"amount\",96).property(\"payment_at\",\"2024-03-11 19:55:07-03\").as(\"22008\").\n",
    "addV(\"Payment\").property(id,22460).property(\"card_number\",\"111.000.002.322\").property(\"amount\",47).property(\"payment_at\",\"2024-03-11 20:48:33-03\").as(\"22460\").\n",
    "addV(\"Payment\").property(id,22719).property(\"card_number\",\"111.000.001.987\").property(\"amount\",128).property(\"payment_at\",\"2024-03-11 22:42:57-03\").as(\"22719\").\n",
    "addV(\"Payment\").property(id,22827).property(\"card_number\",\"111.000.001.071\").property(\"amount\",132).property(\"payment_at\",\"2024-03-12 00:28:30-03\").as(\"22827\").\n",
    "addV(\"Payment\").property(id,23059).property(\"card_number\",\"111.000.001.161\").property(\"amount\",141).property(\"payment_at\",\"2024-03-12 00:39:04-03\").as(\"23059\").\n",
    "addV(\"Payment\").property(id,23060).property(\"card_number\",\"111.000.001.161\").property(\"amount\",264).property(\"payment_at\",\"2024-03-12 00:39:14-03\").as(\"23060\").\n",
    "addV(\"Payment\").property(id,22324).property(\"card_number\",\"111.000.001.125\").property(\"amount\",193).property(\"payment_at\",\"2024-03-12 00:49:11-03\").as(\"22324\").\n",
    "addV(\"Payment\").property(id,21788).property(\"card_number\",\"111.000.002.243\").property(\"amount\",106).property(\"payment_at\",\"2024-03-12 00:59:11-03\").as(\"21788\").\n",
    "addV(\"Payment\").property(id,22211).property(\"card_number\",\"111.000.002.437\").property(\"amount\",232).property(\"payment_at\",\"2024-03-12 01:21:36-03\").as(\"22211\").\n",
    "addV(\"Payment\").property(id,21853).property(\"card_number\",\"111.000.001.372\").property(\"amount\",295).property(\"payment_at\",\"2024-03-12 01:25:26-03\").as(\"21853\").\n",
    "addV(\"Payment\").property(id,22067).property(\"card_number\",\"111.000.000.427\").property(\"amount\",154).property(\"payment_at\",\"2024-03-12 01:26:24-03\").as(\"22067\").\n",
    "addV(\"Payment\").property(id,23130).property(\"card_number\",\"111.000.000.324\").property(\"amount\",248).property(\"payment_at\",\"2024-03-12 01:28:22-03\").as(\"23130\").\n",
    "addV(\"Payment\").property(id,22210).property(\"card_number\",\"111.000.002.437\").property(\"amount\",238).property(\"payment_at\",\"2024-03-12 01:28:54-03\").as(\"22210\").\n",
    "addV(\"Payment\").property(id,23131).property(\"card_number\",\"111.000.000.324\").property(\"amount\",260).property(\"payment_at\",\"2024-03-12 01:42:37-03\").as(\"23131\").\n",
    "addV(\"Payment\").property(id,21852).property(\"card_number\",\"111.000.001.372\").property(\"amount\",292).property(\"payment_at\",\"2024-03-12 01:44:24-03\").as(\"21852\").\n",
    "addV(\"Payment\").property(id,22132).property(\"card_number\",\"111.000.002.207\").property(\"amount\",37).property(\"payment_at\",\"2024-03-12 01:46:56-03\").as(\"22132\").\n",
    "addV(\"Payment\").property(id,22546).property(\"card_number\",\"111.000.000.583\").property(\"amount\",315).property(\"payment_at\",\"2024-03-12 01:54:56-03\").as(\"22546\").\n",
    "addV(\"Payment\").property(id,22133).property(\"card_number\",\"111.000.002.207\").property(\"amount\",642).property(\"payment_at\",\"2024-03-12 01:59:24-03\").as(\"22133\").\n",
    "addV(\"Payment\").property(id,22987).property(\"card_number\",\"111.000.001.421\").property(\"amount\",97).property(\"payment_at\",\"2024-03-12 02:32:46-03\").as(\"22987\").\n",
    "addV(\"Payment\").property(id,22635).property(\"card_number\",\"111.000.000.400\").property(\"amount\",43).property(\"payment_at\",\"2024-03-12 03:41:42-03\").as(\"22635\").\n",
    "addV(\"Payment\").property(id,22634).property(\"card_number\",\"111.000.000.400\").property(\"amount\",626).property(\"payment_at\",\"2024-03-12 03:56:43-03\").as(\"22634\").\n",
    "addV(\"Payment\").property(id,21789).property(\"card_number\",\"111.000.002.243\").property(\"amount\",130).property(\"payment_at\",\"2024-03-12 09:16:26-03\").as(\"21789\").\n",
    "addV(\"Payment\").property(id,22213).property(\"card_number\",\"111.000.002.437\").property(\"amount\",247).property(\"payment_at\",\"2024-03-12 09:18:05-03\").as(\"22213\").\n",
    "addV(\"Payment\").property(id,22325).property(\"card_number\",\"111.000.001.125\").property(\"amount\",680).property(\"payment_at\",\"2024-03-12 09:21:35-03\").as(\"22325\").\n",
    "addV(\"Payment\").property(id,22636).property(\"card_number\",\"111.000.000.400\").property(\"amount\",677).property(\"payment_at\",\"2024-03-12 09:26:28-03\").as(\"22636\").\n",
    "addV(\"Payment\").property(id,22009).property(\"card_number\",\"111.000.001.107\").property(\"amount\",214).property(\"payment_at\",\"2024-03-12 09:29:12-03\").as(\"22009\").\n",
    "addV(\"Payment\").property(id,22720).property(\"card_number\",\"111.000.001.987\").property(\"amount\",218).property(\"payment_at\",\"2024-03-12 09:29:40-03\").as(\"22720\").\n",
    "addV(\"Payment\").property(id,21855).property(\"card_number\",\"111.000.001.372\").property(\"amount\",141).property(\"payment_at\",\"2024-03-12 09:32:43-03\").as(\"21855\").\n",
    "addV(\"Payment\").property(id,21854).property(\"card_number\",\"111.000.001.372\").property(\"amount\",52).property(\"payment_at\",\"2024-03-12 09:36:56-03\").as(\"21854\").\n",
    "addV(\"Payment\").property(id,22721).property(\"card_number\",\"111.000.001.987\").property(\"amount\",743).property(\"payment_at\",\"2024-03-12 09:41:26-03\").as(\"22721\").\n",
    "addV(\"Payment\").property(id,22828).property(\"card_number\",\"111.000.001.071\").property(\"amount\",256).property(\"payment_at\",\"2024-03-12 09:42:04-03\").as(\"22828\").\n",
    "addV(\"Payment\").property(id,23061).property(\"card_number\",\"111.000.001.161\").property(\"amount\",237).property(\"payment_at\",\"2024-03-12 09:43:53-03\").as(\"23061\").\n",
    "addV(\"Payment\").property(id,22461).property(\"card_number\",\"111.000.002.322\").property(\"amount\",146).property(\"payment_at\",\"2024-03-12 09:44:09-03\").as(\"22461\").\n",
    "addV(\"Payment\").property(id,22548).property(\"card_number\",\"111.000.000.583\").property(\"amount\",209).property(\"payment_at\",\"2024-03-12 09:44:53-03\").as(\"22548\").\n",
    "addV(\"Payment\").property(id,22134).property(\"card_number\",\"111.000.002.207\").property(\"amount\",233).property(\"payment_at\",\"2024-03-12 09:45:24-03\").as(\"22134\").\n",
    "addV(\"Payment\").property(id,22547).property(\"card_number\",\"111.000.000.583\").property(\"amount\",116).property(\"payment_at\",\"2024-03-12 09:50:09-03\").as(\"22547\").\n",
    "addV(\"Payment\").property(id,22212).property(\"card_number\",\"111.000.002.437\").property(\"amount\",139).property(\"payment_at\",\"2024-03-12 09:53:55-03\").as(\"22212\").\n",
    "addV(\"Payment\").property(id,22462).property(\"card_number\",\"111.000.002.322\").property(\"amount\",384).property(\"payment_at\",\"2024-03-12 09:54:41-03\").as(\"22462\").\n",
    "addV(\"Payment\").property(id,22214).property(\"card_number\",\"111.000.002.437\").property(\"amount\",276).property(\"payment_at\",\"2024-03-12 16:46:00-03\").as(\"22214\").\n",
    "addV(\"Payment\").property(id,21856).property(\"card_number\",\"111.000.001.372\").property(\"amount\",135).property(\"payment_at\",\"2024-03-12 16:47:20-03\").as(\"21856\").\n",
    "addV(\"Payment\").property(id,22215).property(\"card_number\",\"111.000.002.437\").property(\"amount\",249).property(\"payment_at\",\"2024-03-12 16:57:37-03\").as(\"22215\").\n",
    "addV(\"Payment\").property(id,21790).property(\"card_number\",\"111.000.002.243\").property(\"amount\",143).property(\"payment_at\",\"2024-03-12 17:34:16-03\").as(\"21790\").\n",
    "addV(\"Payment\").property(id,22010).property(\"card_number\",\"111.000.001.107\").property(\"amount\",237).property(\"payment_at\",\"2024-03-12 18:36:25-03\").as(\"22010\").\n",
    "addV(\"Payment\").property(id,22011).property(\"card_number\",\"111.000.001.107\").property(\"amount\",110).property(\"payment_at\",\"2024-03-12 18:45:18-03\").as(\"22011\").\n",
    "addV(\"Payment\").property(id,22135).property(\"card_number\",\"111.000.002.207\").property(\"amount\",207).property(\"payment_at\",\"2024-03-12 21:55:25-03\").as(\"22135\").\n",
    "addV(\"Payment\").property(id,22216).property(\"card_number\",\"111.000.002.437\").property(\"amount\",268).property(\"payment_at\",\"2024-03-12 23:38:48-03\").as(\"22216\").\n",
    "addV(\"Payment\").property(id,21857).property(\"card_number\",\"111.000.001.372\").property(\"amount\",134).property(\"payment_at\",\"2024-03-12 23:44:47-03\").as(\"21857\").\n",
    "addV(\"Payment\").property(id,22217).property(\"card_number\",\"111.000.002.437\").property(\"amount\",250).property(\"payment_at\",\"2024-03-12 23:54:28-03\").as(\"22217\").\n",
    "addV(\"Payment\").property(id,22829).property(\"card_number\",\"111.000.001.071\").property(\"amount\",300).property(\"payment_at\",\"2024-03-13 00:24:06-03\").as(\"22829\").\n",
    "addV(\"Payment\").property(id,21791).property(\"card_number\",\"111.000.002.243\").property(\"amount\",64).property(\"payment_at\",\"2024-03-13 01:45:06-03\").as(\"21791\").\n",
    "addV(\"Payment\").property(id,22722).property(\"card_number\",\"111.000.001.987\").property(\"amount\",375).property(\"payment_at\",\"2024-03-13 02:16:24-03\").as(\"22722\").\n",
    "addV(\"Payment\").property(id,22012).property(\"card_number\",\"111.000.001.107\").property(\"amount\",108).property(\"payment_at\",\"2024-03-13 03:57:36-03\").as(\"22012\").\n",
    "addV(\"Payment\").property(id,22218).property(\"card_number\",\"111.000.002.437\").property(\"amount\",69).property(\"payment_at\",\"2024-03-13 06:29:31-03\").as(\"22218\").\n",
    "addV(\"Payment\").property(id,22219).property(\"card_number\",\"111.000.002.437\").property(\"amount\",132).property(\"payment_at\",\"2024-03-13 06:53:19-03\").as(\"22219\").\n",
    "addV(\"Payment\").property(id,22723).property(\"card_number\",\"111.000.001.987\").property(\"amount\",64).property(\"payment_at\",\"2024-03-13 09:17:20-03\").as(\"22723\").\n",
    "addV(\"Payment\").property(id,22412).property(\"card_number\",\"111.000.002.409\").property(\"amount\",154).property(\"payment_at\",\"2024-03-13 09:18:29-03\").as(\"22412\").\n",
    "addV(\"Payment\").property(id,22220).property(\"card_number\",\"111.000.002.437\").property(\"amount\",222).property(\"payment_at\",\"2024-03-13 09:19:55-03\").as(\"22220\").\n",
    "addV(\"Payment\").property(id,22463).property(\"card_number\",\"111.000.002.322\").property(\"amount\",266).property(\"payment_at\",\"2024-03-13 09:23:14-03\").as(\"22463\").\n",
    "addV(\"Payment\").property(id,22550).property(\"card_number\",\"111.000.000.583\").property(\"amount\",707).property(\"payment_at\",\"2024-03-13 09:23:16-03\").as(\"22550\").\n",
    "addV(\"Payment\").property(id,22380).property(\"card_number\",\"111.000.000.024\").property(\"amount\",299).property(\"payment_at\",\"2024-03-13 09:23:19-03\").as(\"22380\").\n",
    "addV(\"Payment\").property(id,22326).property(\"card_number\",\"111.000.001.125\").property(\"amount\",92).property(\"payment_at\",\"2024-03-13 09:23:43-03\").as(\"22326\").\n",
    "addV(\"Payment\").property(id,21792).property(\"card_number\",\"111.000.002.243\").property(\"amount\",706).property(\"payment_at\",\"2024-03-13 09:25:45-03\").as(\"21792\").\n",
    "addV(\"Payment\").property(id,23016).property(\"card_number\",\"111.000.000.582\").property(\"amount\",50).property(\"payment_at\",\"2024-03-13 09:30:11-03\").as(\"23016\").\n",
    "addV(\"Payment\").property(id,22379).property(\"card_number\",\"111.000.000.024\").property(\"amount\",256).property(\"payment_at\",\"2024-03-13 09:30:22-03\").as(\"22379\").\n",
    "addV(\"Payment\").property(id,22830).property(\"card_number\",\"111.000.001.071\").property(\"amount\",122).property(\"payment_at\",\"2024-03-13 09:31:01-03\").as(\"22830\").\n",
    "addV(\"Payment\").property(id,22785).property(\"card_number\",\"111.000.001.819\").property(\"amount\",221).property(\"payment_at\",\"2024-03-13 09:32:45-03\").as(\"22785\").\n",
    "addV(\"Payment\").property(id,22549).property(\"card_number\",\"111.000.000.583\").property(\"amount\",264).property(\"payment_at\",\"2024-03-13 09:32:56-03\").as(\"22549\").\n",
    "addV(\"Payment\").property(id,21733).property(\"card_number\",\"111.000.002.153\").property(\"amount\",62).property(\"payment_at\",\"2024-03-13 09:34:41-03\").as(\"21733\").\n",
    "addV(\"Payment\").property(id,22413).property(\"card_number\",\"111.000.002.409\").property(\"amount\",118).property(\"payment_at\",\"2024-03-13 09:36:33-03\").as(\"22413\").\n",
    "addV(\"Payment\").property(id,22464).property(\"card_number\",\"111.000.002.322\").property(\"amount\",752).property(\"payment_at\",\"2024-03-13 09:36:37-03\").as(\"22464\").\n",
    "addV(\"Payment\").property(id,22637).property(\"card_number\",\"111.000.000.400\").property(\"amount\",124).property(\"payment_at\",\"2024-03-13 09:39:41-03\").as(\"22637\").\n",
    "addV(\"Payment\").property(id,22275).property(\"card_number\",\"111.000.001.574\").property(\"amount\",475).property(\"payment_at\",\"2024-03-13 09:40:20-03\").as(\"22275\").\n",
    "addV(\"Payment\").property(id,23132).property(\"card_number\",\"111.000.000.324\").property(\"amount\",246).property(\"payment_at\",\"2024-03-13 09:43:13-03\").as(\"23132\").\n",
    "addV(\"Payment\").property(id,22891).property(\"card_number\",\"111.000.001.360\").property(\"amount\",144).property(\"payment_at\",\"2024-03-13 09:50:15-03\").as(\"22891\").\n",
    "addV(\"Payment\").property(id,21928).property(\"card_number\",\"111.000.000.874\").property(\"amount\",146).property(\"payment_at\",\"2024-03-13 09:50:30-03\").as(\"21928\").\n",
    "addV(\"Payment\").property(id,22786).property(\"card_number\",\"111.000.001.819\").property(\"amount\",130).property(\"payment_at\",\"2024-03-13 09:56:15-03\").as(\"22786\").\n",
    "addV(\"Payment\").property(id,22221).property(\"card_number\",\"111.000.002.437\").property(\"amount\",120).property(\"payment_at\",\"2024-03-13 09:57:18-03\").as(\"22221\").\n",
    "addV(\"Payment\").property(id,22724).property(\"card_number\",\"111.000.001.987\").property(\"amount\",117).property(\"payment_at\",\"2024-03-13 09:58:09-03\").as(\"22724\").\n",
    "addV(\"Payment\").property(id,23017).property(\"card_number\",\"111.000.000.582\").property(\"amount\",610).property(\"payment_at\",\"2024-03-13 09:58:26-03\").as(\"23017\").\n",
    "addV(\"Payment\").property(id,21735).property(\"card_number\",\"111.000.002.153\").property(\"amount\",264).property(\"payment_at\",\"2024-03-13 15:16:11-03\").as(\"21735\").\n",
    "addV(\"Payment\").property(id,21700).property(\"card_number\",\"111.000.000.946\").property(\"amount\",348).property(\"payment_at\",\"2024-03-13 15:21:49-03\").as(\"21700\").\n",
    "addV(\"Payment\").property(id,21701).property(\"card_number\",\"111.000.000.946\").property(\"amount\",221).property(\"payment_at\",\"2024-03-13 15:24:57-03\").as(\"21701\").\n",
    "addV(\"Payment\").property(id,21734).property(\"card_number\",\"111.000.002.153\").property(\"amount\",593).property(\"payment_at\",\"2024-03-13 15:32:55-03\").as(\"21734\").\n",
    "addV(\"Payment\").property(id,22831).property(\"card_number\",\"111.000.001.071\").property(\"amount\",243).property(\"payment_at\",\"2024-03-13 16:56:58-03\").as(\"22831\").\n",
    "addV(\"Payment\").property(id,22327).property(\"card_number\",\"111.000.001.125\").property(\"amount\",243).property(\"payment_at\",\"2024-03-13 17:21:38-03\").as(\"22327\").\n",
    "addV(\"Payment\").property(id,22328).property(\"card_number\",\"111.000.001.125\").property(\"amount\",121).property(\"payment_at\",\"2024-03-13 17:51:36-03\").as(\"22328\").\n",
    "addV(\"Payment\").property(id,22892).property(\"card_number\",\"111.000.001.360\").property(\"amount\",124).property(\"payment_at\",\"2024-03-13 18:15:35-03\").as(\"22892\").\n",
    "addV(\"Payment\").property(id,23062).property(\"card_number\",\"111.000.001.161\").property(\"amount\",248).property(\"payment_at\",\"2024-03-13 18:23:11-03\").as(\"23062\").\n",
    "addV(\"Payment\").property(id,21962).property(\"card_number\",\"111.000.002.292\").property(\"amount\",801).property(\"payment_at\",\"2024-03-13 18:29:44-03\").as(\"21962\").\n",
    "addV(\"Payment\").property(id,23063).property(\"card_number\",\"111.000.001.161\").property(\"amount\",235).property(\"payment_at\",\"2024-03-13 18:31:03-03\").as(\"23063\").\n",
    "addV(\"Payment\").property(id,21961).property(\"card_number\",\"111.000.002.292\").property(\"amount\",275).property(\"payment_at\",\"2024-03-13 18:31:57-03\").as(\"21961\").\n",
    "addV(\"Payment\").property(id,22725).property(\"card_number\",\"111.000.001.987\").property(\"amount\",140).property(\"payment_at\",\"2024-03-13 19:27:05-03\").as(\"22725\").\n",
    "addV(\"Payment\").property(id,22222).property(\"card_number\",\"111.000.002.437\").property(\"amount\",277).property(\"payment_at\",\"2024-03-13 19:42:17-03\").as(\"22222\").\n",
    "addV(\"Payment\").property(id,23133).property(\"card_number\",\"111.000.000.324\").property(\"amount\",129).property(\"payment_at\",\"2024-03-13 19:55:16-03\").as(\"23133\").\n",
    "addV(\"Payment\").property(id,22276).property(\"card_number\",\"111.000.001.574\").property(\"amount\",209).property(\"payment_at\",\"2024-03-13 20:42:39-03\").as(\"22276\").\n",
    "addV(\"Payment\").property(id,22551).property(\"card_number\",\"111.000.000.583\").property(\"amount\",94).property(\"payment_at\",\"2024-03-13 20:45:23-03\").as(\"22551\").\n",
    "addV(\"Payment\").property(id,21702).property(\"card_number\",\"111.000.000.946\").property(\"amount\",71).property(\"payment_at\",\"2024-03-13 21:15:39-03\").as(\"21702\").\n",
    "addV(\"Payment\").property(id,21737).property(\"card_number\",\"111.000.002.153\").property(\"amount\",118).property(\"payment_at\",\"2024-03-13 21:19:07-03\").as(\"21737\").\n",
    "addV(\"Payment\").property(id,22787).property(\"card_number\",\"111.000.001.819\").property(\"amount\",434).property(\"payment_at\",\"2024-03-13 21:43:02-03\").as(\"22787\").\n",
    "addV(\"Payment\").property(id,22788).property(\"card_number\",\"111.000.001.819\").property(\"amount\",107).property(\"payment_at\",\"2024-03-13 21:53:52-03\").as(\"22788\").\n",
    "addV(\"Payment\").property(id,21736).property(\"card_number\",\"111.000.002.153\").property(\"amount\",420).property(\"payment_at\",\"2024-03-13 21:58:30-03\").as(\"21736\").\n",
    "addV(\"Payment\").property(id,22639).property(\"card_number\",\"111.000.000.400\").property(\"amount\",248).property(\"payment_at\",\"2024-03-13 22:24:13-03\").as(\"22639\").\n",
    "addV(\"Payment\").property(id,21930).property(\"card_number\",\"111.000.000.874\").property(\"amount\",236).property(\"payment_at\",\"2024-03-13 22:35:45-03\").as(\"21930\").\n",
    "addV(\"Payment\").property(id,22638).property(\"card_number\",\"111.000.000.400\").property(\"amount\",415).property(\"payment_at\",\"2024-03-13 22:40:10-03\").as(\"22638\").\n",
    "addV(\"Payment\").property(id,21929).property(\"card_number\",\"111.000.000.874\").property(\"amount\",136).property(\"payment_at\",\"2024-03-13 22:55:21-03\").as(\"21929\").\n",
    "addV(\"Payment\").property(id,22832).property(\"card_number\",\"111.000.001.071\").property(\"amount\",102).property(\"payment_at\",\"2024-03-13 23:45:07-03\").as(\"22832\").\n",
    "addV(\"Payment\").property(id,22465).property(\"card_number\",\"111.000.002.322\").property(\"amount\",46).property(\"payment_at\",\"2024-03-14 00:28:09-03\").as(\"22465\").\n",
    "addV(\"Payment\").property(id,22466).property(\"card_number\",\"111.000.002.322\").property(\"amount\",254).property(\"payment_at\",\"2024-03-14 00:29:43-03\").as(\"22466\").\n",
    "addV(\"Payment\").property(id,21859).property(\"card_number\",\"111.000.001.372\").property(\"amount\",98).property(\"payment_at\",\"2024-03-14 01:42:33-03\").as(\"21859\").\n",
    "addV(\"Payment\").property(id,22329).property(\"card_number\",\"111.000.001.125\").property(\"amount\",252).property(\"payment_at\",\"2024-03-14 01:42:43-03\").as(\"22329\").\n",
    "addV(\"Payment\").property(id,22415).property(\"card_number\",\"111.000.002.409\").property(\"amount\",285).property(\"payment_at\",\"2024-03-14 01:42:59-03\").as(\"22415\").\n",
    "addV(\"Payment\").property(id,21858).property(\"card_number\",\"111.000.001.372\").property(\"amount\",45).property(\"payment_at\",\"2024-03-14 01:52:33-03\").as(\"21858\").\n",
    "addV(\"Payment\").property(id,22330).property(\"card_number\",\"111.000.001.125\").property(\"amount\",143).property(\"payment_at\",\"2024-03-14 01:52:55-03\").as(\"22330\").\n",
    "addV(\"Payment\").property(id,22414).property(\"card_number\",\"111.000.002.409\").property(\"amount\",135).property(\"payment_at\",\"2024-03-14 01:56:21-03\").as(\"22414\").\n",
    "addV(\"Payment\").property(id,22923).property(\"card_number\",\"111.000.000.666\").property(\"amount\",676).property(\"payment_at\",\"2024-03-14 01:59:49-03\").as(\"22923\").\n",
    "addV(\"Payment\").property(id,22089).property(\"card_number\",\"111.000.000.646\").property(\"amount\",267).property(\"payment_at\",\"2024-03-14 02:31:13-03\").as(\"22089\").\n",
    "addV(\"Payment\").property(id,22136).property(\"card_number\",\"111.000.002.207\").property(\"amount\",282).property(\"payment_at\",\"2024-03-14 02:34:30-03\").as(\"22136\").\n",
    "addV(\"Payment\").property(id,22090).property(\"card_number\",\"111.000.000.646\").property(\"amount\",364).property(\"payment_at\",\"2024-03-14 02:57:27-03\").as(\"22090\").\n",
    "addV(\"Payment\").property(id,21703).property(\"card_number\",\"111.000.000.946\").property(\"amount\",113).property(\"payment_at\",\"2024-03-14 03:19:29-03\").as(\"21703\").\n",
    "addV(\"Payment\").property(id,21739).property(\"card_number\",\"111.000.002.153\").property(\"amount\",30).property(\"payment_at\",\"2024-03-14 03:20:21-03\").as(\"21739\").\n",
    "addV(\"Payment\").property(id,23065).property(\"card_number\",\"111.000.001.161\").property(\"amount\",205).property(\"payment_at\",\"2024-03-14 03:27:27-03\").as(\"23065\").\n",
    "addV(\"Payment\").property(id,22893).property(\"card_number\",\"111.000.001.360\").property(\"amount\",269).property(\"payment_at\",\"2024-03-14 03:38:20-03\").as(\"22893\").\n",
    "addV(\"Payment\").property(id,21704).property(\"card_number\",\"111.000.000.946\").property(\"amount\",160).property(\"payment_at\",\"2024-03-14 03:46:45-03\").as(\"21704\").\n",
    "addV(\"Payment\").property(id,21738).property(\"card_number\",\"111.000.002.153\").property(\"amount\",104).property(\"payment_at\",\"2024-03-14 03:47:50-03\").as(\"21738\").\n",
    "addV(\"Payment\").property(id,23064).property(\"card_number\",\"111.000.001.161\").property(\"amount\",472).property(\"payment_at\",\"2024-03-14 03:52:24-03\").as(\"23064\").\n",
    "addV(\"Payment\").property(id,22833).property(\"card_number\",\"111.000.001.071\").property(\"amount\",115).property(\"payment_at\",\"2024-03-14 06:37:42-03\").as(\"22833\").\n",
    "addV(\"Payment\").property(id,22834).property(\"card_number\",\"111.000.001.071\").property(\"amount\",736).property(\"payment_at\",\"2024-03-14 06:45:55-03\").as(\"22834\").\n",
    "addV(\"Payment\").property(id,22553).property(\"card_number\",\"111.000.000.583\").property(\"amount\",416).property(\"payment_at\",\"2024-03-14 07:22:26-03\").as(\"22553\").\n",
    "addV(\"Payment\").property(id,22552).property(\"card_number\",\"111.000.000.583\").property(\"amount\",36).property(\"payment_at\",\"2024-03-14 07:25:54-03\").as(\"22552\").\n",
    "addV(\"Payment\").property(id,22958).property(\"card_number\",\"111.000.000.911\").property(\"amount\",795).property(\"payment_at\",\"2024-03-14 07:29:51-03\").as(\"22958\").\n",
    "addV(\"Payment\").property(id,22278).property(\"card_number\",\"111.000.001.574\").property(\"amount\",121).property(\"payment_at\",\"2024-03-14 07:31:59-03\").as(\"22278\").\n",
    "addV(\"Payment\").property(id,22277).property(\"card_number\",\"111.000.001.574\").property(\"amount\",427).property(\"payment_at\",\"2024-03-14 07:53:42-03\").as(\"22277\").\n",
    "addV(\"Payment\").property(id,22959).property(\"card_number\",\"111.000.000.911\").property(\"amount\",143).property(\"payment_at\",\"2024-03-14 07:56:58-03\").as(\"22959\").\n",
    "addV(\"Payment\").property(id,23208).property(\"card_number\",\"111.000.000.599\").property(\"amount\",324).property(\"payment_at\",\"2024-03-14 09:03:16-03\").as(\"23208\").\n",
    "addV(\"Payment\").property(id,23311).property(\"card_number\",\"111.000.000.759\").property(\"amount\",786).property(\"payment_at\",\"2024-03-14 09:04:03-03\").as(\"23311\").\n",
    "addV(\"Payment\").property(id,23312).property(\"card_number\",\"111.000.000.759\").property(\"amount\",393).property(\"payment_at\",\"2024-03-14 09:04:11-03\").as(\"23312\").\n",
    "addV(\"Payment\").property(id,23209).property(\"card_number\",\"111.000.000.599\").property(\"amount\",831).property(\"payment_at\",\"2024-03-14 09:04:44-03\").as(\"23209\").\n",
    "addV(\"Payment\").property(id,23310).property(\"card_number\",\"111.000.000.759\").property(\"amount\",1245).property(\"payment_at\",\"2024-03-14 09:04:48-03\").as(\"23310\").\n",
    "addV(\"Payment\").property(id,23193).property(\"card_number\",\"111.000.000.046\").property(\"amount\",246).property(\"payment_at\",\"2024-03-14 09:04:49-03\").as(\"23193\").\n",
    "addV(\"Payment\").property(id,23067).property(\"card_number\",\"111.000.001.161\").property(\"amount\",383).property(\"payment_at\",\"2024-03-14 09:18:32-03\").as(\"23067\").\n",
    "addV(\"Payment\").property(id,22013).property(\"card_number\",\"111.000.001.107\").property(\"amount\",230).property(\"payment_at\",\"2024-03-14 09:22:39-03\").as(\"22013\").\n",
    "addV(\"Payment\").property(id,22727).property(\"card_number\",\"111.000.001.987\").property(\"amount\",253).property(\"payment_at\",\"2024-03-14 09:25:40-03\").as(\"22727\").\n",
    "addV(\"Payment\").property(id,22014).property(\"card_number\",\"111.000.001.107\").property(\"amount\",66).property(\"payment_at\",\"2024-03-14 09:30:57-03\").as(\"22014\").\n",
    "addV(\"Payment\").property(id,21860).property(\"card_number\",\"111.000.001.372\").property(\"amount\",138).property(\"payment_at\",\"2024-03-14 09:33:45-03\").as(\"21860\").\n",
    "addV(\"Payment\").property(id,21793).property(\"card_number\",\"111.000.002.243\").property(\"amount\",387).property(\"payment_at\",\"2024-03-14 09:38:31-03\").as(\"21793\").\n",
    "addV(\"Payment\").property(id,21794).property(\"card_number\",\"111.000.002.243\").property(\"amount\",451).property(\"payment_at\",\"2024-03-14 09:46:52-03\").as(\"21794\").\n",
    "addV(\"Payment\").property(id,23066).property(\"card_number\",\"111.000.001.161\").property(\"amount\",307).property(\"payment_at\",\"2024-03-14 09:47:25-03\").as(\"23066\").\n",
    "addV(\"Payment\").property(id,22468).property(\"card_number\",\"111.000.002.322\").property(\"amount\",215).property(\"payment_at\",\"2024-03-14 09:49:32-03\").as(\"22468\").\n",
    "addV(\"Payment\").property(id,22137).property(\"card_number\",\"111.000.002.207\").property(\"amount\",436).property(\"payment_at\",\"2024-03-14 09:54:08-03\").as(\"22137\").\n",
    "addV(\"Payment\").property(id,22467).property(\"card_number\",\"111.000.002.322\").property(\"amount\",134).property(\"payment_at\",\"2024-03-14 09:56:23-03\").as(\"22467\")"
   ]
  },
  {
   "cell_type": "code",
   "execution_count": null,
   "id": "c57083b5-19ce-4148-a3a1-cd9cc26cab3f",
   "metadata": {},
   "outputs": [],
   "source": [
    "%%gremlin\n",
    "q."
   ]
  },
  {
   "cell_type": "markdown",
   "id": "3a2c7244-b36c-4873-be90-895acc50b3f8",
   "metadata": {},
   "source": [
    "# Edge"
   ]
  },
  {
   "cell_type": "code",
   "execution_count": 48,
   "id": "ee12af1b-5577-4cfb-8351-4597d6dc6b5d",
   "metadata": {
    "tags": []
   },
   "outputs": [
    {
     "data": {
      "application/vnd.jupyter.widget-view+json": {
       "model_id": "ca25874b31b34a3ea9c3890c28d869b2",
       "version_major": 2,
       "version_minor": 0
      },
      "text/plain": [
       "Tab(children=(Output(layout=Layout(max_height='600px', max_width='940px', overflow='scroll')), Output(layout=L…"
      ]
     },
     "metadata": {},
     "output_type": "display_data"
    }
   ],
   "source": [
    "%%gremlin\n",
    "\n",
    "g.V(142).addE(\"using\").to(__.V(\"TERM-38\")).property(id,\"142-TERM\").V(142).addE(\"to\").to(__.V(\"MOTOR\")).property(id,\"142-MCC\").\n",
    "V(147).addE(\"using\").to(__.V(\"TERM-41\")).property(id,\"147-TERM\").V(147).addE(\"to\").to(__.V(\"BOOK\")).property(id,\"147-MCC\").\n",
    "V(202).addE(\"using\").to(__.V(\"TERM-70\")).property(id,\"202-TERM\").V(202).addE(\"to\").to(__.V(\"BOOK\")).property(id,\"202-MCC\").\n",
    "V(179).addE(\"using\").to(__.V(\"TERM-23\")).property(id,\"179-TERM\").V(179).addE(\"to\").to(__.V(\"DRUG_STORE\")).property(id,\"179-MCC\").\n",
    "V(337).addE(\"using\").to(__.V(\"TERM-42\")).property(id,\"337-TERM\").V(337).addE(\"to\").to(__.V(\"COSMETIC\")).property(id,\"337-MCC\").\n",
    "V(338).addE(\"using\").to(__.V(\"TERM-75\")).property(id,\"338-TERM\").V(338).addE(\"to\").to(__.V(\"CINEMA\")).property(id,\"338-MCC\").\n",
    "V(505).addE(\"using\").to(__.V(\"TERM-32\")).property(id,\"505-TERM\").V(505).addE(\"to\").to(__.V(\"BEVERAGE\")).property(id,\"505-MCC\").\n",
    "V(479).addE(\"using\").to(__.V(\"TERM-27\")).property(id,\"479-TERM\").V(479).addE(\"to\").to(__.V(\"CINEMA\")).property(id,\"479-MCC\").\n",
    "V(506).addE(\"using\").to(__.V(\"TERM-80\")).property(id,\"506-TERM\").V(506).addE(\"to\").to(__.V(\"GAS\")).property(id,\"506-MCC\").\n",
    "V(478).addE(\"using\").to(__.V(\"TERM-20\")).property(id,\"478-TERM\").V(478).addE(\"to\").to(__.V(\"PARKING\")).property(id,\"478-MCC\").\n",
    "V(540).addE(\"using\").to(__.V(\"TERM-51\")).property(id,\"540-TERM\").V(540).addE(\"to\").to(__.V(\"CASH\")).property(id,\"540-MCC\").\n",
    "V(543).addE(\"using\").to(__.V(\"TERM-34\")).property(id,\"543-TERM\").V(543).addE(\"to\").to(__.V(\"BEVERAGE\")).property(id,\"543-MCC\").\n",
    "V(539).addE(\"using\").to(__.V(\"TERM-33\")).property(id,\"539-TERM\").V(539).addE(\"to\").to(__.V(\"STORE\")).property(id,\"539-MCC\").\n",
    "V(544).addE(\"using\").to(__.V(\"TERM-29\")).property(id,\"544-TERM\").V(544).addE(\"to\").to(__.V(\"LAUNDRY\")).property(id,\"544-MCC\").\n",
    "V(18080).addE(\"using\").to(__.V(\"TERM-69\")).property(id,\"18080-TERM\").V(18080).addE(\"to\").to(__.V(\"PARKING\")).property(id,\"18080-MCC\").\n",
    "V(18109).addE(\"using\").to(__.V(\"TERM-68\")).property(id,\"18109-TERM\").V(18109).addE(\"to\").to(__.V(\"BEVERAGE\")).property(id,\"18109-MCC\").\n",
    "V(18123).addE(\"using\").to(__.V(\"TERM-70\")).property(id,\"18123-TERM\").V(18123).addE(\"to\").to(__.V(\"FOOD\")).property(id,\"18123-MCC\").\n",
    "V(18130).addE(\"using\").to(__.V(\"TERM-24\")).property(id,\"18130-TERM\").V(18130).addE(\"to\").to(__.V(\"STORE\")).property(id,\"18130-MCC\").\n",
    "V(18168).addE(\"using\").to(__.V(\"TERM-6\")).property(id,\"18168-TERM\").V(18168).addE(\"to\").to(__.V(\"STORE\")).property(id,\"18168-MCC\").\n",
    "V(614).addE(\"using\").to(__.V(\"TERM-71\")).property(id,\"614-TERM\").V(614).addE(\"to\").to(__.V(\"PARKING\")).property(id,\"614-MCC\").\n",
    "V(632).addE(\"using\").to(__.V(\"TERM-17\")).property(id,\"632-TERM\").V(632).addE(\"to\").to(__.V(\"DRUG_STORE\")).property(id,\"632-MCC\").\n",
    "V(613).addE(\"using\").to(__.V(\"TERM-30\")).property(id,\"613-TERM\").V(613).addE(\"to\").to(__.V(\"COMPUTER\")).property(id,\"613-MCC\").\n",
    "V(633).addE(\"using\").to(__.V(\"TERM-84\")).property(id,\"633-TERM\").V(633).addE(\"to\").to(__.V(\"STORE\")).property(id,\"633-MCC\").\n",
    "V(730).addE(\"using\").to(__.V(\"TERM-7\")).property(id,\"730-TERM\").V(730).addE(\"to\").to(__.V(\"GIFT\")).property(id,\"730-MCC\").\n",
    "V(689).addE(\"using\").to(__.V(\"TERM-91\")).property(id,\"689-TERM\").V(689).addE(\"to\").to(__.V(\"BEVERAGE\")).property(id,\"689-MCC\").\n",
    "V(729).addE(\"using\").to(__.V(\"TERM-27\")).property(id,\"729-TERM\").V(729).addE(\"to\").to(__.V(\"GAS\")).property(id,\"729-MCC\").\n",
    "V(765).addE(\"using\").to(__.V(\"TERM-27\")).property(id,\"765-TERM\").V(765).addE(\"to\").to(__.V(\"SPORTING\")).property(id,\"765-MCC\").\n",
    "V(764).addE(\"using\").to(__.V(\"TERM-60\")).property(id,\"764-TERM\").V(764).addE(\"to\").to(__.V(\"MOTOR\")).property(id,\"764-MCC\").\n",
    "V(825).addE(\"using\").to(__.V(\"TERM-76\")).property(id,\"825-TERM\").V(825).addE(\"to\").to(__.V(\"GIFT\")).property(id,\"825-MCC\").\n",
    "V(826).addE(\"using\").to(__.V(\"TERM-33\")).property(id,\"826-TERM\").V(826).addE(\"to\").to(__.V(\"STORE\")).property(id,\"826-MCC\").\n",
    "V(837).addE(\"using\").to(__.V(\"TERM-44\")).property(id,\"837-TERM\").V(837).addE(\"to\").to(__.V(\"MOTOR\")).property(id,\"837-MCC\").\n",
    "V(838).addE(\"using\").to(__.V(\"TERM-8\")).property(id,\"838-TERM\").V(838).addE(\"to\").to(__.V(\"PARKING\")).property(id,\"838-MCC\").\n",
    "V(887).addE(\"using\").to(__.V(\"TERM-79\")).property(id,\"887-TERM\").V(887).addE(\"to\").to(__.V(\"STORE\")).property(id,\"887-MCC\").\n",
    "V(902).addE(\"using\").to(__.V(\"TERM-88\")).property(id,\"902-TERM\").V(902).addE(\"to\").to(__.V(\"GYM\")).property(id,\"902-MCC\").\n",
    "V(988).addE(\"using\").to(__.V(\"TERM-2\")).property(id,\"988-TERM\").V(988).addE(\"to\").to(__.V(\"COSMETIC\")).property(id,\"988-MCC\").\n",
    "V(1047).addE(\"using\").to(__.V(\"TERM-74\")).property(id,\"1047-TERM\").V(1047).addE(\"to\").to(__.V(\"GAS\")).property(id,\"1047-MCC\").\n",
    "V(1046).addE(\"using\").to(__.V(\"TERM-95\")).property(id,\"1046-TERM\").V(1046).addE(\"to\").to(__.V(\"PET\")).property(id,\"1046-MCC\").\n",
    "V(1116).addE(\"using\").to(__.V(\"TERM-66\")).property(id,\"1116-TERM\").V(1116).addE(\"to\").to(__.V(\"GYM\")).property(id,\"1116-MCC\").\n",
    "V(1117).addE(\"using\").to(__.V(\"TERM-89\")).property(id,\"1117-TERM\").V(1117).addE(\"to\").to(__.V(\"COSMETIC\")).property(id,\"1117-MCC\").\n",
    "V(1153).addE(\"using\").to(__.V(\"TERM-55\")).property(id,\"1153-TERM\").V(1153).addE(\"to\").to(__.V(\"DRUG_STORE\")).property(id,\"1153-MCC\").\n",
    "V(1152).addE(\"using\").to(__.V(\"TERM-70\")).property(id,\"1152-TERM\").V(1152).addE(\"to\").to(__.V(\"CASH\")).property(id,\"1152-MCC\").\n",
    "V(18210).addE(\"using\").to(__.V(\"TERM-44\")).property(id,\"18210-TERM\").V(18210).addE(\"to\").to(__.V(\"CINEMA\")).property(id,\"18210-MCC\").\n",
    "V(18215).addE(\"using\").to(__.V(\"TERM-87\")).property(id,\"18215-TERM\").V(18215).addE(\"to\").to(__.V(\"FOOD\")).property(id,\"18215-MCC\").\n",
    "V(1170).addE(\"using\").to(__.V(\"TERM-85\")).property(id,\"1170-TERM\").V(1170).addE(\"to\").to(__.V(\"GYM\")).property(id,\"1170-MCC\").\n",
    "V(1171).addE(\"using\").to(__.V(\"TERM-87\")).property(id,\"1171-TERM\").V(1171).addE(\"to\").to(__.V(\"LAUNDRY\")).property(id,\"1171-MCC\").\n",
    "V(1325).addE(\"using\").to(__.V(\"TERM-97\")).property(id,\"1325-TERM\").V(1325).addE(\"to\").to(__.V(\"CASH\")).property(id,\"1325-MCC\").\n",
    "V(1319).addE(\"using\").to(__.V(\"TERM-25\")).property(id,\"1319-TERM\").V(1319).addE(\"to\").to(__.V(\"MOTOR\")).property(id,\"1319-MCC\").\n",
    "V(1373).addE(\"using\").to(__.V(\"TERM-75\")).property(id,\"1373-TERM\").V(1373).addE(\"to\").to(__.V(\"PARKING\")).property(id,\"1373-MCC\").\n",
    "V(1450).addE(\"using\").to(__.V(\"TERM-34\")).property(id,\"1450-TERM\").V(1450).addE(\"to\").to(__.V(\"FOOD\")).property(id,\"1450-MCC\").\n",
    "V(1411).addE(\"using\").to(__.V(\"TERM-74\")).property(id,\"1411-TERM\").V(1411).addE(\"to\").to(__.V(\"BOOK\")).property(id,\"1411-MCC\").\n",
    "V(1451).addE(\"using\").to(__.V(\"TERM-30\")).property(id,\"1451-TERM\").V(1451).addE(\"to\").to(__.V(\"COMPUTER\")).property(id,\"1451-MCC\").\n",
    "V(1502).addE(\"using\").to(__.V(\"TERM-93\")).property(id,\"1502-TERM\").V(1502).addE(\"to\").to(__.V(\"PARKING\")).property(id,\"1502-MCC\").\n",
    "V(1566).addE(\"using\").to(__.V(\"TERM-51\")).property(id,\"1566-TERM\").V(1566).addE(\"to\").to(__.V(\"GYM\")).property(id,\"1566-MCC\").\n",
    "V(1589).addE(\"using\").to(__.V(\"TERM-94\")).property(id,\"1589-TERM\").V(1589).addE(\"to\").to(__.V(\"SPORTING\")).property(id,\"1589-MCC\").\n",
    "V(1588).addE(\"using\").to(__.V(\"TERM-78\")).property(id,\"1588-TERM\").V(1588).addE(\"to\").to(__.V(\"GYM\")).property(id,\"1588-MCC\").\n",
    "V(1702).addE(\"using\").to(__.V(\"TERM-79\")).property(id,\"1702-TERM\").V(1702).addE(\"to\").to(__.V(\"STORE\")).property(id,\"1702-MCC\").\n",
    "V(1703).addE(\"using\").to(__.V(\"TERM-13\")).property(id,\"1703-TERM\").V(1703).addE(\"to\").to(__.V(\"LAUNDRY\")).property(id,\"1703-MCC\").\n",
    "V(1709).addE(\"using\").to(__.V(\"TERM-54\")).property(id,\"1709-TERM\").V(1709).addE(\"to\").to(__.V(\"DRUG_STORE\")).property(id,\"1709-MCC\").\n",
    "V(18289).addE(\"using\").to(__.V(\"TERM-6\")).property(id,\"18289-TERM\").V(18289).addE(\"to\").to(__.V(\"PARKING\")).property(id,\"18289-MCC\").\n",
    "V(18301).addE(\"using\").to(__.V(\"TERM-9\")).property(id,\"18301-TERM\").V(18301).addE(\"to\").to(__.V(\"BEVERAGE\")).property(id,\"18301-MCC\").\n",
    "V(18333).addE(\"using\").to(__.V(\"TERM-68\")).property(id,\"18333-TERM\").V(18333).addE(\"to\").to(__.V(\"STORE\")).property(id,\"18333-MCC\").\n",
    "V(18387).addE(\"using\").to(__.V(\"TERM-56\")).property(id,\"18387-TERM\").V(18387).addE(\"to\").to(__.V(\"BEVERAGE\")).property(id,\"18387-MCC\").\n",
    "V(1768).addE(\"using\").to(__.V(\"TERM-2\")).property(id,\"1768-TERM\").V(1768).addE(\"to\").to(__.V(\"MOTOR\")).property(id,\"1768-MCC\").\n",
    "V(1798).addE(\"using\").to(__.V(\"TERM-96\")).property(id,\"1798-TERM\").V(1798).addE(\"to\").to(__.V(\"CINEMA\")).property(id,\"1798-MCC\").\n",
    "V(1781).addE(\"using\").to(__.V(\"TERM-80\")).property(id,\"1781-TERM\").V(1781).addE(\"to\").to(__.V(\"COMPUTER\")).property(id,\"1781-MCC\").\n",
    "V(1797).addE(\"using\").to(__.V(\"TERM-97\")).property(id,\"1797-TERM\").V(1797).addE(\"to\").to(__.V(\"GYM\")).property(id,\"1797-MCC\").\n",
    "V(1782).addE(\"using\").to(__.V(\"TERM-86\")).property(id,\"1782-TERM\").V(1782).addE(\"to\").to(__.V(\"DRUG_STORE\")).property(id,\"1782-MCC\").\n",
    "V(1840).addE(\"using\").to(__.V(\"TERM-95\")).property(id,\"1840-TERM\").V(1840).addE(\"to\").to(__.V(\"LAUNDRY\")).property(id,\"1840-MCC\").\n",
    "V(1841).addE(\"using\").to(__.V(\"TERM-61\")).property(id,\"1841-TERM\").V(1841).addE(\"to\").to(__.V(\"GYM\")).property(id,\"1841-MCC\").\n",
    "V(1934).addE(\"using\").to(__.V(\"TERM-61\")).property(id,\"1934-TERM\").V(1934).addE(\"to\").to(__.V(\"CASH\")).property(id,\"1934-MCC\").\n",
    "V(1933).addE(\"using\").to(__.V(\"TERM-9\")).property(id,\"1933-TERM\").V(1933).addE(\"to\").to(__.V(\"SPORTING\")).property(id,\"1933-MCC\").\n",
    "V(1908).addE(\"using\").to(__.V(\"TERM-78\")).property(id,\"1908-TERM\").V(1908).addE(\"to\").to(__.V(\"CINEMA\")).property(id,\"1908-MCC\").\n",
    "V(1948).addE(\"using\").to(__.V(\"TERM-63\")).property(id,\"1948-TERM\").V(1948).addE(\"to\").to(__.V(\"STORE\")).property(id,\"1948-MCC\").\n",
    "V(1947).addE(\"using\").to(__.V(\"TERM-27\")).property(id,\"1947-TERM\").V(1947).addE(\"to\").to(__.V(\"BOOK\")).property(id,\"1947-MCC\").\n",
    "V(2070).addE(\"using\").to(__.V(\"TERM-71\")).property(id,\"2070-TERM\").V(2070).addE(\"to\").to(__.V(\"GYM\")).property(id,\"2070-MCC\").\n",
    "V(2104).addE(\"using\").to(__.V(\"TERM-9\")).property(id,\"2104-TERM\").V(2104).addE(\"to\").to(__.V(\"DRUG_STORE\")).property(id,\"2104-MCC\").\n",
    "V(2103).addE(\"using\").to(__.V(\"TERM-90\")).property(id,\"2103-TERM\").V(2103).addE(\"to\").to(__.V(\"DRUG_STORE\")).property(id,\"2103-MCC\").\n",
    "V(2071).addE(\"using\").to(__.V(\"TERM-31\")).property(id,\"2071-TERM\").V(2071).addE(\"to\").to(__.V(\"BOOK\")).property(id,\"2071-MCC\").\n",
    "V(2221).addE(\"using\").to(__.V(\"TERM-89\")).property(id,\"2221-TERM\").V(2221).addE(\"to\").to(__.V(\"LAUNDRY\")).property(id,\"2221-MCC\").\n",
    "V(2222).addE(\"using\").to(__.V(\"TERM-22\")).property(id,\"2222-TERM\").V(2222).addE(\"to\").to(__.V(\"LAUNDRY\")).property(id,\"2222-MCC\").\n",
    "V(18485).addE(\"using\").to(__.V(\"TERM-75\")).property(id,\"18485-TERM\").V(18485).addE(\"to\").to(__.V(\"FOOD\")).property(id,\"18485-MCC\").\n",
    "V(2373).addE(\"using\").to(__.V(\"TERM-6\")).property(id,\"2373-TERM\").V(2373).addE(\"to\").to(__.V(\"BEVERAGE\")).property(id,\"2373-MCC\").\n",
    "V(2340).addE(\"using\").to(__.V(\"TERM-81\")).property(id,\"2340-TERM\").V(2340).addE(\"to\").to(__.V(\"CINEMA\")).property(id,\"2340-MCC\").\n",
    "V(2335).addE(\"using\").to(__.V(\"TERM-100\")).property(id,\"2335-TERM\").V(2335).addE(\"to\").to(__.V(\"COSMETIC\")).property(id,\"2335-MCC\").\n",
    "V(2341).addE(\"using\").to(__.V(\"TERM-34\")).property(id,\"2341-TERM\").V(2341).addE(\"to\").to(__.V(\"SPORTING\")).property(id,\"2341-MCC\").\n",
    "V(2334).addE(\"using\").to(__.V(\"TERM-37\")).property(id,\"2334-TERM\").V(2334).addE(\"to\").to(__.V(\"SPORTING\")).property(id,\"2334-MCC\").\n",
    "V(2403).addE(\"using\").to(__.V(\"TERM-63\")).property(id,\"2403-TERM\").V(2403).addE(\"to\").to(__.V(\"COSMETIC\")).property(id,\"2403-MCC\").\n",
    "V(2404).addE(\"using\").to(__.V(\"TERM-28\")).property(id,\"2404-TERM\").V(2404).addE(\"to\").to(__.V(\"COMPUTER\")).property(id,\"2404-MCC\").\n",
    "V(2554).addE(\"using\").to(__.V(\"TERM-86\")).property(id,\"2554-TERM\").V(2554).addE(\"to\").to(__.V(\"GAS\")).property(id,\"2554-MCC\").\n",
    "V(2555).addE(\"using\").to(__.V(\"TERM-34\")).property(id,\"2555-TERM\").V(2555).addE(\"to\").to(__.V(\"CASH\")).property(id,\"2555-MCC\").\n",
    "V(2571).addE(\"using\").to(__.V(\"TERM-99\")).property(id,\"2571-TERM\").V(2571).addE(\"to\").to(__.V(\"BOOK\")).property(id,\"2571-MCC\").\n",
    "V(2570).addE(\"using\").to(__.V(\"TERM-57\")).property(id,\"2570-TERM\").V(2570).addE(\"to\").to(__.V(\"PET\")).property(id,\"2570-MCC\").\n",
    "V(2670).addE(\"using\").to(__.V(\"TERM-48\")).property(id,\"2670-TERM\").V(2670).addE(\"to\").to(__.V(\"GIFT\")).property(id,\"2670-MCC\").\n",
    "V(2695).addE(\"using\").to(__.V(\"TERM-29\")).property(id,\"2695-TERM\").V(2695).addE(\"to\").to(__.V(\"STORE\")).property(id,\"2695-MCC\").\n",
    "V(2738).addE(\"using\").to(__.V(\"TERM-3\")).property(id,\"2738-TERM\").V(2738).addE(\"to\").to(__.V(\"LAUNDRY\")).property(id,\"2738-MCC\").\n",
    "V(2754).addE(\"using\").to(__.V(\"TERM-75\")).property(id,\"2754-TERM\").V(2754).addE(\"to\").to(__.V(\"CASH\")).property(id,\"2754-MCC\").\n",
    "V(2753).addE(\"using\").to(__.V(\"TERM-66\")).property(id,\"2753-TERM\").V(2753).addE(\"to\").to(__.V(\"DRUG_STORE\")).property(id,\"2753-MCC\").\n",
    "V(2739).addE(\"using\").to(__.V(\"TERM-74\")).property(id,\"2739-TERM\").V(2739).addE(\"to\").to(__.V(\"PET\")).property(id,\"2739-MCC\").\n",
    "V(18520).addE(\"using\").to(__.V(\"TERM-67\")).property(id,\"18520-TERM\").V(18520).addE(\"to\").to(__.V(\"PARKING\")).property(id,\"18520-MCC\").\n",
    "V(2893).addE(\"using\").to(__.V(\"TERM-34\")).property(id,\"2893-TERM\").V(2893).addE(\"to\").to(__.V(\"LAUNDRY\")).property(id,\"2893-MCC\")"
   ]
  },
  {
   "cell_type": "code",
   "execution_count": 49,
   "id": "0f8dcbd4-c494-481b-94e8-c75136162250",
   "metadata": {
    "tags": []
   },
   "outputs": [
    {
     "data": {
      "application/vnd.jupyter.widget-view+json": {
       "model_id": "521c1b802cf349698050f5c5d7e6f7bc",
       "version_major": 2,
       "version_minor": 0
      },
      "text/plain": [
       "Tab(children=(Output(layout=Layout(max_height='600px', max_width='940px', overflow='scroll')), Output(layout=L…"
      ]
     },
     "metadata": {},
     "output_type": "display_data"
    }
   ],
   "source": [
    "%%gremlin\n",
    "\n",
    "g.V(142).addE(\"pay_with\").to(__.V(\"111.000.002.191\")).property(id,\"142-CARD\").\n",
    "V(147).addE(\"pay_with\").to(__.V(\"111.000.000.051\")).property(id,\"147-CARD\").\n",
    "V(202).addE(\"pay_with\").to(__.V(\"111.000.002.179\")).property(id,\"202-CARD\").\n",
    "V(179).addE(\"pay_with\").to(__.V(\"111.000.001.343\")).property(id,\"179-CARD\").\n",
    "V(337).addE(\"pay_with\").to(__.V(\"111.000.000.529\")).property(id,\"337-CARD\").\n",
    "V(338).addE(\"pay_with\").to(__.V(\"111.000.000.529\")).property(id,\"338-CARD\").\n",
    "V(505).addE(\"pay_with\").to(__.V(\"111.000.002.066\")).property(id,\"505-CARD\").\n",
    "V(479).addE(\"pay_with\").to(__.V(\"111.000.000.554\")).property(id,\"479-CARD\").\n",
    "V(506).addE(\"pay_with\").to(__.V(\"111.000.002.066\")).property(id,\"506-CARD\").\n",
    "V(478).addE(\"pay_with\").to(__.V(\"111.000.000.554\")).property(id,\"478-CARD\").\n",
    "V(540).addE(\"pay_with\").to(__.V(\"111.000.002.135\")).property(id,\"540-CARD\").\n",
    "V(543).addE(\"pay_with\").to(__.V(\"111.000.002.305\")).property(id,\"543-CARD\").\n",
    "V(539).addE(\"pay_with\").to(__.V(\"111.000.002.135\")).property(id,\"539-CARD\").\n",
    "V(544).addE(\"pay_with\").to(__.V(\"111.000.002.305\")).property(id,\"544-CARD\").\n",
    "V(18080).addE(\"pay_with\").to(__.V(\"111.000.000.490\")).property(id,\"18080-CARD\").\n",
    "V(18109).addE(\"pay_with\").to(__.V(\"111.000.002.283\")).property(id,\"18109-CARD\").\n",
    "V(18123).addE(\"pay_with\").to(__.V(\"111.000.000.877\")).property(id,\"18123-CARD\").\n",
    "V(18130).addE(\"pay_with\").to(__.V(\"111.000.000.266\")).property(id,\"18130-CARD\").\n",
    "V(18168).addE(\"pay_with\").to(__.V(\"111.000.000.464\")).property(id,\"18168-CARD\").\n",
    "V(614).addE(\"pay_with\").to(__.V(\"111.000.000.677\")).property(id,\"614-CARD\").\n",
    "V(632).addE(\"pay_with\").to(__.V(\"111.000.001.573\")).property(id,\"632-CARD\").\n",
    "V(613).addE(\"pay_with\").to(__.V(\"111.000.000.677\")).property(id,\"613-CARD\").\n",
    "V(633).addE(\"pay_with\").to(__.V(\"111.000.001.573\")).property(id,\"633-CARD\").\n",
    "V(730).addE(\"pay_with\").to(__.V(\"111.000.002.479\")).property(id,\"730-CARD\").\n",
    "V(689).addE(\"pay_with\").to(__.V(\"111.000.001.219\")).property(id,\"689-CARD\").\n",
    "V(729).addE(\"pay_with\").to(__.V(\"111.000.002.479\")).property(id,\"729-CARD\").\n",
    "V(765).addE(\"pay_with\").to(__.V(\"111.000.000.093\")).property(id,\"765-CARD\").\n",
    "V(764).addE(\"pay_with\").to(__.V(\"111.000.000.093\")).property(id,\"764-CARD\").\n",
    "V(825).addE(\"pay_with\").to(__.V(\"111.000.000.326\")).property(id,\"825-CARD\").\n",
    "V(826).addE(\"pay_with\").to(__.V(\"111.000.000.326\")).property(id,\"826-CARD\").\n",
    "V(837).addE(\"pay_with\").to(__.V(\"111.000.000.677\")).property(id,\"837-CARD\").\n",
    "V(838).addE(\"pay_with\").to(__.V(\"111.000.000.677\")).property(id,\"838-CARD\").\n",
    "V(887).addE(\"pay_with\").to(__.V(\"111.000.002.135\")).property(id,\"887-CARD\").\n",
    "V(902).addE(\"pay_with\").to(__.V(\"111.000.002.459\")).property(id,\"902-CARD\").\n",
    "V(988).addE(\"pay_with\").to(__.V(\"111.000.001.060\")).property(id,\"988-CARD\").\n",
    "V(1047).addE(\"pay_with\").to(__.V(\"111.000.001.819\")).property(id,\"1047-CARD\").\n",
    "V(1046).addE(\"pay_with\").to(__.V(\"111.000.001.819\")).property(id,\"1046-CARD\").\n",
    "V(1116).addE(\"pay_with\").to(__.V(\"111.000.000.047\")).property(id,\"1116-CARD\").\n",
    "V(1117).addE(\"pay_with\").to(__.V(\"111.000.000.047\")).property(id,\"1117-CARD\").\n",
    "V(1153).addE(\"pay_with\").to(__.V(\"111.000.002.155\")).property(id,\"1153-CARD\").\n",
    "V(1152).addE(\"pay_with\").to(__.V(\"111.000.002.155\")).property(id,\"1152-CARD\").\n",
    "V(18210).addE(\"pay_with\").to(__.V(\"111.000.002.283\")).property(id,\"18210-CARD\").\n",
    "V(18215).addE(\"pay_with\").to(__.V(\"111.000.001.573\")).property(id,\"18215-CARD\").\n",
    "V(1170).addE(\"pay_with\").to(__.V(\"111.000.000.464\")).property(id,\"1170-CARD\").\n",
    "V(1171).addE(\"pay_with\").to(__.V(\"111.000.000.464\")).property(id,\"1171-CARD\").\n",
    "V(1325).addE(\"pay_with\").to(__.V(\"111.000.001.223\")).property(id,\"1325-CARD\").\n",
    "V(1319).addE(\"pay_with\").to(__.V(\"111.000.000.863\")).property(id,\"1319-CARD\").\n",
    "V(1373).addE(\"pay_with\").to(__.V(\"111.000.001.641\")).property(id,\"1373-CARD\").\n",
    "V(1450).addE(\"pay_with\").to(__.V(\"111.000.002.191\")).property(id,\"1450-CARD\").\n",
    "V(1411).addE(\"pay_with\").to(__.V(\"111.000.000.683\")).property(id,\"1411-CARD\").\n",
    "V(1451).addE(\"pay_with\").to(__.V(\"111.000.002.191\")).property(id,\"1451-CARD\").\n",
    "V(1502).addE(\"pay_with\").to(__.V(\"111.000.002.355\")).property(id,\"1502-CARD\").\n",
    "V(1566).addE(\"pay_with\").to(__.V(\"111.000.001.794\")).property(id,\"1566-CARD\").\n",
    "V(1589).addE(\"pay_with\").to(__.V(\"111.000.002.434\")).property(id,\"1589-CARD\").\n",
    "V(1588).addE(\"pay_with\").to(__.V(\"111.000.002.434\")).property(id,\"1588-CARD\").\n",
    "V(1702).addE(\"pay_with\").to(__.V(\"111.000.001.658\")).property(id,\"1702-CARD\").\n",
    "V(1703).addE(\"pay_with\").to(__.V(\"111.000.001.658\")).property(id,\"1703-CARD\").\n",
    "V(1709).addE(\"pay_with\").to(__.V(\"111.000.002.066\")).property(id,\"1709-CARD\").\n",
    "V(18289).addE(\"pay_with\").to(__.V(\"111.000.001.878\")).property(id,\"18289-CARD\").\n",
    "V(18301).addE(\"pay_with\").to(__.V(\"111.000.001.530\")).property(id,\"18301-CARD\").\n",
    "V(18333).addE(\"pay_with\").to(__.V(\"111.000.000.515\")).property(id,\"18333-CARD\").\n",
    "V(18387).addE(\"pay_with\").to(__.V(\"111.000.001.078\")).property(id,\"18387-CARD\").\n",
    "V(1768).addE(\"pay_with\").to(__.V(\"111.000.002.057\")).property(id,\"1768-CARD\").\n",
    "V(1798).addE(\"pay_with\").to(__.V(\"111.000.000.945\")).property(id,\"1798-CARD\").\n",
    "V(1781).addE(\"pay_with\").to(__.V(\"111.000.000.150\")).property(id,\"1781-CARD\").\n",
    "V(1797).addE(\"pay_with\").to(__.V(\"111.000.000.945\")).property(id,\"1797-CARD\").\n",
    "V(1782).addE(\"pay_with\").to(__.V(\"111.000.000.150\")).property(id,\"1782-CARD\").\n",
    "V(1840).addE(\"pay_with\").to(__.V(\"111.000.000.464\")).property(id,\"1840-CARD\").\n",
    "V(1841).addE(\"pay_with\").to(__.V(\"111.000.000.464\")).property(id,\"1841-CARD\").\n",
    "V(1934).addE(\"pay_with\").to(__.V(\"111.000.002.479\")).property(id,\"1934-CARD\").\n",
    "V(1933).addE(\"pay_with\").to(__.V(\"111.000.002.479\")).property(id,\"1933-CARD\").\n",
    "V(1908).addE(\"pay_with\").to(__.V(\"111.000.000.529\")).property(id,\"1908-CARD\").\n",
    "V(1948).addE(\"pay_with\").to(__.V(\"111.000.001.223\")).property(id,\"1948-CARD\").\n",
    "V(1947).addE(\"pay_with\").to(__.V(\"111.000.001.223\")).property(id,\"1947-CARD\").\n",
    "V(2070).addE(\"pay_with\").to(__.V(\"111.000.000.490\")).property(id,\"2070-CARD\").\n",
    "V(2104).addE(\"pay_with\").to(__.V(\"111.000.002.155\")).property(id,\"2104-CARD\").\n",
    "V(2103).addE(\"pay_with\").to(__.V(\"111.000.002.155\")).property(id,\"2103-CARD\").\n",
    "V(2071).addE(\"pay_with\").to(__.V(\"111.000.000.490\")).property(id,\"2071-CARD\").\n",
    "V(2221).addE(\"pay_with\").to(__.V(\"111.000.001.878\")).property(id,\"2221-CARD\").\n",
    "V(2222).addE(\"pay_with\").to(__.V(\"111.000.001.878\")).property(id,\"2222-CARD\").\n",
    "V(18485).addE(\"pay_with\").to(__.V(\"111.000.001.550\")).property(id,\"18485-CARD\").\n",
    "V(2373).addE(\"pay_with\").to(__.V(\"111.000.002.434\")).property(id,\"2373-CARD\").\n",
    "V(2340).addE(\"pay_with\").to(__.V(\"111.000.001.111\")).property(id,\"2340-CARD\").\n",
    "V(2335).addE(\"pay_with\").to(__.V(\"111.000.000.817\")).property(id,\"2335-CARD\").\n",
    "V(2341).addE(\"pay_with\").to(__.V(\"111.000.001.111\")).property(id,\"2341-CARD\").\n",
    "V(2334).addE(\"pay_with\").to(__.V(\"111.000.000.817\")).property(id,\"2334-CARD\").\n",
    "V(2403).addE(\"pay_with\").to(__.V(\"111.000.001.060\")).property(id,\"2403-CARD\").\n",
    "V(2404).addE(\"pay_with\").to(__.V(\"111.000.001.060\")).property(id,\"2404-CARD\").\n",
    "V(2554).addE(\"pay_with\").to(__.V(\"111.000.001.817\")).property(id,\"2554-CARD\").\n",
    "V(2555).addE(\"pay_with\").to(__.V(\"111.000.001.817\")).property(id,\"2555-CARD\").\n",
    "V(2571).addE(\"pay_with\").to(__.V(\"111.000.000.181\")).property(id,\"2571-CARD\").\n",
    "V(2570).addE(\"pay_with\").to(__.V(\"111.000.000.181\")).property(id,\"2570-CARD\").\n",
    "V(2670).addE(\"pay_with\").to(__.V(\"111.000.001.530\")).property(id,\"2670-CARD\").\n",
    "V(2695).addE(\"pay_with\").to(__.V(\"111.000.000.464\")).property(id,\"2695-CARD\").\n",
    "V(2738).addE(\"pay_with\").to(__.V(\"111.000.000.093\")).property(id,\"2738-CARD\").\n",
    "V(2754).addE(\"pay_with\").to(__.V(\"111.000.000.683\")).property(id,\"2754-CARD\").\n",
    "V(2753).addE(\"pay_with\").to(__.V(\"111.000.000.683\")).property(id,\"2753-CARD\").\n",
    "V(2739).addE(\"pay_with\").to(__.V(\"111.000.000.093\")).property(id,\"2739-CARD\").\n",
    "V(18520).addE(\"pay_with\").to(__.V(\"111.000.001.272\")).property(id,\"18520-CARD\").\n",
    "V(2893).addE(\"pay_with\").to(__.V(\"111.000.002.305\")).property(id,\"2893-CARD\")"
   ]
  },
  {
   "cell_type": "code",
   "execution_count": 1,
   "id": "66609cdc-2336-4b60-ae35-31de8a9c55c2",
   "metadata": {
    "tags": []
   },
   "outputs": [
    {
     "data": {
      "application/vnd.jupyter.widget-view+json": {
       "model_id": "59f8718398e54788a96973a369d00017",
       "version_major": 2,
       "version_minor": 0
      },
      "text/plain": [
       "Tab(children=(Output(layout=Layout(overflow='scroll')),), _titles={'0': 'Error'})"
      ]
     },
     "metadata": {},
     "output_type": "display_data"
    }
   ],
   "source": [
    "%%gremlin\n",
    "\n",
    "g.V().groupCount().by(label).unfold()"
   ]
  },
  {
   "cell_type": "code",
   "execution_count": null,
   "id": "8e187bc8-c3ce-4186-b731-b0bc4c702c79",
   "metadata": {},
   "outputs": [],
   "source": []
  },
  {
   "cell_type": "code",
   "execution_count": null,
   "id": "7365e1de-1f8a-4dfe-83ee-ca3cf19c89c0",
   "metadata": {},
   "outputs": [],
   "source": []
  }
 ],
 "metadata": {
  "kernelspec": {
   "display_name": "Python 3",
   "language": "python",
   "name": "python3"
  },
  "language_info": {
   "codemirror_mode": {
    "name": "ipython",
    "version": 3
   },
   "file_extension": ".py",
   "mimetype": "text/x-python",
   "name": "python",
   "nbconvert_exporter": "python",
   "pygments_lexer": "ipython3",
   "version": "3.8.10"
  }
 },
 "nbformat": 4,
 "nbformat_minor": 5
}
