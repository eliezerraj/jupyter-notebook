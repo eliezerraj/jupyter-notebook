{
 "cells": [
  {
   "cell_type": "code",
   "execution_count": 8,
   "id": "79077e83-a56d-453e-bead-5b4e7cfd48a2",
   "metadata": {
    "tags": []
   },
   "outputs": [],
   "source": [
    "# Load Libraries\n",
    "import pandas as pd\n",
    "import os\n",
    "import datetime\n",
    "import json"
   ]
  },
  {
   "cell_type": "code",
   "execution_count": 9,
   "id": "34af6d9e-79a7-4ce9-944b-c61415bcc67e",
   "metadata": {
    "tags": []
   },
   "outputs": [],
   "source": [
    "from gremlin_python.structure.graph import Graph\n",
    "from gremlin_python.process.traversal import T\n",
    "from gremlin_python.process.graph_traversal import __\n",
    "from gremlin_python.driver.driver_remote_connection import DriverRemoteConnection\n",
    "from gremlin_python.driver.aiohttp.transport import AiohttpTransport"
   ]
  },
  {
   "cell_type": "code",
   "execution_count": 10,
   "id": "aac6e218-bc9f-4ab3-a1a2-75e239d5fe66",
   "metadata": {
    "tags": []
   },
   "outputs": [],
   "source": [
    "def load_vertex(fdataset_name, fdata_bucket_name):\n",
    "    print(\"loading vertex \" + fdataset_name)\n",
    "    \n",
    "    # Load data from json\n",
    "    data_location = '{}/{}'.format(fdata_bucket_name, fdataset_name)\n",
    "\n",
    "    # Load json to datafrase\n",
    "    vertex_data = {}\n",
    "    with open(data_location, 'r') as jf:\n",
    "        vertex_data = json.load(jf)\n",
    "\n",
    "    # Load to graph\n",
    "    for data in vertex_data:\n",
    "        vertex_id = data['id']\n",
    "        label = data['label']\n",
    "        properties = data['properties']\n",
    "        name = data['id']\n",
    "\n",
    "        #Insert with PK\n",
    "        vertex = g.addV(label).property(T.id, vertex_id)\n",
    "        # Insert without PK (duplicate data)\n",
    "        #vertex = g.addV(label).property('id', vertex_id)\n",
    "\n",
    "        # Add properties to the vertex\n",
    "        for key, value in properties.items():\n",
    "            vertex = vertex.property(key, value)\n",
    "\n",
    "        # Execute the query\n",
    "        try:\n",
    "            vertex.next()\n",
    "        except Exception as error:\n",
    "          print(\"Vertex error => An exception occurred:\", error)"
   ]
  },
  {
   "cell_type": "code",
   "execution_count": 11,
   "id": "3fd63961-c494-4cb2-8150-ced1de430605",
   "metadata": {
    "tags": []
   },
   "outputs": [],
   "source": [
    "def load_edge(fdataset_name, fdata_bucket_name):\n",
    "    print(\"loading edge \" + fdataset_name)\n",
    "    \n",
    "    # Load data from json\n",
    "    data_location = '{}/{}'.format(fdata_bucket_name, fdataset_name)\n",
    "\n",
    "    # Load json to datafrase\n",
    "    edge_data = {}\n",
    "    with open(data_location, 'r') as jf:\n",
    "        edge_data = json.load(jf)\n",
    "\n",
    "    #print(edge_data)\n",
    "    \n",
    "    # Load to graph\n",
    "    for data in edge_data:\n",
    "        from_id = data['from_id']\n",
    "        to_id = data['to_id']\n",
    "        edge_label = data['label']\n",
    "        edge_properties = data['properties']\n",
    "\n",
    "        # Create the edge with the given label and properties\n",
    "        edge = g.V(from_id).as_('a').V(to_id).addE(edge_label).from_('a')\n",
    "\n",
    "        # Add properties to the edge\n",
    "        for key, value in edge_properties.items():\n",
    "            edge = edge.property(key, value)\n",
    "        \n",
    "        # Execute the query\n",
    "        try:\n",
    "            edge.next()\n",
    "        except Exception as error:\n",
    "          print(\"Edge error => An exception occurred:\", error , \"|\" , edge )"
   ]
  },
  {
   "cell_type": "code",
   "execution_count": 12,
   "id": "51fe809d-b960-4332-93f2-35a798f6dc1f",
   "metadata": {
    "tags": []
   },
   "outputs": [],
   "source": [
    "# Prepare connection\n",
    "endpoint = 'ws://127.0.0.1:8182/gremlin'\n",
    "connection = DriverRemoteConnection(endpoint,'g',\n",
    "                 transport_factory=lambda:AiohttpTransport(call_from_event_loop=True))\n",
    "\n",
    "graph = Graph()\n",
    "g = graph.traversal().withRemote(connection)"
   ]
  },
  {
   "cell_type": "markdown",
   "id": "fc07353e-6aae-453d-b02f-9a2a12a481e6",
   "metadata": {},
   "source": [
    "# Load data"
   ]
  },
  {
   "cell_type": "code",
   "execution_count": 13,
   "id": "bb3eb801-2834-4dfe-b8cb-ee66430e338f",
   "metadata": {
    "tags": []
   },
   "outputs": [
    {
     "name": "stdout",
     "output_type": "stream",
     "text": [
      "loading vertex person_vertex.json\n",
      "loading vertex terminal_vertex.json\n",
      "loading vertex merchant_vertex.json\n",
      "loading vertex account_vertex.json\n",
      "loading vertex card_vertex.json\n",
      "loading vertex payment_vertex.json\n"
     ]
    }
   ],
   "source": [
    "data_bucket_name = \"/mnt/c/Eliezer/workspace/github.com/jupyter-notebook/graph/dataset\"\n",
    "\n",
    "dataset_name = 'person_vertex.json'\n",
    "load_vertex(dataset_name, data_bucket_name)\n",
    "\n",
    "dataset_name = 'account_vertex.json'\n",
    "load_vertex(dataset_name, data_bucket_name)\n",
    "\n",
    "dataset_name = 'card_vertex.json'\n",
    "load_vertex(dataset_name, data_bucket_name)\n",
    "\n",
    "dataset_name = 'payment_vertex.json'\n",
    "load_vertex(dataset_name, data_bucket_name)\n",
    "\n",
    "dataset_name = 'terminal_vertex.json'\n",
    "load_vertex(dataset_name, data_bucket_name)\n",
    "\n",
    "dataset_name = 'merchant_vertex.json'\n",
    "load_vertex(dataset_name, data_bucket_name)"
   ]
  },
  {
   "cell_type": "markdown",
   "id": "1125c320-42c6-4538-87a0-82216ac61017",
   "metadata": {},
   "source": [
    "# Load Edge"
   ]
  },
  {
   "cell_type": "code",
   "execution_count": 14,
   "id": "c0e177d1-8919-495b-9149-7919fa250d13",
   "metadata": {
    "tags": []
   },
   "outputs": [
    {
     "name": "stdout",
     "output_type": "stream",
     "text": [
      "loading edge person-account-edge.json\n",
      "loading edge account-card-edge.json\n",
      "loading edge card-payment-edge.json\n",
      "loading edge payment-mcc-edge.json\n",
      "loading edge payment-terminal-edge.json\n"
     ]
    }
   ],
   "source": [
    "dataset_name = 'person-account-edge.json'\n",
    "load_edge(dataset_name, data_bucket_name)\n",
    "\n",
    "dataset_name = 'account-card-edge.json'\n",
    "load_edge(dataset_name, data_bucket_name)\n",
    "\n",
    "dataset_name = 'card-payment-edge.json'\n",
    "load_edge(dataset_name, data_bucket_name)\n",
    "\n",
    "dataset_name = 'payment-mcc-edge.json'\n",
    "load_edge(dataset_name, data_bucket_name)\n",
    "\n",
    "dataset_name = 'payment-terminal-edge.json'\n",
    "load_edge(dataset_name, data_bucket_name)"
   ]
  },
  {
   "cell_type": "markdown",
   "id": "36b0155d-e051-4142-b3d3-cadc013d6ce9",
   "metadata": {},
   "source": [
    "# Query"
   ]
  },
  {
   "cell_type": "code",
   "execution_count": null,
   "id": "55b848bb-9322-476a-b4a6-c26e32826bb8",
   "metadata": {},
   "outputs": [],
   "source": []
  },
  {
   "cell_type": "code",
   "execution_count": null,
   "id": "27c372d9-b0ee-4c42-a042-e773b96fdc4e",
   "metadata": {},
   "outputs": [],
   "source": []
  },
  {
   "cell_type": "code",
   "execution_count": 80,
   "id": "d7c2354b-2fe6-4d24-8fa3-7514d96718ae",
   "metadata": {
    "tags": []
   },
   "outputs": [],
   "source": []
  },
  {
   "cell_type": "code",
   "execution_count": 70,
   "id": "957cdb65-7306-403b-88c9-a8395f67faba",
   "metadata": {
    "tags": []
   },
   "outputs": [
    {
     "name": "stdout",
     "output_type": "stream",
     "text": [
      "data :  P-1 Person-1 20\n",
      "data :  P-2 Person-2 21\n",
      "data :  P-3 Person-3 24\n",
      "data :  P-4 Person-4 20\n",
      "data :  P-5 Person-5 21\n",
      "data :  P-6 Person-6 24\n",
      "data :  P-7 Person-7 24\n",
      "data :  P-8 Person-8 25\n",
      "data :  P-9 Person-9 20\n",
      "data :  P-10 Person-10 20\n",
      "data :  P-11 Person-11 22\n",
      "data :  P-12 Person-12 20\n",
      "data :  P-13 Person-13 19\n",
      "data :  P-14 Person-14 18\n",
      "data :  P-15 Person-15 24\n",
      "data :  P-16 Person-16 18\n",
      "data :  P-17 Person-17 20\n",
      "data :  P-18 Person-18 21\n",
      "data :  P-19 Person-19 18\n",
      "data :  P-20 Person-20 23\n",
      "data :  P-21 Person-21 21\n",
      "data :  P-22 Person-22 25\n",
      "data :  P-23 Person-23 22\n",
      "data :  P-24 Person-24 24\n",
      "data :  P-25 Person-25 18\n",
      "data :  P-26 Person-26 19\n",
      "data :  P-27 Person-27 22\n",
      "data :  P-28 Person-28 21\n",
      "data :  P-29 Person-29 20\n",
      "data :  P-30 Person-30 23\n",
      "data :  P-31 Person-31 19\n",
      "data :  P-32 Person-32 25\n",
      "data :  P-33 Person-33 24\n",
      "data :  P-34 Person-34 19\n",
      "data :  P-35 Person-35 24\n",
      "data :  P-36 Person-36 18\n",
      "data :  P-37 Person-37 19\n",
      "data :  P-38 Person-38 20\n",
      "data :  P-39 Person-39 24\n",
      "data :  P-40 Person-40 20\n",
      "data :  P-41 Person-41 18\n",
      "data :  P-42 Person-42 24\n",
      "data :  P-43 Person-43 25\n",
      "data :  P-44 Person-44 24\n",
      "data :  P-45 Person-45 25\n",
      "data :  P-46 Person-46 18\n",
      "data :  P-47 Person-47 22\n",
      "data :  P-48 Person-48 21\n",
      "data :  P-49 Person-49 24\n",
      "data :  P-50 Person-50 22\n",
      "data :  P-51 Person-51 21\n",
      "data :  P-52 Person-52 22\n",
      "data :  P-53 Person-53 19\n",
      "data :  P-54 Person-54 23\n",
      "data :  P-55 Person-55 25\n",
      "data :  P-56 Person-56 21\n",
      "data :  P-57 Person-57 18\n",
      "data :  P-58 Person-58 22\n",
      "data :  P-59 Person-59 24\n",
      "data :  P-60 Person-60 20\n"
     ]
    },
    {
     "ename": "KeyboardInterrupt",
     "evalue": "",
     "output_type": "error",
     "traceback": [
      "\u001b[0;31m---------------------------------------------------------------------------\u001b[0m",
      "\u001b[0;31mKeyboardInterrupt\u001b[0m                         Traceback (most recent call last)",
      "Cell \u001b[0;32mIn[70], line 10\u001b[0m\n\u001b[1;32m      7\u001b[0m     \u001b[38;5;28mprint\u001b[39m(\u001b[38;5;124m'\u001b[39m\u001b[38;5;124mdata : \u001b[39m\u001b[38;5;124m'\u001b[39m,\u001b[38;5;28mid\u001b[39m, vertex, name)\n\u001b[1;32m      9\u001b[0m     person \u001b[38;5;241m=\u001b[39m g\u001b[38;5;241m.\u001b[39mV(vertex)\u001b[38;5;241m.\u001b[39mproperty(\u001b[38;5;124m'\u001b[39m\u001b[38;5;124mname\u001b[39m\u001b[38;5;124m'\u001b[39m,name)\u001b[38;5;241m.\u001b[39mas_(\u001b[38;5;28mid\u001b[39m)\n\u001b[0;32m---> 10\u001b[0m \u001b[43mperson\u001b[49m\u001b[38;5;241;43m.\u001b[39;49m\u001b[43mnext\u001b[49m\u001b[43m(\u001b[49m\u001b[43m)\u001b[49m\n",
      "File \u001b[0;32m~/.local/lib/python3.8/site-packages/gremlin_python/process/traversal.py:117\u001b[0m, in \u001b[0;36mTraversal.next\u001b[0;34m(self, amount)\u001b[0m\n\u001b[1;32m    115\u001b[0m \u001b[38;5;28;01mdef\u001b[39;00m \u001b[38;5;21mnext\u001b[39m(\u001b[38;5;28mself\u001b[39m, amount\u001b[38;5;241m=\u001b[39m\u001b[38;5;28;01mNone\u001b[39;00m):\n\u001b[1;32m    116\u001b[0m     \u001b[38;5;28;01mif\u001b[39;00m amount \u001b[38;5;129;01mis\u001b[39;00m \u001b[38;5;28;01mNone\u001b[39;00m:\n\u001b[0;32m--> 117\u001b[0m         \u001b[38;5;28;01mreturn\u001b[39;00m \u001b[38;5;28;43mself\u001b[39;49m\u001b[38;5;241;43m.\u001b[39;49m\u001b[38;5;21;43m__next__\u001b[39;49m\u001b[43m(\u001b[49m\u001b[43m)\u001b[49m\n\u001b[1;32m    118\u001b[0m     \u001b[38;5;28;01melse\u001b[39;00m:\n\u001b[1;32m    119\u001b[0m         count \u001b[38;5;241m=\u001b[39m \u001b[38;5;241m0\u001b[39m\n",
      "File \u001b[0;32m~/.local/lib/python3.8/site-packages/gremlin_python/process/traversal.py:48\u001b[0m, in \u001b[0;36mTraversal.__next__\u001b[0;34m(self)\u001b[0m\n\u001b[1;32m     46\u001b[0m \u001b[38;5;28;01mdef\u001b[39;00m \u001b[38;5;21m__next__\u001b[39m(\u001b[38;5;28mself\u001b[39m):\n\u001b[1;32m     47\u001b[0m     \u001b[38;5;28;01mif\u001b[39;00m \u001b[38;5;28mself\u001b[39m\u001b[38;5;241m.\u001b[39mtraversers \u001b[38;5;129;01mis\u001b[39;00m \u001b[38;5;28;01mNone\u001b[39;00m:\n\u001b[0;32m---> 48\u001b[0m         \u001b[38;5;28;43mself\u001b[39;49m\u001b[38;5;241;43m.\u001b[39;49m\u001b[43mtraversal_strategies\u001b[49m\u001b[38;5;241;43m.\u001b[39;49m\u001b[43mapply_strategies\u001b[49m\u001b[43m(\u001b[49m\u001b[38;5;28;43mself\u001b[39;49m\u001b[43m)\u001b[49m\n\u001b[1;32m     49\u001b[0m     \u001b[38;5;28;01mif\u001b[39;00m \u001b[38;5;28mself\u001b[39m\u001b[38;5;241m.\u001b[39mlast_traverser \u001b[38;5;129;01mis\u001b[39;00m \u001b[38;5;28;01mNone\u001b[39;00m:\n\u001b[1;32m     50\u001b[0m         \u001b[38;5;28mself\u001b[39m\u001b[38;5;241m.\u001b[39mlast_traverser \u001b[38;5;241m=\u001b[39m \u001b[38;5;28mnext\u001b[39m(\u001b[38;5;28mself\u001b[39m\u001b[38;5;241m.\u001b[39mtraversers)\n",
      "File \u001b[0;32m~/.local/lib/python3.8/site-packages/gremlin_python/process/traversal.py:684\u001b[0m, in \u001b[0;36mTraversalStrategies.apply_strategies\u001b[0;34m(self, traversal)\u001b[0m\n\u001b[1;32m    682\u001b[0m \u001b[38;5;28;01mdef\u001b[39;00m \u001b[38;5;21mapply_strategies\u001b[39m(\u001b[38;5;28mself\u001b[39m, traversal):\n\u001b[1;32m    683\u001b[0m     \u001b[38;5;28;01mfor\u001b[39;00m traversal_strategy \u001b[38;5;129;01min\u001b[39;00m \u001b[38;5;28mself\u001b[39m\u001b[38;5;241m.\u001b[39mtraversal_strategies:\n\u001b[0;32m--> 684\u001b[0m         \u001b[43mtraversal_strategy\u001b[49m\u001b[38;5;241;43m.\u001b[39;49m\u001b[43mapply\u001b[49m\u001b[43m(\u001b[49m\u001b[43mtraversal\u001b[49m\u001b[43m)\u001b[49m\n",
      "File \u001b[0;32m~/.local/lib/python3.8/site-packages/gremlin_python/driver/remote_connection.py:78\u001b[0m, in \u001b[0;36mRemoteStrategy.apply\u001b[0;34m(self, traversal)\u001b[0m\n\u001b[1;32m     76\u001b[0m \u001b[38;5;28;01mdef\u001b[39;00m \u001b[38;5;21mapply\u001b[39m(\u001b[38;5;28mself\u001b[39m, traversal):\n\u001b[1;32m     77\u001b[0m     \u001b[38;5;28;01mif\u001b[39;00m traversal\u001b[38;5;241m.\u001b[39mtraversers \u001b[38;5;129;01mis\u001b[39;00m \u001b[38;5;28;01mNone\u001b[39;00m:\n\u001b[0;32m---> 78\u001b[0m         remote_traversal \u001b[38;5;241m=\u001b[39m \u001b[38;5;28;43mself\u001b[39;49m\u001b[38;5;241;43m.\u001b[39;49m\u001b[43mremote_connection\u001b[49m\u001b[38;5;241;43m.\u001b[39;49m\u001b[43msubmit\u001b[49m\u001b[43m(\u001b[49m\u001b[43mtraversal\u001b[49m\u001b[38;5;241;43m.\u001b[39;49m\u001b[43mbytecode\u001b[49m\u001b[43m)\u001b[49m\n\u001b[1;32m     79\u001b[0m         traversal\u001b[38;5;241m.\u001b[39mremote_results \u001b[38;5;241m=\u001b[39m remote_traversal\n\u001b[1;32m     80\u001b[0m         traversal\u001b[38;5;241m.\u001b[39mtraversers \u001b[38;5;241m=\u001b[39m remote_traversal\u001b[38;5;241m.\u001b[39mtraversers\n",
      "File \u001b[0;32m~/.local/lib/python3.8/site-packages/gremlin_python/driver/driver_remote_connection.py:105\u001b[0m, in \u001b[0;36mDriverRemoteConnection.submit\u001b[0;34m(self, bytecode)\u001b[0m\n\u001b[1;32m    103\u001b[0m log\u001b[38;5;241m.\u001b[39mdebug(\u001b[38;5;124m\"\u001b[39m\u001b[38;5;124msubmit with bytecode \u001b[39m\u001b[38;5;124m'\u001b[39m\u001b[38;5;132;01m%s\u001b[39;00m\u001b[38;5;124m'\u001b[39m\u001b[38;5;124m\"\u001b[39m, \u001b[38;5;28mstr\u001b[39m(bytecode))\n\u001b[1;32m    104\u001b[0m result_set \u001b[38;5;241m=\u001b[39m \u001b[38;5;28mself\u001b[39m\u001b[38;5;241m.\u001b[39m_client\u001b[38;5;241m.\u001b[39msubmit(bytecode, request_options\u001b[38;5;241m=\u001b[39m\u001b[38;5;28mself\u001b[39m\u001b[38;5;241m.\u001b[39m_extract_request_options(bytecode))\n\u001b[0;32m--> 105\u001b[0m results \u001b[38;5;241m=\u001b[39m \u001b[43mresult_set\u001b[49m\u001b[38;5;241;43m.\u001b[39;49m\u001b[43mall\u001b[49m\u001b[43m(\u001b[49m\u001b[43m)\u001b[49m\u001b[38;5;241;43m.\u001b[39;49m\u001b[43mresult\u001b[49m\u001b[43m(\u001b[49m\u001b[43m)\u001b[49m\n\u001b[1;32m    106\u001b[0m \u001b[38;5;28;01mreturn\u001b[39;00m RemoteTraversal(\u001b[38;5;28miter\u001b[39m(results))\n",
      "File \u001b[0;32m/usr/lib/python3.8/concurrent/futures/_base.py:439\u001b[0m, in \u001b[0;36mFuture.result\u001b[0;34m(self, timeout)\u001b[0m\n\u001b[1;32m    436\u001b[0m \u001b[38;5;28;01melif\u001b[39;00m \u001b[38;5;28mself\u001b[39m\u001b[38;5;241m.\u001b[39m_state \u001b[38;5;241m==\u001b[39m FINISHED:\n\u001b[1;32m    437\u001b[0m     \u001b[38;5;28;01mreturn\u001b[39;00m \u001b[38;5;28mself\u001b[39m\u001b[38;5;241m.\u001b[39m__get_result()\n\u001b[0;32m--> 439\u001b[0m \u001b[38;5;28;43mself\u001b[39;49m\u001b[38;5;241;43m.\u001b[39;49m\u001b[43m_condition\u001b[49m\u001b[38;5;241;43m.\u001b[39;49m\u001b[43mwait\u001b[49m\u001b[43m(\u001b[49m\u001b[43mtimeout\u001b[49m\u001b[43m)\u001b[49m\n\u001b[1;32m    441\u001b[0m \u001b[38;5;28;01mif\u001b[39;00m \u001b[38;5;28mself\u001b[39m\u001b[38;5;241m.\u001b[39m_state \u001b[38;5;129;01min\u001b[39;00m [CANCELLED, CANCELLED_AND_NOTIFIED]:\n\u001b[1;32m    442\u001b[0m     \u001b[38;5;28;01mraise\u001b[39;00m CancelledError()\n",
      "File \u001b[0;32m/usr/lib/python3.8/threading.py:302\u001b[0m, in \u001b[0;36mCondition.wait\u001b[0;34m(self, timeout)\u001b[0m\n\u001b[1;32m    300\u001b[0m \u001b[38;5;28;01mtry\u001b[39;00m:    \u001b[38;5;66;03m# restore state no matter what (e.g., KeyboardInterrupt)\u001b[39;00m\n\u001b[1;32m    301\u001b[0m     \u001b[38;5;28;01mif\u001b[39;00m timeout \u001b[38;5;129;01mis\u001b[39;00m \u001b[38;5;28;01mNone\u001b[39;00m:\n\u001b[0;32m--> 302\u001b[0m         \u001b[43mwaiter\u001b[49m\u001b[38;5;241;43m.\u001b[39;49m\u001b[43macquire\u001b[49m\u001b[43m(\u001b[49m\u001b[43m)\u001b[49m\n\u001b[1;32m    303\u001b[0m         gotit \u001b[38;5;241m=\u001b[39m \u001b[38;5;28;01mTrue\u001b[39;00m\n\u001b[1;32m    304\u001b[0m     \u001b[38;5;28;01melse\u001b[39;00m:\n",
      "\u001b[0;31mKeyboardInterrupt\u001b[0m: "
     ]
    }
   ],
   "source": [
    "for i in range(len(data_person)):\n",
    "    \n",
    "    vertex=data_person.iloc[i, 2]\n",
    "    id=data_person.iloc[i, 1]\n",
    "    name=data_person.iloc[i, 3]\n",
    "    \n",
    "    print('data : ',id, vertex, name)\n",
    "    \n",
    "    person = g.V(vertex).property('name',name).as_(id)\n",
    "person.next()"
   ]
  },
  {
   "cell_type": "code",
   "execution_count": 56,
   "id": "67caa387-ee4a-400a-90f1-7a3b1cf7668f",
   "metadata": {
    "tags": []
   },
   "outputs": [
    {
     "ename": "KeyboardInterrupt",
     "evalue": "",
     "output_type": "error",
     "traceback": [
      "\u001b[0;31m---------------------------------------------------------------------------\u001b[0m",
      "\u001b[0;31mKeyboardInterrupt\u001b[0m                         Traceback (most recent call last)",
      "Cell \u001b[0;32mIn[56], line 1\u001b[0m\n\u001b[0;32m----> 1\u001b[0m \u001b[43mconnection\u001b[49m\u001b[38;5;241;43m.\u001b[39;49m\u001b[43mclose\u001b[49m\u001b[43m(\u001b[49m\u001b[43m)\u001b[49m\n",
      "File \u001b[0;32m~/.local/lib/python3.8/site-packages/gremlin_python/driver/driver_remote_connection.py:100\u001b[0m, in \u001b[0;36mDriverRemoteConnection.close\u001b[0;34m(self)\u001b[0m\n\u001b[1;32m     97\u001b[0m \u001b[38;5;28;01melse\u001b[39;00m:\n\u001b[1;32m     98\u001b[0m     log\u001b[38;5;241m.\u001b[39minfo(\u001b[38;5;124m\"\u001b[39m\u001b[38;5;124mclosing DriverRemoteConnection with url \u001b[39m\u001b[38;5;124m'\u001b[39m\u001b[38;5;132;01m%s\u001b[39;00m\u001b[38;5;124m'\u001b[39m\u001b[38;5;124m\"\u001b[39m, \u001b[38;5;28mstr\u001b[39m(\u001b[38;5;28mself\u001b[39m\u001b[38;5;241m.\u001b[39m_url))\n\u001b[0;32m--> 100\u001b[0m \u001b[38;5;28;43mself\u001b[39;49m\u001b[38;5;241;43m.\u001b[39;49m\u001b[43m_client\u001b[49m\u001b[38;5;241;43m.\u001b[39;49m\u001b[43mclose\u001b[49m\u001b[43m(\u001b[49m\u001b[43m)\u001b[49m\n",
      "File \u001b[0;32m~/.local/lib/python3.8/site-packages/gremlin_python/driver/client.py:132\u001b[0m, in \u001b[0;36mClient.close\u001b[0;34m(self)\u001b[0m\n\u001b[1;32m    130\u001b[0m     conn \u001b[38;5;241m=\u001b[39m \u001b[38;5;28mself\u001b[39m\u001b[38;5;241m.\u001b[39m_pool\u001b[38;5;241m.\u001b[39mget(\u001b[38;5;28;01mTrue\u001b[39;00m)\n\u001b[1;32m    131\u001b[0m     conn\u001b[38;5;241m.\u001b[39mclose()\n\u001b[0;32m--> 132\u001b[0m \u001b[38;5;28;43mself\u001b[39;49m\u001b[38;5;241;43m.\u001b[39;49m\u001b[43m_executor\u001b[49m\u001b[38;5;241;43m.\u001b[39;49m\u001b[43mshutdown\u001b[49m\u001b[43m(\u001b[49m\u001b[43m)\u001b[49m\n\u001b[1;32m    133\u001b[0m \u001b[38;5;28mself\u001b[39m\u001b[38;5;241m.\u001b[39m_closed \u001b[38;5;241m=\u001b[39m \u001b[38;5;28;01mTrue\u001b[39;00m\n",
      "File \u001b[0;32m/usr/lib/python3.8/concurrent/futures/thread.py:236\u001b[0m, in \u001b[0;36mThreadPoolExecutor.shutdown\u001b[0;34m(self, wait)\u001b[0m\n\u001b[1;32m    234\u001b[0m \u001b[38;5;28;01mif\u001b[39;00m wait:\n\u001b[1;32m    235\u001b[0m     \u001b[38;5;28;01mfor\u001b[39;00m t \u001b[38;5;129;01min\u001b[39;00m \u001b[38;5;28mself\u001b[39m\u001b[38;5;241m.\u001b[39m_threads:\n\u001b[0;32m--> 236\u001b[0m         \u001b[43mt\u001b[49m\u001b[38;5;241;43m.\u001b[39;49m\u001b[43mjoin\u001b[49m\u001b[43m(\u001b[49m\u001b[43m)\u001b[49m\n",
      "File \u001b[0;32m/usr/lib/python3.8/threading.py:1011\u001b[0m, in \u001b[0;36mThread.join\u001b[0;34m(self, timeout)\u001b[0m\n\u001b[1;32m   1008\u001b[0m     \u001b[38;5;28;01mraise\u001b[39;00m \u001b[38;5;167;01mRuntimeError\u001b[39;00m(\u001b[38;5;124m\"\u001b[39m\u001b[38;5;124mcannot join current thread\u001b[39m\u001b[38;5;124m\"\u001b[39m)\n\u001b[1;32m   1010\u001b[0m \u001b[38;5;28;01mif\u001b[39;00m timeout \u001b[38;5;129;01mis\u001b[39;00m \u001b[38;5;28;01mNone\u001b[39;00m:\n\u001b[0;32m-> 1011\u001b[0m     \u001b[38;5;28;43mself\u001b[39;49m\u001b[38;5;241;43m.\u001b[39;49m\u001b[43m_wait_for_tstate_lock\u001b[49m\u001b[43m(\u001b[49m\u001b[43m)\u001b[49m\n\u001b[1;32m   1012\u001b[0m \u001b[38;5;28;01melse\u001b[39;00m:\n\u001b[1;32m   1013\u001b[0m     \u001b[38;5;66;03m# the behavior of a negative timeout isn't documented, but\u001b[39;00m\n\u001b[1;32m   1014\u001b[0m     \u001b[38;5;66;03m# historically .join(timeout=x) for x<0 has acted as if timeout=0\u001b[39;00m\n\u001b[1;32m   1015\u001b[0m     \u001b[38;5;28mself\u001b[39m\u001b[38;5;241m.\u001b[39m_wait_for_tstate_lock(timeout\u001b[38;5;241m=\u001b[39m\u001b[38;5;28mmax\u001b[39m(timeout, \u001b[38;5;241m0\u001b[39m))\n",
      "File \u001b[0;32m/usr/lib/python3.8/threading.py:1027\u001b[0m, in \u001b[0;36mThread._wait_for_tstate_lock\u001b[0;34m(self, block, timeout)\u001b[0m\n\u001b[1;32m   1025\u001b[0m \u001b[38;5;28;01mif\u001b[39;00m lock \u001b[38;5;129;01mis\u001b[39;00m \u001b[38;5;28;01mNone\u001b[39;00m:  \u001b[38;5;66;03m# already determined that the C code is done\u001b[39;00m\n\u001b[1;32m   1026\u001b[0m     \u001b[38;5;28;01massert\u001b[39;00m \u001b[38;5;28mself\u001b[39m\u001b[38;5;241m.\u001b[39m_is_stopped\n\u001b[0;32m-> 1027\u001b[0m \u001b[38;5;28;01melif\u001b[39;00m \u001b[43mlock\u001b[49m\u001b[38;5;241;43m.\u001b[39;49m\u001b[43macquire\u001b[49m\u001b[43m(\u001b[49m\u001b[43mblock\u001b[49m\u001b[43m,\u001b[49m\u001b[43m \u001b[49m\u001b[43mtimeout\u001b[49m\u001b[43m)\u001b[49m:\n\u001b[1;32m   1028\u001b[0m     lock\u001b[38;5;241m.\u001b[39mrelease()\n\u001b[1;32m   1029\u001b[0m     \u001b[38;5;28mself\u001b[39m\u001b[38;5;241m.\u001b[39m_stop()\n",
      "\u001b[0;31mKeyboardInterrupt\u001b[0m: "
     ]
    }
   ],
   "source": [
    "connection.close()"
   ]
  },
  {
   "cell_type": "code",
   "execution_count": null,
   "id": "971e07e4-ba82-43c8-827a-f2387ea0c8ee",
   "metadata": {},
   "outputs": [],
   "source": []
  },
  {
   "cell_type": "code",
   "execution_count": 64,
   "id": "3a33e068-ce80-41c1-b846-90d57ba93feb",
   "metadata": {
    "tags": []
   },
   "outputs": [
    {
     "ename": "StopIteration",
     "evalue": "",
     "output_type": "error",
     "traceback": [
      "\u001b[0;31m---------------------------------------------------------------------------\u001b[0m",
      "\u001b[0;31mStopIteration\u001b[0m                             Traceback (most recent call last)",
      "Cell \u001b[0;32mIn[64], line 1\u001b[0m\n\u001b[0;32m----> 1\u001b[0m x \u001b[38;5;241m=\u001b[39m \u001b[43mg\u001b[49m\u001b[38;5;241;43m.\u001b[39;49m\u001b[43mV\u001b[49m\u001b[43m(\u001b[49m\u001b[38;5;124;43m'\u001b[39;49m\u001b[38;5;124;43mP-2354\u001b[39;49m\u001b[38;5;124;43m'\u001b[39;49m\u001b[43m)\u001b[49m\u001b[38;5;241;43m.\u001b[39;49m\u001b[43mvalueMap\u001b[49m\u001b[43m(\u001b[49m\u001b[43m)\u001b[49m\u001b[38;5;241;43m.\u001b[39;49m\u001b[43mnext\u001b[49m\u001b[43m(\u001b[49m\u001b[43m)\u001b[49m\n\u001b[1;32m      2\u001b[0m \u001b[38;5;28mprint\u001b[39m(x)\n",
      "File \u001b[0;32m~/.local/lib/python3.8/site-packages/gremlin_python/process/traversal.py:117\u001b[0m, in \u001b[0;36mTraversal.next\u001b[0;34m(self, amount)\u001b[0m\n\u001b[1;32m    115\u001b[0m \u001b[38;5;28;01mdef\u001b[39;00m \u001b[38;5;21mnext\u001b[39m(\u001b[38;5;28mself\u001b[39m, amount\u001b[38;5;241m=\u001b[39m\u001b[38;5;28;01mNone\u001b[39;00m):\n\u001b[1;32m    116\u001b[0m     \u001b[38;5;28;01mif\u001b[39;00m amount \u001b[38;5;129;01mis\u001b[39;00m \u001b[38;5;28;01mNone\u001b[39;00m:\n\u001b[0;32m--> 117\u001b[0m         \u001b[38;5;28;01mreturn\u001b[39;00m \u001b[38;5;28;43mself\u001b[39;49m\u001b[38;5;241;43m.\u001b[39;49m\u001b[38;5;21;43m__next__\u001b[39;49m\u001b[43m(\u001b[49m\u001b[43m)\u001b[49m\n\u001b[1;32m    118\u001b[0m     \u001b[38;5;28;01melse\u001b[39;00m:\n\u001b[1;32m    119\u001b[0m         count \u001b[38;5;241m=\u001b[39m \u001b[38;5;241m0\u001b[39m\n",
      "File \u001b[0;32m~/.local/lib/python3.8/site-packages/gremlin_python/process/traversal.py:50\u001b[0m, in \u001b[0;36mTraversal.__next__\u001b[0;34m(self)\u001b[0m\n\u001b[1;32m     48\u001b[0m     \u001b[38;5;28mself\u001b[39m\u001b[38;5;241m.\u001b[39mtraversal_strategies\u001b[38;5;241m.\u001b[39mapply_strategies(\u001b[38;5;28mself\u001b[39m)\n\u001b[1;32m     49\u001b[0m \u001b[38;5;28;01mif\u001b[39;00m \u001b[38;5;28mself\u001b[39m\u001b[38;5;241m.\u001b[39mlast_traverser \u001b[38;5;129;01mis\u001b[39;00m \u001b[38;5;28;01mNone\u001b[39;00m:\n\u001b[0;32m---> 50\u001b[0m     \u001b[38;5;28mself\u001b[39m\u001b[38;5;241m.\u001b[39mlast_traverser \u001b[38;5;241m=\u001b[39m \u001b[38;5;28;43mnext\u001b[39;49m\u001b[43m(\u001b[49m\u001b[38;5;28;43mself\u001b[39;49m\u001b[38;5;241;43m.\u001b[39;49m\u001b[43mtraversers\u001b[49m\u001b[43m)\u001b[49m\n\u001b[1;32m     51\u001b[0m \u001b[38;5;28mobject\u001b[39m \u001b[38;5;241m=\u001b[39m \u001b[38;5;28mself\u001b[39m\u001b[38;5;241m.\u001b[39mlast_traverser\u001b[38;5;241m.\u001b[39mobject\n\u001b[1;32m     52\u001b[0m \u001b[38;5;28mself\u001b[39m\u001b[38;5;241m.\u001b[39mlast_traverser\u001b[38;5;241m.\u001b[39mbulk \u001b[38;5;241m=\u001b[39m \u001b[38;5;28mself\u001b[39m\u001b[38;5;241m.\u001b[39mlast_traverser\u001b[38;5;241m.\u001b[39mbulk \u001b[38;5;241m-\u001b[39m \u001b[38;5;241m1\u001b[39m\n",
      "\u001b[0;31mStopIteration\u001b[0m: "
     ]
    }
   ],
   "source": [
    "x = g.V('P-2354').valueMap().next()\n",
    "print(x)"
   ]
  },
  {
   "cell_type": "code",
   "execution_count": null,
   "id": "87bc9994-b16d-48c2-b0d5-9ba67270d1ca",
   "metadata": {},
   "outputs": [],
   "source": []
  }
 ],
 "metadata": {
  "kernelspec": {
   "display_name": "Python 3",
   "language": "python",
   "name": "python3"
  },
  "language_info": {
   "codemirror_mode": {
    "name": "ipython",
    "version": 3
   },
   "file_extension": ".py",
   "mimetype": "text/x-python",
   "name": "python",
   "nbconvert_exporter": "python",
   "pygments_lexer": "ipython3",
   "version": "3.8.10"
  }
 },
 "nbformat": 4,
 "nbformat_minor": 5
}
