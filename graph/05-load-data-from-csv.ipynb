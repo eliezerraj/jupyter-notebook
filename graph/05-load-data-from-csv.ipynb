{
 "cells": [
  {
   "cell_type": "code",
   "execution_count": 49,
   "id": "79077e83-a56d-453e-bead-5b4e7cfd48a2",
   "metadata": {
    "tags": []
   },
   "outputs": [],
   "source": [
    "# Load Libraries\n",
    "import pandas as pd\n",
    "import os\n",
    "import datetime\n",
    "import json"
   ]
  },
  {
   "cell_type": "code",
   "execution_count": 50,
   "id": "34af6d9e-79a7-4ce9-944b-c61415bcc67e",
   "metadata": {
    "tags": []
   },
   "outputs": [],
   "source": [
    "from gremlin_python.structure.graph import Graph\n",
    "from gremlin_python.process.traversal import T\n",
    "from gremlin_python.process.graph_traversal import __\n",
    "from gremlin_python.driver.driver_remote_connection import DriverRemoteConnection\n",
    "from gremlin_python.driver.aiohttp.transport import AiohttpTransport"
   ]
  },
  {
   "cell_type": "code",
   "execution_count": 51,
   "id": "aac6e218-bc9f-4ab3-a1a2-75e239d5fe66",
   "metadata": {
    "tags": []
   },
   "outputs": [],
   "source": [
    "def load_vertex(fdataset_name, fdata_bucket_name):\n",
    "    print(\"loading vertex \" + fdataset_name)\n",
    "    \n",
    "    # Load data from json\n",
    "    data_location = '{}/{}'.format(fdata_bucket_name, fdataset_name)\n",
    "    unique_property = 'id'\n",
    "    vertex ={}\n",
    "    \n",
    "    # Load json to datafrase\n",
    "    vertex_data = {}\n",
    "    with open(data_location, 'r') as jf:\n",
    "        vertex_data = json.load(jf)\n",
    "\n",
    "    # Load to graph\n",
    "    for data in vertex_data:\n",
    "        vertex_id = data['id']\n",
    "        label = data['label']\n",
    "        properties = data['properties']\n",
    "        name = data['id']\n",
    "        \n",
    "        try:\n",
    "            #print(f\"select by {unique_property}={properties[unique_property]}\")\n",
    "            existing_vertex = g.V().has(unique_property,properties[unique_property]).next()\n",
    "            vertex = g.V(existing_vertex)\n",
    "            #print(f\"Updated vertex with {unique_property}={vertex_id}\")\n",
    "        except Exception as error:\n",
    "            vertex = g.addV(label)\n",
    "            #print(f\"Insert vertex with {unique_property}={vertex_id}\")\n",
    "        \n",
    "        #Insert with PK\n",
    "        #vertex = g.addV(label).property(T.id, vertex_id)            \n",
    "        # Insert without PK (duplicate data)\n",
    "        #vertex = g.addV(label).property('id', vertex_id)\n",
    "    \n",
    "        # Add properties to the vertex\n",
    "        for key, value in properties.items():\n",
    "            vertex = vertex.property(key, value)\n",
    "        # Execute the query\n",
    "        try:\n",
    "            vertex.next()\n",
    "        except Exception as error:\n",
    "          print(\"Vertex error => An exception occurred:\", error)"
   ]
  },
  {
   "cell_type": "code",
   "execution_count": 52,
   "id": "3fd63961-c494-4cb2-8150-ced1de430605",
   "metadata": {
    "tags": []
   },
   "outputs": [],
   "source": [
    "def load_edge(fdataset_name, fdata_bucket_name):\n",
    "    print(\"loading edge \" + fdataset_name)\n",
    "    \n",
    "    # Load data from json\n",
    "    data_location = '{}/{}'.format(fdata_bucket_name, fdataset_name)\n",
    "    unique_property = 'id'\n",
    "    \n",
    "    # Load json to datafrase\n",
    "    edge_data = {}\n",
    "    with open(data_location, 'r') as jf:\n",
    "        edge_data = json.load(jf)\n",
    "\n",
    "    # Load to graph\n",
    "    for data in edge_data:\n",
    "       \n",
    "        from_id = data['from_id']\n",
    "        to_id = data['to_id']\n",
    "        edge_label = data['label']\n",
    "        edge_properties = data['properties']\n",
    "        \n",
    "        from_serched_vertex = g.V().has(unique_property,data['from_id']).next()\n",
    "        from_vertex = g.V(from_serched_vertex).next()\n",
    "        to_serched_vertex = g.V().has(unique_property,data['to_id']).next()\n",
    "        to_vertex = g.V(to_serched_vertex).next()\n",
    "        \n",
    "        #print(f\"Insert edge from {from_vertex.id} to {to_vertex.id}\")\n",
    "          \n",
    "        # Create the edge with the given label and properties\n",
    "        #edge = g.V(from_id).as_('a').V(to_id).addE(edge_label).from_('a')\n",
    "        edge = g.V(from_vertex.id).as_('a').V(to_vertex.id).addE(edge_label).from_('a')\n",
    "\n",
    "        # Add properties to the edge\n",
    "        for key, value in edge_properties.items():\n",
    "            edge = edge.property(key, value)\n",
    "        \n",
    "        # Execute the query\n",
    "        try:\n",
    "            edge.next()\n",
    "        except Exception as error:\n",
    "          print(\"Edge error => An exception occurred:\", error , \"|\" , edge )"
   ]
  },
  {
   "cell_type": "code",
   "execution_count": 53,
   "id": "51fe809d-b960-4332-93f2-35a798f6dc1f",
   "metadata": {
    "tags": []
   },
   "outputs": [],
   "source": [
    "# Prepare connection\n",
    "endpoint = 'ws://127.0.0.1:8182/gremlin'\n",
    "connection = DriverRemoteConnection(endpoint,'g',\n",
    "                 transport_factory=lambda:AiohttpTransport(call_from_event_loop=True))\n",
    "\n",
    "graph = Graph()\n",
    "g = graph.traversal().withRemote(connection)"
   ]
  },
  {
   "cell_type": "markdown",
   "id": "fc07353e-6aae-453d-b02f-9a2a12a481e6",
   "metadata": {},
   "source": [
    "# Load VERTEX"
   ]
  },
  {
   "cell_type": "code",
   "execution_count": 54,
   "id": "bb3eb801-2834-4dfe-b8cb-ee66430e338f",
   "metadata": {
    "tags": []
   },
   "outputs": [
    {
     "name": "stdout",
     "output_type": "stream",
     "text": [
      "loading vertex person_vertex.json\n",
      "loading vertex terminal_vertex.json\n",
      "loading vertex merchant_vertex.json\n",
      "loading vertex account_vertex.json\n",
      "loading vertex card_vertex.json\n",
      "loading vertex payment_vertex.json\n"
     ]
    }
   ],
   "source": [
    "data_bucket_name = \"/home/eliezerraj/jupyter-notebook/graph/dataset\"\n",
    "\n",
    "dataset_name = 'person_vertex.json'\n",
    "load_vertex(dataset_name, data_bucket_name)\n",
    "\n",
    "dataset_name = 'terminal_vertex.json'\n",
    "load_vertex(dataset_name, data_bucket_name)\n",
    "\n",
    "dataset_name = 'merchant_vertex.json'\n",
    "load_vertex(dataset_name, data_bucket_name)\n",
    "\n",
    "dataset_name = 'account_vertex.json'\n",
    "load_vertex(dataset_name, data_bucket_name)\n",
    "\n",
    "dataset_name = 'card_vertex.json'\n",
    "load_vertex(dataset_name, data_bucket_name)\n",
    "\n",
    "dataset_name = 'payment_vertex.json'\n",
    "load_vertex(dataset_name, data_bucket_name)"
   ]
  },
  {
   "cell_type": "markdown",
   "id": "1125c320-42c6-4538-87a0-82216ac61017",
   "metadata": {},
   "source": [
    "# Load Edge"
   ]
  },
  {
   "cell_type": "code",
   "execution_count": 55,
   "id": "c0e177d1-8919-495b-9149-7919fa250d13",
   "metadata": {
    "tags": []
   },
   "outputs": [
    {
     "name": "stdout",
     "output_type": "stream",
     "text": [
      "loading edge person-account-edge.json\n",
      "loading edge account-card-edge.json\n",
      "loading edge card-payment-edge.json\n",
      "loading edge payment-mcc-edge.json\n",
      "loading edge payment-terminal-edge.json\n"
     ]
    }
   ],
   "source": [
    "data_bucket_name = \"/home/eliezerraj/jupyter-notebook/graph/dataset\"\n",
    "\n",
    "dataset_name = 'person-account-edge.json'\n",
    "load_edge(dataset_name, data_bucket_name)\n",
    "\n",
    "dataset_name = 'account-card-edge.json'\n",
    "load_edge(dataset_name, data_bucket_name)\n",
    "\n",
    "dataset_name = 'card-payment-edge.json'\n",
    "load_edge(dataset_name, data_bucket_name)\n",
    "\n",
    "dataset_name = 'payment-mcc-edge.json'\n",
    "load_edge(dataset_name, data_bucket_name)\n",
    "\n",
    "dataset_name = 'payment-terminal-edge.json'\n",
    "load_edge(dataset_name, data_bucket_name)"
   ]
  },
  {
   "cell_type": "code",
   "execution_count": 140,
   "id": "67caa387-ee4a-400a-90f1-7a3b1cf7668f",
   "metadata": {
    "tags": []
   },
   "outputs": [],
   "source": [
    "connection.close()"
   ]
  },
  {
   "cell_type": "markdown",
   "id": "36b0155d-e051-4142-b3d3-cadc013d6ce9",
   "metadata": {},
   "source": [
    "# Query"
   ]
  },
  {
   "cell_type": "code",
   "execution_count": null,
   "id": "957cdb65-7306-403b-88c9-a8395f67faba",
   "metadata": {
    "tags": []
   },
   "outputs": [],
   "source": [
    "#for i in range(len(data_person)):\n",
    "    \n",
    "#    vertex=data_person.iloc[i, 2]\n",
    "#    id=data_person.iloc[i, 1]\n",
    "#    name=data_person.iloc[i, 3]\n",
    "    \n",
    "#    print('data : ',id, vertex, name)\n",
    "    \n",
    "#    person = g.V(vertex).property('name',name).as_(id)\n",
    "#person.next()"
   ]
  },
  {
   "cell_type": "code",
   "execution_count": 31,
   "id": "85e4dc67-2062-4890-bb76-3dc1ceda5b03",
   "metadata": {
    "tags": []
   },
   "outputs": [],
   "source": [
    "#from gremlin_python.driver import client, serializer\n",
    "#endpoint = 'ws://127.0.0.1:8182/gremlin'\n",
    "\n",
    "#gremlin_client = client.Client(\n",
    "#    endpoint, \n",
    "#    'g',\n",
    "#    transport_factory=lambda:AiohttpTransport(call_from_event_loop=True),\n",
    "#    username=\"\",\n",
    "#    password=\"\",\n",
    "#    message_serializer=serializer.GraphSONSerializersV2d0()\n",
    "#)"
   ]
  },
  {
   "cell_type": "code",
   "execution_count": 36,
   "id": "3a33e068-ce80-41c1-b846-90d57ba93feb",
   "metadata": {
    "tags": []
   },
   "outputs": [],
   "source": [
    "#x = g.V('P-2354').valueMap().next()\n",
    "#print(x)"
   ]
  },
  {
   "cell_type": "code",
   "execution_count": 37,
   "id": "9c9b96c2-7d7f-4fd5-b3f5-bd34f63e53b2",
   "metadata": {
    "tags": []
   },
   "outputs": [],
   "source": [
    "def upsert_vertex(fdataset_name, fdata_bucket_name):\n",
    "    print(\"loading upsert_vertex \" + fdataset_name)\n",
    "    \n",
    "    # Load data from json\n",
    "    data_location = '{}/{}'.format(fdata_bucket_name, fdataset_name)\n",
    "\n",
    "    # Load json to datafrase\n",
    "    vertex_data = {}\n",
    "    with open(data_location, 'r') as jf:\n",
    "        vertex_data = json.load(jf)\n",
    "\n",
    "    #print(vertex_data)\n",
    "    \n",
    "    unique_property = 'id'\n",
    "    properties = {}\n",
    "    vertex_label ={}\n",
    "    \n",
    "    # Load to graph\n",
    "    for data in vertex_data:\n",
    "        vertex_label  = data['label']\n",
    "        properties = data['properties']\n",
    "        \n",
    "        query = f\"g.V().has({unique_property},{properties[unique_property]}).fold().coalesce(unfold(),addV('{vertex_label}').property({unique_property},{properties[unique_property]}))\"\n",
    "        #query = f\"g.V({properties[unique_property]}).fold().coalesce(unfold(),addV('{vertex_label}').property({unique_property},{properties[unique_property]}))\"\n",
    "    \n",
    "        for key, value in properties.items():\n",
    "            if key != unique_property:\n",
    "                query += f\".property('{key}','{value}')\"\n",
    "        \n",
    "        print(query)\n",
    "        # Execute the query\n",
    "        try:\n",
    "            result = gremlin_client.submit(query).all().result()\n",
    "        except Exception as error:\n",
    "          print(\"Vertex error => An exception occurred:\", error)\n"
   ]
  },
  {
   "cell_type": "code",
   "execution_count": null,
   "id": "87bc9994-b16d-48c2-b0d5-9ba67270d1ca",
   "metadata": {},
   "outputs": [],
   "source": []
  }
 ],
 "metadata": {
  "kernelspec": {
   "display_name": "Python 3",
   "language": "python",
   "name": "python3"
  },
  "language_info": {
   "codemirror_mode": {
    "name": "ipython",
    "version": 3
   },
   "file_extension": ".py",
   "mimetype": "text/x-python",
   "name": "python",
   "nbconvert_exporter": "python",
   "pygments_lexer": "ipython3",
   "version": "3.8.10"
  }
 },
 "nbformat": 4,
 "nbformat_minor": 5
}
