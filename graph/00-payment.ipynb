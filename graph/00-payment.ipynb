{
 "cells": [
  {
   "cell_type": "code",
   "execution_count": 1,
   "id": "2da83719-2000-41b8-aab8-36366b2a7acb",
   "metadata": {
    "tags": []
   },
   "outputs": [
    {
     "name": "stdout",
     "output_type": "stream",
     "text": [
      "4.2.0\n"
     ]
    }
   ],
   "source": [
    "%graph_notebook_version"
   ]
  },
  {
   "cell_type": "code",
   "execution_count": 2,
   "id": "6c3b820e-118a-4277-8fc1-7e1d9d0bd7e4",
   "metadata": {
    "tags": []
   },
   "outputs": [
    {
     "name": "stdout",
     "output_type": "stream",
     "text": [
      "set notebook config to:\n",
      "{\n",
      "  \"host\": \"127.0.0.1\",\n",
      "  \"port\": 8182,\n",
      "  \"proxy_host\": \"\",\n",
      "  \"proxy_port\": 8182,\n",
      "  \"ssl\": false,\n",
      "  \"ssl_verify\": true,\n",
      "  \"sparql\": {\n",
      "    \"path\": \"\"\n",
      "  },\n",
      "  \"gremlin\": {\n",
      "    \"traversal_source\": \"g\",\n",
      "    \"username\": \"\",\n",
      "    \"password\": \"\",\n",
      "    \"message_serializer\": \"graphsonv3\"\n",
      "  },\n",
      "  \"neo4j\": {\n",
      "    \"username\": \"neo4j\",\n",
      "    \"password\": \"password\",\n",
      "    \"auth\": true,\n",
      "    \"database\": null\n",
      "  }\n",
      "}\n"
     ]
    },
    {
     "data": {
      "text/plain": [
       "<graph_notebook.configuration.generate_config.Configuration at 0x7f12395ea580>"
      ]
     },
     "execution_count": 2,
     "metadata": {},
     "output_type": "execute_result"
    }
   ],
   "source": [
    "%%graph_notebook_config\n",
    "{\n",
    "  \"host\": \"127.0.0.1\",\n",
    "  \"port\": 8182,\n",
    "  \"ssl\": false,\n",
    "  \"gremlin\": {\n",
    "    \"traversal_source\": \"g\",\n",
    "    \"username\": \"\",\n",
    "    \"password\": \"\",\n",
    "    \"message_serializer\": \"graphsonv3\"\n",
    "  }\n",
    "}"
   ]
  },
  {
   "cell_type": "markdown",
   "id": "e0689972-57a5-4278-8373-99396919853b",
   "metadata": {},
   "source": [
    "# Mcc"
   ]
  },
  {
   "cell_type": "code",
   "execution_count": 71,
   "id": "dbfa8379-a131-4563-81cd-793ab01c1d42",
   "metadata": {
    "tags": []
   },
   "outputs": [
    {
     "data": {
      "application/vnd.jupyter.widget-view+json": {
       "model_id": "b2fb0416000e4b97940384f7aadfa0f7",
       "version_major": 2,
       "version_minor": 0
      },
      "text/plain": [
       "Tab(children=(Output(layout=Layout(max_height='600px', max_width='940px', overflow='scroll')), Output(layout=L…"
      ]
     },
     "metadata": {},
     "output_type": "display_data"
    }
   ],
   "source": [
    "%%gremlin\n",
    "\n",
    "g.addV(\"Merchant\").property(id,\"CINEMA\").property(\"name\",\"CINEMA\").as(\"CINEMA\").\n",
    "addV(\"Merchant\").property(id,\"PET\").property(\"name\",\"PET\").as(\"PET\").\n",
    "addV(\"Merchant\").property(id,\"COMPUTER\").property(\"name\",\"COMPUTER\").as(\"COMPUTER\").\n",
    "addV(\"Merchant\").property(id,\"STORE\").property(\"name\",\"STORE\").as(\"STORE\").\n",
    "addV(\"Merchant\").property(id,\"BEVERAGE\").property(\"name\",\"BEVERAGE\").as(\"BEVERAGE\").\n",
    "addV(\"Merchant\").property(id,\"FOOD\").property(\"name\",\"FOOD\").as(\"FOOD\").\n",
    "addV(\"Merchant\").property(id,\"BOOK\").property(\"name\",\"BOOK\").as(\"BOOK\").\n",
    "addV(\"Merchant\").property(id,\"SPORTING\").property(\"name\",\"SPORTING\").as(\"SPORTING\").\n",
    "addV(\"Merchant\").property(id,\"LAUNDRY\").property(\"name\",\"LAUNDRY\").as(\"LAUNDRY\").\n",
    "addV(\"Merchant\").property(id,\"CASH\").property(\"name\",\"CASH\").as(\"CASH\").\n",
    "addV(\"Merchant\").property(id,\"DRUG_STORE\").property(\"name\",\"DRUG_STORE\").as(\"DRUG_STORE\").\n",
    "addV(\"Merchant\").property(id,\"MOTOR\").property(\"name\",\"MOTOR\").as(\"MOTOR\").\n",
    "addV(\"Merchant\").property(id,\"GIFT\").property(\"name\",\"GIFT\").as(\"GIFT\").\n",
    "addV(\"Merchant\").property(id,\"GYM\").property(\"name\",\"GYM\").as(\"GYM\").\n",
    "addV(\"Merchant\").property(id,\"PARKING\").property(\"name\",\"PARKING\").as(\"PARKING\").\n",
    "addV(\"Merchant\").property(id,\"GAS\").property(\"name\",\"GAS\").as(\"GAS\").\n",
    "addV(\"Merchant\").property(id,\"COSMETIC\").property(\"name\",\"COSMETIC\").as(\"COSMETIC\")\n"
   ]
  },
  {
   "cell_type": "code",
   "execution_count": 82,
   "id": "c835fb9f-97fd-483f-99d3-a06cd6821226",
   "metadata": {
    "tags": []
   },
   "outputs": [
    {
     "data": {
      "application/vnd.jupyter.widget-view+json": {
       "model_id": "c83a07d547e0499b997cc979a01b64bc",
       "version_major": 2,
       "version_minor": 0
      },
      "text/plain": [
       "Tab(children=(Output(layout=Layout(max_height='600px', max_width='940px', overflow='scroll')), Output(layout=L…"
      ]
     },
     "metadata": {},
     "output_type": "display_data"
    }
   ],
   "source": [
    "%%gremlin\n",
    "\n",
    "g.V().hasLabel('Merchant').count()"
   ]
  },
  {
   "cell_type": "markdown",
   "id": "97e2cbea-afa5-4fc6-b2a2-4b0408986cca",
   "metadata": {},
   "source": [
    "# Terminal"
   ]
  },
  {
   "cell_type": "code",
   "execution_count": 109,
   "id": "1bdde05c-8ed9-4d24-83d3-dd8342d2edbf",
   "metadata": {
    "tags": []
   },
   "outputs": [
    {
     "data": {
      "application/vnd.jupyter.widget-view+json": {
       "model_id": "eddfae59bf934975ba4ea179e9faf6cf",
       "version_major": 2,
       "version_minor": 0
      },
      "text/plain": [
       "Tab(children=(Output(layout=Layout(max_height='600px', max_width='940px', overflow='scroll')), Output(layout=L…"
      ]
     },
     "metadata": {},
     "output_type": "display_data"
    }
   ],
   "source": [
    "%%gremlin\n",
    "\n",
    "g.addV(\"Terminal\").property(id,\"TERM-21\").property(\"name\",\"TERM-21\").property(\"coord_x\",55).property(\"coord_y\",6).as(\"TERM-21\").\n",
    "addV(\"Terminal\").property(id,\"TERM-22\").property(\"name\",\"TERM-22\").property(\"coord_x\",53).property(\"coord_y\",85).as(\"TERM-22\").\n",
    "addV(\"Terminal\").property(id,\"TERM-23\").property(\"name\",\"TERM-23\").property(\"coord_x\",24).property(\"coord_y\",50).as(\"TERM-23\").\n",
    "addV(\"Terminal\").property(id,\"TERM-24\").property(\"name\",\"TERM-24\").property(\"coord_x\",77).property(\"coord_y\",45).as(\"TERM-24\").\n",
    "addV(\"Terminal\").property(id,\"TERM-25\").property(\"name\",\"TERM-25\").property(\"coord_x\",65).property(\"coord_y\",81).as(\"TERM-25\").\n",
    "addV(\"Terminal\").property(id,\"TERM-26\").property(\"name\",\"TERM-26\").property(\"coord_x\",33).property(\"coord_y\",59).as(\"TERM-26\").\n",
    "addV(\"Terminal\").property(id,\"TERM-27\").property(\"name\",\"TERM-27\").property(\"coord_x\",92).property(\"coord_y\",29).as(\"TERM-27\").\n",
    "addV(\"Terminal\").property(id,\"TERM-28\").property(\"name\",\"TERM-28\").property(\"coord_x\",10).property(\"coord_y\",62).as(\"TERM-28\").\n",
    "addV(\"Terminal\").property(id,\"TERM-29\").property(\"name\",\"TERM-29\").property(\"coord_x\",42).property(\"coord_y\",39).as(\"TERM-29\").\n",
    "addV(\"Terminal\").property(id,\"TERM-30\").property(\"name\",\"TERM-30\").property(\"coord_x\",32).property(\"coord_y\",41).as(\"TERM-30\").\n",
    "addV(\"Terminal\").property(id,\"TERM-31\").property(\"name\",\"TERM-31\").property(\"coord_x\",61).property(\"coord_y\",90).as(\"TERM-31\").\n",
    "addV(\"Terminal\").property(id,\"TERM-32\").property(\"name\",\"TERM-32\").property(\"coord_x\",63).property(\"coord_y\",58).as(\"TERM-32\").\n",
    "addV(\"Terminal\").property(id,\"TERM-33\").property(\"name\",\"TERM-33\").property(\"coord_x\",73).property(\"coord_y\",78).as(\"TERM-33\").\n",
    "addV(\"Terminal\").property(id,\"TERM-34\").property(\"name\",\"TERM-34\").property(\"coord_x\",22).property(\"coord_y\",36).as(\"TERM-34\").\n",
    "addV(\"Terminal\").property(id,\"TERM-35\").property(\"name\",\"TERM-35\").property(\"coord_x\",21).property(\"coord_y\",64).as(\"TERM-35\").\n",
    "addV(\"Terminal\").property(id,\"TERM-36\").property(\"name\",\"TERM-36\").property(\"coord_x\",83).property(\"coord_y\",50).as(\"TERM-36\").\n",
    "addV(\"Terminal\").property(id,\"TERM-37\").property(\"name\",\"TERM-37\").property(\"coord_x\",61).property(\"coord_y\",21).as(\"TERM-37\").\n",
    "addV(\"Terminal\").property(id,\"TERM-38\").property(\"name\",\"TERM-38\").property(\"coord_x\",82).property(\"coord_y\",17).as(\"TERM-38\").\n",
    "addV(\"Terminal\").property(id,\"TERM-39\").property(\"name\",\"TERM-39\").property(\"coord_x\",47).property(\"coord_y\",13).as(\"TERM-39\").\n",
    "addV(\"Terminal\").property(id,\"TERM-40\").property(\"name\",\"TERM-40\").property(\"coord_x\",34).property(\"coord_y\",48).as(\"TERM-40\").\n",
    "addV(\"Terminal\").property(id,\"TERM-41\").property(\"name\",\"TERM-41\").property(\"coord_x\",54).property(\"coord_y\",66).as(\"TERM-41\").\n",
    "addV(\"Terminal\").property(id,\"TERM-42\").property(\"name\",\"TERM-42\").property(\"coord_x\",8).property(\"coord_y\",20).as(\"TERM-42\").\n",
    "addV(\"Terminal\").property(id,\"TERM-43\").property(\"name\",\"TERM-43\").property(\"coord_x\",38).property(\"coord_y\",48).as(\"TERM-43\").\n",
    "addV(\"Terminal\").property(id,\"TERM-44\").property(\"name\",\"TERM-44\").property(\"coord_x\",11).property(\"coord_y\",47).as(\"TERM-44\").\n",
    "addV(\"Terminal\").property(id,\"TERM-45\").property(\"name\",\"TERM-45\").property(\"coord_x\",84).property(\"coord_y\",16).as(\"TERM-45\").\n",
    "addV(\"Terminal\").property(id,\"TERM-46\").property(\"name\",\"TERM-46\").property(\"coord_x\",6).property(\"coord_y\",2).as(\"TERM-46\").\n",
    "addV(\"Terminal\").property(id,\"TERM-47\").property(\"name\",\"TERM-47\").property(\"coord_x\",3).property(\"coord_y\",65).as(\"TERM-47\").\n",
    "addV(\"Terminal\").property(id,\"TERM-48\").property(\"name\",\"TERM-48\").property(\"coord_x\",94).property(\"coord_y\",54).as(\"TERM-48\").\n",
    "addV(\"Terminal\").property(id,\"TERM-49\").property(\"name\",\"TERM-49\").property(\"coord_x\",17).property(\"coord_y\",56).as(\"TERM-49\").\n",
    "addV(\"Terminal\").property(id,\"TERM-50\").property(\"name\",\"TERM-50\").property(\"coord_x\",36).property(\"coord_y\",88).as(\"TERM-50\").\n",
    "addV(\"Terminal\").property(id,\"TERM-51\").property(\"name\",\"TERM-51\").property(\"coord_x\",34).property(\"coord_y\",95).as(\"TERM-51\").\n",
    "addV(\"Terminal\").property(id,\"TERM-52\").property(\"name\",\"TERM-52\").property(\"coord_x\",75).property(\"coord_y\",64).as(\"TERM-52\").\n",
    "addV(\"Terminal\").property(id,\"TERM-53\").property(\"name\",\"TERM-53\").property(\"coord_x\",79).property(\"coord_y\",63).as(\"TERM-53\").\n",
    "addV(\"Terminal\").property(id,\"TERM-54\").property(\"name\",\"TERM-54\").property(\"coord_x\",18).property(\"coord_y\",36).as(\"TERM-54\").\n",
    "addV(\"Terminal\").property(id,\"TERM-55\").property(\"name\",\"TERM-55\").property(\"coord_x\",43).property(\"coord_y\",59).as(\"TERM-55\").\n",
    "addV(\"Terminal\").property(id,\"TERM-56\").property(\"name\",\"TERM-56\").property(\"coord_x\",20).property(\"coord_y\",13).as(\"TERM-56\").\n",
    "addV(\"Terminal\").property(id,\"TERM-57\").property(\"name\",\"TERM-57\").property(\"coord_x\",44).property(\"coord_y\",60).as(\"TERM-57\").\n",
    "addV(\"Terminal\").property(id,\"TERM-58\").property(\"name\",\"TERM-58\").property(\"coord_x\",5).property(\"coord_y\",14).as(\"TERM-58\").\n",
    "addV(\"Terminal\").property(id,\"TERM-59\").property(\"name\",\"TERM-59\").property(\"coord_x\",38).property(\"coord_y\",34).as(\"TERM-59\").\n",
    "addV(\"Terminal\").property(id,\"TERM-60\").property(\"name\",\"TERM-60\").property(\"coord_x\",5).property(\"coord_y\",72).as(\"TERM-60\").\n",
    "addV(\"Terminal\").property(id,\"TERM-61\").property(\"name\",\"TERM-61\").property(\"coord_x\",83).property(\"coord_y\",76).as(\"TERM-61\").\n",
    "addV(\"Terminal\").property(id,\"TERM-62\").property(\"name\",\"TERM-62\").property(\"coord_x\",19).property(\"coord_y\",77).as(\"TERM-62\").\n",
    "addV(\"Terminal\").property(id,\"TERM-63\").property(\"name\",\"TERM-63\").property(\"coord_x\",97).property(\"coord_y\",85).as(\"TERM-63\").\n",
    "addV(\"Terminal\").property(id,\"TERM-64\").property(\"name\",\"TERM-64\").property(\"coord_x\",22).property(\"coord_y\",43).as(\"TERM-64\").\n",
    "addV(\"Terminal\").property(id,\"TERM-65\").property(\"name\",\"TERM-65\").property(\"coord_x\",34).property(\"coord_y\",30).as(\"TERM-65\").\n",
    "addV(\"Terminal\").property(id,\"TERM-66\").property(\"name\",\"TERM-66\").property(\"coord_x\",74).property(\"coord_y\",20).as(\"TERM-66\").\n",
    "addV(\"Terminal\").property(id,\"TERM-67\").property(\"name\",\"TERM-67\").property(\"coord_x\",22).property(\"coord_y\",68).as(\"TERM-67\").\n",
    "addV(\"Terminal\").property(id,\"TERM-68\").property(\"name\",\"TERM-68\").property(\"coord_x\",97).property(\"coord_y\",16).as(\"TERM-68\").\n",
    "addV(\"Terminal\").property(id,\"TERM-69\").property(\"name\",\"TERM-69\").property(\"coord_x\",17).property(\"coord_y\",4).as(\"TERM-69\").\n",
    "addV(\"Terminal\").property(id,\"TERM-70\").property(\"name\",\"TERM-70\").property(\"coord_x\",33).property(\"coord_y\",61).as(\"TERM-70\").\n",
    "addV(\"Terminal\").property(id,\"TERM-71\").property(\"name\",\"TERM-71\").property(\"coord_x\",3).property(\"coord_y\",62).as(\"TERM-71\").\n",
    "addV(\"Terminal\").property(id,\"TERM-72\").property(\"name\",\"TERM-72\").property(\"coord_x\",92).property(\"coord_y\",18).as(\"TERM-72\").\n",
    "addV(\"Terminal\").property(id,\"TERM-73\").property(\"name\",\"TERM-73\").property(\"coord_x\",58).property(\"coord_y\",74).as(\"TERM-73\").\n",
    "addV(\"Terminal\").property(id,\"TERM-74\").property(\"name\",\"TERM-74\").property(\"coord_x\",99).property(\"coord_y\",97).as(\"TERM-74\").\n",
    "addV(\"Terminal\").property(id,\"TERM-75\").property(\"name\",\"TERM-75\").property(\"coord_x\",64).property(\"coord_y\",98).as(\"TERM-75\").\n",
    "addV(\"Terminal\").property(id,\"TERM-76\").property(\"name\",\"TERM-76\").property(\"coord_x\",3).property(\"coord_y\",81).as(\"TERM-76\").\n",
    "addV(\"Terminal\").property(id,\"TERM-77\").property(\"name\",\"TERM-77\").property(\"coord_x\",70).property(\"coord_y\",39).as(\"TERM-77\").\n",
    "addV(\"Terminal\").property(id,\"TERM-78\").property(\"name\",\"TERM-78\").property(\"coord_x\",11).property(\"coord_y\",83).as(\"TERM-78\").\n",
    "addV(\"Terminal\").property(id,\"TERM-79\").property(\"name\",\"TERM-79\").property(\"coord_x\",65).property(\"coord_y\",62).as(\"TERM-79\").\n",
    "addV(\"Terminal\").property(id,\"TERM-80\").property(\"name\",\"TERM-80\").property(\"coord_x\",60).property(\"coord_y\",33).as(\"TERM-80\").\n",
    "addV(\"Terminal\").property(id,\"TERM-81\").property(\"name\",\"TERM-81\").property(\"coord_x\",81).property(\"coord_y\",21).as(\"TERM-81\").\n",
    "addV(\"Terminal\").property(id,\"TERM-82\").property(\"name\",\"TERM-82\").property(\"coord_x\",47).property(\"coord_y\",75).as(\"TERM-82\").\n",
    "addV(\"Terminal\").property(id,\"TERM-83\").property(\"name\",\"TERM-83\").property(\"coord_x\",84).property(\"coord_y\",91).as(\"TERM-83\").\n",
    "addV(\"Terminal\").property(id,\"TERM-84\").property(\"name\",\"TERM-84\").property(\"coord_x\",42).property(\"coord_y\",44).as(\"TERM-84\").\n",
    "addV(\"Terminal\").property(id,\"TERM-85\").property(\"name\",\"TERM-85\").property(\"coord_x\",37).property(\"coord_y\",31).as(\"TERM-85\").\n",
    "addV(\"Terminal\").property(id,\"TERM-86\").property(\"name\",\"TERM-86\").property(\"coord_x\",25).property(\"coord_y\",73).as(\"TERM-86\").\n",
    "addV(\"Terminal\").property(id,\"TERM-87\").property(\"name\",\"TERM-87\").property(\"coord_x\",67).property(\"coord_y\",40).as(\"TERM-87\").\n",
    "addV(\"Terminal\").property(id,\"TERM-88\").property(\"name\",\"TERM-88\").property(\"coord_x\",18).property(\"coord_y\",16).as(\"TERM-88\").\n",
    "addV(\"Terminal\").property(id,\"TERM-89\").property(\"name\",\"TERM-89\").property(\"coord_x\",38).property(\"coord_y\",21).as(\"TERM-89\").\n",
    "addV(\"Terminal\").property(id,\"TERM-90\").property(\"name\",\"TERM-90\").property(\"coord_x\",97).property(\"coord_y\",77).as(\"TERM-90\").\n",
    "addV(\"Terminal\").property(id,\"TERM-91\").property(\"name\",\"TERM-91\").property(\"coord_x\",46).property(\"coord_y\",33).as(\"TERM-91\").\n",
    "addV(\"Terminal\").property(id,\"TERM-92\").property(\"name\",\"TERM-92\").property(\"coord_x\",69).property(\"coord_y\",36).as(\"TERM-92\").\n",
    "addV(\"Terminal\").property(id,\"TERM-93\").property(\"name\",\"TERM-93\").property(\"coord_x\",100).property(\"coord_y\",71).as(\"TERM-93\").\n",
    "addV(\"Terminal\").property(id,\"TERM-94\").property(\"name\",\"TERM-94\").property(\"coord_x\",8).property(\"coord_y\",99).as(\"TERM-94\").\n",
    "addV(\"Terminal\").property(id,\"TERM-95\").property(\"name\",\"TERM-95\").property(\"coord_x\",87).property(\"coord_y\",62).as(\"TERM-95\").\n",
    "addV(\"Terminal\").property(id,\"TERM-96\").property(\"name\",\"TERM-96\").property(\"coord_x\",28).property(\"coord_y\",86).as(\"TERM-96\").\n",
    "addV(\"Terminal\").property(id,\"TERM-97\").property(\"name\",\"TERM-97\").property(\"coord_x\",8).property(\"coord_y\",85).as(\"TERM-97\").\n",
    "addV(\"Terminal\").property(id,\"TERM-98\").property(\"name\",\"TERM-98\").property(\"coord_x\",33).property(\"coord_y\",59).as(\"TERM-98\").\n",
    "addV(\"Terminal\").property(id,\"TERM-99\").property(\"name\",\"TERM-99\").property(\"coord_x\",97).property(\"coord_y\",54).as(\"TERM-99\")"
   ]
  },
  {
   "cell_type": "code",
   "execution_count": 110,
   "id": "9d53bd21-d559-4ed9-a640-9078c6f7ad67",
   "metadata": {
    "tags": []
   },
   "outputs": [
    {
     "data": {
      "application/vnd.jupyter.widget-view+json": {
       "model_id": "361551fda59d405c8019c5df1d40da0a",
       "version_major": 2,
       "version_minor": 0
      },
      "text/plain": [
       "Tab(children=(Output(layout=Layout(max_height='600px', max_width='940px', overflow='scroll')), Output(layout=L…"
      ]
     },
     "metadata": {},
     "output_type": "display_data"
    }
   ],
   "source": [
    "%%gremlin\n",
    "g.V().hasLabel('Terminal').count()"
   ]
  },
  {
   "cell_type": "code",
   "execution_count": 66,
   "id": "72648bf1-2c17-4bb1-bd44-e4a72219d40c",
   "metadata": {
    "tags": []
   },
   "outputs": [
    {
     "data": {
      "application/vnd.jupyter.widget-view+json": {
       "model_id": "55da8d5c78ab4310a42aa9e44d8e150a",
       "version_major": 2,
       "version_minor": 0
      },
      "text/plain": [
       "Tab(children=(Output(layout=Layout(max_height='600px', max_width='940px', overflow='scroll')), Output(layout=L…"
      ]
     },
     "metadata": {},
     "output_type": "display_data"
    }
   ],
   "source": [
    "%%gremlin\n",
    "g.V().hasLabel('Terminal').valueMap()"
   ]
  },
  {
   "cell_type": "markdown",
   "id": "a26b4513-8a33-41c5-bda5-47ac56706fa1",
   "metadata": {},
   "source": [
    "# Card"
   ]
  },
  {
   "cell_type": "code",
   "execution_count": 217,
   "id": "4cc1f71d-d489-4518-8d62-d8ebe04714bc",
   "metadata": {
    "tags": []
   },
   "outputs": [
    {
     "data": {
      "application/vnd.jupyter.widget-view+json": {
       "model_id": "ca5030f339a84c66a4535bdf1b7ad1f5",
       "version_major": 2,
       "version_minor": 0
      },
      "text/plain": [
       "Tab(children=(Output(layout=Layout(max_height='600px', max_width='940px', overflow='scroll')), Output(layout=L…"
      ]
     },
     "metadata": {},
     "output_type": "display_data"
    }
   ],
   "source": [
    "%%gremlin\n",
    "\n",
    "g.addV(\"Card\").property(id,\"111.111.000.201\").property(\"card_number\",\"111.111.000.201\").as(\"111.111.000.201\").\n",
    "addV(\"Card\").property(id,\"111.111.000.202\").property(\"card_number\",\"111.111.000.202\").as(\"111.111.000.202\").\n",
    "addV(\"Card\").property(id,\"111.111.000.203\").property(\"card_number\",\"111.111.000.203\").as(\"111.111.000.203\").\n",
    "addV(\"Card\").property(id,\"111.111.000.204\").property(\"card_number\",\"111.111.000.204\").as(\"111.111.000.204\").\n",
    "addV(\"Card\").property(id,\"111.111.000.205\").property(\"card_number\",\"111.111.000.205\").as(\"111.111.000.205\").\n",
    "addV(\"Card\").property(id,\"111.111.000.206\").property(\"card_number\",\"111.111.000.206\").as(\"111.111.000.206\").\n",
    "addV(\"Card\").property(id,\"111.111.000.207\").property(\"card_number\",\"111.111.000.207\").as(\"111.111.000.207\").\n",
    "addV(\"Card\").property(id,\"111.111.000.208\").property(\"card_number\",\"111.111.000.208\").as(\"111.111.000.208\").\n",
    "addV(\"Card\").property(id,\"111.111.000.209\").property(\"card_number\",\"111.111.000.209\").as(\"111.111.000.209\").\n",
    "addV(\"Card\").property(id,\"111.111.000.210\").property(\"card_number\",\"111.111.000.210\").as(\"111.111.000.210\").\n",
    "addV(\"Card\").property(id,\"111.111.000.211\").property(\"card_number\",\"111.111.000.211\").as(\"111.111.000.211\").\n",
    "addV(\"Card\").property(id,\"111.111.000.212\").property(\"card_number\",\"111.111.000.212\").as(\"111.111.000.212\").\n",
    "addV(\"Card\").property(id,\"111.111.000.213\").property(\"card_number\",\"111.111.000.213\").as(\"111.111.000.213\").\n",
    "addV(\"Card\").property(id,\"111.111.000.214\").property(\"card_number\",\"111.111.000.214\").as(\"111.111.000.214\").\n",
    "addV(\"Card\").property(id,\"111.111.000.215\").property(\"card_number\",\"111.111.000.215\").as(\"111.111.000.215\").\n",
    "addV(\"Card\").property(id,\"111.111.000.216\").property(\"card_number\",\"111.111.000.216\").as(\"111.111.000.216\").\n",
    "addV(\"Card\").property(id,\"111.111.000.217\").property(\"card_number\",\"111.111.000.217\").as(\"111.111.000.217\").\n",
    "addV(\"Card\").property(id,\"111.111.000.218\").property(\"card_number\",\"111.111.000.218\").as(\"111.111.000.218\").\n",
    "addV(\"Card\").property(id,\"111.111.000.219\").property(\"card_number\",\"111.111.000.219\").as(\"111.111.000.219\").\n",
    "addV(\"Card\").property(id,\"111.111.000.220\").property(\"card_number\",\"111.111.000.220\").as(\"111.111.000.220\").\n",
    "addV(\"Card\").property(id,\"111.111.000.221\").property(\"card_number\",\"111.111.000.221\").as(\"111.111.000.221\").\n",
    "addV(\"Card\").property(id,\"111.111.000.222\").property(\"card_number\",\"111.111.000.222\").as(\"111.111.000.222\").\n",
    "addV(\"Card\").property(id,\"111.111.000.223\").property(\"card_number\",\"111.111.000.223\").as(\"111.111.000.223\").\n",
    "addV(\"Card\").property(id,\"111.111.000.224\").property(\"card_number\",\"111.111.000.224\").as(\"111.111.000.224\").\n",
    "addV(\"Card\").property(id,\"111.111.000.225\").property(\"card_number\",\"111.111.000.225\").as(\"111.111.000.225\").\n",
    "addV(\"Card\").property(id,\"111.111.000.226\").property(\"card_number\",\"111.111.000.226\").as(\"111.111.000.226\").\n",
    "addV(\"Card\").property(id,\"111.111.000.227\").property(\"card_number\",\"111.111.000.227\").as(\"111.111.000.227\").\n",
    "addV(\"Card\").property(id,\"111.111.000.228\").property(\"card_number\",\"111.111.000.228\").as(\"111.111.000.228\").\n",
    "addV(\"Card\").property(id,\"111.111.000.229\").property(\"card_number\",\"111.111.000.229\").as(\"111.111.000.229\").\n",
    "addV(\"Card\").property(id,\"111.111.000.230\").property(\"card_number\",\"111.111.000.230\").as(\"111.111.000.230\").\n",
    "addV(\"Card\").property(id,\"111.111.000.231\").property(\"card_number\",\"111.111.000.231\").as(\"111.111.000.231\").\n",
    "addV(\"Card\").property(id,\"111.111.000.232\").property(\"card_number\",\"111.111.000.232\").as(\"111.111.000.232\").\n",
    "addV(\"Card\").property(id,\"111.111.000.233\").property(\"card_number\",\"111.111.000.233\").as(\"111.111.000.233\").\n",
    "addV(\"Card\").property(id,\"111.111.000.234\").property(\"card_number\",\"111.111.000.234\").as(\"111.111.000.234\").\n",
    "addV(\"Card\").property(id,\"111.111.000.235\").property(\"card_number\",\"111.111.000.235\").as(\"111.111.000.235\").\n",
    "addV(\"Card\").property(id,\"111.111.000.236\").property(\"card_number\",\"111.111.000.236\").as(\"111.111.000.236\").\n",
    "addV(\"Card\").property(id,\"111.111.000.237\").property(\"card_number\",\"111.111.000.237\").as(\"111.111.000.237\").\n",
    "addV(\"Card\").property(id,\"111.111.000.238\").property(\"card_number\",\"111.111.000.238\").as(\"111.111.000.238\").\n",
    "addV(\"Card\").property(id,\"111.111.000.239\").property(\"card_number\",\"111.111.000.239\").as(\"111.111.000.239\").\n",
    "addV(\"Card\").property(id,\"111.111.000.240\").property(\"card_number\",\"111.111.000.240\").as(\"111.111.000.240\").\n",
    "addV(\"Card\").property(id,\"111.111.000.241\").property(\"card_number\",\"111.111.000.241\").as(\"111.111.000.241\").\n",
    "addV(\"Card\").property(id,\"111.111.000.242\").property(\"card_number\",\"111.111.000.242\").as(\"111.111.000.242\").\n",
    "addV(\"Card\").property(id,\"111.111.000.243\").property(\"card_number\",\"111.111.000.243\").as(\"111.111.000.243\").\n",
    "addV(\"Card\").property(id,\"111.111.000.244\").property(\"card_number\",\"111.111.000.244\").as(\"111.111.000.244\").\n",
    "addV(\"Card\").property(id,\"111.111.000.245\").property(\"card_number\",\"111.111.000.245\").as(\"111.111.000.245\").\n",
    "addV(\"Card\").property(id,\"111.111.000.246\").property(\"card_number\",\"111.111.000.246\").as(\"111.111.000.246\").\n",
    "addV(\"Card\").property(id,\"111.111.000.247\").property(\"card_number\",\"111.111.000.247\").as(\"111.111.000.247\").\n",
    "addV(\"Card\").property(id,\"111.111.000.248\").property(\"card_number\",\"111.111.000.248\").as(\"111.111.000.248\").\n",
    "addV(\"Card\").property(id,\"111.111.000.249\").property(\"card_number\",\"111.111.000.249\").as(\"111.111.000.249\").\n",
    "addV(\"Card\").property(id,\"111.111.000.250\").property(\"card_number\",\"111.111.000.250\").as(\"111.111.000.250\").\n",
    "addV(\"Card\").property(id,\"111.111.000.251\").property(\"card_number\",\"111.111.000.251\").as(\"111.111.000.251\").\n",
    "addV(\"Card\").property(id,\"111.111.000.252\").property(\"card_number\",\"111.111.000.252\").as(\"111.111.000.252\").\n",
    "addV(\"Card\").property(id,\"111.111.000.253\").property(\"card_number\",\"111.111.000.253\").as(\"111.111.000.253\").\n",
    "addV(\"Card\").property(id,\"111.111.000.254\").property(\"card_number\",\"111.111.000.254\").as(\"111.111.000.254\").\n",
    "addV(\"Card\").property(id,\"111.111.000.255\").property(\"card_number\",\"111.111.000.255\").as(\"111.111.000.255\").\n",
    "addV(\"Card\").property(id,\"111.111.000.256\").property(\"card_number\",\"111.111.000.256\").as(\"111.111.000.256\").\n",
    "addV(\"Card\").property(id,\"111.111.000.257\").property(\"card_number\",\"111.111.000.257\").as(\"111.111.000.257\").\n",
    "addV(\"Card\").property(id,\"111.111.000.258\").property(\"card_number\",\"111.111.000.258\").as(\"111.111.000.258\").\n",
    "addV(\"Card\").property(id,\"111.111.000.259\").property(\"card_number\",\"111.111.000.259\").as(\"111.111.000.259\").\n",
    "addV(\"Card\").property(id,\"111.111.000.260\").property(\"card_number\",\"111.111.000.260\").as(\"111.111.000.260\").\n",
    "addV(\"Card\").property(id,\"111.111.000.261\").property(\"card_number\",\"111.111.000.261\").as(\"111.111.000.261\").\n",
    "addV(\"Card\").property(id,\"111.111.000.262\").property(\"card_number\",\"111.111.000.262\").as(\"111.111.000.262\").\n",
    "addV(\"Card\").property(id,\"111.111.000.263\").property(\"card_number\",\"111.111.000.263\").as(\"111.111.000.263\").\n",
    "addV(\"Card\").property(id,\"111.111.000.264\").property(\"card_number\",\"111.111.000.264\").as(\"111.111.000.264\").\n",
    "addV(\"Card\").property(id,\"111.111.000.265\").property(\"card_number\",\"111.111.000.265\").as(\"111.111.000.265\").\n",
    "addV(\"Card\").property(id,\"111.111.000.266\").property(\"card_number\",\"111.111.000.266\").as(\"111.111.000.266\").\n",
    "addV(\"Card\").property(id,\"111.111.000.267\").property(\"card_number\",\"111.111.000.267\").as(\"111.111.000.267\").\n",
    "addV(\"Card\").property(id,\"111.111.000.268\").property(\"card_number\",\"111.111.000.268\").as(\"111.111.000.268\").\n",
    "addV(\"Card\").property(id,\"111.111.000.269\").property(\"card_number\",\"111.111.000.269\").as(\"111.111.000.269\").\n",
    "addV(\"Card\").property(id,\"111.111.000.270\").property(\"card_number\",\"111.111.000.270\").as(\"111.111.000.270\").\n",
    "addV(\"Card\").property(id,\"111.111.000.271\").property(\"card_number\",\"111.111.000.271\").as(\"111.111.000.271\").\n",
    "addV(\"Card\").property(id,\"111.111.000.272\").property(\"card_number\",\"111.111.000.272\").as(\"111.111.000.272\").\n",
    "addV(\"Card\").property(id,\"111.111.000.273\").property(\"card_number\",\"111.111.000.273\").as(\"111.111.000.273\").\n",
    "addV(\"Card\").property(id,\"111.111.000.274\").property(\"card_number\",\"111.111.000.274\").as(\"111.111.000.274\").\n",
    "addV(\"Card\").property(id,\"111.111.000.275\").property(\"card_number\",\"111.111.000.275\").as(\"111.111.000.275\").\n",
    "addV(\"Card\").property(id,\"111.111.000.276\").property(\"card_number\",\"111.111.000.276\").as(\"111.111.000.276\").\n",
    "addV(\"Card\").property(id,\"111.111.000.277\").property(\"card_number\",\"111.111.000.277\").as(\"111.111.000.277\").\n",
    "addV(\"Card\").property(id,\"111.111.000.278\").property(\"card_number\",\"111.111.000.278\").as(\"111.111.000.278\").\n",
    "addV(\"Card\").property(id,\"111.111.000.279\").property(\"card_number\",\"111.111.000.279\").as(\"111.111.000.279\").\n",
    "addV(\"Card\").property(id,\"111.111.000.280\").property(\"card_number\",\"111.111.000.280\").as(\"111.111.000.280\").\n",
    "addV(\"Card\").property(id,\"111.111.000.281\").property(\"card_number\",\"111.111.000.281\").as(\"111.111.000.281\").\n",
    "addV(\"Card\").property(id,\"111.111.000.282\").property(\"card_number\",\"111.111.000.282\").as(\"111.111.000.282\").\n",
    "addV(\"Card\").property(id,\"111.111.000.283\").property(\"card_number\",\"111.111.000.283\").as(\"111.111.000.283\").\n",
    "addV(\"Card\").property(id,\"111.111.000.284\").property(\"card_number\",\"111.111.000.284\").as(\"111.111.000.284\").\n",
    "addV(\"Card\").property(id,\"111.111.000.285\").property(\"card_number\",\"111.111.000.285\").as(\"111.111.000.285\").\n",
    "addV(\"Card\").property(id,\"111.111.000.286\").property(\"card_number\",\"111.111.000.286\").as(\"111.111.000.286\").\n",
    "addV(\"Card\").property(id,\"111.111.000.287\").property(\"card_number\",\"111.111.000.287\").as(\"111.111.000.287\").\n",
    "addV(\"Card\").property(id,\"111.111.000.288\").property(\"card_number\",\"111.111.000.288\").as(\"111.111.000.288\").\n",
    "addV(\"Card\").property(id,\"111.111.000.289\").property(\"card_number\",\"111.111.000.289\").as(\"111.111.000.289\").\n",
    "addV(\"Card\").property(id,\"111.111.000.290\").property(\"card_number\",\"111.111.000.290\").as(\"111.111.000.290\").\n",
    "addV(\"Card\").property(id,\"111.111.000.291\").property(\"card_number\",\"111.111.000.291\").as(\"111.111.000.291\").\n",
    "addV(\"Card\").property(id,\"111.111.000.292\").property(\"card_number\",\"111.111.000.292\").as(\"111.111.000.292\").\n",
    "addV(\"Card\").property(id,\"111.111.000.293\").property(\"card_number\",\"111.111.000.293\").as(\"111.111.000.293\").\n",
    "addV(\"Card\").property(id,\"111.111.000.294\").property(\"card_number\",\"111.111.000.294\").as(\"111.111.000.294\").\n",
    "addV(\"Card\").property(id,\"111.111.000.295\").property(\"card_number\",\"111.111.000.295\").as(\"111.111.000.295\").\n",
    "addV(\"Card\").property(id,\"111.111.000.296\").property(\"card_number\",\"111.111.000.296\").as(\"111.111.000.296\").\n",
    "addV(\"Card\").property(id,\"111.111.000.297\").property(\"card_number\",\"111.111.000.297\").as(\"111.111.000.297\").\n",
    "addV(\"Card\").property(id,\"111.111.000.298\").property(\"card_number\",\"111.111.000.298\").as(\"111.111.000.298\").\n",
    "addV(\"Card\").property(id,\"111.111.000.299\").property(\"card_number\",\"111.111.000.299\").as(\"111.111.000.299\").\n",
    "addV(\"Card\").property(id,\"111.111.000.300\").property(\"card_number\",\"111.111.000.300\").as(\"111.111.000.300\").\n",
    "addV(\"Card\").property(id,\"111.111.000.301\").property(\"card_number\",\"111.111.000.301\").as(\"111.111.000.301\").\n",
    "addV(\"Card\").property(id,\"111.111.000.302\").property(\"card_number\",\"111.111.000.302\").as(\"111.111.000.302\").\n",
    "addV(\"Card\").property(id,\"111.111.000.303\").property(\"card_number\",\"111.111.000.303\").as(\"111.111.000.303\").\n",
    "addV(\"Card\").property(id,\"111.111.000.304\").property(\"card_number\",\"111.111.000.304\").as(\"111.111.000.304\").\n",
    "addV(\"Card\").property(id,\"111.111.000.305\").property(\"card_number\",\"111.111.000.305\").as(\"111.111.000.305\").\n",
    "addV(\"Card\").property(id,\"111.111.000.306\").property(\"card_number\",\"111.111.000.306\").as(\"111.111.000.306\").\n",
    "addV(\"Card\").property(id,\"111.111.000.307\").property(\"card_number\",\"111.111.000.307\").as(\"111.111.000.307\").\n",
    "addV(\"Card\").property(id,\"111.111.000.308\").property(\"card_number\",\"111.111.000.308\").as(\"111.111.000.308\").\n",
    "addV(\"Card\").property(id,\"111.111.000.309\").property(\"card_number\",\"111.111.000.309\").as(\"111.111.000.309\")"
   ]
  },
  {
   "cell_type": "markdown",
   "id": "36b8d80d-dce5-451e-b72b-52eecdf38ca7",
   "metadata": {},
   "source": [
    "# Payment"
   ]
  },
  {
   "cell_type": "code",
   "execution_count": 221,
   "id": "3d078783-d9e4-4342-9d06-c82f77af86b1",
   "metadata": {
    "tags": []
   },
   "outputs": [
    {
     "data": {
      "application/vnd.jupyter.widget-view+json": {
       "model_id": "f9ea545972d94b59b417a707023ac06f",
       "version_major": 2,
       "version_minor": 0
      },
      "text/plain": [
       "Tab(children=(Output(layout=Layout(max_height='600px', max_width='940px', overflow='scroll')), Output(layout=L…"
      ]
     },
     "metadata": {},
     "output_type": "display_data"
    }
   ],
   "source": [
    "%%gremlin\n",
    "\n",
    "g.addV(\"Card\").property(id,\"111.111.000.701\").property(\"card_number\",\"111.111.000.701\").as(\"111.111.000.701\").\n",
    "addV(\"Card\").property(id,\"111.111.000.702\").property(\"card_number\",\"111.111.000.702\").as(\"111.111.000.702\").\n",
    "addV(\"Card\").property(id,\"111.111.000.703\").property(\"card_number\",\"111.111.000.703\").as(\"111.111.000.703\").\n",
    "addV(\"Card\").property(id,\"111.111.000.704\").property(\"card_number\",\"111.111.000.704\").as(\"111.111.000.704\").\n",
    "addV(\"Card\").property(id,\"111.111.000.705\").property(\"card_number\",\"111.111.000.705\").as(\"111.111.000.705\").\n",
    "addV(\"Card\").property(id,\"111.111.000.706\").property(\"card_number\",\"111.111.000.706\").as(\"111.111.000.706\").\n",
    "addV(\"Card\").property(id,\"111.111.000.707\").property(\"card_number\",\"111.111.000.707\").as(\"111.111.000.707\").\n",
    "addV(\"Card\").property(id,\"111.111.000.708\").property(\"card_number\",\"111.111.000.708\").as(\"111.111.000.708\").\n",
    "addV(\"Card\").property(id,\"111.111.000.709\").property(\"card_number\",\"111.111.000.709\").as(\"111.111.000.709\").\n",
    "addV(\"Card\").property(id,\"111.111.000.710\").property(\"card_number\",\"111.111.000.710\").as(\"111.111.000.710\").\n",
    "addV(\"Card\").property(id,\"111.111.000.711\").property(\"card_number\",\"111.111.000.711\").as(\"111.111.000.711\").\n",
    "addV(\"Card\").property(id,\"111.111.000.712\").property(\"card_number\",\"111.111.000.712\").as(\"111.111.000.712\").\n",
    "addV(\"Card\").property(id,\"111.111.000.713\").property(\"card_number\",\"111.111.000.713\").as(\"111.111.000.713\").\n",
    "addV(\"Card\").property(id,\"111.111.000.714\").property(\"card_number\",\"111.111.000.714\").as(\"111.111.000.714\").\n",
    "addV(\"Card\").property(id,\"111.111.000.715\").property(\"card_number\",\"111.111.000.715\").as(\"111.111.000.715\").\n",
    "addV(\"Card\").property(id,\"111.111.000.716\").property(\"card_number\",\"111.111.000.716\").as(\"111.111.000.716\").\n",
    "addV(\"Card\").property(id,\"111.111.000.717\").property(\"card_number\",\"111.111.000.717\").as(\"111.111.000.717\").\n",
    "addV(\"Card\").property(id,\"111.111.000.718\").property(\"card_number\",\"111.111.000.718\").as(\"111.111.000.718\").\n",
    "addV(\"Card\").property(id,\"111.111.000.719\").property(\"card_number\",\"111.111.000.719\").as(\"111.111.000.719\").\n",
    "addV(\"Card\").property(id,\"111.111.000.720\").property(\"card_number\",\"111.111.000.720\").as(\"111.111.000.720\").\n",
    "addV(\"Card\").property(id,\"111.111.000.721\").property(\"card_number\",\"111.111.000.721\").as(\"111.111.000.721\").\n",
    "addV(\"Card\").property(id,\"111.111.000.722\").property(\"card_number\",\"111.111.000.722\").as(\"111.111.000.722\").\n",
    "addV(\"Card\").property(id,\"111.111.000.723\").property(\"card_number\",\"111.111.000.723\").as(\"111.111.000.723\").\n",
    "addV(\"Card\").property(id,\"111.111.000.724\").property(\"card_number\",\"111.111.000.724\").as(\"111.111.000.724\").\n",
    "addV(\"Card\").property(id,\"111.111.000.725\").property(\"card_number\",\"111.111.000.725\").as(\"111.111.000.725\").\n",
    "addV(\"Card\").property(id,\"111.111.000.726\").property(\"card_number\",\"111.111.000.726\").as(\"111.111.000.726\").\n",
    "addV(\"Card\").property(id,\"111.111.000.727\").property(\"card_number\",\"111.111.000.727\").as(\"111.111.000.727\").\n",
    "addV(\"Card\").property(id,\"111.111.000.728\").property(\"card_number\",\"111.111.000.728\").as(\"111.111.000.728\").\n",
    "addV(\"Card\").property(id,\"111.111.000.729\").property(\"card_number\",\"111.111.000.729\").as(\"111.111.000.729\").\n",
    "addV(\"Card\").property(id,\"111.111.000.730\").property(\"card_number\",\"111.111.000.730\").as(\"111.111.000.730\").\n",
    "addV(\"Card\").property(id,\"111.111.000.731\").property(\"card_number\",\"111.111.000.731\").as(\"111.111.000.731\").\n",
    "addV(\"Card\").property(id,\"111.111.000.732\").property(\"card_number\",\"111.111.000.732\").as(\"111.111.000.732\").\n",
    "addV(\"Card\").property(id,\"111.111.000.733\").property(\"card_number\",\"111.111.000.733\").as(\"111.111.000.733\").\n",
    "addV(\"Card\").property(id,\"111.111.000.734\").property(\"card_number\",\"111.111.000.734\").as(\"111.111.000.734\").\n",
    "addV(\"Card\").property(id,\"111.111.000.735\").property(\"card_number\",\"111.111.000.735\").as(\"111.111.000.735\").\n",
    "addV(\"Card\").property(id,\"111.111.000.736\").property(\"card_number\",\"111.111.000.736\").as(\"111.111.000.736\").\n",
    "addV(\"Card\").property(id,\"111.111.000.737\").property(\"card_number\",\"111.111.000.737\").as(\"111.111.000.737\").\n",
    "addV(\"Card\").property(id,\"111.111.000.738\").property(\"card_number\",\"111.111.000.738\").as(\"111.111.000.738\").\n",
    "addV(\"Card\").property(id,\"111.111.000.739\").property(\"card_number\",\"111.111.000.739\").as(\"111.111.000.739\").\n",
    "addV(\"Card\").property(id,\"111.111.000.740\").property(\"card_number\",\"111.111.000.740\").as(\"111.111.000.740\").\n",
    "addV(\"Card\").property(id,\"111.111.000.741\").property(\"card_number\",\"111.111.000.741\").as(\"111.111.000.741\").\n",
    "addV(\"Card\").property(id,\"111.111.000.742\").property(\"card_number\",\"111.111.000.742\").as(\"111.111.000.742\").\n",
    "addV(\"Card\").property(id,\"111.111.000.743\").property(\"card_number\",\"111.111.000.743\").as(\"111.111.000.743\").\n",
    "addV(\"Card\").property(id,\"111.111.000.744\").property(\"card_number\",\"111.111.000.744\").as(\"111.111.000.744\").\n",
    "addV(\"Card\").property(id,\"111.111.000.745\").property(\"card_number\",\"111.111.000.745\").as(\"111.111.000.745\").\n",
    "addV(\"Card\").property(id,\"111.111.000.746\").property(\"card_number\",\"111.111.000.746\").as(\"111.111.000.746\").\n",
    "addV(\"Card\").property(id,\"111.111.000.747\").property(\"card_number\",\"111.111.000.747\").as(\"111.111.000.747\").\n",
    "addV(\"Card\").property(id,\"111.111.000.748\").property(\"card_number\",\"111.111.000.748\").as(\"111.111.000.748\").\n",
    "addV(\"Card\").property(id,\"111.111.000.749\").property(\"card_number\",\"111.111.000.749\").as(\"111.111.000.749\").\n",
    "addV(\"Card\").property(id,\"111.111.000.750\").property(\"card_number\",\"111.111.000.750\").as(\"111.111.000.750\").\n",
    "addV(\"Card\").property(id,\"111.111.000.751\").property(\"card_number\",\"111.111.000.751\").as(\"111.111.000.751\").\n",
    "addV(\"Card\").property(id,\"111.111.000.752\").property(\"card_number\",\"111.111.000.752\").as(\"111.111.000.752\").\n",
    "addV(\"Card\").property(id,\"111.111.000.753\").property(\"card_number\",\"111.111.000.753\").as(\"111.111.000.753\").\n",
    "addV(\"Card\").property(id,\"111.111.000.754\").property(\"card_number\",\"111.111.000.754\").as(\"111.111.000.754\").\n",
    "addV(\"Card\").property(id,\"111.111.000.755\").property(\"card_number\",\"111.111.000.755\").as(\"111.111.000.755\").\n",
    "addV(\"Card\").property(id,\"111.111.000.756\").property(\"card_number\",\"111.111.000.756\").as(\"111.111.000.756\").\n",
    "addV(\"Card\").property(id,\"111.111.000.757\").property(\"card_number\",\"111.111.000.757\").as(\"111.111.000.757\").\n",
    "addV(\"Card\").property(id,\"111.111.000.758\").property(\"card_number\",\"111.111.000.758\").as(\"111.111.000.758\").\n",
    "addV(\"Card\").property(id,\"111.111.000.759\").property(\"card_number\",\"111.111.000.759\").as(\"111.111.000.759\").\n",
    "addV(\"Card\").property(id,\"111.111.000.760\").property(\"card_number\",\"111.111.000.760\").as(\"111.111.000.760\").\n",
    "addV(\"Card\").property(id,\"111.111.000.761\").property(\"card_number\",\"111.111.000.761\").as(\"111.111.000.761\").\n",
    "addV(\"Card\").property(id,\"111.111.000.762\").property(\"card_number\",\"111.111.000.762\").as(\"111.111.000.762\").\n",
    "addV(\"Card\").property(id,\"111.111.000.763\").property(\"card_number\",\"111.111.000.763\").as(\"111.111.000.763\").\n",
    "addV(\"Card\").property(id,\"111.111.000.764\").property(\"card_number\",\"111.111.000.764\").as(\"111.111.000.764\").\n",
    "addV(\"Card\").property(id,\"111.111.000.765\").property(\"card_number\",\"111.111.000.765\").as(\"111.111.000.765\").\n",
    "addV(\"Card\").property(id,\"111.111.000.766\").property(\"card_number\",\"111.111.000.766\").as(\"111.111.000.766\").\n",
    "addV(\"Card\").property(id,\"111.111.000.767\").property(\"card_number\",\"111.111.000.767\").as(\"111.111.000.767\").\n",
    "addV(\"Card\").property(id,\"111.111.000.768\").property(\"card_number\",\"111.111.000.768\").as(\"111.111.000.768\").\n",
    "addV(\"Card\").property(id,\"111.111.000.769\").property(\"card_number\",\"111.111.000.769\").as(\"111.111.000.769\").\n",
    "addV(\"Card\").property(id,\"111.111.000.770\").property(\"card_number\",\"111.111.000.770\").as(\"111.111.000.770\").\n",
    "addV(\"Card\").property(id,\"111.111.000.771\").property(\"card_number\",\"111.111.000.771\").as(\"111.111.000.771\").\n",
    "addV(\"Card\").property(id,\"111.111.000.772\").property(\"card_number\",\"111.111.000.772\").as(\"111.111.000.772\").\n",
    "addV(\"Card\").property(id,\"111.111.000.773\").property(\"card_number\",\"111.111.000.773\").as(\"111.111.000.773\").\n",
    "addV(\"Card\").property(id,\"111.111.000.774\").property(\"card_number\",\"111.111.000.774\").as(\"111.111.000.774\").\n",
    "addV(\"Card\").property(id,\"111.111.000.775\").property(\"card_number\",\"111.111.000.775\").as(\"111.111.000.775\").\n",
    "addV(\"Card\").property(id,\"111.111.000.776\").property(\"card_number\",\"111.111.000.776\").as(\"111.111.000.776\").\n",
    "addV(\"Card\").property(id,\"111.111.000.777\").property(\"card_number\",\"111.111.000.777\").as(\"111.111.000.777\").\n",
    "addV(\"Card\").property(id,\"111.111.000.778\").property(\"card_number\",\"111.111.000.778\").as(\"111.111.000.778\").\n",
    "addV(\"Card\").property(id,\"111.111.000.779\").property(\"card_number\",\"111.111.000.779\").as(\"111.111.000.779\").\n",
    "addV(\"Card\").property(id,\"111.111.000.780\").property(\"card_number\",\"111.111.000.780\").as(\"111.111.000.780\").\n",
    "addV(\"Card\").property(id,\"111.111.000.781\").property(\"card_number\",\"111.111.000.781\").as(\"111.111.000.781\").\n",
    "addV(\"Card\").property(id,\"111.111.000.782\").property(\"card_number\",\"111.111.000.782\").as(\"111.111.000.782\").\n",
    "addV(\"Card\").property(id,\"111.111.000.783\").property(\"card_number\",\"111.111.000.783\").as(\"111.111.000.783\").\n",
    "addV(\"Card\").property(id,\"111.111.000.784\").property(\"card_number\",\"111.111.000.784\").as(\"111.111.000.784\").\n",
    "addV(\"Card\").property(id,\"111.111.000.785\").property(\"card_number\",\"111.111.000.785\").as(\"111.111.000.785\").\n",
    "addV(\"Card\").property(id,\"111.111.000.786\").property(\"card_number\",\"111.111.000.786\").as(\"111.111.000.786\").\n",
    "addV(\"Card\").property(id,\"111.111.000.787\").property(\"card_number\",\"111.111.000.787\").as(\"111.111.000.787\").\n",
    "addV(\"Card\").property(id,\"111.111.000.788\").property(\"card_number\",\"111.111.000.788\").as(\"111.111.000.788\").\n",
    "addV(\"Card\").property(id,\"111.111.000.789\").property(\"card_number\",\"111.111.000.789\").as(\"111.111.000.789\").\n",
    "addV(\"Card\").property(id,\"111.111.000.790\").property(\"card_number\",\"111.111.000.790\").as(\"111.111.000.790\").\n",
    "addV(\"Card\").property(id,\"111.111.000.791\").property(\"card_number\",\"111.111.000.791\").as(\"111.111.000.791\").\n",
    "addV(\"Card\").property(id,\"111.111.000.792\").property(\"card_number\",\"111.111.000.792\").as(\"111.111.000.792\").\n",
    "addV(\"Card\").property(id,\"111.111.000.793\").property(\"card_number\",\"111.111.000.793\").as(\"111.111.000.793\").\n",
    "addV(\"Card\").property(id,\"111.111.000.794\").property(\"card_number\",\"111.111.000.794\").as(\"111.111.000.794\").\n",
    "addV(\"Card\").property(id,\"111.111.000.795\").property(\"card_number\",\"111.111.000.795\").as(\"111.111.000.795\").\n",
    "addV(\"Card\").property(id,\"111.111.000.796\").property(\"card_number\",\"111.111.000.796\").as(\"111.111.000.796\").\n",
    "addV(\"Card\").property(id,\"111.111.000.797\").property(\"card_number\",\"111.111.000.797\").as(\"111.111.000.797\").\n",
    "addV(\"Card\").property(id,\"111.111.000.798\").property(\"card_number\",\"111.111.000.798\").as(\"111.111.000.798\").\n",
    "addV(\"Card\").property(id,\"111.111.000.799\").property(\"card_number\",\"111.111.000.799\").as(\"111.111.000.799\").\n",
    "addV(\"Card\").property(id,\"111.111.000.800\").property(\"card_number\",\"111.111.000.800\").as(\"111.111.000.800\").\n",
    "addV(\"Card\").property(id,\"111.111.000.801\").property(\"card_number\",\"111.111.000.801\").as(\"111.111.000.801\").\n",
    "addV(\"Card\").property(id,\"111.111.000.802\").property(\"card_number\",\"111.111.000.802\").as(\"111.111.000.802\").\n",
    "addV(\"Card\").property(id,\"111.111.000.803\").property(\"card_number\",\"111.111.000.803\").as(\"111.111.000.803\").\n",
    "addV(\"Card\").property(id,\"111.111.000.804\").property(\"card_number\",\"111.111.000.804\").as(\"111.111.000.804\").\n",
    "addV(\"Card\").property(id,\"111.111.000.805\").property(\"card_number\",\"111.111.000.805\").as(\"111.111.000.805\").\n",
    "addV(\"Card\").property(id,\"111.111.000.806\").property(\"card_number\",\"111.111.000.806\").as(\"111.111.000.806\").\n",
    "addV(\"Card\").property(id,\"111.111.000.807\").property(\"card_number\",\"111.111.000.807\").as(\"111.111.000.807\").\n",
    "addV(\"Card\").property(id,\"111.111.000.808\").property(\"card_number\",\"111.111.000.808\").as(\"111.111.000.808\").\n",
    "addV(\"Card\").property(id,\"111.111.000.809\").property(\"card_number\",\"111.111.000.809\").as(\"111.111.000.809\").\n",
    "addV(\"Card\").property(id,\"111.111.000.810\").property(\"card_number\",\"111.111.000.810\").as(\"111.111.000.810\").\n",
    "addV(\"Card\").property(id,\"111.111.000.811\").property(\"card_number\",\"111.111.000.811\").as(\"111.111.000.811\").\n",
    "addV(\"Card\").property(id,\"111.111.000.812\").property(\"card_number\",\"111.111.000.812\").as(\"111.111.000.812\").\n",
    "addV(\"Card\").property(id,\"111.111.000.813\").property(\"card_number\",\"111.111.000.813\").as(\"111.111.000.813\").\n",
    "addV(\"Card\").property(id,\"111.111.000.814\").property(\"card_number\",\"111.111.000.814\").as(\"111.111.000.814\").\n",
    "addV(\"Card\").property(id,\"111.111.000.815\").property(\"card_number\",\"111.111.000.815\").as(\"111.111.000.815\").\n",
    "addV(\"Card\").property(id,\"111.111.000.816\").property(\"card_number\",\"111.111.000.816\").as(\"111.111.000.816\").\n",
    "addV(\"Card\").property(id,\"111.111.000.817\").property(\"card_number\",\"111.111.000.817\").as(\"111.111.000.817\").\n",
    "addV(\"Card\").property(id,\"111.111.000.818\").property(\"card_number\",\"111.111.000.818\").as(\"111.111.000.818\").\n",
    "addV(\"Card\").property(id,\"111.111.000.819\").property(\"card_number\",\"111.111.000.819\").as(\"111.111.000.819\").\n",
    "addV(\"Card\").property(id,\"111.111.000.820\").property(\"card_number\",\"111.111.000.820\").as(\"111.111.000.820\").\n",
    "addV(\"Card\").property(id,\"111.111.000.821\").property(\"card_number\",\"111.111.000.821\").as(\"111.111.000.821\").\n",
    "addV(\"Card\").property(id,\"111.111.000.822\").property(\"card_number\",\"111.111.000.822\").as(\"111.111.000.822\").\n",
    "addV(\"Card\").property(id,\"111.111.000.823\").property(\"card_number\",\"111.111.000.823\").as(\"111.111.000.823\").\n",
    "addV(\"Card\").property(id,\"111.111.000.824\").property(\"card_number\",\"111.111.000.824\").as(\"111.111.000.824\").\n",
    "addV(\"Card\").property(id,\"111.111.000.825\").property(\"card_number\",\"111.111.000.825\").as(\"111.111.000.825\").\n",
    "addV(\"Card\").property(id,\"111.111.000.826\").property(\"card_number\",\"111.111.000.826\").as(\"111.111.000.826\").\n",
    "addV(\"Card\").property(id,\"111.111.000.827\").property(\"card_number\",\"111.111.000.827\").as(\"111.111.000.827\").\n",
    "addV(\"Card\").property(id,\"111.111.000.828\").property(\"card_number\",\"111.111.000.828\").as(\"111.111.000.828\").\n",
    "addV(\"Card\").property(id,\"111.111.000.829\").property(\"card_number\",\"111.111.000.829\").as(\"111.111.000.829\").\n",
    "addV(\"Card\").property(id,\"111.111.000.830\").property(\"card_number\",\"111.111.000.830\").as(\"111.111.000.830\").\n",
    "addV(\"Card\").property(id,\"111.111.000.831\").property(\"card_number\",\"111.111.000.831\").as(\"111.111.000.831\").\n",
    "addV(\"Card\").property(id,\"111.111.000.832\").property(\"card_number\",\"111.111.000.832\").as(\"111.111.000.832\").\n",
    "addV(\"Card\").property(id,\"111.111.000.833\").property(\"card_number\",\"111.111.000.833\").as(\"111.111.000.833\").\n",
    "addV(\"Card\").property(id,\"111.111.000.834\").property(\"card_number\",\"111.111.000.834\").as(\"111.111.000.834\").\n",
    "addV(\"Card\").property(id,\"111.111.000.835\").property(\"card_number\",\"111.111.000.835\").as(\"111.111.000.835\").\n",
    "addV(\"Card\").property(id,\"111.111.000.836\").property(\"card_number\",\"111.111.000.836\").as(\"111.111.000.836\").\n",
    "addV(\"Card\").property(id,\"111.111.000.837\").property(\"card_number\",\"111.111.000.837\").as(\"111.111.000.837\").\n",
    "addV(\"Card\").property(id,\"111.111.000.838\").property(\"card_number\",\"111.111.000.838\").as(\"111.111.000.838\").\n",
    "addV(\"Card\").property(id,\"111.111.000.839\").property(\"card_number\",\"111.111.000.839\").as(\"111.111.000.839\").\n",
    "addV(\"Card\").property(id,\"111.111.000.840\").property(\"card_number\",\"111.111.000.840\").as(\"111.111.000.840\").\n",
    "addV(\"Card\").property(id,\"111.111.000.841\").property(\"card_number\",\"111.111.000.841\").as(\"111.111.000.841\").\n",
    "addV(\"Card\").property(id,\"111.111.000.842\").property(\"card_number\",\"111.111.000.842\").as(\"111.111.000.842\").\n",
    "addV(\"Card\").property(id,\"111.111.000.843\").property(\"card_number\",\"111.111.000.843\").as(\"111.111.000.843\").\n",
    "addV(\"Card\").property(id,\"111.111.000.844\").property(\"card_number\",\"111.111.000.844\").as(\"111.111.000.844\").\n",
    "addV(\"Card\").property(id,\"111.111.000.845\").property(\"card_number\",\"111.111.000.845\").as(\"111.111.000.845\").\n",
    "addV(\"Card\").property(id,\"111.111.000.846\").property(\"card_number\",\"111.111.000.846\").as(\"111.111.000.846\").\n",
    "addV(\"Card\").property(id,\"111.111.000.847\").property(\"card_number\",\"111.111.000.847\").as(\"111.111.000.847\").\n",
    "addV(\"Card\").property(id,\"111.111.000.848\").property(\"card_number\",\"111.111.000.848\").as(\"111.111.000.848\").\n",
    "addV(\"Card\").property(id,\"111.111.000.849\").property(\"card_number\",\"111.111.000.849\").as(\"111.111.000.849\").\n",
    "addV(\"Card\").property(id,\"111.111.000.850\").property(\"card_number\",\"111.111.000.850\").as(\"111.111.000.850\").\n",
    "addV(\"Card\").property(id,\"111.111.000.851\").property(\"card_number\",\"111.111.000.851\").as(\"111.111.000.851\").\n",
    "addV(\"Card\").property(id,\"111.111.000.852\").property(\"card_number\",\"111.111.000.852\").as(\"111.111.000.852\").\n",
    "addV(\"Card\").property(id,\"111.111.000.853\").property(\"card_number\",\"111.111.000.853\").as(\"111.111.000.853\").\n",
    "addV(\"Card\").property(id,\"111.111.000.854\").property(\"card_number\",\"111.111.000.854\").as(\"111.111.000.854\").\n",
    "addV(\"Card\").property(id,\"111.111.000.855\").property(\"card_number\",\"111.111.000.855\").as(\"111.111.000.855\").\n",
    "addV(\"Card\").property(id,\"111.111.000.856\").property(\"card_number\",\"111.111.000.856\").as(\"111.111.000.856\").\n",
    "addV(\"Card\").property(id,\"111.111.000.857\").property(\"card_number\",\"111.111.000.857\").as(\"111.111.000.857\").\n",
    "addV(\"Card\").property(id,\"111.111.000.858\").property(\"card_number\",\"111.111.000.858\").as(\"111.111.000.858\").\n",
    "addV(\"Card\").property(id,\"111.111.000.859\").property(\"card_number\",\"111.111.000.859\").as(\"111.111.000.859\").\n",
    "addV(\"Card\").property(id,\"111.111.000.860\").property(\"card_number\",\"111.111.000.860\").as(\"111.111.000.860\").\n",
    "addV(\"Card\").property(id,\"111.111.000.861\").property(\"card_number\",\"111.111.000.861\").as(\"111.111.000.861\").\n",
    "addV(\"Card\").property(id,\"111.111.000.862\").property(\"card_number\",\"111.111.000.862\").as(\"111.111.000.862\").\n",
    "addV(\"Card\").property(id,\"111.111.000.863\").property(\"card_number\",\"111.111.000.863\").as(\"111.111.000.863\").\n",
    "addV(\"Card\").property(id,\"111.111.000.864\").property(\"card_number\",\"111.111.000.864\").as(\"111.111.000.864\").\n",
    "addV(\"Card\").property(id,\"111.111.000.865\").property(\"card_number\",\"111.111.000.865\").as(\"111.111.000.865\").\n",
    "addV(\"Card\").property(id,\"111.111.000.866\").property(\"card_number\",\"111.111.000.866\").as(\"111.111.000.866\").\n",
    "addV(\"Card\").property(id,\"111.111.000.867\").property(\"card_number\",\"111.111.000.867\").as(\"111.111.000.867\").\n",
    "addV(\"Card\").property(id,\"111.111.000.868\").property(\"card_number\",\"111.111.000.868\").as(\"111.111.000.868\").\n",
    "addV(\"Card\").property(id,\"111.111.000.869\").property(\"card_number\",\"111.111.000.869\").as(\"111.111.000.869\").\n",
    "addV(\"Card\").property(id,\"111.111.000.870\").property(\"card_number\",\"111.111.000.870\").as(\"111.111.000.870\").\n",
    "addV(\"Card\").property(id,\"111.111.000.871\").property(\"card_number\",\"111.111.000.871\").as(\"111.111.000.871\").\n",
    "addV(\"Card\").property(id,\"111.111.000.872\").property(\"card_number\",\"111.111.000.872\").as(\"111.111.000.872\").\n",
    "addV(\"Card\").property(id,\"111.111.000.873\").property(\"card_number\",\"111.111.000.873\").as(\"111.111.000.873\").\n",
    "addV(\"Card\").property(id,\"111.111.000.874\").property(\"card_number\",\"111.111.000.874\").as(\"111.111.000.874\").\n",
    "addV(\"Card\").property(id,\"111.111.000.875\").property(\"card_number\",\"111.111.000.875\").as(\"111.111.000.875\").\n",
    "addV(\"Card\").property(id,\"111.111.000.876\").property(\"card_number\",\"111.111.000.876\").as(\"111.111.000.876\").\n",
    "addV(\"Card\").property(id,\"111.111.000.877\").property(\"card_number\",\"111.111.000.877\").as(\"111.111.000.877\").\n",
    "addV(\"Card\").property(id,\"111.111.000.878\").property(\"card_number\",\"111.111.000.878\").as(\"111.111.000.878\").\n",
    "addV(\"Card\").property(id,\"111.111.000.879\").property(\"card_number\",\"111.111.000.879\").as(\"111.111.000.879\").\n",
    "addV(\"Card\").property(id,\"111.111.000.880\").property(\"card_number\",\"111.111.000.880\").as(\"111.111.000.880\").\n",
    "addV(\"Card\").property(id,\"111.111.000.881\").property(\"card_number\",\"111.111.000.881\").as(\"111.111.000.881\").\n",
    "addV(\"Card\").property(id,\"111.111.000.882\").property(\"card_number\",\"111.111.000.882\").as(\"111.111.000.882\").\n",
    "addV(\"Card\").property(id,\"111.111.000.883\").property(\"card_number\",\"111.111.000.883\").as(\"111.111.000.883\").\n",
    "addV(\"Card\").property(id,\"111.111.000.884\").property(\"card_number\",\"111.111.000.884\").as(\"111.111.000.884\").\n",
    "addV(\"Card\").property(id,\"111.111.000.885\").property(\"card_number\",\"111.111.000.885\").as(\"111.111.000.885\").\n",
    "addV(\"Card\").property(id,\"111.111.000.886\").property(\"card_number\",\"111.111.000.886\").as(\"111.111.000.886\").\n",
    "addV(\"Card\").property(id,\"111.111.000.887\").property(\"card_number\",\"111.111.000.887\").as(\"111.111.000.887\").\n",
    "addV(\"Card\").property(id,\"111.111.000.888\").property(\"card_number\",\"111.111.000.888\").as(\"111.111.000.888\").\n",
    "addV(\"Card\").property(id,\"111.111.000.889\").property(\"card_number\",\"111.111.000.889\").as(\"111.111.000.889\").\n",
    "addV(\"Card\").property(id,\"111.111.000.890\").property(\"card_number\",\"111.111.000.890\").as(\"111.111.000.890\").\n",
    "addV(\"Card\").property(id,\"111.111.000.891\").property(\"card_number\",\"111.111.000.891\").as(\"111.111.000.891\").\n",
    "addV(\"Card\").property(id,\"111.111.000.892\").property(\"card_number\",\"111.111.000.892\").as(\"111.111.000.892\").\n",
    "addV(\"Card\").property(id,\"111.111.000.893\").property(\"card_number\",\"111.111.000.893\").as(\"111.111.000.893\").\n",
    "addV(\"Card\").property(id,\"111.111.000.894\").property(\"card_number\",\"111.111.000.894\").as(\"111.111.000.894\").\n",
    "addV(\"Card\").property(id,\"111.111.000.895\").property(\"card_number\",\"111.111.000.895\").as(\"111.111.000.895\").\n",
    "addV(\"Card\").property(id,\"111.111.000.896\").property(\"card_number\",\"111.111.000.896\").as(\"111.111.000.896\").\n",
    "addV(\"Card\").property(id,\"111.111.000.897\").property(\"card_number\",\"111.111.000.897\").as(\"111.111.000.897\").\n",
    "addV(\"Card\").property(id,\"111.111.000.898\").property(\"card_number\",\"111.111.000.898\").as(\"111.111.000.898\").\n",
    "addV(\"Card\").property(id,\"111.111.000.899\").property(\"card_number\",\"111.111.000.899\").as(\"111.111.000.899\").\n",
    "addV(\"Card\").property(id,\"111.111.000.900\").property(\"card_number\",\"111.111.000.900\").as(\"111.111.000.900\").\n",
    "addV(\"Card\").property(id,\"111.111.000.901\").property(\"card_number\",\"111.111.000.901\").as(\"111.111.000.901\").\n",
    "addV(\"Card\").property(id,\"111.111.000.902\").property(\"card_number\",\"111.111.000.902\").as(\"111.111.000.902\").\n",
    "addV(\"Card\").property(id,\"111.111.000.903\").property(\"card_number\",\"111.111.000.903\").as(\"111.111.000.903\").\n",
    "addV(\"Card\").property(id,\"111.111.000.904\").property(\"card_number\",\"111.111.000.904\").as(\"111.111.000.904\").\n",
    "addV(\"Card\").property(id,\"111.111.000.905\").property(\"card_number\",\"111.111.000.905\").as(\"111.111.000.905\").\n",
    "addV(\"Card\").property(id,\"111.111.000.906\").property(\"card_number\",\"111.111.000.906\").as(\"111.111.000.906\").\n",
    "addV(\"Card\").property(id,\"111.111.000.907\").property(\"card_number\",\"111.111.000.907\").as(\"111.111.000.907\").\n",
    "addV(\"Card\").property(id,\"111.111.000.908\").property(\"card_number\",\"111.111.000.908\").as(\"111.111.000.908\").\n",
    "addV(\"Card\").property(id,\"111.111.000.909\").property(\"card_number\",\"111.111.000.909\").as(\"111.111.000.909\").\n",
    "addV(\"Card\").property(id,\"111.111.000.910\").property(\"card_number\",\"111.111.000.910\").as(\"111.111.000.910\").\n",
    "addV(\"Card\").property(id,\"111.111.000.911\").property(\"card_number\",\"111.111.000.911\").as(\"111.111.000.911\").\n",
    "addV(\"Card\").property(id,\"111.111.000.912\").property(\"card_number\",\"111.111.000.912\").as(\"111.111.000.912\").\n",
    "addV(\"Card\").property(id,\"111.111.000.913\").property(\"card_number\",\"111.111.000.913\").as(\"111.111.000.913\").\n",
    "addV(\"Card\").property(id,\"111.111.000.914\").property(\"card_number\",\"111.111.000.914\").as(\"111.111.000.914\").\n",
    "addV(\"Card\").property(id,\"111.111.000.915\").property(\"card_number\",\"111.111.000.915\").as(\"111.111.000.915\").\n",
    "addV(\"Card\").property(id,\"111.111.000.916\").property(\"card_number\",\"111.111.000.916\").as(\"111.111.000.916\").\n",
    "addV(\"Card\").property(id,\"111.111.000.917\").property(\"card_number\",\"111.111.000.917\").as(\"111.111.000.917\").\n",
    "addV(\"Card\").property(id,\"111.111.000.918\").property(\"card_number\",\"111.111.000.918\").as(\"111.111.000.918\").\n",
    "addV(\"Card\").property(id,\"111.111.000.919\").property(\"card_number\",\"111.111.000.919\").as(\"111.111.000.919\").\n",
    "addV(\"Card\").property(id,\"111.111.000.920\").property(\"card_number\",\"111.111.000.920\").as(\"111.111.000.920\").\n",
    "addV(\"Card\").property(id,\"111.111.000.921\").property(\"card_number\",\"111.111.000.921\").as(\"111.111.000.921\").\n",
    "addV(\"Card\").property(id,\"111.111.000.922\").property(\"card_number\",\"111.111.000.922\").as(\"111.111.000.922\").\n",
    "addV(\"Card\").property(id,\"111.111.000.923\").property(\"card_number\",\"111.111.000.923\").as(\"111.111.000.923\").\n",
    "addV(\"Card\").property(id,\"111.111.000.924\").property(\"card_number\",\"111.111.000.924\").as(\"111.111.000.924\").\n",
    "addV(\"Card\").property(id,\"111.111.000.925\").property(\"card_number\",\"111.111.000.925\").as(\"111.111.000.925\").\n",
    "addV(\"Card\").property(id,\"111.111.000.926\").property(\"card_number\",\"111.111.000.926\").as(\"111.111.000.926\").\n",
    "addV(\"Card\").property(id,\"111.111.000.927\").property(\"card_number\",\"111.111.000.927\").as(\"111.111.000.927\").\n",
    "addV(\"Card\").property(id,\"111.111.000.928\").property(\"card_number\",\"111.111.000.928\").as(\"111.111.000.928\").\n",
    "addV(\"Card\").property(id,\"111.111.000.929\").property(\"card_number\",\"111.111.000.929\").as(\"111.111.000.929\").\n",
    "addV(\"Card\").property(id,\"111.111.000.930\").property(\"card_number\",\"111.111.000.930\").as(\"111.111.000.930\").\n",
    "addV(\"Card\").property(id,\"111.111.000.931\").property(\"card_number\",\"111.111.000.931\").as(\"111.111.000.931\").\n",
    "addV(\"Card\").property(id,\"111.111.000.932\").property(\"card_number\",\"111.111.000.932\").as(\"111.111.000.932\").\n",
    "addV(\"Card\").property(id,\"111.111.000.933\").property(\"card_number\",\"111.111.000.933\").as(\"111.111.000.933\").\n",
    "addV(\"Card\").property(id,\"111.111.000.934\").property(\"card_number\",\"111.111.000.934\").as(\"111.111.000.934\").\n",
    "addV(\"Card\").property(id,\"111.111.000.935\").property(\"card_number\",\"111.111.000.935\").as(\"111.111.000.935\").\n",
    "addV(\"Card\").property(id,\"111.111.000.936\").property(\"card_number\",\"111.111.000.936\").as(\"111.111.000.936\").\n",
    "addV(\"Card\").property(id,\"111.111.000.937\").property(\"card_number\",\"111.111.000.937\").as(\"111.111.000.937\").\n",
    "addV(\"Card\").property(id,\"111.111.000.938\").property(\"card_number\",\"111.111.000.938\").as(\"111.111.000.938\").\n",
    "addV(\"Card\").property(id,\"111.111.000.939\").property(\"card_number\",\"111.111.000.939\").as(\"111.111.000.939\").\n",
    "addV(\"Card\").property(id,\"111.111.000.940\").property(\"card_number\",\"111.111.000.940\").as(\"111.111.000.940\").\n",
    "addV(\"Card\").property(id,\"111.111.000.941\").property(\"card_number\",\"111.111.000.941\").as(\"111.111.000.941\").\n",
    "addV(\"Card\").property(id,\"111.111.000.942\").property(\"card_number\",\"111.111.000.942\").as(\"111.111.000.942\").\n",
    "addV(\"Card\").property(id,\"111.111.000.943\").property(\"card_number\",\"111.111.000.943\").as(\"111.111.000.943\").\n",
    "addV(\"Card\").property(id,\"111.111.000.944\").property(\"card_number\",\"111.111.000.944\").as(\"111.111.000.944\").\n",
    "addV(\"Card\").property(id,\"111.111.000.945\").property(\"card_number\",\"111.111.000.945\").as(\"111.111.000.945\").\n",
    "addV(\"Card\").property(id,\"111.111.000.946\").property(\"card_number\",\"111.111.000.946\").as(\"111.111.000.946\").\n",
    "addV(\"Card\").property(id,\"111.111.000.947\").property(\"card_number\",\"111.111.000.947\").as(\"111.111.000.947\").\n",
    "addV(\"Card\").property(id,\"111.111.000.948\").property(\"card_number\",\"111.111.000.948\").as(\"111.111.000.948\").\n",
    "addV(\"Card\").property(id,\"111.111.000.949\").property(\"card_number\",\"111.111.000.949\").as(\"111.111.000.949\").\n",
    "addV(\"Card\").property(id,\"111.111.000.950\").property(\"card_number\",\"111.111.000.950\").as(\"111.111.000.950\").\n",
    "addV(\"Card\").property(id,\"111.111.000.951\").property(\"card_number\",\"111.111.000.951\").as(\"111.111.000.951\").\n",
    "addV(\"Card\").property(id,\"111.111.000.952\").property(\"card_number\",\"111.111.000.952\").as(\"111.111.000.952\").\n",
    "addV(\"Card\").property(id,\"111.111.000.953\").property(\"card_number\",\"111.111.000.953\").as(\"111.111.000.953\").\n",
    "addV(\"Card\").property(id,\"111.111.000.954\").property(\"card_number\",\"111.111.000.954\").as(\"111.111.000.954\").\n",
    "addV(\"Card\").property(id,\"111.111.000.955\").property(\"card_number\",\"111.111.000.955\").as(\"111.111.000.955\").\n",
    "addV(\"Card\").property(id,\"111.111.000.956\").property(\"card_number\",\"111.111.000.956\").as(\"111.111.000.956\").\n",
    "addV(\"Card\").property(id,\"111.111.000.957\").property(\"card_number\",\"111.111.000.957\").as(\"111.111.000.957\").\n",
    "addV(\"Card\").property(id,\"111.111.000.958\").property(\"card_number\",\"111.111.000.958\").as(\"111.111.000.958\").\n",
    "addV(\"Card\").property(id,\"111.111.000.959\").property(\"card_number\",\"111.111.000.959\").as(\"111.111.000.959\").\n",
    "addV(\"Card\").property(id,\"111.111.000.960\").property(\"card_number\",\"111.111.000.960\").as(\"111.111.000.960\").\n",
    "addV(\"Card\").property(id,\"111.111.000.961\").property(\"card_number\",\"111.111.000.961\").as(\"111.111.000.961\").\n",
    "addV(\"Card\").property(id,\"111.111.000.962\").property(\"card_number\",\"111.111.000.962\").as(\"111.111.000.962\").\n",
    "addV(\"Card\").property(id,\"111.111.000.963\").property(\"card_number\",\"111.111.000.963\").as(\"111.111.000.963\").\n",
    "addV(\"Card\").property(id,\"111.111.000.964\").property(\"card_number\",\"111.111.000.964\").as(\"111.111.000.964\").\n",
    "addV(\"Card\").property(id,\"111.111.000.965\").property(\"card_number\",\"111.111.000.965\").as(\"111.111.000.965\").\n",
    "addV(\"Card\").property(id,\"111.111.000.966\").property(\"card_number\",\"111.111.000.966\").as(\"111.111.000.966\").\n",
    "addV(\"Card\").property(id,\"111.111.000.967\").property(\"card_number\",\"111.111.000.967\").as(\"111.111.000.967\").\n",
    "addV(\"Card\").property(id,\"111.111.000.968\").property(\"card_number\",\"111.111.000.968\").as(\"111.111.000.968\").\n",
    "addV(\"Card\").property(id,\"111.111.000.969\").property(\"card_number\",\"111.111.000.969\").as(\"111.111.000.969\").\n",
    "addV(\"Card\").property(id,\"111.111.000.970\").property(\"card_number\",\"111.111.000.970\").as(\"111.111.000.970\").\n",
    "addV(\"Card\").property(id,\"111.111.000.971\").property(\"card_number\",\"111.111.000.971\").as(\"111.111.000.971\").\n",
    "addV(\"Card\").property(id,\"111.111.000.972\").property(\"card_number\",\"111.111.000.972\").as(\"111.111.000.972\").\n",
    "addV(\"Card\").property(id,\"111.111.000.973\").property(\"card_number\",\"111.111.000.973\").as(\"111.111.000.973\").\n",
    "addV(\"Card\").property(id,\"111.111.000.974\").property(\"card_number\",\"111.111.000.974\").as(\"111.111.000.974\").\n",
    "addV(\"Card\").property(id,\"111.111.000.975\").property(\"card_number\",\"111.111.000.975\").as(\"111.111.000.975\").\n",
    "addV(\"Card\").property(id,\"111.111.000.976\").property(\"card_number\",\"111.111.000.976\").as(\"111.111.000.976\").\n",
    "addV(\"Card\").property(id,\"111.111.000.977\").property(\"card_number\",\"111.111.000.977\").as(\"111.111.000.977\").\n",
    "addV(\"Card\").property(id,\"111.111.000.978\").property(\"card_number\",\"111.111.000.978\").as(\"111.111.000.978\").\n",
    "addV(\"Card\").property(id,\"111.111.000.979\").property(\"card_number\",\"111.111.000.979\").as(\"111.111.000.979\").\n",
    "addV(\"Card\").property(id,\"111.111.000.980\").property(\"card_number\",\"111.111.000.980\").as(\"111.111.000.980\").\n",
    "addV(\"Card\").property(id,\"111.111.000.981\").property(\"card_number\",\"111.111.000.981\").as(\"111.111.000.981\").\n",
    "addV(\"Card\").property(id,\"111.111.000.982\").property(\"card_number\",\"111.111.000.982\").as(\"111.111.000.982\").\n",
    "addV(\"Card\").property(id,\"111.111.000.983\").property(\"card_number\",\"111.111.000.983\").as(\"111.111.000.983\").\n",
    "addV(\"Card\").property(id,\"111.111.000.984\").property(\"card_number\",\"111.111.000.984\").as(\"111.111.000.984\").\n",
    "addV(\"Card\").property(id,\"111.111.000.985\").property(\"card_number\",\"111.111.000.985\").as(\"111.111.000.985\").\n",
    "addV(\"Card\").property(id,\"111.111.000.986\").property(\"card_number\",\"111.111.000.986\").as(\"111.111.000.986\").\n",
    "addV(\"Card\").property(id,\"111.111.000.987\").property(\"card_number\",\"111.111.000.987\").as(\"111.111.000.987\").\n",
    "addV(\"Card\").property(id,\"111.111.000.988\").property(\"card_number\",\"111.111.000.988\").as(\"111.111.000.988\").\n",
    "addV(\"Card\").property(id,\"111.111.000.989\").property(\"card_number\",\"111.111.000.989\").as(\"111.111.000.989\").\n",
    "addV(\"Card\").property(id,\"111.111.000.990\").property(\"card_number\",\"111.111.000.990\").as(\"111.111.000.990\").\n",
    "addV(\"Card\").property(id,\"111.111.000.991\").property(\"card_number\",\"111.111.000.991\").as(\"111.111.000.991\").\n",
    "addV(\"Card\").property(id,\"111.111.000.992\").property(\"card_number\",\"111.111.000.992\").as(\"111.111.000.992\").\n",
    "addV(\"Card\").property(id,\"111.111.000.993\").property(\"card_number\",\"111.111.000.993\").as(\"111.111.000.993\").\n",
    "addV(\"Card\").property(id,\"111.111.000.994\").property(\"card_number\",\"111.111.000.994\").as(\"111.111.000.994\").\n",
    "addV(\"Card\").property(id,\"111.111.000.995\").property(\"card_number\",\"111.111.000.995\").as(\"111.111.000.995\").\n",
    "addV(\"Card\").property(id,\"111.111.000.996\").property(\"card_number\",\"111.111.000.996\").as(\"111.111.000.996\").\n",
    "addV(\"Card\").property(id,\"111.111.000.997\").property(\"card_number\",\"111.111.000.997\").as(\"111.111.000.997\").\n",
    "addV(\"Card\").property(id,\"111.111.000.998\").property(\"card_number\",\"111.111.000.998\").as(\"111.111.000.998\").\n",
    "addV(\"Card\").property(id,\"111.111.000.999\").property(\"card_number\",\"111.111.000.999\").as(\"111.111.000.999\")"
   ]
  },
  {
   "cell_type": "code",
   "execution_count": 55,
   "id": "b6adfa48-1502-4e9c-9c33-9f9efa824780",
   "metadata": {
    "tags": []
   },
   "outputs": [
    {
     "data": {
      "application/vnd.jupyter.widget-view+json": {
       "model_id": "92cd5bb31f3c4b888f4ae577679db470",
       "version_major": 2,
       "version_minor": 0
      },
      "text/plain": [
       "Tab(children=(Output(layout=Layout(max_height='600px', max_width='940px', overflow='scroll')), Output(layout=L…"
      ]
     },
     "metadata": {},
     "output_type": "display_data"
    }
   ],
   "source": [
    "%%gremlin\n",
    "g.V().hasId(138639).drop()"
   ]
  },
  {
   "cell_type": "code",
   "execution_count": 124,
   "id": "3187bee3-5e9b-47e4-aa86-f14c103b7f6e",
   "metadata": {
    "tags": []
   },
   "outputs": [
    {
     "data": {
      "application/vnd.jupyter.widget-view+json": {
       "model_id": "04d39f2b9a104a568c8f1bb9d73f4414",
       "version_major": 2,
       "version_minor": 0
      },
      "text/plain": [
       "Tab(children=(Output(layout=Layout(max_height='600px', max_width='940px', overflow='scroll')), Output(layout=L…"
      ]
     },
     "metadata": {},
     "output_type": "display_data"
    }
   ],
   "source": [
    "%%gremlin\n",
    "g.V().hasLabel('Payment').count()"
   ]
  },
  {
   "cell_type": "code",
   "execution_count": 138,
   "id": "c6b4c5f2-a4a4-4871-a121-231e5030402c",
   "metadata": {
    "tags": []
   },
   "outputs": [
    {
     "data": {
      "application/vnd.jupyter.widget-view+json": {
       "model_id": "496d6d7933404b8eaaaaf86635f38702",
       "version_major": 2,
       "version_minor": 0
      },
      "text/plain": [
       "Tab(children=(Output(layout=Layout(max_height='600px', max_width='940px', overflow='scroll')), Force(network=<…"
      ]
     },
     "metadata": {},
     "output_type": "display_data"
    }
   ],
   "source": [
    "%%gremlin\n",
    "\n",
    "g.V().hasLabel('Payment').valueMap(true)"
   ]
  },
  {
   "cell_type": "code",
   "execution_count": 144,
   "id": "30fb9ff0-76af-4b1d-bae2-d830c7068809",
   "metadata": {
    "tags": []
   },
   "outputs": [
    {
     "data": {
      "application/vnd.jupyter.widget-view+json": {
       "model_id": "254c6be3322c434484eac8eeefdf9d74",
       "version_major": 2,
       "version_minor": 0
      },
      "text/plain": [
       "Tab(children=(Output(layout=Layout(max_height='600px', max_width='940px', overflow='scroll')), Force(network=<…"
      ]
     },
     "metadata": {},
     "output_type": "display_data"
    }
   ],
   "source": [
    "%%gremlin\n",
    "\n",
    "g.V().hasLabel('Payment').elementMap().order().by('id')"
   ]
  },
  {
   "cell_type": "markdown",
   "id": "fe316545-610f-4798-aca2-39a1738d90c3",
   "metadata": {},
   "source": [
    "# Edges"
   ]
  },
  {
   "cell_type": "code",
   "execution_count": 101,
   "id": "c712d9dc-9cce-4762-b0e6-33c72b46bcda",
   "metadata": {
    "tags": []
   },
   "outputs": [
    {
     "data": {
      "application/vnd.jupyter.widget-view+json": {
       "model_id": "f76db3e5f9cc4722aed983393e6b2933",
       "version_major": 2,
       "version_minor": 0
      },
      "text/plain": [
       "Tab(children=(Output(layout=Layout(max_height='600px', max_width='940px', overflow='scroll')), Output(layout=L…"
      ]
     },
     "metadata": {},
     "output_type": "display_data"
    }
   ],
   "source": [
    "%%gremlin\n",
    "\n",
    "g.V(138639).addE(\"using\").to(__.V(\"TERM-15\"))\n",
    "g.V(138639).addE(\"to\").to(__.V(\"BOOK\"))"
   ]
  },
  {
   "cell_type": "code",
   "execution_count": 201,
   "id": "69e1d11c-2f03-48c7-85c6-7f6d8eb13d28",
   "metadata": {
    "tags": []
   },
   "outputs": [
    {
     "data": {
      "application/vnd.jupyter.widget-view+json": {
       "model_id": "afaec7e0ef2c4cfcb38a8bc162b2c1d6",
       "version_major": 2,
       "version_minor": 0
      },
      "text/plain": [
       "Tab(children=(Output(layout=Layout(max_height='600px', max_width='940px', overflow='scroll')), Output(layout=L…"
      ]
     },
     "metadata": {},
     "output_type": "display_data"
    }
   ],
   "source": [
    "%%gremlin\n",
    "\n",
    "g.V(115541).addE(\"using\").to(__.V(\"TERM-7\")).property(id,\"115541-TERM\").V(115541).addE(\"to\").to(__.V(\"PARKING\")).property(id,\"115541-MCC\").\n",
    "V(115542).addE(\"using\").to(__.V(\"TERM-13\")).property(id,\"115542-TERM\").V(115542).addE(\"to\").to(__.V(\"COMPUTER\")).property(id,\"115542-MCC\").\n",
    "V(115543).addE(\"using\").to(__.V(\"TERM-59\")).property(id,\"115543-TERM\").V(115543).addE(\"to\").to(__.V(\"BEVERAGE\")).property(id,\"115543-MCC\").\n",
    "V(115544).addE(\"using\").to(__.V(\"TERM-60\")).property(id,\"115544-TERM\").V(115544).addE(\"to\").to(__.V(\"STORE\")).property(id,\"115544-MCC\").\n",
    "V(115545).addE(\"using\").to(__.V(\"TERM-45\")).property(id,\"115545-TERM\").V(115545).addE(\"to\").to(__.V(\"GIFT\")).property(id,\"115545-MCC\").\n",
    "V(115546).addE(\"using\").to(__.V(\"TERM-34\")).property(id,\"115546-TERM\").V(115546).addE(\"to\").to(__.V(\"GYM\")).property(id,\"115546-MCC\").\n",
    "V(115547).addE(\"using\").to(__.V(\"TERM-79\")).property(id,\"115547-TERM\").V(115547).addE(\"to\").to(__.V(\"COMPUTER\")).property(id,\"115547-MCC\").\n",
    "V(115548).addE(\"using\").to(__.V(\"TERM-42\")).property(id,\"115548-TERM\").V(115548).addE(\"to\").to(__.V(\"BOOK\")).property(id,\"115548-MCC\")"
   ]
  },
  {
   "cell_type": "code",
   "execution_count": 243,
   "id": "4dc1f52a-f261-44aa-8aaa-7c1747efe81d",
   "metadata": {
    "tags": []
   },
   "outputs": [
    {
     "data": {
      "application/vnd.jupyter.widget-view+json": {
       "model_id": "5fc488f8130846b9883af4624cabc162",
       "version_major": 2,
       "version_minor": 0
      },
      "text/plain": [
       "Tab(children=(Output(layout=Layout(overflow='scroll')),), _titles={'0': 'Error'})"
      ]
     },
     "metadata": {},
     "output_type": "display_data"
    }
   ],
   "source": [
    "%%gremlin\n",
    "\n",
    "g.V(\"111.111.000.649\").addE(\"has_tx\").to(__.V(115499)).property(id,\"115499-TX\").\n",
    "V(\"111.111.000.688\").addE(\"has_tx\").to(__.V(115500)).property(id,\"115500-TX\").\n",
    "V(\"111.111.000.727\").addE(\"has_tx\").to(__.V(115501)).property(id,\"115501-TX\").\n",
    "V(\"111.111.000.727\").addE(\"has_tx\").to(__.V(115502)).property(id,\"115502-TX\").\n",
    "V(\"111.111.000.805\").addE(\"has_tx\").to(__.V(115503)).property(id,\"115503-TX\").\n",
    "V(\"111.111.000.844\").addE(\"has_tx\").to(__.V(115504)).property(id,\"115504-TX\").\n",
    "V(\"111.111.000.883\").addE(\"has_tx\").to(__.V(115505)).property(id,\"115505-TX\").\n",
    "V(\"111.111.000.922\").addE(\"has_tx\").to(__.V(115506)).property(id,\"115506-TX\").\n",
    "V(\"111.111.000.961\").addE(\"has_tx\").to(__.V(115507)).property(id,\"115507-TX\").\n",
    "V(\"111.111.000.961\").addE(\"has_tx\").to(__.V(115508)).property(id,\"115508-TX\").\n",
    "V(\"111.111.001.000\").addE(\"has_tx\").to(__.V(115509)).property(id,\"115509-TX\").\n",
    "V(\"111.111.000.232\").addE(\"has_tx\").to(__.V(115510)).property(id,\"115510-TX\").\n",
    "V(\"111.111.000.277\").addE(\"has_tx\").to(__.V(115511)).property(id,\"115511-TX\").\n",
    "V(\"111.111.000.277\").addE(\"has_tx\").to(__.V(115512)).property(id,\"115512-TX\").\n",
    "V(\"111.111.000.322\").addE(\"has_tx\").to(__.V(115513)).property(id,\"115513-TX\").\n",
    "V(\"111.111.000.322\").addE(\"has_tx\").to(__.V(115514)).property(id,\"115514-TX\").\n",
    "V(\"111.111.000.367\").addE(\"has_tx\").to(__.V(115515)).property(id,\"115515-TX\").\n",
    "V(\"111.111.000.457\").addE(\"has_tx\").to(__.V(115516)).property(id,\"115516-TX\").\n",
    "V(\"111.111.000.502\").addE(\"has_tx\").to(__.V(115517)).property(id,\"115517-TX\").\n",
    "V(\"111.111.000.502\").addE(\"has_tx\").to(__.V(115518)).property(id,\"115518-TX\").\n",
    "V(\"111.111.000.547\").addE(\"has_tx\").to(__.V(115519)).property(id,\"115519-TX\").\n",
    "V(\"111.111.000.592\").addE(\"has_tx\").to(__.V(115520)).property(id,\"115520-TX\").\n",
    "V(\"111.111.000.592\").addE(\"has_tx\").to(__.V(115521)).property(id,\"115521-TX\").\n",
    "V(\"111.111.000.682\").addE(\"has_tx\").to(__.V(115522)).property(id,\"115522-TX\").\n",
    "V(\"111.111.000.682\").addE(\"has_tx\").to(__.V(115523)).property(id,\"115523-TX\").\n",
    "V(\"111.111.000.727\").addE(\"has_tx\").to(__.V(115524)).property(id,\"115524-TX\").\n",
    "V(\"111.111.000.727\").addE(\"has_tx\").to(__.V(115525)).property(id,\"115525-TX\").\n",
    "V(\"111.111.000.817\").addE(\"has_tx\").to(__.V(115526)).property(id,\"115526-TX\").\n",
    "V(\"111.111.000.862\").addE(\"has_tx\").to(__.V(115527)).property(id,\"115527-TX\").\n",
    "V(\"111.111.000.907\").addE(\"has_tx\").to(__.V(115528)).property(id,\"115528-TX\").\n",
    "V(\"111.111.000.907\").addE(\"has_tx\").to(__.V(115529)).property(id,\"115529-TX\").\n",
    "V(\"111.111.000.952\").addE(\"has_tx\").to(__.V(115530)).property(id,\"115530-TX\").\n",
    "V(\"111.111.000.997\").addE(\"has_tx\").to(__.V(115531)).property(id,\"115531-TX\").\n",
    "V(\"111.111.000.997\").addE(\"has_tx\").to(__.V(115532)).property(id,\"115532-TX\").\n",
    "V(\"111.111.000.075\").addE(\"has_tx\").to(__.V(115533)).property(id,\"115533-TX\").\n",
    "V(\"111.111.000.225\").addE(\"has_tx\").to(__.V(115534)).property(id,\"115534-TX\").\n",
    "V(\"111.111.000.300\").addE(\"has_tx\").to(__.V(115535)).property(id,\"115535-TX\").\n",
    "V(\"111.111.000.450\").addE(\"has_tx\").to(__.V(115536)).property(id,\"115536-TX\").\n",
    "V(\"111.111.000.450\").addE(\"has_tx\").to(__.V(115537)).property(id,\"115537-TX\").\n",
    "V(\"111.111.000.525\").addE(\"has_tx\").to(__.V(115538)).property(id,\"115538-TX\").\n",
    "V(\"111.111.000.525\").addE(\"has_tx\").to(__.V(115539)).property(id,\"115539-TX\").\n",
    "V(\"111.111.000.600\").addE(\"has_tx\").to(__.V(115540)).property(id,\"115540-TX\").\n",
    "V(\"111.111.000.600\").addE(\"has_tx\").to(__.V(115541)).property(id,\"115541-TX\").\n",
    "V(\"111.111.000.675\").addE(\"has_tx\").to(__.V(115542)).property(id,\"115542-TX\").\n",
    "V(\"111.111.000.675\").addE(\"has_tx\").to(__.V(115543)).property(id,\"115543-TX\").\n",
    "V(\"111.111.000.750\").addE(\"has_tx\").to(__.V(115544)).property(id,\"115544-TX\")"
   ]
  },
  {
   "cell_type": "code",
   "execution_count": 227,
   "id": "a7c18380-3dc0-41b2-ba65-b0e742b6b6b0",
   "metadata": {
    "tags": []
   },
   "outputs": [
    {
     "data": {
      "application/vnd.jupyter.widget-view+json": {
       "model_id": "4e9753296fd14c148b727c2af5f0c2db",
       "version_major": 2,
       "version_minor": 0
      },
      "text/plain": [
       "Tab(children=(Output(layout=Layout(max_height='600px', max_width='940px', overflow='scroll')), Output(layout=L…"
      ]
     },
     "metadata": {},
     "output_type": "display_data"
    }
   ],
   "source": [
    "%%gremlin\n",
    "\n",
    "g.V().groupCount().by(label).unfold()"
   ]
  },
  {
   "cell_type": "code",
   "execution_count": 234,
   "id": "fb70397c-e735-4c80-b2ce-883e7fde0020",
   "metadata": {
    "tags": []
   },
   "outputs": [
    {
     "data": {
      "application/vnd.jupyter.widget-view+json": {
       "model_id": "c1771cb946434449a569bc5fc4e26ca8",
       "version_major": 2,
       "version_minor": 0
      },
      "text/plain": [
       "Tab(children=(Output(layout=Layout(max_height='600px', max_width='940px', overflow='scroll')), Force(network=<…"
      ]
     },
     "metadata": {},
     "output_type": "display_data"
    }
   ],
   "source": [
    "%%gremlin -p v,oute,inv,oute,inv\n",
    "\n",
    "g.V().hasLabel('Payment').outE().inV().path().by(elementMap())"
   ]
  },
  {
   "cell_type": "code",
   "execution_count": 251,
   "id": "4bc06bbf-5638-4e24-834c-ddcbb806b477",
   "metadata": {
    "tags": []
   },
   "outputs": [
    {
     "data": {
      "application/vnd.jupyter.widget-view+json": {
       "model_id": "9a524148c9bf4ab98eaa304115b1327a",
       "version_major": 2,
       "version_minor": 0
      },
      "text/plain": [
       "Tab(children=(Output(layout=Layout(max_height='600px', max_width='940px', overflow='scroll')), Force(network=<…"
      ]
     },
     "metadata": {},
     "output_type": "display_data"
    }
   ],
   "source": [
    "%%gremlin -p v,oute,inv,oute,inv\n",
    "\n",
    "g.V().hasLabel('Card').outE().inV().outE().path().by(elementMap())"
   ]
  },
  {
   "cell_type": "code",
   "execution_count": null,
   "id": "58f29b10-500a-4ef6-89e1-6af9ddc211df",
   "metadata": {},
   "outputs": [],
   "source": []
  }
 ],
 "metadata": {
  "kernelspec": {
   "display_name": "Python 3",
   "language": "python",
   "name": "python3"
  },
  "language_info": {
   "codemirror_mode": {
    "name": "ipython",
    "version": 3
   },
   "file_extension": ".py",
   "mimetype": "text/x-python",
   "name": "python",
   "nbconvert_exporter": "python",
   "pygments_lexer": "ipython3",
   "version": "3.8.10"
  }
 },
 "nbformat": 4,
 "nbformat_minor": 5
}
