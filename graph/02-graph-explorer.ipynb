{
 "cells": [
  {
   "cell_type": "code",
   "execution_count": 1,
   "id": "77dcf916-3cac-427e-9270-413e48fe478c",
   "metadata": {
    "tags": []
   },
   "outputs": [
    {
     "name": "stdout",
     "output_type": "stream",
     "text": [
      "4.2.0\n"
     ]
    }
   ],
   "source": [
    "graph_notebook_version"
   ]
  },
  {
   "cell_type": "code",
   "execution_count": 2,
   "id": "29a82470-2fcb-47e7-bdd8-2c7d3f3a932e",
   "metadata": {
    "tags": []
   },
   "outputs": [
    {
     "name": "stdout",
     "output_type": "stream",
     "text": [
      "set notebook config to:\n",
      "{\n",
      "  \"host\": \"127.0.0.1\",\n",
      "  \"port\": 8182,\n",
      "  \"proxy_host\": \"\",\n",
      "  \"proxy_port\": 8182,\n",
      "  \"ssl\": false,\n",
      "  \"ssl_verify\": true,\n",
      "  \"sparql\": {\n",
      "    \"path\": \"\"\n",
      "  },\n",
      "  \"gremlin\": {\n",
      "    \"traversal_source\": \"g\",\n",
      "    \"username\": \"\",\n",
      "    \"password\": \"\",\n",
      "    \"message_serializer\": \"graphsonv3\"\n",
      "  },\n",
      "  \"neo4j\": {\n",
      "    \"username\": \"neo4j\",\n",
      "    \"password\": \"password\",\n",
      "    \"auth\": true,\n",
      "    \"database\": null\n",
      "  }\n",
      "}\n"
     ]
    },
    {
     "data": {
      "text/plain": [
       "<graph_notebook.configuration.generate_config.Configuration at 0x7f373ad73370>"
      ]
     },
     "execution_count": 2,
     "metadata": {},
     "output_type": "execute_result"
    }
   ],
   "source": [
    "%%graph_notebook_config\n",
    "{\n",
    "  \"host\": \"127.0.0.1\",\n",
    "  \"port\": 8182,\n",
    "  \"ssl\": false,\n",
    "  \"gremlin\": {\n",
    "    \"traversal_source\": \"g\",\n",
    "    \"username\": \"\",\n",
    "    \"password\": \"\",\n",
    "    \"message_serializer\": \"graphsonv3\"\n",
    "  }\n",
    "}"
   ]
  },
  {
   "cell_type": "markdown",
   "id": "606b6167-dacc-4b87-badc-57355511ccba",
   "metadata": {},
   "source": [
    "# Delete data"
   ]
  },
  {
   "cell_type": "code",
   "execution_count": 134,
   "id": "b9b688a7-4323-48c0-9340-fda8a4f5f4fc",
   "metadata": {
    "tags": []
   },
   "outputs": [
    {
     "data": {
      "application/vnd.jupyter.widget-view+json": {
       "model_id": "d52806dc0890485fa0b09a3d8247ef45",
       "version_major": 2,
       "version_minor": 0
      },
      "text/plain": [
       "Tab(children=(Output(layout=Layout(max_height='600px', max_width='940px', overflow='scroll')), Output(layout=L…"
      ]
     },
     "metadata": {},
     "output_type": "display_data"
    }
   ],
   "source": [
    "%%gremlin\n",
    "\n",
    "g.V().hasLabel('terminal').drop().iterate();\n",
    "g.V().hasLabel('merchant').drop().iterate();\n",
    "g.V().hasLabel('payment').drop().iterate();\n",
    "g.V().hasLabel('card').drop().iterate();\n",
    "g.V().hasLabel('account').drop().iterate();\n",
    "g.V().hasLabel('person').drop().iterate();"
   ]
  },
  {
   "cell_type": "markdown",
   "id": "06c112ea-9990-4038-b3cb-5974bb8ab5ce",
   "metadata": {},
   "source": [
    "# Check all Vertex"
   ]
  },
  {
   "cell_type": "code",
   "execution_count": 135,
   "id": "19c79548-c013-4ed5-8507-a50c138ef29a",
   "metadata": {
    "tags": []
   },
   "outputs": [
    {
     "data": {
      "application/vnd.jupyter.widget-view+json": {
       "model_id": "4fa39e83960649b28613ff0a88887cb2",
       "version_major": 2,
       "version_minor": 0
      },
      "text/plain": [
       "Tab(children=(Output(layout=Layout(max_height='600px', max_width='940px', overflow='scroll')), Output(layout=L…"
      ]
     },
     "metadata": {},
     "output_type": "display_data"
    }
   ],
   "source": [
    "%%gremlin\n",
    "\n",
    "g.V().groupCount().by(label).unfold()"
   ]
  },
  {
   "cell_type": "markdown",
   "id": "c1a0988e-c327-4c2e-8610-51a9d6b8d5bc",
   "metadata": {},
   "source": [
    "# Show all data"
   ]
  },
  {
   "cell_type": "code",
   "execution_count": 4,
   "id": "9b634574-1cd1-43a4-ba4b-25d91cebd9bb",
   "metadata": {
    "tags": []
   },
   "outputs": [
    {
     "data": {
      "application/vnd.jupyter.widget-view+json": {
       "model_id": "aab56dff96694b1eb35a0c04e1df777f",
       "version_major": 2,
       "version_minor": 0
      },
      "text/plain": [
       "Tab(children=(Output(layout=Layout(max_height='600px', max_width='940px', overflow='scroll')), Force(network=<…"
      ]
     },
     "metadata": {},
     "output_type": "display_data"
    }
   ],
   "source": [
    "%%gremlin\n",
    "\n",
    "g.V().hasLabel('terminal').valueMap(true);"
   ]
  },
  {
   "cell_type": "code",
   "execution_count": 6,
   "id": "e732b8db-7480-4d15-bff8-f2bf91af7175",
   "metadata": {
    "tags": []
   },
   "outputs": [
    {
     "data": {
      "application/vnd.jupyter.widget-view+json": {
       "model_id": "e97d63d0f4ca4a86852386cc764dcd3f",
       "version_major": 2,
       "version_minor": 0
      },
      "text/plain": [
       "Tab(children=(Output(layout=Layout(max_height='600px', max_width='940px', overflow='scroll')), Force(network=<…"
      ]
     },
     "metadata": {},
     "output_type": "display_data"
    }
   ],
   "source": [
    "%%gremlin\n",
    "\n",
    "g.V().hasLabel('merchant').valueMap(true);"
   ]
  },
  {
   "cell_type": "code",
   "execution_count": 7,
   "id": "9dc5e6ae-0f8e-408e-9a18-571377f098e2",
   "metadata": {
    "tags": []
   },
   "outputs": [
    {
     "data": {
      "application/vnd.jupyter.widget-view+json": {
       "model_id": "4475bd9db2a8401ab1b56c905e59c63b",
       "version_major": 2,
       "version_minor": 0
      },
      "text/plain": [
       "Tab(children=(Output(layout=Layout(max_height='600px', max_width='940px', overflow='scroll')), Output(layout=L…"
      ]
     },
     "metadata": {},
     "output_type": "display_data"
    }
   ],
   "source": [
    "%%gremlin\n",
    "\n",
    "// Sum \n",
    "g.V().hasLabel('payment').\n",
    "    values('amount').\n",
    "    sum()"
   ]
  },
  {
   "cell_type": "markdown",
   "id": "4437d495-dd21-4c32-aabb-e89d1608915a",
   "metadata": {
    "tags": []
   },
   "source": [
    "# Payment"
   ]
  },
  {
   "cell_type": "code",
   "execution_count": 163,
   "id": "d2d9f7d2-756f-4521-94d3-a33df273485e",
   "metadata": {
    "tags": []
   },
   "outputs": [
    {
     "data": {
      "application/vnd.jupyter.widget-view+json": {
       "model_id": "6414f0005ec7443bb42ca639cd8b381c",
       "version_major": 2,
       "version_minor": 0
      },
      "text/plain": [
       "Tab(children=(Output(layout=Layout(max_height='600px', max_width='940px', overflow='scroll')), Force(network=<…"
      ]
     },
     "metadata": {},
     "output_type": "display_data"
    }
   ],
   "source": [
    "%%gremlin -p v,oute,inv,oute,inv\n",
    "// show terminal and merchant\n",
    "\n",
    "g.V(21672).outE().inV()\n",
    "            .path().by(elementMap())"
   ]
  },
  {
   "cell_type": "code",
   "execution_count": 218,
   "id": "3d8cb90c-572d-42c3-b049-7ffcf0729ea1",
   "metadata": {
    "tags": []
   },
   "outputs": [
    {
     "data": {
      "application/vnd.jupyter.widget-view+json": {
       "model_id": "1c5c594bcb3a43c3ab736b78cf4b20bd",
       "version_major": 2,
       "version_minor": 0
      },
      "text/plain": [
       "Tab(children=(Output(layout=Layout(max_height='600px', max_width='940px', overflow='scroll')), Force(network=<…"
      ]
     },
     "metadata": {},
     "output_type": "display_data"
    }
   ],
   "source": [
    "%%gremlin -p v,oute,inv\n",
    "// get the terminal used_at from payment\n",
    "\n",
    "g.V(21672).outE('used_at').inV().\n",
    "            path().by(valueMap(true))"
   ]
  },
  {
   "cell_type": "code",
   "execution_count": 232,
   "id": "b5527fed-be29-41ae-85f2-2f59f56f2360",
   "metadata": {
    "tags": []
   },
   "outputs": [
    {
     "data": {
      "application/vnd.jupyter.widget-view+json": {
       "model_id": "ff8136226b534905932b53d382635d89",
       "version_major": 2,
       "version_minor": 0
      },
      "text/plain": [
       "Tab(children=(Output(layout=Layout(max_height='600px', max_width='940px', overflow='scroll')), Force(network=<…"
      ]
     },
     "metadata": {},
     "output_type": "display_data"
    }
   ],
   "source": [
    "%%gremlin -p v\n",
    "// get the card did the payment\n",
    "\n",
    "g.V(21672).both('payed')\n",
    "            .path().by(elementMap())"
   ]
  },
  {
   "cell_type": "code",
   "execution_count": 248,
   "id": "af5817ba-0a4d-4c44-8c6a-8359625f22c5",
   "metadata": {
    "tags": []
   },
   "outputs": [
    {
     "data": {
      "application/vnd.jupyter.widget-view+json": {
       "model_id": "ba020d79a430444fa3c5f452d11d5211",
       "version_major": 2,
       "version_minor": 0
      },
      "text/plain": [
       "Tab(children=(Output(layout=Layout(max_height='600px', max_width='940px', overflow='scroll')), Force(network=<…"
      ]
     },
     "metadata": {},
     "output_type": "display_data"
    }
   ],
   "source": [
    "%%gremlin -p v,ine,outv\n",
    "// get the card did the payment and the edge\n",
    "\n",
    "g.V(21672).inE('payed').outV()\n",
    "            .path().by(valueMap(true))"
   ]
  },
  {
   "cell_type": "code",
   "execution_count": 256,
   "id": "85809076-9209-4b36-b300-37453169cd01",
   "metadata": {
    "tags": []
   },
   "outputs": [
    {
     "data": {
      "application/vnd.jupyter.widget-view+json": {
       "model_id": "3e8f43860ddd42c0b16d8211601c8b04",
       "version_major": 2,
       "version_minor": 0
      },
      "text/plain": [
       "Tab(children=(Output(layout=Layout(max_height='600px', max_width='940px', overflow='scroll')), Force(network=<…"
      ]
     },
     "metadata": {},
     "output_type": "display_data"
    }
   ],
   "source": [
    "%%gremlin -p v,ine,outv,ine,outv,ine,outv\n",
    "// get the card did the payment and the edge\n",
    "\n",
    "g.V(21672).inE('payed').outV().inE('issued').outV().inE('has').outV()\n",
    "            .path().by(valueMap(true))"
   ]
  },
  {
   "cell_type": "markdown",
   "id": "b2757126-bc17-4cd9-9da5-4f3c4e46c18b",
   "metadata": {},
   "source": [
    "# Card"
   ]
  },
  {
   "cell_type": "code",
   "execution_count": 132,
   "id": "74e30f4a-989c-4249-8930-ab597beb6f70",
   "metadata": {
    "tags": []
   },
   "outputs": [
    {
     "data": {
      "application/vnd.jupyter.widget-view+json": {
       "model_id": "44aded88c49f4e66b125004c3378335d",
       "version_major": 2,
       "version_minor": 0
      },
      "text/plain": [
       "Tab(children=(Output(layout=Layout(max_height='600px', max_width='940px', overflow='scroll')), Output(layout=L…"
      ]
     },
     "metadata": {},
     "output_type": "display_data"
    }
   ],
   "source": [
    "%%gremlin -p v,inv,inv,oute,inv\n",
    "// get the all cards (related) and all payment data\n",
    "\n",
    "g.V('111.000.001.416').out()\n",
    "                   //     .inE()\n",
    "                   //     .out()\n",
    "                    //     .out()\n",
    "                        .path().by(elementMap())"
   ]
  },
  {
   "cell_type": "code",
   "execution_count": 91,
   "id": "1ffad587-d2fe-4404-9c4e-841174a5e056",
   "metadata": {
    "tags": []
   },
   "outputs": [
    {
     "data": {
      "application/vnd.jupyter.widget-view+json": {
       "model_id": "79d708781f1842b898774b099c8e7093",
       "version_major": 2,
       "version_minor": 0
      },
      "text/plain": [
       "Tab(children=(Output(layout=Layout(max_height='600px', max_width='940px', overflow='scroll')), Output(layout=L…"
      ]
     },
     "metadata": {},
     "output_type": "display_data"
    }
   ],
   "source": [
    "%%gremlin -p v,oute,inv,oute,inv\n",
    "\n",
    "g.V('111.000.001.416').outE().inV().\n",
    "                        path().by(elementMap())"
   ]
  },
  {
   "cell_type": "code",
   "execution_count": 100,
   "id": "8701d807-8d46-4559-a7a9-c4487ea1362a",
   "metadata": {
    "tags": []
   },
   "outputs": [
    {
     "data": {
      "application/vnd.jupyter.widget-view+json": {
       "model_id": "1bfbf510d830486fa85237676ede5594",
       "version_major": 2,
       "version_minor": 0
      },
      "text/plain": [
       "Tab(children=(Output(layout=Layout(max_height='600px', max_width='940px', overflow='scroll')), Force(network=<…"
      ]
     },
     "metadata": {},
     "output_type": "display_data"
    }
   ],
   "source": [
    "%%gremlin -p v,oute,inv,oute,inv\n",
    "// get the all cards (related) and all payment data\n",
    "\n",
    "g.V('111.000.001.416').both().\n",
    "                        both().\n",
    "                        path().by(elementMap())"
   ]
  },
  {
   "cell_type": "code",
   "execution_count": 13,
   "id": "a117a4f3-347a-45ae-ab73-8ae19f2d307e",
   "metadata": {
    "tags": []
   },
   "outputs": [
    {
     "data": {
      "application/vnd.jupyter.widget-view+json": {
       "model_id": "80563f2861264234a117b71335df5e4e",
       "version_major": 2,
       "version_minor": 0
      },
      "text/plain": [
       "Tab(children=(Output(layout=Layout(max_height='600px', max_width='940px', overflow='scroll')), Force(network=<…"
      ]
     },
     "metadata": {},
     "output_type": "display_data"
    }
   ],
   "source": [
    "%%gremlin -p v,oute,inv,oute,inv\n",
    "\n",
    "g.V('111.000.001.416').inE().outV().\n",
    "                        path().by(elementMap())"
   ]
  },
  {
   "cell_type": "code",
   "execution_count": 14,
   "id": "41e5f450-54a8-4e16-9768-0f763e7a0fdd",
   "metadata": {
    "tags": []
   },
   "outputs": [
    {
     "data": {
      "application/vnd.jupyter.widget-view+json": {
       "model_id": "486e0ad09b26400ebd6102bc295286df",
       "version_major": 2,
       "version_minor": 0
      },
      "text/plain": [
       "Tab(children=(Output(layout=Layout(max_height='600px', max_width='940px', overflow='scroll')), Force(network=<…"
      ]
     },
     "metadata": {},
     "output_type": "display_data"
    }
   ],
   "source": [
    "%%gremlin -p v,oute,inv,oute,inv\n",
    "\n",
    "g.V('111.000.001.416').inE().outV().\n",
    "                        outE().inV().\n",
    "                        path().by(elementMap())"
   ]
  },
  {
   "cell_type": "code",
   "execution_count": 89,
   "id": "2755d0cc-5257-48a1-9299-9de42c706e77",
   "metadata": {
    "tags": []
   },
   "outputs": [
    {
     "data": {
      "application/vnd.jupyter.widget-view+json": {
       "model_id": "6f8393b9c0cf4593bfb41b2ab27b6300",
       "version_major": 2,
       "version_minor": 0
      },
      "text/plain": [
       "Tab(children=(Output(layout=Layout(max_height='600px', max_width='940px', overflow='scroll')), Force(network=<…"
      ]
     },
     "metadata": {},
     "output_type": "display_data"
    }
   ],
   "source": [
    "%%gremlin -p v,oute,inv,oute,inv\n",
    "\n",
    "g.V('111.000.001.416').\n",
    "                        inE().outV().\n",
    "                        outE().inV().\n",
    "                        path().by(elementMap())"
   ]
  },
  {
   "cell_type": "markdown",
   "id": "09a6676d-bdd2-4e64-93d0-47eb83971051",
   "metadata": {
    "tags": []
   },
   "source": [
    "# Person"
   ]
  },
  {
   "cell_type": "code",
   "execution_count": 15,
   "id": "8da2ea78-a1b7-4e81-af84-615bd6757a59",
   "metadata": {
    "tags": []
   },
   "outputs": [
    {
     "data": {
      "application/vnd.jupyter.widget-view+json": {
       "model_id": "486d7d97cd6b4db9809242d89be609d6",
       "version_major": 2,
       "version_minor": 0
      },
      "text/plain": [
       "Tab(children=(Output(layout=Layout(max_height='600px', max_width='940px', overflow='scroll')), Output(layout=L…"
      ]
     },
     "metadata": {},
     "output_type": "display_data"
    }
   ],
   "source": [
    "%%gremlin -p v,oute,inv,oute,inv\n",
    "\n",
    "g.V('P-2078').valueMap(true)"
   ]
  },
  {
   "cell_type": "code",
   "execution_count": 16,
   "id": "f1517d1c-e05c-4113-a54d-92237195171c",
   "metadata": {
    "tags": []
   },
   "outputs": [
    {
     "data": {
      "application/vnd.jupyter.widget-view+json": {
       "model_id": "d8cdd1f3908a44d79c566bc3f19c29b8",
       "version_major": 2,
       "version_minor": 0
      },
      "text/plain": [
       "Tab(children=(Output(layout=Layout(max_height='600px', max_width='940px', overflow='scroll')), Force(network=<…"
      ]
     },
     "metadata": {},
     "output_type": "display_data"
    }
   ],
   "source": [
    "%%gremlin -p v,oute,inv,oute,inv\n",
    "\n",
    "g.V('P-2078').outE('has').inV().\n",
    "                path().by(elementMap())"
   ]
  },
  {
   "cell_type": "code",
   "execution_count": 17,
   "id": "b900c06e-5be0-440f-aee0-a88bba5a80f8",
   "metadata": {
    "tags": []
   },
   "outputs": [
    {
     "data": {
      "application/vnd.jupyter.widget-view+json": {
       "model_id": "373d9ce831ff4aea8bc6f9f3743d4da4",
       "version_major": 2,
       "version_minor": 0
      },
      "text/plain": [
       "Tab(children=(Output(layout=Layout(max_height='600px', max_width='940px', overflow='scroll')), Force(network=<…"
      ]
     },
     "metadata": {},
     "output_type": "display_data"
    }
   ],
   "source": [
    "%%gremlin -p v,oute,inv,oute,inv\n",
    "\n",
    "g.V('P-2078').hasLabel('person').\n",
    "                outE().inV().\n",
    "                outE().inV().\n",
    "                path().by(elementMap())"
   ]
  },
  {
   "cell_type": "code",
   "execution_count": 76,
   "id": "959ab845-f8e1-45f4-a6a0-820c1295bb9e",
   "metadata": {
    "tags": []
   },
   "outputs": [
    {
     "data": {
      "application/vnd.jupyter.widget-view+json": {
       "model_id": "c7f008c8dc434c4e931a40238624cc09",
       "version_major": 2,
       "version_minor": 0
      },
      "text/plain": [
       "Tab(children=(Output(layout=Layout(max_height='600px', max_width='940px', overflow='scroll')), Force(network=<…"
      ]
     },
     "metadata": {},
     "output_type": "display_data"
    }
   ],
   "source": [
    "%%gremlin -p v,oute,inv,oute,inv\n",
    "\n",
    "g.V('P-2078').\n",
    "                outE().inV().\n",
    "                outE().inV().\n",
    "                //out()\n",
    "                //inV().\n",
    "                //both().\n",
    "                path().by(elementMap())"
   ]
  },
  {
   "cell_type": "code",
   "execution_count": 68,
   "id": "d7711281-e81a-440f-b423-898f0c92daa1",
   "metadata": {},
   "outputs": [
    {
     "data": {
      "application/vnd.jupyter.widget-view+json": {
       "model_id": "7c85e75e746044ffb5aca9d94aeeeebc",
       "version_major": 2,
       "version_minor": 0
      },
      "text/plain": [
       "Tab(children=(Output(layout=Layout(max_height='600px', max_width='940px', overflow='scroll')), Force(network=<…"
      ]
     },
     "metadata": {},
     "output_type": "display_data"
    }
   ],
   "source": [
    "%%gremlin -p v,oute,inv,oute,inv\n",
    "\n",
    "g.V('P-2078').both().both().both().both().\n",
    "                path().by(elementMap())"
   ]
  },
  {
   "cell_type": "code",
   "execution_count": null,
   "id": "dccae4dc-88ce-481c-ad6a-c13b15d7104d",
   "metadata": {},
   "outputs": [],
   "source": []
  },
  {
   "cell_type": "code",
   "execution_count": null,
   "id": "358dd20d-8fa9-4d2a-a97f-3d3d55860509",
   "metadata": {},
   "outputs": [],
   "source": []
  },
  {
   "cell_type": "code",
   "execution_count": null,
   "id": "2ce30f06-3a15-425f-b90d-127f4d943c36",
   "metadata": {},
   "outputs": [],
   "source": []
  },
  {
   "cell_type": "code",
   "execution_count": null,
   "id": "53412908-031a-4fdd-a5ce-94432a734031",
   "metadata": {},
   "outputs": [],
   "source": []
  },
  {
   "cell_type": "code",
   "execution_count": null,
   "id": "40711cf6-9d4f-4a08-947b-7ecd3cc5210d",
   "metadata": {},
   "outputs": [],
   "source": []
  },
  {
   "cell_type": "code",
   "execution_count": 161,
   "id": "6df73557-7974-4638-b8d6-44efd8171481",
   "metadata": {
    "tags": []
   },
   "outputs": [
    {
     "data": {
      "application/vnd.jupyter.widget-view+json": {
       "model_id": "ad3eb2f9d63e49b6b6ffc1b04eb3b2d8",
       "version_major": 2,
       "version_minor": 0
      },
      "text/plain": [
       "Tab(children=(Output(layout=Layout(max_height='600px', max_width='940px', overflow='scroll')), Force(network=<…"
      ]
     },
     "metadata": {},
     "output_type": "display_data"
    }
   ],
   "source": [
    "%%gremlin -p v,oute,inv,oute,inv\n",
    "\n",
    "g.V().hasLabel('payment').\n",
    "                outE().\n",
    "                inV().\n",
    "                path().by(elementMap())"
   ]
  },
  {
   "cell_type": "code",
   "execution_count": 19,
   "id": "310f33b3-b58f-4972-bd37-c0980d4001b3",
   "metadata": {
    "tags": []
   },
   "outputs": [
    {
     "data": {
      "application/vnd.jupyter.widget-view+json": {
       "model_id": "642a250d9506471eb7105c0d662135d2",
       "version_major": 2,
       "version_minor": 0
      },
      "text/plain": [
       "Tab(children=(Output(layout=Layout(max_height='600px', max_width='940px', overflow='scroll')), Force(network=<…"
      ]
     },
     "metadata": {},
     "output_type": "display_data"
    }
   ],
   "source": [
    "%%gremlin -p v,oute,inv,oute,inv,oute,inv\n",
    "\n",
    "g.V().hasLabel('person').\n",
    "                outE().\n",
    "                inV().\n",
    "                outE().\n",
    "                inV().\n",
    "                both().\n",
    "                path().by(elementMap())"
   ]
  },
  {
   "cell_type": "code",
   "execution_count": 20,
   "id": "69dde01d-a58c-446a-8249-53af8404a2bb",
   "metadata": {
    "tags": []
   },
   "outputs": [
    {
     "data": {
      "application/vnd.jupyter.widget-view+json": {
       "model_id": "94e4aaa6dfe248da90c71053736f7d0d",
       "version_major": 2,
       "version_minor": 0
      },
      "text/plain": [
       "Tab(children=(Output(layout=Layout(max_height='600px', max_width='940px', overflow='scroll')), Force(network=<…"
      ]
     },
     "metadata": {},
     "output_type": "display_data"
    }
   ],
   "source": [
    "%%gremlin -p v,oute,inv,oute,inv,oute,inv\n",
    "\n",
    "g.V('P-2').hasLabel('person').\n",
    "                outE().\n",
    "                inV().\n",
    "                outE().\n",
    "                inV().\n",
    "                in().\n",
    "                path().by(elementMap())"
   ]
  },
  {
   "cell_type": "code",
   "execution_count": 51,
   "id": "fbda98e3-4460-4a3b-becd-66cb865f8af9",
   "metadata": {
    "tags": []
   },
   "outputs": [
    {
     "data": {
      "application/vnd.jupyter.widget-view+json": {
       "model_id": "b8cb0d153daf468f8d2428ce3f937088",
       "version_major": 2,
       "version_minor": 0
      },
      "text/plain": [
       "Tab(children=(Output(layout=Layout(max_height='600px', max_width='940px', overflow='scroll')), Force(network=<…"
      ]
     },
     "metadata": {},
     "output_type": "display_data"
    }
   ],
   "source": [
    "%%gremlin -p v\n",
    "\n",
    "g.V('111.000.000.051').hasLabel('card').\n",
    "                both().\n",
    "                both().\n",
    "                outE().\n",
    "                inV().\n",
    "                //outE().\n",
    "                //both().\n",
    "                path().by(valueMap(true))"
   ]
  },
  {
   "cell_type": "code",
   "execution_count": null,
   "id": "9385c816-7d3c-4604-9d57-83296344e8cd",
   "metadata": {},
   "outputs": [],
   "source": []
  },
  {
   "cell_type": "code",
   "execution_count": 52,
   "id": "233ca5ba-9f8f-4646-b8e5-c06cf741e250",
   "metadata": {
    "tags": []
   },
   "outputs": [
    {
     "data": {
      "application/vnd.jupyter.widget-view+json": {
       "model_id": "d2a68462f55040209e7a682381eb4f17",
       "version_major": 2,
       "version_minor": 0
      },
      "text/plain": [
       "Tab(children=(Output(layout=Layout(max_height='600px', max_width='940px', overflow='scroll')), Force(network=<…"
      ]
     },
     "metadata": {},
     "output_type": "display_data"
    }
   ],
   "source": [
    "%%gremlin -p v,oute,inv,oute,inv\n",
    "\n",
    "g.V(21672).outE()\n",
    "            .inV()\n",
    "            .path().by(elementMap())"
   ]
  },
  {
   "cell_type": "code",
   "execution_count": 53,
   "id": "ef9dfd2f-6a2b-40ff-8c9d-bc3cbe9538f4",
   "metadata": {
    "tags": []
   },
   "outputs": [
    {
     "data": {
      "application/vnd.jupyter.widget-view+json": {
       "model_id": "3bafdb2b428944dcb020aa56945424cf",
       "version_major": 2,
       "version_minor": 0
      },
      "text/plain": [
       "Tab(children=(Output(layout=Layout(max_height='600px', max_width='940px', overflow='scroll')), Output(layout=L…"
      ]
     },
     "metadata": {},
     "output_type": "display_data"
    }
   ],
   "source": [
    "%%gremlin -p v,oute,inv,oute,inv\n",
    "\n",
    "g.V('111.000.000.051')\n",
    "                .outE()\n",
    "                .inV()\n",
    "                .path().by(elementMap())"
   ]
  },
  {
   "cell_type": "code",
   "execution_count": 54,
   "id": "6e5d0c97-ae9e-41dd-94ad-e4547c6c61b6",
   "metadata": {
    "tags": []
   },
   "outputs": [
    {
     "data": {
      "application/vnd.jupyter.widget-view+json": {
       "model_id": "1802db16859e4af596900ca26afa9da0",
       "version_major": 2,
       "version_minor": 0
      },
      "text/plain": [
       "Tab(children=(Output(layout=Layout(max_height='600px', max_width='940px', overflow='scroll')), Output(layout=L…"
      ]
     },
     "metadata": {},
     "output_type": "display_data"
    }
   ],
   "source": [
    "%%gremlin -p v,oute,inv,oute,inv\n",
    "\n",
    "g.V('111.000.000.051').valueMap(true)"
   ]
  },
  {
   "cell_type": "code",
   "execution_count": 172,
   "id": "ced17e99-9d89-4b9a-84c7-04f0fc03b0dd",
   "metadata": {
    "tags": []
   },
   "outputs": [
    {
     "data": {
      "application/vnd.jupyter.widget-view+json": {
       "model_id": "f0aee20ac8874530b0be2a92b88b16ed",
       "version_major": 2,
       "version_minor": 0
      },
      "text/plain": [
       "Tab(children=(Output(layout=Layout(max_height='600px', max_width='940px', overflow='scroll')), Output(layout=L…"
      ]
     },
     "metadata": {},
     "output_type": "display_data"
    }
   ],
   "source": [
    "%%gremlin -p v,oute,inv,oute,inv\n",
    "\n",
    "g.V('111.000.000.051').in().path()"
   ]
  },
  {
   "cell_type": "code",
   "execution_count": 171,
   "id": "03ea08a3-2c21-412e-ba93-849963142ea3",
   "metadata": {
    "tags": []
   },
   "outputs": [
    {
     "data": {
      "application/vnd.jupyter.widget-view+json": {
       "model_id": "11b39224e73e4df7bc6483fa5eff23b1",
       "version_major": 2,
       "version_minor": 0
      },
      "text/plain": [
       "Tab(children=(Output(layout=Layout(max_height='600px', max_width='940px', overflow='scroll')), Output(layout=L…"
      ]
     },
     "metadata": {},
     "output_type": "display_data"
    }
   ],
   "source": [
    "%%gremlin -p v,oute,inv,oute,inv\n",
    "\n",
    "g.V('111.111.000.051').both()"
   ]
  },
  {
   "cell_type": "code",
   "execution_count": null,
   "id": "98c66264-8950-4156-91e6-64686bd73749",
   "metadata": {},
   "outputs": [],
   "source": []
  },
  {
   "cell_type": "code",
   "execution_count": 155,
   "id": "3664d1b0-7cab-4c32-b661-5239e3eb7def",
   "metadata": {},
   "outputs": [
    {
     "data": {
      "application/vnd.jupyter.widget-view+json": {
       "model_id": "d02e41cfc5784da8b16cdf6eae931da1",
       "version_major": 2,
       "version_minor": 0
      },
      "text/plain": [
       "Tab(children=(Output(layout=Layout(max_height='600px', max_width='940px', overflow='scroll')), Force(network=<…"
      ]
     },
     "metadata": {},
     "output_type": "display_data"
    }
   ],
   "source": [
    "%%gremlin -p v\n",
    "\n",
    "g.V('P-3').outE('has').path().by(elementMap())"
   ]
  },
  {
   "cell_type": "code",
   "execution_count": 166,
   "id": "d66f5e94-2c0d-491b-9bae-4242977a1119",
   "metadata": {
    "tags": []
   },
   "outputs": [
    {
     "data": {
      "application/vnd.jupyter.widget-view+json": {
       "model_id": "b9aa957c2d3d4dbd843aa97a909dc83d",
       "version_major": 2,
       "version_minor": 0
      },
      "text/plain": [
       "Tab(children=(Output(layout=Layout(max_height='600px', max_width='940px', overflow='scroll')), Output(layout=L…"
      ]
     },
     "metadata": {},
     "output_type": "display_data"
    }
   ],
   "source": [
    "%%gremlin -p v\n",
    "\n",
    "g.V('P-3').outE().inV().values('account_id')"
   ]
  },
  {
   "cell_type": "code",
   "execution_count": 4,
   "id": "554a6c7b-bb53-444f-a95e-a0ba01fc0090",
   "metadata": {
    "tags": []
   },
   "outputs": [
    {
     "data": {
      "application/vnd.jupyter.widget-view+json": {
       "model_id": "cc6dbad020094fa89b7632b24d3d9e78",
       "version_major": 2,
       "version_minor": 0
      },
      "text/plain": [
       "Tab(children=(Output(layout=Layout(max_height='600px', max_width='940px', overflow='scroll')), Output(layout=L…"
      ]
     },
     "metadata": {},
     "output_type": "display_data"
    }
   ],
   "source": [
    "%%gremlin -p v\n",
    "\n",
    "g.V('P-59').out().values('account_id')"
   ]
  },
  {
   "cell_type": "code",
   "execution_count": 144,
   "id": "f66b4c37-70e2-4d81-a7c0-95d6d5d69e5c",
   "metadata": {
    "tags": []
   },
   "outputs": [
    {
     "data": {
      "application/vnd.jupyter.widget-view+json": {
       "model_id": "6bb4fce45b114b4e846fdfb445957816",
       "version_major": 2,
       "version_minor": 0
      },
      "text/plain": [
       "Tab(children=(Output(layout=Layout(max_height='600px', max_width='940px', overflow='scroll')), Output(layout=L…"
      ]
     },
     "metadata": {},
     "output_type": "display_data"
    }
   ],
   "source": [
    "%%gremlin -p v\n",
    "\n",
    "g.V('P-509').out()"
   ]
  },
  {
   "cell_type": "code",
   "execution_count": 198,
   "id": "c8f092a3-7e0d-4d0a-b279-ee2d5ddbae0d",
   "metadata": {
    "tags": []
   },
   "outputs": [
    {
     "data": {
      "application/vnd.jupyter.widget-view+json": {
       "model_id": "97ed0af2d80540be875fd3e7c4ddcca3",
       "version_major": 2,
       "version_minor": 0
      },
      "text/plain": [
       "Tab(children=(Output(layout=Layout(max_height='600px', max_width='940px', overflow='scroll')), Output(layout=L…"
      ]
     },
     "metadata": {},
     "output_type": "display_data"
    }
   ],
   "source": [
    "%%gremlin -p v\n",
    "\n",
    "g.V('ACC-1307').out()"
   ]
  },
  {
   "cell_type": "code",
   "execution_count": 237,
   "id": "d9285b53-796e-4cbf-8979-95d54d9ef7d0",
   "metadata": {
    "tags": []
   },
   "outputs": [
    {
     "data": {
      "application/vnd.jupyter.widget-view+json": {
       "model_id": "2efd3819947f450197bc23be2f40a19e",
       "version_major": 2,
       "version_minor": 0
      },
      "text/plain": [
       "Tab(children=(Output(layout=Layout(max_height='600px', max_width='940px', overflow='scroll')), Output(layout=L…"
      ]
     },
     "metadata": {},
     "output_type": "display_data"
    }
   ],
   "source": [
    "%%gremlin -p v\n",
    "\n",
    "g.V('111.000.000.266').inE()"
   ]
  },
  {
   "cell_type": "code",
   "execution_count": 55,
   "id": "3b004896-a932-4314-a5e7-af7871011c49",
   "metadata": {
    "tags": []
   },
   "outputs": [
    {
     "data": {
      "application/vnd.jupyter.widget-view+json": {
       "model_id": "6b9c7d552ea04ef082f00d2638e77862",
       "version_major": 2,
       "version_minor": 0
      },
      "text/plain": [
       "Tab(children=(Output(layout=Layout(max_height='600px', max_width='940px', overflow='scroll')), Force(network=<…"
      ]
     },
     "metadata": {},
     "output_type": "display_data"
    }
   ],
   "source": [
    "%%gremlin -p v,oute,inv,oute,inv\n",
    "\n",
    "g.V().hasLabel('payment').\n",
    "                outE('payed').\n",
    "                inV().\n",
    "                path().by(valueMap(true))"
   ]
  },
  {
   "cell_type": "code",
   "execution_count": null,
   "id": "ad335eb6-0ae8-49f4-9545-418ccf7a07dc",
   "metadata": {},
   "outputs": [],
   "source": []
  }
 ],
 "metadata": {
  "kernelspec": {
   "display_name": "Python 3",
   "language": "python",
   "name": "python3"
  },
  "language_info": {
   "codemirror_mode": {
    "name": "ipython",
    "version": 3
   },
   "file_extension": ".py",
   "mimetype": "text/x-python",
   "name": "python",
   "nbconvert_exporter": "python",
   "pygments_lexer": "ipython3",
   "version": "3.8.10"
  }
 },
 "nbformat": 4,
 "nbformat_minor": 5
}
