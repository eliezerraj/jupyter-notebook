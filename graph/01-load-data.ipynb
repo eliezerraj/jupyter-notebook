{
 "cells": [
  {
   "cell_type": "code",
   "execution_count": 1,
   "id": "bbc6b38d-69e7-4ea5-8573-36a3ddb502a6",
   "metadata": {
    "tags": []
   },
   "outputs": [
    {
     "name": "stderr",
     "output_type": "stream",
     "text": [
      "UsageError: Line magic function `%graph_notebook_version` not found.\n"
     ]
    }
   ],
   "source": [
    "%graph_notebook_version"
   ]
  },
  {
   "cell_type": "code",
   "execution_count": 2,
   "id": "e67612be-9ebf-4141-8e33-6ebbfa720208",
   "metadata": {
    "tags": []
   },
   "outputs": [
    {
     "name": "stdout",
     "output_type": "stream",
     "text": [
      "set notebook config to:\n",
      "{\n",
      "  \"host\": \"127.0.0.1\",\n",
      "  \"port\": 8182,\n",
      "  \"proxy_host\": \"\",\n",
      "  \"proxy_port\": 8182,\n",
      "  \"ssl\": false,\n",
      "  \"ssl_verify\": true,\n",
      "  \"sparql\": {\n",
      "    \"path\": \"\"\n",
      "  },\n",
      "  \"gremlin\": {\n",
      "    \"traversal_source\": \"g\",\n",
      "    \"username\": \"\",\n",
      "    \"password\": \"\",\n",
      "    \"message_serializer\": \"graphsonv3\"\n",
      "  },\n",
      "  \"neo4j\": {\n",
      "    \"username\": \"neo4j\",\n",
      "    \"password\": \"password\",\n",
      "    \"auth\": true,\n",
      "    \"database\": null\n",
      "  }\n",
      "}\n"
     ]
    },
    {
     "data": {
      "text/plain": [
       "<graph_notebook.configuration.generate_config.Configuration at 0x7f88ff6d9520>"
      ]
     },
     "execution_count": 2,
     "metadata": {},
     "output_type": "execute_result"
    }
   ],
   "source": [
    "%%graph_notebook_config\n",
    "{\n",
    "  \"host\": \"127.0.0.1\",\n",
    "  \"port\": 8182,\n",
    "  \"ssl\": false,\n",
    "  \"gremlin\": {\n",
    "    \"traversal_source\": \"g\",\n",
    "    \"username\": \"\",\n",
    "    \"password\": \"\",\n",
    "    \"message_serializer\": \"graphsonv3\"\n",
    "  }\n",
    "}"
   ]
  },
  {
   "cell_type": "markdown",
   "id": "272906f1-eec0-4195-84b8-47847a7b83e2",
   "metadata": {},
   "source": [
    "# Person"
   ]
  },
  {
   "cell_type": "code",
   "execution_count": 41,
   "id": "8526ba1f-7ade-42bd-a62e-06549f694390",
   "metadata": {
    "tags": []
   },
   "outputs": [
    {
     "data": {
      "application/vnd.jupyter.widget-view+json": {
       "model_id": "d9683ec8031243a4a48f0798ab0f1e07",
       "version_major": 2,
       "version_minor": 0
      },
      "text/plain": [
       "Tab(children=(Output(layout=Layout(max_height='600px', max_width='940px', overflow='scroll')), Output(layout=L…"
      ]
     },
     "metadata": {},
     "output_type": "display_data"
    }
   ],
   "source": [
    "%%gremlin\n",
    "\n",
    "g.V().hasLabel('Person').drop().iterate();"
   ]
  },
  {
   "cell_type": "code",
   "execution_count": 70,
   "id": "b1db69cd-c12a-40d8-b3ab-8780c958a32b",
   "metadata": {
    "tags": []
   },
   "outputs": [
    {
     "data": {
      "application/vnd.jupyter.widget-view+json": {
       "model_id": "e102020220914a99a21d18f197fdc076",
       "version_major": 2,
       "version_minor": 0
      },
      "text/plain": [
       "Tab(children=(Output(layout=Layout(max_height='600px', max_width='940px', overflow='scroll')), Output(layout=L…"
      ]
     },
     "metadata": {},
     "output_type": "display_data"
    }
   ],
   "source": [
    "%%gremlin\n",
    "\n",
    "g.addV(\"Person\").property(id,\"P-1\").property(\"person_id\",\"P-1\").property(\"person_name\",\"Person-1\").property(\"age\",\"20\").property(\"salary_level\",\"1\").property(\"education_level\",\"1\").as(\"P-1\").\n",
    "addV(\"Person\").property(id,\"P-2\").property(\"person_id\",\"P-2\").property(\"person_name\",\"Person-2\").property(\"age\",\"21\").property(\"salary_level\",\"1\").property(\"education_level\",\"2\").as(\"P-2\").\n",
    "addV(\"Person\").property(id,\"P-3\").property(\"person_id\",\"P-3\").property(\"person_name\",\"Person-3\").property(\"age\",\"24\").property(\"salary_level\",\"1\").property(\"education_level\",\"1\").as(\"P-3\").\n",
    "addV(\"Person\").property(id,\"P-4\").property(\"person_id\",\"P-4\").property(\"person_name\",\"Person-4\").property(\"age\",\"20\").property(\"salary_level\",\"2\").property(\"education_level\",\"1\").as(\"P-4\").\n",
    "addV(\"Person\").property(id,\"P-5\").property(\"person_id\",\"P-5\").property(\"person_name\",\"Person-5\").property(\"age\",\"21\").property(\"salary_level\",\"2\").property(\"education_level\",\"1\").as(\"P-5\").\n",
    "addV(\"Person\").property(id,\"P-6\").property(\"person_id\",\"P-6\").property(\"person_name\",\"Person-6\").property(\"age\",\"24\").property(\"salary_level\",\"1\").property(\"education_level\",\"1\").as(\"P-6\").\n",
    "addV(\"Person\").property(id,\"P-7\").property(\"person_id\",\"P-7\").property(\"person_name\",\"Person-7\").property(\"age\",\"24\").property(\"salary_level\",\"2\").property(\"education_level\",\"1\").as(\"P-7\").\n",
    "addV(\"Person\").property(id,\"P-8\").property(\"person_id\",\"P-8\").property(\"person_name\",\"Person-8\").property(\"age\",\"25\").property(\"salary_level\",\"2\").property(\"education_level\",\"1\").as(\"P-8\").\n",
    "addV(\"Person\").property(id,\"P-9\").property(\"person_id\",\"P-9\").property(\"person_name\",\"Person-9\").property(\"age\",\"20\").property(\"salary_level\",\"1\").property(\"education_level\",\"1\").as(\"P-9\").\n",
    "addV(\"Person\").property(id,\"P-10\").property(\"person_id\",\"P-10\").property(\"person_name\",\"Person-10\").property(\"age\",\"20\").property(\"salary_level\",\"1\").property(\"education_level\",\"1\").as(\"P-10\").\n",
    "addV(\"Person\").property(id,\"P-11\").property(\"person_id\",\"P-11\").property(\"person_name\",\"Person-11\").property(\"age\",\"22\").property(\"salary_level\",\"2\").property(\"education_level\",\"3\").as(\"P-11\").\n",
    "addV(\"Person\").property(id,\"P-12\").property(\"person_id\",\"P-12\").property(\"person_name\",\"Person-12\").property(\"age\",\"20\").property(\"salary_level\",\"2\").property(\"education_level\",\"1\").as(\"P-12\").\n",
    "addV(\"Person\").property(id,\"P-13\").property(\"person_id\",\"P-13\").property(\"person_name\",\"Person-13\").property(\"age\",\"19\").property(\"salary_level\",\"2\").property(\"education_level\",\"1\").as(\"P-13\").\n",
    "addV(\"Person\").property(id,\"P-14\").property(\"person_id\",\"P-14\").property(\"person_name\",\"Person-14\").property(\"age\",\"18\").property(\"salary_level\",\"1\").property(\"education_level\",\"1\").as(\"P-14\").\n",
    "addV(\"Person\").property(id,\"P-15\").property(\"person_id\",\"P-15\").property(\"person_name\",\"Person-15\").property(\"age\",\"24\").property(\"salary_level\",\"1\").property(\"education_level\",\"1\").as(\"P-15\").\n",
    "addV(\"Person\").property(id,\"P-16\").property(\"person_id\",\"P-16\").property(\"person_name\",\"Person-16\").property(\"age\",\"18\").property(\"salary_level\",\"2\").property(\"education_level\",\"2\").as(\"P-16\").\n",
    "addV(\"Person\").property(id,\"P-17\").property(\"person_id\",\"P-17\").property(\"person_name\",\"Person-17\").property(\"age\",\"20\").property(\"salary_level\",\"2\").property(\"education_level\",\"1\").as(\"P-17\").\n",
    "addV(\"Person\").property(id,\"P-18\").property(\"person_id\",\"P-18\").property(\"person_name\",\"Person-18\").property(\"age\",\"21\").property(\"salary_level\",\"1\").property(\"education_level\",\"2\").as(\"P-18\").\n",
    "addV(\"Person\").property(id,\"P-19\").property(\"person_id\",\"P-19\").property(\"person_name\",\"Person-19\").property(\"age\",\"18\").property(\"salary_level\",\"2\").property(\"education_level\",\"1\").as(\"P-19\").\n",
    "addV(\"Person\").property(id,\"P-20\").property(\"person_id\",\"P-20\").property(\"person_name\",\"Person-20\").property(\"age\",\"23\").property(\"salary_level\",\"2\").property(\"education_level\",\"1\").as(\"P-20\").\n",
    "addV(\"Person\").property(id,\"P-21\").property(\"person_id\",\"P-21\").property(\"person_name\",\"Person-21\").property(\"age\",\"21\").property(\"salary_level\",\"2\").property(\"education_level\",\"1\").as(\"P-21\").\n",
    "addV(\"Person\").property(id,\"P-22\").property(\"person_id\",\"P-22\").property(\"person_name\",\"Person-22\").property(\"age\",\"25\").property(\"salary_level\",\"1\").property(\"education_level\",\"2\").as(\"P-22\").\n",
    "addV(\"Person\").property(id,\"P-23\").property(\"person_id\",\"P-23\").property(\"person_name\",\"Person-23\").property(\"age\",\"22\").property(\"salary_level\",\"1\").property(\"education_level\",\"1\").as(\"P-23\").\n",
    "addV(\"Person\").property(id,\"P-24\").property(\"person_id\",\"P-24\").property(\"person_name\",\"Person-24\").property(\"age\",\"24\").property(\"salary_level\",\"1\").property(\"education_level\",\"1\").as(\"P-24\").\n",
    "addV(\"Person\").property(id,\"P-25\").property(\"person_id\",\"P-25\").property(\"person_name\",\"Person-25\").property(\"age\",\"18\").property(\"salary_level\",\"2\").property(\"education_level\",\"2\").as(\"P-25\").\n",
    "addV(\"Person\").property(id,\"P-26\").property(\"person_id\",\"P-26\").property(\"person_name\",\"Person-26\").property(\"age\",\"19\").property(\"salary_level\",\"1\").property(\"education_level\",\"3\").as(\"P-26\").\n",
    "addV(\"Person\").property(id,\"P-27\").property(\"person_id\",\"P-27\").property(\"person_name\",\"Person-27\").property(\"age\",\"22\").property(\"salary_level\",\"1\").property(\"education_level\",\"1\").as(\"P-27\").\n",
    "addV(\"Person\").property(id,\"P-28\").property(\"person_id\",\"P-28\").property(\"person_name\",\"Person-28\").property(\"age\",\"21\").property(\"salary_level\",\"1\").property(\"education_level\",\"1\").as(\"P-28\").\n",
    "addV(\"Person\").property(id,\"P-29\").property(\"person_id\",\"P-29\").property(\"person_name\",\"Person-29\").property(\"age\",\"20\").property(\"salary_level\",\"1\").property(\"education_level\",\"2\").as(\"P-29\").\n",
    "addV(\"Person\").property(id,\"P-30\").property(\"person_id\",\"P-30\").property(\"person_name\",\"Person-30\").property(\"age\",\"23\").property(\"salary_level\",\"2\").property(\"education_level\",\"1\").as(\"P-30\").\n",
    "addV(\"Person\").property(id,\"P-31\").property(\"person_id\",\"P-31\").property(\"person_name\",\"Person-31\").property(\"age\",\"19\").property(\"salary_level\",\"1\").property(\"education_level\",\"2\").as(\"P-31\").\n",
    "addV(\"Person\").property(id,\"P-32\").property(\"person_id\",\"P-32\").property(\"person_name\",\"Person-32\").property(\"age\",\"25\").property(\"salary_level\",\"2\").property(\"education_level\",\"1\").as(\"P-32\").\n",
    "addV(\"Person\").property(id,\"P-33\").property(\"person_id\",\"P-33\").property(\"person_name\",\"Person-33\").property(\"age\",\"24\").property(\"salary_level\",\"2\").property(\"education_level\",\"1\").as(\"P-33\").\n",
    "addV(\"Person\").property(id,\"P-34\").property(\"person_id\",\"P-34\").property(\"person_name\",\"Person-34\").property(\"age\",\"19\").property(\"salary_level\",\"2\").property(\"education_level\",\"1\").as(\"P-34\").\n",
    "addV(\"Person\").property(id,\"P-35\").property(\"person_id\",\"P-35\").property(\"person_name\",\"Person-35\").property(\"age\",\"24\").property(\"salary_level\",\"2\").property(\"education_level\",\"1\").as(\"P-35\").\n",
    "addV(\"Person\").property(id,\"P-36\").property(\"person_id\",\"P-36\").property(\"person_name\",\"Person-36\").property(\"age\",\"18\").property(\"salary_level\",\"2\").property(\"education_level\",\"2\").as(\"P-36\").\n",
    "addV(\"Person\").property(id,\"P-37\").property(\"person_id\",\"P-37\").property(\"person_name\",\"Person-37\").property(\"age\",\"19\").property(\"salary_level\",\"2\").property(\"education_level\",\"1\").as(\"P-37\").\n",
    "addV(\"Person\").property(id,\"P-38\").property(\"person_id\",\"P-38\").property(\"person_name\",\"Person-38\").property(\"age\",\"20\").property(\"salary_level\",\"1\").property(\"education_level\",\"1\").as(\"P-38\").\n",
    "addV(\"Person\").property(id,\"P-39\").property(\"person_id\",\"P-39\").property(\"person_name\",\"Person-39\").property(\"age\",\"24\").property(\"salary_level\",\"2\").property(\"education_level\",\"1\").as(\"P-39\").\n",
    "addV(\"Person\").property(id,\"P-40\").property(\"person_id\",\"P-40\").property(\"person_name\",\"Person-40\").property(\"age\",\"20\").property(\"salary_level\",\"1\").property(\"education_level\",\"1\").as(\"P-40\").\n",
    "addV(\"Person\").property(id,\"P-41\").property(\"person_id\",\"P-41\").property(\"person_name\",\"Person-41\").property(\"age\",\"18\").property(\"salary_level\",\"1\").property(\"education_level\",\"1\").as(\"P-41\").\n",
    "addV(\"Person\").property(id,\"P-42\").property(\"person_id\",\"P-42\").property(\"person_name\",\"Person-42\").property(\"age\",\"24\").property(\"salary_level\",\"1\").property(\"education_level\",\"1\").as(\"P-42\").\n",
    "addV(\"Person\").property(id,\"P-43\").property(\"person_id\",\"P-43\").property(\"person_name\",\"Person-43\").property(\"age\",\"25\").property(\"salary_level\",\"1\").property(\"education_level\",\"2\").as(\"P-43\").\n",
    "addV(\"Person\").property(id,\"P-44\").property(\"person_id\",\"P-44\").property(\"person_name\",\"Person-44\").property(\"age\",\"24\").property(\"salary_level\",\"2\").property(\"education_level\",\"1\").as(\"P-44\").\n",
    "addV(\"Person\").property(id,\"P-45\").property(\"person_id\",\"P-45\").property(\"person_name\",\"Person-45\").property(\"age\",\"25\").property(\"salary_level\",\"1\").property(\"education_level\",\"1\").as(\"P-45\").\n",
    "addV(\"Person\").property(id,\"P-46\").property(\"person_id\",\"P-46\").property(\"person_name\",\"Person-46\").property(\"age\",\"18\").property(\"salary_level\",\"2\").property(\"education_level\",\"1\").as(\"P-46\").\n",
    "addV(\"Person\").property(id,\"P-47\").property(\"person_id\",\"P-47\").property(\"person_name\",\"Person-47\").property(\"age\",\"22\").property(\"salary_level\",\"2\").property(\"education_level\",\"2\").as(\"P-47\").\n",
    "addV(\"Person\").property(id,\"P-48\").property(\"person_id\",\"P-48\").property(\"person_name\",\"Person-48\").property(\"age\",\"21\").property(\"salary_level\",\"1\").property(\"education_level\",\"1\").as(\"P-48\").\n",
    "addV(\"Person\").property(id,\"P-49\").property(\"person_id\",\"P-49\").property(\"person_name\",\"Person-49\").property(\"age\",\"24\").property(\"salary_level\",\"2\").property(\"education_level\",\"2\").as(\"P-49\").\n",
    "addV(\"Person\").property(id,\"P-50\").property(\"person_id\",\"P-50\").property(\"person_name\",\"Person-50\").property(\"age\",\"22\").property(\"salary_level\",\"1\").property(\"education_level\",\"2\").as(\"P-50\").\n",
    "addV(\"Person\").property(id,\"P-51\").property(\"person_id\",\"P-51\").property(\"person_name\",\"Person-51\").property(\"age\",\"21\").property(\"salary_level\",\"2\").property(\"education_level\",\"1\").as(\"P-51\").\n",
    "addV(\"Person\").property(id,\"P-52\").property(\"person_id\",\"P-52\").property(\"person_name\",\"Person-52\").property(\"age\",\"22\").property(\"salary_level\",\"1\").property(\"education_level\",\"3\").as(\"P-52\").\n",
    "addV(\"Person\").property(id,\"P-53\").property(\"person_id\",\"P-53\").property(\"person_name\",\"Person-53\").property(\"age\",\"19\").property(\"salary_level\",\"1\").property(\"education_level\",\"1\").as(\"P-53\").\n",
    "addV(\"Person\").property(id,\"P-54\").property(\"person_id\",\"P-54\").property(\"person_name\",\"Person-54\").property(\"age\",\"23\").property(\"salary_level\",\"2\").property(\"education_level\",\"1\").as(\"P-54\").\n",
    "addV(\"Person\").property(id,\"P-55\").property(\"person_id\",\"P-55\").property(\"person_name\",\"Person-55\").property(\"age\",\"25\").property(\"salary_level\",\"1\").property(\"education_level\",\"1\").as(\"P-55\").\n",
    "addV(\"Person\").property(id,\"P-56\").property(\"person_id\",\"P-56\").property(\"person_name\",\"Person-56\").property(\"age\",\"21\").property(\"salary_level\",\"1\").property(\"education_level\",\"1\").as(\"P-56\").\n",
    "addV(\"Person\").property(id,\"P-57\").property(\"person_id\",\"P-57\").property(\"person_name\",\"Person-57\").property(\"age\",\"18\").property(\"salary_level\",\"1\").property(\"education_level\",\"1\").as(\"P-57\").\n",
    "addV(\"Person\").property(id,\"P-58\").property(\"person_id\",\"P-58\").property(\"person_name\",\"Person-58\").property(\"age\",\"22\").property(\"salary_level\",\"2\").property(\"education_level\",\"1\").as(\"P-58\").\n",
    "addV(\"Person\").property(id,\"P-59\").property(\"person_id\",\"P-59\").property(\"person_name\",\"Person-59\").property(\"age\",\"24\").property(\"salary_level\",\"1\").property(\"education_level\",\"1\").as(\"P-59\").\n",
    "addV(\"Person\").property(id,\"P-60\").property(\"person_id\",\"P-60\").property(\"person_name\",\"Person-60\").property(\"age\",\"20\").property(\"salary_level\",\"2\").property(\"education_level\",\"1\").as(\"P-60\")"
   ]
  },
  {
   "cell_type": "markdown",
   "id": "8e02db7c-0b1b-4f60-8980-f8a720883c17",
   "metadata": {},
   "source": [
    "# Account"
   ]
  },
  {
   "cell_type": "code",
   "execution_count": 28,
   "id": "d942dd75-1557-4861-81ff-f47e4dccf6dd",
   "metadata": {
    "tags": []
   },
   "outputs": [
    {
     "data": {
      "application/vnd.jupyter.widget-view+json": {
       "model_id": "3c59dd09c46f4f71b27d2988fd5c2bc0",
       "version_major": 2,
       "version_minor": 0
      },
      "text/plain": [
       "Tab(children=(Output(layout=Layout(max_height='600px', max_width='940px', overflow='scroll')), Output(layout=L…"
      ]
     },
     "metadata": {},
     "output_type": "display_data"
    }
   ],
   "source": [
    "%%gremlin\n",
    "\n",
    "g.V().hasLabel('Account').drop().iterate();"
   ]
  },
  {
   "cell_type": "code",
   "execution_count": 6,
   "id": "0ed62346-4e47-4dbe-a1d0-def159afd776",
   "metadata": {
    "tags": []
   },
   "outputs": [
    {
     "data": {
      "application/vnd.jupyter.widget-view+json": {
       "model_id": "984f0aae1f9a42fa97a41600eb5dbc09",
       "version_major": 2,
       "version_minor": 0
      },
      "text/plain": [
       "Tab(children=(Output(layout=Layout(max_height='600px', max_width='940px', overflow='scroll')), Output(layout=L…"
      ]
     },
     "metadata": {},
     "output_type": "display_data"
    }
   ],
   "source": [
    "%%gremlin\n",
    "\n",
    "g.addV(\"Account\").property(id,\"ACC-17\").property(\"account_id\",\"ACC-17\").property(\"person_id\",\"P-48\").as(\"ACC-17\").\n",
    "addV(\"Account\").property(id,\"ACC-26\").property(\"account_id\",\"ACC-26\").property(\"person_id\",\"P-52\").as(\"ACC-26\").\n",
    "addV(\"Account\").property(id,\"ACC-28\").property(\"account_id\",\"ACC-28\").property(\"person_id\",\"P-57\").as(\"ACC-28\").\n",
    "addV(\"Account\").property(id,\"ACC-86\").property(\"account_id\",\"ACC-86\").property(\"person_id\",\"P-12\").as(\"ACC-86\").\n",
    "addV(\"Account\").property(id,\"ACC-109\").property(\"account_id\",\"ACC-109\").property(\"person_id\",\"P-28\").as(\"ACC-109\").\n",
    "addV(\"Account\").property(id,\"ACC-169\").property(\"account_id\",\"ACC-169\").property(\"person_id\",\"P-37\").as(\"ACC-169\").\n",
    "addV(\"Account\").property(id,\"ACC-178\").property(\"account_id\",\"ACC-178\").property(\"person_id\",\"P-11\").as(\"ACC-178\").\n",
    "addV(\"Account\").property(id,\"ACC-324\").property(\"account_id\",\"ACC-324\").property(\"person_id\",\"P-42\").as(\"ACC-324\").\n",
    "addV(\"Account\").property(id,\"ACC-350\").property(\"account_id\",\"ACC-350\").property(\"person_id\",\"P-32\").as(\"ACC-350\").\n",
    "addV(\"Account\").property(id,\"ACC-374\").property(\"account_id\",\"ACC-374\").property(\"person_id\",\"P-12\").as(\"ACC-374\").\n",
    "addV(\"Account\").property(id,\"ACC-399\").property(\"account_id\",\"ACC-399\").property(\"person_id\",\"P-52\").as(\"ACC-399\").\n",
    "addV(\"Account\").property(id,\"ACC-445\").property(\"account_id\",\"ACC-445\").property(\"person_id\",\"P-43\").as(\"ACC-445\").\n",
    "addV(\"Account\").property(id,\"ACC-464\").property(\"account_id\",\"ACC-464\").property(\"person_id\",\"P-45\").as(\"ACC-464\").\n",
    "addV(\"Account\").property(id,\"ACC-481\").property(\"account_id\",\"ACC-481\").property(\"person_id\",\"P-32\").as(\"ACC-481\").\n",
    "addV(\"Account\").property(id,\"ACC-542\").property(\"account_id\",\"ACC-542\").property(\"person_id\",\"P-5\").as(\"ACC-542\").\n",
    "addV(\"Account\").property(id,\"ACC-567\").property(\"account_id\",\"ACC-567\").property(\"person_id\",\"P-27\").as(\"ACC-567\").\n",
    "addV(\"Account\").property(id,\"ACC-586\").property(\"account_id\",\"ACC-586\").property(\"person_id\",\"P-56\").as(\"ACC-586\").\n",
    "addV(\"Account\").property(id,\"ACC-603\").property(\"account_id\",\"ACC-603\").property(\"person_id\",\"P-4\").as(\"ACC-603\").\n",
    "addV(\"Account\").property(id,\"ACC-620\").property(\"account_id\",\"ACC-620\").property(\"person_id\",\"P-59\").as(\"ACC-620\").\n",
    "addV(\"Account\").property(id,\"ACC-655\").property(\"account_id\",\"ACC-655\").property(\"person_id\",\"P-41\").as(\"ACC-655\").\n",
    "addV(\"Account\").property(id,\"ACC-658\").property(\"account_id\",\"ACC-658\").property(\"person_id\",\"P-39\").as(\"ACC-658\").\n",
    "addV(\"Account\").property(id,\"ACC-661\").property(\"account_id\",\"ACC-661\").property(\"person_id\",\"P-3\").as(\"ACC-661\").\n",
    "addV(\"Account\").property(id,\"ACC-720\").property(\"account_id\",\"ACC-720\").property(\"person_id\",\"P-25\").as(\"ACC-720\").\n",
    "addV(\"Account\").property(id,\"ACC-757\").property(\"account_id\",\"ACC-757\").property(\"person_id\",\"P-19\").as(\"ACC-757\").\n",
    "addV(\"Account\").property(id,\"ACC-884\").property(\"account_id\",\"ACC-884\").property(\"person_id\",\"P-7\").as(\"ACC-884\").\n",
    "addV(\"Account\").property(id,\"ACC-923\").property(\"account_id\",\"ACC-923\").property(\"person_id\",\"P-16\").as(\"ACC-923\").\n",
    "addV(\"Account\").property(id,\"ACC-1074\").property(\"account_id\",\"ACC-1074\").property(\"person_id\",\"P-17\").as(\"ACC-1074\").\n",
    "addV(\"Account\").property(id,\"ACC-1083\").property(\"account_id\",\"ACC-1083\").property(\"person_id\",\"P-2\").as(\"ACC-1083\").\n",
    "addV(\"Account\").property(id,\"ACC-1100\").property(\"account_id\",\"ACC-1100\").property(\"person_id\",\"P-12\").as(\"ACC-1100\").\n",
    "addV(\"Account\").property(id,\"ACC-1162\").property(\"account_id\",\"ACC-1162\").property(\"person_id\",\"P-3\").as(\"ACC-1162\").\n",
    "addV(\"Account\").property(id,\"ACC-1221\").property(\"account_id\",\"ACC-1221\").property(\"person_id\",\"P-52\").as(\"ACC-1221\").\n",
    "addV(\"Account\").property(id,\"ACC-1243\").property(\"account_id\",\"ACC-1243\").property(\"person_id\",\"P-4\").as(\"ACC-1243\").\n",
    "addV(\"Account\").property(id,\"ACC-1252\").property(\"account_id\",\"ACC-1252\").property(\"person_id\",\"P-49\").as(\"ACC-1252\").\n",
    "addV(\"Account\").property(id,\"ACC-1266\").property(\"account_id\",\"ACC-1266\").property(\"person_id\",\"P-4\").as(\"ACC-1266\").\n",
    "addV(\"Account\").property(id,\"ACC-1274\").property(\"account_id\",\"ACC-1274\").property(\"person_id\",\"P-21\").as(\"ACC-1274\").\n",
    "addV(\"Account\").property(id,\"ACC-1307\").property(\"account_id\",\"ACC-1307\").property(\"person_id\",\"P-59\").as(\"ACC-1307\").\n",
    "addV(\"Account\").property(id,\"ACC-1358\").property(\"account_id\",\"ACC-1358\").property(\"person_id\",\"P-2\").as(\"ACC-1358\").\n",
    "addV(\"Account\").property(id,\"ACC-1365\").property(\"account_id\",\"ACC-1365\").property(\"person_id\",\"P-7\").as(\"ACC-1365\").\n",
    "addV(\"Account\").property(id,\"ACC-1383\").property(\"account_id\",\"ACC-1383\").property(\"person_id\",\"P-32\").as(\"ACC-1383\").\n",
    "addV(\"Account\").property(id,\"ACC-1415\").property(\"account_id\",\"ACC-1415\").property(\"person_id\",\"P-36\").as(\"ACC-1415\").\n",
    "addV(\"Account\").property(id,\"ACC-1436\").property(\"account_id\",\"ACC-1436\").property(\"person_id\",\"P-26\").as(\"ACC-1436\").\n",
    "addV(\"Account\").property(id,\"ACC-1441\").property(\"account_id\",\"ACC-1441\").property(\"person_id\",\"P-16\").as(\"ACC-1441\").\n",
    "addV(\"Account\").property(id,\"ACC-1446\").property(\"account_id\",\"ACC-1446\").property(\"person_id\",\"P-8\").as(\"ACC-1446\").\n",
    "addV(\"Account\").property(id,\"ACC-1454\").property(\"account_id\",\"ACC-1454\").property(\"person_id\",\"P-51\").as(\"ACC-1454\").\n",
    "addV(\"Account\").property(id,\"ACC-1511\").property(\"account_id\",\"ACC-1511\").property(\"person_id\",\"P-55\").as(\"ACC-1511\").\n",
    "addV(\"Account\").property(id,\"ACC-1540\").property(\"account_id\",\"ACC-1540\").property(\"person_id\",\"P-8\").as(\"ACC-1540\").\n",
    "addV(\"Account\").property(id,\"ACC-1549\").property(\"account_id\",\"ACC-1549\").property(\"person_id\",\"P-54\").as(\"ACC-1549\").\n",
    "addV(\"Account\").property(id,\"ACC-1558\").property(\"account_id\",\"ACC-1558\").property(\"person_id\",\"P-3\").as(\"ACC-1558\").\n",
    "addV(\"Account\").property(id,\"ACC-1590\").property(\"account_id\",\"ACC-1590\").property(\"person_id\",\"P-8\").as(\"ACC-1590\").\n",
    "addV(\"Account\").property(id,\"ACC-1669\").property(\"account_id\",\"ACC-1669\").property(\"person_id\",\"P-11\").as(\"ACC-1669\").\n",
    "addV(\"Account\").property(id,\"ACC-1676\").property(\"account_id\",\"ACC-1676\").property(\"person_id\",\"P-3\").as(\"ACC-1676\").\n",
    "addV(\"Account\").property(id,\"ACC-1763\").property(\"account_id\",\"ACC-1763\").property(\"person_id\",\"P-48\").as(\"ACC-1763\").\n",
    "addV(\"Account\").property(id,\"ACC-1820\").property(\"account_id\",\"ACC-1820\").property(\"person_id\",\"P-60\").as(\"ACC-1820\").\n",
    "addV(\"Account\").property(id,\"ACC-1865\").property(\"account_id\",\"ACC-1865\").property(\"person_id\",\"P-41\").as(\"ACC-1865\").\n",
    "addV(\"Account\").property(id,\"ACC-1877\").property(\"account_id\",\"ACC-1877\").property(\"person_id\",\"P-16\").as(\"ACC-1877\").\n",
    "addV(\"Account\").property(id,\"ACC-1897\").property(\"account_id\",\"ACC-1897\").property(\"person_id\",\"P-48\").as(\"ACC-1897\").\n",
    "addV(\"Account\").property(id,\"ACC-1936\").property(\"account_id\",\"ACC-1936\").property(\"person_id\",\"P-8\").as(\"ACC-1936\").\n",
    "addV(\"Account\").property(id,\"ACC-1959\").property(\"account_id\",\"ACC-1959\").property(\"person_id\",\"P-53\").as(\"ACC-1959\").\n",
    "addV(\"Account\").property(id,\"ACC-2043\").property(\"account_id\",\"ACC-2043\").property(\"person_id\",\"P-16\").as(\"ACC-2043\").\n",
    "addV(\"Account\").property(id,\"ACC-2080\").property(\"account_id\",\"ACC-2080\").property(\"person_id\",\"P-43\").as(\"ACC-2080\").\n",
    "addV(\"Account\").property(id,\"ACC-2124\").property(\"account_id\",\"ACC-2124\").property(\"person_id\",\"P-28\").as(\"ACC-2124\").\n",
    "addV(\"Account\").property(id,\"ACC-2186\").property(\"account_id\",\"ACC-2186\").property(\"person_id\",\"P-18\").as(\"ACC-2186\").\n",
    "addV(\"Account\").property(id,\"ACC-2208\").property(\"account_id\",\"ACC-2208\").property(\"person_id\",\"P-35\").as(\"ACC-2208\").\n",
    "addV(\"Account\").property(id,\"ACC-2308\").property(\"account_id\",\"ACC-2308\").property(\"person_id\",\"P-24\").as(\"ACC-2308\").\n",
    "addV(\"Account\").property(id,\"ACC-2333\").property(\"account_id\",\"ACC-2333\").property(\"person_id\",\"P-57\").as(\"ACC-2333\").\n",
    "addV(\"Account\").property(id,\"ACC-2418\").property(\"account_id\",\"ACC-2418\").property(\"person_id\",\"P-34\").as(\"ACC-2418\").\n",
    "addV(\"Account\").property(id,\"ACC-2442\").property(\"account_id\",\"ACC-2442\").property(\"person_id\",\"P-23\").as(\"ACC-2442\").\n",
    "addV(\"Account\").property(id,\"ACC-2498\").property(\"account_id\",\"ACC-2498\").property(\"person_id\",\"P-19\").as(\"ACC-2498\")"
   ]
  },
  {
   "cell_type": "markdown",
   "id": "5c365558-72e0-455d-908d-71efef07899a",
   "metadata": {},
   "source": [
    "# Edges"
   ]
  },
  {
   "cell_type": "code",
   "execution_count": 7,
   "id": "6132697b-bf12-4db4-8e38-7ac294b9eaeb",
   "metadata": {
    "tags": []
   },
   "outputs": [
    {
     "data": {
      "application/vnd.jupyter.widget-view+json": {
       "model_id": "fa4fdcc3ca3f4cf5b555ab3d6115166e",
       "version_major": 2,
       "version_minor": 0
      },
      "text/plain": [
       "Tab(children=(Output(layout=Layout(max_height='600px', max_width='940px', overflow='scroll')), Output(layout=L…"
      ]
     },
     "metadata": {},
     "output_type": "display_data"
    }
   ],
   "source": [
    "%%gremlin\n",
    "\n",
    "g.V(\"P-48\").addE(\"has\").to(__.V(\"ACC-17\")).property(id,\"P-48-ACC-17-ACC-PER\").\n",
    "V(\"P-52\").addE(\"has\").to(__.V(\"ACC-26\")).property(id,\"P-52-ACC-26-ACC-PER\").\n",
    "V(\"P-57\").addE(\"has\").to(__.V(\"ACC-28\")).property(id,\"P-57-ACC-28-ACC-PER\").\n",
    "V(\"P-12\").addE(\"has\").to(__.V(\"ACC-86\")).property(id,\"P-12-ACC-86-ACC-PER\").\n",
    "V(\"P-28\").addE(\"has\").to(__.V(\"ACC-109\")).property(id,\"P-28-ACC-109-ACC-PER\").\n",
    "V(\"P-37\").addE(\"has\").to(__.V(\"ACC-169\")).property(id,\"P-37-ACC-169-ACC-PER\").\n",
    "V(\"P-11\").addE(\"has\").to(__.V(\"ACC-178\")).property(id,\"P-11-ACC-178-ACC-PER\").\n",
    "V(\"P-42\").addE(\"has\").to(__.V(\"ACC-324\")).property(id,\"P-42-ACC-324-ACC-PER\").\n",
    "V(\"P-32\").addE(\"has\").to(__.V(\"ACC-350\")).property(id,\"P-32-ACC-350-ACC-PER\").\n",
    "V(\"P-12\").addE(\"has\").to(__.V(\"ACC-374\")).property(id,\"P-12-ACC-374-ACC-PER\").\n",
    "V(\"P-52\").addE(\"has\").to(__.V(\"ACC-399\")).property(id,\"P-52-ACC-399-ACC-PER\").\n",
    "V(\"P-43\").addE(\"has\").to(__.V(\"ACC-445\")).property(id,\"P-43-ACC-445-ACC-PER\").\n",
    "V(\"P-45\").addE(\"has\").to(__.V(\"ACC-464\")).property(id,\"P-45-ACC-464-ACC-PER\").\n",
    "V(\"P-32\").addE(\"has\").to(__.V(\"ACC-481\")).property(id,\"P-32-ACC-481-ACC-PER\").\n",
    "V(\"P-5\").addE(\"has\").to(__.V(\"ACC-542\")).property(id,\"P-5-ACC-542-ACC-PER\").\n",
    "V(\"P-27\").addE(\"has\").to(__.V(\"ACC-567\")).property(id,\"P-27-ACC-567-ACC-PER\").\n",
    "V(\"P-56\").addE(\"has\").to(__.V(\"ACC-586\")).property(id,\"P-56-ACC-586-ACC-PER\").\n",
    "V(\"P-4\").addE(\"has\").to(__.V(\"ACC-603\")).property(id,\"P-4-ACC-603-ACC-PER\").\n",
    "V(\"P-59\").addE(\"has\").to(__.V(\"ACC-620\")).property(id,\"P-59-ACC-620-ACC-PER\").\n",
    "V(\"P-41\").addE(\"has\").to(__.V(\"ACC-655\")).property(id,\"P-41-ACC-655-ACC-PER\").\n",
    "V(\"P-39\").addE(\"has\").to(__.V(\"ACC-658\")).property(id,\"P-39-ACC-658-ACC-PER\").\n",
    "V(\"P-3\").addE(\"has\").to(__.V(\"ACC-661\")).property(id,\"P-3-ACC-661-ACC-PER\").\n",
    "V(\"P-25\").addE(\"has\").to(__.V(\"ACC-720\")).property(id,\"P-25-ACC-720-ACC-PER\").\n",
    "V(\"P-19\").addE(\"has\").to(__.V(\"ACC-757\")).property(id,\"P-19-ACC-757-ACC-PER\").\n",
    "V(\"P-7\").addE(\"has\").to(__.V(\"ACC-884\")).property(id,\"P-7-ACC-884-ACC-PER\").\n",
    "V(\"P-16\").addE(\"has\").to(__.V(\"ACC-923\")).property(id,\"P-16-ACC-923-ACC-PER\").\n",
    "V(\"P-17\").addE(\"has\").to(__.V(\"ACC-1074\")).property(id,\"P-17-ACC-1074-ACC-PER\").\n",
    "V(\"P-2\").addE(\"has\").to(__.V(\"ACC-1083\")).property(id,\"P-2-ACC-1083-ACC-PER\").\n",
    "V(\"P-12\").addE(\"has\").to(__.V(\"ACC-1100\")).property(id,\"P-12-ACC-1100-ACC-PER\").\n",
    "V(\"P-3\").addE(\"has\").to(__.V(\"ACC-1162\")).property(id,\"P-3-ACC-1162-ACC-PER\").\n",
    "V(\"P-52\").addE(\"has\").to(__.V(\"ACC-1221\")).property(id,\"P-52-ACC-1221-ACC-PER\").\n",
    "V(\"P-4\").addE(\"has\").to(__.V(\"ACC-1243\")).property(id,\"P-4-ACC-1243-ACC-PER\").\n",
    "V(\"P-49\").addE(\"has\").to(__.V(\"ACC-1252\")).property(id,\"P-49-ACC-1252-ACC-PER\").\n",
    "V(\"P-4\").addE(\"has\").to(__.V(\"ACC-1266\")).property(id,\"P-4-ACC-1266-ACC-PER\").\n",
    "V(\"P-21\").addE(\"has\").to(__.V(\"ACC-1274\")).property(id,\"P-21-ACC-1274-ACC-PER\").\n",
    "V(\"P-59\").addE(\"has\").to(__.V(\"ACC-1307\")).property(id,\"P-59-ACC-1307-ACC-PER\").\n",
    "V(\"P-2\").addE(\"has\").to(__.V(\"ACC-1358\")).property(id,\"P-2-ACC-1358-ACC-PER\").\n",
    "V(\"P-7\").addE(\"has\").to(__.V(\"ACC-1365\")).property(id,\"P-7-ACC-1365-ACC-PER\").\n",
    "V(\"P-32\").addE(\"has\").to(__.V(\"ACC-1383\")).property(id,\"P-32-ACC-1383-ACC-PER\").\n",
    "V(\"P-36\").addE(\"has\").to(__.V(\"ACC-1415\")).property(id,\"P-36-ACC-1415-ACC-PER\").\n",
    "V(\"P-26\").addE(\"has\").to(__.V(\"ACC-1436\")).property(id,\"P-26-ACC-1436-ACC-PER\").\n",
    "V(\"P-16\").addE(\"has\").to(__.V(\"ACC-1441\")).property(id,\"P-16-ACC-1441-ACC-PER\").\n",
    "V(\"P-8\").addE(\"has\").to(__.V(\"ACC-1446\")).property(id,\"P-8-ACC-1446-ACC-PER\").\n",
    "V(\"P-51\").addE(\"has\").to(__.V(\"ACC-1454\")).property(id,\"P-51-ACC-1454-ACC-PER\").\n",
    "V(\"P-55\").addE(\"has\").to(__.V(\"ACC-1511\")).property(id,\"P-55-ACC-1511-ACC-PER\").\n",
    "V(\"P-8\").addE(\"has\").to(__.V(\"ACC-1540\")).property(id,\"P-8-ACC-1540-ACC-PER\").\n",
    "V(\"P-54\").addE(\"has\").to(__.V(\"ACC-1549\")).property(id,\"P-54-ACC-1549-ACC-PER\").\n",
    "V(\"P-3\").addE(\"has\").to(__.V(\"ACC-1558\")).property(id,\"P-3-ACC-1558-ACC-PER\").\n",
    "V(\"P-8\").addE(\"has\").to(__.V(\"ACC-1590\")).property(id,\"P-8-ACC-1590-ACC-PER\").\n",
    "V(\"P-11\").addE(\"has\").to(__.V(\"ACC-1669\")).property(id,\"P-11-ACC-1669-ACC-PER\").\n",
    "V(\"P-3\").addE(\"has\").to(__.V(\"ACC-1676\")).property(id,\"P-3-ACC-1676-ACC-PER\").\n",
    "V(\"P-48\").addE(\"has\").to(__.V(\"ACC-1763\")).property(id,\"P-48-ACC-1763-ACC-PER\").\n",
    "V(\"P-60\").addE(\"has\").to(__.V(\"ACC-1820\")).property(id,\"P-60-ACC-1820-ACC-PER\").\n",
    "V(\"P-41\").addE(\"has\").to(__.V(\"ACC-1865\")).property(id,\"P-41-ACC-1865-ACC-PER\").\n",
    "V(\"P-16\").addE(\"has\").to(__.V(\"ACC-1877\")).property(id,\"P-16-ACC-1877-ACC-PER\").\n",
    "V(\"P-48\").addE(\"has\").to(__.V(\"ACC-1897\")).property(id,\"P-48-ACC-1897-ACC-PER\").\n",
    "V(\"P-8\").addE(\"has\").to(__.V(\"ACC-1936\")).property(id,\"P-8-ACC-1936-ACC-PER\").\n",
    "V(\"P-53\").addE(\"has\").to(__.V(\"ACC-1959\")).property(id,\"P-53-ACC-1959-ACC-PER\").\n",
    "V(\"P-16\").addE(\"has\").to(__.V(\"ACC-2043\")).property(id,\"P-16-ACC-2043-ACC-PER\").\n",
    "V(\"P-43\").addE(\"has\").to(__.V(\"ACC-2080\")).property(id,\"P-43-ACC-2080-ACC-PER\").\n",
    "V(\"P-28\").addE(\"has\").to(__.V(\"ACC-2124\")).property(id,\"P-28-ACC-2124-ACC-PER\").\n",
    "V(\"P-18\").addE(\"has\").to(__.V(\"ACC-2186\")).property(id,\"P-18-ACC-2186-ACC-PER\").\n",
    "V(\"P-35\").addE(\"has\").to(__.V(\"ACC-2208\")).property(id,\"P-35-ACC-2208-ACC-PER\").\n",
    "V(\"P-24\").addE(\"has\").to(__.V(\"ACC-2308\")).property(id,\"P-24-ACC-2308-ACC-PER\").\n",
    "V(\"P-57\").addE(\"has\").to(__.V(\"ACC-2333\")).property(id,\"P-57-ACC-2333-ACC-PER\").\n",
    "V(\"P-34\").addE(\"has\").to(__.V(\"ACC-2418\")).property(id,\"P-34-ACC-2418-ACC-PER\").\n",
    "V(\"P-23\").addE(\"has\").to(__.V(\"ACC-2442\")).property(id,\"P-23-ACC-2442-ACC-PER\").\n",
    "V(\"P-19\").addE(\"has\").to(__.V(\"ACC-2498\")).property(id,\"P-19-ACC-2498-ACC-PER\")"
   ]
  },
  {
   "cell_type": "markdown",
   "id": "ea3fd53c-cd5a-48b8-9421-d19ec2ca8da6",
   "metadata": {
    "tags": []
   },
   "source": [
    "# MCC"
   ]
  },
  {
   "cell_type": "code",
   "execution_count": 29,
   "id": "26faa344-442c-4a44-be4e-4d5eb37bc043",
   "metadata": {
    "tags": []
   },
   "outputs": [
    {
     "data": {
      "application/vnd.jupyter.widget-view+json": {
       "model_id": "a452e8f694764d2db561462fd5ec7934",
       "version_major": 2,
       "version_minor": 0
      },
      "text/plain": [
       "Tab(children=(Output(layout=Layout(max_height='600px', max_width='940px', overflow='scroll')), Output(layout=L…"
      ]
     },
     "metadata": {},
     "output_type": "display_data"
    }
   ],
   "source": [
    "%%gremlin\n",
    "\n",
    "g.V().hasLabel('Merchant').drop().iterate();"
   ]
  },
  {
   "cell_type": "code",
   "execution_count": 9,
   "id": "0522d1bd-4c78-4ab6-8382-8887d06c6d47",
   "metadata": {
    "tags": []
   },
   "outputs": [
    {
     "data": {
      "application/vnd.jupyter.widget-view+json": {
       "model_id": "edfa53f3fb574cc89c2f1d26f59a0ef1",
       "version_major": 2,
       "version_minor": 0
      },
      "text/plain": [
       "Tab(children=(Output(layout=Layout(max_height='600px', max_width='940px', overflow='scroll')), Output(layout=L…"
      ]
     },
     "metadata": {},
     "output_type": "display_data"
    }
   ],
   "source": [
    "%%gremlin\n",
    "\n",
    "g.addV(\"Merchant\").property(id,\"CINEMA\").property(\"name\",\"CINEMA\").as(\"CINEMA\").\n",
    "addV(\"Merchant\").property(id,\"PET\").property(\"name\",\"PET\").as(\"PET\").\n",
    "addV(\"Merchant\").property(id,\"COMPUTER\").property(\"name\",\"COMPUTER\").as(\"COMPUTER\").\n",
    "addV(\"Merchant\").property(id,\"STORE\").property(\"name\",\"STORE\").as(\"STORE\").\n",
    "addV(\"Merchant\").property(id,\"BEVERAGE\").property(\"name\",\"BEVERAGE\").as(\"BEVERAGE\").\n",
    "addV(\"Merchant\").property(id,\"FOOD\").property(\"name\",\"FOOD\").as(\"FOOD\").\n",
    "addV(\"Merchant\").property(id,\"BOOK\").property(\"name\",\"BOOK\").as(\"BOOK\").\n",
    "addV(\"Merchant\").property(id,\"SPORTING\").property(\"name\",\"SPORTING\").as(\"SPORTING\").\n",
    "addV(\"Merchant\").property(id,\"LAUNDRY\").property(\"name\",\"LAUNDRY\").as(\"LAUNDRY\").\n",
    "addV(\"Merchant\").property(id,\"CASH\").property(\"name\",\"CASH\").as(\"CASH\").\n",
    "addV(\"Merchant\").property(id,\"DRUG_STORE\").property(\"name\",\"DRUG_STORE\").as(\"DRUG_STORE\").\n",
    "addV(\"Merchant\").property(id,\"MOTOR\").property(\"name\",\"MOTOR\").as(\"MOTOR\").\n",
    "addV(\"Merchant\").property(id,\"GIFT\").property(\"name\",\"GIFT\").as(\"GIFT\").\n",
    "addV(\"Merchant\").property(id,\"GYM\").property(\"name\",\"GYM\").as(\"GYM\").\n",
    "addV(\"Merchant\").property(id,\"PARKING\").property(\"name\",\"PARKING\").as(\"PARKING\").\n",
    "addV(\"Merchant\").property(id,\"GAS\").property(\"name\",\"GAS\").as(\"GAS\").\n",
    "addV(\"Merchant\").property(id,\"COSMETIC\").property(\"name\",\"COSMETIC\").as(\"COSMETIC\")"
   ]
  },
  {
   "cell_type": "code",
   "execution_count": 10,
   "id": "92279967-55a7-422e-87ee-6cb61a5107ae",
   "metadata": {
    "tags": []
   },
   "outputs": [
    {
     "data": {
      "application/vnd.jupyter.widget-view+json": {
       "model_id": "4f0aef2462b546709278252e3cff6ace",
       "version_major": 2,
       "version_minor": 0
      },
      "text/plain": [
       "Tab(children=(Output(layout=Layout(max_height='600px', max_width='940px', overflow='scroll')), Output(layout=L…"
      ]
     },
     "metadata": {},
     "output_type": "display_data"
    }
   ],
   "source": [
    "%%gremlin\n",
    "\n",
    "g.V().hasLabel('Merchant').count()"
   ]
  },
  {
   "cell_type": "markdown",
   "id": "3e37e6b6-15bd-49f9-9d3d-abda12d5ca88",
   "metadata": {
    "tags": []
   },
   "source": [
    "# Terminal"
   ]
  },
  {
   "cell_type": "code",
   "execution_count": 30,
   "id": "54882740-20ac-42e4-8873-aa5032591880",
   "metadata": {
    "tags": []
   },
   "outputs": [
    {
     "data": {
      "application/vnd.jupyter.widget-view+json": {
       "model_id": "b4c75d39c9ce4da38578337a64408b72",
       "version_major": 2,
       "version_minor": 0
      },
      "text/plain": [
       "Tab(children=(Output(layout=Layout(max_height='600px', max_width='940px', overflow='scroll')), Output(layout=L…"
      ]
     },
     "metadata": {},
     "output_type": "display_data"
    }
   ],
   "source": [
    "%%gremlin\n",
    "\n",
    "g.V().hasLabel('Terminal').drop().iterate();"
   ]
  },
  {
   "cell_type": "code",
   "execution_count": 12,
   "id": "43fcaa23-9193-46be-8a49-69515af65610",
   "metadata": {
    "tags": []
   },
   "outputs": [
    {
     "data": {
      "application/vnd.jupyter.widget-view+json": {
       "model_id": "67036967e0df412684f1b9c3aba743dc",
       "version_major": 2,
       "version_minor": 0
      },
      "text/plain": [
       "Tab(children=(Output(layout=Layout(max_height='600px', max_width='940px', overflow='scroll')), Output(layout=L…"
      ]
     },
     "metadata": {},
     "output_type": "display_data"
    }
   ],
   "source": [
    "%%gremlin\n",
    "\n",
    "g.addV(\"Terminal\").property(id,\"TERM-1\").property(\"name\",\"TERM-1\").property(\"coord_x\",42).property(\"coord_y\",35).as(\"TERM-1\").\n",
    "addV(\"Terminal\").property(id,\"TERM-2\").property(\"name\",\"TERM-2\").property(\"coord_x\",32).property(\"coord_y\",95).as(\"TERM-2\").\n",
    "addV(\"Terminal\").property(id,\"TERM-3\").property(\"name\",\"TERM-3\").property(\"coord_x\",52).property(\"coord_y\",89).as(\"TERM-3\").\n",
    "addV(\"Terminal\").property(id,\"TERM-4\").property(\"name\",\"TERM-4\").property(\"coord_x\",88).property(\"coord_y\",19).as(\"TERM-4\").\n",
    "addV(\"Terminal\").property(id,\"TERM-5\").property(\"name\",\"TERM-5\").property(\"coord_x\",88).property(\"coord_y\",83).as(\"TERM-5\").\n",
    "addV(\"Terminal\").property(id,\"TERM-6\").property(\"name\",\"TERM-6\").property(\"coord_x\",13).property(\"coord_y\",79).as(\"TERM-6\").\n",
    "addV(\"Terminal\").property(id,\"TERM-7\").property(\"name\",\"TERM-7\").property(\"coord_x\",41).property(\"coord_y\",59).as(\"TERM-7\").\n",
    "addV(\"Terminal\").property(id,\"TERM-8\").property(\"name\",\"TERM-8\").property(\"coord_x\",30).property(\"coord_y\",98).as(\"TERM-8\").\n",
    "addV(\"Terminal\").property(id,\"TERM-9\").property(\"name\",\"TERM-9\").property(\"coord_x\",7).property(\"coord_y\",24).as(\"TERM-9\").\n",
    "addV(\"Terminal\").property(id,\"TERM-10\").property(\"name\",\"TERM-10\").property(\"coord_x\",40).property(\"coord_y\",81).as(\"TERM-10\").\n",
    "addV(\"Terminal\").property(id,\"TERM-11\").property(\"name\",\"TERM-11\").property(\"coord_x\",61).property(\"coord_y\",82).as(\"TERM-11\").\n",
    "addV(\"Terminal\").property(id,\"TERM-12\").property(\"name\",\"TERM-12\").property(\"coord_x\",94).property(\"coord_y\",29).as(\"TERM-12\").\n",
    "addV(\"Terminal\").property(id,\"TERM-13\").property(\"name\",\"TERM-13\").property(\"coord_x\",66).property(\"coord_y\",14).as(\"TERM-13\").\n",
    "addV(\"Terminal\").property(id,\"TERM-14\").property(\"name\",\"TERM-14\").property(\"coord_x\",14).property(\"coord_y\",88).as(\"TERM-14\").\n",
    "addV(\"Terminal\").property(id,\"TERM-15\").property(\"name\",\"TERM-15\").property(\"coord_x\",98).property(\"coord_y\",7).as(\"TERM-15\").\n",
    "addV(\"Terminal\").property(id,\"TERM-16\").property(\"name\",\"TERM-16\").property(\"coord_x\",100).property(\"coord_y\",69).as(\"TERM-16\").\n",
    "addV(\"Terminal\").property(id,\"TERM-17\").property(\"name\",\"TERM-17\").property(\"coord_x\",34).property(\"coord_y\",2).as(\"TERM-17\").\n",
    "addV(\"Terminal\").property(id,\"TERM-18\").property(\"name\",\"TERM-18\").property(\"coord_x\",14).property(\"coord_y\",96).as(\"TERM-18\").\n",
    "addV(\"Terminal\").property(id,\"TERM-19\").property(\"name\",\"TERM-19\").property(\"coord_x\",44).property(\"coord_y\",22).as(\"TERM-19\").\n",
    "addV(\"Terminal\").property(id,\"TERM-20\").property(\"name\",\"TERM-20\").property(\"coord_x\",12).property(\"coord_y\",54).as(\"TERM-20\").\n",
    "addV(\"Terminal\").property(id,\"TERM-21\").property(\"name\",\"TERM-21\").property(\"coord_x\",55).property(\"coord_y\",6).as(\"TERM-21\").\n",
    "addV(\"Terminal\").property(id,\"TERM-22\").property(\"name\",\"TERM-22\").property(\"coord_x\",53).property(\"coord_y\",85).as(\"TERM-22\").\n",
    "addV(\"Terminal\").property(id,\"TERM-23\").property(\"name\",\"TERM-23\").property(\"coord_x\",24).property(\"coord_y\",50).as(\"TERM-23\").\n",
    "addV(\"Terminal\").property(id,\"TERM-24\").property(\"name\",\"TERM-24\").property(\"coord_x\",77).property(\"coord_y\",45).as(\"TERM-24\").\n",
    "addV(\"Terminal\").property(id,\"TERM-25\").property(\"name\",\"TERM-25\").property(\"coord_x\",65).property(\"coord_y\",81).as(\"TERM-25\").\n",
    "addV(\"Terminal\").property(id,\"TERM-26\").property(\"name\",\"TERM-26\").property(\"coord_x\",33).property(\"coord_y\",59).as(\"TERM-26\").\n",
    "addV(\"Terminal\").property(id,\"TERM-27\").property(\"name\",\"TERM-27\").property(\"coord_x\",92).property(\"coord_y\",29).as(\"TERM-27\").\n",
    "addV(\"Terminal\").property(id,\"TERM-28\").property(\"name\",\"TERM-28\").property(\"coord_x\",10).property(\"coord_y\",62).as(\"TERM-28\").\n",
    "addV(\"Terminal\").property(id,\"TERM-29\").property(\"name\",\"TERM-29\").property(\"coord_x\",42).property(\"coord_y\",39).as(\"TERM-29\").\n",
    "addV(\"Terminal\").property(id,\"TERM-30\").property(\"name\",\"TERM-30\").property(\"coord_x\",32).property(\"coord_y\",41).as(\"TERM-30\").\n",
    "addV(\"Terminal\").property(id,\"TERM-31\").property(\"name\",\"TERM-31\").property(\"coord_x\",61).property(\"coord_y\",90).as(\"TERM-31\").\n",
    "addV(\"Terminal\").property(id,\"TERM-32\").property(\"name\",\"TERM-32\").property(\"coord_x\",63).property(\"coord_y\",58).as(\"TERM-32\").\n",
    "addV(\"Terminal\").property(id,\"TERM-33\").property(\"name\",\"TERM-33\").property(\"coord_x\",73).property(\"coord_y\",78).as(\"TERM-33\").\n",
    "addV(\"Terminal\").property(id,\"TERM-34\").property(\"name\",\"TERM-34\").property(\"coord_x\",22).property(\"coord_y\",36).as(\"TERM-34\").\n",
    "addV(\"Terminal\").property(id,\"TERM-35\").property(\"name\",\"TERM-35\").property(\"coord_x\",21).property(\"coord_y\",64).as(\"TERM-35\").\n",
    "addV(\"Terminal\").property(id,\"TERM-36\").property(\"name\",\"TERM-36\").property(\"coord_x\",83).property(\"coord_y\",50).as(\"TERM-36\").\n",
    "addV(\"Terminal\").property(id,\"TERM-37\").property(\"name\",\"TERM-37\").property(\"coord_x\",61).property(\"coord_y\",21).as(\"TERM-37\").\n",
    "addV(\"Terminal\").property(id,\"TERM-38\").property(\"name\",\"TERM-38\").property(\"coord_x\",82).property(\"coord_y\",17).as(\"TERM-38\").\n",
    "addV(\"Terminal\").property(id,\"TERM-39\").property(\"name\",\"TERM-39\").property(\"coord_x\",47).property(\"coord_y\",13).as(\"TERM-39\").\n",
    "addV(\"Terminal\").property(id,\"TERM-40\").property(\"name\",\"TERM-40\").property(\"coord_x\",34).property(\"coord_y\",48).as(\"TERM-40\").\n",
    "addV(\"Terminal\").property(id,\"TERM-41\").property(\"name\",\"TERM-41\").property(\"coord_x\",54).property(\"coord_y\",66).as(\"TERM-41\").\n",
    "addV(\"Terminal\").property(id,\"TERM-42\").property(\"name\",\"TERM-42\").property(\"coord_x\",8).property(\"coord_y\",20).as(\"TERM-42\").\n",
    "addV(\"Terminal\").property(id,\"TERM-43\").property(\"name\",\"TERM-43\").property(\"coord_x\",38).property(\"coord_y\",48).as(\"TERM-43\").\n",
    "addV(\"Terminal\").property(id,\"TERM-44\").property(\"name\",\"TERM-44\").property(\"coord_x\",11).property(\"coord_y\",47).as(\"TERM-44\").\n",
    "addV(\"Terminal\").property(id,\"TERM-45\").property(\"name\",\"TERM-45\").property(\"coord_x\",84).property(\"coord_y\",16).as(\"TERM-45\").\n",
    "addV(\"Terminal\").property(id,\"TERM-46\").property(\"name\",\"TERM-46\").property(\"coord_x\",6).property(\"coord_y\",2).as(\"TERM-46\").\n",
    "addV(\"Terminal\").property(id,\"TERM-47\").property(\"name\",\"TERM-47\").property(\"coord_x\",3).property(\"coord_y\",65).as(\"TERM-47\").\n",
    "addV(\"Terminal\").property(id,\"TERM-48\").property(\"name\",\"TERM-48\").property(\"coord_x\",94).property(\"coord_y\",54).as(\"TERM-48\").\n",
    "addV(\"Terminal\").property(id,\"TERM-49\").property(\"name\",\"TERM-49\").property(\"coord_x\",17).property(\"coord_y\",56).as(\"TERM-49\").\n",
    "addV(\"Terminal\").property(id,\"TERM-50\").property(\"name\",\"TERM-50\").property(\"coord_x\",36).property(\"coord_y\",88).as(\"TERM-50\").\n",
    "addV(\"Terminal\").property(id,\"TERM-51\").property(\"name\",\"TERM-51\").property(\"coord_x\",34).property(\"coord_y\",95).as(\"TERM-51\").\n",
    "addV(\"Terminal\").property(id,\"TERM-52\").property(\"name\",\"TERM-52\").property(\"coord_x\",75).property(\"coord_y\",64).as(\"TERM-52\").\n",
    "addV(\"Terminal\").property(id,\"TERM-53\").property(\"name\",\"TERM-53\").property(\"coord_x\",79).property(\"coord_y\",63).as(\"TERM-53\").\n",
    "addV(\"Terminal\").property(id,\"TERM-54\").property(\"name\",\"TERM-54\").property(\"coord_x\",18).property(\"coord_y\",36).as(\"TERM-54\").\n",
    "addV(\"Terminal\").property(id,\"TERM-55\").property(\"name\",\"TERM-55\").property(\"coord_x\",43).property(\"coord_y\",59).as(\"TERM-55\").\n",
    "addV(\"Terminal\").property(id,\"TERM-56\").property(\"name\",\"TERM-56\").property(\"coord_x\",20).property(\"coord_y\",13).as(\"TERM-56\").\n",
    "addV(\"Terminal\").property(id,\"TERM-57\").property(\"name\",\"TERM-57\").property(\"coord_x\",44).property(\"coord_y\",60).as(\"TERM-57\").\n",
    "addV(\"Terminal\").property(id,\"TERM-58\").property(\"name\",\"TERM-58\").property(\"coord_x\",5).property(\"coord_y\",14).as(\"TERM-58\").\n",
    "addV(\"Terminal\").property(id,\"TERM-59\").property(\"name\",\"TERM-59\").property(\"coord_x\",38).property(\"coord_y\",34).as(\"TERM-59\").\n",
    "addV(\"Terminal\").property(id,\"TERM-60\").property(\"name\",\"TERM-60\").property(\"coord_x\",5).property(\"coord_y\",72).as(\"TERM-60\").\n",
    "addV(\"Terminal\").property(id,\"TERM-61\").property(\"name\",\"TERM-61\").property(\"coord_x\",83).property(\"coord_y\",76).as(\"TERM-61\").\n",
    "addV(\"Terminal\").property(id,\"TERM-62\").property(\"name\",\"TERM-62\").property(\"coord_x\",19).property(\"coord_y\",77).as(\"TERM-62\").\n",
    "addV(\"Terminal\").property(id,\"TERM-63\").property(\"name\",\"TERM-63\").property(\"coord_x\",97).property(\"coord_y\",85).as(\"TERM-63\").\n",
    "addV(\"Terminal\").property(id,\"TERM-64\").property(\"name\",\"TERM-64\").property(\"coord_x\",22).property(\"coord_y\",43).as(\"TERM-64\").\n",
    "addV(\"Terminal\").property(id,\"TERM-65\").property(\"name\",\"TERM-65\").property(\"coord_x\",34).property(\"coord_y\",30).as(\"TERM-65\").\n",
    "addV(\"Terminal\").property(id,\"TERM-66\").property(\"name\",\"TERM-66\").property(\"coord_x\",74).property(\"coord_y\",20).as(\"TERM-66\").\n",
    "addV(\"Terminal\").property(id,\"TERM-67\").property(\"name\",\"TERM-67\").property(\"coord_x\",22).property(\"coord_y\",68).as(\"TERM-67\").\n",
    "addV(\"Terminal\").property(id,\"TERM-68\").property(\"name\",\"TERM-68\").property(\"coord_x\",97).property(\"coord_y\",16).as(\"TERM-68\").\n",
    "addV(\"Terminal\").property(id,\"TERM-69\").property(\"name\",\"TERM-69\").property(\"coord_x\",17).property(\"coord_y\",4).as(\"TERM-69\").\n",
    "addV(\"Terminal\").property(id,\"TERM-70\").property(\"name\",\"TERM-70\").property(\"coord_x\",33).property(\"coord_y\",61).as(\"TERM-70\").\n",
    "addV(\"Terminal\").property(id,\"TERM-71\").property(\"name\",\"TERM-71\").property(\"coord_x\",3).property(\"coord_y\",62).as(\"TERM-71\").\n",
    "addV(\"Terminal\").property(id,\"TERM-72\").property(\"name\",\"TERM-72\").property(\"coord_x\",92).property(\"coord_y\",18).as(\"TERM-72\").\n",
    "addV(\"Terminal\").property(id,\"TERM-73\").property(\"name\",\"TERM-73\").property(\"coord_x\",58).property(\"coord_y\",74).as(\"TERM-73\").\n",
    "addV(\"Terminal\").property(id,\"TERM-74\").property(\"name\",\"TERM-74\").property(\"coord_x\",99).property(\"coord_y\",97).as(\"TERM-74\").\n",
    "addV(\"Terminal\").property(id,\"TERM-75\").property(\"name\",\"TERM-75\").property(\"coord_x\",64).property(\"coord_y\",98).as(\"TERM-75\").\n",
    "addV(\"Terminal\").property(id,\"TERM-76\").property(\"name\",\"TERM-76\").property(\"coord_x\",3).property(\"coord_y\",81).as(\"TERM-76\").\n",
    "addV(\"Terminal\").property(id,\"TERM-77\").property(\"name\",\"TERM-77\").property(\"coord_x\",70).property(\"coord_y\",39).as(\"TERM-77\").\n",
    "addV(\"Terminal\").property(id,\"TERM-78\").property(\"name\",\"TERM-78\").property(\"coord_x\",11).property(\"coord_y\",83).as(\"TERM-78\").\n",
    "addV(\"Terminal\").property(id,\"TERM-79\").property(\"name\",\"TERM-79\").property(\"coord_x\",65).property(\"coord_y\",62).as(\"TERM-79\").\n",
    "addV(\"Terminal\").property(id,\"TERM-80\").property(\"name\",\"TERM-80\").property(\"coord_x\",60).property(\"coord_y\",33).as(\"TERM-80\")"
   ]
  },
  {
   "cell_type": "code",
   "execution_count": 13,
   "id": "27813bab-7e8c-402c-aff7-bf6356ba2aa8",
   "metadata": {
    "tags": []
   },
   "outputs": [
    {
     "data": {
      "application/vnd.jupyter.widget-view+json": {
       "model_id": "0d8dc60e91244f7e871c2317172654de",
       "version_major": 2,
       "version_minor": 0
      },
      "text/plain": [
       "Tab(children=(Output(layout=Layout(max_height='600px', max_width='940px', overflow='scroll')), Output(layout=L…"
      ]
     },
     "metadata": {},
     "output_type": "display_data"
    }
   ],
   "source": [
    "%%gremlin\n",
    "\n",
    "g.addV(\"Terminal\").property(id,\"TERM-81\").property(\"name\",\"TERM-81\").property(\"coord_x\",81).property(\"coord_y\",21).as(\"TERM-81\").\n",
    "addV(\"Terminal\").property(id,\"TERM-82\").property(\"name\",\"TERM-82\").property(\"coord_x\",47).property(\"coord_y\",75).as(\"TERM-82\").\n",
    "addV(\"Terminal\").property(id,\"TERM-83\").property(\"name\",\"TERM-83\").property(\"coord_x\",84).property(\"coord_y\",91).as(\"TERM-83\").\n",
    "addV(\"Terminal\").property(id,\"TERM-84\").property(\"name\",\"TERM-84\").property(\"coord_x\",42).property(\"coord_y\",44).as(\"TERM-84\").\n",
    "addV(\"Terminal\").property(id,\"TERM-85\").property(\"name\",\"TERM-85\").property(\"coord_x\",37).property(\"coord_y\",31).as(\"TERM-85\").\n",
    "addV(\"Terminal\").property(id,\"TERM-86\").property(\"name\",\"TERM-86\").property(\"coord_x\",25).property(\"coord_y\",73).as(\"TERM-86\").\n",
    "addV(\"Terminal\").property(id,\"TERM-87\").property(\"name\",\"TERM-87\").property(\"coord_x\",67).property(\"coord_y\",40).as(\"TERM-87\").\n",
    "addV(\"Terminal\").property(id,\"TERM-88\").property(\"name\",\"TERM-88\").property(\"coord_x\",18).property(\"coord_y\",16).as(\"TERM-88\").\n",
    "addV(\"Terminal\").property(id,\"TERM-89\").property(\"name\",\"TERM-89\").property(\"coord_x\",38).property(\"coord_y\",21).as(\"TERM-89\").\n",
    "addV(\"Terminal\").property(id,\"TERM-90\").property(\"name\",\"TERM-90\").property(\"coord_x\",97).property(\"coord_y\",77).as(\"TERM-90\").\n",
    "addV(\"Terminal\").property(id,\"TERM-91\").property(\"name\",\"TERM-91\").property(\"coord_x\",46).property(\"coord_y\",33).as(\"TERM-91\").\n",
    "addV(\"Terminal\").property(id,\"TERM-92\").property(\"name\",\"TERM-92\").property(\"coord_x\",69).property(\"coord_y\",36).as(\"TERM-92\").\n",
    "addV(\"Terminal\").property(id,\"TERM-93\").property(\"name\",\"TERM-93\").property(\"coord_x\",100).property(\"coord_y\",71).as(\"TERM-93\").\n",
    "addV(\"Terminal\").property(id,\"TERM-94\").property(\"name\",\"TERM-94\").property(\"coord_x\",8).property(\"coord_y\",99).as(\"TERM-94\").\n",
    "addV(\"Terminal\").property(id,\"TERM-95\").property(\"name\",\"TERM-95\").property(\"coord_x\",87).property(\"coord_y\",62).as(\"TERM-95\").\n",
    "addV(\"Terminal\").property(id,\"TERM-96\").property(\"name\",\"TERM-96\").property(\"coord_x\",28).property(\"coord_y\",86).as(\"TERM-96\").\n",
    "addV(\"Terminal\").property(id,\"TERM-97\").property(\"name\",\"TERM-97\").property(\"coord_x\",8).property(\"coord_y\",85).as(\"TERM-97\").\n",
    "addV(\"Terminal\").property(id,\"TERM-98\").property(\"name\",\"TERM-98\").property(\"coord_x\",33).property(\"coord_y\",59).as(\"TERM-98\").\n",
    "addV(\"Terminal\").property(id,\"TERM-99\").property(\"name\",\"TERM-99\").property(\"coord_x\",97).property(\"coord_y\",54).as(\"TERM-99\").\n",
    "addV(\"Terminal\").property(id,\"TERM-100\").property(\"name\",\"TERM-100\").property(\"coord_x\",147).property(\"coord_y\",148).as(\"TERM-100\").\n",
    "addV(\"Terminal\").property(id,\"TERM-101\").property(\"name\",\"TERM-101\").property(\"coord_x\",153).property(\"coord_y\",102).as(\"TERM-101\").\n",
    "addV(\"Terminal\").property(id,\"TERM-102\").property(\"name\",\"TERM-102\").property(\"coord_x\",196).property(\"coord_y\",180).as(\"TERM-102\").\n",
    "addV(\"Terminal\").property(id,\"TERM-103\").property(\"name\",\"TERM-103\").property(\"coord_x\",134).property(\"coord_y\",135).as(\"TERM-103\").\n",
    "addV(\"Terminal\").property(id,\"TERM-104\").property(\"name\",\"TERM-104\").property(\"coord_x\",152).property(\"coord_y\",184).as(\"TERM-104\").\n",
    "addV(\"Terminal\").property(id,\"TERM-105\").property(\"name\",\"TERM-105\").property(\"coord_x\",124).property(\"coord_y\",178).as(\"TERM-105\").\n",
    "addV(\"Terminal\").property(id,\"TERM-106\").property(\"name\",\"TERM-106\").property(\"coord_x\",151).property(\"coord_y\",196).as(\"TERM-106\").\n",
    "addV(\"Terminal\").property(id,\"TERM-107\").property(\"name\",\"TERM-107\").property(\"coord_x\",128).property(\"coord_y\",109).as(\"TERM-107\").\n",
    "addV(\"Terminal\").property(id,\"TERM-108\").property(\"name\",\"TERM-108\").property(\"coord_x\",132).property(\"coord_y\",175).as(\"TERM-108\").\n",
    "addV(\"Terminal\").property(id,\"TERM-109\").property(\"name\",\"TERM-109\").property(\"coord_x\",199).property(\"coord_y\",128).as(\"TERM-109\").\n",
    "addV(\"Terminal\").property(id,\"TERM-110\").property(\"name\",\"TERM-110\").property(\"coord_x\",100).property(\"coord_y\",197).as(\"TERM-110\").\n",
    "addV(\"Terminal\").property(id,\"TERM-111\").property(\"name\",\"TERM-111\").property(\"coord_x\",184).property(\"coord_y\",115).as(\"TERM-111\").\n",
    "addV(\"Terminal\").property(id,\"TERM-112\").property(\"name\",\"TERM-112\").property(\"coord_x\",151).property(\"coord_y\",199).as(\"TERM-112\").\n",
    "addV(\"Terminal\").property(id,\"TERM-113\").property(\"name\",\"TERM-113\").property(\"coord_x\",129).property(\"coord_y\",146).as(\"TERM-113\").\n",
    "addV(\"Terminal\").property(id,\"TERM-114\").property(\"name\",\"TERM-114\").property(\"coord_x\",157).property(\"coord_y\",122).as(\"TERM-114\").\n",
    "addV(\"Terminal\").property(id,\"TERM-115\").property(\"name\",\"TERM-115\").property(\"coord_x\",174).property(\"coord_y\",178).as(\"TERM-115\").\n",
    "addV(\"Terminal\").property(id,\"TERM-116\").property(\"name\",\"TERM-116\").property(\"coord_x\",149).property(\"coord_y\",156).as(\"TERM-116\").\n",
    "addV(\"Terminal\").property(id,\"TERM-117\").property(\"name\",\"TERM-117\").property(\"coord_x\",106).property(\"coord_y\",106).as(\"TERM-117\").\n",
    "addV(\"Terminal\").property(id,\"TERM-118\").property(\"name\",\"TERM-118\").property(\"coord_x\",103).property(\"coord_y\",157).as(\"TERM-118\").\n",
    "addV(\"Terminal\").property(id,\"TERM-119\").property(\"name\",\"TERM-119\").property(\"coord_x\",164).property(\"coord_y\",181).as(\"TERM-119\").\n",
    "addV(\"Terminal\").property(id,\"TERM-120\").property(\"name\",\"TERM-120\").property(\"coord_x\",133).property(\"coord_y\",127).as(\"TERM-120\").\n",
    "addV(\"Terminal\").property(id,\"TERM-121\").property(\"name\",\"TERM-121\").property(\"coord_x\",175).property(\"coord_y\",176).as(\"TERM-121\").\n",
    "addV(\"Terminal\").property(id,\"TERM-122\").property(\"name\",\"TERM-122\").property(\"coord_x\",101).property(\"coord_y\",197).as(\"TERM-122\").\n",
    "addV(\"Terminal\").property(id,\"TERM-123\").property(\"name\",\"TERM-123\").property(\"coord_x\",139).property(\"coord_y\",144).as(\"TERM-123\").\n",
    "addV(\"Terminal\").property(id,\"TERM-124\").property(\"name\",\"TERM-124\").property(\"coord_x\",103).property(\"coord_y\",104).as(\"TERM-124\").\n",
    "addV(\"Terminal\").property(id,\"TERM-125\").property(\"name\",\"TERM-125\").property(\"coord_x\",119).property(\"coord_y\",164).as(\"TERM-125\").\n",
    "addV(\"Terminal\").property(id,\"TERM-126\").property(\"name\",\"TERM-126\").property(\"coord_x\",113).property(\"coord_y\",195).as(\"TERM-126\").\n",
    "addV(\"Terminal\").property(id,\"TERM-127\").property(\"name\",\"TERM-127\").property(\"coord_x\",113).property(\"coord_y\",188).as(\"TERM-127\").\n",
    "addV(\"Terminal\").property(id,\"TERM-128\").property(\"name\",\"TERM-128\").property(\"coord_x\",169).property(\"coord_y\",176).as(\"TERM-128\").\n",
    "addV(\"Terminal\").property(id,\"TERM-129\").property(\"name\",\"TERM-129\").property(\"coord_x\",184).property(\"coord_y\",138).as(\"TERM-129\").\n",
    "addV(\"Terminal\").property(id,\"TERM-130\").property(\"name\",\"TERM-130\").property(\"coord_x\",125).property(\"coord_y\",144).as(\"TERM-130\").\n",
    "addV(\"Terminal\").property(id,\"TERM-131\").property(\"name\",\"TERM-131\").property(\"coord_x\",161).property(\"coord_y\",164).as(\"TERM-131\").\n",
    "addV(\"Terminal\").property(id,\"TERM-132\").property(\"name\",\"TERM-132\").property(\"coord_x\",124).property(\"coord_y\",162).as(\"TERM-132\").\n",
    "addV(\"Terminal\").property(id,\"TERM-133\").property(\"name\",\"TERM-133\").property(\"coord_x\",137).property(\"coord_y\",117).as(\"TERM-133\").\n",
    "addV(\"Terminal\").property(id,\"TERM-134\").property(\"name\",\"TERM-134\").property(\"coord_x\",112).property(\"coord_y\",101).as(\"TERM-134\").\n",
    "addV(\"Terminal\").property(id,\"TERM-135\").property(\"name\",\"TERM-135\").property(\"coord_x\",156).property(\"coord_y\",174).as(\"TERM-135\").\n",
    "addV(\"Terminal\").property(id,\"TERM-136\").property(\"name\",\"TERM-136\").property(\"coord_x\",191).property(\"coord_y\",173).as(\"TERM-136\").\n",
    "addV(\"Terminal\").property(id,\"TERM-137\").property(\"name\",\"TERM-137\").property(\"coord_x\",134).property(\"coord_y\",116).as(\"TERM-137\").\n",
    "addV(\"Terminal\").property(id,\"TERM-138\").property(\"name\",\"TERM-138\").property(\"coord_x\",148).property(\"coord_y\",152).as(\"TERM-138\").\n",
    "addV(\"Terminal\").property(id,\"TERM-139\").property(\"name\",\"TERM-139\").property(\"coord_x\",132).property(\"coord_y\",118).as(\"TERM-139\").\n",
    "addV(\"Terminal\").property(id,\"TERM-140\").property(\"name\",\"TERM-140\").property(\"coord_x\",144).property(\"coord_y\",110).as(\"TERM-140\").\n",
    "addV(\"Terminal\").property(id,\"TERM-141\").property(\"name\",\"TERM-141\").property(\"coord_x\",113).property(\"coord_y\",125).as(\"TERM-141\").\n",
    "addV(\"Terminal\").property(id,\"TERM-142\").property(\"name\",\"TERM-142\").property(\"coord_x\",117).property(\"coord_y\",137).as(\"TERM-142\").\n",
    "addV(\"Terminal\").property(id,\"TERM-143\").property(\"name\",\"TERM-143\").property(\"coord_x\",173).property(\"coord_y\",103).as(\"TERM-143\").\n",
    "addV(\"Terminal\").property(id,\"TERM-144\").property(\"name\",\"TERM-144\").property(\"coord_x\",117).property(\"coord_y\",100).as(\"TERM-144\").\n",
    "addV(\"Terminal\").property(id,\"TERM-145\").property(\"name\",\"TERM-145\").property(\"coord_x\",186).property(\"coord_y\",108).as(\"TERM-145\").\n",
    "addV(\"Terminal\").property(id,\"TERM-146\").property(\"name\",\"TERM-146\").property(\"coord_x\",111).property(\"coord_y\",159).as(\"TERM-146\").\n",
    "addV(\"Terminal\").property(id,\"TERM-147\").property(\"name\",\"TERM-147\").property(\"coord_x\",120).property(\"coord_y\",182).as(\"TERM-147\").\n",
    "addV(\"Terminal\").property(id,\"TERM-148\").property(\"name\",\"TERM-148\").property(\"coord_x\",121).property(\"coord_y\",179).as(\"TERM-148\").\n",
    "addV(\"Terminal\").property(id,\"TERM-149\").property(\"name\",\"TERM-149\").property(\"coord_x\",197).property(\"coord_y\",178).as(\"TERM-149\").\n",
    "addV(\"Terminal\").property(id,\"TERM-150\").property(\"name\",\"TERM-150\").property(\"coord_x\",120).property(\"coord_y\",142).as(\"TERM-150\").\n",
    "addV(\"Terminal\").property(id,\"TERM-151\").property(\"name\",\"TERM-151\").property(\"coord_x\",104).property(\"coord_y\",166).as(\"TERM-151\").\n",
    "addV(\"Terminal\").property(id,\"TERM-152\").property(\"name\",\"TERM-152\").property(\"coord_x\",135).property(\"coord_y\",193).as(\"TERM-152\").\n",
    "addV(\"Terminal\").property(id,\"TERM-153\").property(\"name\",\"TERM-153\").property(\"coord_x\",173).property(\"coord_y\",196).as(\"TERM-153\").\n",
    "addV(\"Terminal\").property(id,\"TERM-154\").property(\"name\",\"TERM-154\").property(\"coord_x\",198).property(\"coord_y\",188).as(\"TERM-154\").\n",
    "addV(\"Terminal\").property(id,\"TERM-155\").property(\"name\",\"TERM-155\").property(\"coord_x\",160).property(\"coord_y\",159).as(\"TERM-155\").\n",
    "addV(\"Terminal\").property(id,\"TERM-156\").property(\"name\",\"TERM-156\").property(\"coord_x\",102).property(\"coord_y\",156).as(\"TERM-156\").\n",
    "addV(\"Terminal\").property(id,\"TERM-157\").property(\"name\",\"TERM-157\").property(\"coord_x\",156).property(\"coord_y\",141).as(\"TERM-157\").\n",
    "addV(\"Terminal\").property(id,\"TERM-158\").property(\"name\",\"TERM-158\").property(\"coord_x\",181).property(\"coord_y\",188).as(\"TERM-158\").\n",
    "addV(\"Terminal\").property(id,\"TERM-159\").property(\"name\",\"TERM-159\").property(\"coord_x\",135).property(\"coord_y\",122).as(\"TERM-159\").\n",
    "addV(\"Terminal\").property(id,\"TERM-160\").property(\"name\",\"TERM-160\").property(\"coord_x\",172).property(\"coord_y\",131).as(\"TERM-160\")"
   ]
  },
  {
   "cell_type": "code",
   "execution_count": 14,
   "id": "b3390e1d-fcb8-4221-83c3-3958e9365db7",
   "metadata": {
    "tags": []
   },
   "outputs": [
    {
     "data": {
      "application/vnd.jupyter.widget-view+json": {
       "model_id": "0a0b8a4495054af293c6fa9f1324ba14",
       "version_major": 2,
       "version_minor": 0
      },
      "text/plain": [
       "Tab(children=(Output(layout=Layout(max_height='600px', max_width='940px', overflow='scroll')), Output(layout=L…"
      ]
     },
     "metadata": {},
     "output_type": "display_data"
    }
   ],
   "source": [
    "%%gremlin\n",
    "\n",
    "g.addV(\"Terminal\").property(id,\"TERM-161\").property(\"name\",\"TERM-161\").property(\"coord_x\",121).property(\"coord_y\",116).as(\"TERM-161\").\n",
    "addV(\"Terminal\").property(id,\"TERM-162\").property(\"name\",\"TERM-162\").property(\"coord_x\",196).property(\"coord_y\",190).as(\"TERM-162\").\n",
    "addV(\"Terminal\").property(id,\"TERM-163\").property(\"name\",\"TERM-163\").property(\"coord_x\",185).property(\"coord_y\",190).as(\"TERM-163\").\n",
    "addV(\"Terminal\").property(id,\"TERM-164\").property(\"name\",\"TERM-164\").property(\"coord_x\",197).property(\"coord_y\",104).as(\"TERM-164\").\n",
    "addV(\"Terminal\").property(id,\"TERM-165\").property(\"name\",\"TERM-165\").property(\"coord_x\",131).property(\"coord_y\",166).as(\"TERM-165\").\n",
    "addV(\"Terminal\").property(id,\"TERM-166\").property(\"name\",\"TERM-166\").property(\"coord_x\",199).property(\"coord_y\",149).as(\"TERM-166\").\n",
    "addV(\"Terminal\").property(id,\"TERM-167\").property(\"name\",\"TERM-167\").property(\"coord_x\",167).property(\"coord_y\",157).as(\"TERM-167\").\n",
    "addV(\"Terminal\").property(id,\"TERM-168\").property(\"name\",\"TERM-168\").property(\"coord_x\",184).property(\"coord_y\",116).as(\"TERM-168\").\n",
    "addV(\"Terminal\").property(id,\"TERM-169\").property(\"name\",\"TERM-169\").property(\"coord_x\",109).property(\"coord_y\",171).as(\"TERM-169\").\n",
    "addV(\"Terminal\").property(id,\"TERM-170\").property(\"name\",\"TERM-170\").property(\"coord_x\",192).property(\"coord_y\",176).as(\"TERM-170\").\n",
    "addV(\"Terminal\").property(id,\"TERM-171\").property(\"name\",\"TERM-171\").property(\"coord_x\",122).property(\"coord_y\",115).as(\"TERM-171\").\n",
    "addV(\"Terminal\").property(id,\"TERM-172\").property(\"name\",\"TERM-172\").property(\"coord_x\",145).property(\"coord_y\",194).as(\"TERM-172\").\n",
    "addV(\"Terminal\").property(id,\"TERM-173\").property(\"name\",\"TERM-173\").property(\"coord_x\",176).property(\"coord_y\",115).as(\"TERM-173\").\n",
    "addV(\"Terminal\").property(id,\"TERM-174\").property(\"name\",\"TERM-174\").property(\"coord_x\",106).property(\"coord_y\",156).as(\"TERM-174\").\n",
    "addV(\"Terminal\").property(id,\"TERM-175\").property(\"name\",\"TERM-175\").property(\"coord_x\",129).property(\"coord_y\",115).as(\"TERM-175\").\n",
    "addV(\"Terminal\").property(id,\"TERM-176\").property(\"name\",\"TERM-176\").property(\"coord_x\",198).property(\"coord_y\",179).as(\"TERM-176\").\n",
    "addV(\"Terminal\").property(id,\"TERM-177\").property(\"name\",\"TERM-177\").property(\"coord_x\",158).property(\"coord_y\",173).as(\"TERM-177\").\n",
    "addV(\"Terminal\").property(id,\"TERM-178\").property(\"name\",\"TERM-178\").property(\"coord_x\",192).property(\"coord_y\",161).as(\"TERM-178\").\n",
    "addV(\"Terminal\").property(id,\"TERM-179\").property(\"name\",\"TERM-179\").property(\"coord_x\",193).property(\"coord_y\",134).as(\"TERM-179\").\n",
    "addV(\"Terminal\").property(id,\"TERM-180\").property(\"name\",\"TERM-180\").property(\"coord_x\",126).property(\"coord_y\",135).as(\"TERM-180\").\n",
    "addV(\"Terminal\").property(id,\"TERM-181\").property(\"name\",\"TERM-181\").property(\"coord_x\",192).property(\"coord_y\",195).as(\"TERM-181\").\n",
    "addV(\"Terminal\").property(id,\"TERM-182\").property(\"name\",\"TERM-182\").property(\"coord_x\",104).property(\"coord_y\",129).as(\"TERM-182\").\n",
    "addV(\"Terminal\").property(id,\"TERM-183\").property(\"name\",\"TERM-183\").property(\"coord_x\",166).property(\"coord_y\",143).as(\"TERM-183\").\n",
    "addV(\"Terminal\").property(id,\"TERM-184\").property(\"name\",\"TERM-184\").property(\"coord_x\",157).property(\"coord_y\",197).as(\"TERM-184\").\n",
    "addV(\"Terminal\").property(id,\"TERM-185\").property(\"name\",\"TERM-185\").property(\"coord_x\",103).property(\"coord_y\",151).as(\"TERM-185\").\n",
    "addV(\"Terminal\").property(id,\"TERM-186\").property(\"name\",\"TERM-186\").property(\"coord_x\",151).property(\"coord_y\",115).as(\"TERM-186\").\n",
    "addV(\"Terminal\").property(id,\"TERM-187\").property(\"name\",\"TERM-187\").property(\"coord_x\",195).property(\"coord_y\",142).as(\"TERM-187\").\n",
    "addV(\"Terminal\").property(id,\"TERM-188\").property(\"name\",\"TERM-188\").property(\"coord_x\",116).property(\"coord_y\",177).as(\"TERM-188\").\n",
    "addV(\"Terminal\").property(id,\"TERM-189\").property(\"name\",\"TERM-189\").property(\"coord_x\",168).property(\"coord_y\",103).as(\"TERM-189\").\n",
    "addV(\"Terminal\").property(id,\"TERM-190\").property(\"name\",\"TERM-190\").property(\"coord_x\",152).property(\"coord_y\",164).as(\"TERM-190\").\n",
    "addV(\"Terminal\").property(id,\"TERM-191\").property(\"name\",\"TERM-191\").property(\"coord_x\",176).property(\"coord_y\",103).as(\"TERM-191\").\n",
    "addV(\"Terminal\").property(id,\"TERM-192\").property(\"name\",\"TERM-192\").property(\"coord_x\",104).property(\"coord_y\",142).as(\"TERM-192\").\n",
    "addV(\"Terminal\").property(id,\"TERM-193\").property(\"name\",\"TERM-193\").property(\"coord_x\",106).property(\"coord_y\",116).as(\"TERM-193\").\n",
    "addV(\"Terminal\").property(id,\"TERM-194\").property(\"name\",\"TERM-194\").property(\"coord_x\",139).property(\"coord_y\",199).as(\"TERM-194\").\n",
    "addV(\"Terminal\").property(id,\"TERM-195\").property(\"name\",\"TERM-195\").property(\"coord_x\",128).property(\"coord_y\",164).as(\"TERM-195\").\n",
    "addV(\"Terminal\").property(id,\"TERM-196\").property(\"name\",\"TERM-196\").property(\"coord_x\",132).property(\"coord_y\",126).as(\"TERM-196\").\n",
    "addV(\"Terminal\").property(id,\"TERM-197\").property(\"name\",\"TERM-197\").property(\"coord_x\",169).property(\"coord_y\",138).as(\"TERM-197\").\n",
    "addV(\"Terminal\").property(id,\"TERM-198\").property(\"name\",\"TERM-198\").property(\"coord_x\",127).property(\"coord_y\",177).as(\"TERM-198\").\n",
    "addV(\"Terminal\").property(id,\"TERM-199\").property(\"name\",\"TERM-199\").property(\"coord_x\",116).property(\"coord_y\",139).as(\"TERM-199\").\n",
    "addV(\"Terminal\").property(id,\"TERM-200\").property(\"name\",\"TERM-200\").property(\"coord_x\",253).property(\"coord_y\",255).as(\"TERM-200\").\n",
    "addV(\"Terminal\").property(id,\"TERM-201\").property(\"name\",\"TERM-201\").property(\"coord_x\",201).property(\"coord_y\",300).as(\"TERM-201\").\n",
    "addV(\"Terminal\").property(id,\"TERM-202\").property(\"name\",\"TERM-202\").property(\"coord_x\",238).property(\"coord_y\",216).as(\"TERM-202\").\n",
    "addV(\"Terminal\").property(id,\"TERM-203\").property(\"name\",\"TERM-203\").property(\"coord_x\",223).property(\"coord_y\",271).as(\"TERM-203\").\n",
    "addV(\"Terminal\").property(id,\"TERM-204\").property(\"name\",\"TERM-204\").property(\"coord_x\",244).property(\"coord_y\",267).as(\"TERM-204\").\n",
    "addV(\"Terminal\").property(id,\"TERM-205\").property(\"name\",\"TERM-205\").property(\"coord_x\",290).property(\"coord_y\",247).as(\"TERM-205\").\n",
    "addV(\"Terminal\").property(id,\"TERM-206\").property(\"name\",\"TERM-206\").property(\"coord_x\",295).property(\"coord_y\",222).as(\"TERM-206\").\n",
    "addV(\"Terminal\").property(id,\"TERM-207\").property(\"name\",\"TERM-207\").property(\"coord_x\",264).property(\"coord_y\",284).as(\"TERM-207\").\n",
    "addV(\"Terminal\").property(id,\"TERM-208\").property(\"name\",\"TERM-208\").property(\"coord_x\",252).property(\"coord_y\",223).as(\"TERM-208\").\n",
    "addV(\"Terminal\").property(id,\"TERM-209\").property(\"name\",\"TERM-209\").property(\"coord_x\",253).property(\"coord_y\",219).as(\"TERM-209\").\n",
    "addV(\"Terminal\").property(id,\"TERM-210\").property(\"name\",\"TERM-210\").property(\"coord_x\",215).property(\"coord_y\",296).as(\"TERM-210\").\n",
    "addV(\"Terminal\").property(id,\"TERM-211\").property(\"name\",\"TERM-211\").property(\"coord_x\",220).property(\"coord_y\",228).as(\"TERM-211\").\n",
    "addV(\"Terminal\").property(id,\"TERM-212\").property(\"name\",\"TERM-212\").property(\"coord_x\",245).property(\"coord_y\",237).as(\"TERM-212\").\n",
    "addV(\"Terminal\").property(id,\"TERM-213\").property(\"name\",\"TERM-213\").property(\"coord_x\",237).property(\"coord_y\",223).as(\"TERM-213\").\n",
    "addV(\"Terminal\").property(id,\"TERM-214\").property(\"name\",\"TERM-214\").property(\"coord_x\",290).property(\"coord_y\",276).as(\"TERM-214\").\n",
    "addV(\"Terminal\").property(id,\"TERM-215\").property(\"name\",\"TERM-215\").property(\"coord_x\",232).property(\"coord_y\",299).as(\"TERM-215\").\n",
    "addV(\"Terminal\").property(id,\"TERM-216\").property(\"name\",\"TERM-216\").property(\"coord_x\",219).property(\"coord_y\",251).as(\"TERM-216\").\n",
    "addV(\"Terminal\").property(id,\"TERM-217\").property(\"name\",\"TERM-217\").property(\"coord_x\",268).property(\"coord_y\",277).as(\"TERM-217\").\n",
    "addV(\"Terminal\").property(id,\"TERM-218\").property(\"name\",\"TERM-218\").property(\"coord_x\",261).property(\"coord_y\",211).as(\"TERM-218\").\n",
    "addV(\"Terminal\").property(id,\"TERM-219\").property(\"name\",\"TERM-219\").property(\"coord_x\",287).property(\"coord_y\",296).as(\"TERM-219\").\n",
    "addV(\"Terminal\").property(id,\"TERM-220\").property(\"name\",\"TERM-220\").property(\"coord_x\",254).property(\"coord_y\",286).as(\"TERM-220\").\n",
    "addV(\"Terminal\").property(id,\"TERM-221\").property(\"name\",\"TERM-221\").property(\"coord_x\",222).property(\"coord_y\",261).as(\"TERM-221\").\n",
    "addV(\"Terminal\").property(id,\"TERM-222\").property(\"name\",\"TERM-222\").property(\"coord_x\",206).property(\"coord_y\",233).as(\"TERM-222\").\n",
    "addV(\"Terminal\").property(id,\"TERM-223\").property(\"name\",\"TERM-223\").property(\"coord_x\",235).property(\"coord_y\",236).as(\"TERM-223\").\n",
    "addV(\"Terminal\").property(id,\"TERM-224\").property(\"name\",\"TERM-224\").property(\"coord_x\",240).property(\"coord_y\",266).as(\"TERM-224\").\n",
    "addV(\"Terminal\").property(id,\"TERM-225\").property(\"name\",\"TERM-225\").property(\"coord_x\",219).property(\"coord_y\",213).as(\"TERM-225\").\n",
    "addV(\"Terminal\").property(id,\"TERM-226\").property(\"name\",\"TERM-226\").property(\"coord_x\",238).property(\"coord_y\",268).as(\"TERM-226\").\n",
    "addV(\"Terminal\").property(id,\"TERM-227\").property(\"name\",\"TERM-227\").property(\"coord_x\",292).property(\"coord_y\",200).as(\"TERM-227\").\n",
    "addV(\"Terminal\").property(id,\"TERM-228\").property(\"name\",\"TERM-228\").property(\"coord_x\",264).property(\"coord_y\",231).as(\"TERM-228\").\n",
    "addV(\"Terminal\").property(id,\"TERM-229\").property(\"name\",\"TERM-229\").property(\"coord_x\",292).property(\"coord_y\",230).as(\"TERM-229\").\n",
    "addV(\"Terminal\").property(id,\"TERM-230\").property(\"name\",\"TERM-230\").property(\"coord_x\",224).property(\"coord_y\",257).as(\"TERM-230\").\n",
    "addV(\"Terminal\").property(id,\"TERM-231\").property(\"name\",\"TERM-231\").property(\"coord_x\",236).property(\"coord_y\",206).as(\"TERM-231\").\n",
    "addV(\"Terminal\").property(id,\"TERM-232\").property(\"name\",\"TERM-232\").property(\"coord_x\",252).property(\"coord_y\",285).as(\"TERM-232\").\n",
    "addV(\"Terminal\").property(id,\"TERM-233\").property(\"name\",\"TERM-233\").property(\"coord_x\",273).property(\"coord_y\",211).as(\"TERM-233\").\n",
    "addV(\"Terminal\").property(id,\"TERM-234\").property(\"name\",\"TERM-234\").property(\"coord_x\",200).property(\"coord_y\",205).as(\"TERM-234\").\n",
    "addV(\"Terminal\").property(id,\"TERM-235\").property(\"name\",\"TERM-235\").property(\"coord_x\",293).property(\"coord_y\",238).as(\"TERM-235\").\n",
    "addV(\"Terminal\").property(id,\"TERM-236\").property(\"name\",\"TERM-236\").property(\"coord_x\",213).property(\"coord_y\",212).as(\"TERM-236\").\n",
    "addV(\"Terminal\").property(id,\"TERM-237\").property(\"name\",\"TERM-237\").property(\"coord_x\",226).property(\"coord_y\",298).as(\"TERM-237\").\n",
    "addV(\"Terminal\").property(id,\"TERM-238\").property(\"name\",\"TERM-238\").property(\"coord_x\",216).property(\"coord_y\",218).as(\"TERM-238\").\n",
    "addV(\"Terminal\").property(id,\"TERM-239\").property(\"name\",\"TERM-239\").property(\"coord_x\",282).property(\"coord_y\",264).as(\"TERM-239\").\n",
    "addV(\"Terminal\").property(id,\"TERM-240\").property(\"name\",\"TERM-240\").property(\"coord_x\",298).property(\"coord_y\",290).as(\"TERM-240\")"
   ]
  },
  {
   "cell_type": "code",
   "execution_count": 15,
   "id": "0a43275e-dadc-4f88-abbb-470e75c27ee0",
   "metadata": {
    "tags": []
   },
   "outputs": [
    {
     "data": {
      "application/vnd.jupyter.widget-view+json": {
       "model_id": "d3dd491a9e564b7193adaf8c53cfcfb5",
       "version_major": 2,
       "version_minor": 0
      },
      "text/plain": [
       "Tab(children=(Output(layout=Layout(max_height='600px', max_width='940px', overflow='scroll')), Output(layout=L…"
      ]
     },
     "metadata": {},
     "output_type": "display_data"
    }
   ],
   "source": [
    "%%gremlin\n",
    "\n",
    "g.addV(\"Terminal\").property(id,\"TERM-241\").property(\"name\",\"TERM-241\").property(\"coord_x\",241).property(\"coord_y\",225).as(\"TERM-241\").\n",
    "addV(\"Terminal\").property(id,\"TERM-242\").property(\"name\",\"TERM-242\").property(\"coord_x\",247).property(\"coord_y\",239).as(\"TERM-242\").\n",
    "addV(\"Terminal\").property(id,\"TERM-243\").property(\"name\",\"TERM-243\").property(\"coord_x\",227).property(\"coord_y\",274).as(\"TERM-243\").\n",
    "addV(\"Terminal\").property(id,\"TERM-244\").property(\"name\",\"TERM-244\").property(\"coord_x\",215).property(\"coord_y\",259).as(\"TERM-244\").\n",
    "addV(\"Terminal\").property(id,\"TERM-245\").property(\"name\",\"TERM-245\").property(\"coord_x\",225).property(\"coord_y\",227).as(\"TERM-245\").\n",
    "addV(\"Terminal\").property(id,\"TERM-246\").property(\"name\",\"TERM-246\").property(\"coord_x\",270).property(\"coord_y\",233).as(\"TERM-246\").\n",
    "addV(\"Terminal\").property(id,\"TERM-247\").property(\"name\",\"TERM-247\").property(\"coord_x\",263).property(\"coord_y\",263).as(\"TERM-247\").\n",
    "addV(\"Terminal\").property(id,\"TERM-248\").property(\"name\",\"TERM-248\").property(\"coord_x\",271).property(\"coord_y\",262).as(\"TERM-248\").\n",
    "addV(\"Terminal\").property(id,\"TERM-249\").property(\"name\",\"TERM-249\").property(\"coord_x\",232).property(\"coord_y\",220).as(\"TERM-249\").\n",
    "addV(\"Terminal\").property(id,\"TERM-250\").property(\"name\",\"TERM-250\").property(\"coord_x\",255).property(\"coord_y\",265).as(\"TERM-250\").\n",
    "addV(\"Terminal\").property(id,\"TERM-251\").property(\"name\",\"TERM-251\").property(\"coord_x\",300).property(\"coord_y\",261).as(\"TERM-251\").\n",
    "addV(\"Terminal\").property(id,\"TERM-252\").property(\"name\",\"TERM-252\").property(\"coord_x\",228).property(\"coord_y\",282).as(\"TERM-252\").\n",
    "addV(\"Terminal\").property(id,\"TERM-253\").property(\"name\",\"TERM-253\").property(\"coord_x\",256).property(\"coord_y\",232).as(\"TERM-253\").\n",
    "addV(\"Terminal\").property(id,\"TERM-254\").property(\"name\",\"TERM-254\").property(\"coord_x\",288).property(\"coord_y\",210).as(\"TERM-254\").\n",
    "addV(\"Terminal\").property(id,\"TERM-255\").property(\"name\",\"TERM-255\").property(\"coord_x\",216).property(\"coord_y\",223).as(\"TERM-255\").\n",
    "addV(\"Terminal\").property(id,\"TERM-256\").property(\"name\",\"TERM-256\").property(\"coord_x\",244).property(\"coord_y\",211).as(\"TERM-256\").\n",
    "addV(\"Terminal\").property(id,\"TERM-257\").property(\"name\",\"TERM-257\").property(\"coord_x\",209).property(\"coord_y\",248).as(\"TERM-257\").\n",
    "addV(\"Terminal\").property(id,\"TERM-258\").property(\"name\",\"TERM-258\").property(\"coord_x\",234).property(\"coord_y\",233).as(\"TERM-258\").\n",
    "addV(\"Terminal\").property(id,\"TERM-259\").property(\"name\",\"TERM-259\").property(\"coord_x\",299).property(\"coord_y\",235).as(\"TERM-259\").\n",
    "addV(\"Terminal\").property(id,\"TERM-260\").property(\"name\",\"TERM-260\").property(\"coord_x\",265).property(\"coord_y\",207).as(\"TERM-260\").\n",
    "addV(\"Terminal\").property(id,\"TERM-261\").property(\"name\",\"TERM-261\").property(\"coord_x\",300).property(\"coord_y\",298).as(\"TERM-261\").\n",
    "addV(\"Terminal\").property(id,\"TERM-262\").property(\"name\",\"TERM-262\").property(\"coord_x\",200).property(\"coord_y\",230).as(\"TERM-262\").\n",
    "addV(\"Terminal\").property(id,\"TERM-263\").property(\"name\",\"TERM-263\").property(\"coord_x\",256).property(\"coord_y\",200).as(\"TERM-263\").\n",
    "addV(\"Terminal\").property(id,\"TERM-264\").property(\"name\",\"TERM-264\").property(\"coord_x\",233).property(\"coord_y\",206).as(\"TERM-264\").\n",
    "addV(\"Terminal\").property(id,\"TERM-265\").property(\"name\",\"TERM-265\").property(\"coord_x\",233).property(\"coord_y\",277).as(\"TERM-265\").\n",
    "addV(\"Terminal\").property(id,\"TERM-266\").property(\"name\",\"TERM-266\").property(\"coord_x\",288).property(\"coord_y\",297).as(\"TERM-266\").\n",
    "addV(\"Terminal\").property(id,\"TERM-267\").property(\"name\",\"TERM-267\").property(\"coord_x\",208).property(\"coord_y\",261).as(\"TERM-267\").\n",
    "addV(\"Terminal\").property(id,\"TERM-268\").property(\"name\",\"TERM-268\").property(\"coord_x\",242).property(\"coord_y\",284).as(\"TERM-268\").\n",
    "addV(\"Terminal\").property(id,\"TERM-269\").property(\"name\",\"TERM-269\").property(\"coord_x\",219).property(\"coord_y\",299).as(\"TERM-269\").\n",
    "addV(\"Terminal\").property(id,\"TERM-270\").property(\"name\",\"TERM-270\").property(\"coord_x\",293).property(\"coord_y\",261).as(\"TERM-270\").\n",
    "addV(\"Terminal\").property(id,\"TERM-271\").property(\"name\",\"TERM-271\").property(\"coord_x\",281).property(\"coord_y\",211).as(\"TERM-271\").\n",
    "addV(\"Terminal\").property(id,\"TERM-272\").property(\"name\",\"TERM-272\").property(\"coord_x\",287).property(\"coord_y\",265).as(\"TERM-272\").\n",
    "addV(\"Terminal\").property(id,\"TERM-273\").property(\"name\",\"TERM-273\").property(\"coord_x\",245).property(\"coord_y\",255).as(\"TERM-273\").\n",
    "addV(\"Terminal\").property(id,\"TERM-274\").property(\"name\",\"TERM-274\").property(\"coord_x\",285).property(\"coord_y\",222).as(\"TERM-274\").\n",
    "addV(\"Terminal\").property(id,\"TERM-275\").property(\"name\",\"TERM-275\").property(\"coord_x\",242).property(\"coord_y\",285).as(\"TERM-275\").\n",
    "addV(\"Terminal\").property(id,\"TERM-276\").property(\"name\",\"TERM-276\").property(\"coord_x\",234).property(\"coord_y\",220).as(\"TERM-276\").\n",
    "addV(\"Terminal\").property(id,\"TERM-277\").property(\"name\",\"TERM-277\").property(\"coord_x\",228).property(\"coord_y\",207).as(\"TERM-277\").\n",
    "addV(\"Terminal\").property(id,\"TERM-278\").property(\"name\",\"TERM-278\").property(\"coord_x\",296).property(\"coord_y\",250).as(\"TERM-278\").\n",
    "addV(\"Terminal\").property(id,\"TERM-279\").property(\"name\",\"TERM-279\").property(\"coord_x\",216).property(\"coord_y\",236).as(\"TERM-279\").\n",
    "addV(\"Terminal\").property(id,\"TERM-280\").property(\"name\",\"TERM-280\").property(\"coord_x\",264).property(\"coord_y\",270).as(\"TERM-280\").\n",
    "addV(\"Terminal\").property(id,\"TERM-281\").property(\"name\",\"TERM-281\").property(\"coord_x\",285).property(\"coord_y\",261).as(\"TERM-281\").\n",
    "addV(\"Terminal\").property(id,\"TERM-282\").property(\"name\",\"TERM-282\").property(\"coord_x\",276).property(\"coord_y\",234).as(\"TERM-282\").\n",
    "addV(\"Terminal\").property(id,\"TERM-283\").property(\"name\",\"TERM-283\").property(\"coord_x\",271).property(\"coord_y\",223).as(\"TERM-283\").\n",
    "addV(\"Terminal\").property(id,\"TERM-284\").property(\"name\",\"TERM-284\").property(\"coord_x\",265).property(\"coord_y\",277).as(\"TERM-284\").\n",
    "addV(\"Terminal\").property(id,\"TERM-285\").property(\"name\",\"TERM-285\").property(\"coord_x\",271).property(\"coord_y\",237).as(\"TERM-285\").\n",
    "addV(\"Terminal\").property(id,\"TERM-286\").property(\"name\",\"TERM-286\").property(\"coord_x\",216).property(\"coord_y\",277).as(\"TERM-286\").\n",
    "addV(\"Terminal\").property(id,\"TERM-287\").property(\"name\",\"TERM-287\").property(\"coord_x\",249).property(\"coord_y\",244).as(\"TERM-287\").\n",
    "addV(\"Terminal\").property(id,\"TERM-288\").property(\"name\",\"TERM-288\").property(\"coord_x\",236).property(\"coord_y\",244).as(\"TERM-288\").\n",
    "addV(\"Terminal\").property(id,\"TERM-289\").property(\"name\",\"TERM-289\").property(\"coord_x\",250).property(\"coord_y\",273).as(\"TERM-289\").\n",
    "addV(\"Terminal\").property(id,\"TERM-290\").property(\"name\",\"TERM-290\").property(\"coord_x\",210).property(\"coord_y\",221).as(\"TERM-290\").\n",
    "addV(\"Terminal\").property(id,\"TERM-291\").property(\"name\",\"TERM-291\").property(\"coord_x\",263).property(\"coord_y\",294).as(\"TERM-291\").\n",
    "addV(\"Terminal\").property(id,\"TERM-292\").property(\"name\",\"TERM-292\").property(\"coord_x\",200).property(\"coord_y\",209).as(\"TERM-292\").\n",
    "addV(\"Terminal\").property(id,\"TERM-293\").property(\"name\",\"TERM-293\").property(\"coord_x\",227).property(\"coord_y\",264).as(\"TERM-293\").\n",
    "addV(\"Terminal\").property(id,\"TERM-294\").property(\"name\",\"TERM-294\").property(\"coord_x\",259).property(\"coord_y\",223).as(\"TERM-294\").\n",
    "addV(\"Terminal\").property(id,\"TERM-295\").property(\"name\",\"TERM-295\").property(\"coord_x\",236).property(\"coord_y\",267).as(\"TERM-295\").\n",
    "addV(\"Terminal\").property(id,\"TERM-296\").property(\"name\",\"TERM-296\").property(\"coord_x\",300).property(\"coord_y\",276).as(\"TERM-296\").\n",
    "addV(\"Terminal\").property(id,\"TERM-297\").property(\"name\",\"TERM-297\").property(\"coord_x\",238).property(\"coord_y\",260).as(\"TERM-297\").\n",
    "addV(\"Terminal\").property(id,\"TERM-298\").property(\"name\",\"TERM-298\").property(\"coord_x\",243).property(\"coord_y\",225).as(\"TERM-298\").\n",
    "addV(\"Terminal\").property(id,\"TERM-299\").property(\"name\",\"TERM-299\").property(\"coord_x\",218).property(\"coord_y\",261).as(\"TERM-299\").\n",
    "addV(\"Terminal\").property(id,\"TERM-300\").property(\"name\",\"TERM-300\").property(\"coord_x\",389).property(\"coord_y\",389).as(\"TERM-300\").\n",
    "addV(\"Terminal\").property(id,\"TERM-301\").property(\"name\",\"TERM-301\").property(\"coord_x\",344).property(\"coord_y\",333).as(\"TERM-301\").\n",
    "addV(\"Terminal\").property(id,\"TERM-302\").property(\"name\",\"TERM-302\").property(\"coord_x\",323).property(\"coord_y\",379).as(\"TERM-302\").\n",
    "addV(\"Terminal\").property(id,\"TERM-303\").property(\"name\",\"TERM-303\").property(\"coord_x\",319).property(\"coord_y\",384).as(\"TERM-303\").\n",
    "addV(\"Terminal\").property(id,\"TERM-304\").property(\"name\",\"TERM-304\").property(\"coord_x\",306).property(\"coord_y\",311).as(\"TERM-304\").\n",
    "addV(\"Terminal\").property(id,\"TERM-305\").property(\"name\",\"TERM-305\").property(\"coord_x\",300).property(\"coord_y\",362).as(\"TERM-305\").\n",
    "addV(\"Terminal\").property(id,\"TERM-306\").property(\"name\",\"TERM-306\").property(\"coord_x\",319).property(\"coord_y\",330).as(\"TERM-306\").\n",
    "addV(\"Terminal\").property(id,\"TERM-307\").property(\"name\",\"TERM-307\").property(\"coord_x\",300).property(\"coord_y\",314).as(\"TERM-307\").\n",
    "addV(\"Terminal\").property(id,\"TERM-308\").property(\"name\",\"TERM-308\").property(\"coord_x\",351).property(\"coord_y\",397).as(\"TERM-308\").\n",
    "addV(\"Terminal\").property(id,\"TERM-309\").property(\"name\",\"TERM-309\").property(\"coord_x\",378).property(\"coord_y\",392).as(\"TERM-309\").\n",
    "addV(\"Terminal\").property(id,\"TERM-310\").property(\"name\",\"TERM-310\").property(\"coord_x\",302).property(\"coord_y\",391).as(\"TERM-310\").\n",
    "addV(\"Terminal\").property(id,\"TERM-311\").property(\"name\",\"TERM-311\").property(\"coord_x\",370).property(\"coord_y\",396).as(\"TERM-311\").\n",
    "addV(\"Terminal\").property(id,\"TERM-312\").property(\"name\",\"TERM-312\").property(\"coord_x\",320).property(\"coord_y\",325).as(\"TERM-312\").\n",
    "addV(\"Terminal\").property(id,\"TERM-313\").property(\"name\",\"TERM-313\").property(\"coord_x\",362).property(\"coord_y\",323).as(\"TERM-313\").\n",
    "addV(\"Terminal\").property(id,\"TERM-314\").property(\"name\",\"TERM-314\").property(\"coord_x\",373).property(\"coord_y\",366).as(\"TERM-314\").\n",
    "addV(\"Terminal\").property(id,\"TERM-315\").property(\"name\",\"TERM-315\").property(\"coord_x\",376).property(\"coord_y\",355).as(\"TERM-315\").\n",
    "addV(\"Terminal\").property(id,\"TERM-316\").property(\"name\",\"TERM-316\").property(\"coord_x\",353).property(\"coord_y\",396).as(\"TERM-316\").\n",
    "addV(\"Terminal\").property(id,\"TERM-317\").property(\"name\",\"TERM-317\").property(\"coord_x\",349).property(\"coord_y\",388).as(\"TERM-317\").\n",
    "addV(\"Terminal\").property(id,\"TERM-318\").property(\"name\",\"TERM-318\").property(\"coord_x\",321).property(\"coord_y\",315).as(\"TERM-318\").\n",
    "addV(\"Terminal\").property(id,\"TERM-319\").property(\"name\",\"TERM-319\").property(\"coord_x\",321).property(\"coord_y\",317).as(\"TERM-319\").\n",
    "addV(\"Terminal\").property(id,\"TERM-320\").property(\"name\",\"TERM-320\").property(\"coord_x\",329).property(\"coord_y\",373).as(\"TERM-320\")"
   ]
  },
  {
   "cell_type": "markdown",
   "id": "90837794-0f2a-4c5d-b810-94322deef25c",
   "metadata": {
    "tags": []
   },
   "source": [
    "# Card"
   ]
  },
  {
   "cell_type": "code",
   "execution_count": 31,
   "id": "c3520b97-0d8b-40bd-8f1c-cc7d4762ccb6",
   "metadata": {
    "tags": []
   },
   "outputs": [
    {
     "data": {
      "application/vnd.jupyter.widget-view+json": {
       "model_id": "c50ddcb2fb1c425eb322a66734eb810b",
       "version_major": 2,
       "version_minor": 0
      },
      "text/plain": [
       "Tab(children=(Output(layout=Layout(max_height='600px', max_width='940px', overflow='scroll')), Output(layout=L…"
      ]
     },
     "metadata": {},
     "output_type": "display_data"
    }
   ],
   "source": [
    "%%gremlin\n",
    "\n",
    "g.V().hasLabel('Card').drop().iterate();"
   ]
  },
  {
   "cell_type": "code",
   "execution_count": 17,
   "id": "5047310d-c7a3-4f51-9a17-ea489243a19f",
   "metadata": {
    "tags": []
   },
   "outputs": [
    {
     "data": {
      "application/vnd.jupyter.widget-view+json": {
       "model_id": "ea4a340384d04b4baf9f6f658650395e",
       "version_major": 2,
       "version_minor": 0
      },
      "text/plain": [
       "Tab(children=(Output(layout=Layout(max_height='600px', max_width='940px', overflow='scroll')), Output(layout=L…"
      ]
     },
     "metadata": {},
     "output_type": "display_data"
    }
   ],
   "source": [
    "%%gremlin\n",
    "\n",
    "g.addV(\"Card\").property(id,\"111.000.000.009\").property(\"card_number\",\"111.000.000.009\").as(\"111.000.000.009\").\n",
    "addV(\"Card\").property(id,\"111.000.000.047\").property(\"card_number\",\"111.000.000.047\").as(\"111.000.000.047\").\n",
    "addV(\"Card\").property(id,\"111.000.000.051\").property(\"card_number\",\"111.000.000.051\").as(\"111.000.000.051\").\n",
    "addV(\"Card\").property(id,\"111.000.000.078\").property(\"card_number\",\"111.000.000.078\").as(\"111.000.000.078\").\n",
    "addV(\"Card\").property(id,\"111.000.000.093\").property(\"card_number\",\"111.000.000.093\").as(\"111.000.000.093\").\n",
    "addV(\"Card\").property(id,\"111.000.000.133\").property(\"card_number\",\"111.000.000.133\").as(\"111.000.000.133\").\n",
    "addV(\"Card\").property(id,\"111.000.000.150\").property(\"card_number\",\"111.000.000.150\").as(\"111.000.000.150\").\n",
    "addV(\"Card\").property(id,\"111.000.000.169\").property(\"card_number\",\"111.000.000.169\").as(\"111.000.000.169\").\n",
    "addV(\"Card\").property(id,\"111.000.000.181\").property(\"card_number\",\"111.000.000.181\").as(\"111.000.000.181\").\n",
    "addV(\"Card\").property(id,\"111.000.000.266\").property(\"card_number\",\"111.000.000.266\").as(\"111.000.000.266\").\n",
    "addV(\"Card\").property(id,\"111.000.000.326\").property(\"card_number\",\"111.000.000.326\").as(\"111.000.000.326\").\n",
    "addV(\"Card\").property(id,\"111.000.000.462\").property(\"card_number\",\"111.000.000.462\").as(\"111.000.000.462\").\n",
    "addV(\"Card\").property(id,\"111.000.000.464\").property(\"card_number\",\"111.000.000.464\").as(\"111.000.000.464\").\n",
    "addV(\"Card\").property(id,\"111.000.000.490\").property(\"card_number\",\"111.000.000.490\").as(\"111.000.000.490\").\n",
    "addV(\"Card\").property(id,\"111.000.000.515\").property(\"card_number\",\"111.000.000.515\").as(\"111.000.000.515\").\n",
    "addV(\"Card\").property(id,\"111.000.000.529\").property(\"card_number\",\"111.000.000.529\").as(\"111.000.000.529\").\n",
    "addV(\"Card\").property(id,\"111.000.000.554\").property(\"card_number\",\"111.000.000.554\").as(\"111.000.000.554\").\n",
    "addV(\"Card\").property(id,\"111.000.000.566\").property(\"card_number\",\"111.000.000.566\").as(\"111.000.000.566\").\n",
    "addV(\"Card\").property(id,\"111.000.000.677\").property(\"card_number\",\"111.000.000.677\").as(\"111.000.000.677\").\n",
    "addV(\"Card\").property(id,\"111.000.000.683\").property(\"card_number\",\"111.000.000.683\").as(\"111.000.000.683\").\n",
    "addV(\"Card\").property(id,\"111.000.000.718\").property(\"card_number\",\"111.000.000.718\").as(\"111.000.000.718\").\n",
    "addV(\"Card\").property(id,\"111.000.000.817\").property(\"card_number\",\"111.000.000.817\").as(\"111.000.000.817\").\n",
    "addV(\"Card\").property(id,\"111.000.000.829\").property(\"card_number\",\"111.000.000.829\").as(\"111.000.000.829\").\n",
    "addV(\"Card\").property(id,\"111.000.000.863\").property(\"card_number\",\"111.000.000.863\").as(\"111.000.000.863\").\n",
    "addV(\"Card\").property(id,\"111.000.000.877\").property(\"card_number\",\"111.000.000.877\").as(\"111.000.000.877\").\n",
    "addV(\"Card\").property(id,\"111.000.000.945\").property(\"card_number\",\"111.000.000.945\").as(\"111.000.000.945\").\n",
    "addV(\"Card\").property(id,\"111.000.001.005\").property(\"card_number\",\"111.000.001.005\").as(\"111.000.001.005\").\n",
    "addV(\"Card\").property(id,\"111.000.001.014\").property(\"card_number\",\"111.000.001.014\").as(\"111.000.001.014\").\n",
    "addV(\"Card\").property(id,\"111.000.001.060\").property(\"card_number\",\"111.000.001.060\").as(\"111.000.001.060\").\n",
    "addV(\"Card\").property(id,\"111.000.001.061\").property(\"card_number\",\"111.000.001.061\").as(\"111.000.001.061\").\n",
    "addV(\"Card\").property(id,\"111.000.001.078\").property(\"card_number\",\"111.000.001.078\").as(\"111.000.001.078\").\n",
    "addV(\"Card\").property(id,\"111.000.001.111\").property(\"card_number\",\"111.000.001.111\").as(\"111.000.001.111\").\n",
    "addV(\"Card\").property(id,\"111.000.001.219\").property(\"card_number\",\"111.000.001.219\").as(\"111.000.001.219\").\n",
    "addV(\"Card\").property(id,\"111.000.001.223\").property(\"card_number\",\"111.000.001.223\").as(\"111.000.001.223\").\n",
    "addV(\"Card\").property(id,\"111.000.001.272\").property(\"card_number\",\"111.000.001.272\").as(\"111.000.001.272\").\n",
    "addV(\"Card\").property(id,\"111.000.001.322\").property(\"card_number\",\"111.000.001.322\").as(\"111.000.001.322\").\n",
    "addV(\"Card\").property(id,\"111.000.001.339\").property(\"card_number\",\"111.000.001.339\").as(\"111.000.001.339\").\n",
    "addV(\"Card\").property(id,\"111.000.001.343\").property(\"card_number\",\"111.000.001.343\").as(\"111.000.001.343\").\n",
    "addV(\"Card\").property(id,\"111.000.001.418\").property(\"card_number\",\"111.000.001.418\").as(\"111.000.001.418\").\n",
    "addV(\"Card\").property(id,\"111.000.001.440\").property(\"card_number\",\"111.000.001.440\").as(\"111.000.001.440\").\n",
    "addV(\"Card\").property(id,\"111.000.001.467\").property(\"card_number\",\"111.000.001.467\").as(\"111.000.001.467\").\n",
    "addV(\"Card\").property(id,\"111.000.001.530\").property(\"card_number\",\"111.000.001.530\").as(\"111.000.001.530\").\n",
    "addV(\"Card\").property(id,\"111.000.001.531\").property(\"card_number\",\"111.000.001.531\").as(\"111.000.001.531\").\n",
    "addV(\"Card\").property(id,\"111.000.001.540\").property(\"card_number\",\"111.000.001.540\").as(\"111.000.001.540\").\n",
    "addV(\"Card\").property(id,\"111.000.001.550\").property(\"card_number\",\"111.000.001.550\").as(\"111.000.001.550\").\n",
    "addV(\"Card\").property(id,\"111.000.001.573\").property(\"card_number\",\"111.000.001.573\").as(\"111.000.001.573\").\n",
    "addV(\"Card\").property(id,\"111.000.001.603\").property(\"card_number\",\"111.000.001.603\").as(\"111.000.001.603\").\n",
    "addV(\"Card\").property(id,\"111.000.001.628\").property(\"card_number\",\"111.000.001.628\").as(\"111.000.001.628\").\n",
    "addV(\"Card\").property(id,\"111.000.001.641\").property(\"card_number\",\"111.000.001.641\").as(\"111.000.001.641\").\n",
    "addV(\"Card\").property(id,\"111.000.001.658\").property(\"card_number\",\"111.000.001.658\").as(\"111.000.001.658\").\n",
    "addV(\"Card\").property(id,\"111.000.001.667\").property(\"card_number\",\"111.000.001.667\").as(\"111.000.001.667\").\n",
    "addV(\"Card\").property(id,\"111.000.001.794\").property(\"card_number\",\"111.000.001.794\").as(\"111.000.001.794\").\n",
    "addV(\"Card\").property(id,\"111.000.001.817\").property(\"card_number\",\"111.000.001.817\").as(\"111.000.001.817\").\n",
    "addV(\"Card\").property(id,\"111.000.001.819\").property(\"card_number\",\"111.000.001.819\").as(\"111.000.001.819\").\n",
    "addV(\"Card\").property(id,\"111.000.001.878\").property(\"card_number\",\"111.000.001.878\").as(\"111.000.001.878\").\n",
    "addV(\"Card\").property(id,\"111.000.001.887\").property(\"card_number\",\"111.000.001.887\").as(\"111.000.001.887\").\n",
    "addV(\"Card\").property(id,\"111.000.001.943\").property(\"card_number\",\"111.000.001.943\").as(\"111.000.001.943\").\n",
    "addV(\"Card\").property(id,\"111.000.001.945\").property(\"card_number\",\"111.000.001.945\").as(\"111.000.001.945\").\n",
    "addV(\"Card\").property(id,\"111.000.002.057\").property(\"card_number\",\"111.000.002.057\").as(\"111.000.002.057\").\n",
    "addV(\"Card\").property(id,\"111.000.002.066\").property(\"card_number\",\"111.000.002.066\").as(\"111.000.002.066\").\n",
    "addV(\"Card\").property(id,\"111.000.002.132\").property(\"card_number\",\"111.000.002.132\").as(\"111.000.002.132\").\n",
    "addV(\"Card\").property(id,\"111.000.002.135\").property(\"card_number\",\"111.000.002.135\").as(\"111.000.002.135\").\n",
    "addV(\"Card\").property(id,\"111.000.002.155\").property(\"card_number\",\"111.000.002.155\").as(\"111.000.002.155\").\n",
    "addV(\"Card\").property(id,\"111.000.002.179\").property(\"card_number\",\"111.000.002.179\").as(\"111.000.002.179\").\n",
    "addV(\"Card\").property(id,\"111.000.002.191\").property(\"card_number\",\"111.000.002.191\").as(\"111.000.002.191\").\n",
    "addV(\"Card\").property(id,\"111.000.002.283\").property(\"card_number\",\"111.000.002.283\").as(\"111.000.002.283\").\n",
    "addV(\"Card\").property(id,\"111.000.002.286\").property(\"card_number\",\"111.000.002.286\").as(\"111.000.002.286\").\n",
    "addV(\"Card\").property(id,\"111.000.002.289\").property(\"card_number\",\"111.000.002.289\").as(\"111.000.002.289\").\n",
    "addV(\"Card\").property(id,\"111.000.002.305\").property(\"card_number\",\"111.000.002.305\").as(\"111.000.002.305\").\n",
    "addV(\"Card\").property(id,\"111.000.002.355\").property(\"card_number\",\"111.000.002.355\").as(\"111.000.002.355\").\n",
    "addV(\"Card\").property(id,\"111.000.002.377\").property(\"card_number\",\"111.000.002.377\").as(\"111.000.002.377\").\n",
    "addV(\"Card\").property(id,\"111.000.002.434\").property(\"card_number\",\"111.000.002.434\").as(\"111.000.002.434\").\n",
    "addV(\"Card\").property(id,\"111.000.002.459\").property(\"card_number\",\"111.000.002.459\").as(\"111.000.002.459\").\n",
    "addV(\"Card\").property(id,\"111.000.002.479\").property(\"card_number\",\"111.000.002.479\").as(\"111.000.002.479\")"
   ]
  },
  {
   "cell_type": "code",
   "execution_count": 18,
   "id": "3a2e82e8-7e2d-4552-b03a-954df69ce7ce",
   "metadata": {
    "tags": []
   },
   "outputs": [
    {
     "data": {
      "application/vnd.jupyter.widget-view+json": {
       "model_id": "0348234d7cb74b8ab7e7ae3cc6a4a7c0",
       "version_major": 2,
       "version_minor": 0
      },
      "text/plain": [
       "Tab(children=(Output(layout=Layout(max_height='600px', max_width='940px', overflow='scroll')), Output(layout=L…"
      ]
     },
     "metadata": {},
     "output_type": "display_data"
    }
   ],
   "source": [
    "%%gremlin\n",
    "\n",
    "g.V(\"ACC-1074\").addE(\"issue\").to(__.V(\"111.000.000.009\")).property(id,\"ACC-1074-111.000.000.009-ACC-CARD\").\n",
    "V(\"ACC-620\").addE(\"issue\").to(__.V(\"111.000.000.047\")).property(id,\"ACC-620-111.000.000.047-ACC-CARD\").\n",
    "V(\"ACC-1959\").addE(\"issue\").to(__.V(\"111.000.000.051\")).property(id,\"ACC-1959-111.000.000.051-ACC-CARD\").\n",
    "V(\"ACC-1252\").addE(\"issue\").to(__.V(\"111.000.000.078\")).property(id,\"ACC-1252-111.000.000.078-ACC-CARD\").\n",
    "V(\"ACC-1897\").addE(\"issue\").to(__.V(\"111.000.000.093\")).property(id,\"ACC-1897-111.000.000.093-ACC-CARD\").\n",
    "V(\"ACC-86\").addE(\"issue\").to(__.V(\"111.000.000.133\")).property(id,\"ACC-86-111.000.000.133-ACC-CARD\").\n",
    "V(\"ACC-1307\").addE(\"issue\").to(__.V(\"111.000.000.150\")).property(id,\"ACC-1307-111.000.000.150-ACC-CARD\").\n",
    "V(\"ACC-1307\").addE(\"issue\").to(__.V(\"111.000.000.169\")).property(id,\"ACC-1307-111.000.000.169-ACC-CARD\").\n",
    "V(\"ACC-1590\").addE(\"issue\").to(__.V(\"111.000.000.181\")).property(id,\"ACC-1590-111.000.000.181-ACC-CARD\").\n",
    "V(\"ACC-620\").addE(\"issue\").to(__.V(\"111.000.000.266\")).property(id,\"ACC-620-111.000.000.266-ACC-CARD\").\n",
    "V(\"ACC-1558\").addE(\"issue\").to(__.V(\"111.000.000.326\")).property(id,\"ACC-1558-111.000.000.326-ACC-CARD\").\n",
    "V(\"ACC-884\").addE(\"issue\").to(__.V(\"111.000.000.462\")).property(id,\"ACC-884-111.000.000.462-ACC-CARD\").\n",
    "V(\"ACC-1415\").addE(\"issue\").to(__.V(\"111.000.000.464\")).property(id,\"ACC-1415-111.000.000.464-ACC-CARD\").\n",
    "V(\"ACC-1365\").addE(\"issue\").to(__.V(\"111.000.000.490\")).property(id,\"ACC-1365-111.000.000.490-ACC-CARD\").\n",
    "V(\"ACC-1511\").addE(\"issue\").to(__.V(\"111.000.000.515\")).property(id,\"ACC-1511-111.000.000.515-ACC-CARD\").\n",
    "V(\"ACC-2333\").addE(\"issue\").to(__.V(\"111.000.000.529\")).property(id,\"ACC-2333-111.000.000.529-ACC-CARD\").\n",
    "V(\"ACC-661\").addE(\"issue\").to(__.V(\"111.000.000.554\")).property(id,\"ACC-661-111.000.000.554-ACC-CARD\").\n",
    "V(\"ACC-1676\").addE(\"issue\").to(__.V(\"111.000.000.566\")).property(id,\"ACC-1676-111.000.000.566-ACC-CARD\").\n",
    "V(\"ACC-1676\").addE(\"issue\").to(__.V(\"111.000.000.677\")).property(id,\"ACC-1676-111.000.000.677-ACC-CARD\").\n",
    "V(\"ACC-1549\").addE(\"issue\").to(__.V(\"111.000.000.683\")).property(id,\"ACC-1549-111.000.000.683-ACC-CARD\").\n",
    "V(\"ACC-620\").addE(\"issue\").to(__.V(\"111.000.000.718\")).property(id,\"ACC-620-111.000.000.718-ACC-CARD\").\n",
    "V(\"ACC-445\").addE(\"issue\").to(__.V(\"111.000.000.817\")).property(id,\"ACC-445-111.000.000.817-ACC-CARD\").\n",
    "V(\"ACC-1358\").addE(\"issue\").to(__.V(\"111.000.000.829\")).property(id,\"ACC-1358-111.000.000.829-ACC-CARD\").\n",
    "V(\"ACC-1083\").addE(\"issue\").to(__.V(\"111.000.000.863\")).property(id,\"ACC-1083-111.000.000.863-ACC-CARD\").\n",
    "V(\"ACC-399\").addE(\"issue\").to(__.V(\"111.000.000.877\")).property(id,\"ACC-399-111.000.000.877-ACC-CARD\").\n",
    "V(\"ACC-884\").addE(\"issue\").to(__.V(\"111.000.000.945\")).property(id,\"ACC-884-111.000.000.945-ACC-CARD\").\n",
    "V(\"ACC-17\").addE(\"issue\").to(__.V(\"111.000.001.005\")).property(id,\"ACC-17-111.000.001.005-ACC-CARD\").\n",
    "V(\"ACC-2333\").addE(\"issue\").to(__.V(\"111.000.001.014\")).property(id,\"ACC-2333-111.000.001.014-ACC-CARD\").\n",
    "V(\"ACC-1676\").addE(\"issue\").to(__.V(\"111.000.001.060\")).property(id,\"ACC-1676-111.000.001.060-ACC-CARD\").\n",
    "V(\"ACC-1100\").addE(\"issue\").to(__.V(\"111.000.001.061\")).property(id,\"ACC-1100-111.000.001.061-ACC-CARD\").\n",
    "V(\"ACC-2080\").addE(\"issue\").to(__.V(\"111.000.001.078\")).property(id,\"ACC-2080-111.000.001.078-ACC-CARD\").\n",
    "V(\"ACC-661\").addE(\"issue\").to(__.V(\"111.000.001.111\")).property(id,\"ACC-661-111.000.001.111-ACC-CARD\").\n",
    "V(\"ACC-1511\").addE(\"issue\").to(__.V(\"111.000.001.219\")).property(id,\"ACC-1511-111.000.001.219-ACC-CARD\").\n",
    "V(\"ACC-2442\").addE(\"issue\").to(__.V(\"111.000.001.223\")).property(id,\"ACC-2442-111.000.001.223-ACC-CARD\").\n",
    "V(\"ACC-1100\").addE(\"issue\").to(__.V(\"111.000.001.272\")).property(id,\"ACC-1100-111.000.001.272-ACC-CARD\").\n",
    "V(\"ACC-1415\").addE(\"issue\").to(__.V(\"111.000.001.322\")).property(id,\"ACC-1415-111.000.001.322-ACC-CARD\").\n",
    "V(\"ACC-2308\").addE(\"issue\").to(__.V(\"111.000.001.339\")).property(id,\"ACC-2308-111.000.001.339-ACC-CARD\").\n",
    "V(\"ACC-86\").addE(\"issue\").to(__.V(\"111.000.001.343\")).property(id,\"ACC-86-111.000.001.343-ACC-CARD\").\n",
    "V(\"ACC-1274\").addE(\"issue\").to(__.V(\"111.000.001.418\")).property(id,\"ACC-1274-111.000.001.418-ACC-CARD\").\n",
    "V(\"ACC-1549\").addE(\"issue\").to(__.V(\"111.000.001.440\")).property(id,\"ACC-1549-111.000.001.440-ACC-CARD\").\n",
    "V(\"ACC-1669\").addE(\"issue\").to(__.V(\"111.000.001.467\")).property(id,\"ACC-1669-111.000.001.467-ACC-CARD\").\n",
    "V(\"ACC-374\").addE(\"issue\").to(__.V(\"111.000.001.530\")).property(id,\"ACC-374-111.000.001.530-ACC-CARD\").\n",
    "V(\"ACC-1540\").addE(\"issue\").to(__.V(\"111.000.001.531\")).property(id,\"ACC-1540-111.000.001.531-ACC-CARD\").\n",
    "V(\"ACC-109\").addE(\"issue\").to(__.V(\"111.000.001.540\")).property(id,\"ACC-109-111.000.001.540-ACC-CARD\").\n",
    "V(\"ACC-655\").addE(\"issue\").to(__.V(\"111.000.001.550\")).property(id,\"ACC-655-111.000.001.550-ACC-CARD\").\n",
    "V(\"ACC-1243\").addE(\"issue\").to(__.V(\"111.000.001.573\")).property(id,\"ACC-1243-111.000.001.573-ACC-CARD\").\n",
    "V(\"ACC-620\").addE(\"issue\").to(__.V(\"111.000.001.603\")).property(id,\"ACC-620-111.000.001.603-ACC-CARD\").\n",
    "V(\"ACC-1307\").addE(\"issue\").to(__.V(\"111.000.001.628\")).property(id,\"ACC-1307-111.000.001.628-ACC-CARD\").\n",
    "V(\"ACC-586\").addE(\"issue\").to(__.V(\"111.000.001.641\")).property(id,\"ACC-586-111.000.001.641-ACC-CARD\").\n",
    "V(\"ACC-1221\").addE(\"issue\").to(__.V(\"111.000.001.658\")).property(id,\"ACC-1221-111.000.001.658-ACC-CARD\").\n",
    "V(\"ACC-658\").addE(\"issue\").to(__.V(\"111.000.001.667\")).property(id,\"ACC-658-111.000.001.667-ACC-CARD\").\n",
    "V(\"ACC-1558\").addE(\"issue\").to(__.V(\"111.000.001.794\")).property(id,\"ACC-1558-111.000.001.794-ACC-CARD\").\n",
    "V(\"ACC-481\").addE(\"issue\").to(__.V(\"111.000.001.817\")).property(id,\"ACC-481-111.000.001.817-ACC-CARD\").\n",
    "V(\"ACC-1252\").addE(\"issue\").to(__.V(\"111.000.001.819\")).property(id,\"ACC-1252-111.000.001.819-ACC-CARD\").\n",
    "V(\"ACC-1365\").addE(\"issue\").to(__.V(\"111.000.001.878\")).property(id,\"ACC-1365-111.000.001.878-ACC-CARD\").\n",
    "V(\"ACC-1383\").addE(\"issue\").to(__.V(\"111.000.001.887\")).property(id,\"ACC-1383-111.000.001.887-ACC-CARD\").\n",
    "V(\"ACC-2498\").addE(\"issue\").to(__.V(\"111.000.001.943\")).property(id,\"ACC-2498-111.000.001.943-ACC-CARD\").\n",
    "V(\"ACC-1877\").addE(\"issue\").to(__.V(\"111.000.001.945\")).property(id,\"ACC-1877-111.000.001.945-ACC-CARD\").\n",
    "V(\"ACC-1252\").addE(\"issue\").to(__.V(\"111.000.002.057\")).property(id,\"ACC-1252-111.000.002.057-ACC-CARD\").\n",
    "V(\"ACC-1558\").addE(\"issue\").to(__.V(\"111.000.002.066\")).property(id,\"ACC-1558-111.000.002.066-ACC-CARD\").\n",
    "V(\"ACC-2043\").addE(\"issue\").to(__.V(\"111.000.002.132\")).property(id,\"ACC-2043-111.000.002.132-ACC-CARD\").\n",
    "V(\"ACC-658\").addE(\"issue\").to(__.V(\"111.000.002.135\")).property(id,\"ACC-658-111.000.002.135-ACC-CARD\").\n",
    "V(\"ACC-1558\").addE(\"issue\").to(__.V(\"111.000.002.155\")).property(id,\"ACC-1558-111.000.002.155-ACC-CARD\").\n",
    "V(\"ACC-2080\").addE(\"issue\").to(__.V(\"111.000.002.179\")).property(id,\"ACC-2080-111.000.002.179-ACC-CARD\").\n",
    "V(\"ACC-661\").addE(\"issue\").to(__.V(\"111.000.002.191\")).property(id,\"ACC-661-111.000.002.191-ACC-CARD\").\n",
    "V(\"ACC-923\").addE(\"issue\").to(__.V(\"111.000.002.283\")).property(id,\"ACC-923-111.000.002.283-ACC-CARD\").\n",
    "V(\"ACC-1865\").addE(\"issue\").to(__.V(\"111.000.002.286\")).property(id,\"ACC-1865-111.000.002.286-ACC-CARD\").\n",
    "V(\"ACC-1083\").addE(\"issue\").to(__.V(\"111.000.002.289\")).property(id,\"ACC-1083-111.000.002.289-ACC-CARD\").\n",
    "V(\"ACC-1865\").addE(\"issue\").to(__.V(\"111.000.002.305\")).property(id,\"ACC-1865-111.000.002.305-ACC-CARD\").\n",
    "V(\"ACC-481\").addE(\"issue\").to(__.V(\"111.000.002.355\")).property(id,\"ACC-481-111.000.002.355-ACC-CARD\").\n",
    "V(\"ACC-1549\").addE(\"issue\").to(__.V(\"111.000.002.377\")).property(id,\"ACC-1549-111.000.002.377-ACC-CARD\").\n",
    "V(\"ACC-1074\").addE(\"issue\").to(__.V(\"111.000.002.434\")).property(id,\"ACC-1074-111.000.002.434-ACC-CARD\").\n",
    "V(\"ACC-1221\").addE(\"issue\").to(__.V(\"111.000.002.459\")).property(id,\"ACC-1221-111.000.002.459-ACC-CARD\").\n",
    "V(\"ACC-26\").addE(\"issue\").to(__.V(\"111.000.002.479\")).property(id,\"ACC-26-111.000.002.479-ACC-CARD\")"
   ]
  },
  {
   "cell_type": "markdown",
   "id": "87022268-5560-4793-9730-7765c1eda2ac",
   "metadata": {},
   "source": [
    "# Payment"
   ]
  },
  {
   "cell_type": "code",
   "execution_count": 32,
   "id": "6a71be07-98bc-4194-aff2-43bce35cb989",
   "metadata": {
    "tags": []
   },
   "outputs": [
    {
     "data": {
      "application/vnd.jupyter.widget-view+json": {
       "model_id": "4d333b27105d41b7a28ee5485c14641a",
       "version_major": 2,
       "version_minor": 0
      },
      "text/plain": [
       "Tab(children=(Output(layout=Layout(max_height='600px', max_width='940px', overflow='scroll')), Output(layout=L…"
      ]
     },
     "metadata": {},
     "output_type": "display_data"
    }
   ],
   "source": [
    "%%gremlin\n",
    "\n",
    "g.V().hasLabel('Payment').drop().iterate();"
   ]
  },
  {
   "cell_type": "code",
   "execution_count": 20,
   "id": "0c7f133e-7862-4865-a15c-c60ab0948bda",
   "metadata": {
    "tags": []
   },
   "outputs": [
    {
     "data": {
      "application/vnd.jupyter.widget-view+json": {
       "model_id": "94f91307ed544d609115ff561eb984a4",
       "version_major": 2,
       "version_minor": 0
      },
      "text/plain": [
       "Tab(children=(Output(layout=Layout(max_height='600px', max_width='940px', overflow='scroll')), Output(layout=L…"
      ]
     },
     "metadata": {},
     "output_type": "display_data"
    }
   ],
   "source": [
    "%%gremlin\n",
    "\n",
    "g.addV(\"Payment\").property(id,142).property(\"card_number\",\"111.000.002.191\").property(\"amount\",631).property(\"payment_at\",\"2024-03-01 10:35:40-03\").as(\"142\").\n",
    "addV(\"Payment\").property(id,147).property(\"card_number\",\"111.000.000.051\").property(\"amount\",137).property(\"payment_at\",\"2024-03-01 11:18:38-03\").as(\"147\").\n",
    "addV(\"Payment\").property(id,202).property(\"card_number\",\"111.000.002.179\").property(\"amount\",92).property(\"payment_at\",\"2024-03-01 11:25:40-03\").as(\"202\").\n",
    "addV(\"Payment\").property(id,179).property(\"card_number\",\"111.000.001.343\").property(\"amount\",208).property(\"payment_at\",\"2024-03-01 11:31:43-03\").as(\"179\").\n",
    "addV(\"Payment\").property(id,337).property(\"card_number\",\"111.000.000.529\").property(\"amount\",252).property(\"payment_at\",\"2024-03-01 14:26:45-03\").as(\"337\").\n",
    "addV(\"Payment\").property(id,338).property(\"card_number\",\"111.000.000.529\").property(\"amount\",104).property(\"payment_at\",\"2024-03-01 14:59:30-03\").as(\"338\").\n",
    "addV(\"Payment\").property(id,505).property(\"card_number\",\"111.000.002.066\").property(\"amount\",48).property(\"payment_at\",\"2024-03-01 17:31:19-03\").as(\"505\").\n",
    "addV(\"Payment\").property(id,479).property(\"card_number\",\"111.000.000.554\").property(\"amount\",129).property(\"payment_at\",\"2024-03-01 17:39:47-03\").as(\"479\").\n",
    "addV(\"Payment\").property(id,506).property(\"card_number\",\"111.000.002.066\").property(\"amount\",290).property(\"payment_at\",\"2024-03-01 17:43:29-03\").as(\"506\").\n",
    "addV(\"Payment\").property(id,478).property(\"card_number\",\"111.000.000.554\").property(\"amount\",32).property(\"payment_at\",\"2024-03-01 17:45:16-03\").as(\"478\").\n",
    "addV(\"Payment\").property(id,540).property(\"card_number\",\"111.000.002.135\").property(\"amount\",213).property(\"payment_at\",\"2024-03-01 18:27:35-03\").as(\"540\").\n",
    "addV(\"Payment\").property(id,543).property(\"card_number\",\"111.000.002.305\").property(\"amount\",37).property(\"payment_at\",\"2024-03-01 18:49:25-03\").as(\"543\").\n",
    "addV(\"Payment\").property(id,539).property(\"card_number\",\"111.000.002.135\").property(\"amount\",444).property(\"payment_at\",\"2024-03-01 18:52:14-03\").as(\"539\").\n",
    "addV(\"Payment\").property(id,544).property(\"card_number\",\"111.000.002.305\").property(\"amount\",129).property(\"payment_at\",\"2024-03-01 18:56:56-03\").as(\"544\").\n",
    "addV(\"Payment\").property(id,18080).property(\"card_number\",\"111.000.000.490\").property(\"amount\",38).property(\"payment_at\",\"2024-03-01 20:55:05-03\").as(\"18080\").\n",
    "addV(\"Payment\").property(id,18109).property(\"card_number\",\"111.000.002.283\").property(\"amount\",77).property(\"payment_at\",\"2024-03-01 23:18:06-03\").as(\"18109\").\n",
    "addV(\"Payment\").property(id,18123).property(\"card_number\",\"111.000.000.877\").property(\"amount\",148).property(\"payment_at\",\"2024-03-02 01:51:13-03\").as(\"18123\").\n",
    "addV(\"Payment\").property(id,18130).property(\"card_number\",\"111.000.000.266\").property(\"amount\",318).property(\"payment_at\",\"2024-03-02 02:23:14-03\").as(\"18130\").\n",
    "addV(\"Payment\").property(id,18168).property(\"card_number\",\"111.000.000.464\").property(\"amount\",315).property(\"payment_at\",\"2024-03-02 07:27:50-03\").as(\"18168\").\n",
    "addV(\"Payment\").property(id,614).property(\"card_number\",\"111.000.000.677\").property(\"amount\",69).property(\"payment_at\",\"2024-03-02 09:15:47-03\").as(\"614\").\n",
    "addV(\"Payment\").property(id,632).property(\"card_number\",\"111.000.001.573\").property(\"amount\",248).property(\"payment_at\",\"2024-03-02 09:19:33-03\").as(\"632\").\n",
    "addV(\"Payment\").property(id,613).property(\"card_number\",\"111.000.000.677\").property(\"amount\",734).property(\"payment_at\",\"2024-03-02 09:35:22-03\").as(\"613\").\n",
    "addV(\"Payment\").property(id,633).property(\"card_number\",\"111.000.001.573\").property(\"amount\",472).property(\"payment_at\",\"2024-03-02 09:43:53-03\").as(\"633\").\n",
    "addV(\"Payment\").property(id,730).property(\"card_number\",\"111.000.002.479\").property(\"amount\",118).property(\"payment_at\",\"2024-03-02 10:16:07-03\").as(\"730\").\n",
    "addV(\"Payment\").property(id,689).property(\"card_number\",\"111.000.001.219\").property(\"amount\",63).property(\"payment_at\",\"2024-03-02 10:26:58-03\").as(\"689\").\n",
    "addV(\"Payment\").property(id,729).property(\"card_number\",\"111.000.002.479\").property(\"amount\",262).property(\"payment_at\",\"2024-03-02 10:39:39-03\").as(\"729\").\n",
    "addV(\"Payment\").property(id,765).property(\"card_number\",\"111.000.000.093\").property(\"amount\",413).property(\"payment_at\",\"2024-03-02 12:26:32-03\").as(\"765\").\n",
    "addV(\"Payment\").property(id,764).property(\"card_number\",\"111.000.000.093\").property(\"amount\",667).property(\"payment_at\",\"2024-03-02 12:38:21-03\").as(\"764\").\n",
    "addV(\"Payment\").property(id,825).property(\"card_number\",\"111.000.000.326\").property(\"amount\",132).property(\"payment_at\",\"2024-03-02 13:28:52-03\").as(\"825\").\n",
    "addV(\"Payment\").property(id,826).property(\"card_number\",\"111.000.000.326\").property(\"amount\",388).property(\"payment_at\",\"2024-03-02 13:31:12-03\").as(\"826\").\n",
    "addV(\"Payment\").property(id,837).property(\"card_number\",\"111.000.000.677\").property(\"amount\",717).property(\"payment_at\",\"2024-03-02 13:36:57-03\").as(\"837\").\n",
    "addV(\"Payment\").property(id,838).property(\"card_number\",\"111.000.000.677\").property(\"amount\",49).property(\"payment_at\",\"2024-03-02 13:41:08-03\").as(\"838\").\n",
    "addV(\"Payment\").property(id,887).property(\"card_number\",\"111.000.002.135\").property(\"amount\",459).property(\"payment_at\",\"2024-03-02 13:43:53-03\").as(\"887\").\n",
    "addV(\"Payment\").property(id,902).property(\"card_number\",\"111.000.002.459\").property(\"amount\",403).property(\"payment_at\",\"2024-03-02 13:51:19-03\").as(\"902\").\n",
    "addV(\"Payment\").property(id,988).property(\"card_number\",\"111.000.001.060\").property(\"amount\",276).property(\"payment_at\",\"2024-03-02 16:49:46-03\").as(\"988\").\n",
    "addV(\"Payment\").property(id,1047).property(\"card_number\",\"111.000.001.819\").property(\"amount\",264).property(\"payment_at\",\"2024-03-02 17:37:02-03\").as(\"1047\").\n",
    "addV(\"Payment\").property(id,1046).property(\"card_number\",\"111.000.001.819\").property(\"amount\",221).property(\"payment_at\",\"2024-03-02 17:54:11-03\").as(\"1046\").\n",
    "addV(\"Payment\").property(id,1116).property(\"card_number\",\"111.000.000.047\").property(\"amount\",403).property(\"payment_at\",\"2024-03-02 19:22:50-03\").as(\"1116\").\n",
    "addV(\"Payment\").property(id,1117).property(\"card_number\",\"111.000.000.047\").property(\"amount\",269).property(\"payment_at\",\"2024-03-02 19:24:50-03\").as(\"1117\").\n",
    "addV(\"Payment\").property(id,1153).property(\"card_number\",\"111.000.002.155\").property(\"amount\",253).property(\"payment_at\",\"2024-03-02 19:29:08-03\").as(\"1153\").\n",
    "addV(\"Payment\").property(id,1152).property(\"card_number\",\"111.000.002.155\").property(\"amount\",286).property(\"payment_at\",\"2024-03-02 19:29:55-03\").as(\"1152\").\n",
    "addV(\"Payment\").property(id,18210).property(\"card_number\",\"111.000.002.283\").property(\"amount\",145).property(\"payment_at\",\"2024-03-02 23:36:14-03\").as(\"18210\").\n",
    "addV(\"Payment\").property(id,18215).property(\"card_number\",\"111.000.001.573\").property(\"amount\",139).property(\"payment_at\",\"2024-03-03 00:37:18-03\").as(\"18215\").\n",
    "addV(\"Payment\").property(id,1170).property(\"card_number\",\"111.000.000.464\").property(\"amount\",445).property(\"payment_at\",\"2024-03-03 09:31:05-03\").as(\"1170\").\n",
    "addV(\"Payment\").property(id,1171).property(\"card_number\",\"111.000.000.464\").property(\"amount\",122).property(\"payment_at\",\"2024-03-03 09:38:36-03\").as(\"1171\").\n",
    "addV(\"Payment\").property(id,1325).property(\"card_number\",\"111.000.001.223\").property(\"amount\",243).property(\"payment_at\",\"2024-03-03 12:35:17-03\").as(\"1325\").\n",
    "addV(\"Payment\").property(id,1319).property(\"card_number\",\"111.000.000.863\").property(\"amount\",629).property(\"payment_at\",\"2024-03-03 12:50:59-03\").as(\"1319\").\n",
    "addV(\"Payment\").property(id,1373).property(\"card_number\",\"111.000.001.641\").property(\"amount\",60).property(\"payment_at\",\"2024-03-03 13:36:54-03\").as(\"1373\").\n",
    "addV(\"Payment\").property(id,1450).property(\"card_number\",\"111.000.002.191\").property(\"amount\",90).property(\"payment_at\",\"2024-03-03 14:40:43-03\").as(\"1450\").\n",
    "addV(\"Payment\").property(id,1411).property(\"card_number\",\"111.000.000.683\").property(\"amount\",109).property(\"payment_at\",\"2024-03-03 14:51:22-03\").as(\"1411\").\n",
    "addV(\"Payment\").property(id,1451).property(\"card_number\",\"111.000.002.191\").property(\"amount\",562).property(\"payment_at\",\"2024-03-03 14:56:29-03\").as(\"1451\").\n",
    "addV(\"Payment\").property(id,1502).property(\"card_number\",\"111.000.002.355\").property(\"amount\",49).property(\"payment_at\",\"2024-03-03 15:16:55-03\").as(\"1502\").\n",
    "addV(\"Payment\").property(id,1566).property(\"card_number\",\"111.000.001.794\").property(\"amount\",476).property(\"payment_at\",\"2024-03-03 16:37:22-03\").as(\"1566\").\n",
    "addV(\"Payment\").property(id,1589).property(\"card_number\",\"111.000.002.434\").property(\"amount\",380).property(\"payment_at\",\"2024-03-03 16:41:53-03\").as(\"1589\").\n",
    "addV(\"Payment\").property(id,1588).property(\"card_number\",\"111.000.002.434\").property(\"amount\",422).property(\"payment_at\",\"2024-03-03 16:42:21-03\").as(\"1588\").\n",
    "addV(\"Payment\").property(id,1702).property(\"card_number\",\"111.000.001.658\").property(\"amount\",392).property(\"payment_at\",\"2024-03-03 19:40:03-03\").as(\"1702\").\n",
    "addV(\"Payment\").property(id,1703).property(\"card_number\",\"111.000.001.658\").property(\"amount\",116).property(\"payment_at\",\"2024-03-03 19:49:21-03\").as(\"1703\").\n",
    "addV(\"Payment\").property(id,1709).property(\"card_number\",\"111.000.002.066\").property(\"amount\",230).property(\"payment_at\",\"2024-03-03 19:59:22-03\").as(\"1709\").\n",
    "addV(\"Payment\").property(id,18289).property(\"card_number\",\"111.000.001.878\").property(\"amount\",32).property(\"payment_at\",\"2024-03-03 21:49:58-03\").as(\"18289\").\n",
    "addV(\"Payment\").property(id,18301).property(\"card_number\",\"111.000.001.530\").property(\"amount\",63).property(\"payment_at\",\"2024-03-03 23:45:54-03\").as(\"18301\").\n",
    "addV(\"Payment\").property(id,18333).property(\"card_number\",\"111.000.000.515\").property(\"amount\",385).property(\"payment_at\",\"2024-03-04 03:25:31-03\").as(\"18333\").\n",
    "addV(\"Payment\").property(id,18387).property(\"card_number\",\"111.000.001.078\").property(\"amount\",81).property(\"payment_at\",\"2024-03-04 09:28:12-03\").as(\"18387\").\n",
    "addV(\"Payment\").property(id,1768).property(\"card_number\",\"111.000.002.057\").property(\"amount\",539).property(\"payment_at\",\"2024-03-04 09:36:43-03\").as(\"1768\").\n",
    "addV(\"Payment\").property(id,1798).property(\"card_number\",\"111.000.000.945\").property(\"amount\",138).property(\"payment_at\",\"2024-03-04 10:31:10-03\").as(\"1798\").\n",
    "addV(\"Payment\").property(id,1781).property(\"card_number\",\"111.000.000.150\").property(\"amount\",716).property(\"payment_at\",\"2024-03-04 10:31:47-03\").as(\"1781\").\n",
    "addV(\"Payment\").property(id,1797).property(\"card_number\",\"111.000.000.945\").property(\"amount\",443).property(\"payment_at\",\"2024-03-04 10:38:47-03\").as(\"1797\").\n",
    "addV(\"Payment\").property(id,1782).property(\"card_number\",\"111.000.000.150\").property(\"amount\",251).property(\"payment_at\",\"2024-03-04 10:58:34-03\").as(\"1782\").\n",
    "addV(\"Payment\").property(id,1840).property(\"card_number\",\"111.000.000.464\").property(\"amount\",104).property(\"payment_at\",\"2024-03-04 11:16:47-03\").as(\"1840\").\n",
    "addV(\"Payment\").property(id,1841).property(\"card_number\",\"111.000.000.464\").property(\"amount\",457).property(\"payment_at\",\"2024-03-04 11:38:13-03\").as(\"1841\").\n",
    "addV(\"Payment\").property(id,1934).property(\"card_number\",\"111.000.002.479\").property(\"amount\",237).property(\"payment_at\",\"2024-03-04 13:29:19-03\").as(\"1934\").\n",
    "addV(\"Payment\").property(id,1933).property(\"card_number\",\"111.000.002.479\").property(\"amount\",427).property(\"payment_at\",\"2024-03-04 13:45:34-03\").as(\"1933\").\n",
    "addV(\"Payment\").property(id,1908).property(\"card_number\",\"111.000.000.529\").property(\"amount\",128).property(\"payment_at\",\"2024-03-04 13:49:29-03\").as(\"1908\").\n",
    "addV(\"Payment\").property(id,1948).property(\"card_number\",\"111.000.001.223\").property(\"amount\",519).property(\"payment_at\",\"2024-03-04 14:17:19-03\").as(\"1948\").\n",
    "addV(\"Payment\").property(id,1947).property(\"card_number\",\"111.000.001.223\").property(\"amount\",143).property(\"payment_at\",\"2024-03-04 14:39:21-03\").as(\"1947\").\n",
    "addV(\"Payment\").property(id,2070).property(\"card_number\",\"111.000.000.490\").property(\"amount\",484).property(\"payment_at\",\"2024-03-04 16:19:40-03\").as(\"2070\").\n",
    "addV(\"Payment\").property(id,2104).property(\"card_number\",\"111.000.002.155\").property(\"amount\",188).property(\"payment_at\",\"2024-03-04 16:22:02-03\").as(\"2104\").\n",
    "addV(\"Payment\").property(id,2103).property(\"card_number\",\"111.000.002.155\").property(\"amount\",217).property(\"payment_at\",\"2024-03-04 16:23:04-03\").as(\"2103\").\n",
    "addV(\"Payment\").property(id,2071).property(\"card_number\",\"111.000.000.490\").property(\"amount\",112).property(\"payment_at\",\"2024-03-04 16:25:40-03\").as(\"2071\").\n",
    "addV(\"Payment\").property(id,2221).property(\"card_number\",\"111.000.001.878\").property(\"amount\",135).property(\"payment_at\",\"2024-03-04 19:19:36-03\").as(\"2221\").\n",
    "addV(\"Payment\").property(id,2222).property(\"card_number\",\"111.000.001.878\").property(\"amount\",107).property(\"payment_at\",\"2024-03-04 19:34:21-03\").as(\"2222\").\n",
    "addV(\"Payment\").property(id,18485).property(\"card_number\",\"111.000.001.550\").property(\"amount\",221).property(\"payment_at\",\"2024-03-05 07:31:24-03\").as(\"18485\").\n",
    "addV(\"Payment\").property(id,2373).property(\"card_number\",\"111.000.002.434\").property(\"amount\",49).property(\"payment_at\",\"2024-03-05 10:19:15-03\").as(\"2373\").\n",
    "addV(\"Payment\").property(id,2340).property(\"card_number\",\"111.000.001.111\").property(\"amount\",146).property(\"payment_at\",\"2024-03-05 10:22:43-03\").as(\"2340\").\n",
    "addV(\"Payment\").property(id,2335).property(\"card_number\",\"111.000.000.817\").property(\"amount\",228).property(\"payment_at\",\"2024-03-05 10:25:36-03\").as(\"2335\").\n",
    "addV(\"Payment\").property(id,2341).property(\"card_number\",\"111.000.001.111\").property(\"amount\",453).property(\"payment_at\",\"2024-03-05 10:29:22-03\").as(\"2341\").\n",
    "addV(\"Payment\").property(id,2334).property(\"card_number\",\"111.000.000.817\").property(\"amount\",444).property(\"payment_at\",\"2024-03-05 10:47:53-03\").as(\"2334\").\n",
    "addV(\"Payment\").property(id,2403).property(\"card_number\",\"111.000.001.060\").property(\"amount\",256).property(\"payment_at\",\"2024-03-05 11:17:02-03\").as(\"2403\").\n",
    "addV(\"Payment\").property(id,2404).property(\"card_number\",\"111.000.001.060\").property(\"amount\",742).property(\"payment_at\",\"2024-03-05 11:45:59-03\").as(\"2404\").\n",
    "addV(\"Payment\").property(id,2554).property(\"card_number\",\"111.000.001.817\").property(\"amount\",280).property(\"payment_at\",\"2024-03-05 14:22:33-03\").as(\"2554\").\n",
    "addV(\"Payment\").property(id,2555).property(\"card_number\",\"111.000.001.817\").property(\"amount\",330).property(\"payment_at\",\"2024-03-05 14:56:25-03\").as(\"2555\").\n",
    "addV(\"Payment\").property(id,2571).property(\"card_number\",\"111.000.000.181\").property(\"amount\",99).property(\"payment_at\",\"2024-03-05 15:29:24-03\").as(\"2571\").\n",
    "addV(\"Payment\").property(id,2570).property(\"card_number\",\"111.000.000.181\").property(\"amount\",231).property(\"payment_at\",\"2024-03-05 15:50:59-03\").as(\"2570\").\n",
    "addV(\"Payment\").property(id,2670).property(\"card_number\",\"111.000.001.530\").property(\"amount\",123).property(\"payment_at\",\"2024-03-05 17:23:19-03\").as(\"2670\").\n",
    "addV(\"Payment\").property(id,2695).property(\"card_number\",\"111.000.000.464\").property(\"amount\",456).property(\"payment_at\",\"2024-03-05 18:42:56-03\").as(\"2695\").\n",
    "addV(\"Payment\").property(id,2738).property(\"card_number\",\"111.000.000.093\").property(\"amount\",122).property(\"payment_at\",\"2024-03-05 19:24:25-03\").as(\"2738\").\n",
    "addV(\"Payment\").property(id,2754).property(\"card_number\",\"111.000.000.683\").property(\"amount\",232).property(\"payment_at\",\"2024-03-05 19:50:08-03\").as(\"2754\").\n",
    "addV(\"Payment\").property(id,2753).property(\"card_number\",\"111.000.000.683\").property(\"amount\",264).property(\"payment_at\",\"2024-03-05 19:50:16-03\").as(\"2753\").\n",
    "addV(\"Payment\").property(id,2739).property(\"card_number\",\"111.000.000.093\").property(\"amount\",244).property(\"payment_at\",\"2024-03-05 19:53:05-03\").as(\"2739\").\n",
    "addV(\"Payment\").property(id,18520).property(\"card_number\",\"111.000.001.272\").property(\"amount\",36).property(\"payment_at\",\"2024-03-05 21:36:08-03\").as(\"18520\").\n",
    "addV(\"Payment\").property(id,2893).property(\"card_number\",\"111.000.002.305\").property(\"amount\",97).property(\"payment_at\",\"2024-03-06 09:25:27-03\").as(\"2893\")"
   ]
  },
  {
   "cell_type": "code",
   "execution_count": 21,
   "id": "78658e11-a571-43d7-9924-62061ab3b879",
   "metadata": {
    "tags": []
   },
   "outputs": [
    {
     "data": {
      "application/vnd.jupyter.widget-view+json": {
       "model_id": "516f44f76ce7401781599bec063f29c3",
       "version_major": 2,
       "version_minor": 0
      },
      "text/plain": [
       "Tab(children=(Output(layout=Layout(max_height='600px', max_width='940px', overflow='scroll')), Output(layout=L…"
      ]
     },
     "metadata": {},
     "output_type": "display_data"
    }
   ],
   "source": [
    "%%gremlin\n",
    "\n",
    "g.addV(\"Payment\").property(id,2820).property(\"card_number\",\"111.000.000.718\").property(\"amount\",233).property(\"payment_at\",\"2024-03-06 09:44:43-03\").as(\"2820\").\n",
    "addV(\"Payment\").property(id,18612).property(\"card_number\",\"111.000.002.057\").property(\"amount\",140).property(\"payment_at\",\"2024-03-06 09:50:02-03\").as(\"18612\").\n",
    "addV(\"Payment\").property(id,2786).property(\"card_number\",\"111.000.000.051\").property(\"amount\",269).property(\"payment_at\",\"2024-03-06 09:52:48-03\").as(\"2786\").\n",
    "addV(\"Payment\").property(id,2785).property(\"card_number\",\"111.000.000.051\").property(\"amount\",124).property(\"payment_at\",\"2024-03-06 09:53:55-03\").as(\"2785\").\n",
    "addV(\"Payment\").property(id,3126).property(\"card_number\",\"111.000.002.191\").property(\"amount\",198).property(\"payment_at\",\"2024-03-06 15:16:49-03\").as(\"3126\").\n",
    "addV(\"Payment\").property(id,3125).property(\"card_number\",\"111.000.002.191\").property(\"amount\",702).property(\"payment_at\",\"2024-03-06 15:16:55-03\").as(\"3125\").\n",
    "addV(\"Payment\").property(id,3108).property(\"card_number\",\"111.000.001.111\").property(\"amount\",216).property(\"payment_at\",\"2024-03-06 15:23:38-03\").as(\"3108\").\n",
    "addV(\"Payment\").property(id,3109).property(\"card_number\",\"111.000.001.111\").property(\"amount\",97).property(\"payment_at\",\"2024-03-06 15:37:18-03\").as(\"3109\").\n",
    "addV(\"Payment\").property(id,3205).property(\"card_number\",\"111.000.000.464\").property(\"amount\",228).property(\"payment_at\",\"2024-03-06 17:37:21-03\").as(\"3205\").\n",
    "addV(\"Payment\").property(id,3354).property(\"card_number\",\"111.000.000.817\").property(\"amount\",128).property(\"payment_at\",\"2024-03-06 19:20:26-03\").as(\"3354\").\n",
    "addV(\"Payment\").property(id,3353).property(\"card_number\",\"111.000.000.817\").property(\"amount\",642).property(\"payment_at\",\"2024-03-06 19:45:06-03\").as(\"3353\").\n",
    "addV(\"Payment\").property(id,18626).property(\"card_number\",\"111.000.002.132\").property(\"amount\",346).property(\"payment_at\",\"2024-03-06 21:46:48-03\").as(\"18626\").\n",
    "addV(\"Payment\").property(id,18678).property(\"card_number\",\"111.000.001.223\").property(\"amount\",178).property(\"payment_at\",\"2024-03-07 02:31:13-03\").as(\"18678\").\n",
    "addV(\"Payment\").property(id,3432).property(\"card_number\",\"111.000.000.326\").property(\"amount\",43).property(\"payment_at\",\"2024-03-07 10:34:34-03\").as(\"3432\").\n",
    "addV(\"Payment\").property(id,3458).property(\"card_number\",\"111.000.001.658\").property(\"amount\",421).property(\"payment_at\",\"2024-03-07 10:47:49-03\").as(\"3458\").\n",
    "addV(\"Payment\").property(id,3431).property(\"card_number\",\"111.000.000.326\").property(\"amount\",132).property(\"payment_at\",\"2024-03-07 10:50:21-03\").as(\"3431\").\n",
    "addV(\"Payment\").property(id,3490).property(\"card_number\",\"111.000.000.326\").property(\"amount\",488).property(\"payment_at\",\"2024-03-07 11:32:04-03\").as(\"3490\").\n",
    "addV(\"Payment\").property(id,3489).property(\"card_number\",\"111.000.000.326\").property(\"amount\",119).property(\"payment_at\",\"2024-03-07 11:57:54-03\").as(\"3489\").\n",
    "addV(\"Payment\").property(id,3515).property(\"card_number\",\"111.000.002.066\").property(\"amount\",255).property(\"payment_at\",\"2024-03-07 11:58:56-03\").as(\"3515\").\n",
    "addV(\"Payment\").property(id,3584).property(\"card_number\",\"111.000.001.530\").property(\"amount\",803).property(\"payment_at\",\"2024-03-07 12:15:14-03\").as(\"3584\").\n",
    "addV(\"Payment\").property(id,3620).property(\"card_number\",\"111.000.002.289\").property(\"amount\",123).property(\"payment_at\",\"2024-03-07 12:19:12-03\").as(\"3620\").\n",
    "addV(\"Payment\").property(id,3558).property(\"card_number\",\"111.000.000.863\").property(\"amount\",118).property(\"payment_at\",\"2024-03-07 12:25:29-03\").as(\"3558\").\n",
    "addV(\"Payment\").property(id,3585).property(\"card_number\",\"111.000.001.530\").property(\"amount\",112).property(\"payment_at\",\"2024-03-07 12:25:36-03\").as(\"3585\").\n",
    "addV(\"Payment\").property(id,3530).property(\"card_number\",\"111.000.000.150\").property(\"amount\",421).property(\"payment_at\",\"2024-03-07 12:32:28-03\").as(\"3530\").\n",
    "addV(\"Payment\").property(id,3619).property(\"card_number\",\"111.000.002.289\").property(\"amount\",451).property(\"payment_at\",\"2024-03-07 12:43:42-03\").as(\"3619\").\n",
    "addV(\"Payment\").property(id,3555).property(\"card_number\",\"111.000.000.817\").property(\"amount\",274).property(\"payment_at\",\"2024-03-07 12:47:39-03\").as(\"3555\").\n",
    "addV(\"Payment\").property(id,3529).property(\"card_number\",\"111.000.000.150\").property(\"amount\",113).property(\"payment_at\",\"2024-03-07 12:57:09-03\").as(\"3529\").\n",
    "addV(\"Payment\").property(id,3662).property(\"card_number\",\"111.000.001.418\").property(\"amount\",455).property(\"payment_at\",\"2024-03-07 13:53:34-03\").as(\"3662\").\n",
    "addV(\"Payment\").property(id,3663).property(\"card_number\",\"111.000.001.418\").property(\"amount\",518).property(\"payment_at\",\"2024-03-07 13:54:56-03\").as(\"3663\").\n",
    "addV(\"Payment\").property(id,3695).property(\"card_number\",\"111.000.000.078\").property(\"amount\",214).property(\"payment_at\",\"2024-03-07 14:20:32-03\").as(\"3695\").\n",
    "addV(\"Payment\").property(id,3696).property(\"card_number\",\"111.000.000.078\").property(\"amount\",102).property(\"payment_at\",\"2024-03-07 14:22:42-03\").as(\"3696\").\n",
    "addV(\"Payment\").property(id,3728).property(\"card_number\",\"111.000.002.283\").property(\"amount\",424).property(\"payment_at\",\"2024-03-07 14:47:13-03\").as(\"3728\").\n",
    "addV(\"Payment\").property(id,3778).property(\"card_number\",\"111.000.000.677\").property(\"amount\",92).property(\"payment_at\",\"2024-03-07 16:21:43-03\").as(\"3778\").\n",
    "addV(\"Payment\").property(id,3927).property(\"card_number\",\"111.000.001.658\").property(\"amount\",196).property(\"payment_at\",\"2024-03-07 18:21:31-03\").as(\"3927\").\n",
    "addV(\"Payment\").property(id,3956).property(\"card_number\",\"111.000.002.283\").property(\"amount\",512).property(\"payment_at\",\"2024-03-07 18:36:28-03\").as(\"3956\").\n",
    "addV(\"Payment\").property(id,3864).property(\"card_number\",\"111.000.000.133\").property(\"amount\",132).property(\"payment_at\",\"2024-03-07 18:46:38-03\").as(\"3864\").\n",
    "addV(\"Payment\").property(id,3989).property(\"card_number\",\"111.000.001.005\").property(\"amount\",271).property(\"payment_at\",\"2024-03-07 19:23:14-03\").as(\"3989\").\n",
    "addV(\"Payment\").property(id,3966).property(\"card_number\",\"111.000.000.150\").property(\"amount\",151).property(\"payment_at\",\"2024-03-07 19:27:15-03\").as(\"3966\").\n",
    "addV(\"Payment\").property(id,3967).property(\"card_number\",\"111.000.000.150\").property(\"amount\",117).property(\"payment_at\",\"2024-03-07 19:56:46-03\").as(\"3967\").\n",
    "addV(\"Payment\").property(id,4064).property(\"card_number\",\"111.000.001.014\").property(\"amount\",137).property(\"payment_at\",\"2024-03-08 09:18:49-03\").as(\"4064\").\n",
    "addV(\"Payment\").property(id,4067).property(\"card_number\",\"111.000.001.078\").property(\"amount\",124).property(\"payment_at\",\"2024-03-08 09:31:24-03\").as(\"4067\").\n",
    "addV(\"Payment\").property(id,4063).property(\"card_number\",\"111.000.001.014\").property(\"amount\",482).property(\"payment_at\",\"2024-03-08 09:37:19-03\").as(\"4063\").\n",
    "addV(\"Payment\").property(id,4044).property(\"card_number\",\"111.000.000.566\").property(\"amount\",118).property(\"payment_at\",\"2024-03-08 09:39:13-03\").as(\"4044\").\n",
    "addV(\"Payment\").property(id,4250).property(\"card_number\",\"111.000.002.135\").property(\"amount\",282).property(\"payment_at\",\"2024-03-08 12:22:31-03\").as(\"4250\").\n",
    "addV(\"Payment\").property(id,4248).property(\"card_number\",\"111.000.002.066\").property(\"amount\",225).property(\"payment_at\",\"2024-03-08 12:29:41-03\").as(\"4248\").\n",
    "addV(\"Payment\").property(id,4247).property(\"card_number\",\"111.000.002.066\").property(\"amount\",150).property(\"payment_at\",\"2024-03-08 12:36:39-03\").as(\"4247\").\n",
    "addV(\"Payment\").property(id,4265).property(\"card_number\",\"111.000.002.434\").property(\"amount\",204).property(\"payment_at\",\"2024-03-08 12:36:49-03\").as(\"4265\").\n",
    "addV(\"Payment\").property(id,4251).property(\"card_number\",\"111.000.002.135\").property(\"amount\",476).property(\"payment_at\",\"2024-03-08 12:45:14-03\").as(\"4251\").\n",
    "addV(\"Payment\").property(id,4266).property(\"card_number\",\"111.000.002.434\").property(\"amount\",51).property(\"payment_at\",\"2024-03-08 12:57:09-03\").as(\"4266\").\n",
    "addV(\"Payment\").property(id,4346).property(\"card_number\",\"111.000.001.540\").property(\"amount\",114).property(\"payment_at\",\"2024-03-08 14:39:11-03\").as(\"4346\").\n",
    "addV(\"Payment\").property(id,4449).property(\"card_number\",\"111.000.002.434\").property(\"amount\",116).property(\"payment_at\",\"2024-03-08 15:34:12-03\").as(\"4449\").\n",
    "addV(\"Payment\").property(id,4450).property(\"card_number\",\"111.000.002.434\").property(\"amount\",276).property(\"payment_at\",\"2024-03-08 15:35:22-03\").as(\"4450\").\n",
    "addV(\"Payment\").property(id,4451).property(\"card_number\",\"111.000.002.459\").property(\"amount\",474).property(\"payment_at\",\"2024-03-08 15:46:41-03\").as(\"4451\").\n",
    "addV(\"Payment\").property(id,4502).property(\"card_number\",\"111.000.002.132\").property(\"amount\",127).property(\"payment_at\",\"2024-03-08 16:26:38-03\").as(\"4502\").\n",
    "addV(\"Payment\").property(id,4503).property(\"card_number\",\"111.000.002.132\").property(\"amount\",448).property(\"payment_at\",\"2024-03-08 16:43:13-03\").as(\"4503\").\n",
    "addV(\"Payment\").property(id,4529).property(\"card_number\",\"111.000.000.515\").property(\"amount\",415).property(\"payment_at\",\"2024-03-08 17:46:02-03\").as(\"4529\").\n",
    "addV(\"Payment\").property(id,18850).property(\"card_number\",\"111.000.001.628\").property(\"amount\",26).property(\"payment_at\",\"2024-03-09 00:43:05-03\").as(\"18850\").\n",
    "addV(\"Payment\").property(id,18859).property(\"card_number\",\"111.000.001.945\").property(\"amount\",150).property(\"payment_at\",\"2024-03-09 01:56:52-03\").as(\"18859\").\n",
    "addV(\"Payment\").property(id,18871).property(\"card_number\",\"111.000.001.628\").property(\"amount\",32).property(\"payment_at\",\"2024-03-09 03:17:52-03\").as(\"18871\").\n",
    "addV(\"Payment\").property(id,18873).property(\"card_number\",\"111.000.001.878\").property(\"amount\",76).property(\"payment_at\",\"2024-03-09 03:45:07-03\").as(\"18873\").\n",
    "addV(\"Payment\").property(id,4719).property(\"card_number\",\"111.000.001.223\").property(\"amount\",437).property(\"payment_at\",\"2024-03-09 09:28:36-03\").as(\"4719\").\n",
    "addV(\"Payment\").property(id,4720).property(\"card_number\",\"111.000.001.223\").property(\"amount\",55).property(\"payment_at\",\"2024-03-09 09:33:02-03\").as(\"4720\").\n",
    "addV(\"Payment\").property(id,4686).property(\"card_number\",\"111.000.000.464\").property(\"amount\",54).property(\"payment_at\",\"2024-03-09 09:36:04-03\").as(\"4686\").\n",
    "addV(\"Payment\").property(id,4685).property(\"card_number\",\"111.000.000.464\").property(\"amount\",239).property(\"payment_at\",\"2024-03-09 09:51:55-03\").as(\"4685\").\n",
    "addV(\"Payment\").property(id,4826).property(\"card_number\",\"111.000.001.573\").property(\"amount\",102).property(\"payment_at\",\"2024-03-09 10:35:46-03\").as(\"4826\").\n",
    "addV(\"Payment\").property(id,4813).property(\"card_number\",\"111.000.001.223\").property(\"amount\",285).property(\"payment_at\",\"2024-03-09 10:37:29-03\").as(\"4813\").\n",
    "addV(\"Payment\").property(id,4899).property(\"card_number\",\"111.000.001.531\").property(\"amount\",42).property(\"payment_at\",\"2024-03-09 11:19:06-03\").as(\"4899\").\n",
    "addV(\"Payment\").property(id,4898).property(\"card_number\",\"111.000.001.531\").property(\"amount\",253).property(\"payment_at\",\"2024-03-09 11:25:35-03\").as(\"4898\").\n",
    "addV(\"Payment\").property(id,4879).property(\"card_number\",\"111.000.000.817\").property(\"amount\",294).property(\"payment_at\",\"2024-03-09 11:28:27-03\").as(\"4879\").\n",
    "addV(\"Payment\").property(id,4880).property(\"card_number\",\"111.000.000.817\").property(\"amount\",241).property(\"payment_at\",\"2024-03-09 11:44:21-03\").as(\"4880\").\n",
    "addV(\"Payment\").property(id,4900).property(\"card_number\",\"111.000.001.573\").property(\"amount\",110).property(\"payment_at\",\"2024-03-09 11:54:43-03\").as(\"4900\").\n",
    "addV(\"Payment\").property(id,4962).property(\"card_number\",\"111.000.000.515\").property(\"amount\",700).property(\"payment_at\",\"2024-03-09 13:20:08-03\").as(\"4962\").\n",
    "addV(\"Payment\").property(id,4977).property(\"card_number\",\"111.000.001.005\").property(\"amount\",617).property(\"payment_at\",\"2024-03-09 13:27:23-03\").as(\"4977\").\n",
    "addV(\"Payment\").property(id,4995).property(\"card_number\",\"111.000.001.530\").property(\"amount\",251).property(\"payment_at\",\"2024-03-09 13:27:46-03\").as(\"4995\").\n",
    "addV(\"Payment\").property(id,4963).property(\"card_number\",\"111.000.000.515\").property(\"amount\",32).property(\"payment_at\",\"2024-03-09 13:43:20-03\").as(\"4963\").\n",
    "addV(\"Payment\").property(id,4996).property(\"card_number\",\"111.000.001.530\").property(\"amount\",609).property(\"payment_at\",\"2024-03-09 13:45:27-03\").as(\"4996\").\n",
    "addV(\"Payment\").property(id,5050).property(\"card_number\",\"111.000.001.550\").property(\"amount\",43).property(\"payment_at\",\"2024-03-09 14:39:45-03\").as(\"5050\").\n",
    "addV(\"Payment\").property(id,5042).property(\"card_number\",\"111.000.001.060\").property(\"amount\",39).property(\"payment_at\",\"2024-03-09 14:39:58-03\").as(\"5042\").\n",
    "addV(\"Payment\").property(id,5086).property(\"card_number\",\"111.000.001.573\").property(\"amount\",251).property(\"payment_at\",\"2024-03-09 15:27:46-03\").as(\"5086\").\n",
    "addV(\"Payment\").property(id,5186).property(\"card_number\",\"111.000.002.066\").property(\"amount\",222).property(\"payment_at\",\"2024-03-09 16:20:04-03\").as(\"5186\").\n",
    "addV(\"Payment\").property(id,5158).property(\"card_number\",\"111.000.001.418\").property(\"amount\",86).property(\"payment_at\",\"2024-03-09 16:28:33-03\").as(\"5158\").\n",
    "addV(\"Payment\").property(id,5157).property(\"card_number\",\"111.000.001.418\").property(\"amount\",75).property(\"payment_at\",\"2024-03-09 16:29:41-03\").as(\"5157\").\n",
    "addV(\"Payment\").property(id,5187).property(\"card_number\",\"111.000.002.066\").property(\"amount\",816).property(\"payment_at\",\"2024-03-09 16:45:45-03\").as(\"5187\").\n",
    "addV(\"Payment\").property(id,5217).property(\"card_number\",\"111.000.001.467\").property(\"amount\",217).property(\"payment_at\",\"2024-03-09 17:22:26-03\").as(\"5217\").\n",
    "addV(\"Payment\").property(id,5216).property(\"card_number\",\"111.000.001.467\").property(\"amount\",43).property(\"payment_at\",\"2024-03-09 17:32:42-03\").as(\"5216\").\n",
    "addV(\"Payment\").property(id,5263).property(\"card_number\",\"111.000.001.878\").property(\"amount\",110).property(\"payment_at\",\"2024-03-09 18:29:46-03\").as(\"5263\").\n",
    "addV(\"Payment\").property(id,5232).property(\"card_number\",\"111.000.000.051\").property(\"amount\",241).property(\"payment_at\",\"2024-03-09 18:57:13-03\").as(\"5232\").\n",
    "addV(\"Payment\").property(id,18943).property(\"card_number\",\"111.000.002.191\").property(\"amount\",41).property(\"payment_at\",\"2024-03-09 23:31:42-03\").as(\"18943\").\n",
    "addV(\"Payment\").property(id,18956).property(\"card_number\",\"111.000.000.047\").property(\"amount\",37).property(\"payment_at\",\"2024-03-10 02:38:20-03\").as(\"18956\").\n",
    "addV(\"Payment\").property(id,18962).property(\"card_number\",\"111.000.000.677\").property(\"amount\",389).property(\"payment_at\",\"2024-03-10 02:53:13-03\").as(\"18962\").\n",
    "addV(\"Payment\").property(id,18969).property(\"card_number\",\"111.000.001.667\").property(\"amount\",35).property(\"payment_at\",\"2024-03-10 02:57:51-03\").as(\"18969\").\n",
    "addV(\"Payment\").property(id,19003).property(\"card_number\",\"111.000.001.418\").property(\"amount\",424).property(\"payment_at\",\"2024-03-10 05:24:15-03\").as(\"19003\").\n",
    "addV(\"Payment\").property(id,5317).property(\"card_number\",\"111.000.001.878\").property(\"amount\",385).property(\"payment_at\",\"2024-03-10 09:18:24-03\").as(\"5317\").\n",
    "addV(\"Payment\").property(id,5316).property(\"card_number\",\"111.000.001.878\").property(\"amount\",127).property(\"payment_at\",\"2024-03-10 09:53:22-03\").as(\"5316\").\n",
    "addV(\"Payment\").property(id,5327).property(\"card_number\",\"111.000.000.078\").property(\"amount\",299).property(\"payment_at\",\"2024-03-10 10:59:35-03\").as(\"5327\").\n",
    "addV(\"Payment\").property(id,5404).property(\"card_number\",\"111.000.001.467\").property(\"amount\",644).property(\"payment_at\",\"2024-03-10 11:53:17-03\").as(\"5404\").\n",
    "addV(\"Payment\").property(id,5405).property(\"card_number\",\"111.000.001.467\").property(\"amount\",146).property(\"payment_at\",\"2024-03-10 11:57:44-03\").as(\"5405\").\n",
    "addV(\"Payment\").property(id,5473).property(\"card_number\",\"111.000.000.718\").property(\"amount\",231).property(\"payment_at\",\"2024-03-10 13:28:41-03\").as(\"5473\").\n",
    "addV(\"Payment\").property(id,5616).property(\"card_number\",\"111.000.002.355\").property(\"amount\",767).property(\"payment_at\",\"2024-03-10 14:30:48-03\").as(\"5616\").\n",
    "addV(\"Payment\").property(id,5531).property(\"card_number\",\"111.000.000.051\").property(\"amount\",277).property(\"payment_at\",\"2024-03-10 14:35:09-03\").as(\"5531\")"
   ]
  },
  {
   "cell_type": "markdown",
   "id": "3a2c7244-b36c-4873-be90-895acc50b3f8",
   "metadata": {},
   "source": [
    "# Edge"
   ]
  },
  {
   "cell_type": "code",
   "execution_count": 22,
   "id": "ee12af1b-5577-4cfb-8351-4597d6dc6b5d",
   "metadata": {
    "tags": []
   },
   "outputs": [
    {
     "data": {
      "application/vnd.jupyter.widget-view+json": {
       "model_id": "96c58a6bdb24450b8556a2b3e1016cf9",
       "version_major": 2,
       "version_minor": 0
      },
      "text/plain": [
       "Tab(children=(Output(layout=Layout(max_height='600px', max_width='940px', overflow='scroll')), Output(layout=L…"
      ]
     },
     "metadata": {},
     "output_type": "display_data"
    }
   ],
   "source": [
    "%%gremlin\n",
    "\n",
    "g.V(142).addE(\"using\").to(__.V(\"TERM-38\")).property(id,\"142-TERM\").V(142).addE(\"to\").to(__.V(\"MOTOR\")).property(id,\"142-MCC\").\n",
    "V(147).addE(\"using\").to(__.V(\"TERM-41\")).property(id,\"147-TERM\").V(147).addE(\"to\").to(__.V(\"BOOK\")).property(id,\"147-MCC\").\n",
    "V(202).addE(\"using\").to(__.V(\"TERM-70\")).property(id,\"202-TERM\").V(202).addE(\"to\").to(__.V(\"BOOK\")).property(id,\"202-MCC\").\n",
    "V(179).addE(\"using\").to(__.V(\"TERM-23\")).property(id,\"179-TERM\").V(179).addE(\"to\").to(__.V(\"DRUG_STORE\")).property(id,\"179-MCC\").\n",
    "V(337).addE(\"using\").to(__.V(\"TERM-42\")).property(id,\"337-TERM\").V(337).addE(\"to\").to(__.V(\"COSMETIC\")).property(id,\"337-MCC\").\n",
    "V(338).addE(\"using\").to(__.V(\"TERM-75\")).property(id,\"338-TERM\").V(338).addE(\"to\").to(__.V(\"CINEMA\")).property(id,\"338-MCC\").\n",
    "V(505).addE(\"using\").to(__.V(\"TERM-32\")).property(id,\"505-TERM\").V(505).addE(\"to\").to(__.V(\"BEVERAGE\")).property(id,\"505-MCC\").\n",
    "V(479).addE(\"using\").to(__.V(\"TERM-27\")).property(id,\"479-TERM\").V(479).addE(\"to\").to(__.V(\"CINEMA\")).property(id,\"479-MCC\").\n",
    "V(506).addE(\"using\").to(__.V(\"TERM-80\")).property(id,\"506-TERM\").V(506).addE(\"to\").to(__.V(\"GAS\")).property(id,\"506-MCC\").\n",
    "V(478).addE(\"using\").to(__.V(\"TERM-20\")).property(id,\"478-TERM\").V(478).addE(\"to\").to(__.V(\"PARKING\")).property(id,\"478-MCC\").\n",
    "V(540).addE(\"using\").to(__.V(\"TERM-51\")).property(id,\"540-TERM\").V(540).addE(\"to\").to(__.V(\"CASH\")).property(id,\"540-MCC\").\n",
    "V(543).addE(\"using\").to(__.V(\"TERM-34\")).property(id,\"543-TERM\").V(543).addE(\"to\").to(__.V(\"BEVERAGE\")).property(id,\"543-MCC\").\n",
    "V(539).addE(\"using\").to(__.V(\"TERM-33\")).property(id,\"539-TERM\").V(539).addE(\"to\").to(__.V(\"STORE\")).property(id,\"539-MCC\").\n",
    "V(544).addE(\"using\").to(__.V(\"TERM-29\")).property(id,\"544-TERM\").V(544).addE(\"to\").to(__.V(\"LAUNDRY\")).property(id,\"544-MCC\").\n",
    "V(18080).addE(\"using\").to(__.V(\"TERM-69\")).property(id,\"18080-TERM\").V(18080).addE(\"to\").to(__.V(\"PARKING\")).property(id,\"18080-MCC\").\n",
    "V(18109).addE(\"using\").to(__.V(\"TERM-68\")).property(id,\"18109-TERM\").V(18109).addE(\"to\").to(__.V(\"BEVERAGE\")).property(id,\"18109-MCC\").\n",
    "V(18123).addE(\"using\").to(__.V(\"TERM-70\")).property(id,\"18123-TERM\").V(18123).addE(\"to\").to(__.V(\"FOOD\")).property(id,\"18123-MCC\").\n",
    "V(18130).addE(\"using\").to(__.V(\"TERM-24\")).property(id,\"18130-TERM\").V(18130).addE(\"to\").to(__.V(\"STORE\")).property(id,\"18130-MCC\").\n",
    "V(18168).addE(\"using\").to(__.V(\"TERM-6\")).property(id,\"18168-TERM\").V(18168).addE(\"to\").to(__.V(\"STORE\")).property(id,\"18168-MCC\").\n",
    "V(614).addE(\"using\").to(__.V(\"TERM-71\")).property(id,\"614-TERM\").V(614).addE(\"to\").to(__.V(\"PARKING\")).property(id,\"614-MCC\").\n",
    "V(632).addE(\"using\").to(__.V(\"TERM-17\")).property(id,\"632-TERM\").V(632).addE(\"to\").to(__.V(\"DRUG_STORE\")).property(id,\"632-MCC\").\n",
    "V(613).addE(\"using\").to(__.V(\"TERM-30\")).property(id,\"613-TERM\").V(613).addE(\"to\").to(__.V(\"COMPUTER\")).property(id,\"613-MCC\").\n",
    "V(633).addE(\"using\").to(__.V(\"TERM-84\")).property(id,\"633-TERM\").V(633).addE(\"to\").to(__.V(\"STORE\")).property(id,\"633-MCC\").\n",
    "V(730).addE(\"using\").to(__.V(\"TERM-7\")).property(id,\"730-TERM\").V(730).addE(\"to\").to(__.V(\"GIFT\")).property(id,\"730-MCC\").\n",
    "V(689).addE(\"using\").to(__.V(\"TERM-91\")).property(id,\"689-TERM\").V(689).addE(\"to\").to(__.V(\"BEVERAGE\")).property(id,\"689-MCC\").\n",
    "V(729).addE(\"using\").to(__.V(\"TERM-27\")).property(id,\"729-TERM\").V(729).addE(\"to\").to(__.V(\"GAS\")).property(id,\"729-MCC\").\n",
    "V(765).addE(\"using\").to(__.V(\"TERM-27\")).property(id,\"765-TERM\").V(765).addE(\"to\").to(__.V(\"SPORTING\")).property(id,\"765-MCC\").\n",
    "V(764).addE(\"using\").to(__.V(\"TERM-60\")).property(id,\"764-TERM\").V(764).addE(\"to\").to(__.V(\"MOTOR\")).property(id,\"764-MCC\").\n",
    "V(825).addE(\"using\").to(__.V(\"TERM-76\")).property(id,\"825-TERM\").V(825).addE(\"to\").to(__.V(\"GIFT\")).property(id,\"825-MCC\").\n",
    "V(826).addE(\"using\").to(__.V(\"TERM-33\")).property(id,\"826-TERM\").V(826).addE(\"to\").to(__.V(\"STORE\")).property(id,\"826-MCC\").\n",
    "V(837).addE(\"using\").to(__.V(\"TERM-44\")).property(id,\"837-TERM\").V(837).addE(\"to\").to(__.V(\"MOTOR\")).property(id,\"837-MCC\").\n",
    "V(838).addE(\"using\").to(__.V(\"TERM-8\")).property(id,\"838-TERM\").V(838).addE(\"to\").to(__.V(\"PARKING\")).property(id,\"838-MCC\").\n",
    "V(887).addE(\"using\").to(__.V(\"TERM-79\")).property(id,\"887-TERM\").V(887).addE(\"to\").to(__.V(\"STORE\")).property(id,\"887-MCC\").\n",
    "V(902).addE(\"using\").to(__.V(\"TERM-88\")).property(id,\"902-TERM\").V(902).addE(\"to\").to(__.V(\"GYM\")).property(id,\"902-MCC\").\n",
    "V(988).addE(\"using\").to(__.V(\"TERM-2\")).property(id,\"988-TERM\").V(988).addE(\"to\").to(__.V(\"COSMETIC\")).property(id,\"988-MCC\").\n",
    "V(1047).addE(\"using\").to(__.V(\"TERM-74\")).property(id,\"1047-TERM\").V(1047).addE(\"to\").to(__.V(\"GAS\")).property(id,\"1047-MCC\").\n",
    "V(1046).addE(\"using\").to(__.V(\"TERM-95\")).property(id,\"1046-TERM\").V(1046).addE(\"to\").to(__.V(\"PET\")).property(id,\"1046-MCC\").\n",
    "V(1116).addE(\"using\").to(__.V(\"TERM-66\")).property(id,\"1116-TERM\").V(1116).addE(\"to\").to(__.V(\"GYM\")).property(id,\"1116-MCC\").\n",
    "V(1117).addE(\"using\").to(__.V(\"TERM-89\")).property(id,\"1117-TERM\").V(1117).addE(\"to\").to(__.V(\"COSMETIC\")).property(id,\"1117-MCC\").\n",
    "V(1153).addE(\"using\").to(__.V(\"TERM-55\")).property(id,\"1153-TERM\").V(1153).addE(\"to\").to(__.V(\"DRUG_STORE\")).property(id,\"1153-MCC\").\n",
    "V(1152).addE(\"using\").to(__.V(\"TERM-70\")).property(id,\"1152-TERM\").V(1152).addE(\"to\").to(__.V(\"CASH\")).property(id,\"1152-MCC\").\n",
    "V(18210).addE(\"using\").to(__.V(\"TERM-44\")).property(id,\"18210-TERM\").V(18210).addE(\"to\").to(__.V(\"CINEMA\")).property(id,\"18210-MCC\").\n",
    "V(18215).addE(\"using\").to(__.V(\"TERM-87\")).property(id,\"18215-TERM\").V(18215).addE(\"to\").to(__.V(\"FOOD\")).property(id,\"18215-MCC\").\n",
    "V(1170).addE(\"using\").to(__.V(\"TERM-85\")).property(id,\"1170-TERM\").V(1170).addE(\"to\").to(__.V(\"GYM\")).property(id,\"1170-MCC\").\n",
    "V(1171).addE(\"using\").to(__.V(\"TERM-87\")).property(id,\"1171-TERM\").V(1171).addE(\"to\").to(__.V(\"LAUNDRY\")).property(id,\"1171-MCC\").\n",
    "V(1325).addE(\"using\").to(__.V(\"TERM-97\")).property(id,\"1325-TERM\").V(1325).addE(\"to\").to(__.V(\"CASH\")).property(id,\"1325-MCC\").\n",
    "V(1319).addE(\"using\").to(__.V(\"TERM-25\")).property(id,\"1319-TERM\").V(1319).addE(\"to\").to(__.V(\"MOTOR\")).property(id,\"1319-MCC\").\n",
    "V(1373).addE(\"using\").to(__.V(\"TERM-75\")).property(id,\"1373-TERM\").V(1373).addE(\"to\").to(__.V(\"PARKING\")).property(id,\"1373-MCC\").\n",
    "V(1450).addE(\"using\").to(__.V(\"TERM-34\")).property(id,\"1450-TERM\").V(1450).addE(\"to\").to(__.V(\"FOOD\")).property(id,\"1450-MCC\").\n",
    "V(1411).addE(\"using\").to(__.V(\"TERM-74\")).property(id,\"1411-TERM\").V(1411).addE(\"to\").to(__.V(\"BOOK\")).property(id,\"1411-MCC\").\n",
    "V(1451).addE(\"using\").to(__.V(\"TERM-30\")).property(id,\"1451-TERM\").V(1451).addE(\"to\").to(__.V(\"COMPUTER\")).property(id,\"1451-MCC\").\n",
    "V(1502).addE(\"using\").to(__.V(\"TERM-93\")).property(id,\"1502-TERM\").V(1502).addE(\"to\").to(__.V(\"PARKING\")).property(id,\"1502-MCC\").\n",
    "V(1566).addE(\"using\").to(__.V(\"TERM-51\")).property(id,\"1566-TERM\").V(1566).addE(\"to\").to(__.V(\"GYM\")).property(id,\"1566-MCC\").\n",
    "V(1589).addE(\"using\").to(__.V(\"TERM-94\")).property(id,\"1589-TERM\").V(1589).addE(\"to\").to(__.V(\"SPORTING\")).property(id,\"1589-MCC\").\n",
    "V(1588).addE(\"using\").to(__.V(\"TERM-78\")).property(id,\"1588-TERM\").V(1588).addE(\"to\").to(__.V(\"GYM\")).property(id,\"1588-MCC\").\n",
    "V(1702).addE(\"using\").to(__.V(\"TERM-79\")).property(id,\"1702-TERM\").V(1702).addE(\"to\").to(__.V(\"STORE\")).property(id,\"1702-MCC\").\n",
    "V(1703).addE(\"using\").to(__.V(\"TERM-13\")).property(id,\"1703-TERM\").V(1703).addE(\"to\").to(__.V(\"LAUNDRY\")).property(id,\"1703-MCC\").\n",
    "V(1709).addE(\"using\").to(__.V(\"TERM-54\")).property(id,\"1709-TERM\").V(1709).addE(\"to\").to(__.V(\"DRUG_STORE\")).property(id,\"1709-MCC\").\n",
    "V(18289).addE(\"using\").to(__.V(\"TERM-6\")).property(id,\"18289-TERM\").V(18289).addE(\"to\").to(__.V(\"PARKING\")).property(id,\"18289-MCC\").\n",
    "V(18301).addE(\"using\").to(__.V(\"TERM-9\")).property(id,\"18301-TERM\").V(18301).addE(\"to\").to(__.V(\"BEVERAGE\")).property(id,\"18301-MCC\").\n",
    "V(18333).addE(\"using\").to(__.V(\"TERM-68\")).property(id,\"18333-TERM\").V(18333).addE(\"to\").to(__.V(\"STORE\")).property(id,\"18333-MCC\").\n",
    "V(18387).addE(\"using\").to(__.V(\"TERM-56\")).property(id,\"18387-TERM\").V(18387).addE(\"to\").to(__.V(\"BEVERAGE\")).property(id,\"18387-MCC\").\n",
    "V(1768).addE(\"using\").to(__.V(\"TERM-2\")).property(id,\"1768-TERM\").V(1768).addE(\"to\").to(__.V(\"MOTOR\")).property(id,\"1768-MCC\").\n",
    "V(1798).addE(\"using\").to(__.V(\"TERM-96\")).property(id,\"1798-TERM\").V(1798).addE(\"to\").to(__.V(\"CINEMA\")).property(id,\"1798-MCC\").\n",
    "V(1781).addE(\"using\").to(__.V(\"TERM-80\")).property(id,\"1781-TERM\").V(1781).addE(\"to\").to(__.V(\"COMPUTER\")).property(id,\"1781-MCC\").\n",
    "V(1797).addE(\"using\").to(__.V(\"TERM-97\")).property(id,\"1797-TERM\").V(1797).addE(\"to\").to(__.V(\"GYM\")).property(id,\"1797-MCC\").\n",
    "V(1782).addE(\"using\").to(__.V(\"TERM-86\")).property(id,\"1782-TERM\").V(1782).addE(\"to\").to(__.V(\"DRUG_STORE\")).property(id,\"1782-MCC\").\n",
    "V(1840).addE(\"using\").to(__.V(\"TERM-95\")).property(id,\"1840-TERM\").V(1840).addE(\"to\").to(__.V(\"LAUNDRY\")).property(id,\"1840-MCC\").\n",
    "V(1841).addE(\"using\").to(__.V(\"TERM-61\")).property(id,\"1841-TERM\").V(1841).addE(\"to\").to(__.V(\"GYM\")).property(id,\"1841-MCC\").\n",
    "V(1934).addE(\"using\").to(__.V(\"TERM-61\")).property(id,\"1934-TERM\").V(1934).addE(\"to\").to(__.V(\"CASH\")).property(id,\"1934-MCC\").\n",
    "V(1933).addE(\"using\").to(__.V(\"TERM-9\")).property(id,\"1933-TERM\").V(1933).addE(\"to\").to(__.V(\"SPORTING\")).property(id,\"1933-MCC\").\n",
    "V(1908).addE(\"using\").to(__.V(\"TERM-78\")).property(id,\"1908-TERM\").V(1908).addE(\"to\").to(__.V(\"CINEMA\")).property(id,\"1908-MCC\").\n",
    "V(1948).addE(\"using\").to(__.V(\"TERM-63\")).property(id,\"1948-TERM\").V(1948).addE(\"to\").to(__.V(\"STORE\")).property(id,\"1948-MCC\").\n",
    "V(1947).addE(\"using\").to(__.V(\"TERM-27\")).property(id,\"1947-TERM\").V(1947).addE(\"to\").to(__.V(\"BOOK\")).property(id,\"1947-MCC\").\n",
    "V(2070).addE(\"using\").to(__.V(\"TERM-71\")).property(id,\"2070-TERM\").V(2070).addE(\"to\").to(__.V(\"GYM\")).property(id,\"2070-MCC\").\n",
    "V(2104).addE(\"using\").to(__.V(\"TERM-9\")).property(id,\"2104-TERM\").V(2104).addE(\"to\").to(__.V(\"DRUG_STORE\")).property(id,\"2104-MCC\").\n",
    "V(2103).addE(\"using\").to(__.V(\"TERM-90\")).property(id,\"2103-TERM\").V(2103).addE(\"to\").to(__.V(\"DRUG_STORE\")).property(id,\"2103-MCC\").\n",
    "V(2071).addE(\"using\").to(__.V(\"TERM-31\")).property(id,\"2071-TERM\").V(2071).addE(\"to\").to(__.V(\"BOOK\")).property(id,\"2071-MCC\").\n",
    "V(2221).addE(\"using\").to(__.V(\"TERM-89\")).property(id,\"2221-TERM\").V(2221).addE(\"to\").to(__.V(\"LAUNDRY\")).property(id,\"2221-MCC\").\n",
    "V(2222).addE(\"using\").to(__.V(\"TERM-22\")).property(id,\"2222-TERM\").V(2222).addE(\"to\").to(__.V(\"LAUNDRY\")).property(id,\"2222-MCC\").\n",
    "V(18485).addE(\"using\").to(__.V(\"TERM-75\")).property(id,\"18485-TERM\").V(18485).addE(\"to\").to(__.V(\"FOOD\")).property(id,\"18485-MCC\").\n",
    "V(2373).addE(\"using\").to(__.V(\"TERM-6\")).property(id,\"2373-TERM\").V(2373).addE(\"to\").to(__.V(\"BEVERAGE\")).property(id,\"2373-MCC\").\n",
    "V(2340).addE(\"using\").to(__.V(\"TERM-81\")).property(id,\"2340-TERM\").V(2340).addE(\"to\").to(__.V(\"CINEMA\")).property(id,\"2340-MCC\").\n",
    "V(2335).addE(\"using\").to(__.V(\"TERM-100\")).property(id,\"2335-TERM\").V(2335).addE(\"to\").to(__.V(\"COSMETIC\")).property(id,\"2335-MCC\").\n",
    "V(2341).addE(\"using\").to(__.V(\"TERM-34\")).property(id,\"2341-TERM\").V(2341).addE(\"to\").to(__.V(\"SPORTING\")).property(id,\"2341-MCC\").\n",
    "V(2334).addE(\"using\").to(__.V(\"TERM-37\")).property(id,\"2334-TERM\").V(2334).addE(\"to\").to(__.V(\"SPORTING\")).property(id,\"2334-MCC\").\n",
    "V(2403).addE(\"using\").to(__.V(\"TERM-63\")).property(id,\"2403-TERM\").V(2403).addE(\"to\").to(__.V(\"COSMETIC\")).property(id,\"2403-MCC\").\n",
    "V(2404).addE(\"using\").to(__.V(\"TERM-28\")).property(id,\"2404-TERM\").V(2404).addE(\"to\").to(__.V(\"COMPUTER\")).property(id,\"2404-MCC\").\n",
    "V(2554).addE(\"using\").to(__.V(\"TERM-86\")).property(id,\"2554-TERM\").V(2554).addE(\"to\").to(__.V(\"GAS\")).property(id,\"2554-MCC\").\n",
    "V(2555).addE(\"using\").to(__.V(\"TERM-34\")).property(id,\"2555-TERM\").V(2555).addE(\"to\").to(__.V(\"CASH\")).property(id,\"2555-MCC\").\n",
    "V(2571).addE(\"using\").to(__.V(\"TERM-99\")).property(id,\"2571-TERM\").V(2571).addE(\"to\").to(__.V(\"BOOK\")).property(id,\"2571-MCC\").\n",
    "V(2570).addE(\"using\").to(__.V(\"TERM-57\")).property(id,\"2570-TERM\").V(2570).addE(\"to\").to(__.V(\"PET\")).property(id,\"2570-MCC\").\n",
    "V(2670).addE(\"using\").to(__.V(\"TERM-48\")).property(id,\"2670-TERM\").V(2670).addE(\"to\").to(__.V(\"GIFT\")).property(id,\"2670-MCC\").\n",
    "V(2695).addE(\"using\").to(__.V(\"TERM-29\")).property(id,\"2695-TERM\").V(2695).addE(\"to\").to(__.V(\"STORE\")).property(id,\"2695-MCC\").\n",
    "V(2738).addE(\"using\").to(__.V(\"TERM-3\")).property(id,\"2738-TERM\").V(2738).addE(\"to\").to(__.V(\"LAUNDRY\")).property(id,\"2738-MCC\").\n",
    "V(2754).addE(\"using\").to(__.V(\"TERM-75\")).property(id,\"2754-TERM\").V(2754).addE(\"to\").to(__.V(\"CASH\")).property(id,\"2754-MCC\").\n",
    "V(2753).addE(\"using\").to(__.V(\"TERM-66\")).property(id,\"2753-TERM\").V(2753).addE(\"to\").to(__.V(\"DRUG_STORE\")).property(id,\"2753-MCC\").\n",
    "V(2739).addE(\"using\").to(__.V(\"TERM-74\")).property(id,\"2739-TERM\").V(2739).addE(\"to\").to(__.V(\"PET\")).property(id,\"2739-MCC\").\n",
    "V(18520).addE(\"using\").to(__.V(\"TERM-67\")).property(id,\"18520-TERM\").V(18520).addE(\"to\").to(__.V(\"PARKING\")).property(id,\"18520-MCC\").\n",
    "V(2893).addE(\"using\").to(__.V(\"TERM-34\")).property(id,\"2893-TERM\").V(2893).addE(\"to\").to(__.V(\"LAUNDRY\")).property(id,\"2893-MCC\")"
   ]
  },
  {
   "cell_type": "code",
   "execution_count": 23,
   "id": "0f8dcbd4-c494-481b-94e8-c75136162250",
   "metadata": {
    "tags": []
   },
   "outputs": [
    {
     "data": {
      "application/vnd.jupyter.widget-view+json": {
       "model_id": "f45c977443f54fb3ac3cbe277d7095b8",
       "version_major": 2,
       "version_minor": 0
      },
      "text/plain": [
       "Tab(children=(Output(layout=Layout(max_height='600px', max_width='940px', overflow='scroll')), Output(layout=L…"
      ]
     },
     "metadata": {},
     "output_type": "display_data"
    }
   ],
   "source": [
    "%%gremlin\n",
    "\n",
    "g.V(142).addE(\"pay_with\").to(__.V(\"111.000.002.191\")).property(id,\"142-CARD\").\n",
    "V(147).addE(\"pay_with\").to(__.V(\"111.000.000.051\")).property(id,\"147-CARD\").\n",
    "V(202).addE(\"pay_with\").to(__.V(\"111.000.002.179\")).property(id,\"202-CARD\").\n",
    "V(179).addE(\"pay_with\").to(__.V(\"111.000.001.343\")).property(id,\"179-CARD\").\n",
    "V(337).addE(\"pay_with\").to(__.V(\"111.000.000.529\")).property(id,\"337-CARD\").\n",
    "V(338).addE(\"pay_with\").to(__.V(\"111.000.000.529\")).property(id,\"338-CARD\").\n",
    "V(505).addE(\"pay_with\").to(__.V(\"111.000.002.066\")).property(id,\"505-CARD\").\n",
    "V(479).addE(\"pay_with\").to(__.V(\"111.000.000.554\")).property(id,\"479-CARD\").\n",
    "V(506).addE(\"pay_with\").to(__.V(\"111.000.002.066\")).property(id,\"506-CARD\").\n",
    "V(478).addE(\"pay_with\").to(__.V(\"111.000.000.554\")).property(id,\"478-CARD\").\n",
    "V(540).addE(\"pay_with\").to(__.V(\"111.000.002.135\")).property(id,\"540-CARD\").\n",
    "V(543).addE(\"pay_with\").to(__.V(\"111.000.002.305\")).property(id,\"543-CARD\").\n",
    "V(539).addE(\"pay_with\").to(__.V(\"111.000.002.135\")).property(id,\"539-CARD\").\n",
    "V(544).addE(\"pay_with\").to(__.V(\"111.000.002.305\")).property(id,\"544-CARD\").\n",
    "V(18080).addE(\"pay_with\").to(__.V(\"111.000.000.490\")).property(id,\"18080-CARD\").\n",
    "V(18109).addE(\"pay_with\").to(__.V(\"111.000.002.283\")).property(id,\"18109-CARD\").\n",
    "V(18123).addE(\"pay_with\").to(__.V(\"111.000.000.877\")).property(id,\"18123-CARD\").\n",
    "V(18130).addE(\"pay_with\").to(__.V(\"111.000.000.266\")).property(id,\"18130-CARD\").\n",
    "V(18168).addE(\"pay_with\").to(__.V(\"111.000.000.464\")).property(id,\"18168-CARD\").\n",
    "V(614).addE(\"pay_with\").to(__.V(\"111.000.000.677\")).property(id,\"614-CARD\").\n",
    "V(632).addE(\"pay_with\").to(__.V(\"111.000.001.573\")).property(id,\"632-CARD\").\n",
    "V(613).addE(\"pay_with\").to(__.V(\"111.000.000.677\")).property(id,\"613-CARD\").\n",
    "V(633).addE(\"pay_with\").to(__.V(\"111.000.001.573\")).property(id,\"633-CARD\").\n",
    "V(730).addE(\"pay_with\").to(__.V(\"111.000.002.479\")).property(id,\"730-CARD\").\n",
    "V(689).addE(\"pay_with\").to(__.V(\"111.000.001.219\")).property(id,\"689-CARD\").\n",
    "V(729).addE(\"pay_with\").to(__.V(\"111.000.002.479\")).property(id,\"729-CARD\").\n",
    "V(765).addE(\"pay_with\").to(__.V(\"111.000.000.093\")).property(id,\"765-CARD\").\n",
    "V(764).addE(\"pay_with\").to(__.V(\"111.000.000.093\")).property(id,\"764-CARD\").\n",
    "V(825).addE(\"pay_with\").to(__.V(\"111.000.000.326\")).property(id,\"825-CARD\").\n",
    "V(826).addE(\"pay_with\").to(__.V(\"111.000.000.326\")).property(id,\"826-CARD\").\n",
    "V(837).addE(\"pay_with\").to(__.V(\"111.000.000.677\")).property(id,\"837-CARD\").\n",
    "V(838).addE(\"pay_with\").to(__.V(\"111.000.000.677\")).property(id,\"838-CARD\").\n",
    "V(887).addE(\"pay_with\").to(__.V(\"111.000.002.135\")).property(id,\"887-CARD\").\n",
    "V(902).addE(\"pay_with\").to(__.V(\"111.000.002.459\")).property(id,\"902-CARD\").\n",
    "V(988).addE(\"pay_with\").to(__.V(\"111.000.001.060\")).property(id,\"988-CARD\").\n",
    "V(1047).addE(\"pay_with\").to(__.V(\"111.000.001.819\")).property(id,\"1047-CARD\").\n",
    "V(1046).addE(\"pay_with\").to(__.V(\"111.000.001.819\")).property(id,\"1046-CARD\").\n",
    "V(1116).addE(\"pay_with\").to(__.V(\"111.000.000.047\")).property(id,\"1116-CARD\").\n",
    "V(1117).addE(\"pay_with\").to(__.V(\"111.000.000.047\")).property(id,\"1117-CARD\").\n",
    "V(1153).addE(\"pay_with\").to(__.V(\"111.000.002.155\")).property(id,\"1153-CARD\").\n",
    "V(1152).addE(\"pay_with\").to(__.V(\"111.000.002.155\")).property(id,\"1152-CARD\").\n",
    "V(18210).addE(\"pay_with\").to(__.V(\"111.000.002.283\")).property(id,\"18210-CARD\").\n",
    "V(18215).addE(\"pay_with\").to(__.V(\"111.000.001.573\")).property(id,\"18215-CARD\").\n",
    "V(1170).addE(\"pay_with\").to(__.V(\"111.000.000.464\")).property(id,\"1170-CARD\").\n",
    "V(1171).addE(\"pay_with\").to(__.V(\"111.000.000.464\")).property(id,\"1171-CARD\").\n",
    "V(1325).addE(\"pay_with\").to(__.V(\"111.000.001.223\")).property(id,\"1325-CARD\").\n",
    "V(1319).addE(\"pay_with\").to(__.V(\"111.000.000.863\")).property(id,\"1319-CARD\").\n",
    "V(1373).addE(\"pay_with\").to(__.V(\"111.000.001.641\")).property(id,\"1373-CARD\").\n",
    "V(1450).addE(\"pay_with\").to(__.V(\"111.000.002.191\")).property(id,\"1450-CARD\").\n",
    "V(1411).addE(\"pay_with\").to(__.V(\"111.000.000.683\")).property(id,\"1411-CARD\").\n",
    "V(1451).addE(\"pay_with\").to(__.V(\"111.000.002.191\")).property(id,\"1451-CARD\").\n",
    "V(1502).addE(\"pay_with\").to(__.V(\"111.000.002.355\")).property(id,\"1502-CARD\").\n",
    "V(1566).addE(\"pay_with\").to(__.V(\"111.000.001.794\")).property(id,\"1566-CARD\").\n",
    "V(1589).addE(\"pay_with\").to(__.V(\"111.000.002.434\")).property(id,\"1589-CARD\").\n",
    "V(1588).addE(\"pay_with\").to(__.V(\"111.000.002.434\")).property(id,\"1588-CARD\").\n",
    "V(1702).addE(\"pay_with\").to(__.V(\"111.000.001.658\")).property(id,\"1702-CARD\").\n",
    "V(1703).addE(\"pay_with\").to(__.V(\"111.000.001.658\")).property(id,\"1703-CARD\").\n",
    "V(1709).addE(\"pay_with\").to(__.V(\"111.000.002.066\")).property(id,\"1709-CARD\").\n",
    "V(18289).addE(\"pay_with\").to(__.V(\"111.000.001.878\")).property(id,\"18289-CARD\").\n",
    "V(18301).addE(\"pay_with\").to(__.V(\"111.000.001.530\")).property(id,\"18301-CARD\").\n",
    "V(18333).addE(\"pay_with\").to(__.V(\"111.000.000.515\")).property(id,\"18333-CARD\").\n",
    "V(18387).addE(\"pay_with\").to(__.V(\"111.000.001.078\")).property(id,\"18387-CARD\").\n",
    "V(1768).addE(\"pay_with\").to(__.V(\"111.000.002.057\")).property(id,\"1768-CARD\").\n",
    "V(1798).addE(\"pay_with\").to(__.V(\"111.000.000.945\")).property(id,\"1798-CARD\").\n",
    "V(1781).addE(\"pay_with\").to(__.V(\"111.000.000.150\")).property(id,\"1781-CARD\").\n",
    "V(1797).addE(\"pay_with\").to(__.V(\"111.000.000.945\")).property(id,\"1797-CARD\").\n",
    "V(1782).addE(\"pay_with\").to(__.V(\"111.000.000.150\")).property(id,\"1782-CARD\").\n",
    "V(1840).addE(\"pay_with\").to(__.V(\"111.000.000.464\")).property(id,\"1840-CARD\").\n",
    "V(1841).addE(\"pay_with\").to(__.V(\"111.000.000.464\")).property(id,\"1841-CARD\").\n",
    "V(1934).addE(\"pay_with\").to(__.V(\"111.000.002.479\")).property(id,\"1934-CARD\").\n",
    "V(1933).addE(\"pay_with\").to(__.V(\"111.000.002.479\")).property(id,\"1933-CARD\").\n",
    "V(1908).addE(\"pay_with\").to(__.V(\"111.000.000.529\")).property(id,\"1908-CARD\").\n",
    "V(1948).addE(\"pay_with\").to(__.V(\"111.000.001.223\")).property(id,\"1948-CARD\").\n",
    "V(1947).addE(\"pay_with\").to(__.V(\"111.000.001.223\")).property(id,\"1947-CARD\").\n",
    "V(2070).addE(\"pay_with\").to(__.V(\"111.000.000.490\")).property(id,\"2070-CARD\").\n",
    "V(2104).addE(\"pay_with\").to(__.V(\"111.000.002.155\")).property(id,\"2104-CARD\").\n",
    "V(2103).addE(\"pay_with\").to(__.V(\"111.000.002.155\")).property(id,\"2103-CARD\").\n",
    "V(2071).addE(\"pay_with\").to(__.V(\"111.000.000.490\")).property(id,\"2071-CARD\").\n",
    "V(2221).addE(\"pay_with\").to(__.V(\"111.000.001.878\")).property(id,\"2221-CARD\").\n",
    "V(2222).addE(\"pay_with\").to(__.V(\"111.000.001.878\")).property(id,\"2222-CARD\").\n",
    "V(18485).addE(\"pay_with\").to(__.V(\"111.000.001.550\")).property(id,\"18485-CARD\").\n",
    "V(2373).addE(\"pay_with\").to(__.V(\"111.000.002.434\")).property(id,\"2373-CARD\").\n",
    "V(2340).addE(\"pay_with\").to(__.V(\"111.000.001.111\")).property(id,\"2340-CARD\").\n",
    "V(2335).addE(\"pay_with\").to(__.V(\"111.000.000.817\")).property(id,\"2335-CARD\").\n",
    "V(2341).addE(\"pay_with\").to(__.V(\"111.000.001.111\")).property(id,\"2341-CARD\").\n",
    "V(2334).addE(\"pay_with\").to(__.V(\"111.000.000.817\")).property(id,\"2334-CARD\").\n",
    "V(2403).addE(\"pay_with\").to(__.V(\"111.000.001.060\")).property(id,\"2403-CARD\").\n",
    "V(2404).addE(\"pay_with\").to(__.V(\"111.000.001.060\")).property(id,\"2404-CARD\").\n",
    "V(2554).addE(\"pay_with\").to(__.V(\"111.000.001.817\")).property(id,\"2554-CARD\").\n",
    "V(2555).addE(\"pay_with\").to(__.V(\"111.000.001.817\")).property(id,\"2555-CARD\").\n",
    "V(2571).addE(\"pay_with\").to(__.V(\"111.000.000.181\")).property(id,\"2571-CARD\").\n",
    "V(2570).addE(\"pay_with\").to(__.V(\"111.000.000.181\")).property(id,\"2570-CARD\").\n",
    "V(2670).addE(\"pay_with\").to(__.V(\"111.000.001.530\")).property(id,\"2670-CARD\").\n",
    "V(2695).addE(\"pay_with\").to(__.V(\"111.000.000.464\")).property(id,\"2695-CARD\").\n",
    "V(2738).addE(\"pay_with\").to(__.V(\"111.000.000.093\")).property(id,\"2738-CARD\").\n",
    "V(2754).addE(\"pay_with\").to(__.V(\"111.000.000.683\")).property(id,\"2754-CARD\").\n",
    "V(2753).addE(\"pay_with\").to(__.V(\"111.000.000.683\")).property(id,\"2753-CARD\").\n",
    "V(2739).addE(\"pay_with\").to(__.V(\"111.000.000.093\")).property(id,\"2739-CARD\").\n",
    "V(18520).addE(\"pay_with\").to(__.V(\"111.000.001.272\")).property(id,\"18520-CARD\").\n",
    "V(2893).addE(\"pay_with\").to(__.V(\"111.000.002.305\")).property(id,\"2893-CARD\")"
   ]
  },
  {
   "cell_type": "code",
   "execution_count": 150,
   "id": "66609cdc-2336-4b60-ae35-31de8a9c55c2",
   "metadata": {
    "tags": []
   },
   "outputs": [
    {
     "data": {
      "application/vnd.jupyter.widget-view+json": {
       "model_id": "ca67d871a43a4c048b1bf22d66fbfa91",
       "version_major": 2,
       "version_minor": 0
      },
      "text/plain": [
       "Tab(children=(Output(layout=Layout(max_height='600px', max_width='940px', overflow='scroll')), Output(layout=L…"
      ]
     },
     "metadata": {},
     "output_type": "display_data"
    }
   ],
   "source": [
    "%%gremlin\n",
    "g.V().groupCount()\n",
    "    .by(label)\n",
    "    .unfold()"
   ]
  },
  {
   "cell_type": "code",
   "execution_count": 143,
   "id": "39c24314-bad8-4245-b8d1-da8021e5e7ac",
   "metadata": {
    "tags": []
   },
   "outputs": [
    {
     "data": {
      "application/vnd.jupyter.widget-view+json": {
       "model_id": "dcce9262de374f1aac55f851dd4bff3f",
       "version_major": 2,
       "version_minor": 0
      },
      "text/plain": [
       "Tab(children=(Output(layout=Layout(max_height='600px', max_width='940px', overflow='scroll')), Force(network=<…"
      ]
     },
     "metadata": {},
     "output_type": "display_data"
    }
   ],
   "source": [
    "%%gremlin\n",
    "g.V().valueMap(true)"
   ]
  },
  {
   "cell_type": "code",
   "execution_count": 149,
   "id": "8e187bc8-c3ce-4186-b731-b0bc4c702c79",
   "metadata": {},
   "outputs": [
    {
     "data": {
      "application/vnd.jupyter.widget-view+json": {
       "model_id": "235aa216a64146e9a04300a5b09d863a",
       "version_major": 2,
       "version_minor": 0
      },
      "text/plain": [
       "Tab(children=(Output(layout=Layout(max_height='600px', max_width='940px', overflow='scroll')), Output(layout=L…"
      ]
     },
     "metadata": {},
     "output_type": "display_data"
    }
   ],
   "source": [
    "%%gremlin\n",
    "g.V().hasLabel('person').drop().iterate();\n",
    "g.V().hasLabel('terminal').drop().iterate();"
   ]
  },
  {
   "cell_type": "code",
   "execution_count": null,
   "id": "cb814b13-8dca-4f66-990e-949f9d5ef392",
   "metadata": {},
   "outputs": [],
   "source": []
  }
 ],
 "metadata": {
  "kernelspec": {
   "display_name": "Python 3",
   "language": "python",
   "name": "python3"
  },
  "language_info": {
   "codemirror_mode": {
    "name": "ipython",
    "version": 3
   },
   "file_extension": ".py",
   "mimetype": "text/x-python",
   "name": "python",
   "nbconvert_exporter": "python",
   "pygments_lexer": "ipython3",
   "version": "3.8.10"
  }
 },
 "nbformat": 4,
 "nbformat_minor": 5
}
