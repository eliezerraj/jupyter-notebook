{
 "cells": [
  {
   "cell_type": "code",
   "execution_count": 1,
   "id": "0d1717cf-a878-40f7-a9c6-fa6a44df0275",
   "metadata": {
    "tags": []
   },
   "outputs": [
    {
     "name": "stdout",
     "output_type": "stream",
     "text": [
      "4.4.2\n"
     ]
    }
   ],
   "source": [
    "graph_notebook_version"
   ]
  },
  {
   "cell_type": "code",
   "execution_count": 2,
   "id": "f5b6f70a-dc03-4d64-b3d9-13774ae86c9a",
   "metadata": {
    "tags": []
   },
   "outputs": [
    {
     "name": "stdout",
     "output_type": "stream",
     "text": [
      "set notebook config to:\n",
      "{\n",
      "    \"host\": \"127.0.0.1\",\n",
      "    \"port\": 8182,\n",
      "    \"proxy_host\": \"\",\n",
      "    \"proxy_port\": 8182,\n",
      "    \"ssl\": false,\n",
      "    \"ssl_verify\": true,\n",
      "    \"sparql\": {\n",
      "        \"path\": \"\"\n",
      "    },\n",
      "    \"gremlin\": {\n",
      "        \"traversal_source\": \"g\",\n",
      "        \"username\": \"\",\n",
      "        \"password\": \"\",\n",
      "        \"message_serializer\": \"graphsonv3\"\n",
      "    },\n",
      "    \"neo4j\": {\n",
      "        \"username\": \"neo4j\",\n",
      "        \"password\": \"password\",\n",
      "        \"auth\": true,\n",
      "        \"database\": null\n",
      "    }\n",
      "}\n"
     ]
    },
    {
     "data": {
      "text/plain": [
       "<graph_notebook.configuration.generate_config.Configuration at 0x7f7ff660c880>"
      ]
     },
     "execution_count": 2,
     "metadata": {},
     "output_type": "execute_result"
    }
   ],
   "source": [
    "%%graph_notebook_config\n",
    "{\n",
    "  \"host\": \"127.0.0.1\",\n",
    "  \"port\": 8182,\n",
    "  \"ssl\": false,\n",
    "  \"gremlin\": {\n",
    "    \"traversal_source\": \"g\",\n",
    "    \"username\": \"\",\n",
    "    \"password\": \"\",\n",
    "    \"message_serializer\": \"graphsonv3\"\n",
    "  }\n",
    "}"
   ]
  },
  {
   "cell_type": "markdown",
   "id": "a999a043-edcb-402e-8801-c65c041c2b2a",
   "metadata": {
    "tags": []
   },
   "source": [
    "# Show Vertex Detail"
   ]
  },
  {
   "cell_type": "code",
   "execution_count": 3,
   "id": "8c66807b-3026-4218-b164-b00fbede8a8f",
   "metadata": {
    "tags": []
   },
   "outputs": [
    {
     "data": {
      "application/vnd.jupyter.widget-view+json": {
       "model_id": "e016a524f8db4025b084e5ec0cfc9e42",
       "version_major": 2,
       "version_minor": 0
      },
      "text/plain": [
       "Tab(children=(Output(layout=Layout(overflow='scroll')),), _titles={'0': 'Error'})"
      ]
     },
     "metadata": {},
     "output_type": "display_data"
    }
   ],
   "source": [
    "%%gremlin\n",
    "g.V('P-59').valueMap(true)"
   ]
  },
  {
   "cell_type": "markdown",
   "id": "486e4cce-960a-4565-8325-399dfffe7e95",
   "metadata": {},
   "source": [
    "# Get 2 row from Vertex"
   ]
  },
  {
   "cell_type": "code",
   "execution_count": 4,
   "id": "b8b8dab3-0463-43b3-a235-ca3231fc886d",
   "metadata": {
    "tags": []
   },
   "outputs": [
    {
     "data": {
      "application/vnd.jupyter.widget-view+json": {
       "model_id": "49ad7bf6ee0c4472b7f2683c49bb7179",
       "version_major": 2,
       "version_minor": 0
      },
      "text/plain": [
       "Tab(children=(Output(layout=Layout(max_height='600px', max_width='940px', overflow='scroll')), Force(network=<…"
      ]
     },
     "metadata": {},
     "output_type": "display_data"
    }
   ],
   "source": [
    "%%gremlin\n",
    "g.V().has('Card','card_number', within('111.000.001.603','111.000.000.718')).valueMap(true)"
   ]
  },
  {
   "cell_type": "markdown",
   "id": "cc9ddc98-09e3-438d-8341-c895fa46cf14",
   "metadata": {},
   "source": [
    "# Show Edges"
   ]
  },
  {
   "cell_type": "code",
   "execution_count": 5,
   "id": "db31498c-6497-495a-9c8c-61174d969b41",
   "metadata": {
    "tags": []
   },
   "outputs": [
    {
     "data": {
      "application/vnd.jupyter.widget-view+json": {
       "model_id": "3cc3dd4b79884b83a98878f8bd64e5b0",
       "version_major": 2,
       "version_minor": 0
      },
      "text/plain": [
       "Tab(children=(Output(layout=Layout(max_height='600px', max_width='940px', overflow='scroll')), Output(layout=L…"
      ]
     },
     "metadata": {},
     "output_type": "display_data"
    }
   ],
   "source": [
    "%%gremlin\n",
    "g.V('P-59').out()"
   ]
  },
  {
   "cell_type": "markdown",
   "id": "1d91263c-336b-4d40-8367-86630ace343e",
   "metadata": {},
   "source": [
    "# Show Edge details = from Person => Account (account_id)"
   ]
  },
  {
   "cell_type": "code",
   "execution_count": 4,
   "id": "5f04a795-fbc2-4c08-a7f0-9f6d65284ab4",
   "metadata": {
    "tags": []
   },
   "outputs": [
    {
     "data": {
      "application/vnd.jupyter.widget-view+json": {
       "model_id": "d4eb10b1912842f99bae882bcfcafc12",
       "version_major": 2,
       "version_minor": 0
      },
      "text/plain": [
       "Tab(children=(Output(layout=Layout(max_height='600px', max_width='940px', overflow='scroll')), Output(layout=L…"
      ]
     },
     "metadata": {},
     "output_type": "display_data"
    }
   ],
   "source": [
    "%%gremlin\n",
    "g.V('P-59').out().values('account_id')"
   ]
  },
  {
   "cell_type": "markdown",
   "id": "8f654d0c-7564-4d41-8a46-6fe7a78107e3",
   "metadata": {},
   "source": [
    "# Show Edge details = from Person => Account (account_id)"
   ]
  },
  {
   "cell_type": "code",
   "execution_count": 5,
   "id": "380d1b35-56e9-4681-877d-5db2485f574e",
   "metadata": {
    "tags": []
   },
   "outputs": [
    {
     "data": {
      "application/vnd.jupyter.widget-view+json": {
       "model_id": "9a7e4a35bf314554aabd57ee4337d27f",
       "version_major": 2,
       "version_minor": 0
      },
      "text/plain": [
       "Tab(children=(Output(layout=Layout(max_height='600px', max_width='940px', overflow='scroll')), Output(layout=L…"
      ]
     },
     "metadata": {},
     "output_type": "display_data"
    }
   ],
   "source": [
    "%%gremlin -p v\n",
    "g.V('ACC-620').out()"
   ]
  },
  {
   "cell_type": "markdown",
   "id": "0914ef20-e535-401d-abfd-856697979436",
   "metadata": {},
   "source": [
    "# Show Edge details = from Account FILTER => Card (card_number)"
   ]
  },
  {
   "cell_type": "code",
   "execution_count": 6,
   "id": "1129a218-8447-42f4-8817-ef309bdd3ca3",
   "metadata": {
    "tags": []
   },
   "outputs": [
    {
     "data": {
      "application/vnd.jupyter.widget-view+json": {
       "model_id": "2ad0cd9e031f41b5a4689dab6db6b099",
       "version_major": 2,
       "version_minor": 0
      },
      "text/plain": [
       "Tab(children=(Output(layout=Layout(max_height='600px', max_width='940px', overflow='scroll')), Output(layout=L…"
      ]
     },
     "metadata": {},
     "output_type": "display_data"
    }
   ],
   "source": [
    "%%gremlin -p v\n",
    "g.V('ACC-620').out('issue').has('card_number', eq('111.000.000.266'))"
   ]
  },
  {
   "cell_type": "markdown",
   "id": "7d5dd841-af2e-4148-a064-1cf547d79166",
   "metadata": {},
   "source": [
    "# Show all IN and OUT"
   ]
  },
  {
   "cell_type": "code",
   "execution_count": 15,
   "id": "a0cdb120-8e5d-4940-b881-2022026aaa04",
   "metadata": {
    "tags": []
   },
   "outputs": [
    {
     "data": {
      "application/vnd.jupyter.widget-view+json": {
       "model_id": "8beabb9674154d3d8165bc84d5752c4d",
       "version_major": 2,
       "version_minor": 0
      },
      "text/plain": [
       "Tab(children=(Output(layout=Layout(max_height='600px', max_width='940px', overflow='scroll')), Force(network=<…"
      ]
     },
     "metadata": {},
     "output_type": "display_data"
    }
   ],
   "source": [
    "%%gremlin\n",
    "g.V().has('Card','card_number','111.000.000.266')\n",
    "            .in()\n",
    "            .out()\n",
    "            .valueMap(true)"
   ]
  },
  {
   "cell_type": "markdown",
   "id": "23992db3-d6a0-4eef-9ac5-574a52ddbc3f",
   "metadata": {},
   "source": [
    "# Exclude a item from get"
   ]
  },
  {
   "cell_type": "code",
   "execution_count": 20,
   "id": "b52792d9-c98b-4711-8ea1-31e6211fc362",
   "metadata": {
    "tags": []
   },
   "outputs": [
    {
     "data": {
      "application/vnd.jupyter.widget-view+json": {
       "model_id": "40ed78f510d9446d9f2a20807ca1781d",
       "version_major": 2,
       "version_minor": 0
      },
      "text/plain": [
       "Tab(children=(Output(layout=Layout(max_height='600px', max_width='940px', overflow='scroll')), Force(network=<…"
      ]
     },
     "metadata": {},
     "output_type": "display_data"
    }
   ],
   "source": [
    "%%gremlin\n",
    "g.V().has('Card','card_number','111.000.000.266')\n",
    "            .as('exclude')\n",
    "            .in()\n",
    "            .out()\n",
    "            .where(neq('exclude'))\n",
    "            .valueMap(true)"
   ]
  },
  {
   "cell_type": "markdown",
   "id": "328a6624-73b1-430b-abc8-a560fe091df4",
   "metadata": {
    "tags": []
   },
   "source": [
    "# Show all IN "
   ]
  },
  {
   "cell_type": "code",
   "execution_count": 46,
   "id": "5779838d-b292-4a22-9d2b-0716bd2fe828",
   "metadata": {
    "tags": []
   },
   "outputs": [
    {
     "data": {
      "application/vnd.jupyter.widget-view+json": {
       "model_id": "2e08c3f4919742de92f721fc41e82aec",
       "version_major": 2,
       "version_minor": 0
      },
      "text/plain": [
       "Tab(children=(Output(layout=Layout(max_height='600px', max_width='940px', overflow='scroll')), Force(network=<…"
      ]
     },
     "metadata": {},
     "output_type": "display_data"
    }
   ],
   "source": [
    "%%gremlin\n",
    "g.V().has('Card','card_number','111.000.000.266')\n",
    "            .in()\n",
    "            .valueMap(true)"
   ]
  },
  {
   "cell_type": "markdown",
   "id": "7b7fcfb5-5100-45e4-8444-30dd3b6e03cb",
   "metadata": {},
   "source": [
    "# Transverse - Step util Card - select"
   ]
  },
  {
   "cell_type": "code",
   "execution_count": 65,
   "id": "e5ab7fc4-e087-4542-8748-52ffa1b02332",
   "metadata": {
    "tags": []
   },
   "outputs": [
    {
     "data": {
      "application/vnd.jupyter.widget-view+json": {
       "model_id": "10277f22cc3c40f58357ea735e2983d7",
       "version_major": 2,
       "version_minor": 0
      },
      "text/plain": [
       "Tab(children=(Output(layout=Layout(max_height='600px', max_width='940px', overflow='scroll')), Output(layout=L…"
      ]
     },
     "metadata": {},
     "output_type": "display_data"
    }
   ],
   "source": [
    "%%gremlin -p v,oute,inv,oute,inv,oute,inv\n",
    "\n",
    "g.V().has('Person','person_id','P-2').as('step-1')\n",
    "                .out().as('step-2')\n",
    "                .out().as('step-3')\n",
    "                .select('step-1','step-2','step-3')"
   ]
  },
  {
   "cell_type": "code",
   "execution_count": 66,
   "id": "8f41e284-51a2-44f0-9309-1bf9bb6dd2f1",
   "metadata": {
    "tags": []
   },
   "outputs": [
    {
     "data": {
      "application/vnd.jupyter.widget-view+json": {
       "model_id": "784a06cff8d14aa4afbefcd6d69544c2",
       "version_major": 2,
       "version_minor": 0
      },
      "text/plain": [
       "Tab(children=(Output(layout=Layout(max_height='600px', max_width='940px', overflow='scroll')), Force(network=<…"
      ]
     },
     "metadata": {},
     "output_type": "display_data"
    }
   ],
   "source": [
    "%%gremlin -p v,oute,inv,oute,inv,oute,inv\n",
    "g.V().has('Person','person_id','P-2')\n",
    "                .outE()\n",
    "                .inV()\n",
    "                .outE()\n",
    "                .inV()\n",
    "                .path().by(valueMap(true))"
   ]
  },
  {
   "cell_type": "code",
   "execution_count": 79,
   "id": "9f3217fb-4c96-4e3d-9837-26149033b218",
   "metadata": {
    "tags": []
   },
   "outputs": [
    {
     "data": {
      "application/vnd.jupyter.widget-view+json": {
       "model_id": "c5df6387297d465984bf20abf6a84516",
       "version_major": 2,
       "version_minor": 0
      },
      "text/plain": [
       "Tab(children=(Output(layout=Layout(max_height='600px', max_width='940px', overflow='scroll')), Force(network=<…"
      ]
     },
     "metadata": {},
     "output_type": "display_data"
    }
   ],
   "source": [
    "%%gremlin v,oute,inv,oute,inv,oute,inv\n",
    "g.V().has('Card','card_number','111.000.000.266')\n",
    "            .in()\n",
    "            .outE()\n",
    "            .inV()\n",
    "            .path()\n",
    "            .by()"
   ]
  },
  {
   "cell_type": "code",
   "execution_count": 115,
   "id": "79395fc2-d823-4e72-8ce3-8b2818275b0c",
   "metadata": {
    "tags": []
   },
   "outputs": [
    {
     "data": {
      "application/vnd.jupyter.widget-view+json": {
       "model_id": "02425144982045518603515cabfc9809",
       "version_major": 2,
       "version_minor": 0
      },
      "text/plain": [
       "Tab(children=(Output(layout=Layout(max_height='600px', max_width='940px', overflow='scroll')), Force(network=<…"
      ]
     },
     "metadata": {},
     "output_type": "display_data"
    }
   ],
   "source": [
    "%%gremlin -p v,oute,inv,oute,inv,inv,oute\n",
    "g.V().has('Person','person_id','P-59')\n",
    "                .outE()\n",
    "                .inV()\n",
    "                .outE()\n",
    "                .inV()\n",
    "                .in('pay_with')\n",
    "                .outE()\n",
    "                .inV()\n",
    "                .path().by(valueMap(true))"
   ]
  },
  {
   "cell_type": "markdown",
   "id": "4bd8ef23-21cc-4655-b7e3-6e7cfdcf6382",
   "metadata": {},
   "source": [
    "# Group by"
   ]
  },
  {
   "cell_type": "code",
   "execution_count": 67,
   "id": "e914d451-e32c-469e-af49-b505ca4d147f",
   "metadata": {
    "tags": []
   },
   "outputs": [
    {
     "data": {
      "application/vnd.jupyter.widget-view+json": {
       "model_id": "0f181bf6f4a1480184c99861cfa29211",
       "version_major": 2,
       "version_minor": 0
      },
      "text/plain": [
       "Tab(children=(Output(layout=Layout(max_height='600px', max_width='940px', overflow='scroll')), Output(layout=L…"
      ]
     },
     "metadata": {},
     "output_type": "display_data"
    }
   ],
   "source": [
    "%%gremlin \n",
    "g.V().group().by(label)"
   ]
  },
  {
   "cell_type": "code",
   "execution_count": 68,
   "id": "6c522746-f621-4a4b-a737-ceffec996ec9",
   "metadata": {
    "tags": []
   },
   "outputs": [
    {
     "data": {
      "application/vnd.jupyter.widget-view+json": {
       "model_id": "f7acdeaa96bc4bb2a8c1f34aca365bf6",
       "version_major": 2,
       "version_minor": 0
      },
      "text/plain": [
       "Tab(children=(Output(layout=Layout(max_height='600px', max_width='940px', overflow='scroll')), Output(layout=L…"
      ]
     },
     "metadata": {},
     "output_type": "display_data"
    }
   ],
   "source": [
    "%%gremlin \n",
    "g.V().group().by(label).by('person_name')"
   ]
  },
  {
   "cell_type": "code",
   "execution_count": null,
   "id": "bae2ec29-e785-430e-bf3c-07207f014374",
   "metadata": {},
   "outputs": [],
   "source": []
  }
 ],
 "metadata": {
  "kernelspec": {
   "display_name": "Python 3",
   "language": "python",
   "name": "python3"
  },
  "language_info": {
   "codemirror_mode": {
    "name": "ipython",
    "version": 3
   },
   "file_extension": ".py",
   "mimetype": "text/x-python",
   "name": "python",
   "nbconvert_exporter": "python",
   "pygments_lexer": "ipython3",
   "version": "3.8.10"
  }
 },
 "nbformat": 4,
 "nbformat_minor": 5
}
